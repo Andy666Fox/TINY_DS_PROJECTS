{
 "cells": [
  {
   "cell_type": "code",
   "execution_count": 1,
   "metadata": {},
   "outputs": [],
   "source": [
    "import os \n",
    "import librosa\n",
    "import math \n",
    "import json\n",
    "import matplotlib.pyplot as plt \n",
    "import numpy as np "
   ]
  },
  {
   "cell_type": "code",
   "execution_count": 66,
   "metadata": {},
   "outputs": [],
   "source": [
    "dataset_path = r'./input/notes_v2'\n",
    "json_path = r'data.json'\n",
    "SAMPLE_RATE = 44100\n",
    "\n",
    "#DURATION = 1\n",
    "#SAMPLES_PER_TRACK = SAMPLE_RATE * DURATION"
   ]
  },
  {
   "cell_type": "code",
   "execution_count": 160,
   "metadata": {},
   "outputs": [],
   "source": [
    "def save_mfcc(dataset_path, json_path, n_mfcc=10, n_fft=2048,\n",
    "             hop_length=512, num_segments=5):\n",
    "    \n",
    "    # Data storage dictionary\n",
    "    data = {\n",
    "        \"mapping\": [],\n",
    "        \"mfcc\": [],\n",
    "        \"labels\": [],\n",
    "    }\n",
    "    #samples_ps = int(SAMPLES_PER_TRACK/num_segments) # ps = per segment\n",
    "    #expected_vects_ps = int(samples_ps/hop_length)\n",
    "    \n",
    "    # loop through all the genres\n",
    "    for i, (dirpath, dirnames, filenames) in enumerate(os.walk(dataset_path)):\n",
    "        # ensuring not at root\n",
    "        if dirpath is not dataset_path:\n",
    "            # save the semantic label\n",
    "            dirpath_comp = dirpath.split(\"/\")\n",
    "            semantic_label = dirpath_comp[-1]\n",
    "            data[\"mapping\"].append(semantic_label)\n",
    "            print(f\"Processing: {semantic_label}\")\n",
    "            \n",
    "            # process files for specific genre\n",
    "            for f in filenames:\n",
    "                # load audio file\n",
    "                file_path = os.path.join(dirpath, f)\n",
    "                signal,sr = librosa.load(file_path,sr=SAMPLE_RATE)\n",
    "                    \n",
    "                DURATION = len(signal) / sr\n",
    "                SAMPLES_PER_TRACK = SAMPLE_RATE * DURATION\n",
    "                samples_ps = int(SAMPLES_PER_TRACK/num_segments) # ps = per segment\n",
    "                expected_vects_ps = int(samples_ps/hop_length)\n",
    "                    \n",
    "                for s in range(num_segments):\n",
    "                    start_sample = samples_ps * s\n",
    "                    finish_sample = start_sample + samples_ps\n",
    "                    mfcc = librosa.feature.mfcc(signal[start_sample:finish_sample],\n",
    "                                                sr = sr,\n",
    "                                                n_fft = n_fft,\n",
    "                                                n_mfcc = n_mfcc,\n",
    "                                                hop_length = hop_length)\n",
    "                    #mfcc = mfcc.T\n",
    "                    # store mfcc if it has expected length \n",
    "                    data[\"mfcc\"].append(mfcc.tolist())\n",
    "                    data[\"labels\"].append(i-1)\n",
    "                    print(f\"{file_path}, segment: {s+1}\")\n",
    "\n",
    "    with open(json_path,\"w\") as f:\n",
    "        json.dump(data,f,indent=4)"
   ]
  },
  {
   "cell_type": "code",
   "execution_count": 161,
   "metadata": {},
   "outputs": [],
   "source": [
    "from IPython.display import clear_output"
   ]
  },
  {
   "cell_type": "code",
   "execution_count": 162,
   "metadata": {},
   "outputs": [],
   "source": [
    "save_mfcc(dataset_path, json_path)\n",
    "clear_output()"
   ]
  },
  {
   "cell_type": "code",
   "execution_count": 164,
   "metadata": {},
   "outputs": [],
   "source": [
    "def load_data(dataset_path):\n",
    "    with open(dataset_path, 'r') as f:\n",
    "        data = json.load(f)\n",
    "        \n",
    "    inputs = np.array(data['mfcc'])\n",
    "    targets = np.array(data['labels'])\n",
    "    \n",
    "    return inputs, targets"
   ]
  },
  {
   "cell_type": "code",
   "execution_count": 177,
   "metadata": {},
   "outputs": [
    {
     "name": "stderr",
     "output_type": "stream",
     "text": [
      "C:\\Users\\GODOVO~1\\AppData\\Local\\Temp/ipykernel_10548/4225200253.py:5: VisibleDeprecationWarning: Creating an ndarray from ragged nested sequences (which is a list-or-tuple of lists-or-tuples-or ndarrays with different lengths or shapes) is deprecated. If you meant to do this, you must specify 'dtype=object' when creating the ndarray.\n",
      "  inputs = np.array(data['mfcc'])\n"
     ]
    }
   ],
   "source": [
    "inputs, targets = load_data(r'./data.json')"
   ]
  },
  {
   "cell_type": "code",
   "execution_count": 179,
   "metadata": {},
   "outputs": [
    {
     "ename": "ValueError",
     "evalue": "cannot reshape array of size 3600 into shape (252,10)",
     "output_type": "error",
     "traceback": [
      "\u001b[1;31m---------------------------------------------------------------------------\u001b[0m",
      "\u001b[1;31mValueError\u001b[0m                                Traceback (most recent call last)",
      "\u001b[1;32mC:\\Users\\GODOVO~1\\AppData\\Local\\Temp/ipykernel_10548/4168338886.py\u001b[0m in \u001b[0;36m<module>\u001b[1;34m\u001b[0m\n\u001b[1;32m----> 1\u001b[1;33m \u001b[0minputs\u001b[0m \u001b[1;33m=\u001b[0m \u001b[0minputs\u001b[0m\u001b[1;33m.\u001b[0m\u001b[0mreshape\u001b[0m\u001b[1;33m(\u001b[0m\u001b[1;33m-\u001b[0m\u001b[1;36m1\u001b[0m\u001b[1;33m)\u001b[0m\u001b[1;33m.\u001b[0m\u001b[0mreshape\u001b[0m\u001b[1;33m(\u001b[0m\u001b[1;36m252\u001b[0m\u001b[1;33m,\u001b[0m \u001b[1;36m10\u001b[0m\u001b[1;33m)\u001b[0m\u001b[1;33m\u001b[0m\u001b[1;33m\u001b[0m\u001b[0m\n\u001b[0m",
      "\u001b[1;31mValueError\u001b[0m: cannot reshape array of size 3600 into shape (252,10)"
     ]
    }
   ],
   "source": [
    "inputs = inputs.reshape(-1)"
   ]
  },
  {
   "cell_type": "code",
   "execution_count": 175,
   "metadata": {},
   "outputs": [
    {
     "data": {
      "text/plain": [
       "(3600,)"
      ]
     },
     "execution_count": 175,
     "metadata": {},
     "output_type": "execute_result"
    }
   ],
   "source": [
    "inputs"
   ]
  },
  {
   "cell_type": "code",
   "execution_count": 172,
   "metadata": {},
   "outputs": [
    {
     "name": "stdout",
     "output_type": "stream",
     "text": [
      "(252, 10, 1) (252,)\n"
     ]
    }
   ],
   "source": [
    "from sklearn.model_selection import train_test_split\n",
    "\n",
    "input_train, input_test, target_train, target_test = train_test_split(inputs, targets, test_size=0.3)\n",
    "print(input_train.shape, target_train.shape)"
   ]
  },
  {
   "cell_type": "code",
   "execution_count": null,
   "metadata": {},
   "outputs": [],
   "source": []
  }
 ],
 "metadata": {
  "interpreter": {
   "hash": "745580af149099085c602309336f96fdb3d04063157b41704fe01950326166b1"
  },
  "kernelspec": {
   "display_name": "Python 3.8.8 ('base')",
   "language": "python",
   "name": "python3"
  },
  "language_info": {
   "codemirror_mode": {
    "name": "ipython",
    "version": 3
   },
   "file_extension": ".py",
   "mimetype": "text/x-python",
   "name": "python",
   "nbconvert_exporter": "python",
   "pygments_lexer": "ipython3",
   "version": "3.8.8"
  },
  "orig_nbformat": 4
 },
 "nbformat": 4,
 "nbformat_minor": 2
}

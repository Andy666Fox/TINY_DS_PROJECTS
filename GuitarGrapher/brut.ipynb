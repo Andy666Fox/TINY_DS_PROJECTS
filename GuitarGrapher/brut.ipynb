{
 "cells": [
  {
   "cell_type": "code",
   "execution_count": 34,
   "metadata": {},
   "outputs": [
    {
     "name": "stderr",
     "output_type": "stream",
     "text": [
      "C:\\Users\\GODOVO~1\\AppData\\Local\\Temp/ipykernel_10320/122874202.py:20: DeprecationWarning: The binary mode of fromstring is deprecated, as it behaves surprisingly on unicode inputs. Use frombuffer instead\n",
      "  indata = np.fromstring(stream.read(CHUNK),dtype=np.int16)\n"
     ]
    },
    {
     "name": "stdout",
     "output_type": "stream",
     "text": [
      "7\n",
      "4\n",
      "4\n",
      "4\n",
      "82\n",
      "82\n",
      "80\n",
      "80\n",
      "80\n",
      "68\n",
      "68\n",
      "8\n",
      "15\n",
      "15\n",
      "15\n",
      "15\n",
      "15\n",
      "15\n",
      "17\n",
      "83\n",
      "83\n",
      "17\n",
      "122\n",
      "83\n",
      "19\n",
      "103\n",
      "70\n",
      "13\n",
      "18\n",
      "83\n",
      "70\n",
      "70\n",
      "70\n"
     ]
    },
    {
     "name": "stderr",
     "output_type": "stream",
     "text": [
      "C:\\Users\\GODOVO~1\\AppData\\Local\\Temp/ipykernel_10320/122874202.py:25: RuntimeWarning: divide by zero encountered in log\n",
      "  to_plot.append(np.log(fftData))\n"
     ]
    },
    {
     "name": "stdout",
     "output_type": "stream",
     "text": [
      "70\n",
      "70\n",
      "8\n",
      "19\n",
      "19\n",
      "18\n",
      "19\n",
      "18\n",
      "18\n",
      "18\n",
      "17\n",
      "18\n",
      "19\n",
      "69\n",
      "68\n",
      "16\n",
      "18\n",
      "25\n",
      "25\n",
      "54\n",
      "53\n",
      "53\n",
      "53\n",
      "52\n",
      "52\n",
      "8\n",
      "72\n",
      "17\n",
      "10\n",
      "10\n",
      "10\n",
      "72\n",
      "10\n",
      "82\n",
      "10\n",
      "20\n",
      "19\n",
      "21\n",
      "20\n",
      "20\n",
      "20\n",
      "18\n",
      "18\n",
      "31\n",
      "31\n",
      "18\n",
      "20\n",
      "21\n",
      "19\n",
      "18\n",
      "18\n",
      "50\n",
      "99\n",
      "99\n",
      "99\n",
      "99\n",
      "25\n",
      "15\n",
      "25\n",
      "65\n",
      "66\n",
      "66\n",
      "66\n",
      "67\n",
      "67\n",
      "68\n",
      "68\n",
      "68\n",
      "67\n",
      "67\n",
      "67\n",
      "66\n",
      "66\n",
      "66\n",
      "65\n",
      "65\n",
      "65\n",
      "65\n",
      "15\n",
      "31\n",
      "67\n",
      "162\n",
      "67\n",
      "8\n",
      "8\n",
      "8\n",
      "52\n",
      "52\n",
      "8\n",
      "3\n",
      "12\n",
      "8\n",
      "4\n",
      "8\n",
      "15\n",
      "88\n",
      "51\n",
      "51\n",
      "4\n",
      "4\n",
      "8\n",
      "8\n",
      "39\n",
      "39\n",
      "39\n",
      "9\n",
      "8\n",
      "8\n",
      "39\n",
      "15\n",
      "39\n",
      "8\n",
      "8\n",
      "39\n",
      "15\n",
      "8\n",
      "8\n",
      "9\n",
      "9\n",
      "39\n",
      "8\n"
     ]
    },
    {
     "ename": "KeyboardInterrupt",
     "evalue": "",
     "output_type": "error",
     "traceback": [
      "\u001b[1;31m---------------------------------------------------------------------------\u001b[0m",
      "\u001b[1;31mKeyboardInterrupt\u001b[0m                         Traceback (most recent call last)",
      "\u001b[1;32mC:\\Users\\GODOVO~1\\AppData\\Local\\Temp/ipykernel_10320/122874202.py\u001b[0m in \u001b[0;36m<module>\u001b[1;34m\u001b[0m\n\u001b[0;32m     18\u001b[0m \u001b[1;33m\u001b[0m\u001b[0m\n\u001b[0;32m     19\u001b[0m \u001b[1;32mwhile\u001b[0m \u001b[1;32mTrue\u001b[0m\u001b[1;33m:\u001b[0m\u001b[1;33m\u001b[0m\u001b[1;33m\u001b[0m\u001b[0m\n\u001b[1;32m---> 20\u001b[1;33m     \u001b[0mindata\u001b[0m \u001b[1;33m=\u001b[0m \u001b[0mnp\u001b[0m\u001b[1;33m.\u001b[0m\u001b[0mfromstring\u001b[0m\u001b[1;33m(\u001b[0m\u001b[0mstream\u001b[0m\u001b[1;33m.\u001b[0m\u001b[0mread\u001b[0m\u001b[1;33m(\u001b[0m\u001b[0mCHUNK\u001b[0m\u001b[1;33m)\u001b[0m\u001b[1;33m,\u001b[0m\u001b[0mdtype\u001b[0m\u001b[1;33m=\u001b[0m\u001b[0mnp\u001b[0m\u001b[1;33m.\u001b[0m\u001b[0mint16\u001b[0m\u001b[1;33m)\u001b[0m\u001b[1;33m\u001b[0m\u001b[1;33m\u001b[0m\u001b[0m\n\u001b[0m\u001b[0;32m     21\u001b[0m \u001b[1;33m\u001b[0m\u001b[0m\n\u001b[0;32m     22\u001b[0m     \u001b[1;31m# Take the fft and square each value\u001b[0m\u001b[1;33m\u001b[0m\u001b[1;33m\u001b[0m\u001b[1;33m\u001b[0m\u001b[0m\n",
      "\u001b[1;32m~\\Anaconda3\\lib\\site-packages\\pyaudio.py\u001b[0m in \u001b[0;36mread\u001b[1;34m(self, num_frames, exception_on_overflow)\u001b[0m\n\u001b[0;32m    606\u001b[0m                           paCanNotReadFromAnOutputOnlyStream)\n\u001b[0;32m    607\u001b[0m \u001b[1;33m\u001b[0m\u001b[0m\n\u001b[1;32m--> 608\u001b[1;33m         \u001b[1;32mreturn\u001b[0m \u001b[0mpa\u001b[0m\u001b[1;33m.\u001b[0m\u001b[0mread_stream\u001b[0m\u001b[1;33m(\u001b[0m\u001b[0mself\u001b[0m\u001b[1;33m.\u001b[0m\u001b[0m_stream\u001b[0m\u001b[1;33m,\u001b[0m \u001b[0mnum_frames\u001b[0m\u001b[1;33m,\u001b[0m \u001b[0mexception_on_overflow\u001b[0m\u001b[1;33m)\u001b[0m\u001b[1;33m\u001b[0m\u001b[1;33m\u001b[0m\u001b[0m\n\u001b[0m\u001b[0;32m    609\u001b[0m \u001b[1;33m\u001b[0m\u001b[0m\n\u001b[0;32m    610\u001b[0m     \u001b[1;32mdef\u001b[0m \u001b[0mget_read_available\u001b[0m\u001b[1;33m(\u001b[0m\u001b[0mself\u001b[0m\u001b[1;33m)\u001b[0m\u001b[1;33m:\u001b[0m\u001b[1;33m\u001b[0m\u001b[1;33m\u001b[0m\u001b[0m\n",
      "\u001b[1;31mKeyboardInterrupt\u001b[0m: "
     ]
    }
   ],
   "source": [
    "import pyaudio\n",
    "import numpy as np\n",
    "import matplotlib.pyplot as plt\n",
    " \n",
    "CHUNK = 4096 # number of data points to read at a time\n",
    "RATE = 44100 # time resolution of the recording device (Hz)\n",
    "#DEVICE = 0 # default\n",
    " \n",
    "p = pyaudio.PyAudio()\n",
    " \n",
    "stream=p.open(format=pyaudio.paInt16,\n",
    "              channels=2,\n",
    "              rate=RATE,\n",
    "              input=True,\n",
    "              frames_per_buffer=CHUNK)\n",
    "\n",
    "to_plot = []\n",
    " \n",
    "while True:\n",
    "    indata = np.fromstring(stream.read(CHUNK),dtype=np.int16)\n",
    " \n",
    "    # Take the fft and square each value\n",
    "    fftData=abs(np.fft.rfft(indata))**2\n",
    "    # find the maximum\n",
    "    to_plot.append(np.log(fftData))\n",
    "    which = fftData[1:].argmax() + 1\n",
    "    # use quadratic interpolation around the max\n",
    "    print(which)"
   ]
  },
  {
   "cell_type": "code",
   "execution_count": 35,
   "metadata": {},
   "outputs": [
    {
     "data": {
      "text/plain": [
       "[<matplotlib.lines.Line2D at 0x266b89017c0>]"
      ]
     },
     "execution_count": 35,
     "metadata": {},
     "output_type": "execute_result"
    },
    {
     "data": {
      "image/png": "[encoded data removed]",
      "text/plain": [
       "<Figure size 432x288 with 1 Axes>"
      ]
     },
     "metadata": {
      "needs_background": "light"
     },
     "output_type": "display_data"
    }
   ],
   "source": [
    "plt.xlabel('Time(seconds)')\n",
    "plt.ylabel('Max value')\n",
    "\n",
    "plt.plot([max(x) for x in to_plot])"
   ]
  },
  {
   "cell_type": "code",
   "execution_count": null,
   "metadata": {},
   "outputs": [],
   "source": [
    "if which != len(fftData)-1:\n",
    "        y0,y1,y2 = np.log(fftData[which-1:which+2:])\n",
    "        x1 = (y2 - y0) * .5 / (2 * y1 - y2 - y0)\n",
    "        # find the frequency and output it\n",
    "        thefreq = (which+x1)*RATE/CHUNK\n",
    "        print(\"The freq is %f Hz.\" % (thefreq))\n",
    "    else:\n",
    "        thefreq = which*RATE/CHUNK\n",
    "        print(\"The freq is %f Hz.\" % (thefreq))"
   ]
  }
 ],
 "metadata": {
  "interpreter": {
   "hash": "745580af149099085c602309336f96fdb3d04063157b41704fe01950326166b1"
  },
  "kernelspec": {
   "display_name": "Python 3.8.8 ('base')",
   "language": "python",
   "name": "python3"
  },
  "language_info": {
   "codemirror_mode": {
    "name": "ipython",
    "version": 3
   },
   "file_extension": ".py",
   "mimetype": "text/x-python",
   "name": "python",
   "nbconvert_exporter": "python",
   "pygments_lexer": "ipython3",
   "version": "3.8.8"
  },
  "orig_nbformat": 4
 },
 "nbformat": 4,
 "nbformat_minor": 2
}

{
 "cells": [
  {
   "cell_type": "code",
   "execution_count": 1,
   "source": [
    "import pandas as pd\r\n",
    "import numpy as np\r\n",
    "import matplotlib.pyplot as plt \r\n",
    "import seaborn as sns\r\n",
    "%matplotlib inline\r\n",
    "\r\n",
    "from plotly.offline import plot, iplot, init_notebook_mode\r\n",
    "import plotly.graph_objs as go\r\n",
    "\r\n",
    "init_notebook_mode(connected=True)"
   ],
   "outputs": [
    {
     "output_type": "display_data",
     "data": {
      "text/html": [
       "        <script type=\"text/javascript\">\n",
       "        window.PlotlyConfig = {MathJaxConfig: 'local'};\n",
       "        if (window.MathJax) {MathJax.Hub.Config({SVG: {font: \"STIX-Web\"}});}\n",
       "        if (typeof require !== 'undefined') {\n",
       "        require.undef(\"plotly\");\n",
       "        requirejs.config({\n",
       "            paths: {\n",
       "                'plotly': ['https://cdn.plot.ly/plotly-2.4.2.min']\n",
       "            }\n",
       "        });\n",
       "        require(['plotly'], function(Plotly) {\n",
       "            window._Plotly = Plotly;\n",
       "        });\n",
       "        }\n",
       "        </script>\n",
       "        "
      ]
     },
     "metadata": {}
    }
   ],
   "metadata": {}
  },
  {
   "cell_type": "code",
   "execution_count": 2,
   "source": [
    "df = pd.read_csv('./input/netflix_titles.csv')\r\n",
    "df.head()"
   ],
   "outputs": [
    {
     "output_type": "execute_result",
     "data": {
      "text/html": [
       "<div>\n",
       "<style scoped>\n",
       "    .dataframe tbody tr th:only-of-type {\n",
       "        vertical-align: middle;\n",
       "    }\n",
       "\n",
       "    .dataframe tbody tr th {\n",
       "        vertical-align: top;\n",
       "    }\n",
       "\n",
       "    .dataframe thead th {\n",
       "        text-align: right;\n",
       "    }\n",
       "</style>\n",
       "<table border=\"1\" class=\"dataframe\">\n",
       "  <thead>\n",
       "    <tr style=\"text-align: right;\">\n",
       "      <th></th>\n",
       "      <th>show_id</th>\n",
       "      <th>type</th>\n",
       "      <th>title</th>\n",
       "      <th>director</th>\n",
       "      <th>cast</th>\n",
       "      <th>country</th>\n",
       "      <th>date_added</th>\n",
       "      <th>release_year</th>\n",
       "      <th>rating</th>\n",
       "      <th>duration</th>\n",
       "      <th>listed_in</th>\n",
       "      <th>description</th>\n",
       "    </tr>\n",
       "  </thead>\n",
       "  <tbody>\n",
       "    <tr>\n",
       "      <th>0</th>\n",
       "      <td>s1</td>\n",
       "      <td>TV Show</td>\n",
       "      <td>3%</td>\n",
       "      <td>NaN</td>\n",
       "      <td>João Miguel, Bianca Comparato, Michel Gomes, R...</td>\n",
       "      <td>Brazil</td>\n",
       "      <td>August 14, 2020</td>\n",
       "      <td>2020</td>\n",
       "      <td>TV-MA</td>\n",
       "      <td>4 Seasons</td>\n",
       "      <td>International TV Shows, TV Dramas, TV Sci-Fi &amp;...</td>\n",
       "      <td>In a future where the elite inhabit an island ...</td>\n",
       "    </tr>\n",
       "    <tr>\n",
       "      <th>1</th>\n",
       "      <td>s2</td>\n",
       "      <td>Movie</td>\n",
       "      <td>7:19</td>\n",
       "      <td>Jorge Michel Grau</td>\n",
       "      <td>Demián Bichir, Héctor Bonilla, Oscar Serrano, ...</td>\n",
       "      <td>Mexico</td>\n",
       "      <td>December 23, 2016</td>\n",
       "      <td>2016</td>\n",
       "      <td>TV-MA</td>\n",
       "      <td>93 min</td>\n",
       "      <td>Dramas, International Movies</td>\n",
       "      <td>After a devastating earthquake hits Mexico Cit...</td>\n",
       "    </tr>\n",
       "    <tr>\n",
       "      <th>2</th>\n",
       "      <td>s3</td>\n",
       "      <td>Movie</td>\n",
       "      <td>23:59</td>\n",
       "      <td>Gilbert Chan</td>\n",
       "      <td>Tedd Chan, Stella Chung, Henley Hii, Lawrence ...</td>\n",
       "      <td>Singapore</td>\n",
       "      <td>December 20, 2018</td>\n",
       "      <td>2011</td>\n",
       "      <td>R</td>\n",
       "      <td>78 min</td>\n",
       "      <td>Horror Movies, International Movies</td>\n",
       "      <td>When an army recruit is found dead, his fellow...</td>\n",
       "    </tr>\n",
       "    <tr>\n",
       "      <th>3</th>\n",
       "      <td>s4</td>\n",
       "      <td>Movie</td>\n",
       "      <td>9</td>\n",
       "      <td>Shane Acker</td>\n",
       "      <td>Elijah Wood, John C. Reilly, Jennifer Connelly...</td>\n",
       "      <td>United States</td>\n",
       "      <td>November 16, 2017</td>\n",
       "      <td>2009</td>\n",
       "      <td>PG-13</td>\n",
       "      <td>80 min</td>\n",
       "      <td>Action &amp; Adventure, Independent Movies, Sci-Fi...</td>\n",
       "      <td>In a postapocalyptic world, rag-doll robots hi...</td>\n",
       "    </tr>\n",
       "    <tr>\n",
       "      <th>4</th>\n",
       "      <td>s5</td>\n",
       "      <td>Movie</td>\n",
       "      <td>21</td>\n",
       "      <td>Robert Luketic</td>\n",
       "      <td>Jim Sturgess, Kevin Spacey, Kate Bosworth, Aar...</td>\n",
       "      <td>United States</td>\n",
       "      <td>January 1, 2020</td>\n",
       "      <td>2008</td>\n",
       "      <td>PG-13</td>\n",
       "      <td>123 min</td>\n",
       "      <td>Dramas</td>\n",
       "      <td>A brilliant group of students become card-coun...</td>\n",
       "    </tr>\n",
       "  </tbody>\n",
       "</table>\n",
       "</div>"
      ],
      "text/plain": [
       "  show_id     type  title           director  \\\n",
       "0      s1  TV Show     3%                NaN   \n",
       "1      s2    Movie   7:19  Jorge Michel Grau   \n",
       "2      s3    Movie  23:59       Gilbert Chan   \n",
       "3      s4    Movie      9        Shane Acker   \n",
       "4      s5    Movie     21     Robert Luketic   \n",
       "\n",
       "                                                cast        country  \\\n",
       "0  João Miguel, Bianca Comparato, Michel Gomes, R...         Brazil   \n",
       "1  Demián Bichir, Héctor Bonilla, Oscar Serrano, ...         Mexico   \n",
       "2  Tedd Chan, Stella Chung, Henley Hii, Lawrence ...      Singapore   \n",
       "3  Elijah Wood, John C. Reilly, Jennifer Connelly...  United States   \n",
       "4  Jim Sturgess, Kevin Spacey, Kate Bosworth, Aar...  United States   \n",
       "\n",
       "          date_added  release_year rating   duration  \\\n",
       "0    August 14, 2020          2020  TV-MA  4 Seasons   \n",
       "1  December 23, 2016          2016  TV-MA     93 min   \n",
       "2  December 20, 2018          2011      R     78 min   \n",
       "3  November 16, 2017          2009  PG-13     80 min   \n",
       "4    January 1, 2020          2008  PG-13    123 min   \n",
       "\n",
       "                                           listed_in  \\\n",
       "0  International TV Shows, TV Dramas, TV Sci-Fi &...   \n",
       "1                       Dramas, International Movies   \n",
       "2                Horror Movies, International Movies   \n",
       "3  Action & Adventure, Independent Movies, Sci-Fi...   \n",
       "4                                             Dramas   \n",
       "\n",
       "                                         description  \n",
       "0  In a future where the elite inhabit an island ...  \n",
       "1  After a devastating earthquake hits Mexico Cit...  \n",
       "2  When an army recruit is found dead, his fellow...  \n",
       "3  In a postapocalyptic world, rag-doll robots hi...  \n",
       "4  A brilliant group of students become card-coun...  "
      ]
     },
     "metadata": {},
     "execution_count": 2
    }
   ],
   "metadata": {}
  },
  {
   "cell_type": "code",
   "execution_count": 3,
   "source": [
    "df1 = df.copy()"
   ],
   "outputs": [],
   "metadata": {}
  },
  {
   "cell_type": "code",
   "execution_count": 4,
   "source": [
    "for i in df.columns:\r\n",
    "    null_rate = df[i].isna().sum() / len(df) * 100\r\n",
    "    if null_rate > 0:\r\n",
    "        print(f'{i} null_rate: {round(null_rate, 2)}%')"
   ],
   "outputs": [
    {
     "output_type": "stream",
     "name": "stdout",
     "text": [
      "director null_rate: 30.68%\n",
      "cast null_rate: 9.22%\n",
      "country null_rate: 6.51%\n",
      "date_added null_rate: 0.13%\n",
      "rating null_rate: 0.09%\n"
     ]
    }
   ],
   "metadata": {}
  },
  {
   "cell_type": "code",
   "execution_count": 5,
   "source": [
    "df['date_added'] = pd.to_datetime(df['date_added'])\r\n",
    "df['year_added'] = df['date_added'].dt.year\r\n",
    "df['month_added'] = df['date_added'].dt.month"
   ],
   "outputs": [],
   "metadata": {}
  },
  {
   "cell_type": "code",
   "execution_count": 6,
   "source": [
    "df['season_count'] = df.apply(lambda x: x['duration'].split(' ')[0] if 'Season' in x['duration'] else '', axis=1)\r\n",
    "df['duration'] = df.apply(lambda x: x['duration'].split(' ')[0] if 'Season' not in x['duration'] else '', axis=1)\r\n",
    "\r\n",
    "df.head()"
   ],
   "outputs": [
    {
     "output_type": "execute_result",
     "data": {
      "text/html": [
       "<div>\n",
       "<style scoped>\n",
       "    .dataframe tbody tr th:only-of-type {\n",
       "        vertical-align: middle;\n",
       "    }\n",
       "\n",
       "    .dataframe tbody tr th {\n",
       "        vertical-align: top;\n",
       "    }\n",
       "\n",
       "    .dataframe thead th {\n",
       "        text-align: right;\n",
       "    }\n",
       "</style>\n",
       "<table border=\"1\" class=\"dataframe\">\n",
       "  <thead>\n",
       "    <tr style=\"text-align: right;\">\n",
       "      <th></th>\n",
       "      <th>show_id</th>\n",
       "      <th>type</th>\n",
       "      <th>title</th>\n",
       "      <th>director</th>\n",
       "      <th>cast</th>\n",
       "      <th>country</th>\n",
       "      <th>date_added</th>\n",
       "      <th>release_year</th>\n",
       "      <th>rating</th>\n",
       "      <th>duration</th>\n",
       "      <th>listed_in</th>\n",
       "      <th>description</th>\n",
       "      <th>year_added</th>\n",
       "      <th>month_added</th>\n",
       "      <th>season_count</th>\n",
       "    </tr>\n",
       "  </thead>\n",
       "  <tbody>\n",
       "    <tr>\n",
       "      <th>0</th>\n",
       "      <td>s1</td>\n",
       "      <td>TV Show</td>\n",
       "      <td>3%</td>\n",
       "      <td>NaN</td>\n",
       "      <td>João Miguel, Bianca Comparato, Michel Gomes, R...</td>\n",
       "      <td>Brazil</td>\n",
       "      <td>2020-08-14</td>\n",
       "      <td>2020</td>\n",
       "      <td>TV-MA</td>\n",
       "      <td></td>\n",
       "      <td>International TV Shows, TV Dramas, TV Sci-Fi &amp;...</td>\n",
       "      <td>In a future where the elite inhabit an island ...</td>\n",
       "      <td>2020.0</td>\n",
       "      <td>8.0</td>\n",
       "      <td>4</td>\n",
       "    </tr>\n",
       "    <tr>\n",
       "      <th>1</th>\n",
       "      <td>s2</td>\n",
       "      <td>Movie</td>\n",
       "      <td>7:19</td>\n",
       "      <td>Jorge Michel Grau</td>\n",
       "      <td>Demián Bichir, Héctor Bonilla, Oscar Serrano, ...</td>\n",
       "      <td>Mexico</td>\n",
       "      <td>2016-12-23</td>\n",
       "      <td>2016</td>\n",
       "      <td>TV-MA</td>\n",
       "      <td>93</td>\n",
       "      <td>Dramas, International Movies</td>\n",
       "      <td>After a devastating earthquake hits Mexico Cit...</td>\n",
       "      <td>2016.0</td>\n",
       "      <td>12.0</td>\n",
       "      <td></td>\n",
       "    </tr>\n",
       "    <tr>\n",
       "      <th>2</th>\n",
       "      <td>s3</td>\n",
       "      <td>Movie</td>\n",
       "      <td>23:59</td>\n",
       "      <td>Gilbert Chan</td>\n",
       "      <td>Tedd Chan, Stella Chung, Henley Hii, Lawrence ...</td>\n",
       "      <td>Singapore</td>\n",
       "      <td>2018-12-20</td>\n",
       "      <td>2011</td>\n",
       "      <td>R</td>\n",
       "      <td>78</td>\n",
       "      <td>Horror Movies, International Movies</td>\n",
       "      <td>When an army recruit is found dead, his fellow...</td>\n",
       "      <td>2018.0</td>\n",
       "      <td>12.0</td>\n",
       "      <td></td>\n",
       "    </tr>\n",
       "    <tr>\n",
       "      <th>3</th>\n",
       "      <td>s4</td>\n",
       "      <td>Movie</td>\n",
       "      <td>9</td>\n",
       "      <td>Shane Acker</td>\n",
       "      <td>Elijah Wood, John C. Reilly, Jennifer Connelly...</td>\n",
       "      <td>United States</td>\n",
       "      <td>2017-11-16</td>\n",
       "      <td>2009</td>\n",
       "      <td>PG-13</td>\n",
       "      <td>80</td>\n",
       "      <td>Action &amp; Adventure, Independent Movies, Sci-Fi...</td>\n",
       "      <td>In a postapocalyptic world, rag-doll robots hi...</td>\n",
       "      <td>2017.0</td>\n",
       "      <td>11.0</td>\n",
       "      <td></td>\n",
       "    </tr>\n",
       "    <tr>\n",
       "      <th>4</th>\n",
       "      <td>s5</td>\n",
       "      <td>Movie</td>\n",
       "      <td>21</td>\n",
       "      <td>Robert Luketic</td>\n",
       "      <td>Jim Sturgess, Kevin Spacey, Kate Bosworth, Aar...</td>\n",
       "      <td>United States</td>\n",
       "      <td>2020-01-01</td>\n",
       "      <td>2008</td>\n",
       "      <td>PG-13</td>\n",
       "      <td>123</td>\n",
       "      <td>Dramas</td>\n",
       "      <td>A brilliant group of students become card-coun...</td>\n",
       "      <td>2020.0</td>\n",
       "      <td>1.0</td>\n",
       "      <td></td>\n",
       "    </tr>\n",
       "  </tbody>\n",
       "</table>\n",
       "</div>"
      ],
      "text/plain": [
       "  show_id     type  title           director  \\\n",
       "0      s1  TV Show     3%                NaN   \n",
       "1      s2    Movie   7:19  Jorge Michel Grau   \n",
       "2      s3    Movie  23:59       Gilbert Chan   \n",
       "3      s4    Movie      9        Shane Acker   \n",
       "4      s5    Movie     21     Robert Luketic   \n",
       "\n",
       "                                                cast        country  \\\n",
       "0  João Miguel, Bianca Comparato, Michel Gomes, R...         Brazil   \n",
       "1  Demián Bichir, Héctor Bonilla, Oscar Serrano, ...         Mexico   \n",
       "2  Tedd Chan, Stella Chung, Henley Hii, Lawrence ...      Singapore   \n",
       "3  Elijah Wood, John C. Reilly, Jennifer Connelly...  United States   \n",
       "4  Jim Sturgess, Kevin Spacey, Kate Bosworth, Aar...  United States   \n",
       "\n",
       "  date_added  release_year rating duration  \\\n",
       "0 2020-08-14          2020  TV-MA            \n",
       "1 2016-12-23          2016  TV-MA       93   \n",
       "2 2018-12-20          2011      R       78   \n",
       "3 2017-11-16          2009  PG-13       80   \n",
       "4 2020-01-01          2008  PG-13      123   \n",
       "\n",
       "                                           listed_in  \\\n",
       "0  International TV Shows, TV Dramas, TV Sci-Fi &...   \n",
       "1                       Dramas, International Movies   \n",
       "2                Horror Movies, International Movies   \n",
       "3  Action & Adventure, Independent Movies, Sci-Fi...   \n",
       "4                                             Dramas   \n",
       "\n",
       "                                         description  year_added  month_added  \\\n",
       "0  In a future where the elite inhabit an island ...      2020.0          8.0   \n",
       "1  After a devastating earthquake hits Mexico Cit...      2016.0         12.0   \n",
       "2  When an army recruit is found dead, his fellow...      2018.0         12.0   \n",
       "3  In a postapocalyptic world, rag-doll robots hi...      2017.0         11.0   \n",
       "4  A brilliant group of students become card-coun...      2020.0          1.0   \n",
       "\n",
       "  season_count  \n",
       "0            4  \n",
       "1               \n",
       "2               \n",
       "3               \n",
       "4               "
      ]
     },
     "metadata": {},
     "execution_count": 6
    }
   ],
   "metadata": {}
  },
  {
   "cell_type": "code",
   "execution_count": 7,
   "source": [
    "df['country'] = df['country'].fillna(df['country'].mode()[0])\r\n",
    "df['cast'].replace(np.nan, 'No data', inplace=True)\r\n",
    "df['director'].replace(np.nan, 'No data', inplace=True)\r\n",
    "df.dropna(inplace=True)\r\n",
    "df.drop_duplicates(inplace=True)"
   ],
   "outputs": [],
   "metadata": {}
  },
  {
   "cell_type": "code",
   "execution_count": 8,
   "source": [
    "for i in df.columns:\r\n",
    "    null_rate = df[i].isna().sum() / len(df) * 100\r\n",
    "    if null_rate > 0:\r\n",
    "        print(f'{i} null_rate: {round(null_rate,2)}%')\r\n",
    "        \r\n",
    "print('Wow!, nothing. Wonderfull!')"
   ],
   "outputs": [
    {
     "output_type": "stream",
     "name": "stdout",
     "text": [
      "Wow!, nothing. Wonderfull!\n"
     ]
    }
   ],
   "metadata": {}
  },
  {
   "cell_type": "code",
   "execution_count": 9,
   "source": [
    "sns.palplot(['#221f1f', '#b20710', '#e50914', '#f5f5f1'])\r\n",
    "plt.title('Netflix Brand Palette', loc='right', fontfamily='serif', fontsize=15, y=1.2)\r\n",
    "plt.show()"
   ],
   "outputs": [
    {
     "output_type": "display_data",
     "data": {
      "image/png": "[encoded data removed]",
      "text/plain": [
       "<Figure size 288x72 with 1 Axes>"
      ]
     },
     "metadata": {
      "needs_background": "light"
     }
    }
   ],
   "metadata": {}
  },
  {
   "cell_type": "code",
   "execution_count": 10,
   "source": [
    "col = 'type'\r\n",
    "grouped = df[col].value_counts().reset_index()\r\n",
    "grouped = grouped.rename(columns= {col: 'count', 'index':col})"
   ],
   "outputs": [],
   "metadata": {}
  },
  {
   "cell_type": "code",
   "execution_count": 11,
   "source": [
    "trace = go.Pie(labels=grouped[col], values=grouped['count'], pull=[0.05, 0], marker=dict(colors=[\"#b20710\", \"#f5f780\"]))\r\n",
    "layout = go.Layout(title='', height=400, legend=dict(x=0.1, y=1.1))\r\n",
    "fig = go.Figure(data=[trace], layout=layout)\r\n",
    "iplot(fig)"
   ],
   "outputs": [
    {
     "output_type": "display_data",
     "data": {
      "application/vnd.plotly.v1+json": {
       "config": {
        "linkText": "Export to plot.ly",
        "plotlyServerURL": "https://plot.ly",
        "showLink": false
       },
       "data": [
        {
         "labels": [
          "Movie",
          "TV Show"
         ],
         "marker": {
          "colors": [
           "#b20710",
           "#f5f780"
          ]
         },
         "pull": [
          0.05,
          0
         ],
         "type": "pie",
         "values": [
          5372,
          2398
         ]
        }
       ],
       "layout": {
        "height": 400,
        "legend": {
         "x": 0.1,
         "y": 1.1
        },
        "template": {
         "data": {
          "bar": [
           {
            "error_x": {
             "color": "#2a3f5f"
            },
            "error_y": {
             "color": "#2a3f5f"
            },
            "marker": {
             "line": {
              "color": "#E5ECF6",
              "width": 0.5
             },
             "pattern": {
              "fillmode": "overlay",
              "size": 10,
              "solidity": 0.2
             }
            },
            "type": "bar"
           }
          ],
          "barpolar": [
           {
            "marker": {
             "line": {
              "color": "#E5ECF6",
              "width": 0.5
             },
             "pattern": {
              "fillmode": "overlay",
              "size": 10,
              "solidity": 0.2
             }
            },
            "type": "barpolar"
           }
          ],
          "carpet": [
           {
            "aaxis": {
             "endlinecolor": "#2a3f5f",
             "gridcolor": "white",
             "linecolor": "white",
             "minorgridcolor": "white",
             "startlinecolor": "#2a3f5f"
            },
            "baxis": {
             "endlinecolor": "#2a3f5f",
             "gridcolor": "white",
             "linecolor": "white",
             "minorgridcolor": "white",
             "startlinecolor": "#2a3f5f"
            },
            "type": "carpet"
           }
          ],
          "choropleth": [
           {
            "colorbar": {
             "outlinewidth": 0,
             "ticks": ""
            },
            "type": "choropleth"
           }
          ],
          "contour": [
           {
            "colorbar": {
             "outlinewidth": 0,
             "ticks": ""
            },
            "colorscale": [
             [
              0,
              "#0d0887"
             ],
             [
              0.1111111111111111,
              "#46039f"
             ],
             [
              0.2222222222222222,
              "#7201a8"
             ],
             [
              0.3333333333333333,
              "#9c179e"
             ],
             [
              0.4444444444444444,
              "#bd3786"
             ],
             [
              0.5555555555555556,
              "#d8576b"
             ],
             [
              0.6666666666666666,
              "#ed7953"
             ],
             [
              0.7777777777777778,
              "#fb9f3a"
             ],
             [
              0.8888888888888888,
              "#fdca26"
             ],
             [
              1,
              "#f0f921"
             ]
            ],
            "type": "contour"
           }
          ],
          "contourcarpet": [
           {
            "colorbar": {
             "outlinewidth": 0,
             "ticks": ""
            },
            "type": "contourcarpet"
           }
          ],
          "heatmap": [
           {
            "colorbar": {
             "outlinewidth": 0,
             "ticks": ""
            },
            "colorscale": [
             [
              0,
              "#0d0887"
             ],
             [
              0.1111111111111111,
              "#46039f"
             ],
             [
              0.2222222222222222,
              "#7201a8"
             ],
             [
              0.3333333333333333,
              "#9c179e"
             ],
             [
              0.4444444444444444,
              "#bd3786"
             ],
             [
              0.5555555555555556,
              "#d8576b"
             ],
             [
              0.6666666666666666,
              "#ed7953"
             ],
             [
              0.7777777777777778,
              "#fb9f3a"
             ],
             [
              0.8888888888888888,
              "#fdca26"
             ],
             [
              1,
              "#f0f921"
             ]
            ],
            "type": "heatmap"
           }
          ],
          "heatmapgl": [
           {
            "colorbar": {
             "outlinewidth": 0,
             "ticks": ""
            },
            "colorscale": [
             [
              0,
              "#0d0887"
             ],
             [
              0.1111111111111111,
              "#46039f"
             ],
             [
              0.2222222222222222,
              "#7201a8"
             ],
             [
              0.3333333333333333,
              "#9c179e"
             ],
             [
              0.4444444444444444,
              "#bd3786"
             ],
             [
              0.5555555555555556,
              "#d8576b"
             ],
             [
              0.6666666666666666,
              "#ed7953"
             ],
             [
              0.7777777777777778,
              "#fb9f3a"
             ],
             [
              0.8888888888888888,
              "#fdca26"
             ],
             [
              1,
              "#f0f921"
             ]
            ],
            "type": "heatmapgl"
           }
          ],
          "histogram": [
           {
            "marker": {
             "pattern": {
              "fillmode": "overlay",
              "size": 10,
              "solidity": 0.2
             }
            },
            "type": "histogram"
           }
          ],
          "histogram2d": [
           {
            "colorbar": {
             "outlinewidth": 0,
             "ticks": ""
            },
            "colorscale": [
             [
              0,
              "#0d0887"
             ],
             [
              0.1111111111111111,
              "#46039f"
             ],
             [
              0.2222222222222222,
              "#7201a8"
             ],
             [
              0.3333333333333333,
              "#9c179e"
             ],
             [
              0.4444444444444444,
              "#bd3786"
             ],
             [
              0.5555555555555556,
              "#d8576b"
             ],
             [
              0.6666666666666666,
              "#ed7953"
             ],
             [
              0.7777777777777778,
              "#fb9f3a"
             ],
             [
              0.8888888888888888,
              "#fdca26"
             ],
             [
              1,
              "#f0f921"
             ]
            ],
            "type": "histogram2d"
           }
          ],
          "histogram2dcontour": [
           {
            "colorbar": {
             "outlinewidth": 0,
             "ticks": ""
            },
            "colorscale": [
             [
              0,
              "#0d0887"
             ],
             [
              0.1111111111111111,
              "#46039f"
             ],
             [
              0.2222222222222222,
              "#7201a8"
             ],
             [
              0.3333333333333333,
              "#9c179e"
             ],
             [
              0.4444444444444444,
              "#bd3786"
             ],
             [
              0.5555555555555556,
              "#d8576b"
             ],
             [
              0.6666666666666666,
              "#ed7953"
             ],
             [
              0.7777777777777778,
              "#fb9f3a"
             ],
             [
              0.8888888888888888,
              "#fdca26"
             ],
             [
              1,
              "#f0f921"
             ]
            ],
            "type": "histogram2dcontour"
           }
          ],
          "mesh3d": [
           {
            "colorbar": {
             "outlinewidth": 0,
             "ticks": ""
            },
            "type": "mesh3d"
           }
          ],
          "parcoords": [
           {
            "line": {
             "colorbar": {
              "outlinewidth": 0,
              "ticks": ""
             }
            },
            "type": "parcoords"
           }
          ],
          "pie": [
           {
            "automargin": true,
            "type": "pie"
           }
          ],
          "scatter": [
           {
            "marker": {
             "colorbar": {
              "outlinewidth": 0,
              "ticks": ""
             }
            },
            "type": "scatter"
           }
          ],
          "scatter3d": [
           {
            "line": {
             "colorbar": {
              "outlinewidth": 0,
              "ticks": ""
             }
            },
            "marker": {
             "colorbar": {
              "outlinewidth": 0,
              "ticks": ""
             }
            },
            "type": "scatter3d"
           }
          ],
          "scattercarpet": [
           {
            "marker": {
             "colorbar": {
              "outlinewidth": 0,
              "ticks": ""
             }
            },
            "type": "scattercarpet"
           }
          ],
          "scattergeo": [
           {
            "marker": {
             "colorbar": {
              "outlinewidth": 0,
              "ticks": ""
             }
            },
            "type": "scattergeo"
           }
          ],
          "scattergl": [
           {
            "marker": {
             "colorbar": {
              "outlinewidth": 0,
              "ticks": ""
             }
            },
            "type": "scattergl"
           }
          ],
          "scattermapbox": [
           {
            "marker": {
             "colorbar": {
              "outlinewidth": 0,
              "ticks": ""
             }
            },
            "type": "scattermapbox"
           }
          ],
          "scatterpolar": [
           {
            "marker": {
             "colorbar": {
              "outlinewidth": 0,
              "ticks": ""
             }
            },
            "type": "scatterpolar"
           }
          ],
          "scatterpolargl": [
           {
            "marker": {
             "colorbar": {
              "outlinewidth": 0,
              "ticks": ""
             }
            },
            "type": "scatterpolargl"
           }
          ],
          "scatterternary": [
           {
            "marker": {
             "colorbar": {
              "outlinewidth": 0,
              "ticks": ""
             }
            },
            "type": "scatterternary"
           }
          ],
          "surface": [
           {
            "colorbar": {
             "outlinewidth": 0,
             "ticks": ""
            },
            "colorscale": [
             [
              0,
              "#0d0887"
             ],
             [
              0.1111111111111111,
              "#46039f"
             ],
             [
              0.2222222222222222,
              "#7201a8"
             ],
             [
              0.3333333333333333,
              "#9c179e"
             ],
             [
              0.4444444444444444,
              "#bd3786"
             ],
             [
              0.5555555555555556,
              "#d8576b"
             ],
             [
              0.6666666666666666,
              "#ed7953"
             ],
             [
              0.7777777777777778,
              "#fb9f3a"
             ],
             [
              0.8888888888888888,
              "#fdca26"
             ],
             [
              1,
              "#f0f921"
             ]
            ],
            "type": "surface"
           }
          ],
          "table": [
           {
            "cells": {
             "fill": {
              "color": "#EBF0F8"
             },
             "line": {
              "color": "white"
             }
            },
            "header": {
             "fill": {
              "color": "#C8D4E3"
             },
             "line": {
              "color": "white"
             }
            },
            "type": "table"
           }
          ]
         },
         "layout": {
          "annotationdefaults": {
           "arrowcolor": "#2a3f5f",
           "arrowhead": 0,
           "arrowwidth": 1
          },
          "autotypenumbers": "strict",
          "coloraxis": {
           "colorbar": {
            "outlinewidth": 0,
            "ticks": ""
           }
          },
          "colorscale": {
           "diverging": [
            [
             0,
             "#8e0152"
            ],
            [
             0.1,
             "#c51b7d"
            ],
            [
             0.2,
             "#de77ae"
            ],
            [
             0.3,
             "#f1b6da"
            ],
            [
             0.4,
             "#fde0ef"
            ],
            [
             0.5,
             "#f7f7f7"
            ],
            [
             0.6,
             "#e6f5d0"
            ],
            [
             0.7,
             "#b8e186"
            ],
            [
             0.8,
             "#7fbc41"
            ],
            [
             0.9,
             "#4d9221"
            ],
            [
             1,
             "#276419"
            ]
           ],
           "sequential": [
            [
             0,
             "#0d0887"
            ],
            [
             0.1111111111111111,
             "#46039f"
            ],
            [
             0.2222222222222222,
             "#7201a8"
            ],
            [
             0.3333333333333333,
             "#9c179e"
            ],
            [
             0.4444444444444444,
             "#bd3786"
            ],
            [
             0.5555555555555556,
             "#d8576b"
            ],
            [
             0.6666666666666666,
             "#ed7953"
            ],
            [
             0.7777777777777778,
             "#fb9f3a"
            ],
            [
             0.8888888888888888,
             "#fdca26"
            ],
            [
             1,
             "#f0f921"
            ]
           ],
           "sequentialminus": [
            [
             0,
             "#0d0887"
            ],
            [
             0.1111111111111111,
             "#46039f"
            ],
            [
             0.2222222222222222,
             "#7201a8"
            ],
            [
             0.3333333333333333,
             "#9c179e"
            ],
            [
             0.4444444444444444,
             "#bd3786"
            ],
            [
             0.5555555555555556,
             "#d8576b"
            ],
            [
             0.6666666666666666,
             "#ed7953"
            ],
            [
             0.7777777777777778,
             "#fb9f3a"
            ],
            [
             0.8888888888888888,
             "#fdca26"
            ],
            [
             1,
             "#f0f921"
            ]
           ]
          },
          "colorway": [
           "#636efa",
           "#EF553B",
           "#00cc96",
           "#ab63fa",
           "#FFA15A",
           "#19d3f3",
           "#FF6692",
           "#B6E880",
           "#FF97FF",
           "#FECB52"
          ],
          "font": {
           "color": "#2a3f5f"
          },
          "geo": {
           "bgcolor": "white",
           "lakecolor": "white",
           "landcolor": "#E5ECF6",
           "showlakes": true,
           "showland": true,
           "subunitcolor": "white"
          },
          "hoverlabel": {
           "align": "left"
          },
          "hovermode": "closest",
          "mapbox": {
           "style": "light"
          },
          "paper_bgcolor": "white",
          "plot_bgcolor": "#E5ECF6",
          "polar": {
           "angularaxis": {
            "gridcolor": "white",
            "linecolor": "white",
            "ticks": ""
           },
           "bgcolor": "#E5ECF6",
           "radialaxis": {
            "gridcolor": "white",
            "linecolor": "white",
            "ticks": ""
           }
          },
          "scene": {
           "xaxis": {
            "backgroundcolor": "#E5ECF6",
            "gridcolor": "white",
            "gridwidth": 2,
            "linecolor": "white",
            "showbackground": true,
            "ticks": "",
            "zerolinecolor": "white"
           },
           "yaxis": {
            "backgroundcolor": "#E5ECF6",
            "gridcolor": "white",
            "gridwidth": 2,
            "linecolor": "white",
            "showbackground": true,
            "ticks": "",
            "zerolinecolor": "white"
           },
           "zaxis": {
            "backgroundcolor": "#E5ECF6",
            "gridcolor": "white",
            "gridwidth": 2,
            "linecolor": "white",
            "showbackground": true,
            "ticks": "",
            "zerolinecolor": "white"
           }
          },
          "shapedefaults": {
           "line": {
            "color": "#2a3f5f"
           }
          },
          "ternary": {
           "aaxis": {
            "gridcolor": "white",
            "linecolor": "white",
            "ticks": ""
           },
           "baxis": {
            "gridcolor": "white",
            "linecolor": "white",
            "ticks": ""
           },
           "bgcolor": "#E5ECF6",
           "caxis": {
            "gridcolor": "white",
            "linecolor": "white",
            "ticks": ""
           }
          },
          "title": {
           "x": 0.05
          },
          "xaxis": {
           "automargin": true,
           "gridcolor": "white",
           "linecolor": "white",
           "ticks": "",
           "title": {
            "standoff": 15
           },
           "zerolinecolor": "white",
           "zerolinewidth": 2
          },
          "yaxis": {
           "automargin": true,
           "gridcolor": "white",
           "linecolor": "white",
           "ticks": "",
           "title": {
            "standoff": 15
           },
           "zerolinecolor": "white",
           "zerolinewidth": 2
          }
         }
        },
        "title": {
         "text": ""
        }
       }
      },
      "text/html": [
       "<div>                            <div id=\"585ee845-775c-4944-86d2-ae79b397369a\" class=\"plotly-graph-div\" style=\"height:400px; width:100%;\"></div>            <script type=\"text/javascript\">                require([\"plotly\"], function(Plotly) {                    window.PLOTLYENV=window.PLOTLYENV || {};                                    if (document.getElementById(\"585ee845-775c-4944-86d2-ae79b397369a\")) {                    Plotly.newPlot(                        \"585ee845-775c-4944-86d2-ae79b397369a\",                        [{\"labels\":[\"Movie\",\"TV Show\"],\"marker\":{\"colors\":[\"#b20710\",\"#f5f780\"]},\"pull\":[0.05,0],\"type\":\"pie\",\"values\":[5372,2398]}],                        {\"height\":400,\"legend\":{\"x\":0.1,\"y\":1.1},\"template\":{\"data\":{\"bar\":[{\"error_x\":{\"color\":\"#2a3f5f\"},\"error_y\":{\"color\":\"#2a3f5f\"},\"marker\":{\"line\":{\"color\":\"#E5ECF6\",\"width\":0.5},\"pattern\":{\"fillmode\":\"overlay\",\"size\":10,\"solidity\":0.2}},\"type\":\"bar\"}],\"barpolar\":[{\"marker\":{\"line\":{\"color\":\"#E5ECF6\",\"width\":0.5},\"pattern\":{\"fillmode\":\"overlay\",\"size\":10,\"solidity\":0.2}},\"type\":\"barpolar\"}],\"carpet\":[{\"aaxis\":{\"endlinecolor\":\"#2a3f5f\",\"gridcolor\":\"white\",\"linecolor\":\"white\",\"minorgridcolor\":\"white\",\"startlinecolor\":\"#2a3f5f\"},\"baxis\":{\"endlinecolor\":\"#2a3f5f\",\"gridcolor\":\"white\",\"linecolor\":\"white\",\"minorgridcolor\":\"white\",\"startlinecolor\":\"#2a3f5f\"},\"type\":\"carpet\"}],\"choropleth\":[{\"colorbar\":{\"outlinewidth\":0,\"ticks\":\"\"},\"type\":\"choropleth\"}],\"contour\":[{\"colorbar\":{\"outlinewidth\":0,\"ticks\":\"\"},\"colorscale\":[[0.0,\"#0d0887\"],[0.1111111111111111,\"#46039f\"],[0.2222222222222222,\"#7201a8\"],[0.3333333333333333,\"#9c179e\"],[0.4444444444444444,\"#bd3786\"],[0.5555555555555556,\"#d8576b\"],[0.6666666666666666,\"#ed7953\"],[0.7777777777777778,\"#fb9f3a\"],[0.8888888888888888,\"#fdca26\"],[1.0,\"#f0f921\"]],\"type\":\"contour\"}],\"contourcarpet\":[{\"colorbar\":{\"outlinewidth\":0,\"ticks\":\"\"},\"type\":\"contourcarpet\"}],\"heatmap\":[{\"colorbar\":{\"outlinewidth\":0,\"ticks\":\"\"},\"colorscale\":[[0.0,\"#0d0887\"],[0.1111111111111111,\"#46039f\"],[0.2222222222222222,\"#7201a8\"],[0.3333333333333333,\"#9c179e\"],[0.4444444444444444,\"#bd3786\"],[0.5555555555555556,\"#d8576b\"],[0.6666666666666666,\"#ed7953\"],[0.7777777777777778,\"#fb9f3a\"],[0.8888888888888888,\"#fdca26\"],[1.0,\"#f0f921\"]],\"type\":\"heatmap\"}],\"heatmapgl\":[{\"colorbar\":{\"outlinewidth\":0,\"ticks\":\"\"},\"colorscale\":[[0.0,\"#0d0887\"],[0.1111111111111111,\"#46039f\"],[0.2222222222222222,\"#7201a8\"],[0.3333333333333333,\"#9c179e\"],[0.4444444444444444,\"#bd3786\"],[0.5555555555555556,\"#d8576b\"],[0.6666666666666666,\"#ed7953\"],[0.7777777777777778,\"#fb9f3a\"],[0.8888888888888888,\"#fdca26\"],[1.0,\"#f0f921\"]],\"type\":\"heatmapgl\"}],\"histogram\":[{\"marker\":{\"pattern\":{\"fillmode\":\"overlay\",\"size\":10,\"solidity\":0.2}},\"type\":\"histogram\"}],\"histogram2d\":[{\"colorbar\":{\"outlinewidth\":0,\"ticks\":\"\"},\"colorscale\":[[0.0,\"#0d0887\"],[0.1111111111111111,\"#46039f\"],[0.2222222222222222,\"#7201a8\"],[0.3333333333333333,\"#9c179e\"],[0.4444444444444444,\"#bd3786\"],[0.5555555555555556,\"#d8576b\"],[0.6666666666666666,\"#ed7953\"],[0.7777777777777778,\"#fb9f3a\"],[0.8888888888888888,\"#fdca26\"],[1.0,\"#f0f921\"]],\"type\":\"histogram2d\"}],\"histogram2dcontour\":[{\"colorbar\":{\"outlinewidth\":0,\"ticks\":\"\"},\"colorscale\":[[0.0,\"#0d0887\"],[0.1111111111111111,\"#46039f\"],[0.2222222222222222,\"#7201a8\"],[0.3333333333333333,\"#9c179e\"],[0.4444444444444444,\"#bd3786\"],[0.5555555555555556,\"#d8576b\"],[0.6666666666666666,\"#ed7953\"],[0.7777777777777778,\"#fb9f3a\"],[0.8888888888888888,\"#fdca26\"],[1.0,\"#f0f921\"]],\"type\":\"histogram2dcontour\"}],\"mesh3d\":[{\"colorbar\":{\"outlinewidth\":0,\"ticks\":\"\"},\"type\":\"mesh3d\"}],\"parcoords\":[{\"line\":{\"colorbar\":{\"outlinewidth\":0,\"ticks\":\"\"}},\"type\":\"parcoords\"}],\"pie\":[{\"automargin\":true,\"type\":\"pie\"}],\"scatter\":[{\"marker\":{\"colorbar\":{\"outlinewidth\":0,\"ticks\":\"\"}},\"type\":\"scatter\"}],\"scatter3d\":[{\"line\":{\"colorbar\":{\"outlinewidth\":0,\"ticks\":\"\"}},\"marker\":{\"colorbar\":{\"outlinewidth\":0,\"ticks\":\"\"}},\"type\":\"scatter3d\"}],\"scattercarpet\":[{\"marker\":{\"colorbar\":{\"outlinewidth\":0,\"ticks\":\"\"}},\"type\":\"scattercarpet\"}],\"scattergeo\":[{\"marker\":{\"colorbar\":{\"outlinewidth\":0,\"ticks\":\"\"}},\"type\":\"scattergeo\"}],\"scattergl\":[{\"marker\":{\"colorbar\":{\"outlinewidth\":0,\"ticks\":\"\"}},\"type\":\"scattergl\"}],\"scattermapbox\":[{\"marker\":{\"colorbar\":{\"outlinewidth\":0,\"ticks\":\"\"}},\"type\":\"scattermapbox\"}],\"scatterpolar\":[{\"marker\":{\"colorbar\":{\"outlinewidth\":0,\"ticks\":\"\"}},\"type\":\"scatterpolar\"}],\"scatterpolargl\":[{\"marker\":{\"colorbar\":{\"outlinewidth\":0,\"ticks\":\"\"}},\"type\":\"scatterpolargl\"}],\"scatterternary\":[{\"marker\":{\"colorbar\":{\"outlinewidth\":0,\"ticks\":\"\"}},\"type\":\"scatterternary\"}],\"surface\":[{\"colorbar\":{\"outlinewidth\":0,\"ticks\":\"\"},\"colorscale\":[[0.0,\"#0d0887\"],[0.1111111111111111,\"#46039f\"],[0.2222222222222222,\"#7201a8\"],[0.3333333333333333,\"#9c179e\"],[0.4444444444444444,\"#bd3786\"],[0.5555555555555556,\"#d8576b\"],[0.6666666666666666,\"#ed7953\"],[0.7777777777777778,\"#fb9f3a\"],[0.8888888888888888,\"#fdca26\"],[1.0,\"#f0f921\"]],\"type\":\"surface\"}],\"table\":[{\"cells\":{\"fill\":{\"color\":\"#EBF0F8\"},\"line\":{\"color\":\"white\"}},\"header\":{\"fill\":{\"color\":\"#C8D4E3\"},\"line\":{\"color\":\"white\"}},\"type\":\"table\"}]},\"layout\":{\"annotationdefaults\":{\"arrowcolor\":\"#2a3f5f\",\"arrowhead\":0,\"arrowwidth\":1},\"autotypenumbers\":\"strict\",\"coloraxis\":{\"colorbar\":{\"outlinewidth\":0,\"ticks\":\"\"}},\"colorscale\":{\"diverging\":[[0,\"#8e0152\"],[0.1,\"#c51b7d\"],[0.2,\"#de77ae\"],[0.3,\"#f1b6da\"],[0.4,\"#fde0ef\"],[0.5,\"#f7f7f7\"],[0.6,\"#e6f5d0\"],[0.7,\"#b8e186\"],[0.8,\"#7fbc41\"],[0.9,\"#4d9221\"],[1,\"#276419\"]],\"sequential\":[[0.0,\"#0d0887\"],[0.1111111111111111,\"#46039f\"],[0.2222222222222222,\"#7201a8\"],[0.3333333333333333,\"#9c179e\"],[0.4444444444444444,\"#bd3786\"],[0.5555555555555556,\"#d8576b\"],[0.6666666666666666,\"#ed7953\"],[0.7777777777777778,\"#fb9f3a\"],[0.8888888888888888,\"#fdca26\"],[1.0,\"#f0f921\"]],\"sequentialminus\":[[0.0,\"#0d0887\"],[0.1111111111111111,\"#46039f\"],[0.2222222222222222,\"#7201a8\"],[0.3333333333333333,\"#9c179e\"],[0.4444444444444444,\"#bd3786\"],[0.5555555555555556,\"#d8576b\"],[0.6666666666666666,\"#ed7953\"],[0.7777777777777778,\"#fb9f3a\"],[0.8888888888888888,\"#fdca26\"],[1.0,\"#f0f921\"]]},\"colorway\":[\"#636efa\",\"#EF553B\",\"#00cc96\",\"#ab63fa\",\"#FFA15A\",\"#19d3f3\",\"#FF6692\",\"#B6E880\",\"#FF97FF\",\"#FECB52\"],\"font\":{\"color\":\"#2a3f5f\"},\"geo\":{\"bgcolor\":\"white\",\"lakecolor\":\"white\",\"landcolor\":\"#E5ECF6\",\"showlakes\":true,\"showland\":true,\"subunitcolor\":\"white\"},\"hoverlabel\":{\"align\":\"left\"},\"hovermode\":\"closest\",\"mapbox\":{\"style\":\"light\"},\"paper_bgcolor\":\"white\",\"plot_bgcolor\":\"#E5ECF6\",\"polar\":{\"angularaxis\":{\"gridcolor\":\"white\",\"linecolor\":\"white\",\"ticks\":\"\"},\"bgcolor\":\"#E5ECF6\",\"radialaxis\":{\"gridcolor\":\"white\",\"linecolor\":\"white\",\"ticks\":\"\"}},\"scene\":{\"xaxis\":{\"backgroundcolor\":\"#E5ECF6\",\"gridcolor\":\"white\",\"gridwidth\":2,\"linecolor\":\"white\",\"showbackground\":true,\"ticks\":\"\",\"zerolinecolor\":\"white\"},\"yaxis\":{\"backgroundcolor\":\"#E5ECF6\",\"gridcolor\":\"white\",\"gridwidth\":2,\"linecolor\":\"white\",\"showbackground\":true,\"ticks\":\"\",\"zerolinecolor\":\"white\"},\"zaxis\":{\"backgroundcolor\":\"#E5ECF6\",\"gridcolor\":\"white\",\"gridwidth\":2,\"linecolor\":\"white\",\"showbackground\":true,\"ticks\":\"\",\"zerolinecolor\":\"white\"}},\"shapedefaults\":{\"line\":{\"color\":\"#2a3f5f\"}},\"ternary\":{\"aaxis\":{\"gridcolor\":\"white\",\"linecolor\":\"white\",\"ticks\":\"\"},\"baxis\":{\"gridcolor\":\"white\",\"linecolor\":\"white\",\"ticks\":\"\"},\"bgcolor\":\"#E5ECF6\",\"caxis\":{\"gridcolor\":\"white\",\"linecolor\":\"white\",\"ticks\":\"\"}},\"title\":{\"x\":0.05},\"xaxis\":{\"automargin\":true,\"gridcolor\":\"white\",\"linecolor\":\"white\",\"ticks\":\"\",\"title\":{\"standoff\":15},\"zerolinecolor\":\"white\",\"zerolinewidth\":2},\"yaxis\":{\"automargin\":true,\"gridcolor\":\"white\",\"linecolor\":\"white\",\"ticks\":\"\",\"title\":{\"standoff\":15},\"zerolinecolor\":\"white\",\"zerolinewidth\":2}}},\"title\":{\"text\":\"\"}},                        {\"responsive\": true}                    ).then(function(){\n",
       "                            \n",
       "var gd = document.getElementById('585ee845-775c-4944-86d2-ae79b397369a');\n",
       "var x = new MutationObserver(function (mutations, observer) {{\n",
       "        var display = window.getComputedStyle(gd).display;\n",
       "        if (!display || display === 'none') {{\n",
       "            console.log([gd, 'removed!']);\n",
       "            Plotly.purge(gd);\n",
       "            observer.disconnect();\n",
       "        }}\n",
       "}});\n",
       "\n",
       "// Listen for the removal of the full notebook cells\n",
       "var notebookContainer = gd.closest('#notebook-container');\n",
       "if (notebookContainer) {{\n",
       "    x.observe(notebookContainer, {childList: true});\n",
       "}}\n",
       "\n",
       "// Listen for the clearing of the current output cell\n",
       "var outputEl = gd.closest('.output');\n",
       "if (outputEl) {{\n",
       "    x.observe(outputEl, {childList: true});\n",
       "}}\n",
       "\n",
       "                        })                };                });            </script>        </div>"
      ]
     },
     "metadata": {}
    }
   ],
   "metadata": {}
  },
  {
   "cell_type": "code",
   "execution_count": 12,
   "source": [
    "d1 = df[df['type'] == 'TV Show']\r\n",
    "d2 = df[df['type'] == 'Movie']\r\n",
    "\r\n",
    "col = 'year_added'\r\n",
    "\r\n",
    "vc1 = d1[col].value_counts().reset_index()\r\n",
    "vc1 = vc1.rename(columns={col: 'count', 'index': col})\r\n",
    "vc1['percent'] = vc1['count'].apply(lambda x: 100*x / sum(vc1['count']))\r\n",
    "vc1 = vc1.sort_values(col)"
   ],
   "outputs": [],
   "metadata": {}
  },
  {
   "cell_type": "code",
   "execution_count": 13,
   "source": [
    "vc2 = d2[col].value_counts().reset_index()\r\n",
    "vc2 = vc2.rename(columns={col: 'count', 'index': col})\r\n",
    "vc2['percent'] = vc2['count'].apply(lambda x: 100*x / sum(vc2['count']))\r\n",
    "vc2 = vc2.sort_values(col)"
   ],
   "outputs": [],
   "metadata": {}
  },
  {
   "cell_type": "code",
   "execution_count": 14,
   "source": [
    "trace1 = go.Scatter(x=vc1[col], y=vc1['count'], name='TV Shows', marker=dict(color='#e50914'))\r\n",
    "trace2 = go.Scatter(x=vc2[col], y=vc2['count'], name='Movies', marker=dict(color='#b20710'))"
   ],
   "outputs": [],
   "metadata": {}
  },
  {
   "cell_type": "code",
   "execution_count": 15,
   "source": [
    "data = [trace1, trace2]\r\n",
    "layout = go.Layout(title='Over years content', legend=dict(x=0.1, y=1.1, orientation='h'))\r\n",
    "fig = go.Figure(data, layout=layout)\r\n",
    "fig.show()"
   ],
   "outputs": [
    {
     "output_type": "display_data",
     "data": {
      "application/vnd.plotly.v1+json": {
       "config": {
        "plotlyServerURL": "https://plot.ly"
       },
       "data": [
        {
         "marker": {
          "color": "#e50914"
         },
         "name": "TV Shows",
         "type": "scatter",
         "x": [
          2008,
          2013,
          2014,
          2015,
          2016,
          2017,
          2018,
          2019,
          2020,
          2021
         ],
         "y": [
          1,
          5,
          6,
          30,
          184,
          361,
          429,
          656,
          697,
          29
         ]
        },
        {
         "marker": {
          "color": "#b20710"
         },
         "name": "Movies",
         "type": "scatter",
         "x": [
          2008,
          2009,
          2010,
          2011,
          2012,
          2013,
          2014,
          2015,
          2016,
          2017,
          2018,
          2019,
          2020,
          2021
         ],
         "y": [
          1,
          2,
          1,
          13,
          3,
          6,
          19,
          58,
          256,
          861,
          1255,
          1497,
          1312,
          88
         ]
        }
       ],
       "layout": {
        "legend": {
         "orientation": "h",
         "x": 0.1,
         "y": 1.1
        },
        "template": {
         "data": {
          "bar": [
           {
            "error_x": {
             "color": "#2a3f5f"
            },
            "error_y": {
             "color": "#2a3f5f"
            },
            "marker": {
             "line": {
              "color": "#E5ECF6",
              "width": 0.5
             },
             "pattern": {
              "fillmode": "overlay",
              "size": 10,
              "solidity": 0.2
             }
            },
            "type": "bar"
           }
          ],
          "barpolar": [
           {
            "marker": {
             "line": {
              "color": "#E5ECF6",
              "width": 0.5
             },
             "pattern": {
              "fillmode": "overlay",
              "size": 10,
              "solidity": 0.2
             }
            },
            "type": "barpolar"
           }
          ],
          "carpet": [
           {
            "aaxis": {
             "endlinecolor": "#2a3f5f",
             "gridcolor": "white",
             "linecolor": "white",
             "minorgridcolor": "white",
             "startlinecolor": "#2a3f5f"
            },
            "baxis": {
             "endlinecolor": "#2a3f5f",
             "gridcolor": "white",
             "linecolor": "white",
             "minorgridcolor": "white",
             "startlinecolor": "#2a3f5f"
            },
            "type": "carpet"
           }
          ],
          "choropleth": [
           {
            "colorbar": {
             "outlinewidth": 0,
             "ticks": ""
            },
            "type": "choropleth"
           }
          ],
          "contour": [
           {
            "colorbar": {
             "outlinewidth": 0,
             "ticks": ""
            },
            "colorscale": [
             [
              0,
              "#0d0887"
             ],
             [
              0.1111111111111111,
              "#46039f"
             ],
             [
              0.2222222222222222,
              "#7201a8"
             ],
             [
              0.3333333333333333,
              "#9c179e"
             ],
             [
              0.4444444444444444,
              "#bd3786"
             ],
             [
              0.5555555555555556,
              "#d8576b"
             ],
             [
              0.6666666666666666,
              "#ed7953"
             ],
             [
              0.7777777777777778,
              "#fb9f3a"
             ],
             [
              0.8888888888888888,
              "#fdca26"
             ],
             [
              1,
              "#f0f921"
             ]
            ],
            "type": "contour"
           }
          ],
          "contourcarpet": [
           {
            "colorbar": {
             "outlinewidth": 0,
             "ticks": ""
            },
            "type": "contourcarpet"
           }
          ],
          "heatmap": [
           {
            "colorbar": {
             "outlinewidth": 0,
             "ticks": ""
            },
            "colorscale": [
             [
              0,
              "#0d0887"
             ],
             [
              0.1111111111111111,
              "#46039f"
             ],
             [
              0.2222222222222222,
              "#7201a8"
             ],
             [
              0.3333333333333333,
              "#9c179e"
             ],
             [
              0.4444444444444444,
              "#bd3786"
             ],
             [
              0.5555555555555556,
              "#d8576b"
             ],
             [
              0.6666666666666666,
              "#ed7953"
             ],
             [
              0.7777777777777778,
              "#fb9f3a"
             ],
             [
              0.8888888888888888,
              "#fdca26"
             ],
             [
              1,
              "#f0f921"
             ]
            ],
            "type": "heatmap"
           }
          ],
          "heatmapgl": [
           {
            "colorbar": {
             "outlinewidth": 0,
             "ticks": ""
            },
            "colorscale": [
             [
              0,
              "#0d0887"
             ],
             [
              0.1111111111111111,
              "#46039f"
             ],
             [
              0.2222222222222222,
              "#7201a8"
             ],
             [
              0.3333333333333333,
              "#9c179e"
             ],
             [
              0.4444444444444444,
              "#bd3786"
             ],
             [
              0.5555555555555556,
              "#d8576b"
             ],
             [
              0.6666666666666666,
              "#ed7953"
             ],
             [
              0.7777777777777778,
              "#fb9f3a"
             ],
             [
              0.8888888888888888,
              "#fdca26"
             ],
             [
              1,
              "#f0f921"
             ]
            ],
            "type": "heatmapgl"
           }
          ],
          "histogram": [
           {
            "marker": {
             "pattern": {
              "fillmode": "overlay",
              "size": 10,
              "solidity": 0.2
             }
            },
            "type": "histogram"
           }
          ],
          "histogram2d": [
           {
            "colorbar": {
             "outlinewidth": 0,
             "ticks": ""
            },
            "colorscale": [
             [
              0,
              "#0d0887"
             ],
             [
              0.1111111111111111,
              "#46039f"
             ],
             [
              0.2222222222222222,
              "#7201a8"
             ],
             [
              0.3333333333333333,
              "#9c179e"
             ],
             [
              0.4444444444444444,
              "#bd3786"
             ],
             [
              0.5555555555555556,
              "#d8576b"
             ],
             [
              0.6666666666666666,
              "#ed7953"
             ],
             [
              0.7777777777777778,
              "#fb9f3a"
             ],
             [
              0.8888888888888888,
              "#fdca26"
             ],
             [
              1,
              "#f0f921"
             ]
            ],
            "type": "histogram2d"
           }
          ],
          "histogram2dcontour": [
           {
            "colorbar": {
             "outlinewidth": 0,
             "ticks": ""
            },
            "colorscale": [
             [
              0,
              "#0d0887"
             ],
             [
              0.1111111111111111,
              "#46039f"
             ],
             [
              0.2222222222222222,
              "#7201a8"
             ],
             [
              0.3333333333333333,
              "#9c179e"
             ],
             [
              0.4444444444444444,
              "#bd3786"
             ],
             [
              0.5555555555555556,
              "#d8576b"
             ],
             [
              0.6666666666666666,
              "#ed7953"
             ],
             [
              0.7777777777777778,
              "#fb9f3a"
             ],
             [
              0.8888888888888888,
              "#fdca26"
             ],
             [
              1,
              "#f0f921"
             ]
            ],
            "type": "histogram2dcontour"
           }
          ],
          "mesh3d": [
           {
            "colorbar": {
             "outlinewidth": 0,
             "ticks": ""
            },
            "type": "mesh3d"
           }
          ],
          "parcoords": [
           {
            "line": {
             "colorbar": {
              "outlinewidth": 0,
              "ticks": ""
             }
            },
            "type": "parcoords"
           }
          ],
          "pie": [
           {
            "automargin": true,
            "type": "pie"
           }
          ],
          "scatter": [
           {
            "marker": {
             "colorbar": {
              "outlinewidth": 0,
              "ticks": ""
             }
            },
            "type": "scatter"
           }
          ],
          "scatter3d": [
           {
            "line": {
             "colorbar": {
              "outlinewidth": 0,
              "ticks": ""
             }
            },
            "marker": {
             "colorbar": {
              "outlinewidth": 0,
              "ticks": ""
             }
            },
            "type": "scatter3d"
           }
          ],
          "scattercarpet": [
           {
            "marker": {
             "colorbar": {
              "outlinewidth": 0,
              "ticks": ""
             }
            },
            "type": "scattercarpet"
           }
          ],
          "scattergeo": [
           {
            "marker": {
             "colorbar": {
              "outlinewidth": 0,
              "ticks": ""
             }
            },
            "type": "scattergeo"
           }
          ],
          "scattergl": [
           {
            "marker": {
             "colorbar": {
              "outlinewidth": 0,
              "ticks": ""
             }
            },
            "type": "scattergl"
           }
          ],
          "scattermapbox": [
           {
            "marker": {
             "colorbar": {
              "outlinewidth": 0,
              "ticks": ""
             }
            },
            "type": "scattermapbox"
           }
          ],
          "scatterpolar": [
           {
            "marker": {
             "colorbar": {
              "outlinewidth": 0,
              "ticks": ""
             }
            },
            "type": "scatterpolar"
           }
          ],
          "scatterpolargl": [
           {
            "marker": {
             "colorbar": {
              "outlinewidth": 0,
              "ticks": ""
             }
            },
            "type": "scatterpolargl"
           }
          ],
          "scatterternary": [
           {
            "marker": {
             "colorbar": {
              "outlinewidth": 0,
              "ticks": ""
             }
            },
            "type": "scatterternary"
           }
          ],
          "surface": [
           {
            "colorbar": {
             "outlinewidth": 0,
             "ticks": ""
            },
            "colorscale": [
             [
              0,
              "#0d0887"
             ],
             [
              0.1111111111111111,
              "#46039f"
             ],
             [
              0.2222222222222222,
              "#7201a8"
             ],
             [
              0.3333333333333333,
              "#9c179e"
             ],
             [
              0.4444444444444444,
              "#bd3786"
             ],
             [
              0.5555555555555556,
              "#d8576b"
             ],
             [
              0.6666666666666666,
              "#ed7953"
             ],
             [
              0.7777777777777778,
              "#fb9f3a"
             ],
             [
              0.8888888888888888,
              "#fdca26"
             ],
             [
              1,
              "#f0f921"
             ]
            ],
            "type": "surface"
           }
          ],
          "table": [
           {
            "cells": {
             "fill": {
              "color": "#EBF0F8"
             },
             "line": {
              "color": "white"
             }
            },
            "header": {
             "fill": {
              "color": "#C8D4E3"
             },
             "line": {
              "color": "white"
             }
            },
            "type": "table"
           }
          ]
         },
         "layout": {
          "annotationdefaults": {
           "arrowcolor": "#2a3f5f",
           "arrowhead": 0,
           "arrowwidth": 1
          },
          "autotypenumbers": "strict",
          "coloraxis": {
           "colorbar": {
            "outlinewidth": 0,
            "ticks": ""
           }
          },
          "colorscale": {
           "diverging": [
            [
             0,
             "#8e0152"
            ],
            [
             0.1,
             "#c51b7d"
            ],
            [
             0.2,
             "#de77ae"
            ],
            [
             0.3,
             "#f1b6da"
            ],
            [
             0.4,
             "#fde0ef"
            ],
            [
             0.5,
             "#f7f7f7"
            ],
            [
             0.6,
             "#e6f5d0"
            ],
            [
             0.7,
             "#b8e186"
            ],
            [
             0.8,
             "#7fbc41"
            ],
            [
             0.9,
             "#4d9221"
            ],
            [
             1,
             "#276419"
            ]
           ],
           "sequential": [
            [
             0,
             "#0d0887"
            ],
            [
             0.1111111111111111,
             "#46039f"
            ],
            [
             0.2222222222222222,
             "#7201a8"
            ],
            [
             0.3333333333333333,
             "#9c179e"
            ],
            [
             0.4444444444444444,
             "#bd3786"
            ],
            [
             0.5555555555555556,
             "#d8576b"
            ],
            [
             0.6666666666666666,
             "#ed7953"
            ],
            [
             0.7777777777777778,
             "#fb9f3a"
            ],
            [
             0.8888888888888888,
             "#fdca26"
            ],
            [
             1,
             "#f0f921"
            ]
           ],
           "sequentialminus": [
            [
             0,
             "#0d0887"
            ],
            [
             0.1111111111111111,
             "#46039f"
            ],
            [
             0.2222222222222222,
             "#7201a8"
            ],
            [
             0.3333333333333333,
             "#9c179e"
            ],
            [
             0.4444444444444444,
             "#bd3786"
            ],
            [
             0.5555555555555556,
             "#d8576b"
            ],
            [
             0.6666666666666666,
             "#ed7953"
            ],
            [
             0.7777777777777778,
             "#fb9f3a"
            ],
            [
             0.8888888888888888,
             "#fdca26"
            ],
            [
             1,
             "#f0f921"
            ]
           ]
          },
          "colorway": [
           "#636efa",
           "#EF553B",
           "#00cc96",
           "#ab63fa",
           "#FFA15A",
           "#19d3f3",
           "#FF6692",
           "#B6E880",
           "#FF97FF",
           "#FECB52"
          ],
          "font": {
           "color": "#2a3f5f"
          },
          "geo": {
           "bgcolor": "white",
           "lakecolor": "white",
           "landcolor": "#E5ECF6",
           "showlakes": true,
           "showland": true,
           "subunitcolor": "white"
          },
          "hoverlabel": {
           "align": "left"
          },
          "hovermode": "closest",
          "mapbox": {
           "style": "light"
          },
          "paper_bgcolor": "white",
          "plot_bgcolor": "#E5ECF6",
          "polar": {
           "angularaxis": {
            "gridcolor": "white",
            "linecolor": "white",
            "ticks": ""
           },
           "bgcolor": "#E5ECF6",
           "radialaxis": {
            "gridcolor": "white",
            "linecolor": "white",
            "ticks": ""
           }
          },
          "scene": {
           "xaxis": {
            "backgroundcolor": "#E5ECF6",
            "gridcolor": "white",
            "gridwidth": 2,
            "linecolor": "white",
            "showbackground": true,
            "ticks": "",
            "zerolinecolor": "white"
           },
           "yaxis": {
            "backgroundcolor": "#E5ECF6",
            "gridcolor": "white",
            "gridwidth": 2,
            "linecolor": "white",
            "showbackground": true,
            "ticks": "",
            "zerolinecolor": "white"
           },
           "zaxis": {
            "backgroundcolor": "#E5ECF6",
            "gridcolor": "white",
            "gridwidth": 2,
            "linecolor": "white",
            "showbackground": true,
            "ticks": "",
            "zerolinecolor": "white"
           }
          },
          "shapedefaults": {
           "line": {
            "color": "#2a3f5f"
           }
          },
          "ternary": {
           "aaxis": {
            "gridcolor": "white",
            "linecolor": "white",
            "ticks": ""
           },
           "baxis": {
            "gridcolor": "white",
            "linecolor": "white",
            "ticks": ""
           },
           "bgcolor": "#E5ECF6",
           "caxis": {
            "gridcolor": "white",
            "linecolor": "white",
            "ticks": ""
           }
          },
          "title": {
           "x": 0.05
          },
          "xaxis": {
           "automargin": true,
           "gridcolor": "white",
           "linecolor": "white",
           "ticks": "",
           "title": {
            "standoff": 15
           },
           "zerolinecolor": "white",
           "zerolinewidth": 2
          },
          "yaxis": {
           "automargin": true,
           "gridcolor": "white",
           "linecolor": "white",
           "ticks": "",
           "title": {
            "standoff": 15
           },
           "zerolinecolor": "white",
           "zerolinewidth": 2
          }
         }
        },
        "title": {
         "text": "Over years content"
        }
       }
      },
      "text/html": [
       "<div>                            <div id=\"184d5d7a-9750-4ec9-8792-4fdff89d6c42\" class=\"plotly-graph-div\" style=\"height:525px; width:100%;\"></div>            <script type=\"text/javascript\">                require([\"plotly\"], function(Plotly) {                    window.PLOTLYENV=window.PLOTLYENV || {};                                    if (document.getElementById(\"184d5d7a-9750-4ec9-8792-4fdff89d6c42\")) {                    Plotly.newPlot(                        \"184d5d7a-9750-4ec9-8792-4fdff89d6c42\",                        [{\"marker\":{\"color\":\"#e50914\"},\"name\":\"TV Shows\",\"type\":\"scatter\",\"x\":[2008.0,2013.0,2014.0,2015.0,2016.0,2017.0,2018.0,2019.0,2020.0,2021.0],\"y\":[1,5,6,30,184,361,429,656,697,29]},{\"marker\":{\"color\":\"#b20710\"},\"name\":\"Movies\",\"type\":\"scatter\",\"x\":[2008.0,2009.0,2010.0,2011.0,2012.0,2013.0,2014.0,2015.0,2016.0,2017.0,2018.0,2019.0,2020.0,2021.0],\"y\":[1,2,1,13,3,6,19,58,256,861,1255,1497,1312,88]}],                        {\"legend\":{\"orientation\":\"h\",\"x\":0.1,\"y\":1.1},\"template\":{\"data\":{\"bar\":[{\"error_x\":{\"color\":\"#2a3f5f\"},\"error_y\":{\"color\":\"#2a3f5f\"},\"marker\":{\"line\":{\"color\":\"#E5ECF6\",\"width\":0.5},\"pattern\":{\"fillmode\":\"overlay\",\"size\":10,\"solidity\":0.2}},\"type\":\"bar\"}],\"barpolar\":[{\"marker\":{\"line\":{\"color\":\"#E5ECF6\",\"width\":0.5},\"pattern\":{\"fillmode\":\"overlay\",\"size\":10,\"solidity\":0.2}},\"type\":\"barpolar\"}],\"carpet\":[{\"aaxis\":{\"endlinecolor\":\"#2a3f5f\",\"gridcolor\":\"white\",\"linecolor\":\"white\",\"minorgridcolor\":\"white\",\"startlinecolor\":\"#2a3f5f\"},\"baxis\":{\"endlinecolor\":\"#2a3f5f\",\"gridcolor\":\"white\",\"linecolor\":\"white\",\"minorgridcolor\":\"white\",\"startlinecolor\":\"#2a3f5f\"},\"type\":\"carpet\"}],\"choropleth\":[{\"colorbar\":{\"outlinewidth\":0,\"ticks\":\"\"},\"type\":\"choropleth\"}],\"contour\":[{\"colorbar\":{\"outlinewidth\":0,\"ticks\":\"\"},\"colorscale\":[[0.0,\"#0d0887\"],[0.1111111111111111,\"#46039f\"],[0.2222222222222222,\"#7201a8\"],[0.3333333333333333,\"#9c179e\"],[0.4444444444444444,\"#bd3786\"],[0.5555555555555556,\"#d8576b\"],[0.6666666666666666,\"#ed7953\"],[0.7777777777777778,\"#fb9f3a\"],[0.8888888888888888,\"#fdca26\"],[1.0,\"#f0f921\"]],\"type\":\"contour\"}],\"contourcarpet\":[{\"colorbar\":{\"outlinewidth\":0,\"ticks\":\"\"},\"type\":\"contourcarpet\"}],\"heatmap\":[{\"colorbar\":{\"outlinewidth\":0,\"ticks\":\"\"},\"colorscale\":[[0.0,\"#0d0887\"],[0.1111111111111111,\"#46039f\"],[0.2222222222222222,\"#7201a8\"],[0.3333333333333333,\"#9c179e\"],[0.4444444444444444,\"#bd3786\"],[0.5555555555555556,\"#d8576b\"],[0.6666666666666666,\"#ed7953\"],[0.7777777777777778,\"#fb9f3a\"],[0.8888888888888888,\"#fdca26\"],[1.0,\"#f0f921\"]],\"type\":\"heatmap\"}],\"heatmapgl\":[{\"colorbar\":{\"outlinewidth\":0,\"ticks\":\"\"},\"colorscale\":[[0.0,\"#0d0887\"],[0.1111111111111111,\"#46039f\"],[0.2222222222222222,\"#7201a8\"],[0.3333333333333333,\"#9c179e\"],[0.4444444444444444,\"#bd3786\"],[0.5555555555555556,\"#d8576b\"],[0.6666666666666666,\"#ed7953\"],[0.7777777777777778,\"#fb9f3a\"],[0.8888888888888888,\"#fdca26\"],[1.0,\"#f0f921\"]],\"type\":\"heatmapgl\"}],\"histogram\":[{\"marker\":{\"pattern\":{\"fillmode\":\"overlay\",\"size\":10,\"solidity\":0.2}},\"type\":\"histogram\"}],\"histogram2d\":[{\"colorbar\":{\"outlinewidth\":0,\"ticks\":\"\"},\"colorscale\":[[0.0,\"#0d0887\"],[0.1111111111111111,\"#46039f\"],[0.2222222222222222,\"#7201a8\"],[0.3333333333333333,\"#9c179e\"],[0.4444444444444444,\"#bd3786\"],[0.5555555555555556,\"#d8576b\"],[0.6666666666666666,\"#ed7953\"],[0.7777777777777778,\"#fb9f3a\"],[0.8888888888888888,\"#fdca26\"],[1.0,\"#f0f921\"]],\"type\":\"histogram2d\"}],\"histogram2dcontour\":[{\"colorbar\":{\"outlinewidth\":0,\"ticks\":\"\"},\"colorscale\":[[0.0,\"#0d0887\"],[0.1111111111111111,\"#46039f\"],[0.2222222222222222,\"#7201a8\"],[0.3333333333333333,\"#9c179e\"],[0.4444444444444444,\"#bd3786\"],[0.5555555555555556,\"#d8576b\"],[0.6666666666666666,\"#ed7953\"],[0.7777777777777778,\"#fb9f3a\"],[0.8888888888888888,\"#fdca26\"],[1.0,\"#f0f921\"]],\"type\":\"histogram2dcontour\"}],\"mesh3d\":[{\"colorbar\":{\"outlinewidth\":0,\"ticks\":\"\"},\"type\":\"mesh3d\"}],\"parcoords\":[{\"line\":{\"colorbar\":{\"outlinewidth\":0,\"ticks\":\"\"}},\"type\":\"parcoords\"}],\"pie\":[{\"automargin\":true,\"type\":\"pie\"}],\"scatter\":[{\"marker\":{\"colorbar\":{\"outlinewidth\":0,\"ticks\":\"\"}},\"type\":\"scatter\"}],\"scatter3d\":[{\"line\":{\"colorbar\":{\"outlinewidth\":0,\"ticks\":\"\"}},\"marker\":{\"colorbar\":{\"outlinewidth\":0,\"ticks\":\"\"}},\"type\":\"scatter3d\"}],\"scattercarpet\":[{\"marker\":{\"colorbar\":{\"outlinewidth\":0,\"ticks\":\"\"}},\"type\":\"scattercarpet\"}],\"scattergeo\":[{\"marker\":{\"colorbar\":{\"outlinewidth\":0,\"ticks\":\"\"}},\"type\":\"scattergeo\"}],\"scattergl\":[{\"marker\":{\"colorbar\":{\"outlinewidth\":0,\"ticks\":\"\"}},\"type\":\"scattergl\"}],\"scattermapbox\":[{\"marker\":{\"colorbar\":{\"outlinewidth\":0,\"ticks\":\"\"}},\"type\":\"scattermapbox\"}],\"scatterpolar\":[{\"marker\":{\"colorbar\":{\"outlinewidth\":0,\"ticks\":\"\"}},\"type\":\"scatterpolar\"}],\"scatterpolargl\":[{\"marker\":{\"colorbar\":{\"outlinewidth\":0,\"ticks\":\"\"}},\"type\":\"scatterpolargl\"}],\"scatterternary\":[{\"marker\":{\"colorbar\":{\"outlinewidth\":0,\"ticks\":\"\"}},\"type\":\"scatterternary\"}],\"surface\":[{\"colorbar\":{\"outlinewidth\":0,\"ticks\":\"\"},\"colorscale\":[[0.0,\"#0d0887\"],[0.1111111111111111,\"#46039f\"],[0.2222222222222222,\"#7201a8\"],[0.3333333333333333,\"#9c179e\"],[0.4444444444444444,\"#bd3786\"],[0.5555555555555556,\"#d8576b\"],[0.6666666666666666,\"#ed7953\"],[0.7777777777777778,\"#fb9f3a\"],[0.8888888888888888,\"#fdca26\"],[1.0,\"#f0f921\"]],\"type\":\"surface\"}],\"table\":[{\"cells\":{\"fill\":{\"color\":\"#EBF0F8\"},\"line\":{\"color\":\"white\"}},\"header\":{\"fill\":{\"color\":\"#C8D4E3\"},\"line\":{\"color\":\"white\"}},\"type\":\"table\"}]},\"layout\":{\"annotationdefaults\":{\"arrowcolor\":\"#2a3f5f\",\"arrowhead\":0,\"arrowwidth\":1},\"autotypenumbers\":\"strict\",\"coloraxis\":{\"colorbar\":{\"outlinewidth\":0,\"ticks\":\"\"}},\"colorscale\":{\"diverging\":[[0,\"#8e0152\"],[0.1,\"#c51b7d\"],[0.2,\"#de77ae\"],[0.3,\"#f1b6da\"],[0.4,\"#fde0ef\"],[0.5,\"#f7f7f7\"],[0.6,\"#e6f5d0\"],[0.7,\"#b8e186\"],[0.8,\"#7fbc41\"],[0.9,\"#4d9221\"],[1,\"#276419\"]],\"sequential\":[[0.0,\"#0d0887\"],[0.1111111111111111,\"#46039f\"],[0.2222222222222222,\"#7201a8\"],[0.3333333333333333,\"#9c179e\"],[0.4444444444444444,\"#bd3786\"],[0.5555555555555556,\"#d8576b\"],[0.6666666666666666,\"#ed7953\"],[0.7777777777777778,\"#fb9f3a\"],[0.8888888888888888,\"#fdca26\"],[1.0,\"#f0f921\"]],\"sequentialminus\":[[0.0,\"#0d0887\"],[0.1111111111111111,\"#46039f\"],[0.2222222222222222,\"#7201a8\"],[0.3333333333333333,\"#9c179e\"],[0.4444444444444444,\"#bd3786\"],[0.5555555555555556,\"#d8576b\"],[0.6666666666666666,\"#ed7953\"],[0.7777777777777778,\"#fb9f3a\"],[0.8888888888888888,\"#fdca26\"],[1.0,\"#f0f921\"]]},\"colorway\":[\"#636efa\",\"#EF553B\",\"#00cc96\",\"#ab63fa\",\"#FFA15A\",\"#19d3f3\",\"#FF6692\",\"#B6E880\",\"#FF97FF\",\"#FECB52\"],\"font\":{\"color\":\"#2a3f5f\"},\"geo\":{\"bgcolor\":\"white\",\"lakecolor\":\"white\",\"landcolor\":\"#E5ECF6\",\"showlakes\":true,\"showland\":true,\"subunitcolor\":\"white\"},\"hoverlabel\":{\"align\":\"left\"},\"hovermode\":\"closest\",\"mapbox\":{\"style\":\"light\"},\"paper_bgcolor\":\"white\",\"plot_bgcolor\":\"#E5ECF6\",\"polar\":{\"angularaxis\":{\"gridcolor\":\"white\",\"linecolor\":\"white\",\"ticks\":\"\"},\"bgcolor\":\"#E5ECF6\",\"radialaxis\":{\"gridcolor\":\"white\",\"linecolor\":\"white\",\"ticks\":\"\"}},\"scene\":{\"xaxis\":{\"backgroundcolor\":\"#E5ECF6\",\"gridcolor\":\"white\",\"gridwidth\":2,\"linecolor\":\"white\",\"showbackground\":true,\"ticks\":\"\",\"zerolinecolor\":\"white\"},\"yaxis\":{\"backgroundcolor\":\"#E5ECF6\",\"gridcolor\":\"white\",\"gridwidth\":2,\"linecolor\":\"white\",\"showbackground\":true,\"ticks\":\"\",\"zerolinecolor\":\"white\"},\"zaxis\":{\"backgroundcolor\":\"#E5ECF6\",\"gridcolor\":\"white\",\"gridwidth\":2,\"linecolor\":\"white\",\"showbackground\":true,\"ticks\":\"\",\"zerolinecolor\":\"white\"}},\"shapedefaults\":{\"line\":{\"color\":\"#2a3f5f\"}},\"ternary\":{\"aaxis\":{\"gridcolor\":\"white\",\"linecolor\":\"white\",\"ticks\":\"\"},\"baxis\":{\"gridcolor\":\"white\",\"linecolor\":\"white\",\"ticks\":\"\"},\"bgcolor\":\"#E5ECF6\",\"caxis\":{\"gridcolor\":\"white\",\"linecolor\":\"white\",\"ticks\":\"\"}},\"title\":{\"x\":0.05},\"xaxis\":{\"automargin\":true,\"gridcolor\":\"white\",\"linecolor\":\"white\",\"ticks\":\"\",\"title\":{\"standoff\":15},\"zerolinecolor\":\"white\",\"zerolinewidth\":2},\"yaxis\":{\"automargin\":true,\"gridcolor\":\"white\",\"linecolor\":\"white\",\"ticks\":\"\",\"title\":{\"standoff\":15},\"zerolinecolor\":\"white\",\"zerolinewidth\":2}}},\"title\":{\"text\":\"Over years content\"}},                        {\"responsive\": true}                    ).then(function(){\n",
       "                            \n",
       "var gd = document.getElementById('184d5d7a-9750-4ec9-8792-4fdff89d6c42');\n",
       "var x = new MutationObserver(function (mutations, observer) {{\n",
       "        var display = window.getComputedStyle(gd).display;\n",
       "        if (!display || display === 'none') {{\n",
       "            console.log([gd, 'removed!']);\n",
       "            Plotly.purge(gd);\n",
       "            observer.disconnect();\n",
       "        }}\n",
       "}});\n",
       "\n",
       "// Listen for the removal of the full notebook cells\n",
       "var notebookContainer = gd.closest('#notebook-container');\n",
       "if (notebookContainer) {{\n",
       "    x.observe(notebookContainer, {childList: true});\n",
       "}}\n",
       "\n",
       "// Listen for the clearing of the current output cell\n",
       "var outputEl = gd.closest('.output');\n",
       "if (outputEl) {{\n",
       "    x.observe(outputEl, {childList: true});\n",
       "}}\n",
       "\n",
       "                        })                };                });            </script>        </div>"
      ]
     },
     "metadata": {}
    }
   ],
   "metadata": {}
  },
  {
   "cell_type": "code",
   "execution_count": 16,
   "source": [
    "col = \"release_year\"\r\n",
    "\r\n",
    "vc1 = d1[col].value_counts().reset_index()\r\n",
    "vc1 = vc1.rename(columns = {col : \"count\", \"index\" : col})\r\n",
    "vc1['percent'] = vc1['count'].apply(lambda x : 100*x/sum(vc1['count']))\r\n",
    "vc1 = vc1.sort_values(col)\r\n",
    "\r\n",
    "vc2 = d2[col].value_counts().reset_index()\r\n",
    "vc2 = vc2.rename(columns = {col : \"count\", \"index\" : col})\r\n",
    "vc2['percent'] = vc2['count'].apply(lambda x : 100*x/sum(vc2['count']))\r\n",
    "vc2 = vc2.sort_values(col)\r\n",
    "\r\n",
    "trace1 = go.Bar(x=vc1[col], y=vc1[\"count\"], name=\"TV Shows\", marker=dict(color=\"#b20710\"))\r\n",
    "trace2 = go.Bar(x=vc2[col], y=vc2[\"count\"], name=\"Movies\", marker=dict(color=\"#221f1f\"))\r\n",
    "data = [trace1, trace2]\r\n",
    "layout = go.Layout(title=\"Content added over the years\", legend=dict(x=0.1, y=1.1, orientation=\"h\"))\r\n",
    "fig = go.Figure(data, layout=layout)\r\n",
    "fig.show()"
   ],
   "outputs": [
    {
     "output_type": "display_data",
     "data": {
      "application/vnd.plotly.v1+json": {
       "config": {
        "plotlyServerURL": "https://plot.ly"
       },
       "data": [
        {
         "marker": {
          "color": "#b20710"
         },
         "name": "TV Shows",
         "type": "bar",
         "x": [
          1925,
          1946,
          1963,
          1967,
          1968,
          1972,
          1974,
          1977,
          1979,
          1981,
          1985,
          1986,
          1988,
          1989,
          1990,
          1991,
          1992,
          1993,
          1994,
          1995,
          1996,
          1997,
          1998,
          1999,
          2000,
          2001,
          2002,
          2003,
          2004,
          2005,
          2006,
          2007,
          2008,
          2009,
          2010,
          2011,
          2012,
          2013,
          2014,
          2015,
          2016,
          2017,
          2018,
          2019,
          2020,
          2021
         ],
         "y": [
          1,
          1,
          1,
          1,
          1,
          1,
          1,
          1,
          1,
          1,
          1,
          2,
          2,
          1,
          3,
          1,
          2,
          4,
          1,
          2,
          3,
          4,
          4,
          7,
          4,
          4,
          6,
          7,
          9,
          12,
          13,
          13,
          22,
          34,
          36,
          39,
          60,
          63,
          90,
          156,
          239,
          268,
          386,
          414,
          457,
          19
         ]
        },
        {
         "marker": {
          "color": "#221f1f"
         },
         "name": "Movies",
         "type": "bar",
         "x": [
          1942,
          1943,
          1944,
          1945,
          1946,
          1947,
          1954,
          1955,
          1956,
          1958,
          1959,
          1960,
          1962,
          1963,
          1964,
          1965,
          1966,
          1967,
          1968,
          1969,
          1970,
          1971,
          1972,
          1973,
          1974,
          1975,
          1976,
          1977,
          1978,
          1979,
          1980,
          1981,
          1982,
          1983,
          1984,
          1985,
          1986,
          1987,
          1988,
          1989,
          1990,
          1991,
          1992,
          1993,
          1994,
          1995,
          1996,
          1997,
          1998,
          1999,
          2000,
          2001,
          2002,
          2003,
          2004,
          2005,
          2006,
          2007,
          2008,
          2009,
          2010,
          2011,
          2012,
          2013,
          2014,
          2015,
          2016,
          2017,
          2018,
          2019,
          2020,
          2021
         ],
         "y": [
          2,
          3,
          3,
          3,
          1,
          1,
          2,
          3,
          2,
          3,
          1,
          4,
          3,
          1,
          1,
          2,
          1,
          4,
          4,
          2,
          2,
          5,
          3,
          10,
          6,
          6,
          9,
          6,
          6,
          10,
          9,
          8,
          15,
          9,
          9,
          8,
          8,
          7,
          14,
          12,
          17,
          16,
          16,
          18,
          15,
          17,
          16,
          26,
          27,
          26,
          30,
          32,
          39,
          40,
          50,
          61,
          72,
          72,
          102,
          103,
          135,
          127,
          158,
          202,
          244,
          380,
          642,
          742,
          734,
          582,
          411,
          12
         ]
        }
       ],
       "layout": {
        "legend": {
         "orientation": "h",
         "x": 0.1,
         "y": 1.1
        },
        "template": {
         "data": {
          "bar": [
           {
            "error_x": {
             "color": "#2a3f5f"
            },
            "error_y": {
             "color": "#2a3f5f"
            },
            "marker": {
             "line": {
              "color": "#E5ECF6",
              "width": 0.5
             },
             "pattern": {
              "fillmode": "overlay",
              "size": 10,
              "solidity": 0.2
             }
            },
            "type": "bar"
           }
          ],
          "barpolar": [
           {
            "marker": {
             "line": {
              "color": "#E5ECF6",
              "width": 0.5
             },
             "pattern": {
              "fillmode": "overlay",
              "size": 10,
              "solidity": 0.2
             }
            },
            "type": "barpolar"
           }
          ],
          "carpet": [
           {
            "aaxis": {
             "endlinecolor": "#2a3f5f",
             "gridcolor": "white",
             "linecolor": "white",
             "minorgridcolor": "white",
             "startlinecolor": "#2a3f5f"
            },
            "baxis": {
             "endlinecolor": "#2a3f5f",
             "gridcolor": "white",
             "linecolor": "white",
             "minorgridcolor": "white",
             "startlinecolor": "#2a3f5f"
            },
            "type": "carpet"
           }
          ],
          "choropleth": [
           {
            "colorbar": {
             "outlinewidth": 0,
             "ticks": ""
            },
            "type": "choropleth"
           }
          ],
          "contour": [
           {
            "colorbar": {
             "outlinewidth": 0,
             "ticks": ""
            },
            "colorscale": [
             [
              0,
              "#0d0887"
             ],
             [
              0.1111111111111111,
              "#46039f"
             ],
             [
              0.2222222222222222,
              "#7201a8"
             ],
             [
              0.3333333333333333,
              "#9c179e"
             ],
             [
              0.4444444444444444,
              "#bd3786"
             ],
             [
              0.5555555555555556,
              "#d8576b"
             ],
             [
              0.6666666666666666,
              "#ed7953"
             ],
             [
              0.7777777777777778,
              "#fb9f3a"
             ],
             [
              0.8888888888888888,
              "#fdca26"
             ],
             [
              1,
              "#f0f921"
             ]
            ],
            "type": "contour"
           }
          ],
          "contourcarpet": [
           {
            "colorbar": {
             "outlinewidth": 0,
             "ticks": ""
            },
            "type": "contourcarpet"
           }
          ],
          "heatmap": [
           {
            "colorbar": {
             "outlinewidth": 0,
             "ticks": ""
            },
            "colorscale": [
             [
              0,
              "#0d0887"
             ],
             [
              0.1111111111111111,
              "#46039f"
             ],
             [
              0.2222222222222222,
              "#7201a8"
             ],
             [
              0.3333333333333333,
              "#9c179e"
             ],
             [
              0.4444444444444444,
              "#bd3786"
             ],
             [
              0.5555555555555556,
              "#d8576b"
             ],
             [
              0.6666666666666666,
              "#ed7953"
             ],
             [
              0.7777777777777778,
              "#fb9f3a"
             ],
             [
              0.8888888888888888,
              "#fdca26"
             ],
             [
              1,
              "#f0f921"
             ]
            ],
            "type": "heatmap"
           }
          ],
          "heatmapgl": [
           {
            "colorbar": {
             "outlinewidth": 0,
             "ticks": ""
            },
            "colorscale": [
             [
              0,
              "#0d0887"
             ],
             [
              0.1111111111111111,
              "#46039f"
             ],
             [
              0.2222222222222222,
              "#7201a8"
             ],
             [
              0.3333333333333333,
              "#9c179e"
             ],
             [
              0.4444444444444444,
              "#bd3786"
             ],
             [
              0.5555555555555556,
              "#d8576b"
             ],
             [
              0.6666666666666666,
              "#ed7953"
             ],
             [
              0.7777777777777778,
              "#fb9f3a"
             ],
             [
              0.8888888888888888,
              "#fdca26"
             ],
             [
              1,
              "#f0f921"
             ]
            ],
            "type": "heatmapgl"
           }
          ],
          "histogram": [
           {
            "marker": {
             "pattern": {
              "fillmode": "overlay",
              "size": 10,
              "solidity": 0.2
             }
            },
            "type": "histogram"
           }
          ],
          "histogram2d": [
           {
            "colorbar": {
             "outlinewidth": 0,
             "ticks": ""
            },
            "colorscale": [
             [
              0,
              "#0d0887"
             ],
             [
              0.1111111111111111,
              "#46039f"
             ],
             [
              0.2222222222222222,
              "#7201a8"
             ],
             [
              0.3333333333333333,
              "#9c179e"
             ],
             [
              0.4444444444444444,
              "#bd3786"
             ],
             [
              0.5555555555555556,
              "#d8576b"
             ],
             [
              0.6666666666666666,
              "#ed7953"
             ],
             [
              0.7777777777777778,
              "#fb9f3a"
             ],
             [
              0.8888888888888888,
              "#fdca26"
             ],
             [
              1,
              "#f0f921"
             ]
            ],
            "type": "histogram2d"
           }
          ],
          "histogram2dcontour": [
           {
            "colorbar": {
             "outlinewidth": 0,
             "ticks": ""
            },
            "colorscale": [
             [
              0,
              "#0d0887"
             ],
             [
              0.1111111111111111,
              "#46039f"
             ],
             [
              0.2222222222222222,
              "#7201a8"
             ],
             [
              0.3333333333333333,
              "#9c179e"
             ],
             [
              0.4444444444444444,
              "#bd3786"
             ],
             [
              0.5555555555555556,
              "#d8576b"
             ],
             [
              0.6666666666666666,
              "#ed7953"
             ],
             [
              0.7777777777777778,
              "#fb9f3a"
             ],
             [
              0.8888888888888888,
              "#fdca26"
             ],
             [
              1,
              "#f0f921"
             ]
            ],
            "type": "histogram2dcontour"
           }
          ],
          "mesh3d": [
           {
            "colorbar": {
             "outlinewidth": 0,
             "ticks": ""
            },
            "type": "mesh3d"
           }
          ],
          "parcoords": [
           {
            "line": {
             "colorbar": {
              "outlinewidth": 0,
              "ticks": ""
             }
            },
            "type": "parcoords"
           }
          ],
          "pie": [
           {
            "automargin": true,
            "type": "pie"
           }
          ],
          "scatter": [
           {
            "marker": {
             "colorbar": {
              "outlinewidth": 0,
              "ticks": ""
             }
            },
            "type": "scatter"
           }
          ],
          "scatter3d": [
           {
            "line": {
             "colorbar": {
              "outlinewidth": 0,
              "ticks": ""
             }
            },
            "marker": {
             "colorbar": {
              "outlinewidth": 0,
              "ticks": ""
             }
            },
            "type": "scatter3d"
           }
          ],
          "scattercarpet": [
           {
            "marker": {
             "colorbar": {
              "outlinewidth": 0,
              "ticks": ""
             }
            },
            "type": "scattercarpet"
           }
          ],
          "scattergeo": [
           {
            "marker": {
             "colorbar": {
              "outlinewidth": 0,
              "ticks": ""
             }
            },
            "type": "scattergeo"
           }
          ],
          "scattergl": [
           {
            "marker": {
             "colorbar": {
              "outlinewidth": 0,
              "ticks": ""
             }
            },
            "type": "scattergl"
           }
          ],
          "scattermapbox": [
           {
            "marker": {
             "colorbar": {
              "outlinewidth": 0,
              "ticks": ""
             }
            },
            "type": "scattermapbox"
           }
          ],
          "scatterpolar": [
           {
            "marker": {
             "colorbar": {
              "outlinewidth": 0,
              "ticks": ""
             }
            },
            "type": "scatterpolar"
           }
          ],
          "scatterpolargl": [
           {
            "marker": {
             "colorbar": {
              "outlinewidth": 0,
              "ticks": ""
             }
            },
            "type": "scatterpolargl"
           }
          ],
          "scatterternary": [
           {
            "marker": {
             "colorbar": {
              "outlinewidth": 0,
              "ticks": ""
             }
            },
            "type": "scatterternary"
           }
          ],
          "surface": [
           {
            "colorbar": {
             "outlinewidth": 0,
             "ticks": ""
            },
            "colorscale": [
             [
              0,
              "#0d0887"
             ],
             [
              0.1111111111111111,
              "#46039f"
             ],
             [
              0.2222222222222222,
              "#7201a8"
             ],
             [
              0.3333333333333333,
              "#9c179e"
             ],
             [
              0.4444444444444444,
              "#bd3786"
             ],
             [
              0.5555555555555556,
              "#d8576b"
             ],
             [
              0.6666666666666666,
              "#ed7953"
             ],
             [
              0.7777777777777778,
              "#fb9f3a"
             ],
             [
              0.8888888888888888,
              "#fdca26"
             ],
             [
              1,
              "#f0f921"
             ]
            ],
            "type": "surface"
           }
          ],
          "table": [
           {
            "cells": {
             "fill": {
              "color": "#EBF0F8"
             },
             "line": {
              "color": "white"
             }
            },
            "header": {
             "fill": {
              "color": "#C8D4E3"
             },
             "line": {
              "color": "white"
             }
            },
            "type": "table"
           }
          ]
         },
         "layout": {
          "annotationdefaults": {
           "arrowcolor": "#2a3f5f",
           "arrowhead": 0,
           "arrowwidth": 1
          },
          "autotypenumbers": "strict",
          "coloraxis": {
           "colorbar": {
            "outlinewidth": 0,
            "ticks": ""
           }
          },
          "colorscale": {
           "diverging": [
            [
             0,
             "#8e0152"
            ],
            [
             0.1,
             "#c51b7d"
            ],
            [
             0.2,
             "#de77ae"
            ],
            [
             0.3,
             "#f1b6da"
            ],
            [
             0.4,
             "#fde0ef"
            ],
            [
             0.5,
             "#f7f7f7"
            ],
            [
             0.6,
             "#e6f5d0"
            ],
            [
             0.7,
             "#b8e186"
            ],
            [
             0.8,
             "#7fbc41"
            ],
            [
             0.9,
             "#4d9221"
            ],
            [
             1,
             "#276419"
            ]
           ],
           "sequential": [
            [
             0,
             "#0d0887"
            ],
            [
             0.1111111111111111,
             "#46039f"
            ],
            [
             0.2222222222222222,
             "#7201a8"
            ],
            [
             0.3333333333333333,
             "#9c179e"
            ],
            [
             0.4444444444444444,
             "#bd3786"
            ],
            [
             0.5555555555555556,
             "#d8576b"
            ],
            [
             0.6666666666666666,
             "#ed7953"
            ],
            [
             0.7777777777777778,
             "#fb9f3a"
            ],
            [
             0.8888888888888888,
             "#fdca26"
            ],
            [
             1,
             "#f0f921"
            ]
           ],
           "sequentialminus": [
            [
             0,
             "#0d0887"
            ],
            [
             0.1111111111111111,
             "#46039f"
            ],
            [
             0.2222222222222222,
             "#7201a8"
            ],
            [
             0.3333333333333333,
             "#9c179e"
            ],
            [
             0.4444444444444444,
             "#bd3786"
            ],
            [
             0.5555555555555556,
             "#d8576b"
            ],
            [
             0.6666666666666666,
             "#ed7953"
            ],
            [
             0.7777777777777778,
             "#fb9f3a"
            ],
            [
             0.8888888888888888,
             "#fdca26"
            ],
            [
             1,
             "#f0f921"
            ]
           ]
          },
          "colorway": [
           "#636efa",
           "#EF553B",
           "#00cc96",
           "#ab63fa",
           "#FFA15A",
           "#19d3f3",
           "#FF6692",
           "#B6E880",
           "#FF97FF",
           "#FECB52"
          ],
          "font": {
           "color": "#2a3f5f"
          },
          "geo": {
           "bgcolor": "white",
           "lakecolor": "white",
           "landcolor": "#E5ECF6",
           "showlakes": true,
           "showland": true,
           "subunitcolor": "white"
          },
          "hoverlabel": {
           "align": "left"
          },
          "hovermode": "closest",
          "mapbox": {
           "style": "light"
          },
          "paper_bgcolor": "white",
          "plot_bgcolor": "#E5ECF6",
          "polar": {
           "angularaxis": {
            "gridcolor": "white",
            "linecolor": "white",
            "ticks": ""
           },
           "bgcolor": "#E5ECF6",
           "radialaxis": {
            "gridcolor": "white",
            "linecolor": "white",
            "ticks": ""
           }
          },
          "scene": {
           "xaxis": {
            "backgroundcolor": "#E5ECF6",
            "gridcolor": "white",
            "gridwidth": 2,
            "linecolor": "white",
            "showbackground": true,
            "ticks": "",
            "zerolinecolor": "white"
           },
           "yaxis": {
            "backgroundcolor": "#E5ECF6",
            "gridcolor": "white",
            "gridwidth": 2,
            "linecolor": "white",
            "showbackground": true,
            "ticks": "",
            "zerolinecolor": "white"
           },
           "zaxis": {
            "backgroundcolor": "#E5ECF6",
            "gridcolor": "white",
            "gridwidth": 2,
            "linecolor": "white",
            "showbackground": true,
            "ticks": "",
            "zerolinecolor": "white"
           }
          },
          "shapedefaults": {
           "line": {
            "color": "#2a3f5f"
           }
          },
          "ternary": {
           "aaxis": {
            "gridcolor": "white",
            "linecolor": "white",
            "ticks": ""
           },
           "baxis": {
            "gridcolor": "white",
            "linecolor": "white",
            "ticks": ""
           },
           "bgcolor": "#E5ECF6",
           "caxis": {
            "gridcolor": "white",
            "linecolor": "white",
            "ticks": ""
           }
          },
          "title": {
           "x": 0.05
          },
          "xaxis": {
           "automargin": true,
           "gridcolor": "white",
           "linecolor": "white",
           "ticks": "",
           "title": {
            "standoff": 15
           },
           "zerolinecolor": "white",
           "zerolinewidth": 2
          },
          "yaxis": {
           "automargin": true,
           "gridcolor": "white",
           "linecolor": "white",
           "ticks": "",
           "title": {
            "standoff": 15
           },
           "zerolinecolor": "white",
           "zerolinewidth": 2
          }
         }
        },
        "title": {
         "text": "Content added over the years"
        }
       }
      },
      "text/html": [
       "<div>                            <div id=\"2dfaf78b-b6b5-45ed-a7c8-9205ffb09967\" class=\"plotly-graph-div\" style=\"height:525px; width:100%;\"></div>            <script type=\"text/javascript\">                require([\"plotly\"], function(Plotly) {                    window.PLOTLYENV=window.PLOTLYENV || {};                                    if (document.getElementById(\"2dfaf78b-b6b5-45ed-a7c8-9205ffb09967\")) {                    Plotly.newPlot(                        \"2dfaf78b-b6b5-45ed-a7c8-9205ffb09967\",                        [{\"marker\":{\"color\":\"#b20710\"},\"name\":\"TV Shows\",\"type\":\"bar\",\"x\":[1925,1946,1963,1967,1968,1972,1974,1977,1979,1981,1985,1986,1988,1989,1990,1991,1992,1993,1994,1995,1996,1997,1998,1999,2000,2001,2002,2003,2004,2005,2006,2007,2008,2009,2010,2011,2012,2013,2014,2015,2016,2017,2018,2019,2020,2021],\"y\":[1,1,1,1,1,1,1,1,1,1,1,2,2,1,3,1,2,4,1,2,3,4,4,7,4,4,6,7,9,12,13,13,22,34,36,39,60,63,90,156,239,268,386,414,457,19]},{\"marker\":{\"color\":\"#221f1f\"},\"name\":\"Movies\",\"type\":\"bar\",\"x\":[1942,1943,1944,1945,1946,1947,1954,1955,1956,1958,1959,1960,1962,1963,1964,1965,1966,1967,1968,1969,1970,1971,1972,1973,1974,1975,1976,1977,1978,1979,1980,1981,1982,1983,1984,1985,1986,1987,1988,1989,1990,1991,1992,1993,1994,1995,1996,1997,1998,1999,2000,2001,2002,2003,2004,2005,2006,2007,2008,2009,2010,2011,2012,2013,2014,2015,2016,2017,2018,2019,2020,2021],\"y\":[2,3,3,3,1,1,2,3,2,3,1,4,3,1,1,2,1,4,4,2,2,5,3,10,6,6,9,6,6,10,9,8,15,9,9,8,8,7,14,12,17,16,16,18,15,17,16,26,27,26,30,32,39,40,50,61,72,72,102,103,135,127,158,202,244,380,642,742,734,582,411,12]}],                        {\"legend\":{\"orientation\":\"h\",\"x\":0.1,\"y\":1.1},\"template\":{\"data\":{\"bar\":[{\"error_x\":{\"color\":\"#2a3f5f\"},\"error_y\":{\"color\":\"#2a3f5f\"},\"marker\":{\"line\":{\"color\":\"#E5ECF6\",\"width\":0.5},\"pattern\":{\"fillmode\":\"overlay\",\"size\":10,\"solidity\":0.2}},\"type\":\"bar\"}],\"barpolar\":[{\"marker\":{\"line\":{\"color\":\"#E5ECF6\",\"width\":0.5},\"pattern\":{\"fillmode\":\"overlay\",\"size\":10,\"solidity\":0.2}},\"type\":\"barpolar\"}],\"carpet\":[{\"aaxis\":{\"endlinecolor\":\"#2a3f5f\",\"gridcolor\":\"white\",\"linecolor\":\"white\",\"minorgridcolor\":\"white\",\"startlinecolor\":\"#2a3f5f\"},\"baxis\":{\"endlinecolor\":\"#2a3f5f\",\"gridcolor\":\"white\",\"linecolor\":\"white\",\"minorgridcolor\":\"white\",\"startlinecolor\":\"#2a3f5f\"},\"type\":\"carpet\"}],\"choropleth\":[{\"colorbar\":{\"outlinewidth\":0,\"ticks\":\"\"},\"type\":\"choropleth\"}],\"contour\":[{\"colorbar\":{\"outlinewidth\":0,\"ticks\":\"\"},\"colorscale\":[[0.0,\"#0d0887\"],[0.1111111111111111,\"#46039f\"],[0.2222222222222222,\"#7201a8\"],[0.3333333333333333,\"#9c179e\"],[0.4444444444444444,\"#bd3786\"],[0.5555555555555556,\"#d8576b\"],[0.6666666666666666,\"#ed7953\"],[0.7777777777777778,\"#fb9f3a\"],[0.8888888888888888,\"#fdca26\"],[1.0,\"#f0f921\"]],\"type\":\"contour\"}],\"contourcarpet\":[{\"colorbar\":{\"outlinewidth\":0,\"ticks\":\"\"},\"type\":\"contourcarpet\"}],\"heatmap\":[{\"colorbar\":{\"outlinewidth\":0,\"ticks\":\"\"},\"colorscale\":[[0.0,\"#0d0887\"],[0.1111111111111111,\"#46039f\"],[0.2222222222222222,\"#7201a8\"],[0.3333333333333333,\"#9c179e\"],[0.4444444444444444,\"#bd3786\"],[0.5555555555555556,\"#d8576b\"],[0.6666666666666666,\"#ed7953\"],[0.7777777777777778,\"#fb9f3a\"],[0.8888888888888888,\"#fdca26\"],[1.0,\"#f0f921\"]],\"type\":\"heatmap\"}],\"heatmapgl\":[{\"colorbar\":{\"outlinewidth\":0,\"ticks\":\"\"},\"colorscale\":[[0.0,\"#0d0887\"],[0.1111111111111111,\"#46039f\"],[0.2222222222222222,\"#7201a8\"],[0.3333333333333333,\"#9c179e\"],[0.4444444444444444,\"#bd3786\"],[0.5555555555555556,\"#d8576b\"],[0.6666666666666666,\"#ed7953\"],[0.7777777777777778,\"#fb9f3a\"],[0.8888888888888888,\"#fdca26\"],[1.0,\"#f0f921\"]],\"type\":\"heatmapgl\"}],\"histogram\":[{\"marker\":{\"pattern\":{\"fillmode\":\"overlay\",\"size\":10,\"solidity\":0.2}},\"type\":\"histogram\"}],\"histogram2d\":[{\"colorbar\":{\"outlinewidth\":0,\"ticks\":\"\"},\"colorscale\":[[0.0,\"#0d0887\"],[0.1111111111111111,\"#46039f\"],[0.2222222222222222,\"#7201a8\"],[0.3333333333333333,\"#9c179e\"],[0.4444444444444444,\"#bd3786\"],[0.5555555555555556,\"#d8576b\"],[0.6666666666666666,\"#ed7953\"],[0.7777777777777778,\"#fb9f3a\"],[0.8888888888888888,\"#fdca26\"],[1.0,\"#f0f921\"]],\"type\":\"histogram2d\"}],\"histogram2dcontour\":[{\"colorbar\":{\"outlinewidth\":0,\"ticks\":\"\"},\"colorscale\":[[0.0,\"#0d0887\"],[0.1111111111111111,\"#46039f\"],[0.2222222222222222,\"#7201a8\"],[0.3333333333333333,\"#9c179e\"],[0.4444444444444444,\"#bd3786\"],[0.5555555555555556,\"#d8576b\"],[0.6666666666666666,\"#ed7953\"],[0.7777777777777778,\"#fb9f3a\"],[0.8888888888888888,\"#fdca26\"],[1.0,\"#f0f921\"]],\"type\":\"histogram2dcontour\"}],\"mesh3d\":[{\"colorbar\":{\"outlinewidth\":0,\"ticks\":\"\"},\"type\":\"mesh3d\"}],\"parcoords\":[{\"line\":{\"colorbar\":{\"outlinewidth\":0,\"ticks\":\"\"}},\"type\":\"parcoords\"}],\"pie\":[{\"automargin\":true,\"type\":\"pie\"}],\"scatter\":[{\"marker\":{\"colorbar\":{\"outlinewidth\":0,\"ticks\":\"\"}},\"type\":\"scatter\"}],\"scatter3d\":[{\"line\":{\"colorbar\":{\"outlinewidth\":0,\"ticks\":\"\"}},\"marker\":{\"colorbar\":{\"outlinewidth\":0,\"ticks\":\"\"}},\"type\":\"scatter3d\"}],\"scattercarpet\":[{\"marker\":{\"colorbar\":{\"outlinewidth\":0,\"ticks\":\"\"}},\"type\":\"scattercarpet\"}],\"scattergeo\":[{\"marker\":{\"colorbar\":{\"outlinewidth\":0,\"ticks\":\"\"}},\"type\":\"scattergeo\"}],\"scattergl\":[{\"marker\":{\"colorbar\":{\"outlinewidth\":0,\"ticks\":\"\"}},\"type\":\"scattergl\"}],\"scattermapbox\":[{\"marker\":{\"colorbar\":{\"outlinewidth\":0,\"ticks\":\"\"}},\"type\":\"scattermapbox\"}],\"scatterpolar\":[{\"marker\":{\"colorbar\":{\"outlinewidth\":0,\"ticks\":\"\"}},\"type\":\"scatterpolar\"}],\"scatterpolargl\":[{\"marker\":{\"colorbar\":{\"outlinewidth\":0,\"ticks\":\"\"}},\"type\":\"scatterpolargl\"}],\"scatterternary\":[{\"marker\":{\"colorbar\":{\"outlinewidth\":0,\"ticks\":\"\"}},\"type\":\"scatterternary\"}],\"surface\":[{\"colorbar\":{\"outlinewidth\":0,\"ticks\":\"\"},\"colorscale\":[[0.0,\"#0d0887\"],[0.1111111111111111,\"#46039f\"],[0.2222222222222222,\"#7201a8\"],[0.3333333333333333,\"#9c179e\"],[0.4444444444444444,\"#bd3786\"],[0.5555555555555556,\"#d8576b\"],[0.6666666666666666,\"#ed7953\"],[0.7777777777777778,\"#fb9f3a\"],[0.8888888888888888,\"#fdca26\"],[1.0,\"#f0f921\"]],\"type\":\"surface\"}],\"table\":[{\"cells\":{\"fill\":{\"color\":\"#EBF0F8\"},\"line\":{\"color\":\"white\"}},\"header\":{\"fill\":{\"color\":\"#C8D4E3\"},\"line\":{\"color\":\"white\"}},\"type\":\"table\"}]},\"layout\":{\"annotationdefaults\":{\"arrowcolor\":\"#2a3f5f\",\"arrowhead\":0,\"arrowwidth\":1},\"autotypenumbers\":\"strict\",\"coloraxis\":{\"colorbar\":{\"outlinewidth\":0,\"ticks\":\"\"}},\"colorscale\":{\"diverging\":[[0,\"#8e0152\"],[0.1,\"#c51b7d\"],[0.2,\"#de77ae\"],[0.3,\"#f1b6da\"],[0.4,\"#fde0ef\"],[0.5,\"#f7f7f7\"],[0.6,\"#e6f5d0\"],[0.7,\"#b8e186\"],[0.8,\"#7fbc41\"],[0.9,\"#4d9221\"],[1,\"#276419\"]],\"sequential\":[[0.0,\"#0d0887\"],[0.1111111111111111,\"#46039f\"],[0.2222222222222222,\"#7201a8\"],[0.3333333333333333,\"#9c179e\"],[0.4444444444444444,\"#bd3786\"],[0.5555555555555556,\"#d8576b\"],[0.6666666666666666,\"#ed7953\"],[0.7777777777777778,\"#fb9f3a\"],[0.8888888888888888,\"#fdca26\"],[1.0,\"#f0f921\"]],\"sequentialminus\":[[0.0,\"#0d0887\"],[0.1111111111111111,\"#46039f\"],[0.2222222222222222,\"#7201a8\"],[0.3333333333333333,\"#9c179e\"],[0.4444444444444444,\"#bd3786\"],[0.5555555555555556,\"#d8576b\"],[0.6666666666666666,\"#ed7953\"],[0.7777777777777778,\"#fb9f3a\"],[0.8888888888888888,\"#fdca26\"],[1.0,\"#f0f921\"]]},\"colorway\":[\"#636efa\",\"#EF553B\",\"#00cc96\",\"#ab63fa\",\"#FFA15A\",\"#19d3f3\",\"#FF6692\",\"#B6E880\",\"#FF97FF\",\"#FECB52\"],\"font\":{\"color\":\"#2a3f5f\"},\"geo\":{\"bgcolor\":\"white\",\"lakecolor\":\"white\",\"landcolor\":\"#E5ECF6\",\"showlakes\":true,\"showland\":true,\"subunitcolor\":\"white\"},\"hoverlabel\":{\"align\":\"left\"},\"hovermode\":\"closest\",\"mapbox\":{\"style\":\"light\"},\"paper_bgcolor\":\"white\",\"plot_bgcolor\":\"#E5ECF6\",\"polar\":{\"angularaxis\":{\"gridcolor\":\"white\",\"linecolor\":\"white\",\"ticks\":\"\"},\"bgcolor\":\"#E5ECF6\",\"radialaxis\":{\"gridcolor\":\"white\",\"linecolor\":\"white\",\"ticks\":\"\"}},\"scene\":{\"xaxis\":{\"backgroundcolor\":\"#E5ECF6\",\"gridcolor\":\"white\",\"gridwidth\":2,\"linecolor\":\"white\",\"showbackground\":true,\"ticks\":\"\",\"zerolinecolor\":\"white\"},\"yaxis\":{\"backgroundcolor\":\"#E5ECF6\",\"gridcolor\":\"white\",\"gridwidth\":2,\"linecolor\":\"white\",\"showbackground\":true,\"ticks\":\"\",\"zerolinecolor\":\"white\"},\"zaxis\":{\"backgroundcolor\":\"#E5ECF6\",\"gridcolor\":\"white\",\"gridwidth\":2,\"linecolor\":\"white\",\"showbackground\":true,\"ticks\":\"\",\"zerolinecolor\":\"white\"}},\"shapedefaults\":{\"line\":{\"color\":\"#2a3f5f\"}},\"ternary\":{\"aaxis\":{\"gridcolor\":\"white\",\"linecolor\":\"white\",\"ticks\":\"\"},\"baxis\":{\"gridcolor\":\"white\",\"linecolor\":\"white\",\"ticks\":\"\"},\"bgcolor\":\"#E5ECF6\",\"caxis\":{\"gridcolor\":\"white\",\"linecolor\":\"white\",\"ticks\":\"\"}},\"title\":{\"x\":0.05},\"xaxis\":{\"automargin\":true,\"gridcolor\":\"white\",\"linecolor\":\"white\",\"ticks\":\"\",\"title\":{\"standoff\":15},\"zerolinecolor\":\"white\",\"zerolinewidth\":2},\"yaxis\":{\"automargin\":true,\"gridcolor\":\"white\",\"linecolor\":\"white\",\"ticks\":\"\",\"title\":{\"standoff\":15},\"zerolinecolor\":\"white\",\"zerolinewidth\":2}}},\"title\":{\"text\":\"Content added over the years\"}},                        {\"responsive\": true}                    ).then(function(){\n",
       "                            \n",
       "var gd = document.getElementById('2dfaf78b-b6b5-45ed-a7c8-9205ffb09967');\n",
       "var x = new MutationObserver(function (mutations, observer) {{\n",
       "        var display = window.getComputedStyle(gd).display;\n",
       "        if (!display || display === 'none') {{\n",
       "            console.log([gd, 'removed!']);\n",
       "            Plotly.purge(gd);\n",
       "            observer.disconnect();\n",
       "        }}\n",
       "}});\n",
       "\n",
       "// Listen for the removal of the full notebook cells\n",
       "var notebookContainer = gd.closest('#notebook-container');\n",
       "if (notebookContainer) {{\n",
       "    x.observe(notebookContainer, {childList: true});\n",
       "}}\n",
       "\n",
       "// Listen for the clearing of the current output cell\n",
       "var outputEl = gd.closest('.output');\n",
       "if (outputEl) {{\n",
       "    x.observe(outputEl, {childList: true});\n",
       "}}\n",
       "\n",
       "                        })                };                });            </script>        </div>"
      ]
     },
     "metadata": {}
    }
   ],
   "metadata": {}
  },
  {
   "cell_type": "code",
   "execution_count": 17,
   "source": [
    "col = 'month_added'\r\n",
    "vc1 = d1[col].value_counts().reset_index()\r\n",
    "vc1 = vc1.rename(columns = {col : \"count\", \"index\" : col})\r\n",
    "vc1['percent'] = vc1['count'].apply(lambda x : 100*x/sum(vc1['count']))\r\n",
    "vc1 = vc1.sort_values(col)\r\n",
    "\r\n",
    "trace1 = go.Bar(x=vc1[col], y=vc1[\"count\"], name=\"TV Shows\", marker=dict(color=\"#e50914\"))\r\n",
    "data = [trace1]\r\n",
    "layout = go.Layout(title=\"In which month, the conent is added the most?\", legend=dict(x=0.1, y=1.1, orientation=\"h\"))\r\n",
    "fig = go.Figure(data, layout=layout)\r\n",
    "fig.show()"
   ],
   "outputs": [
    {
     "output_type": "display_data",
     "data": {
      "application/vnd.plotly.v1+json": {
       "config": {
        "plotlyServerURL": "https://plot.ly"
       },
       "data": [
        {
         "marker": {
          "color": "#e50914"
         },
         "name": "TV Shows",
         "type": "bar",
         "x": [
          1,
          2,
          3,
          4,
          5,
          6,
          7,
          8,
          9,
          10,
          11,
          12
         ],
         "y": [
          197,
          143,
          198,
          181,
          172,
          165,
          197,
          204,
          204,
          232,
          227,
          278
         ]
        }
       ],
       "layout": {
        "legend": {
         "orientation": "h",
         "x": 0.1,
         "y": 1.1
        },
        "template": {
         "data": {
          "bar": [
           {
            "error_x": {
             "color": "#2a3f5f"
            },
            "error_y": {
             "color": "#2a3f5f"
            },
            "marker": {
             "line": {
              "color": "#E5ECF6",
              "width": 0.5
             },
             "pattern": {
              "fillmode": "overlay",
              "size": 10,
              "solidity": 0.2
             }
            },
            "type": "bar"
           }
          ],
          "barpolar": [
           {
            "marker": {
             "line": {
              "color": "#E5ECF6",
              "width": 0.5
             },
             "pattern": {
              "fillmode": "overlay",
              "size": 10,
              "solidity": 0.2
             }
            },
            "type": "barpolar"
           }
          ],
          "carpet": [
           {
            "aaxis": {
             "endlinecolor": "#2a3f5f",
             "gridcolor": "white",
             "linecolor": "white",
             "minorgridcolor": "white",
             "startlinecolor": "#2a3f5f"
            },
            "baxis": {
             "endlinecolor": "#2a3f5f",
             "gridcolor": "white",
             "linecolor": "white",
             "minorgridcolor": "white",
             "startlinecolor": "#2a3f5f"
            },
            "type": "carpet"
           }
          ],
          "choropleth": [
           {
            "colorbar": {
             "outlinewidth": 0,
             "ticks": ""
            },
            "type": "choropleth"
           }
          ],
          "contour": [
           {
            "colorbar": {
             "outlinewidth": 0,
             "ticks": ""
            },
            "colorscale": [
             [
              0,
              "#0d0887"
             ],
             [
              0.1111111111111111,
              "#46039f"
             ],
             [
              0.2222222222222222,
              "#7201a8"
             ],
             [
              0.3333333333333333,
              "#9c179e"
             ],
             [
              0.4444444444444444,
              "#bd3786"
             ],
             [
              0.5555555555555556,
              "#d8576b"
             ],
             [
              0.6666666666666666,
              "#ed7953"
             ],
             [
              0.7777777777777778,
              "#fb9f3a"
             ],
             [
              0.8888888888888888,
              "#fdca26"
             ],
             [
              1,
              "#f0f921"
             ]
            ],
            "type": "contour"
           }
          ],
          "contourcarpet": [
           {
            "colorbar": {
             "outlinewidth": 0,
             "ticks": ""
            },
            "type": "contourcarpet"
           }
          ],
          "heatmap": [
           {
            "colorbar": {
             "outlinewidth": 0,
             "ticks": ""
            },
            "colorscale": [
             [
              0,
              "#0d0887"
             ],
             [
              0.1111111111111111,
              "#46039f"
             ],
             [
              0.2222222222222222,
              "#7201a8"
             ],
             [
              0.3333333333333333,
              "#9c179e"
             ],
             [
              0.4444444444444444,
              "#bd3786"
             ],
             [
              0.5555555555555556,
              "#d8576b"
             ],
             [
              0.6666666666666666,
              "#ed7953"
             ],
             [
              0.7777777777777778,
              "#fb9f3a"
             ],
             [
              0.8888888888888888,
              "#fdca26"
             ],
             [
              1,
              "#f0f921"
             ]
            ],
            "type": "heatmap"
           }
          ],
          "heatmapgl": [
           {
            "colorbar": {
             "outlinewidth": 0,
             "ticks": ""
            },
            "colorscale": [
             [
              0,
              "#0d0887"
             ],
             [
              0.1111111111111111,
              "#46039f"
             ],
             [
              0.2222222222222222,
              "#7201a8"
             ],
             [
              0.3333333333333333,
              "#9c179e"
             ],
             [
              0.4444444444444444,
              "#bd3786"
             ],
             [
              0.5555555555555556,
              "#d8576b"
             ],
             [
              0.6666666666666666,
              "#ed7953"
             ],
             [
              0.7777777777777778,
              "#fb9f3a"
             ],
             [
              0.8888888888888888,
              "#fdca26"
             ],
             [
              1,
              "#f0f921"
             ]
            ],
            "type": "heatmapgl"
           }
          ],
          "histogram": [
           {
            "marker": {
             "pattern": {
              "fillmode": "overlay",
              "size": 10,
              "solidity": 0.2
             }
            },
            "type": "histogram"
           }
          ],
          "histogram2d": [
           {
            "colorbar": {
             "outlinewidth": 0,
             "ticks": ""
            },
            "colorscale": [
             [
              0,
              "#0d0887"
             ],
             [
              0.1111111111111111,
              "#46039f"
             ],
             [
              0.2222222222222222,
              "#7201a8"
             ],
             [
              0.3333333333333333,
              "#9c179e"
             ],
             [
              0.4444444444444444,
              "#bd3786"
             ],
             [
              0.5555555555555556,
              "#d8576b"
             ],
             [
              0.6666666666666666,
              "#ed7953"
             ],
             [
              0.7777777777777778,
              "#fb9f3a"
             ],
             [
              0.8888888888888888,
              "#fdca26"
             ],
             [
              1,
              "#f0f921"
             ]
            ],
            "type": "histogram2d"
           }
          ],
          "histogram2dcontour": [
           {
            "colorbar": {
             "outlinewidth": 0,
             "ticks": ""
            },
            "colorscale": [
             [
              0,
              "#0d0887"
             ],
             [
              0.1111111111111111,
              "#46039f"
             ],
             [
              0.2222222222222222,
              "#7201a8"
             ],
             [
              0.3333333333333333,
              "#9c179e"
             ],
             [
              0.4444444444444444,
              "#bd3786"
             ],
             [
              0.5555555555555556,
              "#d8576b"
             ],
             [
              0.6666666666666666,
              "#ed7953"
             ],
             [
              0.7777777777777778,
              "#fb9f3a"
             ],
             [
              0.8888888888888888,
              "#fdca26"
             ],
             [
              1,
              "#f0f921"
             ]
            ],
            "type": "histogram2dcontour"
           }
          ],
          "mesh3d": [
           {
            "colorbar": {
             "outlinewidth": 0,
             "ticks": ""
            },
            "type": "mesh3d"
           }
          ],
          "parcoords": [
           {
            "line": {
             "colorbar": {
              "outlinewidth": 0,
              "ticks": ""
             }
            },
            "type": "parcoords"
           }
          ],
          "pie": [
           {
            "automargin": true,
            "type": "pie"
           }
          ],
          "scatter": [
           {
            "marker": {
             "colorbar": {
              "outlinewidth": 0,
              "ticks": ""
             }
            },
            "type": "scatter"
           }
          ],
          "scatter3d": [
           {
            "line": {
             "colorbar": {
              "outlinewidth": 0,
              "ticks": ""
             }
            },
            "marker": {
             "colorbar": {
              "outlinewidth": 0,
              "ticks": ""
             }
            },
            "type": "scatter3d"
           }
          ],
          "scattercarpet": [
           {
            "marker": {
             "colorbar": {
              "outlinewidth": 0,
              "ticks": ""
             }
            },
            "type": "scattercarpet"
           }
          ],
          "scattergeo": [
           {
            "marker": {
             "colorbar": {
              "outlinewidth": 0,
              "ticks": ""
             }
            },
            "type": "scattergeo"
           }
          ],
          "scattergl": [
           {
            "marker": {
             "colorbar": {
              "outlinewidth": 0,
              "ticks": ""
             }
            },
            "type": "scattergl"
           }
          ],
          "scattermapbox": [
           {
            "marker": {
             "colorbar": {
              "outlinewidth": 0,
              "ticks": ""
             }
            },
            "type": "scattermapbox"
           }
          ],
          "scatterpolar": [
           {
            "marker": {
             "colorbar": {
              "outlinewidth": 0,
              "ticks": ""
             }
            },
            "type": "scatterpolar"
           }
          ],
          "scatterpolargl": [
           {
            "marker": {
             "colorbar": {
              "outlinewidth": 0,
              "ticks": ""
             }
            },
            "type": "scatterpolargl"
           }
          ],
          "scatterternary": [
           {
            "marker": {
             "colorbar": {
              "outlinewidth": 0,
              "ticks": ""
             }
            },
            "type": "scatterternary"
           }
          ],
          "surface": [
           {
            "colorbar": {
             "outlinewidth": 0,
             "ticks": ""
            },
            "colorscale": [
             [
              0,
              "#0d0887"
             ],
             [
              0.1111111111111111,
              "#46039f"
             ],
             [
              0.2222222222222222,
              "#7201a8"
             ],
             [
              0.3333333333333333,
              "#9c179e"
             ],
             [
              0.4444444444444444,
              "#bd3786"
             ],
             [
              0.5555555555555556,
              "#d8576b"
             ],
             [
              0.6666666666666666,
              "#ed7953"
             ],
             [
              0.7777777777777778,
              "#fb9f3a"
             ],
             [
              0.8888888888888888,
              "#fdca26"
             ],
             [
              1,
              "#f0f921"
             ]
            ],
            "type": "surface"
           }
          ],
          "table": [
           {
            "cells": {
             "fill": {
              "color": "#EBF0F8"
             },
             "line": {
              "color": "white"
             }
            },
            "header": {
             "fill": {
              "color": "#C8D4E3"
             },
             "line": {
              "color": "white"
             }
            },
            "type": "table"
           }
          ]
         },
         "layout": {
          "annotationdefaults": {
           "arrowcolor": "#2a3f5f",
           "arrowhead": 0,
           "arrowwidth": 1
          },
          "autotypenumbers": "strict",
          "coloraxis": {
           "colorbar": {
            "outlinewidth": 0,
            "ticks": ""
           }
          },
          "colorscale": {
           "diverging": [
            [
             0,
             "#8e0152"
            ],
            [
             0.1,
             "#c51b7d"
            ],
            [
             0.2,
             "#de77ae"
            ],
            [
             0.3,
             "#f1b6da"
            ],
            [
             0.4,
             "#fde0ef"
            ],
            [
             0.5,
             "#f7f7f7"
            ],
            [
             0.6,
             "#e6f5d0"
            ],
            [
             0.7,
             "#b8e186"
            ],
            [
             0.8,
             "#7fbc41"
            ],
            [
             0.9,
             "#4d9221"
            ],
            [
             1,
             "#276419"
            ]
           ],
           "sequential": [
            [
             0,
             "#0d0887"
            ],
            [
             0.1111111111111111,
             "#46039f"
            ],
            [
             0.2222222222222222,
             "#7201a8"
            ],
            [
             0.3333333333333333,
             "#9c179e"
            ],
            [
             0.4444444444444444,
             "#bd3786"
            ],
            [
             0.5555555555555556,
             "#d8576b"
            ],
            [
             0.6666666666666666,
             "#ed7953"
            ],
            [
             0.7777777777777778,
             "#fb9f3a"
            ],
            [
             0.8888888888888888,
             "#fdca26"
            ],
            [
             1,
             "#f0f921"
            ]
           ],
           "sequentialminus": [
            [
             0,
             "#0d0887"
            ],
            [
             0.1111111111111111,
             "#46039f"
            ],
            [
             0.2222222222222222,
             "#7201a8"
            ],
            [
             0.3333333333333333,
             "#9c179e"
            ],
            [
             0.4444444444444444,
             "#bd3786"
            ],
            [
             0.5555555555555556,
             "#d8576b"
            ],
            [
             0.6666666666666666,
             "#ed7953"
            ],
            [
             0.7777777777777778,
             "#fb9f3a"
            ],
            [
             0.8888888888888888,
             "#fdca26"
            ],
            [
             1,
             "#f0f921"
            ]
           ]
          },
          "colorway": [
           "#636efa",
           "#EF553B",
           "#00cc96",
           "#ab63fa",
           "#FFA15A",
           "#19d3f3",
           "#FF6692",
           "#B6E880",
           "#FF97FF",
           "#FECB52"
          ],
          "font": {
           "color": "#2a3f5f"
          },
          "geo": {
           "bgcolor": "white",
           "lakecolor": "white",
           "landcolor": "#E5ECF6",
           "showlakes": true,
           "showland": true,
           "subunitcolor": "white"
          },
          "hoverlabel": {
           "align": "left"
          },
          "hovermode": "closest",
          "mapbox": {
           "style": "light"
          },
          "paper_bgcolor": "white",
          "plot_bgcolor": "#E5ECF6",
          "polar": {
           "angularaxis": {
            "gridcolor": "white",
            "linecolor": "white",
            "ticks": ""
           },
           "bgcolor": "#E5ECF6",
           "radialaxis": {
            "gridcolor": "white",
            "linecolor": "white",
            "ticks": ""
           }
          },
          "scene": {
           "xaxis": {
            "backgroundcolor": "#E5ECF6",
            "gridcolor": "white",
            "gridwidth": 2,
            "linecolor": "white",
            "showbackground": true,
            "ticks": "",
            "zerolinecolor": "white"
           },
           "yaxis": {
            "backgroundcolor": "#E5ECF6",
            "gridcolor": "white",
            "gridwidth": 2,
            "linecolor": "white",
            "showbackground": true,
            "ticks": "",
            "zerolinecolor": "white"
           },
           "zaxis": {
            "backgroundcolor": "#E5ECF6",
            "gridcolor": "white",
            "gridwidth": 2,
            "linecolor": "white",
            "showbackground": true,
            "ticks": "",
            "zerolinecolor": "white"
           }
          },
          "shapedefaults": {
           "line": {
            "color": "#2a3f5f"
           }
          },
          "ternary": {
           "aaxis": {
            "gridcolor": "white",
            "linecolor": "white",
            "ticks": ""
           },
           "baxis": {
            "gridcolor": "white",
            "linecolor": "white",
            "ticks": ""
           },
           "bgcolor": "#E5ECF6",
           "caxis": {
            "gridcolor": "white",
            "linecolor": "white",
            "ticks": ""
           }
          },
          "title": {
           "x": 0.05
          },
          "xaxis": {
           "automargin": true,
           "gridcolor": "white",
           "linecolor": "white",
           "ticks": "",
           "title": {
            "standoff": 15
           },
           "zerolinecolor": "white",
           "zerolinewidth": 2
          },
          "yaxis": {
           "automargin": true,
           "gridcolor": "white",
           "linecolor": "white",
           "ticks": "",
           "title": {
            "standoff": 15
           },
           "zerolinecolor": "white",
           "zerolinewidth": 2
          }
         }
        },
        "title": {
         "text": "In which month, the conent is added the most?"
        }
       }
      },
      "text/html": [
       "<div>                            <div id=\"e97fbbce-c8e4-45c1-80e1-a1f5be60dd82\" class=\"plotly-graph-div\" style=\"height:525px; width:100%;\"></div>            <script type=\"text/javascript\">                require([\"plotly\"], function(Plotly) {                    window.PLOTLYENV=window.PLOTLYENV || {};                                    if (document.getElementById(\"e97fbbce-c8e4-45c1-80e1-a1f5be60dd82\")) {                    Plotly.newPlot(                        \"e97fbbce-c8e4-45c1-80e1-a1f5be60dd82\",                        [{\"marker\":{\"color\":\"#e50914\"},\"name\":\"TV Shows\",\"type\":\"bar\",\"x\":[1.0,2.0,3.0,4.0,5.0,6.0,7.0,8.0,9.0,10.0,11.0,12.0],\"y\":[197,143,198,181,172,165,197,204,204,232,227,278]}],                        {\"legend\":{\"orientation\":\"h\",\"x\":0.1,\"y\":1.1},\"template\":{\"data\":{\"bar\":[{\"error_x\":{\"color\":\"#2a3f5f\"},\"error_y\":{\"color\":\"#2a3f5f\"},\"marker\":{\"line\":{\"color\":\"#E5ECF6\",\"width\":0.5},\"pattern\":{\"fillmode\":\"overlay\",\"size\":10,\"solidity\":0.2}},\"type\":\"bar\"}],\"barpolar\":[{\"marker\":{\"line\":{\"color\":\"#E5ECF6\",\"width\":0.5},\"pattern\":{\"fillmode\":\"overlay\",\"size\":10,\"solidity\":0.2}},\"type\":\"barpolar\"}],\"carpet\":[{\"aaxis\":{\"endlinecolor\":\"#2a3f5f\",\"gridcolor\":\"white\",\"linecolor\":\"white\",\"minorgridcolor\":\"white\",\"startlinecolor\":\"#2a3f5f\"},\"baxis\":{\"endlinecolor\":\"#2a3f5f\",\"gridcolor\":\"white\",\"linecolor\":\"white\",\"minorgridcolor\":\"white\",\"startlinecolor\":\"#2a3f5f\"},\"type\":\"carpet\"}],\"choropleth\":[{\"colorbar\":{\"outlinewidth\":0,\"ticks\":\"\"},\"type\":\"choropleth\"}],\"contour\":[{\"colorbar\":{\"outlinewidth\":0,\"ticks\":\"\"},\"colorscale\":[[0.0,\"#0d0887\"],[0.1111111111111111,\"#46039f\"],[0.2222222222222222,\"#7201a8\"],[0.3333333333333333,\"#9c179e\"],[0.4444444444444444,\"#bd3786\"],[0.5555555555555556,\"#d8576b\"],[0.6666666666666666,\"#ed7953\"],[0.7777777777777778,\"#fb9f3a\"],[0.8888888888888888,\"#fdca26\"],[1.0,\"#f0f921\"]],\"type\":\"contour\"}],\"contourcarpet\":[{\"colorbar\":{\"outlinewidth\":0,\"ticks\":\"\"},\"type\":\"contourcarpet\"}],\"heatmap\":[{\"colorbar\":{\"outlinewidth\":0,\"ticks\":\"\"},\"colorscale\":[[0.0,\"#0d0887\"],[0.1111111111111111,\"#46039f\"],[0.2222222222222222,\"#7201a8\"],[0.3333333333333333,\"#9c179e\"],[0.4444444444444444,\"#bd3786\"],[0.5555555555555556,\"#d8576b\"],[0.6666666666666666,\"#ed7953\"],[0.7777777777777778,\"#fb9f3a\"],[0.8888888888888888,\"#fdca26\"],[1.0,\"#f0f921\"]],\"type\":\"heatmap\"}],\"heatmapgl\":[{\"colorbar\":{\"outlinewidth\":0,\"ticks\":\"\"},\"colorscale\":[[0.0,\"#0d0887\"],[0.1111111111111111,\"#46039f\"],[0.2222222222222222,\"#7201a8\"],[0.3333333333333333,\"#9c179e\"],[0.4444444444444444,\"#bd3786\"],[0.5555555555555556,\"#d8576b\"],[0.6666666666666666,\"#ed7953\"],[0.7777777777777778,\"#fb9f3a\"],[0.8888888888888888,\"#fdca26\"],[1.0,\"#f0f921\"]],\"type\":\"heatmapgl\"}],\"histogram\":[{\"marker\":{\"pattern\":{\"fillmode\":\"overlay\",\"size\":10,\"solidity\":0.2}},\"type\":\"histogram\"}],\"histogram2d\":[{\"colorbar\":{\"outlinewidth\":0,\"ticks\":\"\"},\"colorscale\":[[0.0,\"#0d0887\"],[0.1111111111111111,\"#46039f\"],[0.2222222222222222,\"#7201a8\"],[0.3333333333333333,\"#9c179e\"],[0.4444444444444444,\"#bd3786\"],[0.5555555555555556,\"#d8576b\"],[0.6666666666666666,\"#ed7953\"],[0.7777777777777778,\"#fb9f3a\"],[0.8888888888888888,\"#fdca26\"],[1.0,\"#f0f921\"]],\"type\":\"histogram2d\"}],\"histogram2dcontour\":[{\"colorbar\":{\"outlinewidth\":0,\"ticks\":\"\"},\"colorscale\":[[0.0,\"#0d0887\"],[0.1111111111111111,\"#46039f\"],[0.2222222222222222,\"#7201a8\"],[0.3333333333333333,\"#9c179e\"],[0.4444444444444444,\"#bd3786\"],[0.5555555555555556,\"#d8576b\"],[0.6666666666666666,\"#ed7953\"],[0.7777777777777778,\"#fb9f3a\"],[0.8888888888888888,\"#fdca26\"],[1.0,\"#f0f921\"]],\"type\":\"histogram2dcontour\"}],\"mesh3d\":[{\"colorbar\":{\"outlinewidth\":0,\"ticks\":\"\"},\"type\":\"mesh3d\"}],\"parcoords\":[{\"line\":{\"colorbar\":{\"outlinewidth\":0,\"ticks\":\"\"}},\"type\":\"parcoords\"}],\"pie\":[{\"automargin\":true,\"type\":\"pie\"}],\"scatter\":[{\"marker\":{\"colorbar\":{\"outlinewidth\":0,\"ticks\":\"\"}},\"type\":\"scatter\"}],\"scatter3d\":[{\"line\":{\"colorbar\":{\"outlinewidth\":0,\"ticks\":\"\"}},\"marker\":{\"colorbar\":{\"outlinewidth\":0,\"ticks\":\"\"}},\"type\":\"scatter3d\"}],\"scattercarpet\":[{\"marker\":{\"colorbar\":{\"outlinewidth\":0,\"ticks\":\"\"}},\"type\":\"scattercarpet\"}],\"scattergeo\":[{\"marker\":{\"colorbar\":{\"outlinewidth\":0,\"ticks\":\"\"}},\"type\":\"scattergeo\"}],\"scattergl\":[{\"marker\":{\"colorbar\":{\"outlinewidth\":0,\"ticks\":\"\"}},\"type\":\"scattergl\"}],\"scattermapbox\":[{\"marker\":{\"colorbar\":{\"outlinewidth\":0,\"ticks\":\"\"}},\"type\":\"scattermapbox\"}],\"scatterpolar\":[{\"marker\":{\"colorbar\":{\"outlinewidth\":0,\"ticks\":\"\"}},\"type\":\"scatterpolar\"}],\"scatterpolargl\":[{\"marker\":{\"colorbar\":{\"outlinewidth\":0,\"ticks\":\"\"}},\"type\":\"scatterpolargl\"}],\"scatterternary\":[{\"marker\":{\"colorbar\":{\"outlinewidth\":0,\"ticks\":\"\"}},\"type\":\"scatterternary\"}],\"surface\":[{\"colorbar\":{\"outlinewidth\":0,\"ticks\":\"\"},\"colorscale\":[[0.0,\"#0d0887\"],[0.1111111111111111,\"#46039f\"],[0.2222222222222222,\"#7201a8\"],[0.3333333333333333,\"#9c179e\"],[0.4444444444444444,\"#bd3786\"],[0.5555555555555556,\"#d8576b\"],[0.6666666666666666,\"#ed7953\"],[0.7777777777777778,\"#fb9f3a\"],[0.8888888888888888,\"#fdca26\"],[1.0,\"#f0f921\"]],\"type\":\"surface\"}],\"table\":[{\"cells\":{\"fill\":{\"color\":\"#EBF0F8\"},\"line\":{\"color\":\"white\"}},\"header\":{\"fill\":{\"color\":\"#C8D4E3\"},\"line\":{\"color\":\"white\"}},\"type\":\"table\"}]},\"layout\":{\"annotationdefaults\":{\"arrowcolor\":\"#2a3f5f\",\"arrowhead\":0,\"arrowwidth\":1},\"autotypenumbers\":\"strict\",\"coloraxis\":{\"colorbar\":{\"outlinewidth\":0,\"ticks\":\"\"}},\"colorscale\":{\"diverging\":[[0,\"#8e0152\"],[0.1,\"#c51b7d\"],[0.2,\"#de77ae\"],[0.3,\"#f1b6da\"],[0.4,\"#fde0ef\"],[0.5,\"#f7f7f7\"],[0.6,\"#e6f5d0\"],[0.7,\"#b8e186\"],[0.8,\"#7fbc41\"],[0.9,\"#4d9221\"],[1,\"#276419\"]],\"sequential\":[[0.0,\"#0d0887\"],[0.1111111111111111,\"#46039f\"],[0.2222222222222222,\"#7201a8\"],[0.3333333333333333,\"#9c179e\"],[0.4444444444444444,\"#bd3786\"],[0.5555555555555556,\"#d8576b\"],[0.6666666666666666,\"#ed7953\"],[0.7777777777777778,\"#fb9f3a\"],[0.8888888888888888,\"#fdca26\"],[1.0,\"#f0f921\"]],\"sequentialminus\":[[0.0,\"#0d0887\"],[0.1111111111111111,\"#46039f\"],[0.2222222222222222,\"#7201a8\"],[0.3333333333333333,\"#9c179e\"],[0.4444444444444444,\"#bd3786\"],[0.5555555555555556,\"#d8576b\"],[0.6666666666666666,\"#ed7953\"],[0.7777777777777778,\"#fb9f3a\"],[0.8888888888888888,\"#fdca26\"],[1.0,\"#f0f921\"]]},\"colorway\":[\"#636efa\",\"#EF553B\",\"#00cc96\",\"#ab63fa\",\"#FFA15A\",\"#19d3f3\",\"#FF6692\",\"#B6E880\",\"#FF97FF\",\"#FECB52\"],\"font\":{\"color\":\"#2a3f5f\"},\"geo\":{\"bgcolor\":\"white\",\"lakecolor\":\"white\",\"landcolor\":\"#E5ECF6\",\"showlakes\":true,\"showland\":true,\"subunitcolor\":\"white\"},\"hoverlabel\":{\"align\":\"left\"},\"hovermode\":\"closest\",\"mapbox\":{\"style\":\"light\"},\"paper_bgcolor\":\"white\",\"plot_bgcolor\":\"#E5ECF6\",\"polar\":{\"angularaxis\":{\"gridcolor\":\"white\",\"linecolor\":\"white\",\"ticks\":\"\"},\"bgcolor\":\"#E5ECF6\",\"radialaxis\":{\"gridcolor\":\"white\",\"linecolor\":\"white\",\"ticks\":\"\"}},\"scene\":{\"xaxis\":{\"backgroundcolor\":\"#E5ECF6\",\"gridcolor\":\"white\",\"gridwidth\":2,\"linecolor\":\"white\",\"showbackground\":true,\"ticks\":\"\",\"zerolinecolor\":\"white\"},\"yaxis\":{\"backgroundcolor\":\"#E5ECF6\",\"gridcolor\":\"white\",\"gridwidth\":2,\"linecolor\":\"white\",\"showbackground\":true,\"ticks\":\"\",\"zerolinecolor\":\"white\"},\"zaxis\":{\"backgroundcolor\":\"#E5ECF6\",\"gridcolor\":\"white\",\"gridwidth\":2,\"linecolor\":\"white\",\"showbackground\":true,\"ticks\":\"\",\"zerolinecolor\":\"white\"}},\"shapedefaults\":{\"line\":{\"color\":\"#2a3f5f\"}},\"ternary\":{\"aaxis\":{\"gridcolor\":\"white\",\"linecolor\":\"white\",\"ticks\":\"\"},\"baxis\":{\"gridcolor\":\"white\",\"linecolor\":\"white\",\"ticks\":\"\"},\"bgcolor\":\"#E5ECF6\",\"caxis\":{\"gridcolor\":\"white\",\"linecolor\":\"white\",\"ticks\":\"\"}},\"title\":{\"x\":0.05},\"xaxis\":{\"automargin\":true,\"gridcolor\":\"white\",\"linecolor\":\"white\",\"ticks\":\"\",\"title\":{\"standoff\":15},\"zerolinecolor\":\"white\",\"zerolinewidth\":2},\"yaxis\":{\"automargin\":true,\"gridcolor\":\"white\",\"linecolor\":\"white\",\"ticks\":\"\",\"title\":{\"standoff\":15},\"zerolinecolor\":\"white\",\"zerolinewidth\":2}}},\"title\":{\"text\":\"In which month, the conent is added the most?\"}},                        {\"responsive\": true}                    ).then(function(){\n",
       "                            \n",
       "var gd = document.getElementById('e97fbbce-c8e4-45c1-80e1-a1f5be60dd82');\n",
       "var x = new MutationObserver(function (mutations, observer) {{\n",
       "        var display = window.getComputedStyle(gd).display;\n",
       "        if (!display || display === 'none') {{\n",
       "            console.log([gd, 'removed!']);\n",
       "            Plotly.purge(gd);\n",
       "            observer.disconnect();\n",
       "        }}\n",
       "}});\n",
       "\n",
       "// Listen for the removal of the full notebook cells\n",
       "var notebookContainer = gd.closest('#notebook-container');\n",
       "if (notebookContainer) {{\n",
       "    x.observe(notebookContainer, {childList: true});\n",
       "}}\n",
       "\n",
       "// Listen for the clearing of the current output cell\n",
       "var outputEl = gd.closest('.output');\n",
       "if (outputEl) {{\n",
       "    x.observe(outputEl, {childList: true});\n",
       "}}\n",
       "\n",
       "                        })                };                });            </script>        </div>"
      ]
     },
     "metadata": {}
    }
   ],
   "metadata": {}
  },
  {
   "cell_type": "code",
   "execution_count": 18,
   "source": [
    "small = df.sort_values(\"release_year\", ascending = True)\r\n",
    "small = small[small['duration'] != \"\"]\r\n",
    "small[['title', \"release_year\"]][:15]"
   ],
   "outputs": [
    {
     "output_type": "execute_result",
     "data": {
      "text/html": [
       "<div>\n",
       "<style scoped>\n",
       "    .dataframe tbody tr th:only-of-type {\n",
       "        vertical-align: middle;\n",
       "    }\n",
       "\n",
       "    .dataframe tbody tr th {\n",
       "        vertical-align: top;\n",
       "    }\n",
       "\n",
       "    .dataframe thead th {\n",
       "        text-align: right;\n",
       "    }\n",
       "</style>\n",
       "<table border=\"1\" class=\"dataframe\">\n",
       "  <thead>\n",
       "    <tr style=\"text-align: right;\">\n",
       "      <th></th>\n",
       "      <th>title</th>\n",
       "      <th>release_year</th>\n",
       "    </tr>\n",
       "  </thead>\n",
       "  <tbody>\n",
       "    <tr>\n",
       "      <th>6117</th>\n",
       "      <td>The Battle of Midway</td>\n",
       "      <td>1942</td>\n",
       "    </tr>\n",
       "    <tr>\n",
       "      <th>4960</th>\n",
       "      <td>Prelude to War</td>\n",
       "      <td>1942</td>\n",
       "    </tr>\n",
       "    <tr>\n",
       "      <th>7679</th>\n",
       "      <td>WWII: Report from the Aleutians</td>\n",
       "      <td>1943</td>\n",
       "    </tr>\n",
       "    <tr>\n",
       "      <th>7616</th>\n",
       "      <td>Why We Fight: The Battle of Russia</td>\n",
       "      <td>1943</td>\n",
       "    </tr>\n",
       "    <tr>\n",
       "      <th>7342</th>\n",
       "      <td>Undercover: How to Operate Behind Enemy Lines</td>\n",
       "      <td>1943</td>\n",
       "    </tr>\n",
       "    <tr>\n",
       "      <th>6657</th>\n",
       "      <td>The Memphis Belle: A Story of a\\nFlying Fortress</td>\n",
       "      <td>1944</td>\n",
       "    </tr>\n",
       "    <tr>\n",
       "      <th>6699</th>\n",
       "      <td>The Negro Soldier</td>\n",
       "      <td>1944</td>\n",
       "    </tr>\n",
       "    <tr>\n",
       "      <th>7268</th>\n",
       "      <td>Tunisian Victory</td>\n",
       "      <td>1944</td>\n",
       "    </tr>\n",
       "    <tr>\n",
       "      <th>5371</th>\n",
       "      <td>San Pietro</td>\n",
       "      <td>1945</td>\n",
       "    </tr>\n",
       "    <tr>\n",
       "      <th>4436</th>\n",
       "      <td>Nazi Concentration Camps</td>\n",
       "      <td>1945</td>\n",
       "    </tr>\n",
       "    <tr>\n",
       "      <th>3425</th>\n",
       "      <td>Know Your Enemy - Japan</td>\n",
       "      <td>1945</td>\n",
       "    </tr>\n",
       "    <tr>\n",
       "      <th>3608</th>\n",
       "      <td>Let There Be Light</td>\n",
       "      <td>1946</td>\n",
       "    </tr>\n",
       "    <tr>\n",
       "      <th>7072</th>\n",
       "      <td>Thunderbolt</td>\n",
       "      <td>1947</td>\n",
       "    </tr>\n",
       "    <tr>\n",
       "      <th>6141</th>\n",
       "      <td>The Blazing Sun</td>\n",
       "      <td>1954</td>\n",
       "    </tr>\n",
       "    <tr>\n",
       "      <th>7595</th>\n",
       "      <td>White Christmas</td>\n",
       "      <td>1954</td>\n",
       "    </tr>\n",
       "  </tbody>\n",
       "</table>\n",
       "</div>"
      ],
      "text/plain": [
       "                                                 title  release_year\n",
       "6117                              The Battle of Midway          1942\n",
       "4960                                    Prelude to War          1942\n",
       "7679                   WWII: Report from the Aleutians          1943\n",
       "7616                Why We Fight: The Battle of Russia          1943\n",
       "7342     Undercover: How to Operate Behind Enemy Lines          1943\n",
       "6657  The Memphis Belle: A Story of a\\nFlying Fortress          1944\n",
       "6699                                 The Negro Soldier          1944\n",
       "7268                                  Tunisian Victory          1944\n",
       "5371                                        San Pietro          1945\n",
       "4436                          Nazi Concentration Camps          1945\n",
       "3425                           Know Your Enemy - Japan          1945\n",
       "3608                                Let There Be Light          1946\n",
       "7072                                       Thunderbolt          1947\n",
       "6141                                   The Blazing Sun          1954\n",
       "7595                                   White Christmas          1954"
      ]
     },
     "metadata": {},
     "execution_count": 18
    }
   ],
   "metadata": {}
  },
  {
   "cell_type": "code",
   "execution_count": 19,
   "source": [
    "df['country']"
   ],
   "outputs": [
    {
     "output_type": "execute_result",
     "data": {
      "text/plain": [
       "0                                                  Brazil\n",
       "1                                                  Mexico\n",
       "2                                               Singapore\n",
       "3                                           United States\n",
       "4                                           United States\n",
       "                              ...                        \n",
       "7782    Sweden, Czech Republic, United Kingdom, Denmar...\n",
       "7783                                                India\n",
       "7784                                        United States\n",
       "7785                                            Australia\n",
       "7786                United Kingdom, Canada, United States\n",
       "Name: country, Length: 7770, dtype: object"
      ]
     },
     "metadata": {},
     "execution_count": 19
    }
   ],
   "metadata": {}
  },
  {
   "cell_type": "code",
   "execution_count": 20,
   "source": [
    "df['first_country'] = df['country'].apply(lambda x: x.split(',')[0])\r\n",
    "df['first_country']"
   ],
   "outputs": [
    {
     "output_type": "execute_result",
     "data": {
      "text/plain": [
       "0               Brazil\n",
       "1               Mexico\n",
       "2            Singapore\n",
       "3        United States\n",
       "4        United States\n",
       "             ...      \n",
       "7782            Sweden\n",
       "7783             India\n",
       "7784     United States\n",
       "7785         Australia\n",
       "7786    United Kingdom\n",
       "Name: first_country, Length: 7770, dtype: object"
      ]
     },
     "metadata": {},
     "execution_count": 20
    }
   ],
   "metadata": {}
  },
  {
   "cell_type": "code",
   "execution_count": 21,
   "source": [
    "df['first_country'].replace('United States', 'USA', inplace=True)\r\n",
    "df['first_country'].replace('United Kingdom', 'UK', inplace=True)\r\n",
    "df['first_country'].replace('South Korea', 'SK', inplace=True)"
   ],
   "outputs": [],
   "metadata": {}
  },
  {
   "cell_type": "code",
   "execution_count": 22,
   "source": [
    "df['count'] = 1\r\n",
    "data = df.groupby('first_country')['count'].sum().sort_values(ascending=False)[:10]"
   ],
   "outputs": [],
   "metadata": {}
  },
  {
   "cell_type": "code",
   "execution_count": 23,
   "source": [
    "data"
   ],
   "outputs": [
    {
     "output_type": "execute_result",
     "data": {
      "text/plain": [
       "first_country\n",
       "USA       3379\n",
       "India      956\n",
       "UK         576\n",
       "Canada     259\n",
       "Japan      235\n",
       "France     196\n",
       "SK         194\n",
       "Spain      168\n",
       "Mexico     123\n",
       "Turkey     106\n",
       "Name: count, dtype: int64"
      ]
     },
     "metadata": {},
     "execution_count": 23
    }
   ],
   "metadata": {}
  },
  {
   "cell_type": "code",
   "execution_count": 24,
   "source": [
    "color_map = ['#f5f5f1' for _ in range(10)]\r\n",
    "color_map[0] = color_map[1]= color_map[2] = '#b20710'\r\n",
    "fig,ax = plt.subplots(1,1,figsize=(12,6))\r\n",
    "#Annotating the figure\r\n",
    "ax.bar(data.index,data,width=0.5,edgecolor='darkgray',linewidth=0.6,color=color_map)\r\n",
    "for i in data.index:\r\n",
    "    ax.annotate(f\"{data[i]}\",xy=(i,data[i]+100),va='center',ha='center',fontweight='light',fontfamily='serif')\r\n",
    "for s in ['top','left','right']:\r\n",
    "    ax.spines[s].set_visible(False)\r\n",
    "    \r\n",
    "#Adding text\r\n",
    "fig.text(0.125,1,'Top 10 countries on Netflix',fontsize=15,fontweight='bold',fontfamily='serif')\r\n",
    "fig.text(0.125,0.95,'The three most frequent countries have been highlighted.',fontsize=10,fontweight='light',fontfamily='serif')"
   ],
   "outputs": [
    {
     "output_type": "execute_result",
     "data": {
      "text/plain": [
       "Text(0.125, 0.95, 'The three most frequent countries have been highlighted.')"
      ]
     },
     "metadata": {},
     "execution_count": 24
    },
    {
     "output_type": "display_data",
     "data": {
      "image/png": "[encoded data removed]",
      "text/plain": [
       "<Figure size 864x432 with 1 Axes>"
      ]
     },
     "metadata": {
      "needs_background": "light"
     }
    }
   ],
   "metadata": {}
  },
  {
   "cell_type": "code",
   "execution_count": 26,
   "source": [
    "import plotly .figure_factory as ff\r\n",
    "\r\n",
    "x1 = d2['duration'].fillna(0.0).astype(float)\r\n",
    "\r\n",
    "fig = ff.create_distplot([x1], ['freq'], bin_size=0.7, curve_type='normal', colors=['#221f1f'])\r\n",
    "fig.update_layout(title_text='Distplot')\r\n",
    "fig.show()"
   ],
   "outputs": [
    {
     "output_type": "display_data",
     "data": {
      "application/vnd.plotly.v1+json": {
       "config": {
        "plotlyServerURL": "https://plot.ly"
       },
       "data": [
        {
         "autobinx": false,
         "histnorm": "probability density",
         "legendgroup": "freq",
         "marker": {
          "color": "#221f1f"
         },
         "name": "freq",
         "opacity": 0.7,
         "type": "histogram",
         "x": [
          93,
          78,
          80,
          123,
          95,
          119,
          118,
          143,
          103,
          89,
          91,
          149,
          144,
          124,
          87,
          110,
          128,
          117,
          100,
          84,
          99,
          95,
          90,
          102,
          104,
          99,
          105,
          56,
          125,
          119,
          81,
          97,
          106,
          99,
          107,
          93,
          89,
          105,
          87,
          97,
          109,
          93,
          109,
          44,
          75,
          101,
          89,
          90,
          90,
          93,
          101,
          113,
          89,
          84,
          102,
          102,
          114,
          130,
          90,
          94,
          97,
          143,
          91,
          107,
          95,
          119,
          93,
          101,
          93,
          140,
          135,
          82,
          70,
          104,
          117,
          121,
          92,
          124,
          164,
          53,
          93,
          91,
          83,
          93,
          114,
          116,
          93,
          81,
          84,
          105,
          86,
          120,
          106,
          92,
          96,
          97,
          99,
          100,
          126,
          96,
          75,
          94,
          129,
          80,
          103,
          96,
          77,
          137,
          148,
          123,
          121,
          95,
          28,
          99,
          104,
          122,
          104,
          94,
          176,
          107,
          90,
          94,
          101,
          87,
          92,
          85,
          93,
          22,
          95,
          86,
          137,
          101,
          68,
          121,
          111,
          110,
          29,
          142,
          168,
          102,
          92,
          86,
          22,
          22,
          21,
          59,
          93,
          86,
          80,
          109,
          92,
          92,
          89,
          96,
          95,
          87,
          93,
          113,
          20,
          117,
          97,
          98,
          108,
          125,
          91,
          76,
          90,
          82,
          111,
          92,
          110,
          94,
          100,
          91,
          94,
          44,
          108,
          130,
          83,
          123,
          106,
          87,
          130,
          100,
          96,
          89,
          95,
          26,
          156,
          98,
          30,
          108,
          92,
          28,
          99,
          85,
          122,
          84,
          57,
          107,
          102,
          103,
          91,
          104,
          91,
          110,
          111,
          77,
          99,
          122,
          150,
          117,
          126,
          148,
          122,
          95,
          133,
          164,
          115,
          154,
          133,
          110,
          127,
          146,
          136,
          100,
          90,
          88,
          131,
          44,
          101,
          123,
          90,
          89,
          87,
          24,
          88,
          133,
          110,
          112,
          129,
          87,
          87,
          120,
          59,
          74,
          96,
          91,
          59,
          105,
          63,
          111,
          96,
          99,
          92,
          86,
          90,
          63,
          106,
          38,
          93,
          87,
          25,
          105,
          94,
          107,
          89,
          92,
          22,
          174,
          60,
          97,
          122,
          91,
          84,
          97,
          127,
          153,
          158,
          151,
          150,
          105,
          109,
          81,
          162,
          104,
          54,
          94,
          83,
          85,
          106,
          60,
          102,
          88,
          51,
          100,
          131,
          109,
          69,
          106,
          115,
          60,
          64,
          110,
          54,
          147,
          112,
          87,
          63,
          88,
          42,
          90,
          89,
          79,
          101,
          102,
          122,
          85,
          83,
          92,
          40,
          84,
          104,
          91,
          109,
          100,
          90,
          90,
          94,
          99,
          90,
          95,
          92,
          103,
          103,
          103,
          45,
          45,
          90,
          106,
          75,
          98,
          112,
          92,
          103,
          104,
          92,
          172,
          125,
          96,
          44,
          81,
          112,
          122,
          101,
          53,
          53,
          110,
          10,
          99,
          95,
          119,
          163,
          55,
          84,
          96,
          102,
          90,
          106,
          72,
          127,
          116,
          128,
          61,
          57,
          80,
          80,
          75,
          75,
          79,
          93,
          129,
          108,
          87,
          71,
          97,
          91,
          83,
          85,
          116,
          130,
          111,
          113,
          97,
          102,
          106,
          160,
          137,
          171,
          171,
          104,
          95,
          90,
          128,
          103,
          121,
          30,
          48,
          139,
          105,
          104,
          162,
          157,
          15,
          106,
          130,
          88,
          146,
          64,
          104,
          127,
          92,
          100,
          72,
          118,
          110,
          65,
          64,
          59,
          122,
          90,
          60,
          134,
          89,
          161,
          86,
          87,
          130,
          107,
          80,
          79,
          62,
          93,
          81,
          87,
          54,
          98,
          113,
          91,
          89,
          63,
          110,
          98,
          125,
          106,
          93,
          139,
          90,
          123,
          168,
          83,
          101,
          94,
          100,
          117,
          133,
          81,
          91,
          104,
          106,
          112,
          122,
          102,
          88,
          99,
          186,
          49,
          94,
          90,
          95,
          97,
          110,
          97,
          73,
          88,
          150,
          97,
          91,
          92,
          111,
          101,
          112,
          73,
          89,
          129,
          58,
          80,
          65,
          99,
          126,
          135,
          127,
          165,
          166,
          166,
          138,
          159,
          160,
          159,
          136,
          112,
          101,
          143,
          127,
          98,
          61,
          95,
          86,
          84,
          111,
          92,
          102,
          97,
          90,
          119,
          147,
          99,
          130,
          87,
          83,
          83,
          105,
          91,
          117,
          117,
          78,
          75,
          78,
          149,
          103,
          108,
          84,
          94,
          95,
          141,
          122,
          134,
          107,
          126,
          122,
          95,
          88,
          101,
          74,
          64,
          74,
          74,
          83,
          72,
          79,
          72,
          80,
          75,
          75,
          72,
          109,
          132,
          110,
          99,
          144,
          91,
          105,
          166,
          103,
          128,
          118,
          87,
          77,
          98,
          94,
          125,
          29,
          102,
          121,
          116,
          110,
          88,
          52,
          89,
          52,
          137,
          51,
          110,
          92,
          119,
          81,
          73,
          75,
          99,
          89,
          121,
          100,
          92,
          100,
          98,
          97,
          97,
          86,
          105,
          100,
          96,
          115,
          99,
          76,
          113,
          88,
          106,
          127,
          90,
          74,
          91,
          85,
          90,
          102,
          90,
          87,
          100,
          25,
          94,
          105,
          99,
          116,
          82,
          120,
          77,
          92,
          107,
          62,
          57,
          70,
          98,
          77,
          44,
          97,
          100,
          104,
          56,
          108,
          83,
          91,
          149,
          112,
          102,
          98,
          107,
          59,
          120,
          151,
          116,
          112,
          117,
          130,
          74,
          150,
          63,
          138,
          148,
          114,
          123,
          97,
          105,
          107,
          106,
          87,
          93,
          88,
          126,
          107,
          103,
          90,
          68,
          100,
          95,
          108,
          86,
          81,
          65,
          67,
          78,
          69,
          28,
          34,
          61,
          56,
          81,
          97,
          132,
          110,
          66,
          127,
          131,
          107,
          124,
          38,
          115,
          88,
          97,
          116,
          132,
          117,
          137,
          100,
          79,
          162,
          144,
          79,
          312,
          135,
          83,
          114,
          88,
          116,
          91,
          83,
          80,
          90,
          106,
          129,
          94,
          94,
          120,
          83,
          91,
          130,
          91,
          102,
          85,
          88,
          110,
          113,
          123,
          180,
          98,
          81,
          90,
          90,
          94,
          112,
          129,
          85,
          108,
          60,
          60,
          97,
          47,
          99,
          83,
          168,
          116,
          99,
          106,
          130,
          161,
          111,
          26,
          92,
          102,
          99,
          89,
          108,
          123,
          86,
          89,
          88,
          126,
          117,
          111,
          79,
          96,
          70,
          87,
          89,
          86,
          74,
          139,
          112,
          84,
          100,
          80,
          86,
          105,
          90,
          63,
          96,
          89,
          90,
          102,
          51,
          92,
          94,
          96,
          108,
          105,
          81,
          105,
          116,
          77,
          61,
          110,
          110,
          94,
          51,
          118,
          100,
          95,
          133,
          97,
          110,
          90,
          120,
          155,
          91,
          90,
          90,
          129,
          103,
          103,
          14,
          95,
          103,
          73,
          94,
          95,
          94,
          97,
          98,
          98,
          119,
          76,
          104,
          148,
          78,
          102,
          94,
          98,
          108,
          128,
          110,
          122,
          177,
          104,
          135,
          127,
          114,
          98,
          87,
          151,
          78,
          73,
          125,
          126,
          101,
          11,
          11,
          22,
          93,
          95,
          105,
          104,
          104,
          117,
          101,
          120,
          114,
          93,
          104,
          99,
          9,
          103,
          126,
          81,
          46,
          104,
          92,
          142,
          131,
          113,
          83,
          67,
          63,
          82,
          119,
          98,
          98,
          85,
          84,
          82,
          111,
          145,
          125,
          108,
          81,
          108,
          141,
          117,
          74,
          96,
          82,
          75,
          77,
          60,
          107,
          156,
          110,
          116,
          148,
          126,
          135,
          110,
          129,
          132,
          118,
          166,
          112,
          164,
          102,
          121,
          87,
          95,
          86,
          106,
          121,
          115,
          98,
          106,
          94,
          85,
          121,
          121,
          113,
          89,
          129,
          99,
          105,
          116,
          115,
          71,
          75,
          135,
          88,
          87,
          63,
          62,
          62,
          112,
          113,
          82,
          25,
          98,
          87,
          63,
          112,
          127,
          111,
          63,
          92,
          105,
          146,
          96,
          90,
          114,
          101,
          80,
          84,
          66,
          55,
          98,
          65,
          92,
          99,
          59,
          119,
          87,
          106,
          87,
          112,
          88,
          105,
          101,
          86,
          86,
          91,
          99,
          104,
          86,
          104,
          47,
          56,
          61,
          34,
          158,
          118,
          127,
          130,
          115,
          86,
          87,
          109,
          151,
          106,
          130,
          69,
          77,
          110,
          102,
          88,
          106,
          91,
          98,
          103,
          89,
          108,
          104,
          124,
          95,
          112,
          96,
          172,
          124,
          90,
          95,
          85,
          51,
          137,
          57,
          98,
          91,
          88,
          69,
          120,
          98,
          98,
          73,
          66,
          62,
          56,
          118,
          110,
          114,
          112,
          105,
          92,
          117,
          137,
          84,
          52,
          96,
          112,
          90,
          106,
          106,
          116,
          97,
          100,
          127,
          96,
          88,
          45,
          8,
          101,
          12,
          69,
          88,
          91,
          103,
          88,
          75,
          90,
          90,
          97,
          67,
          112,
          102,
          114,
          107,
          110,
          14,
          78,
          80,
          108,
          67,
          40,
          81,
          120,
          101,
          114,
          95,
          90,
          45,
          99,
          93,
          82,
          96,
          96,
          59,
          58,
          102,
          107,
          156,
          82,
          118,
          133,
          153,
          135,
          117,
          103,
          93,
          82,
          115,
          151,
          103,
          117,
          64,
          100,
          81,
          70,
          52,
          161,
          97,
          55,
          78,
          103,
          108,
          75,
          113,
          98,
          100,
          91,
          93,
          81,
          90,
          113,
          97,
          104,
          116,
          121,
          112,
          66,
          85,
          84,
          77,
          97,
          73,
          107,
          91,
          76,
          81,
          110,
          90,
          94,
          78,
          97,
          86,
          86,
          94,
          83,
          43,
          100,
          92,
          149,
          93,
          91,
          88,
          100,
          94,
          111,
          71,
          53,
          101,
          146,
          93,
          107,
          156,
          82,
          137,
          79,
          92,
          128,
          101,
          102,
          102,
          96,
          62,
          56,
          99,
          83,
          140,
          62,
          70,
          66,
          74,
          50,
          69,
          94,
          88,
          76,
          107,
          90,
          79,
          136,
          99,
          97,
          88,
          137,
          87,
          108,
          94,
          123,
          128,
          157,
          114,
          127,
          127,
          102,
          124,
          132,
          113,
          93,
          113,
          96,
          90,
          133,
          90,
          69,
          23,
          23,
          165,
          185,
          174,
          176,
          166,
          145,
          109,
          118,
          154,
          115,
          90,
          108,
          134,
          107,
          111,
          87,
          112,
          107,
          95,
          165,
          91,
          106,
          121,
          200,
          93,
          118,
          120,
          90,
          99,
          90,
          107,
          89,
          169,
          148,
          83,
          96,
          99,
          95,
          88,
          94,
          115,
          113,
          93,
          93,
          92,
          98,
          65,
          127,
          105,
          97,
          114,
          134,
          142,
          105,
          105,
          110,
          94,
          104,
          126,
          94,
          69,
          82,
          86,
          86,
          103,
          94,
          103,
          97,
          84,
          98,
          97,
          68,
          27,
          46,
          46,
          46,
          42,
          92,
          109,
          46,
          89,
          92,
          162,
          119,
          99,
          97,
          100,
          102,
          94,
          92,
          97,
          93,
          162,
          85,
          110,
          170,
          165,
          141,
          88,
          52,
          90,
          81,
          91,
          107,
          106,
          92,
          140,
          127,
          82,
          98,
          69,
          90,
          92,
          103,
          80,
          65,
          133,
          153,
          100,
          109,
          102,
          124,
          105,
          120,
          134,
          151,
          141,
          120,
          106,
          109,
          105,
          89,
          123,
          119,
          85,
          82,
          52,
          106,
          48,
          73,
          122,
          74,
          95,
          73,
          79,
          94,
          143,
          81,
          196,
          84,
          28,
          27,
          98,
          119,
          90,
          109,
          93,
          92,
          49,
          90,
          102,
          82,
          128,
          90,
          74,
          94,
          87,
          108,
          151,
          40,
          109,
          91,
          163,
          66,
          93,
          124,
          85,
          59,
          103,
          105,
          102,
          107,
          52,
          81,
          99,
          69,
          88,
          120,
          95,
          100,
          91,
          110,
          124,
          96,
          69,
          91,
          96,
          103,
          102,
          96,
          98,
          133,
          124,
          127,
          102,
          134,
          108,
          133,
          103,
          58,
          79,
          101,
          78,
          96,
          103,
          81,
          95,
          117,
          110,
          25,
          108,
          99,
          106,
          103,
          92,
          90,
          60,
          89,
          54,
          106,
          61,
          150,
          80,
          124,
          98,
          82,
          99,
          92,
          29,
          109,
          91,
          33,
          102,
          114,
          146,
          94,
          75,
          158,
          61,
          90,
          72,
          95,
          100,
          97,
          118,
          92,
          70,
          110,
          58,
          91,
          60,
          86,
          91,
          63,
          133,
          103,
          117,
          181,
          118,
          101,
          204,
          29,
          92,
          94,
          118,
          98,
          90,
          93,
          125,
          106,
          114,
          40,
          83,
          117,
          99,
          60,
          60,
          91,
          96,
          102,
          90,
          123,
          103,
          137,
          90,
          112,
          49,
          61,
          78,
          124,
          60,
          104,
          83,
          163,
          119,
          74,
          102,
          83,
          88,
          86,
          66,
          90,
          134,
          92,
          145,
          105,
          95,
          93,
          93,
          84,
          112,
          93,
          81,
          98,
          123,
          132,
          74,
          87,
          105,
          109,
          96,
          61,
          88,
          125,
          118,
          113,
          100,
          79,
          86,
          61,
          54,
          66,
          87,
          70,
          32,
          85,
          91,
          105,
          93,
          65,
          115,
          91,
          58,
          51,
          139,
          112,
          135,
          99,
          103,
          116,
          72,
          86,
          104,
          97,
          92,
          161,
          104,
          93,
          35,
          93,
          99,
          106,
          47,
          52,
          97,
          85,
          135,
          75,
          110,
          88,
          91,
          134,
          82,
          87,
          106,
          109,
          97,
          88,
          98,
          110,
          88,
          123,
          104,
          128,
          91,
          132,
          88,
          58,
          57,
          126,
          101,
          108,
          111,
          135,
          96,
          98,
          98,
          98,
          102,
          86,
          148,
          167,
          96,
          109,
          70,
          78,
          79,
          78,
          62,
          96,
          95,
          126,
          97,
          107,
          118,
          130,
          154,
          90,
          107,
          95,
          96,
          52,
          87,
          103,
          109,
          98,
          101,
          103,
          110,
          104,
          85,
          101,
          129,
          163,
          100,
          78,
          58,
          47,
          110,
          145,
          58,
          56,
          22,
          95,
          161,
          141,
          115,
          101,
          96,
          68,
          58,
          90,
          126,
          106,
          92,
          103,
          82,
          71,
          121,
          77,
          91,
          77,
          86,
          103,
          42,
          60,
          111,
          103,
          129,
          113,
          106,
          105,
          101,
          91,
          88,
          137,
          22,
          130,
          89,
          110,
          112,
          135,
          148,
          100,
          101,
          96,
          115,
          96,
          90,
          103,
          75,
          99,
          99,
          93,
          90,
          90,
          101,
          145,
          95,
          92,
          102,
          90,
          144,
          137,
          98,
          109,
          150,
          117,
          93,
          96,
          133,
          71,
          80,
          57,
          98,
          110,
          131,
          95,
          102,
          66,
          65,
          114,
          96,
          97,
          106,
          82,
          78,
          67,
          84,
          95,
          120,
          149,
          126,
          90,
          143,
          113,
          106,
          155,
          57,
          121,
          91,
          100,
          101,
          137,
          138,
          125,
          95,
          154,
          106,
          116,
          116,
          97,
          93,
          129,
          111,
          117,
          65,
          158,
          110,
          108,
          79,
          95,
          81,
          99,
          86,
          73,
          70,
          68,
          86,
          138,
          110,
          78,
          127,
          129,
          91,
          179,
          113,
          79,
          105,
          93,
          98,
          94,
          79,
          96,
          67,
          99,
          62,
          55,
          101,
          88,
          95,
          87,
          83,
          90,
          100,
          73,
          135,
          151,
          109,
          109,
          89,
          99,
          86,
          86,
          85,
          129,
          98,
          93,
          111,
          58,
          95,
          89,
          97,
          89,
          90,
          104,
          119,
          92,
          107,
          124,
          87,
          91,
          94,
          118,
          86,
          102,
          122,
          126,
          117,
          65,
          118,
          126,
          87,
          156,
          97,
          96,
          89,
          97,
          40,
          143,
          81,
          88,
          87,
          96,
          104,
          129,
          124,
          118,
          111,
          125,
          120,
          91,
          137,
          104,
          80,
          127,
          141,
          117,
          140,
          95,
          93,
          97,
          118,
          100,
          118,
          150,
          44,
          54,
          170,
          118,
          126,
          128,
          104,
          105,
          86,
          94,
          106,
          92,
          108,
          89,
          95,
          103,
          92,
          102,
          126,
          87,
          138,
          73,
          84,
          111,
          100,
          119,
          94,
          86,
          142,
          95,
          95,
          80,
          79,
          81,
          120,
          61,
          85,
          104,
          96,
          91,
          134,
          93,
          120,
          83,
          82,
          88,
          102,
          101,
          96,
          97,
          105,
          101,
          86,
          88,
          84,
          89,
          113,
          110,
          105,
          116,
          94,
          110,
          104,
          116,
          47,
          102,
          51,
          143,
          103,
          104,
          127,
          83,
          193,
          176,
          95,
          149,
          131,
          79,
          101,
          97,
          89,
          91,
          140,
          85,
          85,
          150,
          82,
          117,
          84,
          106,
          107,
          90,
          98,
          82,
          87,
          54,
          102,
          114,
          99,
          139,
          94,
          88,
          89,
          93,
          82,
          117,
          91,
          91,
          97,
          89,
          106,
          116,
          128,
          81,
          88,
          80,
          100,
          96,
          80,
          67,
          119,
          75,
          112,
          135,
          110,
          94,
          91,
          121,
          108,
          104,
          124,
          13,
          87,
          128,
          78,
          72,
          72,
          78,
          75,
          140,
          108,
          97,
          103,
          95,
          86,
          104,
          101,
          94,
          98,
          114,
          99,
          94,
          103,
          89,
          99,
          116,
          102,
          129,
          87,
          148,
          103,
          89,
          119,
          106,
          90,
          118,
          95,
          101,
          123,
          127,
          116,
          119,
          99,
          90,
          90,
          153,
          122,
          109,
          125,
          106,
          141,
          106,
          103,
          122,
          87,
          116,
          45,
          102,
          107,
          148,
          116,
          88,
          99,
          100,
          99,
          72,
          134,
          87,
          91,
          88,
          96,
          107,
          108,
          105,
          105,
          127,
          137,
          77,
          108,
          71,
          93,
          96,
          99,
          102,
          129,
          130,
          115,
          113,
          88,
          98,
          140,
          92,
          127,
          127,
          101,
          101,
          112,
          91,
          84,
          105,
          88,
          141,
          68,
          162,
          163,
          147,
          142,
          143,
          93,
          86,
          68,
          65,
          58,
          154,
          44,
          92,
          90,
          124,
          91,
          76,
          155,
          101,
          132,
          92,
          22,
          132,
          94,
          132,
          94,
          77,
          107,
          103,
          142,
          128,
          105,
          97,
          90,
          84,
          69,
          58,
          97,
          80,
          71,
          71,
          85,
          75,
          59,
          119,
          78,
          69,
          67,
          103,
          109,
          62,
          61,
          81,
          69,
          134,
          80,
          53,
          84,
          86,
          44,
          131,
          94,
          72,
          74,
          71,
          77,
          70,
          77,
          87,
          67,
          71,
          62,
          102,
          62,
          58,
          83,
          135,
          124,
          69,
          79,
          181,
          60,
          55,
          63,
          128,
          98,
          69,
          78,
          214,
          90,
          67,
          64,
          64,
          79,
          90,
          133,
          125,
          92,
          90,
          80,
          70,
          65,
          60,
          62,
          17,
          98,
          96,
          97,
          101,
          135,
          75,
          79,
          99,
          101,
          90,
          84,
          70,
          137,
          133,
          145,
          91,
          52,
          123,
          113,
          107,
          128,
          101,
          104,
          94,
          96,
          107,
          92,
          95,
          106,
          90,
          106,
          138,
          110,
          100,
          139,
          130,
          132,
          133,
          126,
          91,
          173,
          105,
          148,
          192,
          151,
          209,
          171,
          120,
          122,
          85,
          120,
          113,
          187,
          154,
          99,
          80,
          105,
          41,
          107,
          128,
          104,
          93,
          110,
          160,
          138,
          112,
          101,
          110,
          107,
          65,
          135,
          118,
          137,
          117,
          65,
          118,
          86,
          140,
          66,
          64,
          71,
          89,
          60,
          61,
          85,
          45,
          132,
          53,
          116,
          133,
          116,
          82,
          62,
          68,
          62,
          60,
          89,
          75,
          67,
          96,
          70,
          63,
          62,
          42,
          90,
          170,
          151,
          121,
          132,
          124,
          120,
          157,
          124,
          110,
          90,
          97,
          108,
          95,
          90,
          102,
          111,
          137,
          100,
          53,
          100,
          87,
          106,
          112,
          107,
          87,
          86,
          100,
          80,
          97,
          103,
          109,
          81,
          182,
          88,
          98,
          110,
          114,
          87,
          132,
          101,
          145,
          93,
          116,
          85,
          84,
          92,
          98,
          88,
          99,
          63,
          121,
          104,
          104,
          105,
          135,
          56,
          107,
          95,
          96,
          115,
          117,
          58,
          62,
          65,
          61,
          65,
          65,
          58,
          60,
          81,
          126,
          124,
          85,
          114,
          93,
          136,
          185,
          126,
          99,
          79,
          26,
          23,
          107,
          106,
          133,
          147,
          95,
          100,
          149,
          165,
          124,
          52,
          150,
          165,
          84,
          104,
          114,
          109,
          88,
          50,
          87,
          92,
          143,
          116,
          112,
          40,
          94,
          101,
          104,
          110,
          111,
          83,
          101,
          224,
          118,
          111,
          185,
          153,
          145,
          82,
          140,
          87,
          68,
          86,
          86,
          76,
          115,
          93,
          98,
          83,
          81,
          116,
          105,
          99,
          121,
          54,
          78,
          100,
          89,
          37,
          33,
          35,
          32,
          147,
          132,
          110,
          132,
          97,
          108,
          101,
          68,
          100,
          22,
          48,
          25,
          22,
          22,
          22,
          44,
          22,
          111,
          109,
          78,
          103,
          158,
          66,
          24,
          144,
          93,
          58,
          116,
          113,
          90,
          68,
          104,
          86,
          118,
          99,
          89,
          126,
          83,
          109,
          80,
          40,
          109,
          84,
          104,
          105,
          99,
          104,
          105,
          116,
          94,
          85,
          59,
          150,
          109,
          94,
          111,
          95,
          59,
          103,
          116,
          58,
          89,
          92,
          95,
          23,
          25,
          85,
          20,
          102,
          90,
          68,
          67,
          66,
          70,
          66,
          68,
          69,
          91,
          102,
          149,
          87,
          98,
          94,
          90,
          233,
          108,
          85,
          105,
          95,
          103,
          89,
          118,
          114,
          153,
          106,
          96,
          68,
          40,
          96,
          117,
          88,
          116,
          155,
          28,
          71,
          88,
          64,
          92,
          93,
          95,
          86,
          92,
          140,
          110,
          106,
          98,
          101,
          96,
          103,
          105,
          93,
          111,
          94,
          109,
          87,
          163,
          103,
          120,
          93,
          133,
          77,
          97,
          101,
          111,
          115,
          91,
          103,
          95,
          92,
          84,
          82,
          124,
          77,
          91,
          79,
          112,
          113,
          50,
          81,
          81,
          87,
          71,
          98,
          66,
          102,
          156,
          113,
          144,
          131,
          150,
          125,
          100,
          110,
          100,
          121,
          129,
          51,
          117,
          94,
          32,
          107,
          76,
          118,
          108,
          101,
          93,
          99,
          84,
          102,
          134,
          91,
          78,
          128,
          141,
          128,
          95,
          73,
          110,
          143,
          189,
          75,
          119,
          56,
          134,
          92,
          109,
          171,
          129,
          137,
          192,
          33,
          21,
          106,
          132,
          133,
          131,
          51,
          89,
          70,
          71,
          91,
          131,
          101,
          105,
          88,
          155,
          103,
          97,
          92,
          98,
          109,
          110,
          136,
          133,
          152,
          173,
          89,
          129,
          162,
          112,
          85,
          114,
          75,
          89,
          177,
          93,
          112,
          99,
          107,
          71,
          95,
          70,
          73,
          29,
          90,
          64,
          50,
          38,
          69,
          29,
          67,
          94,
          135,
          137,
          90,
          104,
          55,
          62,
          83,
          77,
          74,
          75,
          72,
          103,
          120,
          131,
          100,
          95,
          112,
          138,
          143,
          108,
          91,
          80,
          94,
          132,
          57,
          136,
          63,
          84,
          111,
          99,
          93,
          114,
          122,
          120,
          100,
          67,
          132,
          83,
          54,
          105,
          98,
          112,
          94,
          90,
          75,
          48,
          150,
          126,
          110,
          84,
          118,
          97,
          86,
          98,
          88,
          101,
          82,
          81,
          112,
          88,
          99,
          79,
          88,
          88,
          103,
          115,
          115,
          106,
          162,
          103,
          93,
          116,
          100,
          95,
          102,
          105,
          148,
          105,
          86,
          54,
          61,
          19,
          63,
          59,
          60,
          113,
          92,
          87,
          112,
          26,
          97,
          76,
          71,
          86,
          56,
          60,
          63,
          124,
          94,
          100,
          115,
          102,
          128,
          99,
          88,
          106,
          83,
          78,
          128,
          136,
          132,
          129,
          98,
          62,
          106,
          129,
          120,
          81,
          82,
          85,
          90,
          136,
          89,
          130,
          85,
          90,
          94,
          86,
          102,
          94,
          100,
          119,
          107,
          93,
          109,
          93,
          57,
          64,
          54,
          109,
          96,
          92,
          168,
          93,
          100,
          141,
          139,
          92,
          119,
          84,
          57,
          96,
          122,
          83,
          117,
          93,
          73,
          72,
          72,
          46,
          74,
          46,
          46,
          74,
          71,
          72,
          76,
          23,
          60,
          46,
          91,
          81,
          101,
          119,
          92,
          55,
          137,
          56,
          58,
          80,
          94,
          94,
          97,
          111,
          96,
          135,
          91,
          84,
          121,
          61,
          83,
          103,
          127,
          132,
          117,
          109,
          74,
          94,
          105,
          131,
          105,
          97,
          102,
          93,
          97,
          96,
          97,
          91,
          86,
          88,
          107,
          90,
          153,
          96,
          104,
          96,
          136,
          131,
          135,
          150,
          98,
          158,
          163,
          98,
          77,
          107,
          116,
          135,
          104,
          139,
          85,
          110,
          172,
          128,
          134,
          98,
          79,
          97,
          102,
          106,
          86,
          127,
          94,
          185,
          136,
          105,
          80,
          84,
          97,
          92,
          116,
          95,
          99,
          77,
          121,
          91,
          100,
          91,
          102,
          119,
          100,
          68,
          44,
          72,
          73,
          73,
          44,
          44,
          115,
          61,
          86,
          104,
          82,
          92,
          90,
          99,
          109,
          93,
          100,
          107,
          95,
          111,
          86,
          111,
          108,
          101,
          99,
          100,
          99,
          104,
          138,
          88,
          122,
          141,
          147,
          92,
          73,
          85,
          97,
          91,
          171,
          130,
          80,
          101,
          91,
          99,
          93,
          96,
          102,
          95,
          85,
          97,
          95,
          83,
          115,
          72,
          69,
          76,
          60,
          51,
          61,
          114,
          92,
          82,
          42,
          131,
          165,
          91,
          101,
          53,
          121,
          59,
          110,
          66,
          137,
          103,
          132,
          108,
          108,
          89,
          107,
          91,
          117,
          84,
          96,
          117,
          106,
          124,
          104,
          87,
          113,
          93,
          59,
          118,
          97,
          64,
          94,
          115,
          99,
          107,
          102,
          125,
          208,
          161,
          116,
          106,
          237,
          131,
          102,
          103,
          104,
          109,
          92,
          103,
          96,
          117,
          61,
          89,
          92,
          90,
          91,
          50,
          84,
          87,
          94,
          133,
          97,
          53,
          113,
          53,
          54,
          53,
          54,
          113,
          53,
          53,
          53,
          54,
          54,
          52,
          54,
          54,
          53,
          53,
          53,
          113,
          53,
          86,
          102,
          114,
          99,
          55,
          91,
          117,
          124,
          102,
          122,
          84,
          84,
          120,
          127,
          122,
          125,
          72,
          47,
          23,
          23,
          121,
          107,
          140,
          91,
          89,
          154,
          103,
          103,
          106,
          129,
          102,
          109,
          157,
          146,
          146,
          110,
          121,
          96,
          102,
          96,
          82,
          119,
          169,
          101,
          97,
          116,
          100,
          89,
          92,
          107,
          95,
          101,
          78,
          79,
          86,
          70,
          66,
          73,
          83,
          72,
          111,
          133,
          142,
          166,
          160,
          135,
          135,
          128,
          120,
          92,
          87,
          70,
          31,
          92,
          89,
          102,
          93,
          95,
          86,
          90,
          97,
          90,
          88,
          76,
          86,
          84,
          99,
          96,
          111,
          124,
          93,
          139,
          91,
          86,
          61,
          95,
          107,
          87,
          104,
          122,
          97,
          101,
          96,
          103,
          88,
          93,
          90,
          90,
          92,
          63,
          103,
          103,
          94,
          35,
          85,
          122,
          102,
          110,
          116,
          100,
          105,
          100,
          118,
          105,
          117,
          126,
          129,
          89,
          82,
          44,
          71,
          74,
          130,
          89,
          106,
          107,
          134,
          82,
          82,
          98,
          96,
          108,
          106,
          91,
          163,
          119,
          125,
          137,
          112,
          171,
          69,
          87,
          137,
          89,
          94,
          111,
          74,
          86,
          93,
          93,
          106,
          187,
          109,
          116,
          77,
          84,
          63,
          124,
          72,
          33,
          115,
          84,
          140,
          68,
          90,
          94,
          117,
          105,
          66,
          66,
          91,
          104,
          110,
          114,
          73,
          85,
          112,
          90,
          48,
          109,
          98,
          134,
          95,
          125,
          89,
          89,
          92,
          108,
          102,
          76,
          104,
          72,
          109,
          26,
          105,
          50,
          92,
          95,
          93,
          170,
          170,
          82,
          108,
          129,
          85,
          126,
          159,
          150,
          118,
          125,
          112,
          138,
          96,
          81,
          108,
          128,
          81,
          81,
          90,
          92,
          112,
          130,
          65,
          124,
          127,
          102,
          81,
          146,
          133,
          91,
          81,
          108,
          120,
          162,
          106,
          149,
          92,
          65,
          28,
          19,
          25,
          22,
          40,
          22,
          24,
          87,
          97,
          98,
          98,
          119,
          88,
          122,
          88,
          96,
          114,
          77,
          98,
          102,
          138,
          90,
          128,
          104,
          86,
          124,
          24,
          46,
          24,
          55,
          24,
          23,
          24,
          24,
          106,
          117,
          52,
          164,
          127,
          86,
          84,
          95,
          131,
          152,
          93,
          29,
          97,
          100,
          124,
          163,
          84,
          103,
          92,
          113,
          88,
          83,
          100,
          143,
          102,
          82,
          165,
          119,
          154,
          158,
          92,
          93,
          87,
          91,
          120,
          89,
          24,
          92,
          149,
          136,
          120,
          153,
          96,
          120,
          161,
          137,
          57,
          106,
          98,
          138,
          128,
          125,
          93,
          120,
          124,
          132,
          98,
          162,
          150,
          85,
          155,
          139,
          99,
          113,
          71,
          90,
          83,
          103,
          143,
          64,
          63,
          129,
          93,
          113,
          117,
          93,
          124,
          134,
          119,
          92,
          97,
          88,
          177,
          131,
          119,
          104,
          116,
          113,
          69,
          83,
          32,
          142,
          178,
          133,
          90,
          154,
          100,
          122,
          115,
          159,
          110,
          153,
          126,
          76,
          88,
          86,
          104,
          59,
          230,
          99,
          144,
          98,
          46,
          46,
          127,
          123,
          111,
          101,
          73,
          90,
          81,
          114,
          112,
          80,
          100,
          24,
          100,
          62,
          116,
          96,
          49,
          65,
          84,
          71,
          74,
          59,
          59,
          57,
          88,
          95,
          112,
          112,
          152,
          97,
          97,
          90,
          94,
          105,
          28,
          102,
          124,
          97,
          118,
          95,
          92,
          102,
          100,
          87,
          120,
          84,
          66,
          92,
          31,
          59,
          59,
          105,
          79,
          79,
          99,
          81,
          91,
          101,
          99,
          103,
          88,
          87,
          132,
          83,
          101,
          95,
          107,
          107,
          105,
          118,
          87,
          94,
          73,
          136,
          96,
          97,
          44,
          45,
          92,
          103,
          110,
          139,
          46,
          120,
          119,
          119,
          100,
          92,
          104,
          66,
          53,
          93,
          116,
          103,
          104,
          98,
          80,
          90,
          79,
          142,
          135,
          124,
          110,
          105,
          141,
          122,
          75,
          63,
          93,
          63,
          118,
          89,
          26,
          42,
          62,
          90,
          66,
          119,
          137,
          121,
          137,
          100,
          143,
          79,
          103,
          92,
          89,
          97,
          134,
          116,
          110,
          88,
          115,
          107,
          63,
          69,
          93,
          73,
          72,
          108,
          141,
          57,
          82,
          95,
          117,
          107,
          131,
          172,
          118,
          118,
          128,
          114,
          91,
          83,
          105,
          94,
          137,
          61,
          86,
          86,
          118,
          139,
          173,
          90,
          152,
          134,
          194,
          76,
          99,
          64,
          50,
          49,
          71,
          29,
          110,
          116,
          119,
          107,
          83,
          109,
          65,
          32,
          122,
          113,
          88,
          131,
          228,
          159,
          111,
          86,
          91,
          44,
          72,
          107,
          87,
          117,
          50,
          71,
          102,
          98,
          140,
          145,
          126,
          162,
          131,
          131,
          133,
          127,
          141,
          78,
          150,
          92,
          153,
          83,
          146,
          52,
          95,
          93,
          53,
          73,
          126,
          95,
          119,
          99,
          173,
          93,
          93,
          121,
          88,
          88,
          195,
          120,
          112,
          94,
          77,
          102,
          112,
          121,
          117,
          105,
          96,
          90,
          93,
          110,
          86,
          95,
          49,
          65,
          76,
          63,
          101,
          111,
          98,
          150,
          108,
          54,
          54,
          54,
          55,
          54,
          55,
          55,
          114,
          55,
          55,
          55,
          92,
          87,
          96,
          126,
          117,
          87,
          102,
          106,
          109,
          110,
          69,
          119,
          115,
          108,
          106,
          96,
          85,
          61,
          70,
          103,
          123,
          111,
          116,
          107,
          94,
          123,
          128,
          100,
          102,
          146,
          145,
          103,
          109,
          111,
          100,
          125,
          111,
          146,
          116,
          115,
          126,
          168,
          109,
          107,
          148,
          92,
          91,
          86,
          28,
          135,
          83,
          87,
          71,
          105,
          113,
          105,
          111,
          119,
          112,
          106,
          128,
          163,
          121,
          87,
          103,
          97,
          168,
          131,
          116,
          45,
          75,
          71,
          106,
          122,
          97,
          101,
          89,
          121,
          98,
          130,
          127,
          115,
          96,
          86,
          95,
          93,
          89,
          119,
          105,
          106,
          141,
          88,
          3,
          94,
          77,
          133,
          122,
          52,
          105,
          72,
          101,
          136,
          158,
          143,
          142,
          127,
          92,
          97,
          87,
          83,
          88,
          95,
          105,
          16,
          76,
          96,
          78,
          107,
          80,
          100,
          93,
          49,
          94,
          99,
          101,
          89,
          135,
          107,
          115,
          84,
          95,
          110,
          92,
          95,
          66,
          123,
          83,
          86,
          89,
          134,
          126,
          108,
          137,
          87,
          142,
          80,
          62,
          160,
          5,
          155,
          91,
          94,
          135,
          135,
          104,
          97,
          92,
          87,
          128,
          101,
          77,
          93,
          109,
          110,
          97,
          73,
          131,
          116,
          88,
          106,
          94,
          85,
          130,
          107,
          98,
          94,
          137,
          101,
          108,
          96,
          75,
          83,
          111,
          75,
          139,
          117,
          79,
          46,
          95,
          92,
          29,
          45,
          47,
          129,
          94,
          153,
          112,
          88,
          100,
          83,
          88,
          93,
          140,
          103,
          88,
          86,
          88,
          152,
          33,
          128,
          106,
          69,
          101,
          128,
          94,
          52,
          23,
          140,
          98,
          89,
          108,
          86,
          91,
          122,
          74,
          106,
          100,
          61,
          91,
          113,
          100,
          132,
          96,
          96,
          96,
          91,
          113,
          76,
          127,
          96,
          104,
          95,
          85,
          106,
          117,
          108,
          123,
          105,
          85,
          78,
          97,
          99,
          95,
          42,
          95,
          135,
          130,
          115,
          107,
          44,
          114,
          107,
          93,
          94,
          94,
          113,
          74,
          85,
          63,
          104,
          176,
          28,
          24,
          59,
          24,
          25,
          25,
          24,
          25,
          24,
          127,
          113,
          91,
          108,
          154,
          82,
          140,
          137,
          98,
          86,
          121,
          119,
          85,
          103,
          86,
          92,
          126,
          123,
          185,
          123,
          75,
          112,
          116,
          93,
          83,
          94,
          97,
          108,
          101,
          99,
          104,
          120,
          177,
          162,
          95,
          84,
          97,
          80,
          109,
          88,
          107,
          140,
          120,
          110,
          103,
          112,
          111,
          133,
          102,
          124,
          114,
          148,
          110,
          91,
          81,
          116,
          89,
          72,
          112,
          101,
          98,
          81,
          114,
          125,
          61,
          48,
          128,
          81,
          91,
          121,
          103,
          155,
          119,
          137,
          89,
          87,
          88,
          94,
          125,
          86,
          67,
          78,
          108,
          102,
          127,
          93,
          109,
          115,
          98,
          84,
          133,
          121,
          156,
          135,
          135,
          148,
          131,
          91,
          108,
          130,
          100,
          93,
          108,
          117,
          117,
          95,
          104,
          78,
          87,
          88,
          93,
          107,
          99,
          94,
          90,
          140,
          105,
          91,
          98,
          113,
          89,
          114,
          97,
          97,
          108,
          80,
          79,
          64,
          101,
          115,
          90,
          117,
          101,
          95,
          86,
          94,
          76,
          85,
          102,
          100,
          119,
          87,
          101,
          133,
          112,
          102,
          83,
          89,
          80,
          18,
          112,
          100,
          110,
          96,
          92,
          63,
          72,
          93,
          91,
          73,
          98,
          118,
          121,
          95,
          95,
          116,
          98,
          101,
          86,
          99,
          91,
          130,
          90,
          101,
          106,
          59,
          118,
          120,
          115,
          98,
          111,
          116,
          97,
          95,
          86,
          114,
          122,
          28,
          103,
          122,
          95,
          93,
          107,
          82,
          118,
          119,
          88,
          102,
          119,
          97,
          96,
          103,
          81,
          118,
          96,
          106,
          93,
          109,
          112,
          112,
          96,
          89,
          60,
          113,
          126,
          109,
          93,
          101,
          111,
          107,
          100,
          104,
          115,
          92,
          103,
          90,
          17,
          105,
          102,
          103,
          118,
          105,
          103,
          95,
          101,
          123,
          112,
          114,
          101,
          53,
          81,
          100,
          99,
          102,
          66,
          112,
          83,
          101,
          149,
          99,
          105,
          120,
          93,
          121,
          75,
          92,
          95,
          100,
          93,
          124,
          106,
          154,
          107,
          96,
          97,
          83,
          67,
          151,
          78,
          85,
          139,
          69,
          84,
          88,
          110,
          86,
          108,
          104,
          102,
          113,
          109,
          106,
          117,
          121,
          99,
          139,
          110,
          104,
          95,
          122,
          105,
          96,
          130,
          97,
          87,
          106,
          112,
          148,
          85,
          107,
          76,
          103,
          112,
          95,
          88,
          116,
          121,
          82,
          107,
          87,
          46,
          103,
          97,
          91,
          91,
          111,
          101,
          104,
          92,
          113,
          93,
          151,
          89,
          124,
          115,
          84,
          106,
          97,
          92,
          86,
          46,
          124,
          83,
          100,
          107,
          115,
          104,
          101,
          158,
          95,
          97,
          97,
          89,
          161,
          205,
          123,
          190,
          108,
          136,
          161,
          114,
          128,
          133,
          119,
          101,
          86,
          124,
          105,
          91,
          94,
          168,
          136,
          94,
          85,
          108,
          101,
          116,
          71,
          147,
          88,
          99,
          96,
          132,
          85,
          95,
          97,
          92,
          135,
          36,
          79,
          120,
          53,
          94,
          111,
          123,
          103,
          111,
          123,
          114,
          100,
          84,
          75,
          118,
          96,
          102,
          108,
          99,
          103,
          93,
          101,
          112,
          99,
          129,
          106,
          100,
          209,
          24,
          105,
          93,
          112,
          52,
          106,
          123,
          90,
          140,
          95,
          100,
          121,
          97,
          141,
          118,
          105,
          133,
          76,
          93,
          98,
          86,
          130,
          113,
          98,
          84,
          91,
          104,
          133,
          105,
          149,
          93,
          88,
          131,
          44,
          119,
          99,
          96,
          70,
          107,
          83,
          110,
          116,
          88,
          95,
          96,
          101,
          83,
          121,
          87,
          156,
          87,
          118,
          30,
          95,
          107,
          96,
          110,
          118,
          89,
          85,
          107,
          86,
          83,
          108,
          138,
          119,
          93,
          30,
          91,
          87,
          121,
          95,
          103,
          201,
          179,
          113,
          110,
          94,
          127,
          87,
          87,
          98,
          98,
          82,
          85,
          90,
          46,
          46,
          46,
          103,
          137,
          68,
          107,
          100,
          195,
          98,
          138,
          40,
          137,
          97,
          136,
          138,
          129,
          90,
          116,
          130,
          60,
          88,
          40,
          94,
          113,
          98,
          119,
          91,
          95,
          54,
          86,
          132,
          44,
          104,
          91,
          70,
          102,
          93,
          92,
          114,
          104,
          115,
          85,
          85,
          138,
          40,
          59,
          82,
          107,
          104,
          90,
          121,
          90,
          85,
          99,
          104,
          126,
          97,
          91,
          106,
          95,
          111,
          106,
          108,
          84,
          122,
          111,
          94,
          123,
          86,
          95,
          108,
          94,
          94,
          87,
          124,
          141,
          91,
          93,
          143,
          148,
          91,
          103,
          141,
          110,
          155,
          93,
          78,
          118,
          88,
          89,
          140,
          94,
          124,
          110,
          89,
          100,
          94,
          96,
          116,
          92,
          91,
          111,
          98,
          102,
          97,
          125,
          125,
          132,
          133,
          76,
          117,
          90,
          66,
          105,
          119,
          136,
          52,
          81,
          77,
          108,
          130,
          120,
          102,
          116,
          67,
          90,
          100,
          123,
          90,
          120,
          92,
          93,
          116,
          107,
          95,
          87,
          111,
          14,
          101,
          91,
          105,
          103,
          103,
          90,
          81,
          120,
          107,
          90,
          47,
          111,
          94,
          92,
          92,
          99,
          253,
          124,
          111,
          32,
          98,
          86,
          105,
          100,
          104,
          123,
          100,
          105,
          85,
          108,
          97,
          97,
          91,
          96,
          93,
          122,
          90,
          163,
          110,
          143,
          104,
          103,
          105,
          94,
          121,
          93,
          120,
          95,
          41,
          97,
          84,
          46,
          94,
          94,
          105,
          81,
          103,
          122,
          98,
          90,
          111,
          97,
          91,
          89,
          115,
          98,
          92,
          106,
          139,
          81,
          83,
          123,
          96,
          118,
          110,
          94,
          58,
          96,
          107,
          97,
          103,
          24,
          91,
          136,
          130,
          91,
          104,
          94,
          108,
          91,
          58,
          99,
          106,
          126,
          96,
          93,
          106,
          103,
          130,
          91,
          115,
          91,
          92,
          103,
          72,
          138,
          98,
          125,
          93,
          111,
          112,
          90,
          101,
          101,
          98,
          111,
          117,
          41,
          92,
          117,
          92,
          88,
          126,
          157,
          116,
          47,
          100,
          114,
          128,
          101,
          108,
          53,
          99,
          89,
          90,
          111,
          83,
          85,
          135,
          94,
          104,
          132,
          89,
          97,
          67,
          86,
          158,
          72,
          110,
          98,
          99,
          82,
          180,
          107,
          77,
          123,
          23,
          23,
          23,
          122,
          131,
          77,
          125,
          125,
          139,
          88,
          107,
          96,
          87,
          104,
          133,
          93,
          42,
          56,
          66,
          92,
          58,
          130,
          91,
          108,
          151,
          30,
          30,
          146,
          127,
          98,
          125,
          96,
          135,
          88,
          99,
          78,
          97,
          100,
          102,
          81,
          84,
          88,
          95,
          108,
          108,
          96,
          61,
          63,
          46,
          78,
          86,
          176,
          145,
          89,
          98,
          60,
          57,
          60,
          70,
          74,
          71,
          74,
          63,
          119,
          99,
          117,
          106,
          94,
          108,
          87,
          133,
          106,
          104,
          94,
          114,
          107,
          94,
          59,
          130,
          89,
          81,
          102,
          74,
          47,
          95,
          46,
          88,
          118,
          94,
          114,
          83,
          119,
          79,
          114,
          94,
          111,
          85,
          88,
          82,
          82,
          96,
          100,
          104,
          101,
          99,
          98,
          102,
          100,
          67,
          64,
          96,
          134,
          173,
          113,
          115,
          126,
          96,
          93,
          91,
          27,
          110,
          90,
          128,
          128,
          98,
          108,
          24,
          24,
          24,
          24,
          24,
          46,
          24,
          124,
          88,
          125,
          89,
          162,
          128,
          72,
          90,
          123,
          76,
          96,
          107,
          102,
          53,
          110,
          102,
          86,
          89,
          117,
          80,
          95,
          78,
          90,
          121,
          99,
          137,
          146,
          125,
          115,
          143,
          109,
          137,
          96,
          114,
          94,
          90,
          104,
          190,
          100,
          109,
          116,
          92,
          95,
          104,
          98,
          135,
          113,
          40,
          94,
          87,
          102,
          84,
          108,
          85,
          94,
          61,
          85,
          121,
          94,
          83,
          114,
          92,
          105,
          113,
          97,
          97,
          83,
          95,
          93,
          86,
          110,
          99,
          106,
          112,
          116,
          121,
          62,
          119,
          95,
          130,
          119,
          132,
          86,
          145,
          90,
          144,
          106,
          117,
          130,
          78,
          113,
          82,
          81,
          105,
          126,
          127,
          109,
          156,
          106,
          93,
          110,
          91,
          113,
          97,
          115,
          101,
          91,
          66,
          76,
          68,
          50,
          127,
          100,
          29,
          125,
          116,
          166,
          106,
          106,
          113,
          93,
          96,
          99,
          66,
          119,
          115,
          130,
          120,
          93,
          94,
          111,
          94,
          132,
          109,
          81,
          94,
          100,
          96,
          90,
          66,
          95,
          103,
          61,
          109,
          147,
          123,
          98,
          73,
          92,
          128,
          93,
          78,
          68,
          98,
          74,
          119,
          109,
          86,
          123,
          96,
          83,
          101,
          95,
          91,
          90,
          93,
          38,
          106,
          94,
          89,
          91,
          94,
          72,
          94,
          95,
          149,
          124,
          99,
          73,
          108,
          131,
          80,
          84,
          135,
          106,
          81,
          93,
          96,
          105,
          102,
          92,
          98,
          17,
          124,
          102,
          103,
          99,
          130,
          52,
          91,
          87,
          96,
          92,
          140,
          96,
          93,
          32,
          118,
          110,
          95,
          203,
          82,
          107,
          96,
          75,
          109,
          103,
          97,
          89,
          86,
          97,
          69,
          98,
          98,
          93,
          89,
          120,
          88,
          90,
          91,
          59,
          48,
          78,
          94,
          90,
          102,
          50,
          84,
          126,
          82,
          98,
          86,
          106,
          105,
          93,
          105,
          72,
          100,
          89,
          100,
          104,
          85,
          86,
          99,
          100,
          108,
          106,
          108,
          93,
          102,
          74,
          80,
          92,
          93,
          109,
          132,
          69,
          101,
          97,
          91,
          94,
          147,
          129,
          49,
          93,
          133,
          140,
          45,
          68,
          191,
          135,
          105,
          92,
          91,
          81,
          124,
          101,
          106,
          137,
          15,
          171,
          148,
          132,
          147,
          151,
          97,
          117,
          95,
          90,
          104,
          111,
          112,
          107,
          78,
          96,
          88,
          78,
          54,
          63,
          93,
          87,
          85,
          157,
          116,
          113,
          89,
          107,
          117,
          112,
          94,
          81,
          120,
          115,
          103,
          72,
          88,
          98,
          115,
          130,
          160,
          61,
          101,
          109,
          92,
          131,
          120,
          159,
          89,
          126,
          154,
          96,
          12,
          105,
          89,
          158,
          104,
          88,
          94,
          88,
          99,
          111,
          44,
          90
         ],
         "xaxis": "x",
         "xbins": {
          "end": 312,
          "size": 0.7,
          "start": 3
         },
         "yaxis": "y"
        },
        {
         "legendgroup": "freq",
         "marker": {
          "color": "#221f1f"
         },
         "mode": "lines",
         "name": "freq",
         "showlegend": false,
         "type": "scatter",
         "x": [
          3,
          3.618,
          4.236,
          4.854,
          5.4719999999999995,
          6.09,
          6.708,
          7.326,
          7.944,
          8.562000000000001,
          9.18,
          9.798,
          10.416,
          11.034,
          11.652,
          12.27,
          12.888,
          13.506,
          14.124,
          14.742,
          15.36,
          15.978,
          16.596,
          17.214,
          17.832,
          18.45,
          19.068,
          19.686,
          20.304,
          20.922,
          21.54,
          22.158,
          22.776,
          23.394,
          24.012,
          24.63,
          25.248,
          25.866,
          26.484,
          27.102,
          27.72,
          28.338,
          28.956,
          29.574,
          30.192,
          30.81,
          31.428,
          32.046,
          32.664,
          33.282,
          33.9,
          34.518,
          35.136,
          35.754,
          36.372,
          36.99,
          37.608,
          38.226,
          38.844,
          39.462,
          40.08,
          40.698,
          41.316,
          41.934,
          42.552,
          43.17,
          43.788,
          44.406,
          45.024,
          45.642,
          46.26,
          46.878,
          47.496,
          48.114,
          48.732,
          49.35,
          49.968,
          50.586,
          51.204,
          51.822,
          52.44,
          53.058,
          53.676,
          54.294,
          54.912,
          55.53,
          56.148,
          56.766,
          57.384,
          58.002,
          58.62,
          59.238,
          59.856,
          60.474,
          61.092,
          61.71,
          62.328,
          62.946,
          63.564,
          64.182,
          64.8,
          65.418,
          66.036,
          66.654,
          67.272,
          67.89,
          68.508,
          69.126,
          69.744,
          70.362,
          70.98,
          71.598,
          72.216,
          72.834,
          73.452,
          74.07,
          74.688,
          75.306,
          75.924,
          76.542,
          77.16,
          77.778,
          78.396,
          79.014,
          79.632,
          80.25,
          80.868,
          81.486,
          82.104,
          82.722,
          83.34,
          83.958,
          84.576,
          85.194,
          85.812,
          86.43,
          87.048,
          87.666,
          88.284,
          88.902,
          89.52,
          90.138,
          90.756,
          91.374,
          91.992,
          92.61,
          93.228,
          93.846,
          94.464,
          95.082,
          95.7,
          96.318,
          96.936,
          97.554,
          98.172,
          98.79,
          99.408,
          100.026,
          100.644,
          101.262,
          101.88,
          102.498,
          103.116,
          103.734,
          104.352,
          104.97,
          105.588,
          106.206,
          106.824,
          107.442,
          108.06,
          108.678,
          109.296,
          109.914,
          110.532,
          111.15,
          111.768,
          112.386,
          113.004,
          113.622,
          114.24,
          114.858,
          115.476,
          116.094,
          116.712,
          117.33,
          117.948,
          118.566,
          119.184,
          119.802,
          120.42,
          121.038,
          121.656,
          122.274,
          122.892,
          123.51,
          124.128,
          124.746,
          125.364,
          125.982,
          126.6,
          127.218,
          127.836,
          128.454,
          129.072,
          129.69,
          130.308,
          130.926,
          131.544,
          132.162,
          132.78,
          133.398,
          134.016,
          134.634,
          135.252,
          135.87,
          136.488,
          137.106,
          137.724,
          138.342,
          138.96,
          139.578,
          140.196,
          140.814,
          141.432,
          142.05,
          142.668,
          143.286,
          143.904,
          144.522,
          145.14,
          145.758,
          146.376,
          146.994,
          147.612,
          148.23,
          148.848,
          149.466,
          150.084,
          150.702,
          151.32,
          151.938,
          152.556,
          153.174,
          153.792,
          154.41,
          155.028,
          155.646,
          156.264,
          156.882,
          157.5,
          158.118,
          158.736,
          159.354,
          159.972,
          160.59,
          161.208,
          161.826,
          162.444,
          163.062,
          163.68,
          164.298,
          164.916,
          165.534,
          166.152,
          166.77,
          167.388,
          168.006,
          168.624,
          169.242,
          169.86,
          170.478,
          171.096,
          171.714,
          172.332,
          172.95,
          173.568,
          174.186,
          174.804,
          175.422,
          176.04,
          176.658,
          177.276,
          177.894,
          178.512,
          179.13,
          179.748,
          180.366,
          180.984,
          181.602,
          182.22,
          182.838,
          183.456,
          184.074,
          184.692,
          185.31,
          185.928,
          186.546,
          187.164,
          187.782,
          188.4,
          189.018,
          189.636,
          190.254,
          190.872,
          191.49,
          192.108,
          192.726,
          193.344,
          193.962,
          194.58,
          195.198,
          195.816,
          196.434,
          197.052,
          197.67,
          198.288,
          198.906,
          199.524,
          200.142,
          200.76,
          201.378,
          201.996,
          202.614,
          203.232,
          203.85,
          204.468,
          205.086,
          205.704,
          206.322,
          206.94,
          207.558,
          208.176,
          208.794,
          209.412,
          210.03,
          210.648,
          211.266,
          211.884,
          212.502,
          213.12,
          213.738,
          214.356,
          214.974,
          215.592,
          216.21,
          216.828,
          217.446,
          218.064,
          218.682,
          219.3,
          219.918,
          220.536,
          221.154,
          221.772,
          222.39,
          223.008,
          223.626,
          224.244,
          224.862,
          225.48,
          226.098,
          226.716,
          227.334,
          227.952,
          228.57,
          229.188,
          229.806,
          230.424,
          231.042,
          231.66,
          232.278,
          232.896,
          233.514,
          234.132,
          234.75,
          235.368,
          235.986,
          236.604,
          237.222,
          237.84,
          238.458,
          239.076,
          239.694,
          240.312,
          240.93,
          241.548,
          242.166,
          242.784,
          243.402,
          244.02,
          244.638,
          245.256,
          245.874,
          246.492,
          247.11,
          247.728,
          248.346,
          248.964,
          249.582,
          250.2,
          250.818,
          251.436,
          252.054,
          252.672,
          253.29,
          253.908,
          254.526,
          255.144,
          255.762,
          256.38,
          256.998,
          257.616,
          258.23400000000004,
          258.852,
          259.47,
          260.088,
          260.706,
          261.324,
          261.942,
          262.56,
          263.178,
          263.796,
          264.414,
          265.032,
          265.65,
          266.268,
          266.886,
          267.504,
          268.122,
          268.74,
          269.358,
          269.976,
          270.594,
          271.212,
          271.83,
          272.448,
          273.066,
          273.684,
          274.302,
          274.92,
          275.538,
          276.156,
          276.774,
          277.392,
          278.01,
          278.628,
          279.246,
          279.864,
          280.482,
          281.1,
          281.718,
          282.336,
          282.954,
          283.572,
          284.19,
          284.808,
          285.426,
          286.044,
          286.662,
          287.28,
          287.898,
          288.516,
          289.134,
          289.752,
          290.37,
          290.988,
          291.606,
          292.224,
          292.842,
          293.46,
          294.078,
          294.696,
          295.314,
          295.932,
          296.55,
          297.168,
          297.786,
          298.404,
          299.022,
          299.64,
          300.258,
          300.876,
          301.494,
          302.112,
          302.73,
          303.348,
          303.966,
          304.584,
          305.202,
          305.82,
          306.438,
          307.056,
          307.674,
          308.292,
          308.91,
          309.528,
          310.146,
          310.764,
          311.382
         ],
         "xaxis": "x",
         "y": [
          0.0000466322213307052,
          0.000050161070073089546,
          0.00005393163450834664,
          0.00005795841147039067,
          0.00006225660959497048,
          0.00006684217285298847,
          0.00007173180404577725,
          0.00007694298819094002,
          0.00008249401572245554,
          0.00008840400542378268,
          0.00009469292700768869,
          0.00010138162325147414,
          0.0001084918315912281,
          0.00011604620507369856,
          0.00012406833255936334,
          0.0001325827580653477,
          0.00014161499913197329,
          0.00015119156409197786,
          0.00016133996811685297,
          0.00017208874791030423,
          0.0001834674749146157,
          0.00019550676689171465,
          0.00020823829773699307,
          0.0002216948053805287,
          0.0002359100976272677,
          0.00025091905578500417,
          0.0002667576359267011,
          0.00028346286763183053,
          0.00030107285005004104,
          0.0003196267451296043,
          0.0003391647678527803,
          0.00035972817332055026,
          0.00038135924053006885,
          0.00040410125268978384,
          0.000427998473919427,
          0.00045309612218511603,
          0.000479440338323549,
          0.0005070781510138283,
          0.0005360574375608516,
          0.0005664268803603712,
          0.000598235918922936,
          0.0006315346973418676,
          0.0006663740070992783,
          0.0007028052251138932,
          0.0007408802469451511,
          0.000780651415079616,
          0.0008221714422383242,
          0.0008654933296570787,
          0.000910670280306137,
          0.0009577556070309499,
          0.0010068026356118026,
          0.0010578646027571757,
          0.0011109945490635417,
          0.0011662452069928695,
          0.0012236688839385825,
          0.0012833173404707655,
          0.001345241663872199,
          0.0014094921370981736,
          0.0014761181033148968,
          0.0015451678261937927,
          0.0016166883461616204,
          0.0016907253328295752,
          0.0017673229338477819,
          0.0018465236204550917,
          0.001928368030017631,
          0.002012894805873002,
          0.0021001404348203897,
          0.002190139082619854,
          0.0022829224278868134,
          0.002378519494789911,
          0.0024769564849820586,
          0.002578256609215352,
          0.002682439919110532,
          0.0027895231395708418,
          0.002899519502347995,
          0.003012438581284828,
          0.0031282861297746486,
          0.0032470639209912196,
          0.0033687695914558545,
          0.0034933964885187282,
          0.003620933522340535,
          0.003751365022967661,
          0.0038846706030990145,
          0.004020825027145709,
          0.00415979808718546,
          0.004301554486412046,
          0.004446053730676385,
          0.004593250028709399,
          0.004743092201608181,
          0.004895523602155616,
          0.005050482044529879,
          0.00520789974494378,
          0.005367703273734888,
          0.005529813519405881,
          0.005694145665090287,
          0.005860609177892051,
          0.006029107811518163,
          0.006199539622591691,
          0.006371797000998544,
          0.006545766714584613,
          0.006721329968481269,
          0.00689836247929628,
          0.007076734564364065,
          0.007256311246204653,
          0.007436952372293651,
          0.007618512750197623,
          0.007800842298079364,
          0.007983786210526594,
          0.00816718513960545,
          0.008350875390987368,
          0.008534689134943959,
          0.008718454631950534,
          0.008901996472584535,
          0.009085135831350467,
          0.009267690734008883,
          0.00944947633793308,
          0.009630305224963956,
          0.009809987706181378,
          0.009988332137959223,
          0.0101651452486216,
          0.010340232474969818,
          0.010513398307903337,
          0.01068444664631396,
          0.010853181158390866,
          0.011019405649434676,
          0.011182924435242506,
          0.01134354272009241,
          0.011501066978325269,
          0.01165530533849516,
          0.011806067969035827,
          0.011953167464370841,
          0.012096419230379046,
          0.01223564186811474,
          0.012370657554673599,
          0.012501292420091523,
          0.012627376919163463,
          0.012748746197073491,
          0.012865240447736011,
          0.012976705263760496,
          0.013082991976969284,
          0.013183957988419004,
          0.013279467086901435,
          0.01336938975492916,
          0.01345360346124451,
          0.01353199293892771,
          0.013604450448221042,
          0.01367087602323047,
          0.013731177701714153,
          0.013785271737218625,
          0.01383308279287777,
          0.013874544116246803,
          0.013909597694603386,
          0.01393819439021016,
          0.013960294055097175,
          0.013975865624988962,
          0.013984887192068631,
          0.013987346056340404,
          0.013983238755422064,
          0.01397257107266943,
          0.013955358023606245,
          0.013931623820703959,
          0.013901401816627159,
          0.013864734426130735,
          0.013821673026864918,
          0.013772277839412813,
          0.013716617786952604,
          0.013654770335002115,
          0.013586821311767354,
          0.013512864709678206,
          0.013433002468753534,
          0.0133473442424946,
          0.013256007147059172,
          0.013159115494519239,
          0.01305680051105244,
          0.012949200040961005,
          0.01283645823745204,
          0.012718725241149378,
          0.012596156847339392,
          0.012468914162981707,
          0.012337163254539952,
          0.01220107478770763,
          0.012060823660120363,
          0.011916588628157128,
          0.011768551928940621,
          0.011616898898650157,
          0.011461817588259319,
          0.011303498377805527,
          0.011142133590289545,
          0.01097791710628955,
          0.010811043980357558,
          0.01064171006024505,
          0.010470111609980256,
          0.010296444937791752,
          0.010120906029841878,
          0.009943690190699092,
          0.009764991691441512,
          0.009585003426243802,
          0.009403916578257258,
          0.009221920295548495,
          0.00903920137781524,
          0.008855943974549413,
          0.008672329295267615,
          0.008488535332377712,
          0.008304736597197694,
          0.008121103869589806,
          0.007937803961618743,
          0.007754999495588665,
          0.007572848696759074,
          0.007391505200985375,
          0.007211117877475813,
          0.0070318306668029195,
          0.006853782434254965,
          0.006677106838560884,
          0.006501932215971549,
          0.0063283814796309115,
          0.006156572034122627,
          0.005986615705031445,
          0.005818618683314527,
          0.005652681484235025,
          0.005488898920570142,
          0.005327360089767553,
          0.005168148374688046,
          0.005011341457538906,
          0.00485701134657116,
          0.004705224415085358,
          0.00455604145226428,
          0.004409517725327664,
          0.004265703052482783,
          0.004124641886126689,
          0.00398637340573997,
          0.003850931619898724,
          0.0037183454768209005,
          0.0035886389828549605,
          0.0034618313283131153,
          0.0033379370200482513,
          0.0032169660201725866,
          0.003098923890317439,
          0.0029838119408370535,
          0.002871627384364808,
          0.0027623634931379015,
          0.002656009759515792,
          0.002552552059128978,
          0.00245197281610751,
          0.0023542511698529858,
          0.0022593631428335205,
          0.002167281808898422,
          0.0020779774616273843,
          0.001991417782248481,
          0.0019075680066794212,
          0.0018263910912676724,
          0.0017478478768266968,
          0.0016718972505880634,
          0.00159849630571183,
          0.0015276004980208043,
          0.0014591637996476988,
          0.0013931388493075667,
          0.0013294770989315877,
          0.0012681289564216098,
          0.0012090439243081642,
          0.0011521707341177008,
          0.0010974574762774984,
          0.0010448517254088951,
          0.000994300660881379,
          0.0009457511825211751,
          0.0008991500213886813,
          0.0008544438455589344,
          0.0008115793608585804,
          0.0007705034065311926,
          0.0007311630458204718,
          0.0006935056514776175,
          0.0006574789862151115,
          0.0006230312781441975,
          0.0005901112912474528,
          0.0005586683909511229,
          0.0005286526048741433,
          0.0005000146788421599,
          0.0004727061282653228,
          0.00044667928498815987,
          0.000421887339728433,
          0.0003982843802296638,
          0.0003758254252588269,
          0.0003544664545867222,
          0.0003341644350937043,
          0.00031487734314780295,
          0.0002965641834058195,
          0.0002791850041908401,
          0.00026270090960167354,
          0.00024707406851115385,
          0.0002322677206109976,
          0.00021824617966103863,
          0.0002049748341002421,
          0.0001924201451758809,
          0.00018054964274577407,
          0.0001693319189065145,
          0.0001587366195981932,
          0.000148734434333323,
          0.00013929708419449605,
          0.00013039730824179963,
          0.00012200884846722148,
          0.00011410643342922229,
          0.00010666576069637546,
          0.00009966347822448261,
          0.00009307716478695493,
          0.00008688530957345746,
          0.00008106729106694072,
          0.00007560335530422364,
          0.00007047459362027334,
          0.00006566291997129144,
          0.00006115104792665617,
          0.00005692246741473826,
          0.00005296142130260423,
          0.00004925288188466621,
          0.000045782527350453876,
          0.00004253671829688704,
          0.00003950247434571893,
          0.00003666745092222929,
          0.00003401991624677395,
          0.00003154872858645241,
          0.00002924331380995135,
          0.000027093643284565945,
          0.00002509021215049133,
          0.00002322401800372844,
          0.00002148654001535948,
          0.000019869718511523298,
          0.000018365935035158226,
          0.000016967992907489682,
          0.00001566909830430964,
          0.00001446284185933424,
          0.000013343180804329808,
          0.000012304421653261375,
          0.000011341203435446157,
          0.000010448481480574588,
          0.000009621511756499748,
          0.000008855835758881519,
          0.00000814726595010267,
          0.0000074918717433459874,
          0.00000688596602632987,
          0.000006326092217936929,
          0.000005809011849834148,
          0.000005331692664166606,
          0.000004891297217504005,
          0.000004485171980425545,
          0.0000041108369214385895,
          0.000003765975563332577,
          0.000003448425499568676,
          0.000003156169357890073,
          0.000002887326198003526,
          0.000002640143329923331,
          0.0000024129885393797597,
          0.000002204342706569723,
          0.0000020127928044626644,
          0.0000018370252628657838,
          0.0000016758196844929356,
          0.0000015280428993687506,
          0.0000013926433440275503,
          0.0000012686457521322445,
          0.0000011551461433374026,
          0.0000010513070974495945,
          9.563533011927436e-7,
          8.695673551641109e-7,
          7.90285828863755e-7,
          7.178955519943858e-7,
          6.518301305563795e-7,
          5.915666766020779e-7,
          5.366227408616974e-7,
          4.865534378079984e-7,
          4.4094875308662216e-7,
          3.994310236012937e-7,
          3.6165258090661065e-7,
          3.2729354892414134e-7,
          2.960597873586533e-7,
          2.6768097254921733e-7,
          2.419088078435682e-7,
          2.1851535593236433e-7,
          1.9729148592213063e-7,
          1.7804542826067984e-7,
          1.6060143095627867e-7,
          1.447985108509682e-7,
          1.3048929401889382e-7,
          1.1753893966181749e-7,
          1.0582414216586261e-7,
          9.523220626574325e-8,
          8.566019053503179e-8,
          7.70141146834024e-8,
          6.920822639407719e-8,
          6.216432367697526e-8,
          5.581112894532492e-8,
          5.008371124582109e-8,
          4.492295328490895e-8,
          4.027506009661731e-8,
          3.6091106390691574e-8,
          3.232661980381225e-8,
          2.8941197451640503e-8,
          2.5898153345540643e-8,
          2.3164194395352576e-8,
          2.0709122868778086e-8,
          1.8505563319086185e-8,
          1.652871212621179e-8,
          1.4756107922202995e-8,
          1.3167421290653488e-8,
          1.1744262241535253e-8,
          1.0470004068001756e-8,
          9.329622290560448e-9,
          8.309547486796966e-9,
          7.397530891855147e-9,
          6.582521736410038e-9,
          5.854555365193592e-9,
          5.2046512505004226e-9,
          4.624720081778711e-9,
          4.10747917464538e-9,
          3.6463755006983888e-9,
          3.2355156935657598e-9,
          2.869602436958229e-9,
          2.5438766872945615e-9,
          2.254065226956374e-9,
          1.996333084600576e-9,
          1.7672403964058377e-9,
          1.5637033168319402e-9,
          1.382958619609018e-9,
          1.222531659404423e-9,
          1.0802073921017184e-9,
          9.540041770146562e-10,
          8.42150107790788e-10,
          7.430616403686453e-10,
          6.553243062639587e-10,
          5.776753177939474e-10,
          5.089878887158223e-10,
          4.482571092613705e-10,
          3.9458722879294144e-10,
          3.471802123800233e-10,
          3.053254495868004e-10,
          2.6839050475086356e-10,
          2.3581280809787646e-10,
          2.0709219624742842e-10,
          1.8178421908768177e-10,
          1.5949413769279596e-10,
          1.398715449845971e-10,
          1.226055472523114e-10,
          1.0742045049089428e-10,
          9.407190084565578e-11,
          8.234343330120084e-11,
          7.204338716584734e-11,
          6.300215091499407e-11,
          5.506970260251223e-11,
          4.8113415359112956e-11,
          4.201610049975769e-11,
          3.6674263485045696e-11,
          3.1996550448566687e-11,
          2.7902365235995773e-11,
          2.4320638922886892e-11,
          2.1188735605688353e-11,
          1.8451479911901455e-11,
          1.6060293166519534e-11,
          1.3972426497525521e-11,
          1.2150280376737885e-11,
          1.0560801185893225e-11,
          9.174946382754665e-12,
          7.967210728454333e-12,
          6.915206834545067e-12,
          5.999294004842024e-12,
          5.202249990831096e-12,
          4.5089808572464985e-12,
          3.906264672780507e-12,
          3.382525205606353e-12,
          2.927632219758495e-12,
          2.5327253412072797e-12,
          2.1900587960457263e-12,
          1.892864621501161e-12,
          1.6352322170626317e-12,
          1.412002341097311e-12,
          1.2186738708276534e-12,
          1.0513218330868845e-12,
          9.065253822374502e-13,
          7.813045521651477e-13,
          6.730647432798765e-13,
          5.795480247006217e-13,
          4.987904378375084e-13,
          4.290845818161449e-13,
          3.6894684487916485e-13,
          3.1708872018217385e-13,
          2.723917102929314e-13,
          2.338853831160033e-13,
          2.007281937172919e-13,
          1.721907323459768e-13,
          1.47641099500068e-13,
          1.2653214474134678e-13,
          1.0839033765951841e-13,
          9.280606738051423e-14,
          7.942519172735491e-14,
          6.794167894526582e-14,
          5.809120412710149e-14,
          4.964557941555646e-14,
          4.2407911977628015e-14,
          3.6208396877719046e-14,
          3.09006635261721e-14,
          2.635860453412147e-14,
          2.2473624726889203e-14,
          1.915225590179995e-14,
          1.6314089790846832e-14,
          1.3889987717948741e-14
         ],
         "yaxis": "y"
        },
        {
         "legendgroup": "freq",
         "marker": {
          "color": "#221f1f",
          "symbol": "line-ns-open"
         },
         "mode": "markers",
         "name": "freq",
         "showlegend": false,
         "type": "scatter",
         "x": [
          93,
          78,
          80,
          123,
          95,
          119,
          118,
          143,
          103,
          89,
          91,
          149,
          144,
          124,
          87,
          110,
          128,
          117,
          100,
          84,
          99,
          95,
          90,
          102,
          104,
          99,
          105,
          56,
          125,
          119,
          81,
          97,
          106,
          99,
          107,
          93,
          89,
          105,
          87,
          97,
          109,
          93,
          109,
          44,
          75,
          101,
          89,
          90,
          90,
          93,
          101,
          113,
          89,
          84,
          102,
          102,
          114,
          130,
          90,
          94,
          97,
          143,
          91,
          107,
          95,
          119,
          93,
          101,
          93,
          140,
          135,
          82,
          70,
          104,
          117,
          121,
          92,
          124,
          164,
          53,
          93,
          91,
          83,
          93,
          114,
          116,
          93,
          81,
          84,
          105,
          86,
          120,
          106,
          92,
          96,
          97,
          99,
          100,
          126,
          96,
          75,
          94,
          129,
          80,
          103,
          96,
          77,
          137,
          148,
          123,
          121,
          95,
          28,
          99,
          104,
          122,
          104,
          94,
          176,
          107,
          90,
          94,
          101,
          87,
          92,
          85,
          93,
          22,
          95,
          86,
          137,
          101,
          68,
          121,
          111,
          110,
          29,
          142,
          168,
          102,
          92,
          86,
          22,
          22,
          21,
          59,
          93,
          86,
          80,
          109,
          92,
          92,
          89,
          96,
          95,
          87,
          93,
          113,
          20,
          117,
          97,
          98,
          108,
          125,
          91,
          76,
          90,
          82,
          111,
          92,
          110,
          94,
          100,
          91,
          94,
          44,
          108,
          130,
          83,
          123,
          106,
          87,
          130,
          100,
          96,
          89,
          95,
          26,
          156,
          98,
          30,
          108,
          92,
          28,
          99,
          85,
          122,
          84,
          57,
          107,
          102,
          103,
          91,
          104,
          91,
          110,
          111,
          77,
          99,
          122,
          150,
          117,
          126,
          148,
          122,
          95,
          133,
          164,
          115,
          154,
          133,
          110,
          127,
          146,
          136,
          100,
          90,
          88,
          131,
          44,
          101,
          123,
          90,
          89,
          87,
          24,
          88,
          133,
          110,
          112,
          129,
          87,
          87,
          120,
          59,
          74,
          96,
          91,
          59,
          105,
          63,
          111,
          96,
          99,
          92,
          86,
          90,
          63,
          106,
          38,
          93,
          87,
          25,
          105,
          94,
          107,
          89,
          92,
          22,
          174,
          60,
          97,
          122,
          91,
          84,
          97,
          127,
          153,
          158,
          151,
          150,
          105,
          109,
          81,
          162,
          104,
          54,
          94,
          83,
          85,
          106,
          60,
          102,
          88,
          51,
          100,
          131,
          109,
          69,
          106,
          115,
          60,
          64,
          110,
          54,
          147,
          112,
          87,
          63,
          88,
          42,
          90,
          89,
          79,
          101,
          102,
          122,
          85,
          83,
          92,
          40,
          84,
          104,
          91,
          109,
          100,
          90,
          90,
          94,
          99,
          90,
          95,
          92,
          103,
          103,
          103,
          45,
          45,
          90,
          106,
          75,
          98,
          112,
          92,
          103,
          104,
          92,
          172,
          125,
          96,
          44,
          81,
          112,
          122,
          101,
          53,
          53,
          110,
          10,
          99,
          95,
          119,
          163,
          55,
          84,
          96,
          102,
          90,
          106,
          72,
          127,
          116,
          128,
          61,
          57,
          80,
          80,
          75,
          75,
          79,
          93,
          129,
          108,
          87,
          71,
          97,
          91,
          83,
          85,
          116,
          130,
          111,
          113,
          97,
          102,
          106,
          160,
          137,
          171,
          171,
          104,
          95,
          90,
          128,
          103,
          121,
          30,
          48,
          139,
          105,
          104,
          162,
          157,
          15,
          106,
          130,
          88,
          146,
          64,
          104,
          127,
          92,
          100,
          72,
          118,
          110,
          65,
          64,
          59,
          122,
          90,
          60,
          134,
          89,
          161,
          86,
          87,
          130,
          107,
          80,
          79,
          62,
          93,
          81,
          87,
          54,
          98,
          113,
          91,
          89,
          63,
          110,
          98,
          125,
          106,
          93,
          139,
          90,
          123,
          168,
          83,
          101,
          94,
          100,
          117,
          133,
          81,
          91,
          104,
          106,
          112,
          122,
          102,
          88,
          99,
          186,
          49,
          94,
          90,
          95,
          97,
          110,
          97,
          73,
          88,
          150,
          97,
          91,
          92,
          111,
          101,
          112,
          73,
          89,
          129,
          58,
          80,
          65,
          99,
          126,
          135,
          127,
          165,
          166,
          166,
          138,
          159,
          160,
          159,
          136,
          112,
          101,
          143,
          127,
          98,
          61,
          95,
          86,
          84,
          111,
          92,
          102,
          97,
          90,
          119,
          147,
          99,
          130,
          87,
          83,
          83,
          105,
          91,
          117,
          117,
          78,
          75,
          78,
          149,
          103,
          108,
          84,
          94,
          95,
          141,
          122,
          134,
          107,
          126,
          122,
          95,
          88,
          101,
          74,
          64,
          74,
          74,
          83,
          72,
          79,
          72,
          80,
          75,
          75,
          72,
          109,
          132,
          110,
          99,
          144,
          91,
          105,
          166,
          103,
          128,
          118,
          87,
          77,
          98,
          94,
          125,
          29,
          102,
          121,
          116,
          110,
          88,
          52,
          89,
          52,
          137,
          51,
          110,
          92,
          119,
          81,
          73,
          75,
          99,
          89,
          121,
          100,
          92,
          100,
          98,
          97,
          97,
          86,
          105,
          100,
          96,
          115,
          99,
          76,
          113,
          88,
          106,
          127,
          90,
          74,
          91,
          85,
          90,
          102,
          90,
          87,
          100,
          25,
          94,
          105,
          99,
          116,
          82,
          120,
          77,
          92,
          107,
          62,
          57,
          70,
          98,
          77,
          44,
          97,
          100,
          104,
          56,
          108,
          83,
          91,
          149,
          112,
          102,
          98,
          107,
          59,
          120,
          151,
          116,
          112,
          117,
          130,
          74,
          150,
          63,
          138,
          148,
          114,
          123,
          97,
          105,
          107,
          106,
          87,
          93,
          88,
          126,
          107,
          103,
          90,
          68,
          100,
          95,
          108,
          86,
          81,
          65,
          67,
          78,
          69,
          28,
          34,
          61,
          56,
          81,
          97,
          132,
          110,
          66,
          127,
          131,
          107,
          124,
          38,
          115,
          88,
          97,
          116,
          132,
          117,
          137,
          100,
          79,
          162,
          144,
          79,
          312,
          135,
          83,
          114,
          88,
          116,
          91,
          83,
          80,
          90,
          106,
          129,
          94,
          94,
          120,
          83,
          91,
          130,
          91,
          102,
          85,
          88,
          110,
          113,
          123,
          180,
          98,
          81,
          90,
          90,
          94,
          112,
          129,
          85,
          108,
          60,
          60,
          97,
          47,
          99,
          83,
          168,
          116,
          99,
          106,
          130,
          161,
          111,
          26,
          92,
          102,
          99,
          89,
          108,
          123,
          86,
          89,
          88,
          126,
          117,
          111,
          79,
          96,
          70,
          87,
          89,
          86,
          74,
          139,
          112,
          84,
          100,
          80,
          86,
          105,
          90,
          63,
          96,
          89,
          90,
          102,
          51,
          92,
          94,
          96,
          108,
          105,
          81,
          105,
          116,
          77,
          61,
          110,
          110,
          94,
          51,
          118,
          100,
          95,
          133,
          97,
          110,
          90,
          120,
          155,
          91,
          90,
          90,
          129,
          103,
          103,
          14,
          95,
          103,
          73,
          94,
          95,
          94,
          97,
          98,
          98,
          119,
          76,
          104,
          148,
          78,
          102,
          94,
          98,
          108,
          128,
          110,
          122,
          177,
          104,
          135,
          127,
          114,
          98,
          87,
          151,
          78,
          73,
          125,
          126,
          101,
          11,
          11,
          22,
          93,
          95,
          105,
          104,
          104,
          117,
          101,
          120,
          114,
          93,
          104,
          99,
          9,
          103,
          126,
          81,
          46,
          104,
          92,
          142,
          131,
          113,
          83,
          67,
          63,
          82,
          119,
          98,
          98,
          85,
          84,
          82,
          111,
          145,
          125,
          108,
          81,
          108,
          141,
          117,
          74,
          96,
          82,
          75,
          77,
          60,
          107,
          156,
          110,
          116,
          148,
          126,
          135,
          110,
          129,
          132,
          118,
          166,
          112,
          164,
          102,
          121,
          87,
          95,
          86,
          106,
          121,
          115,
          98,
          106,
          94,
          85,
          121,
          121,
          113,
          89,
          129,
          99,
          105,
          116,
          115,
          71,
          75,
          135,
          88,
          87,
          63,
          62,
          62,
          112,
          113,
          82,
          25,
          98,
          87,
          63,
          112,
          127,
          111,
          63,
          92,
          105,
          146,
          96,
          90,
          114,
          101,
          80,
          84,
          66,
          55,
          98,
          65,
          92,
          99,
          59,
          119,
          87,
          106,
          87,
          112,
          88,
          105,
          101,
          86,
          86,
          91,
          99,
          104,
          86,
          104,
          47,
          56,
          61,
          34,
          158,
          118,
          127,
          130,
          115,
          86,
          87,
          109,
          151,
          106,
          130,
          69,
          77,
          110,
          102,
          88,
          106,
          91,
          98,
          103,
          89,
          108,
          104,
          124,
          95,
          112,
          96,
          172,
          124,
          90,
          95,
          85,
          51,
          137,
          57,
          98,
          91,
          88,
          69,
          120,
          98,
          98,
          73,
          66,
          62,
          56,
          118,
          110,
          114,
          112,
          105,
          92,
          117,
          137,
          84,
          52,
          96,
          112,
          90,
          106,
          106,
          116,
          97,
          100,
          127,
          96,
          88,
          45,
          8,
          101,
          12,
          69,
          88,
          91,
          103,
          88,
          75,
          90,
          90,
          97,
          67,
          112,
          102,
          114,
          107,
          110,
          14,
          78,
          80,
          108,
          67,
          40,
          81,
          120,
          101,
          114,
          95,
          90,
          45,
          99,
          93,
          82,
          96,
          96,
          59,
          58,
          102,
          107,
          156,
          82,
          118,
          133,
          153,
          135,
          117,
          103,
          93,
          82,
          115,
          151,
          103,
          117,
          64,
          100,
          81,
          70,
          52,
          161,
          97,
          55,
          78,
          103,
          108,
          75,
          113,
          98,
          100,
          91,
          93,
          81,
          90,
          113,
          97,
          104,
          116,
          121,
          112,
          66,
          85,
          84,
          77,
          97,
          73,
          107,
          91,
          76,
          81,
          110,
          90,
          94,
          78,
          97,
          86,
          86,
          94,
          83,
          43,
          100,
          92,
          149,
          93,
          91,
          88,
          100,
          94,
          111,
          71,
          53,
          101,
          146,
          93,
          107,
          156,
          82,
          137,
          79,
          92,
          128,
          101,
          102,
          102,
          96,
          62,
          56,
          99,
          83,
          140,
          62,
          70,
          66,
          74,
          50,
          69,
          94,
          88,
          76,
          107,
          90,
          79,
          136,
          99,
          97,
          88,
          137,
          87,
          108,
          94,
          123,
          128,
          157,
          114,
          127,
          127,
          102,
          124,
          132,
          113,
          93,
          113,
          96,
          90,
          133,
          90,
          69,
          23,
          23,
          165,
          185,
          174,
          176,
          166,
          145,
          109,
          118,
          154,
          115,
          90,
          108,
          134,
          107,
          111,
          87,
          112,
          107,
          95,
          165,
          91,
          106,
          121,
          200,
          93,
          118,
          120,
          90,
          99,
          90,
          107,
          89,
          169,
          148,
          83,
          96,
          99,
          95,
          88,
          94,
          115,
          113,
          93,
          93,
          92,
          98,
          65,
          127,
          105,
          97,
          114,
          134,
          142,
          105,
          105,
          110,
          94,
          104,
          126,
          94,
          69,
          82,
          86,
          86,
          103,
          94,
          103,
          97,
          84,
          98,
          97,
          68,
          27,
          46,
          46,
          46,
          42,
          92,
          109,
          46,
          89,
          92,
          162,
          119,
          99,
          97,
          100,
          102,
          94,
          92,
          97,
          93,
          162,
          85,
          110,
          170,
          165,
          141,
          88,
          52,
          90,
          81,
          91,
          107,
          106,
          92,
          140,
          127,
          82,
          98,
          69,
          90,
          92,
          103,
          80,
          65,
          133,
          153,
          100,
          109,
          102,
          124,
          105,
          120,
          134,
          151,
          141,
          120,
          106,
          109,
          105,
          89,
          123,
          119,
          85,
          82,
          52,
          106,
          48,
          73,
          122,
          74,
          95,
          73,
          79,
          94,
          143,
          81,
          196,
          84,
          28,
          27,
          98,
          119,
          90,
          109,
          93,
          92,
          49,
          90,
          102,
          82,
          128,
          90,
          74,
          94,
          87,
          108,
          151,
          40,
          109,
          91,
          163,
          66,
          93,
          124,
          85,
          59,
          103,
          105,
          102,
          107,
          52,
          81,
          99,
          69,
          88,
          120,
          95,
          100,
          91,
          110,
          124,
          96,
          69,
          91,
          96,
          103,
          102,
          96,
          98,
          133,
          124,
          127,
          102,
          134,
          108,
          133,
          103,
          58,
          79,
          101,
          78,
          96,
          103,
          81,
          95,
          117,
          110,
          25,
          108,
          99,
          106,
          103,
          92,
          90,
          60,
          89,
          54,
          106,
          61,
          150,
          80,
          124,
          98,
          82,
          99,
          92,
          29,
          109,
          91,
          33,
          102,
          114,
          146,
          94,
          75,
          158,
          61,
          90,
          72,
          95,
          100,
          97,
          118,
          92,
          70,
          110,
          58,
          91,
          60,
          86,
          91,
          63,
          133,
          103,
          117,
          181,
          118,
          101,
          204,
          29,
          92,
          94,
          118,
          98,
          90,
          93,
          125,
          106,
          114,
          40,
          83,
          117,
          99,
          60,
          60,
          91,
          96,
          102,
          90,
          123,
          103,
          137,
          90,
          112,
          49,
          61,
          78,
          124,
          60,
          104,
          83,
          163,
          119,
          74,
          102,
          83,
          88,
          86,
          66,
          90,
          134,
          92,
          145,
          105,
          95,
          93,
          93,
          84,
          112,
          93,
          81,
          98,
          123,
          132,
          74,
          87,
          105,
          109,
          96,
          61,
          88,
          125,
          118,
          113,
          100,
          79,
          86,
          61,
          54,
          66,
          87,
          70,
          32,
          85,
          91,
          105,
          93,
          65,
          115,
          91,
          58,
          51,
          139,
          112,
          135,
          99,
          103,
          116,
          72,
          86,
          104,
          97,
          92,
          161,
          104,
          93,
          35,
          93,
          99,
          106,
          47,
          52,
          97,
          85,
          135,
          75,
          110,
          88,
          91,
          134,
          82,
          87,
          106,
          109,
          97,
          88,
          98,
          110,
          88,
          123,
          104,
          128,
          91,
          132,
          88,
          58,
          57,
          126,
          101,
          108,
          111,
          135,
          96,
          98,
          98,
          98,
          102,
          86,
          148,
          167,
          96,
          109,
          70,
          78,
          79,
          78,
          62,
          96,
          95,
          126,
          97,
          107,
          118,
          130,
          154,
          90,
          107,
          95,
          96,
          52,
          87,
          103,
          109,
          98,
          101,
          103,
          110,
          104,
          85,
          101,
          129,
          163,
          100,
          78,
          58,
          47,
          110,
          145,
          58,
          56,
          22,
          95,
          161,
          141,
          115,
          101,
          96,
          68,
          58,
          90,
          126,
          106,
          92,
          103,
          82,
          71,
          121,
          77,
          91,
          77,
          86,
          103,
          42,
          60,
          111,
          103,
          129,
          113,
          106,
          105,
          101,
          91,
          88,
          137,
          22,
          130,
          89,
          110,
          112,
          135,
          148,
          100,
          101,
          96,
          115,
          96,
          90,
          103,
          75,
          99,
          99,
          93,
          90,
          90,
          101,
          145,
          95,
          92,
          102,
          90,
          144,
          137,
          98,
          109,
          150,
          117,
          93,
          96,
          133,
          71,
          80,
          57,
          98,
          110,
          131,
          95,
          102,
          66,
          65,
          114,
          96,
          97,
          106,
          82,
          78,
          67,
          84,
          95,
          120,
          149,
          126,
          90,
          143,
          113,
          106,
          155,
          57,
          121,
          91,
          100,
          101,
          137,
          138,
          125,
          95,
          154,
          106,
          116,
          116,
          97,
          93,
          129,
          111,
          117,
          65,
          158,
          110,
          108,
          79,
          95,
          81,
          99,
          86,
          73,
          70,
          68,
          86,
          138,
          110,
          78,
          127,
          129,
          91,
          179,
          113,
          79,
          105,
          93,
          98,
          94,
          79,
          96,
          67,
          99,
          62,
          55,
          101,
          88,
          95,
          87,
          83,
          90,
          100,
          73,
          135,
          151,
          109,
          109,
          89,
          99,
          86,
          86,
          85,
          129,
          98,
          93,
          111,
          58,
          95,
          89,
          97,
          89,
          90,
          104,
          119,
          92,
          107,
          124,
          87,
          91,
          94,
          118,
          86,
          102,
          122,
          126,
          117,
          65,
          118,
          126,
          87,
          156,
          97,
          96,
          89,
          97,
          40,
          143,
          81,
          88,
          87,
          96,
          104,
          129,
          124,
          118,
          111,
          125,
          120,
          91,
          137,
          104,
          80,
          127,
          141,
          117,
          140,
          95,
          93,
          97,
          118,
          100,
          118,
          150,
          44,
          54,
          170,
          118,
          126,
          128,
          104,
          105,
          86,
          94,
          106,
          92,
          108,
          89,
          95,
          103,
          92,
          102,
          126,
          87,
          138,
          73,
          84,
          111,
          100,
          119,
          94,
          86,
          142,
          95,
          95,
          80,
          79,
          81,
          120,
          61,
          85,
          104,
          96,
          91,
          134,
          93,
          120,
          83,
          82,
          88,
          102,
          101,
          96,
          97,
          105,
          101,
          86,
          88,
          84,
          89,
          113,
          110,
          105,
          116,
          94,
          110,
          104,
          116,
          47,
          102,
          51,
          143,
          103,
          104,
          127,
          83,
          193,
          176,
          95,
          149,
          131,
          79,
          101,
          97,
          89,
          91,
          140,
          85,
          85,
          150,
          82,
          117,
          84,
          106,
          107,
          90,
          98,
          82,
          87,
          54,
          102,
          114,
          99,
          139,
          94,
          88,
          89,
          93,
          82,
          117,
          91,
          91,
          97,
          89,
          106,
          116,
          128,
          81,
          88,
          80,
          100,
          96,
          80,
          67,
          119,
          75,
          112,
          135,
          110,
          94,
          91,
          121,
          108,
          104,
          124,
          13,
          87,
          128,
          78,
          72,
          72,
          78,
          75,
          140,
          108,
          97,
          103,
          95,
          86,
          104,
          101,
          94,
          98,
          114,
          99,
          94,
          103,
          89,
          99,
          116,
          102,
          129,
          87,
          148,
          103,
          89,
          119,
          106,
          90,
          118,
          95,
          101,
          123,
          127,
          116,
          119,
          99,
          90,
          90,
          153,
          122,
          109,
          125,
          106,
          141,
          106,
          103,
          122,
          87,
          116,
          45,
          102,
          107,
          148,
          116,
          88,
          99,
          100,
          99,
          72,
          134,
          87,
          91,
          88,
          96,
          107,
          108,
          105,
          105,
          127,
          137,
          77,
          108,
          71,
          93,
          96,
          99,
          102,
          129,
          130,
          115,
          113,
          88,
          98,
          140,
          92,
          127,
          127,
          101,
          101,
          112,
          91,
          84,
          105,
          88,
          141,
          68,
          162,
          163,
          147,
          142,
          143,
          93,
          86,
          68,
          65,
          58,
          154,
          44,
          92,
          90,
          124,
          91,
          76,
          155,
          101,
          132,
          92,
          22,
          132,
          94,
          132,
          94,
          77,
          107,
          103,
          142,
          128,
          105,
          97,
          90,
          84,
          69,
          58,
          97,
          80,
          71,
          71,
          85,
          75,
          59,
          119,
          78,
          69,
          67,
          103,
          109,
          62,
          61,
          81,
          69,
          134,
          80,
          53,
          84,
          86,
          44,
          131,
          94,
          72,
          74,
          71,
          77,
          70,
          77,
          87,
          67,
          71,
          62,
          102,
          62,
          58,
          83,
          135,
          124,
          69,
          79,
          181,
          60,
          55,
          63,
          128,
          98,
          69,
          78,
          214,
          90,
          67,
          64,
          64,
          79,
          90,
          133,
          125,
          92,
          90,
          80,
          70,
          65,
          60,
          62,
          17,
          98,
          96,
          97,
          101,
          135,
          75,
          79,
          99,
          101,
          90,
          84,
          70,
          137,
          133,
          145,
          91,
          52,
          123,
          113,
          107,
          128,
          101,
          104,
          94,
          96,
          107,
          92,
          95,
          106,
          90,
          106,
          138,
          110,
          100,
          139,
          130,
          132,
          133,
          126,
          91,
          173,
          105,
          148,
          192,
          151,
          209,
          171,
          120,
          122,
          85,
          120,
          113,
          187,
          154,
          99,
          80,
          105,
          41,
          107,
          128,
          104,
          93,
          110,
          160,
          138,
          112,
          101,
          110,
          107,
          65,
          135,
          118,
          137,
          117,
          65,
          118,
          86,
          140,
          66,
          64,
          71,
          89,
          60,
          61,
          85,
          45,
          132,
          53,
          116,
          133,
          116,
          82,
          62,
          68,
          62,
          60,
          89,
          75,
          67,
          96,
          70,
          63,
          62,
          42,
          90,
          170,
          151,
          121,
          132,
          124,
          120,
          157,
          124,
          110,
          90,
          97,
          108,
          95,
          90,
          102,
          111,
          137,
          100,
          53,
          100,
          87,
          106,
          112,
          107,
          87,
          86,
          100,
          80,
          97,
          103,
          109,
          81,
          182,
          88,
          98,
          110,
          114,
          87,
          132,
          101,
          145,
          93,
          116,
          85,
          84,
          92,
          98,
          88,
          99,
          63,
          121,
          104,
          104,
          105,
          135,
          56,
          107,
          95,
          96,
          115,
          117,
          58,
          62,
          65,
          61,
          65,
          65,
          58,
          60,
          81,
          126,
          124,
          85,
          114,
          93,
          136,
          185,
          126,
          99,
          79,
          26,
          23,
          107,
          106,
          133,
          147,
          95,
          100,
          149,
          165,
          124,
          52,
          150,
          165,
          84,
          104,
          114,
          109,
          88,
          50,
          87,
          92,
          143,
          116,
          112,
          40,
          94,
          101,
          104,
          110,
          111,
          83,
          101,
          224,
          118,
          111,
          185,
          153,
          145,
          82,
          140,
          87,
          68,
          86,
          86,
          76,
          115,
          93,
          98,
          83,
          81,
          116,
          105,
          99,
          121,
          54,
          78,
          100,
          89,
          37,
          33,
          35,
          32,
          147,
          132,
          110,
          132,
          97,
          108,
          101,
          68,
          100,
          22,
          48,
          25,
          22,
          22,
          22,
          44,
          22,
          111,
          109,
          78,
          103,
          158,
          66,
          24,
          144,
          93,
          58,
          116,
          113,
          90,
          68,
          104,
          86,
          118,
          99,
          89,
          126,
          83,
          109,
          80,
          40,
          109,
          84,
          104,
          105,
          99,
          104,
          105,
          116,
          94,
          85,
          59,
          150,
          109,
          94,
          111,
          95,
          59,
          103,
          116,
          58,
          89,
          92,
          95,
          23,
          25,
          85,
          20,
          102,
          90,
          68,
          67,
          66,
          70,
          66,
          68,
          69,
          91,
          102,
          149,
          87,
          98,
          94,
          90,
          233,
          108,
          85,
          105,
          95,
          103,
          89,
          118,
          114,
          153,
          106,
          96,
          68,
          40,
          96,
          117,
          88,
          116,
          155,
          28,
          71,
          88,
          64,
          92,
          93,
          95,
          86,
          92,
          140,
          110,
          106,
          98,
          101,
          96,
          103,
          105,
          93,
          111,
          94,
          109,
          87,
          163,
          103,
          120,
          93,
          133,
          77,
          97,
          101,
          111,
          115,
          91,
          103,
          95,
          92,
          84,
          82,
          124,
          77,
          91,
          79,
          112,
          113,
          50,
          81,
          81,
          87,
          71,
          98,
          66,
          102,
          156,
          113,
          144,
          131,
          150,
          125,
          100,
          110,
          100,
          121,
          129,
          51,
          117,
          94,
          32,
          107,
          76,
          118,
          108,
          101,
          93,
          99,
          84,
          102,
          134,
          91,
          78,
          128,
          141,
          128,
          95,
          73,
          110,
          143,
          189,
          75,
          119,
          56,
          134,
          92,
          109,
          171,
          129,
          137,
          192,
          33,
          21,
          106,
          132,
          133,
          131,
          51,
          89,
          70,
          71,
          91,
          131,
          101,
          105,
          88,
          155,
          103,
          97,
          92,
          98,
          109,
          110,
          136,
          133,
          152,
          173,
          89,
          129,
          162,
          112,
          85,
          114,
          75,
          89,
          177,
          93,
          112,
          99,
          107,
          71,
          95,
          70,
          73,
          29,
          90,
          64,
          50,
          38,
          69,
          29,
          67,
          94,
          135,
          137,
          90,
          104,
          55,
          62,
          83,
          77,
          74,
          75,
          72,
          103,
          120,
          131,
          100,
          95,
          112,
          138,
          143,
          108,
          91,
          80,
          94,
          132,
          57,
          136,
          63,
          84,
          111,
          99,
          93,
          114,
          122,
          120,
          100,
          67,
          132,
          83,
          54,
          105,
          98,
          112,
          94,
          90,
          75,
          48,
          150,
          126,
          110,
          84,
          118,
          97,
          86,
          98,
          88,
          101,
          82,
          81,
          112,
          88,
          99,
          79,
          88,
          88,
          103,
          115,
          115,
          106,
          162,
          103,
          93,
          116,
          100,
          95,
          102,
          105,
          148,
          105,
          86,
          54,
          61,
          19,
          63,
          59,
          60,
          113,
          92,
          87,
          112,
          26,
          97,
          76,
          71,
          86,
          56,
          60,
          63,
          124,
          94,
          100,
          115,
          102,
          128,
          99,
          88,
          106,
          83,
          78,
          128,
          136,
          132,
          129,
          98,
          62,
          106,
          129,
          120,
          81,
          82,
          85,
          90,
          136,
          89,
          130,
          85,
          90,
          94,
          86,
          102,
          94,
          100,
          119,
          107,
          93,
          109,
          93,
          57,
          64,
          54,
          109,
          96,
          92,
          168,
          93,
          100,
          141,
          139,
          92,
          119,
          84,
          57,
          96,
          122,
          83,
          117,
          93,
          73,
          72,
          72,
          46,
          74,
          46,
          46,
          74,
          71,
          72,
          76,
          23,
          60,
          46,
          91,
          81,
          101,
          119,
          92,
          55,
          137,
          56,
          58,
          80,
          94,
          94,
          97,
          111,
          96,
          135,
          91,
          84,
          121,
          61,
          83,
          103,
          127,
          132,
          117,
          109,
          74,
          94,
          105,
          131,
          105,
          97,
          102,
          93,
          97,
          96,
          97,
          91,
          86,
          88,
          107,
          90,
          153,
          96,
          104,
          96,
          136,
          131,
          135,
          150,
          98,
          158,
          163,
          98,
          77,
          107,
          116,
          135,
          104,
          139,
          85,
          110,
          172,
          128,
          134,
          98,
          79,
          97,
          102,
          106,
          86,
          127,
          94,
          185,
          136,
          105,
          80,
          84,
          97,
          92,
          116,
          95,
          99,
          77,
          121,
          91,
          100,
          91,
          102,
          119,
          100,
          68,
          44,
          72,
          73,
          73,
          44,
          44,
          115,
          61,
          86,
          104,
          82,
          92,
          90,
          99,
          109,
          93,
          100,
          107,
          95,
          111,
          86,
          111,
          108,
          101,
          99,
          100,
          99,
          104,
          138,
          88,
          122,
          141,
          147,
          92,
          73,
          85,
          97,
          91,
          171,
          130,
          80,
          101,
          91,
          99,
          93,
          96,
          102,
          95,
          85,
          97,
          95,
          83,
          115,
          72,
          69,
          76,
          60,
          51,
          61,
          114,
          92,
          82,
          42,
          131,
          165,
          91,
          101,
          53,
          121,
          59,
          110,
          66,
          137,
          103,
          132,
          108,
          108,
          89,
          107,
          91,
          117,
          84,
          96,
          117,
          106,
          124,
          104,
          87,
          113,
          93,
          59,
          118,
          97,
          64,
          94,
          115,
          99,
          107,
          102,
          125,
          208,
          161,
          116,
          106,
          237,
          131,
          102,
          103,
          104,
          109,
          92,
          103,
          96,
          117,
          61,
          89,
          92,
          90,
          91,
          50,
          84,
          87,
          94,
          133,
          97,
          53,
          113,
          53,
          54,
          53,
          54,
          113,
          53,
          53,
          53,
          54,
          54,
          52,
          54,
          54,
          53,
          53,
          53,
          113,
          53,
          86,
          102,
          114,
          99,
          55,
          91,
          117,
          124,
          102,
          122,
          84,
          84,
          120,
          127,
          122,
          125,
          72,
          47,
          23,
          23,
          121,
          107,
          140,
          91,
          89,
          154,
          103,
          103,
          106,
          129,
          102,
          109,
          157,
          146,
          146,
          110,
          121,
          96,
          102,
          96,
          82,
          119,
          169,
          101,
          97,
          116,
          100,
          89,
          92,
          107,
          95,
          101,
          78,
          79,
          86,
          70,
          66,
          73,
          83,
          72,
          111,
          133,
          142,
          166,
          160,
          135,
          135,
          128,
          120,
          92,
          87,
          70,
          31,
          92,
          89,
          102,
          93,
          95,
          86,
          90,
          97,
          90,
          88,
          76,
          86,
          84,
          99,
          96,
          111,
          124,
          93,
          139,
          91,
          86,
          61,
          95,
          107,
          87,
          104,
          122,
          97,
          101,
          96,
          103,
          88,
          93,
          90,
          90,
          92,
          63,
          103,
          103,
          94,
          35,
          85,
          122,
          102,
          110,
          116,
          100,
          105,
          100,
          118,
          105,
          117,
          126,
          129,
          89,
          82,
          44,
          71,
          74,
          130,
          89,
          106,
          107,
          134,
          82,
          82,
          98,
          96,
          108,
          106,
          91,
          163,
          119,
          125,
          137,
          112,
          171,
          69,
          87,
          137,
          89,
          94,
          111,
          74,
          86,
          93,
          93,
          106,
          187,
          109,
          116,
          77,
          84,
          63,
          124,
          72,
          33,
          115,
          84,
          140,
          68,
          90,
          94,
          117,
          105,
          66,
          66,
          91,
          104,
          110,
          114,
          73,
          85,
          112,
          90,
          48,
          109,
          98,
          134,
          95,
          125,
          89,
          89,
          92,
          108,
          102,
          76,
          104,
          72,
          109,
          26,
          105,
          50,
          92,
          95,
          93,
          170,
          170,
          82,
          108,
          129,
          85,
          126,
          159,
          150,
          118,
          125,
          112,
          138,
          96,
          81,
          108,
          128,
          81,
          81,
          90,
          92,
          112,
          130,
          65,
          124,
          127,
          102,
          81,
          146,
          133,
          91,
          81,
          108,
          120,
          162,
          106,
          149,
          92,
          65,
          28,
          19,
          25,
          22,
          40,
          22,
          24,
          87,
          97,
          98,
          98,
          119,
          88,
          122,
          88,
          96,
          114,
          77,
          98,
          102,
          138,
          90,
          128,
          104,
          86,
          124,
          24,
          46,
          24,
          55,
          24,
          23,
          24,
          24,
          106,
          117,
          52,
          164,
          127,
          86,
          84,
          95,
          131,
          152,
          93,
          29,
          97,
          100,
          124,
          163,
          84,
          103,
          92,
          113,
          88,
          83,
          100,
          143,
          102,
          82,
          165,
          119,
          154,
          158,
          92,
          93,
          87,
          91,
          120,
          89,
          24,
          92,
          149,
          136,
          120,
          153,
          96,
          120,
          161,
          137,
          57,
          106,
          98,
          138,
          128,
          125,
          93,
          120,
          124,
          132,
          98,
          162,
          150,
          85,
          155,
          139,
          99,
          113,
          71,
          90,
          83,
          103,
          143,
          64,
          63,
          129,
          93,
          113,
          117,
          93,
          124,
          134,
          119,
          92,
          97,
          88,
          177,
          131,
          119,
          104,
          116,
          113,
          69,
          83,
          32,
          142,
          178,
          133,
          90,
          154,
          100,
          122,
          115,
          159,
          110,
          153,
          126,
          76,
          88,
          86,
          104,
          59,
          230,
          99,
          144,
          98,
          46,
          46,
          127,
          123,
          111,
          101,
          73,
          90,
          81,
          114,
          112,
          80,
          100,
          24,
          100,
          62,
          116,
          96,
          49,
          65,
          84,
          71,
          74,
          59,
          59,
          57,
          88,
          95,
          112,
          112,
          152,
          97,
          97,
          90,
          94,
          105,
          28,
          102,
          124,
          97,
          118,
          95,
          92,
          102,
          100,
          87,
          120,
          84,
          66,
          92,
          31,
          59,
          59,
          105,
          79,
          79,
          99,
          81,
          91,
          101,
          99,
          103,
          88,
          87,
          132,
          83,
          101,
          95,
          107,
          107,
          105,
          118,
          87,
          94,
          73,
          136,
          96,
          97,
          44,
          45,
          92,
          103,
          110,
          139,
          46,
          120,
          119,
          119,
          100,
          92,
          104,
          66,
          53,
          93,
          116,
          103,
          104,
          98,
          80,
          90,
          79,
          142,
          135,
          124,
          110,
          105,
          141,
          122,
          75,
          63,
          93,
          63,
          118,
          89,
          26,
          42,
          62,
          90,
          66,
          119,
          137,
          121,
          137,
          100,
          143,
          79,
          103,
          92,
          89,
          97,
          134,
          116,
          110,
          88,
          115,
          107,
          63,
          69,
          93,
          73,
          72,
          108,
          141,
          57,
          82,
          95,
          117,
          107,
          131,
          172,
          118,
          118,
          128,
          114,
          91,
          83,
          105,
          94,
          137,
          61,
          86,
          86,
          118,
          139,
          173,
          90,
          152,
          134,
          194,
          76,
          99,
          64,
          50,
          49,
          71,
          29,
          110,
          116,
          119,
          107,
          83,
          109,
          65,
          32,
          122,
          113,
          88,
          131,
          228,
          159,
          111,
          86,
          91,
          44,
          72,
          107,
          87,
          117,
          50,
          71,
          102,
          98,
          140,
          145,
          126,
          162,
          131,
          131,
          133,
          127,
          141,
          78,
          150,
          92,
          153,
          83,
          146,
          52,
          95,
          93,
          53,
          73,
          126,
          95,
          119,
          99,
          173,
          93,
          93,
          121,
          88,
          88,
          195,
          120,
          112,
          94,
          77,
          102,
          112,
          121,
          117,
          105,
          96,
          90,
          93,
          110,
          86,
          95,
          49,
          65,
          76,
          63,
          101,
          111,
          98,
          150,
          108,
          54,
          54,
          54,
          55,
          54,
          55,
          55,
          114,
          55,
          55,
          55,
          92,
          87,
          96,
          126,
          117,
          87,
          102,
          106,
          109,
          110,
          69,
          119,
          115,
          108,
          106,
          96,
          85,
          61,
          70,
          103,
          123,
          111,
          116,
          107,
          94,
          123,
          128,
          100,
          102,
          146,
          145,
          103,
          109,
          111,
          100,
          125,
          111,
          146,
          116,
          115,
          126,
          168,
          109,
          107,
          148,
          92,
          91,
          86,
          28,
          135,
          83,
          87,
          71,
          105,
          113,
          105,
          111,
          119,
          112,
          106,
          128,
          163,
          121,
          87,
          103,
          97,
          168,
          131,
          116,
          45,
          75,
          71,
          106,
          122,
          97,
          101,
          89,
          121,
          98,
          130,
          127,
          115,
          96,
          86,
          95,
          93,
          89,
          119,
          105,
          106,
          141,
          88,
          3,
          94,
          77,
          133,
          122,
          52,
          105,
          72,
          101,
          136,
          158,
          143,
          142,
          127,
          92,
          97,
          87,
          83,
          88,
          95,
          105,
          16,
          76,
          96,
          78,
          107,
          80,
          100,
          93,
          49,
          94,
          99,
          101,
          89,
          135,
          107,
          115,
          84,
          95,
          110,
          92,
          95,
          66,
          123,
          83,
          86,
          89,
          134,
          126,
          108,
          137,
          87,
          142,
          80,
          62,
          160,
          5,
          155,
          91,
          94,
          135,
          135,
          104,
          97,
          92,
          87,
          128,
          101,
          77,
          93,
          109,
          110,
          97,
          73,
          131,
          116,
          88,
          106,
          94,
          85,
          130,
          107,
          98,
          94,
          137,
          101,
          108,
          96,
          75,
          83,
          111,
          75,
          139,
          117,
          79,
          46,
          95,
          92,
          29,
          45,
          47,
          129,
          94,
          153,
          112,
          88,
          100,
          83,
          88,
          93,
          140,
          103,
          88,
          86,
          88,
          152,
          33,
          128,
          106,
          69,
          101,
          128,
          94,
          52,
          23,
          140,
          98,
          89,
          108,
          86,
          91,
          122,
          74,
          106,
          100,
          61,
          91,
          113,
          100,
          132,
          96,
          96,
          96,
          91,
          113,
          76,
          127,
          96,
          104,
          95,
          85,
          106,
          117,
          108,
          123,
          105,
          85,
          78,
          97,
          99,
          95,
          42,
          95,
          135,
          130,
          115,
          107,
          44,
          114,
          107,
          93,
          94,
          94,
          113,
          74,
          85,
          63,
          104,
          176,
          28,
          24,
          59,
          24,
          25,
          25,
          24,
          25,
          24,
          127,
          113,
          91,
          108,
          154,
          82,
          140,
          137,
          98,
          86,
          121,
          119,
          85,
          103,
          86,
          92,
          126,
          123,
          185,
          123,
          75,
          112,
          116,
          93,
          83,
          94,
          97,
          108,
          101,
          99,
          104,
          120,
          177,
          162,
          95,
          84,
          97,
          80,
          109,
          88,
          107,
          140,
          120,
          110,
          103,
          112,
          111,
          133,
          102,
          124,
          114,
          148,
          110,
          91,
          81,
          116,
          89,
          72,
          112,
          101,
          98,
          81,
          114,
          125,
          61,
          48,
          128,
          81,
          91,
          121,
          103,
          155,
          119,
          137,
          89,
          87,
          88,
          94,
          125,
          86,
          67,
          78,
          108,
          102,
          127,
          93,
          109,
          115,
          98,
          84,
          133,
          121,
          156,
          135,
          135,
          148,
          131,
          91,
          108,
          130,
          100,
          93,
          108,
          117,
          117,
          95,
          104,
          78,
          87,
          88,
          93,
          107,
          99,
          94,
          90,
          140,
          105,
          91,
          98,
          113,
          89,
          114,
          97,
          97,
          108,
          80,
          79,
          64,
          101,
          115,
          90,
          117,
          101,
          95,
          86,
          94,
          76,
          85,
          102,
          100,
          119,
          87,
          101,
          133,
          112,
          102,
          83,
          89,
          80,
          18,
          112,
          100,
          110,
          96,
          92,
          63,
          72,
          93,
          91,
          73,
          98,
          118,
          121,
          95,
          95,
          116,
          98,
          101,
          86,
          99,
          91,
          130,
          90,
          101,
          106,
          59,
          118,
          120,
          115,
          98,
          111,
          116,
          97,
          95,
          86,
          114,
          122,
          28,
          103,
          122,
          95,
          93,
          107,
          82,
          118,
          119,
          88,
          102,
          119,
          97,
          96,
          103,
          81,
          118,
          96,
          106,
          93,
          109,
          112,
          112,
          96,
          89,
          60,
          113,
          126,
          109,
          93,
          101,
          111,
          107,
          100,
          104,
          115,
          92,
          103,
          90,
          17,
          105,
          102,
          103,
          118,
          105,
          103,
          95,
          101,
          123,
          112,
          114,
          101,
          53,
          81,
          100,
          99,
          102,
          66,
          112,
          83,
          101,
          149,
          99,
          105,
          120,
          93,
          121,
          75,
          92,
          95,
          100,
          93,
          124,
          106,
          154,
          107,
          96,
          97,
          83,
          67,
          151,
          78,
          85,
          139,
          69,
          84,
          88,
          110,
          86,
          108,
          104,
          102,
          113,
          109,
          106,
          117,
          121,
          99,
          139,
          110,
          104,
          95,
          122,
          105,
          96,
          130,
          97,
          87,
          106,
          112,
          148,
          85,
          107,
          76,
          103,
          112,
          95,
          88,
          116,
          121,
          82,
          107,
          87,
          46,
          103,
          97,
          91,
          91,
          111,
          101,
          104,
          92,
          113,
          93,
          151,
          89,
          124,
          115,
          84,
          106,
          97,
          92,
          86,
          46,
          124,
          83,
          100,
          107,
          115,
          104,
          101,
          158,
          95,
          97,
          97,
          89,
          161,
          205,
          123,
          190,
          108,
          136,
          161,
          114,
          128,
          133,
          119,
          101,
          86,
          124,
          105,
          91,
          94,
          168,
          136,
          94,
          85,
          108,
          101,
          116,
          71,
          147,
          88,
          99,
          96,
          132,
          85,
          95,
          97,
          92,
          135,
          36,
          79,
          120,
          53,
          94,
          111,
          123,
          103,
          111,
          123,
          114,
          100,
          84,
          75,
          118,
          96,
          102,
          108,
          99,
          103,
          93,
          101,
          112,
          99,
          129,
          106,
          100,
          209,
          24,
          105,
          93,
          112,
          52,
          106,
          123,
          90,
          140,
          95,
          100,
          121,
          97,
          141,
          118,
          105,
          133,
          76,
          93,
          98,
          86,
          130,
          113,
          98,
          84,
          91,
          104,
          133,
          105,
          149,
          93,
          88,
          131,
          44,
          119,
          99,
          96,
          70,
          107,
          83,
          110,
          116,
          88,
          95,
          96,
          101,
          83,
          121,
          87,
          156,
          87,
          118,
          30,
          95,
          107,
          96,
          110,
          118,
          89,
          85,
          107,
          86,
          83,
          108,
          138,
          119,
          93,
          30,
          91,
          87,
          121,
          95,
          103,
          201,
          179,
          113,
          110,
          94,
          127,
          87,
          87,
          98,
          98,
          82,
          85,
          90,
          46,
          46,
          46,
          103,
          137,
          68,
          107,
          100,
          195,
          98,
          138,
          40,
          137,
          97,
          136,
          138,
          129,
          90,
          116,
          130,
          60,
          88,
          40,
          94,
          113,
          98,
          119,
          91,
          95,
          54,
          86,
          132,
          44,
          104,
          91,
          70,
          102,
          93,
          92,
          114,
          104,
          115,
          85,
          85,
          138,
          40,
          59,
          82,
          107,
          104,
          90,
          121,
          90,
          85,
          99,
          104,
          126,
          97,
          91,
          106,
          95,
          111,
          106,
          108,
          84,
          122,
          111,
          94,
          123,
          86,
          95,
          108,
          94,
          94,
          87,
          124,
          141,
          91,
          93,
          143,
          148,
          91,
          103,
          141,
          110,
          155,
          93,
          78,
          118,
          88,
          89,
          140,
          94,
          124,
          110,
          89,
          100,
          94,
          96,
          116,
          92,
          91,
          111,
          98,
          102,
          97,
          125,
          125,
          132,
          133,
          76,
          117,
          90,
          66,
          105,
          119,
          136,
          52,
          81,
          77,
          108,
          130,
          120,
          102,
          116,
          67,
          90,
          100,
          123,
          90,
          120,
          92,
          93,
          116,
          107,
          95,
          87,
          111,
          14,
          101,
          91,
          105,
          103,
          103,
          90,
          81,
          120,
          107,
          90,
          47,
          111,
          94,
          92,
          92,
          99,
          253,
          124,
          111,
          32,
          98,
          86,
          105,
          100,
          104,
          123,
          100,
          105,
          85,
          108,
          97,
          97,
          91,
          96,
          93,
          122,
          90,
          163,
          110,
          143,
          104,
          103,
          105,
          94,
          121,
          93,
          120,
          95,
          41,
          97,
          84,
          46,
          94,
          94,
          105,
          81,
          103,
          122,
          98,
          90,
          111,
          97,
          91,
          89,
          115,
          98,
          92,
          106,
          139,
          81,
          83,
          123,
          96,
          118,
          110,
          94,
          58,
          96,
          107,
          97,
          103,
          24,
          91,
          136,
          130,
          91,
          104,
          94,
          108,
          91,
          58,
          99,
          106,
          126,
          96,
          93,
          106,
          103,
          130,
          91,
          115,
          91,
          92,
          103,
          72,
          138,
          98,
          125,
          93,
          111,
          112,
          90,
          101,
          101,
          98,
          111,
          117,
          41,
          92,
          117,
          92,
          88,
          126,
          157,
          116,
          47,
          100,
          114,
          128,
          101,
          108,
          53,
          99,
          89,
          90,
          111,
          83,
          85,
          135,
          94,
          104,
          132,
          89,
          97,
          67,
          86,
          158,
          72,
          110,
          98,
          99,
          82,
          180,
          107,
          77,
          123,
          23,
          23,
          23,
          122,
          131,
          77,
          125,
          125,
          139,
          88,
          107,
          96,
          87,
          104,
          133,
          93,
          42,
          56,
          66,
          92,
          58,
          130,
          91,
          108,
          151,
          30,
          30,
          146,
          127,
          98,
          125,
          96,
          135,
          88,
          99,
          78,
          97,
          100,
          102,
          81,
          84,
          88,
          95,
          108,
          108,
          96,
          61,
          63,
          46,
          78,
          86,
          176,
          145,
          89,
          98,
          60,
          57,
          60,
          70,
          74,
          71,
          74,
          63,
          119,
          99,
          117,
          106,
          94,
          108,
          87,
          133,
          106,
          104,
          94,
          114,
          107,
          94,
          59,
          130,
          89,
          81,
          102,
          74,
          47,
          95,
          46,
          88,
          118,
          94,
          114,
          83,
          119,
          79,
          114,
          94,
          111,
          85,
          88,
          82,
          82,
          96,
          100,
          104,
          101,
          99,
          98,
          102,
          100,
          67,
          64,
          96,
          134,
          173,
          113,
          115,
          126,
          96,
          93,
          91,
          27,
          110,
          90,
          128,
          128,
          98,
          108,
          24,
          24,
          24,
          24,
          24,
          46,
          24,
          124,
          88,
          125,
          89,
          162,
          128,
          72,
          90,
          123,
          76,
          96,
          107,
          102,
          53,
          110,
          102,
          86,
          89,
          117,
          80,
          95,
          78,
          90,
          121,
          99,
          137,
          146,
          125,
          115,
          143,
          109,
          137,
          96,
          114,
          94,
          90,
          104,
          190,
          100,
          109,
          116,
          92,
          95,
          104,
          98,
          135,
          113,
          40,
          94,
          87,
          102,
          84,
          108,
          85,
          94,
          61,
          85,
          121,
          94,
          83,
          114,
          92,
          105,
          113,
          97,
          97,
          83,
          95,
          93,
          86,
          110,
          99,
          106,
          112,
          116,
          121,
          62,
          119,
          95,
          130,
          119,
          132,
          86,
          145,
          90,
          144,
          106,
          117,
          130,
          78,
          113,
          82,
          81,
          105,
          126,
          127,
          109,
          156,
          106,
          93,
          110,
          91,
          113,
          97,
          115,
          101,
          91,
          66,
          76,
          68,
          50,
          127,
          100,
          29,
          125,
          116,
          166,
          106,
          106,
          113,
          93,
          96,
          99,
          66,
          119,
          115,
          130,
          120,
          93,
          94,
          111,
          94,
          132,
          109,
          81,
          94,
          100,
          96,
          90,
          66,
          95,
          103,
          61,
          109,
          147,
          123,
          98,
          73,
          92,
          128,
          93,
          78,
          68,
          98,
          74,
          119,
          109,
          86,
          123,
          96,
          83,
          101,
          95,
          91,
          90,
          93,
          38,
          106,
          94,
          89,
          91,
          94,
          72,
          94,
          95,
          149,
          124,
          99,
          73,
          108,
          131,
          80,
          84,
          135,
          106,
          81,
          93,
          96,
          105,
          102,
          92,
          98,
          17,
          124,
          102,
          103,
          99,
          130,
          52,
          91,
          87,
          96,
          92,
          140,
          96,
          93,
          32,
          118,
          110,
          95,
          203,
          82,
          107,
          96,
          75,
          109,
          103,
          97,
          89,
          86,
          97,
          69,
          98,
          98,
          93,
          89,
          120,
          88,
          90,
          91,
          59,
          48,
          78,
          94,
          90,
          102,
          50,
          84,
          126,
          82,
          98,
          86,
          106,
          105,
          93,
          105,
          72,
          100,
          89,
          100,
          104,
          85,
          86,
          99,
          100,
          108,
          106,
          108,
          93,
          102,
          74,
          80,
          92,
          93,
          109,
          132,
          69,
          101,
          97,
          91,
          94,
          147,
          129,
          49,
          93,
          133,
          140,
          45,
          68,
          191,
          135,
          105,
          92,
          91,
          81,
          124,
          101,
          106,
          137,
          15,
          171,
          148,
          132,
          147,
          151,
          97,
          117,
          95,
          90,
          104,
          111,
          112,
          107,
          78,
          96,
          88,
          78,
          54,
          63,
          93,
          87,
          85,
          157,
          116,
          113,
          89,
          107,
          117,
          112,
          94,
          81,
          120,
          115,
          103,
          72,
          88,
          98,
          115,
          130,
          160,
          61,
          101,
          109,
          92,
          131,
          120,
          159,
          89,
          126,
          154,
          96,
          12,
          105,
          89,
          158,
          104,
          88,
          94,
          88,
          99,
          111,
          44,
          90
         ],
         "xaxis": "x",
         "y": [
          "freq",
          "freq",
          "freq",
          "freq",
          "freq",
          "freq",
          "freq",
          "freq",
          "freq",
          "freq",
          "freq",
          "freq",
          "freq",
          "freq",
          "freq",
          "freq",
          "freq",
          "freq",
          "freq",
          "freq",
          "freq",
          "freq",
          "freq",
          "freq",
          "freq",
          "freq",
          "freq",
          "freq",
          "freq",
          "freq",
          "freq",
          "freq",
          "freq",
          "freq",
          "freq",
          "freq",
          "freq",
          "freq",
          "freq",
          "freq",
          "freq",
          "freq",
          "freq",
          "freq",
          "freq",
          "freq",
          "freq",
          "freq",
          "freq",
          "freq",
          "freq",
          "freq",
          "freq",
          "freq",
          "freq",
          "freq",
          "freq",
          "freq",
          "freq",
          "freq",
          "freq",
          "freq",
          "freq",
          "freq",
          "freq",
          "freq",
          "freq",
          "freq",
          "freq",
          "freq",
          "freq",
          "freq",
          "freq",
          "freq",
          "freq",
          "freq",
          "freq",
          "freq",
          "freq",
          "freq",
          "freq",
          "freq",
          "freq",
          "freq",
          "freq",
          "freq",
          "freq",
          "freq",
          "freq",
          "freq",
          "freq",
          "freq",
          "freq",
          "freq",
          "freq",
          "freq",
          "freq",
          "freq",
          "freq",
          "freq",
          "freq",
          "freq",
          "freq",
          "freq",
          "freq",
          "freq",
          "freq",
          "freq",
          "freq",
          "freq",
          "freq",
          "freq",
          "freq",
          "freq",
          "freq",
          "freq",
          "freq",
          "freq",
          "freq",
          "freq",
          "freq",
          "freq",
          "freq",
          "freq",
          "freq",
          "freq",
          "freq",
          "freq",
          "freq",
          "freq",
          "freq",
          "freq",
          "freq",
          "freq",
          "freq",
          "freq",
          "freq",
          "freq",
          "freq",
          "freq",
          "freq",
          "freq",
          "freq",
          "freq",
          "freq",
          "freq",
          "freq",
          "freq",
          "freq",
          "freq",
          "freq",
          "freq",
          "freq",
          "freq",
          "freq",
          "freq",
          "freq",
          "freq",
          "freq",
          "freq",
          "freq",
          "freq",
          "freq",
          "freq",
          "freq",
          "freq",
          "freq",
          "freq",
          "freq",
          "freq",
          "freq",
          "freq",
          "freq",
          "freq",
          "freq",
          "freq",
          "freq",
          "freq",
          "freq",
          "freq",
          "freq",
          "freq",
          "freq",
          "freq",
          "freq",
          "freq",
          "freq",
          "freq",
          "freq",
          "freq",
          "freq",
          "freq",
          "freq",
          "freq",
          "freq",
          "freq",
          "freq",
          "freq",
          "freq",
          "freq",
          "freq",
          "freq",
          "freq",
          "freq",
          "freq",
          "freq",
          "freq",
          "freq",
          "freq",
          "freq",
          "freq",
          "freq",
          "freq",
          "freq",
          "freq",
          "freq",
          "freq",
          "freq",
          "freq",
          "freq",
          "freq",
          "freq",
          "freq",
          "freq",
          "freq",
          "freq",
          "freq",
          "freq",
          "freq",
          "freq",
          "freq",
          "freq",
          "freq",
          "freq",
          "freq",
          "freq",
          "freq",
          "freq",
          "freq",
          "freq",
          "freq",
          "freq",
          "freq",
          "freq",
          "freq",
          "freq",
          "freq",
          "freq",
          "freq",
          "freq",
          "freq",
          "freq",
          "freq",
          "freq",
          "freq",
          "freq",
          "freq",
          "freq",
          "freq",
          "freq",
          "freq",
          "freq",
          "freq",
          "freq",
          "freq",
          "freq",
          "freq",
          "freq",
          "freq",
          "freq",
          "freq",
          "freq",
          "freq",
          "freq",
          "freq",
          "freq",
          "freq",
          "freq",
          "freq",
          "freq",
          "freq",
          "freq",
          "freq",
          "freq",
          "freq",
          "freq",
          "freq",
          "freq",
          "freq",
          "freq",
          "freq",
          "freq",
          "freq",
          "freq",
          "freq",
          "freq",
          "freq",
          "freq",
          "freq",
          "freq",
          "freq",
          "freq",
          "freq",
          "freq",
          "freq",
          "freq",
          "freq",
          "freq",
          "freq",
          "freq",
          "freq",
          "freq",
          "freq",
          "freq",
          "freq",
          "freq",
          "freq",
          "freq",
          "freq",
          "freq",
          "freq",
          "freq",
          "freq",
          "freq",
          "freq",
          "freq",
          "freq",
          "freq",
          "freq",
          "freq",
          "freq",
          "freq",
          "freq",
          "freq",
          "freq",
          "freq",
          "freq",
          "freq",
          "freq",
          "freq",
          "freq",
          "freq",
          "freq",
          "freq",
          "freq",
          "freq",
          "freq",
          "freq",
          "freq",
          "freq",
          "freq",
          "freq",
          "freq",
          "freq",
          "freq",
          "freq",
          "freq",
          "freq",
          "freq",
          "freq",
          "freq",
          "freq",
          "freq",
          "freq",
          "freq",
          "freq",
          "freq",
          "freq",
          "freq",
          "freq",
          "freq",
          "freq",
          "freq",
          "freq",
          "freq",
          "freq",
          "freq",
          "freq",
          "freq",
          "freq",
          "freq",
          "freq",
          "freq",
          "freq",
          "freq",
          "freq",
          "freq",
          "freq",
          "freq",
          "freq",
          "freq",
          "freq",
          "freq",
          "freq",
          "freq",
          "freq",
          "freq",
          "freq",
          "freq",
          "freq",
          "freq",
          "freq",
          "freq",
          "freq",
          "freq",
          "freq",
          "freq",
          "freq",
          "freq",
          "freq",
          "freq",
          "freq",
          "freq",
          "freq",
          "freq",
          "freq",
          "freq",
          "freq",
          "freq",
          "freq",
          "freq",
          "freq",
          "freq",
          "freq",
          "freq",
          "freq",
          "freq",
          "freq",
          "freq",
          "freq",
          "freq",
          "freq",
          "freq",
          "freq",
          "freq",
          "freq",
          "freq",
          "freq",
          "freq",
          "freq",
          "freq",
          "freq",
          "freq",
          "freq",
          "freq",
          "freq",
          "freq",
          "freq",
          "freq",
          "freq",
          "freq",
          "freq",
          "freq",
          "freq",
          "freq",
          "freq",
          "freq",
          "freq",
          "freq",
          "freq",
          "freq",
          "freq",
          "freq",
          "freq",
          "freq",
          "freq",
          "freq",
          "freq",
          "freq",
          "freq",
          "freq",
          "freq",
          "freq",
          "freq",
          "freq",
          "freq",
          "freq",
          "freq",
          "freq",
          "freq",
          "freq",
          "freq",
          "freq",
          "freq",
          "freq",
          "freq",
          "freq",
          "freq",
          "freq",
          "freq",
          "freq",
          "freq",
          "freq",
          "freq",
          "freq",
          "freq",
          "freq",
          "freq",
          "freq",
          "freq",
          "freq",
          "freq",
          "freq",
          "freq",
          "freq",
          "freq",
          "freq",
          "freq",
          "freq",
          "freq",
          "freq",
          "freq",
          "freq",
          "freq",
          "freq",
          "freq",
          "freq",
          "freq",
          "freq",
          "freq",
          "freq",
          "freq",
          "freq",
          "freq",
          "freq",
          "freq",
          "freq",
          "freq",
          "freq",
          "freq",
          "freq",
          "freq",
          "freq",
          "freq",
          "freq",
          "freq",
          "freq",
          "freq",
          "freq",
          "freq",
          "freq",
          "freq",
          "freq",
          "freq",
          "freq",
          "freq",
          "freq",
          "freq",
          "freq",
          "freq",
          "freq",
          "freq",
          "freq",
          "freq",
          "freq",
          "freq",
          "freq",
          "freq",
          "freq",
          "freq",
          "freq",
          "freq",
          "freq",
          "freq",
          "freq",
          "freq",
          "freq",
          "freq",
          "freq",
          "freq",
          "freq",
          "freq",
          "freq",
          "freq",
          "freq",
          "freq",
          "freq",
          "freq",
          "freq",
          "freq",
          "freq",
          "freq",
          "freq",
          "freq",
          "freq",
          "freq",
          "freq",
          "freq",
          "freq",
          "freq",
          "freq",
          "freq",
          "freq",
          "freq",
          "freq",
          "freq",
          "freq",
          "freq",
          "freq",
          "freq",
          "freq",
          "freq",
          "freq",
          "freq",
          "freq",
          "freq",
          "freq",
          "freq",
          "freq",
          "freq",
          "freq",
          "freq",
          "freq",
          "freq",
          "freq",
          "freq",
          "freq",
          "freq",
          "freq",
          "freq",
          "freq",
          "freq",
          "freq",
          "freq",
          "freq",
          "freq",
          "freq",
          "freq",
          "freq",
          "freq",
          "freq",
          "freq",
          "freq",
          "freq",
          "freq",
          "freq",
          "freq",
          "freq",
          "freq",
          "freq",
          "freq",
          "freq",
          "freq",
          "freq",
          "freq",
          "freq",
          "freq",
          "freq",
          "freq",
          "freq",
          "freq",
          "freq",
          "freq",
          "freq",
          "freq",
          "freq",
          "freq",
          "freq",
          "freq",
          "freq",
          "freq",
          "freq",
          "freq",
          "freq",
          "freq",
          "freq",
          "freq",
          "freq",
          "freq",
          "freq",
          "freq",
          "freq",
          "freq",
          "freq",
          "freq",
          "freq",
          "freq",
          "freq",
          "freq",
          "freq",
          "freq",
          "freq",
          "freq",
          "freq",
          "freq",
          "freq",
          "freq",
          "freq",
          "freq",
          "freq",
          "freq",
          "freq",
          "freq",
          "freq",
          "freq",
          "freq",
          "freq",
          "freq",
          "freq",
          "freq",
          "freq",
          "freq",
          "freq",
          "freq",
          "freq",
          "freq",
          "freq",
          "freq",
          "freq",
          "freq",
          "freq",
          "freq",
          "freq",
          "freq",
          "freq",
          "freq",
          "freq",
          "freq",
          "freq",
          "freq",
          "freq",
          "freq",
          "freq",
          "freq",
          "freq",
          "freq",
          "freq",
          "freq",
          "freq",
          "freq",
          "freq",
          "freq",
          "freq",
          "freq",
          "freq",
          "freq",
          "freq",
          "freq",
          "freq",
          "freq",
          "freq",
          "freq",
          "freq",
          "freq",
          "freq",
          "freq",
          "freq",
          "freq",
          "freq",
          "freq",
          "freq",
          "freq",
          "freq",
          "freq",
          "freq",
          "freq",
          "freq",
          "freq",
          "freq",
          "freq",
          "freq",
          "freq",
          "freq",
          "freq",
          "freq",
          "freq",
          "freq",
          "freq",
          "freq",
          "freq",
          "freq",
          "freq",
          "freq",
          "freq",
          "freq",
          "freq",
          "freq",
          "freq",
          "freq",
          "freq",
          "freq",
          "freq",
          "freq",
          "freq",
          "freq",
          "freq",
          "freq",
          "freq",
          "freq",
          "freq",
          "freq",
          "freq",
          "freq",
          "freq",
          "freq",
          "freq",
          "freq",
          "freq",
          "freq",
          "freq",
          "freq",
          "freq",
          "freq",
          "freq",
          "freq",
          "freq",
          "freq",
          "freq",
          "freq",
          "freq",
          "freq",
          "freq",
          "freq",
          "freq",
          "freq",
          "freq",
          "freq",
          "freq",
          "freq",
          "freq",
          "freq",
          "freq",
          "freq",
          "freq",
          "freq",
          "freq",
          "freq",
          "freq",
          "freq",
          "freq",
          "freq",
          "freq",
          "freq",
          "freq",
          "freq",
          "freq",
          "freq",
          "freq",
          "freq",
          "freq",
          "freq",
          "freq",
          "freq",
          "freq",
          "freq",
          "freq",
          "freq",
          "freq",
          "freq",
          "freq",
          "freq",
          "freq",
          "freq",
          "freq",
          "freq",
          "freq",
          "freq",
          "freq",
          "freq",
          "freq",
          "freq",
          "freq",
          "freq",
          "freq",
          "freq",
          "freq",
          "freq",
          "freq",
          "freq",
          "freq",
          "freq",
          "freq",
          "freq",
          "freq",
          "freq",
          "freq",
          "freq",
          "freq",
          "freq",
          "freq",
          "freq",
          "freq",
          "freq",
          "freq",
          "freq",
          "freq",
          "freq",
          "freq",
          "freq",
          "freq",
          "freq",
          "freq",
          "freq",
          "freq",
          "freq",
          "freq",
          "freq",
          "freq",
          "freq",
          "freq",
          "freq",
          "freq",
          "freq",
          "freq",
          "freq",
          "freq",
          "freq",
          "freq",
          "freq",
          "freq",
          "freq",
          "freq",
          "freq",
          "freq",
          "freq",
          "freq",
          "freq",
          "freq",
          "freq",
          "freq",
          "freq",
          "freq",
          "freq",
          "freq",
          "freq",
          "freq",
          "freq",
          "freq",
          "freq",
          "freq",
          "freq",
          "freq",
          "freq",
          "freq",
          "freq",
          "freq",
          "freq",
          "freq",
          "freq",
          "freq",
          "freq",
          "freq",
          "freq",
          "freq",
          "freq",
          "freq",
          "freq",
          "freq",
          "freq",
          "freq",
          "freq",
          "freq",
          "freq",
          "freq",
          "freq",
          "freq",
          "freq",
          "freq",
          "freq",
          "freq",
          "freq",
          "freq",
          "freq",
          "freq",
          "freq",
          "freq",
          "freq",
          "freq",
          "freq",
          "freq",
          "freq",
          "freq",
          "freq",
          "freq",
          "freq",
          "freq",
          "freq",
          "freq",
          "freq",
          "freq",
          "freq",
          "freq",
          "freq",
          "freq",
          "freq",
          "freq",
          "freq",
          "freq",
          "freq",
          "freq",
          "freq",
          "freq",
          "freq",
          "freq",
          "freq",
          "freq",
          "freq",
          "freq",
          "freq",
          "freq",
          "freq",
          "freq",
          "freq",
          "freq",
          "freq",
          "freq",
          "freq",
          "freq",
          "freq",
          "freq",
          "freq",
          "freq",
          "freq",
          "freq",
          "freq",
          "freq",
          "freq",
          "freq",
          "freq",
          "freq",
          "freq",
          "freq",
          "freq",
          "freq",
          "freq",
          "freq",
          "freq",
          "freq",
          "freq",
          "freq",
          "freq",
          "freq",
          "freq",
          "freq",
          "freq",
          "freq",
          "freq",
          "freq",
          "freq",
          "freq",
          "freq",
          "freq",
          "freq",
          "freq",
          "freq",
          "freq",
          "freq",
          "freq",
          "freq",
          "freq",
          "freq",
          "freq",
          "freq",
          "freq",
          "freq",
          "freq",
          "freq",
          "freq",
          "freq",
          "freq",
          "freq",
          "freq",
          "freq",
          "freq",
          "freq",
          "freq",
          "freq",
          "freq",
          "freq",
          "freq",
          "freq",
          "freq",
          "freq",
          "freq",
          "freq",
          "freq",
          "freq",
          "freq",
          "freq",
          "freq",
          "freq",
          "freq",
          "freq",
          "freq",
          "freq",
          "freq",
          "freq",
          "freq",
          "freq",
          "freq",
          "freq",
          "freq",
          "freq",
          "freq",
          "freq",
          "freq",
          "freq",
          "freq",
          "freq",
          "freq",
          "freq",
          "freq",
          "freq",
          "freq",
          "freq",
          "freq",
          "freq",
          "freq",
          "freq",
          "freq",
          "freq",
          "freq",
          "freq",
          "freq",
          "freq",
          "freq",
          "freq",
          "freq",
          "freq",
          "freq",
          "freq",
          "freq",
          "freq",
          "freq",
          "freq",
          "freq",
          "freq",
          "freq",
          "freq",
          "freq",
          "freq",
          "freq",
          "freq",
          "freq",
          "freq",
          "freq",
          "freq",
          "freq",
          "freq",
          "freq",
          "freq",
          "freq",
          "freq",
          "freq",
          "freq",
          "freq",
          "freq",
          "freq",
          "freq",
          "freq",
          "freq",
          "freq",
          "freq",
          "freq",
          "freq",
          "freq",
          "freq",
          "freq",
          "freq",
          "freq",
          "freq",
          "freq",
          "freq",
          "freq",
          "freq",
          "freq",
          "freq",
          "freq",
          "freq",
          "freq",
          "freq",
          "freq",
          "freq",
          "freq",
          "freq",
          "freq",
          "freq",
          "freq",
          "freq",
          "freq",
          "freq",
          "freq",
          "freq",
          "freq",
          "freq",
          "freq",
          "freq",
          "freq",
          "freq",
          "freq",
          "freq",
          "freq",
          "freq",
          "freq",
          "freq",
          "freq",
          "freq",
          "freq",
          "freq",
          "freq",
          "freq",
          "freq",
          "freq",
          "freq",
          "freq",
          "freq",
          "freq",
          "freq",
          "freq",
          "freq",
          "freq",
          "freq",
          "freq",
          "freq",
          "freq",
          "freq",
          "freq",
          "freq",
          "freq",
          "freq",
          "freq",
          "freq",
          "freq",
          "freq",
          "freq",
          "freq",
          "freq",
          "freq",
          "freq",
          "freq",
          "freq",
          "freq",
          "freq",
          "freq",
          "freq",
          "freq",
          "freq",
          "freq",
          "freq",
          "freq",
          "freq",
          "freq",
          "freq",
          "freq",
          "freq",
          "freq",
          "freq",
          "freq",
          "freq",
          "freq",
          "freq",
          "freq",
          "freq",
          "freq",
          "freq",
          "freq",
          "freq",
          "freq",
          "freq",
          "freq",
          "freq",
          "freq",
          "freq",
          "freq",
          "freq",
          "freq",
          "freq",
          "freq",
          "freq",
          "freq",
          "freq",
          "freq",
          "freq",
          "freq",
          "freq",
          "freq",
          "freq",
          "freq",
          "freq",
          "freq",
          "freq",
          "freq",
          "freq",
          "freq",
          "freq",
          "freq",
          "freq",
          "freq",
          "freq",
          "freq",
          "freq",
          "freq",
          "freq",
          "freq",
          "freq",
          "freq",
          "freq",
          "freq",
          "freq",
          "freq",
          "freq",
          "freq",
          "freq",
          "freq",
          "freq",
          "freq",
          "freq",
          "freq",
          "freq",
          "freq",
          "freq",
          "freq",
          "freq",
          "freq",
          "freq",
          "freq",
          "freq",
          "freq",
          "freq",
          "freq",
          "freq",
          "freq",
          "freq",
          "freq",
          "freq",
          "freq",
          "freq",
          "freq",
          "freq",
          "freq",
          "freq",
          "freq",
          "freq",
          "freq",
          "freq",
          "freq",
          "freq",
          "freq",
          "freq",
          "freq",
          "freq",
          "freq",
          "freq",
          "freq",
          "freq",
          "freq",
          "freq",
          "freq",
          "freq",
          "freq",
          "freq",
          "freq",
          "freq",
          "freq",
          "freq",
          "freq",
          "freq",
          "freq",
          "freq",
          "freq",
          "freq",
          "freq",
          "freq",
          "freq",
          "freq",
          "freq",
          "freq",
          "freq",
          "freq",
          "freq",
          "freq",
          "freq",
          "freq",
          "freq",
          "freq",
          "freq",
          "freq",
          "freq",
          "freq",
          "freq",
          "freq",
          "freq",
          "freq",
          "freq",
          "freq",
          "freq",
          "freq",
          "freq",
          "freq",
          "freq",
          "freq",
          "freq",
          "freq",
          "freq",
          "freq",
          "freq",
          "freq",
          "freq",
          "freq",
          "freq",
          "freq",
          "freq",
          "freq",
          "freq",
          "freq",
          "freq",
          "freq",
          "freq",
          "freq",
          "freq",
          "freq",
          "freq",
          "freq",
          "freq",
          "freq",
          "freq",
          "freq",
          "freq",
          "freq",
          "freq",
          "freq",
          "freq",
          "freq",
          "freq",
          "freq",
          "freq",
          "freq",
          "freq",
          "freq",
          "freq",
          "freq",
          "freq",
          "freq",
          "freq",
          "freq",
          "freq",
          "freq",
          "freq",
          "freq",
          "freq",
          "freq",
          "freq",
          "freq",
          "freq",
          "freq",
          "freq",
          "freq",
          "freq",
          "freq",
          "freq",
          "freq",
          "freq",
          "freq",
          "freq",
          "freq",
          "freq",
          "freq",
          "freq",
          "freq",
          "freq",
          "freq",
          "freq",
          "freq",
          "freq",
          "freq",
          "freq",
          "freq",
          "freq",
          "freq",
          "freq",
          "freq",
          "freq",
          "freq",
          "freq",
          "freq",
          "freq",
          "freq",
          "freq",
          "freq",
          "freq",
          "freq",
          "freq",
          "freq",
          "freq",
          "freq",
          "freq",
          "freq",
          "freq",
          "freq",
          "freq",
          "freq",
          "freq",
          "freq",
          "freq",
          "freq",
          "freq",
          "freq",
          "freq",
          "freq",
          "freq",
          "freq",
          "freq",
          "freq",
          "freq",
          "freq",
          "freq",
          "freq",
          "freq",
          "freq",
          "freq",
          "freq",
          "freq",
          "freq",
          "freq",
          "freq",
          "freq",
          "freq",
          "freq",
          "freq",
          "freq",
          "freq",
          "freq",
          "freq",
          "freq",
          "freq",
          "freq",
          "freq",
          "freq",
          "freq",
          "freq",
          "freq",
          "freq",
          "freq",
          "freq",
          "freq",
          "freq",
          "freq",
          "freq",
          "freq",
          "freq",
          "freq",
          "freq",
          "freq",
          "freq",
          "freq",
          "freq",
          "freq",
          "freq",
          "freq",
          "freq",
          "freq",
          "freq",
          "freq",
          "freq",
          "freq",
          "freq",
          "freq",
          "freq",
          "freq",
          "freq",
          "freq",
          "freq",
          "freq",
          "freq",
          "freq",
          "freq",
          "freq",
          "freq",
          "freq",
          "freq",
          "freq",
          "freq",
          "freq",
          "freq",
          "freq",
          "freq",
          "freq",
          "freq",
          "freq",
          "freq",
          "freq",
          "freq",
          "freq",
          "freq",
          "freq",
          "freq",
          "freq",
          "freq",
          "freq",
          "freq",
          "freq",
          "freq",
          "freq",
          "freq",
          "freq",
          "freq",
          "freq",
          "freq",
          "freq",
          "freq",
          "freq",
          "freq",
          "freq",
          "freq",
          "freq",
          "freq",
          "freq",
          "freq",
          "freq",
          "freq",
          "freq",
          "freq",
          "freq",
          "freq",
          "freq",
          "freq",
          "freq",
          "freq",
          "freq",
          "freq",
          "freq",
          "freq",
          "freq",
          "freq",
          "freq",
          "freq",
          "freq",
          "freq",
          "freq",
          "freq",
          "freq",
          "freq",
          "freq",
          "freq",
          "freq",
          "freq",
          "freq",
          "freq",
          "freq",
          "freq",
          "freq",
          "freq",
          "freq",
          "freq",
          "freq",
          "freq",
          "freq",
          "freq",
          "freq",
          "freq",
          "freq",
          "freq",
          "freq",
          "freq",
          "freq",
          "freq",
          "freq",
          "freq",
          "freq",
          "freq",
          "freq",
          "freq",
          "freq",
          "freq",
          "freq",
          "freq",
          "freq",
          "freq",
          "freq",
          "freq",
          "freq",
          "freq",
          "freq",
          "freq",
          "freq",
          "freq",
          "freq",
          "freq",
          "freq",
          "freq",
          "freq",
          "freq",
          "freq",
          "freq",
          "freq",
          "freq",
          "freq",
          "freq",
          "freq",
          "freq",
          "freq",
          "freq",
          "freq",
          "freq",
          "freq",
          "freq",
          "freq",
          "freq",
          "freq",
          "freq",
          "freq",
          "freq",
          "freq",
          "freq",
          "freq",
          "freq",
          "freq",
          "freq",
          "freq",
          "freq",
          "freq",
          "freq",
          "freq",
          "freq",
          "freq",
          "freq",
          "freq",
          "freq",
          "freq",
          "freq",
          "freq",
          "freq",
          "freq",
          "freq",
          "freq",
          "freq",
          "freq",
          "freq",
          "freq",
          "freq",
          "freq",
          "freq",
          "freq",
          "freq",
          "freq",
          "freq",
          "freq",
          "freq",
          "freq",
          "freq",
          "freq",
          "freq",
          "freq",
          "freq",
          "freq",
          "freq",
          "freq",
          "freq",
          "freq",
          "freq",
          "freq",
          "freq",
          "freq",
          "freq",
          "freq",
          "freq",
          "freq",
          "freq",
          "freq",
          "freq",
          "freq",
          "freq",
          "freq",
          "freq",
          "freq",
          "freq",
          "freq",
          "freq",
          "freq",
          "freq",
          "freq",
          "freq",
          "freq",
          "freq",
          "freq",
          "freq",
          "freq",
          "freq",
          "freq",
          "freq",
          "freq",
          "freq",
          "freq",
          "freq",
          "freq",
          "freq",
          "freq",
          "freq",
          "freq",
          "freq",
          "freq",
          "freq",
          "freq",
          "freq",
          "freq",
          "freq",
          "freq",
          "freq",
          "freq",
          "freq",
          "freq",
          "freq",
          "freq",
          "freq",
          "freq",
          "freq",
          "freq",
          "freq",
          "freq",
          "freq",
          "freq",
          "freq",
          "freq",
          "freq",
          "freq",
          "freq",
          "freq",
          "freq",
          "freq",
          "freq",
          "freq",
          "freq",
          "freq",
          "freq",
          "freq",
          "freq",
          "freq",
          "freq",
          "freq",
          "freq",
          "freq",
          "freq",
          "freq",
          "freq",
          "freq",
          "freq",
          "freq",
          "freq",
          "freq",
          "freq",
          "freq",
          "freq",
          "freq",
          "freq",
          "freq",
          "freq",
          "freq",
          "freq",
          "freq",
          "freq",
          "freq",
          "freq",
          "freq",
          "freq",
          "freq",
          "freq",
          "freq",
          "freq",
          "freq",
          "freq",
          "freq",
          "freq",
          "freq",
          "freq",
          "freq",
          "freq",
          "freq",
          "freq",
          "freq",
          "freq",
          "freq",
          "freq",
          "freq",
          "freq",
          "freq",
          "freq",
          "freq",
          "freq",
          "freq",
          "freq",
          "freq",
          "freq",
          "freq",
          "freq",
          "freq",
          "freq",
          "freq",
          "freq",
          "freq",
          "freq",
          "freq",
          "freq",
          "freq",
          "freq",
          "freq",
          "freq",
          "freq",
          "freq",
          "freq",
          "freq",
          "freq",
          "freq",
          "freq",
          "freq",
          "freq",
          "freq",
          "freq",
          "freq",
          "freq",
          "freq",
          "freq",
          "freq",
          "freq",
          "freq",
          "freq",
          "freq",
          "freq",
          "freq",
          "freq",
          "freq",
          "freq",
          "freq",
          "freq",
          "freq",
          "freq",
          "freq",
          "freq",
          "freq",
          "freq",
          "freq",
          "freq",
          "freq",
          "freq",
          "freq",
          "freq",
          "freq",
          "freq",
          "freq",
          "freq",
          "freq",
          "freq",
          "freq",
          "freq",
          "freq",
          "freq",
          "freq",
          "freq",
          "freq",
          "freq",
          "freq",
          "freq",
          "freq",
          "freq",
          "freq",
          "freq",
          "freq",
          "freq",
          "freq",
          "freq",
          "freq",
          "freq",
          "freq",
          "freq",
          "freq",
          "freq",
          "freq",
          "freq",
          "freq",
          "freq",
          "freq",
          "freq",
          "freq",
          "freq",
          "freq",
          "freq",
          "freq",
          "freq",
          "freq",
          "freq",
          "freq",
          "freq",
          "freq",
          "freq",
          "freq",
          "freq",
          "freq",
          "freq",
          "freq",
          "freq",
          "freq",
          "freq",
          "freq",
          "freq",
          "freq",
          "freq",
          "freq",
          "freq",
          "freq",
          "freq",
          "freq",
          "freq",
          "freq",
          "freq",
          "freq",
          "freq",
          "freq",
          "freq",
          "freq",
          "freq",
          "freq",
          "freq",
          "freq",
          "freq",
          "freq",
          "freq",
          "freq",
          "freq",
          "freq",
          "freq",
          "freq",
          "freq",
          "freq",
          "freq",
          "freq",
          "freq",
          "freq",
          "freq",
          "freq",
          "freq",
          "freq",
          "freq",
          "freq",
          "freq",
          "freq",
          "freq",
          "freq",
          "freq",
          "freq",
          "freq",
          "freq",
          "freq",
          "freq",
          "freq",
          "freq",
          "freq",
          "freq",
          "freq",
          "freq",
          "freq",
          "freq",
          "freq",
          "freq",
          "freq",
          "freq",
          "freq",
          "freq",
          "freq",
          "freq",
          "freq",
          "freq",
          "freq",
          "freq",
          "freq",
          "freq",
          "freq",
          "freq",
          "freq",
          "freq",
          "freq",
          "freq",
          "freq",
          "freq",
          "freq",
          "freq",
          "freq",
          "freq",
          "freq",
          "freq",
          "freq",
          "freq",
          "freq",
          "freq",
          "freq",
          "freq",
          "freq",
          "freq",
          "freq",
          "freq",
          "freq",
          "freq",
          "freq",
          "freq",
          "freq",
          "freq",
          "freq",
          "freq",
          "freq",
          "freq",
          "freq",
          "freq",
          "freq",
          "freq",
          "freq",
          "freq",
          "freq",
          "freq",
          "freq",
          "freq",
          "freq",
          "freq",
          "freq",
          "freq",
          "freq",
          "freq",
          "freq",
          "freq",
          "freq",
          "freq",
          "freq",
          "freq",
          "freq",
          "freq",
          "freq",
          "freq",
          "freq",
          "freq",
          "freq",
          "freq",
          "freq",
          "freq",
          "freq",
          "freq",
          "freq",
          "freq",
          "freq",
          "freq",
          "freq",
          "freq",
          "freq",
          "freq",
          "freq",
          "freq",
          "freq",
          "freq",
          "freq",
          "freq",
          "freq",
          "freq",
          "freq",
          "freq",
          "freq",
          "freq",
          "freq",
          "freq",
          "freq",
          "freq",
          "freq",
          "freq",
          "freq",
          "freq",
          "freq",
          "freq",
          "freq",
          "freq",
          "freq",
          "freq",
          "freq",
          "freq",
          "freq",
          "freq",
          "freq",
          "freq",
          "freq",
          "freq",
          "freq",
          "freq",
          "freq",
          "freq",
          "freq",
          "freq",
          "freq",
          "freq",
          "freq",
          "freq",
          "freq",
          "freq",
          "freq",
          "freq",
          "freq",
          "freq",
          "freq",
          "freq",
          "freq",
          "freq",
          "freq",
          "freq",
          "freq",
          "freq",
          "freq",
          "freq",
          "freq",
          "freq",
          "freq",
          "freq",
          "freq",
          "freq",
          "freq",
          "freq",
          "freq",
          "freq",
          "freq",
          "freq",
          "freq",
          "freq",
          "freq",
          "freq",
          "freq",
          "freq",
          "freq",
          "freq",
          "freq",
          "freq",
          "freq",
          "freq",
          "freq",
          "freq",
          "freq",
          "freq",
          "freq",
          "freq",
          "freq",
          "freq",
          "freq",
          "freq",
          "freq",
          "freq",
          "freq",
          "freq",
          "freq",
          "freq",
          "freq",
          "freq",
          "freq",
          "freq",
          "freq",
          "freq",
          "freq",
          "freq",
          "freq",
          "freq",
          "freq",
          "freq",
          "freq",
          "freq",
          "freq",
          "freq",
          "freq",
          "freq",
          "freq",
          "freq",
          "freq",
          "freq",
          "freq",
          "freq",
          "freq",
          "freq",
          "freq",
          "freq",
          "freq",
          "freq",
          "freq",
          "freq",
          "freq",
          "freq",
          "freq",
          "freq",
          "freq",
          "freq",
          "freq",
          "freq",
          "freq",
          "freq",
          "freq",
          "freq",
          "freq",
          "freq",
          "freq",
          "freq",
          "freq",
          "freq",
          "freq",
          "freq",
          "freq",
          "freq",
          "freq",
          "freq",
          "freq",
          "freq",
          "freq",
          "freq",
          "freq",
          "freq",
          "freq",
          "freq",
          "freq",
          "freq",
          "freq",
          "freq",
          "freq",
          "freq",
          "freq",
          "freq",
          "freq",
          "freq",
          "freq",
          "freq",
          "freq",
          "freq",
          "freq",
          "freq",
          "freq",
          "freq",
          "freq",
          "freq",
          "freq",
          "freq",
          "freq",
          "freq",
          "freq",
          "freq",
          "freq",
          "freq",
          "freq",
          "freq",
          "freq",
          "freq",
          "freq",
          "freq",
          "freq",
          "freq",
          "freq",
          "freq",
          "freq",
          "freq",
          "freq",
          "freq",
          "freq",
          "freq",
          "freq",
          "freq",
          "freq",
          "freq",
          "freq",
          "freq",
          "freq",
          "freq",
          "freq",
          "freq",
          "freq",
          "freq",
          "freq",
          "freq",
          "freq",
          "freq",
          "freq",
          "freq",
          "freq",
          "freq",
          "freq",
          "freq",
          "freq",
          "freq",
          "freq",
          "freq",
          "freq",
          "freq",
          "freq",
          "freq",
          "freq",
          "freq",
          "freq",
          "freq",
          "freq",
          "freq",
          "freq",
          "freq",
          "freq",
          "freq",
          "freq",
          "freq",
          "freq",
          "freq",
          "freq",
          "freq",
          "freq",
          "freq",
          "freq",
          "freq",
          "freq",
          "freq",
          "freq",
          "freq",
          "freq",
          "freq",
          "freq",
          "freq",
          "freq",
          "freq",
          "freq",
          "freq",
          "freq",
          "freq",
          "freq",
          "freq",
          "freq",
          "freq",
          "freq",
          "freq",
          "freq",
          "freq",
          "freq",
          "freq",
          "freq",
          "freq",
          "freq",
          "freq",
          "freq",
          "freq",
          "freq",
          "freq",
          "freq",
          "freq",
          "freq",
          "freq",
          "freq",
          "freq",
          "freq",
          "freq",
          "freq",
          "freq",
          "freq",
          "freq",
          "freq",
          "freq",
          "freq",
          "freq",
          "freq",
          "freq",
          "freq",
          "freq",
          "freq",
          "freq",
          "freq",
          "freq",
          "freq",
          "freq",
          "freq",
          "freq",
          "freq",
          "freq",
          "freq",
          "freq",
          "freq",
          "freq",
          "freq",
          "freq",
          "freq",
          "freq",
          "freq",
          "freq",
          "freq",
          "freq",
          "freq",
          "freq",
          "freq",
          "freq",
          "freq",
          "freq",
          "freq",
          "freq",
          "freq",
          "freq",
          "freq",
          "freq",
          "freq",
          "freq",
          "freq",
          "freq",
          "freq",
          "freq",
          "freq",
          "freq",
          "freq",
          "freq",
          "freq",
          "freq",
          "freq",
          "freq",
          "freq",
          "freq",
          "freq",
          "freq",
          "freq",
          "freq",
          "freq",
          "freq",
          "freq",
          "freq",
          "freq",
          "freq",
          "freq",
          "freq",
          "freq",
          "freq",
          "freq",
          "freq",
          "freq",
          "freq",
          "freq",
          "freq",
          "freq",
          "freq",
          "freq",
          "freq",
          "freq",
          "freq",
          "freq",
          "freq",
          "freq",
          "freq",
          "freq",
          "freq",
          "freq",
          "freq",
          "freq",
          "freq",
          "freq",
          "freq",
          "freq",
          "freq",
          "freq",
          "freq",
          "freq",
          "freq",
          "freq",
          "freq",
          "freq",
          "freq",
          "freq",
          "freq",
          "freq",
          "freq",
          "freq",
          "freq",
          "freq",
          "freq",
          "freq",
          "freq",
          "freq",
          "freq",
          "freq",
          "freq",
          "freq",
          "freq",
          "freq",
          "freq",
          "freq",
          "freq",
          "freq",
          "freq",
          "freq",
          "freq",
          "freq",
          "freq",
          "freq",
          "freq",
          "freq",
          "freq",
          "freq",
          "freq",
          "freq",
          "freq",
          "freq",
          "freq",
          "freq",
          "freq",
          "freq",
          "freq",
          "freq",
          "freq",
          "freq",
          "freq",
          "freq",
          "freq",
          "freq",
          "freq",
          "freq",
          "freq",
          "freq",
          "freq",
          "freq",
          "freq",
          "freq",
          "freq",
          "freq",
          "freq",
          "freq",
          "freq",
          "freq",
          "freq",
          "freq",
          "freq",
          "freq",
          "freq",
          "freq",
          "freq",
          "freq",
          "freq",
          "freq",
          "freq",
          "freq",
          "freq",
          "freq",
          "freq",
          "freq",
          "freq",
          "freq",
          "freq",
          "freq",
          "freq",
          "freq",
          "freq",
          "freq",
          "freq",
          "freq",
          "freq",
          "freq",
          "freq",
          "freq",
          "freq",
          "freq",
          "freq",
          "freq",
          "freq",
          "freq",
          "freq",
          "freq",
          "freq",
          "freq",
          "freq",
          "freq",
          "freq",
          "freq",
          "freq",
          "freq",
          "freq",
          "freq",
          "freq",
          "freq",
          "freq",
          "freq",
          "freq",
          "freq",
          "freq",
          "freq",
          "freq",
          "freq",
          "freq",
          "freq",
          "freq",
          "freq",
          "freq",
          "freq",
          "freq",
          "freq",
          "freq",
          "freq",
          "freq",
          "freq",
          "freq",
          "freq",
          "freq",
          "freq",
          "freq",
          "freq",
          "freq",
          "freq",
          "freq",
          "freq",
          "freq",
          "freq",
          "freq",
          "freq",
          "freq",
          "freq",
          "freq",
          "freq",
          "freq",
          "freq",
          "freq",
          "freq",
          "freq",
          "freq",
          "freq",
          "freq",
          "freq",
          "freq",
          "freq",
          "freq",
          "freq",
          "freq",
          "freq",
          "freq",
          "freq",
          "freq",
          "freq",
          "freq",
          "freq",
          "freq",
          "freq",
          "freq",
          "freq",
          "freq",
          "freq",
          "freq",
          "freq",
          "freq",
          "freq",
          "freq",
          "freq",
          "freq",
          "freq",
          "freq",
          "freq",
          "freq",
          "freq",
          "freq",
          "freq",
          "freq",
          "freq",
          "freq",
          "freq",
          "freq",
          "freq",
          "freq",
          "freq",
          "freq",
          "freq",
          "freq",
          "freq",
          "freq",
          "freq",
          "freq",
          "freq",
          "freq",
          "freq",
          "freq",
          "freq",
          "freq",
          "freq",
          "freq",
          "freq",
          "freq",
          "freq",
          "freq",
          "freq",
          "freq",
          "freq",
          "freq",
          "freq",
          "freq",
          "freq",
          "freq",
          "freq",
          "freq",
          "freq",
          "freq",
          "freq",
          "freq",
          "freq",
          "freq",
          "freq",
          "freq",
          "freq",
          "freq",
          "freq",
          "freq",
          "freq",
          "freq",
          "freq",
          "freq",
          "freq",
          "freq",
          "freq",
          "freq",
          "freq",
          "freq",
          "freq",
          "freq",
          "freq",
          "freq",
          "freq",
          "freq",
          "freq",
          "freq",
          "freq",
          "freq",
          "freq",
          "freq",
          "freq",
          "freq",
          "freq",
          "freq",
          "freq",
          "freq",
          "freq",
          "freq",
          "freq",
          "freq",
          "freq",
          "freq",
          "freq",
          "freq",
          "freq",
          "freq",
          "freq",
          "freq",
          "freq",
          "freq",
          "freq",
          "freq",
          "freq",
          "freq",
          "freq",
          "freq",
          "freq",
          "freq",
          "freq",
          "freq",
          "freq",
          "freq",
          "freq",
          "freq",
          "freq",
          "freq",
          "freq",
          "freq",
          "freq",
          "freq",
          "freq",
          "freq",
          "freq",
          "freq",
          "freq",
          "freq",
          "freq",
          "freq",
          "freq",
          "freq",
          "freq",
          "freq",
          "freq",
          "freq",
          "freq",
          "freq",
          "freq",
          "freq",
          "freq",
          "freq",
          "freq",
          "freq",
          "freq",
          "freq",
          "freq",
          "freq",
          "freq",
          "freq",
          "freq",
          "freq",
          "freq",
          "freq",
          "freq",
          "freq",
          "freq",
          "freq",
          "freq",
          "freq",
          "freq",
          "freq",
          "freq",
          "freq",
          "freq",
          "freq",
          "freq",
          "freq",
          "freq",
          "freq",
          "freq",
          "freq",
          "freq",
          "freq",
          "freq",
          "freq",
          "freq",
          "freq",
          "freq",
          "freq",
          "freq",
          "freq",
          "freq",
          "freq",
          "freq",
          "freq",
          "freq",
          "freq",
          "freq",
          "freq",
          "freq",
          "freq",
          "freq",
          "freq",
          "freq",
          "freq",
          "freq",
          "freq",
          "freq",
          "freq",
          "freq",
          "freq",
          "freq",
          "freq",
          "freq",
          "freq",
          "freq",
          "freq",
          "freq",
          "freq",
          "freq",
          "freq",
          "freq",
          "freq",
          "freq",
          "freq",
          "freq",
          "freq",
          "freq",
          "freq",
          "freq",
          "freq",
          "freq",
          "freq",
          "freq",
          "freq",
          "freq",
          "freq",
          "freq",
          "freq",
          "freq",
          "freq",
          "freq",
          "freq",
          "freq",
          "freq",
          "freq",
          "freq",
          "freq",
          "freq",
          "freq",
          "freq",
          "freq",
          "freq",
          "freq",
          "freq",
          "freq",
          "freq",
          "freq",
          "freq",
          "freq",
          "freq",
          "freq",
          "freq",
          "freq",
          "freq",
          "freq",
          "freq",
          "freq",
          "freq",
          "freq",
          "freq",
          "freq",
          "freq",
          "freq",
          "freq",
          "freq",
          "freq",
          "freq",
          "freq",
          "freq",
          "freq",
          "freq",
          "freq",
          "freq",
          "freq",
          "freq",
          "freq",
          "freq",
          "freq",
          "freq",
          "freq",
          "freq",
          "freq",
          "freq",
          "freq",
          "freq",
          "freq",
          "freq",
          "freq",
          "freq",
          "freq",
          "freq",
          "freq",
          "freq",
          "freq",
          "freq",
          "freq",
          "freq",
          "freq",
          "freq",
          "freq",
          "freq",
          "freq",
          "freq",
          "freq",
          "freq",
          "freq",
          "freq",
          "freq",
          "freq",
          "freq",
          "freq",
          "freq",
          "freq",
          "freq",
          "freq",
          "freq",
          "freq",
          "freq",
          "freq",
          "freq",
          "freq",
          "freq",
          "freq",
          "freq",
          "freq",
          "freq",
          "freq",
          "freq",
          "freq",
          "freq",
          "freq",
          "freq",
          "freq",
          "freq",
          "freq",
          "freq",
          "freq",
          "freq",
          "freq",
          "freq",
          "freq",
          "freq",
          "freq",
          "freq",
          "freq",
          "freq",
          "freq",
          "freq",
          "freq",
          "freq",
          "freq",
          "freq",
          "freq",
          "freq",
          "freq",
          "freq",
          "freq",
          "freq",
          "freq",
          "freq",
          "freq",
          "freq",
          "freq",
          "freq",
          "freq",
          "freq",
          "freq",
          "freq",
          "freq",
          "freq",
          "freq",
          "freq",
          "freq",
          "freq",
          "freq",
          "freq",
          "freq",
          "freq",
          "freq",
          "freq",
          "freq",
          "freq",
          "freq",
          "freq",
          "freq",
          "freq",
          "freq",
          "freq",
          "freq",
          "freq",
          "freq",
          "freq",
          "freq",
          "freq",
          "freq",
          "freq",
          "freq",
          "freq",
          "freq",
          "freq",
          "freq",
          "freq",
          "freq",
          "freq",
          "freq",
          "freq",
          "freq",
          "freq",
          "freq",
          "freq",
          "freq",
          "freq",
          "freq",
          "freq",
          "freq",
          "freq",
          "freq",
          "freq",
          "freq",
          "freq",
          "freq",
          "freq",
          "freq",
          "freq",
          "freq",
          "freq",
          "freq",
          "freq",
          "freq",
          "freq",
          "freq",
          "freq",
          "freq",
          "freq",
          "freq",
          "freq",
          "freq",
          "freq",
          "freq",
          "freq",
          "freq",
          "freq",
          "freq",
          "freq",
          "freq",
          "freq",
          "freq",
          "freq",
          "freq",
          "freq",
          "freq",
          "freq",
          "freq",
          "freq",
          "freq",
          "freq",
          "freq",
          "freq",
          "freq",
          "freq",
          "freq",
          "freq",
          "freq",
          "freq",
          "freq",
          "freq",
          "freq",
          "freq",
          "freq",
          "freq",
          "freq",
          "freq",
          "freq",
          "freq",
          "freq",
          "freq",
          "freq",
          "freq",
          "freq",
          "freq",
          "freq",
          "freq",
          "freq",
          "freq",
          "freq",
          "freq",
          "freq",
          "freq",
          "freq",
          "freq",
          "freq",
          "freq",
          "freq",
          "freq",
          "freq",
          "freq",
          "freq",
          "freq",
          "freq",
          "freq",
          "freq",
          "freq",
          "freq",
          "freq",
          "freq",
          "freq",
          "freq",
          "freq",
          "freq",
          "freq",
          "freq",
          "freq",
          "freq",
          "freq",
          "freq",
          "freq",
          "freq",
          "freq",
          "freq",
          "freq",
          "freq",
          "freq",
          "freq",
          "freq",
          "freq",
          "freq",
          "freq",
          "freq",
          "freq",
          "freq",
          "freq",
          "freq",
          "freq",
          "freq",
          "freq",
          "freq",
          "freq",
          "freq",
          "freq",
          "freq",
          "freq",
          "freq",
          "freq",
          "freq",
          "freq",
          "freq",
          "freq",
          "freq",
          "freq",
          "freq",
          "freq",
          "freq",
          "freq",
          "freq",
          "freq",
          "freq",
          "freq",
          "freq",
          "freq",
          "freq",
          "freq",
          "freq",
          "freq",
          "freq",
          "freq",
          "freq",
          "freq",
          "freq",
          "freq",
          "freq",
          "freq",
          "freq",
          "freq",
          "freq",
          "freq",
          "freq",
          "freq",
          "freq",
          "freq",
          "freq",
          "freq",
          "freq",
          "freq",
          "freq",
          "freq",
          "freq",
          "freq",
          "freq",
          "freq",
          "freq",
          "freq",
          "freq",
          "freq",
          "freq",
          "freq",
          "freq",
          "freq",
          "freq",
          "freq",
          "freq",
          "freq",
          "freq",
          "freq",
          "freq",
          "freq",
          "freq",
          "freq",
          "freq",
          "freq",
          "freq",
          "freq",
          "freq",
          "freq",
          "freq",
          "freq",
          "freq",
          "freq",
          "freq",
          "freq",
          "freq",
          "freq",
          "freq",
          "freq",
          "freq",
          "freq",
          "freq",
          "freq",
          "freq",
          "freq",
          "freq",
          "freq",
          "freq",
          "freq",
          "freq",
          "freq",
          "freq",
          "freq",
          "freq",
          "freq",
          "freq",
          "freq",
          "freq",
          "freq",
          "freq",
          "freq",
          "freq",
          "freq",
          "freq",
          "freq",
          "freq",
          "freq",
          "freq",
          "freq",
          "freq",
          "freq",
          "freq",
          "freq",
          "freq",
          "freq",
          "freq",
          "freq",
          "freq",
          "freq",
          "freq",
          "freq",
          "freq",
          "freq",
          "freq",
          "freq",
          "freq",
          "freq",
          "freq",
          "freq",
          "freq",
          "freq",
          "freq",
          "freq",
          "freq",
          "freq",
          "freq",
          "freq",
          "freq",
          "freq",
          "freq",
          "freq",
          "freq",
          "freq",
          "freq",
          "freq",
          "freq",
          "freq",
          "freq",
          "freq",
          "freq",
          "freq",
          "freq",
          "freq",
          "freq",
          "freq",
          "freq",
          "freq",
          "freq",
          "freq",
          "freq",
          "freq",
          "freq",
          "freq",
          "freq",
          "freq",
          "freq",
          "freq",
          "freq",
          "freq",
          "freq",
          "freq",
          "freq",
          "freq",
          "freq",
          "freq",
          "freq",
          "freq",
          "freq",
          "freq",
          "freq",
          "freq",
          "freq",
          "freq",
          "freq",
          "freq",
          "freq",
          "freq",
          "freq",
          "freq",
          "freq",
          "freq",
          "freq",
          "freq",
          "freq",
          "freq",
          "freq",
          "freq",
          "freq",
          "freq",
          "freq",
          "freq",
          "freq",
          "freq",
          "freq",
          "freq",
          "freq",
          "freq",
          "freq",
          "freq",
          "freq",
          "freq",
          "freq",
          "freq",
          "freq",
          "freq",
          "freq",
          "freq",
          "freq",
          "freq",
          "freq",
          "freq",
          "freq",
          "freq",
          "freq",
          "freq",
          "freq",
          "freq",
          "freq",
          "freq",
          "freq",
          "freq",
          "freq",
          "freq",
          "freq",
          "freq",
          "freq",
          "freq",
          "freq",
          "freq",
          "freq",
          "freq",
          "freq",
          "freq",
          "freq",
          "freq",
          "freq",
          "freq",
          "freq",
          "freq",
          "freq",
          "freq",
          "freq",
          "freq",
          "freq",
          "freq",
          "freq",
          "freq",
          "freq",
          "freq",
          "freq",
          "freq",
          "freq",
          "freq",
          "freq",
          "freq",
          "freq",
          "freq",
          "freq",
          "freq",
          "freq",
          "freq",
          "freq",
          "freq",
          "freq",
          "freq",
          "freq",
          "freq",
          "freq",
          "freq",
          "freq",
          "freq",
          "freq",
          "freq",
          "freq",
          "freq",
          "freq",
          "freq",
          "freq",
          "freq",
          "freq",
          "freq",
          "freq",
          "freq",
          "freq",
          "freq",
          "freq",
          "freq",
          "freq",
          "freq",
          "freq",
          "freq",
          "freq",
          "freq",
          "freq",
          "freq",
          "freq",
          "freq",
          "freq",
          "freq",
          "freq",
          "freq",
          "freq",
          "freq",
          "freq",
          "freq",
          "freq",
          "freq",
          "freq",
          "freq",
          "freq",
          "freq",
          "freq",
          "freq",
          "freq",
          "freq",
          "freq",
          "freq",
          "freq",
          "freq",
          "freq",
          "freq",
          "freq",
          "freq",
          "freq",
          "freq",
          "freq",
          "freq",
          "freq",
          "freq",
          "freq",
          "freq",
          "freq",
          "freq",
          "freq",
          "freq",
          "freq",
          "freq",
          "freq",
          "freq",
          "freq",
          "freq",
          "freq",
          "freq",
          "freq",
          "freq",
          "freq",
          "freq",
          "freq",
          "freq",
          "freq",
          "freq",
          "freq",
          "freq",
          "freq",
          "freq",
          "freq",
          "freq",
          "freq",
          "freq",
          "freq",
          "freq",
          "freq",
          "freq",
          "freq",
          "freq",
          "freq",
          "freq",
          "freq",
          "freq",
          "freq",
          "freq",
          "freq",
          "freq",
          "freq",
          "freq",
          "freq",
          "freq",
          "freq",
          "freq",
          "freq",
          "freq",
          "freq",
          "freq",
          "freq",
          "freq",
          "freq",
          "freq",
          "freq",
          "freq",
          "freq",
          "freq",
          "freq",
          "freq",
          "freq",
          "freq",
          "freq",
          "freq",
          "freq",
          "freq",
          "freq",
          "freq",
          "freq",
          "freq",
          "freq",
          "freq",
          "freq",
          "freq",
          "freq",
          "freq",
          "freq",
          "freq",
          "freq",
          "freq",
          "freq",
          "freq",
          "freq",
          "freq",
          "freq",
          "freq",
          "freq",
          "freq",
          "freq",
          "freq",
          "freq",
          "freq",
          "freq",
          "freq",
          "freq",
          "freq",
          "freq",
          "freq",
          "freq",
          "freq",
          "freq",
          "freq",
          "freq",
          "freq",
          "freq",
          "freq",
          "freq",
          "freq",
          "freq",
          "freq",
          "freq",
          "freq",
          "freq",
          "freq",
          "freq",
          "freq",
          "freq",
          "freq",
          "freq",
          "freq",
          "freq",
          "freq",
          "freq",
          "freq",
          "freq",
          "freq",
          "freq",
          "freq",
          "freq",
          "freq",
          "freq",
          "freq",
          "freq",
          "freq",
          "freq",
          "freq",
          "freq",
          "freq",
          "freq",
          "freq",
          "freq",
          "freq",
          "freq",
          "freq",
          "freq",
          "freq",
          "freq",
          "freq",
          "freq",
          "freq",
          "freq",
          "freq",
          "freq",
          "freq",
          "freq",
          "freq",
          "freq",
          "freq",
          "freq",
          "freq",
          "freq",
          "freq",
          "freq",
          "freq",
          "freq",
          "freq",
          "freq",
          "freq",
          "freq",
          "freq",
          "freq",
          "freq",
          "freq",
          "freq",
          "freq",
          "freq",
          "freq",
          "freq",
          "freq",
          "freq",
          "freq",
          "freq",
          "freq",
          "freq",
          "freq",
          "freq",
          "freq",
          "freq",
          "freq",
          "freq",
          "freq",
          "freq",
          "freq",
          "freq",
          "freq",
          "freq",
          "freq",
          "freq",
          "freq",
          "freq",
          "freq",
          "freq",
          "freq",
          "freq",
          "freq",
          "freq",
          "freq",
          "freq",
          "freq",
          "freq",
          "freq",
          "freq",
          "freq",
          "freq",
          "freq",
          "freq",
          "freq",
          "freq",
          "freq",
          "freq",
          "freq",
          "freq",
          "freq",
          "freq",
          "freq",
          "freq",
          "freq",
          "freq",
          "freq",
          "freq",
          "freq",
          "freq",
          "freq",
          "freq",
          "freq",
          "freq",
          "freq",
          "freq",
          "freq",
          "freq",
          "freq",
          "freq",
          "freq",
          "freq",
          "freq",
          "freq",
          "freq",
          "freq",
          "freq",
          "freq",
          "freq",
          "freq",
          "freq",
          "freq",
          "freq",
          "freq",
          "freq",
          "freq",
          "freq",
          "freq",
          "freq",
          "freq",
          "freq",
          "freq",
          "freq",
          "freq",
          "freq",
          "freq",
          "freq",
          "freq",
          "freq",
          "freq",
          "freq",
          "freq",
          "freq",
          "freq",
          "freq",
          "freq",
          "freq",
          "freq",
          "freq",
          "freq",
          "freq",
          "freq",
          "freq",
          "freq",
          "freq",
          "freq",
          "freq",
          "freq",
          "freq",
          "freq",
          "freq",
          "freq",
          "freq",
          "freq",
          "freq",
          "freq",
          "freq",
          "freq",
          "freq",
          "freq",
          "freq",
          "freq",
          "freq",
          "freq",
          "freq",
          "freq",
          "freq",
          "freq",
          "freq",
          "freq",
          "freq",
          "freq",
          "freq",
          "freq",
          "freq",
          "freq",
          "freq",
          "freq",
          "freq",
          "freq",
          "freq",
          "freq",
          "freq",
          "freq",
          "freq",
          "freq",
          "freq",
          "freq",
          "freq",
          "freq",
          "freq",
          "freq",
          "freq",
          "freq",
          "freq",
          "freq",
          "freq",
          "freq",
          "freq",
          "freq",
          "freq",
          "freq",
          "freq",
          "freq",
          "freq",
          "freq",
          "freq",
          "freq",
          "freq",
          "freq",
          "freq",
          "freq",
          "freq",
          "freq",
          "freq",
          "freq",
          "freq",
          "freq",
          "freq",
          "freq",
          "freq",
          "freq",
          "freq",
          "freq",
          "freq",
          "freq",
          "freq",
          "freq",
          "freq",
          "freq",
          "freq",
          "freq",
          "freq",
          "freq",
          "freq",
          "freq",
          "freq",
          "freq",
          "freq",
          "freq",
          "freq",
          "freq",
          "freq",
          "freq",
          "freq",
          "freq",
          "freq",
          "freq",
          "freq",
          "freq",
          "freq",
          "freq",
          "freq",
          "freq",
          "freq",
          "freq",
          "freq",
          "freq",
          "freq",
          "freq",
          "freq",
          "freq",
          "freq",
          "freq",
          "freq",
          "freq",
          "freq",
          "freq",
          "freq",
          "freq",
          "freq",
          "freq",
          "freq",
          "freq",
          "freq",
          "freq",
          "freq",
          "freq",
          "freq",
          "freq",
          "freq",
          "freq",
          "freq",
          "freq",
          "freq",
          "freq",
          "freq",
          "freq",
          "freq",
          "freq",
          "freq",
          "freq",
          "freq",
          "freq",
          "freq",
          "freq",
          "freq",
          "freq",
          "freq",
          "freq",
          "freq",
          "freq",
          "freq",
          "freq",
          "freq",
          "freq",
          "freq",
          "freq",
          "freq",
          "freq",
          "freq",
          "freq",
          "freq",
          "freq",
          "freq",
          "freq",
          "freq",
          "freq",
          "freq",
          "freq",
          "freq",
          "freq",
          "freq",
          "freq",
          "freq",
          "freq",
          "freq",
          "freq",
          "freq",
          "freq",
          "freq",
          "freq",
          "freq",
          "freq",
          "freq",
          "freq",
          "freq",
          "freq",
          "freq",
          "freq",
          "freq",
          "freq",
          "freq",
          "freq",
          "freq",
          "freq",
          "freq",
          "freq",
          "freq",
          "freq",
          "freq",
          "freq",
          "freq",
          "freq",
          "freq",
          "freq",
          "freq",
          "freq",
          "freq",
          "freq",
          "freq",
          "freq",
          "freq",
          "freq",
          "freq",
          "freq",
          "freq",
          "freq",
          "freq",
          "freq",
          "freq",
          "freq",
          "freq",
          "freq",
          "freq",
          "freq",
          "freq",
          "freq",
          "freq",
          "freq",
          "freq",
          "freq",
          "freq",
          "freq",
          "freq",
          "freq",
          "freq",
          "freq",
          "freq",
          "freq",
          "freq",
          "freq",
          "freq",
          "freq",
          "freq",
          "freq",
          "freq",
          "freq",
          "freq",
          "freq",
          "freq",
          "freq",
          "freq",
          "freq",
          "freq",
          "freq",
          "freq",
          "freq",
          "freq",
          "freq",
          "freq",
          "freq",
          "freq",
          "freq",
          "freq",
          "freq",
          "freq",
          "freq",
          "freq",
          "freq",
          "freq",
          "freq",
          "freq",
          "freq",
          "freq",
          "freq",
          "freq",
          "freq",
          "freq",
          "freq",
          "freq",
          "freq",
          "freq",
          "freq",
          "freq",
          "freq",
          "freq",
          "freq",
          "freq",
          "freq",
          "freq",
          "freq",
          "freq",
          "freq",
          "freq",
          "freq",
          "freq",
          "freq",
          "freq",
          "freq",
          "freq",
          "freq",
          "freq",
          "freq",
          "freq",
          "freq",
          "freq",
          "freq",
          "freq",
          "freq",
          "freq",
          "freq",
          "freq",
          "freq",
          "freq",
          "freq",
          "freq",
          "freq",
          "freq",
          "freq",
          "freq",
          "freq",
          "freq",
          "freq",
          "freq",
          "freq",
          "freq",
          "freq",
          "freq",
          "freq",
          "freq",
          "freq",
          "freq",
          "freq",
          "freq",
          "freq",
          "freq",
          "freq",
          "freq",
          "freq",
          "freq",
          "freq",
          "freq",
          "freq",
          "freq",
          "freq",
          "freq",
          "freq",
          "freq",
          "freq",
          "freq",
          "freq",
          "freq",
          "freq",
          "freq",
          "freq",
          "freq",
          "freq",
          "freq",
          "freq",
          "freq",
          "freq",
          "freq",
          "freq",
          "freq",
          "freq",
          "freq",
          "freq",
          "freq",
          "freq",
          "freq",
          "freq",
          "freq",
          "freq",
          "freq",
          "freq",
          "freq",
          "freq",
          "freq",
          "freq",
          "freq",
          "freq",
          "freq",
          "freq",
          "freq",
          "freq",
          "freq",
          "freq",
          "freq",
          "freq",
          "freq",
          "freq",
          "freq",
          "freq",
          "freq",
          "freq",
          "freq",
          "freq",
          "freq",
          "freq",
          "freq",
          "freq",
          "freq",
          "freq",
          "freq",
          "freq",
          "freq",
          "freq",
          "freq",
          "freq",
          "freq",
          "freq",
          "freq",
          "freq",
          "freq",
          "freq",
          "freq",
          "freq",
          "freq",
          "freq",
          "freq",
          "freq",
          "freq",
          "freq",
          "freq",
          "freq",
          "freq",
          "freq",
          "freq",
          "freq",
          "freq",
          "freq",
          "freq",
          "freq",
          "freq",
          "freq",
          "freq",
          "freq",
          "freq",
          "freq",
          "freq",
          "freq",
          "freq",
          "freq",
          "freq",
          "freq",
          "freq",
          "freq",
          "freq",
          "freq",
          "freq",
          "freq",
          "freq",
          "freq",
          "freq",
          "freq",
          "freq",
          "freq",
          "freq",
          "freq",
          "freq",
          "freq",
          "freq",
          "freq",
          "freq",
          "freq",
          "freq",
          "freq",
          "freq",
          "freq",
          "freq",
          "freq",
          "freq",
          "freq",
          "freq",
          "freq",
          "freq",
          "freq",
          "freq",
          "freq",
          "freq",
          "freq",
          "freq",
          "freq",
          "freq",
          "freq",
          "freq",
          "freq",
          "freq",
          "freq",
          "freq",
          "freq",
          "freq",
          "freq",
          "freq",
          "freq",
          "freq",
          "freq",
          "freq",
          "freq",
          "freq",
          "freq",
          "freq",
          "freq",
          "freq",
          "freq",
          "freq",
          "freq",
          "freq",
          "freq",
          "freq",
          "freq",
          "freq",
          "freq",
          "freq",
          "freq",
          "freq",
          "freq",
          "freq",
          "freq",
          "freq",
          "freq",
          "freq",
          "freq",
          "freq",
          "freq",
          "freq",
          "freq",
          "freq",
          "freq",
          "freq",
          "freq",
          "freq",
          "freq",
          "freq",
          "freq",
          "freq",
          "freq",
          "freq",
          "freq",
          "freq",
          "freq",
          "freq",
          "freq",
          "freq",
          "freq",
          "freq",
          "freq",
          "freq",
          "freq",
          "freq",
          "freq",
          "freq",
          "freq",
          "freq",
          "freq",
          "freq",
          "freq",
          "freq",
          "freq",
          "freq",
          "freq",
          "freq",
          "freq",
          "freq",
          "freq",
          "freq",
          "freq",
          "freq",
          "freq",
          "freq",
          "freq",
          "freq",
          "freq",
          "freq",
          "freq",
          "freq",
          "freq",
          "freq",
          "freq",
          "freq",
          "freq",
          "freq",
          "freq",
          "freq",
          "freq",
          "freq",
          "freq",
          "freq",
          "freq",
          "freq",
          "freq",
          "freq",
          "freq",
          "freq",
          "freq",
          "freq",
          "freq",
          "freq",
          "freq",
          "freq",
          "freq",
          "freq",
          "freq",
          "freq",
          "freq",
          "freq",
          "freq",
          "freq",
          "freq",
          "freq",
          "freq",
          "freq",
          "freq",
          "freq",
          "freq",
          "freq",
          "freq",
          "freq",
          "freq",
          "freq",
          "freq",
          "freq",
          "freq",
          "freq",
          "freq",
          "freq",
          "freq",
          "freq",
          "freq",
          "freq",
          "freq",
          "freq",
          "freq",
          "freq",
          "freq",
          "freq",
          "freq",
          "freq",
          "freq",
          "freq",
          "freq",
          "freq",
          "freq",
          "freq",
          "freq",
          "freq",
          "freq",
          "freq",
          "freq",
          "freq",
          "freq",
          "freq",
          "freq",
          "freq",
          "freq",
          "freq",
          "freq",
          "freq",
          "freq",
          "freq",
          "freq",
          "freq",
          "freq",
          "freq",
          "freq",
          "freq",
          "freq",
          "freq",
          "freq",
          "freq",
          "freq",
          "freq",
          "freq",
          "freq",
          "freq",
          "freq",
          "freq",
          "freq",
          "freq",
          "freq",
          "freq",
          "freq",
          "freq",
          "freq",
          "freq",
          "freq",
          "freq",
          "freq",
          "freq",
          "freq",
          "freq",
          "freq",
          "freq",
          "freq",
          "freq",
          "freq",
          "freq",
          "freq",
          "freq",
          "freq",
          "freq",
          "freq",
          "freq",
          "freq",
          "freq",
          "freq",
          "freq",
          "freq",
          "freq",
          "freq",
          "freq",
          "freq",
          "freq",
          "freq",
          "freq",
          "freq",
          "freq",
          "freq",
          "freq",
          "freq",
          "freq",
          "freq",
          "freq",
          "freq",
          "freq",
          "freq",
          "freq",
          "freq",
          "freq",
          "freq",
          "freq",
          "freq",
          "freq",
          "freq",
          "freq",
          "freq",
          "freq",
          "freq",
          "freq",
          "freq",
          "freq",
          "freq",
          "freq",
          "freq",
          "freq",
          "freq",
          "freq",
          "freq",
          "freq",
          "freq",
          "freq",
          "freq",
          "freq",
          "freq",
          "freq",
          "freq",
          "freq",
          "freq",
          "freq",
          "freq",
          "freq",
          "freq",
          "freq",
          "freq",
          "freq",
          "freq",
          "freq",
          "freq",
          "freq",
          "freq",
          "freq",
          "freq",
          "freq",
          "freq",
          "freq",
          "freq",
          "freq",
          "freq",
          "freq",
          "freq",
          "freq",
          "freq",
          "freq",
          "freq",
          "freq",
          "freq",
          "freq",
          "freq",
          "freq",
          "freq",
          "freq",
          "freq",
          "freq",
          "freq",
          "freq",
          "freq",
          "freq",
          "freq",
          "freq",
          "freq",
          "freq",
          "freq",
          "freq",
          "freq",
          "freq",
          "freq",
          "freq",
          "freq",
          "freq",
          "freq",
          "freq",
          "freq",
          "freq",
          "freq",
          "freq",
          "freq",
          "freq",
          "freq",
          "freq",
          "freq",
          "freq",
          "freq",
          "freq",
          "freq",
          "freq",
          "freq",
          "freq",
          "freq",
          "freq",
          "freq",
          "freq",
          "freq",
          "freq",
          "freq",
          "freq",
          "freq",
          "freq",
          "freq",
          "freq",
          "freq",
          "freq",
          "freq",
          "freq",
          "freq",
          "freq",
          "freq",
          "freq",
          "freq",
          "freq",
          "freq",
          "freq",
          "freq",
          "freq",
          "freq",
          "freq",
          "freq",
          "freq",
          "freq",
          "freq",
          "freq",
          "freq",
          "freq",
          "freq",
          "freq",
          "freq",
          "freq",
          "freq",
          "freq",
          "freq",
          "freq",
          "freq",
          "freq",
          "freq",
          "freq",
          "freq",
          "freq",
          "freq",
          "freq",
          "freq",
          "freq",
          "freq",
          "freq",
          "freq",
          "freq",
          "freq",
          "freq",
          "freq",
          "freq",
          "freq",
          "freq",
          "freq",
          "freq",
          "freq",
          "freq",
          "freq",
          "freq",
          "freq",
          "freq",
          "freq",
          "freq",
          "freq",
          "freq",
          "freq",
          "freq",
          "freq",
          "freq",
          "freq",
          "freq",
          "freq",
          "freq",
          "freq",
          "freq",
          "freq",
          "freq",
          "freq",
          "freq",
          "freq",
          "freq",
          "freq",
          "freq",
          "freq",
          "freq",
          "freq",
          "freq",
          "freq",
          "freq",
          "freq",
          "freq",
          "freq",
          "freq",
          "freq",
          "freq",
          "freq",
          "freq",
          "freq",
          "freq",
          "freq",
          "freq",
          "freq",
          "freq",
          "freq",
          "freq",
          "freq",
          "freq",
          "freq",
          "freq",
          "freq",
          "freq",
          "freq",
          "freq",
          "freq",
          "freq",
          "freq",
          "freq",
          "freq",
          "freq",
          "freq",
          "freq",
          "freq",
          "freq",
          "freq",
          "freq",
          "freq",
          "freq",
          "freq",
          "freq",
          "freq",
          "freq",
          "freq",
          "freq",
          "freq",
          "freq",
          "freq",
          "freq",
          "freq",
          "freq",
          "freq",
          "freq",
          "freq",
          "freq",
          "freq",
          "freq",
          "freq",
          "freq",
          "freq",
          "freq",
          "freq",
          "freq",
          "freq",
          "freq",
          "freq",
          "freq",
          "freq",
          "freq",
          "freq",
          "freq",
          "freq",
          "freq",
          "freq",
          "freq",
          "freq",
          "freq",
          "freq",
          "freq",
          "freq",
          "freq",
          "freq",
          "freq",
          "freq",
          "freq",
          "freq",
          "freq",
          "freq",
          "freq",
          "freq",
          "freq",
          "freq",
          "freq",
          "freq",
          "freq",
          "freq",
          "freq",
          "freq",
          "freq",
          "freq",
          "freq",
          "freq",
          "freq",
          "freq",
          "freq",
          "freq",
          "freq",
          "freq",
          "freq",
          "freq",
          "freq",
          "freq",
          "freq",
          "freq",
          "freq",
          "freq",
          "freq",
          "freq",
          "freq",
          "freq",
          "freq",
          "freq",
          "freq",
          "freq",
          "freq",
          "freq",
          "freq",
          "freq",
          "freq",
          "freq",
          "freq",
          "freq",
          "freq",
          "freq",
          "freq",
          "freq",
          "freq",
          "freq",
          "freq",
          "freq",
          "freq",
          "freq",
          "freq",
          "freq",
          "freq",
          "freq",
          "freq",
          "freq",
          "freq",
          "freq",
          "freq",
          "freq",
          "freq",
          "freq",
          "freq",
          "freq",
          "freq",
          "freq",
          "freq",
          "freq",
          "freq",
          "freq",
          "freq",
          "freq",
          "freq",
          "freq",
          "freq",
          "freq",
          "freq",
          "freq",
          "freq",
          "freq",
          "freq",
          "freq",
          "freq",
          "freq",
          "freq",
          "freq",
          "freq",
          "freq",
          "freq",
          "freq",
          "freq",
          "freq",
          "freq",
          "freq",
          "freq",
          "freq",
          "freq",
          "freq",
          "freq",
          "freq",
          "freq",
          "freq",
          "freq",
          "freq",
          "freq",
          "freq",
          "freq",
          "freq",
          "freq",
          "freq",
          "freq",
          "freq",
          "freq",
          "freq",
          "freq",
          "freq",
          "freq",
          "freq",
          "freq",
          "freq",
          "freq",
          "freq",
          "freq",
          "freq",
          "freq",
          "freq",
          "freq",
          "freq",
          "freq",
          "freq",
          "freq",
          "freq",
          "freq",
          "freq",
          "freq",
          "freq",
          "freq",
          "freq",
          "freq",
          "freq",
          "freq",
          "freq",
          "freq",
          "freq",
          "freq",
          "freq",
          "freq",
          "freq",
          "freq",
          "freq",
          "freq",
          "freq",
          "freq",
          "freq",
          "freq",
          "freq",
          "freq",
          "freq",
          "freq",
          "freq",
          "freq",
          "freq",
          "freq",
          "freq",
          "freq",
          "freq",
          "freq",
          "freq",
          "freq",
          "freq",
          "freq",
          "freq",
          "freq",
          "freq",
          "freq",
          "freq",
          "freq",
          "freq",
          "freq",
          "freq",
          "freq",
          "freq",
          "freq",
          "freq",
          "freq",
          "freq",
          "freq",
          "freq",
          "freq",
          "freq",
          "freq",
          "freq",
          "freq",
          "freq",
          "freq",
          "freq",
          "freq",
          "freq",
          "freq",
          "freq",
          "freq",
          "freq",
          "freq",
          "freq",
          "freq",
          "freq",
          "freq",
          "freq",
          "freq",
          "freq",
          "freq",
          "freq",
          "freq",
          "freq",
          "freq",
          "freq",
          "freq",
          "freq",
          "freq",
          "freq",
          "freq",
          "freq",
          "freq",
          "freq",
          "freq",
          "freq",
          "freq",
          "freq",
          "freq",
          "freq",
          "freq",
          "freq",
          "freq",
          "freq",
          "freq",
          "freq",
          "freq",
          "freq",
          "freq",
          "freq",
          "freq",
          "freq",
          "freq",
          "freq",
          "freq",
          "freq",
          "freq",
          "freq",
          "freq",
          "freq",
          "freq",
          "freq",
          "freq",
          "freq",
          "freq",
          "freq",
          "freq",
          "freq",
          "freq",
          "freq",
          "freq",
          "freq",
          "freq",
          "freq",
          "freq",
          "freq",
          "freq",
          "freq",
          "freq",
          "freq",
          "freq",
          "freq",
          "freq",
          "freq",
          "freq",
          "freq",
          "freq",
          "freq",
          "freq",
          "freq",
          "freq",
          "freq",
          "freq",
          "freq",
          "freq",
          "freq",
          "freq",
          "freq",
          "freq",
          "freq",
          "freq",
          "freq",
          "freq",
          "freq",
          "freq",
          "freq",
          "freq",
          "freq",
          "freq",
          "freq",
          "freq",
          "freq",
          "freq",
          "freq",
          "freq",
          "freq",
          "freq",
          "freq",
          "freq",
          "freq",
          "freq",
          "freq",
          "freq",
          "freq",
          "freq",
          "freq",
          "freq",
          "freq",
          "freq",
          "freq",
          "freq",
          "freq",
          "freq",
          "freq",
          "freq",
          "freq",
          "freq",
          "freq",
          "freq",
          "freq",
          "freq",
          "freq",
          "freq",
          "freq",
          "freq",
          "freq",
          "freq",
          "freq",
          "freq",
          "freq",
          "freq",
          "freq",
          "freq",
          "freq",
          "freq",
          "freq",
          "freq",
          "freq",
          "freq",
          "freq",
          "freq",
          "freq",
          "freq",
          "freq",
          "freq",
          "freq",
          "freq",
          "freq",
          "freq",
          "freq",
          "freq",
          "freq",
          "freq",
          "freq",
          "freq",
          "freq",
          "freq",
          "freq",
          "freq",
          "freq",
          "freq",
          "freq",
          "freq",
          "freq",
          "freq",
          "freq",
          "freq",
          "freq",
          "freq",
          "freq",
          "freq",
          "freq",
          "freq",
          "freq",
          "freq",
          "freq",
          "freq",
          "freq",
          "freq",
          "freq",
          "freq",
          "freq",
          "freq",
          "freq",
          "freq",
          "freq",
          "freq",
          "freq",
          "freq",
          "freq",
          "freq",
          "freq",
          "freq",
          "freq",
          "freq",
          "freq",
          "freq",
          "freq",
          "freq",
          "freq",
          "freq",
          "freq",
          "freq",
          "freq",
          "freq",
          "freq",
          "freq",
          "freq",
          "freq",
          "freq",
          "freq",
          "freq",
          "freq",
          "freq",
          "freq",
          "freq",
          "freq",
          "freq",
          "freq",
          "freq",
          "freq",
          "freq",
          "freq",
          "freq",
          "freq",
          "freq",
          "freq",
          "freq",
          "freq",
          "freq",
          "freq",
          "freq",
          "freq",
          "freq",
          "freq",
          "freq"
         ],
         "yaxis": "y2"
        }
       ],
       "layout": {
        "barmode": "overlay",
        "hovermode": "closest",
        "legend": {
         "traceorder": "reversed"
        },
        "template": {
         "data": {
          "bar": [
           {
            "error_x": {
             "color": "#2a3f5f"
            },
            "error_y": {
             "color": "#2a3f5f"
            },
            "marker": {
             "line": {
              "color": "#E5ECF6",
              "width": 0.5
             },
             "pattern": {
              "fillmode": "overlay",
              "size": 10,
              "solidity": 0.2
             }
            },
            "type": "bar"
           }
          ],
          "barpolar": [
           {
            "marker": {
             "line": {
              "color": "#E5ECF6",
              "width": 0.5
             },
             "pattern": {
              "fillmode": "overlay",
              "size": 10,
              "solidity": 0.2
             }
            },
            "type": "barpolar"
           }
          ],
          "carpet": [
           {
            "aaxis": {
             "endlinecolor": "#2a3f5f",
             "gridcolor": "white",
             "linecolor": "white",
             "minorgridcolor": "white",
             "startlinecolor": "#2a3f5f"
            },
            "baxis": {
             "endlinecolor": "#2a3f5f",
             "gridcolor": "white",
             "linecolor": "white",
             "minorgridcolor": "white",
             "startlinecolor": "#2a3f5f"
            },
            "type": "carpet"
           }
          ],
          "choropleth": [
           {
            "colorbar": {
             "outlinewidth": 0,
             "ticks": ""
            },
            "type": "choropleth"
           }
          ],
          "contour": [
           {
            "colorbar": {
             "outlinewidth": 0,
             "ticks": ""
            },
            "colorscale": [
             [
              0,
              "#0d0887"
             ],
             [
              0.1111111111111111,
              "#46039f"
             ],
             [
              0.2222222222222222,
              "#7201a8"
             ],
             [
              0.3333333333333333,
              "#9c179e"
             ],
             [
              0.4444444444444444,
              "#bd3786"
             ],
             [
              0.5555555555555556,
              "#d8576b"
             ],
             [
              0.6666666666666666,
              "#ed7953"
             ],
             [
              0.7777777777777778,
              "#fb9f3a"
             ],
             [
              0.8888888888888888,
              "#fdca26"
             ],
             [
              1,
              "#f0f921"
             ]
            ],
            "type": "contour"
           }
          ],
          "contourcarpet": [
           {
            "colorbar": {
             "outlinewidth": 0,
             "ticks": ""
            },
            "type": "contourcarpet"
           }
          ],
          "heatmap": [
           {
            "colorbar": {
             "outlinewidth": 0,
             "ticks": ""
            },
            "colorscale": [
             [
              0,
              "#0d0887"
             ],
             [
              0.1111111111111111,
              "#46039f"
             ],
             [
              0.2222222222222222,
              "#7201a8"
             ],
             [
              0.3333333333333333,
              "#9c179e"
             ],
             [
              0.4444444444444444,
              "#bd3786"
             ],
             [
              0.5555555555555556,
              "#d8576b"
             ],
             [
              0.6666666666666666,
              "#ed7953"
             ],
             [
              0.7777777777777778,
              "#fb9f3a"
             ],
             [
              0.8888888888888888,
              "#fdca26"
             ],
             [
              1,
              "#f0f921"
             ]
            ],
            "type": "heatmap"
           }
          ],
          "heatmapgl": [
           {
            "colorbar": {
             "outlinewidth": 0,
             "ticks": ""
            },
            "colorscale": [
             [
              0,
              "#0d0887"
             ],
             [
              0.1111111111111111,
              "#46039f"
             ],
             [
              0.2222222222222222,
              "#7201a8"
             ],
             [
              0.3333333333333333,
              "#9c179e"
             ],
             [
              0.4444444444444444,
              "#bd3786"
             ],
             [
              0.5555555555555556,
              "#d8576b"
             ],
             [
              0.6666666666666666,
              "#ed7953"
             ],
             [
              0.7777777777777778,
              "#fb9f3a"
             ],
             [
              0.8888888888888888,
              "#fdca26"
             ],
             [
              1,
              "#f0f921"
             ]
            ],
            "type": "heatmapgl"
           }
          ],
          "histogram": [
           {
            "marker": {
             "pattern": {
              "fillmode": "overlay",
              "size": 10,
              "solidity": 0.2
             }
            },
            "type": "histogram"
           }
          ],
          "histogram2d": [
           {
            "colorbar": {
             "outlinewidth": 0,
             "ticks": ""
            },
            "colorscale": [
             [
              0,
              "#0d0887"
             ],
             [
              0.1111111111111111,
              "#46039f"
             ],
             [
              0.2222222222222222,
              "#7201a8"
             ],
             [
              0.3333333333333333,
              "#9c179e"
             ],
             [
              0.4444444444444444,
              "#bd3786"
             ],
             [
              0.5555555555555556,
              "#d8576b"
             ],
             [
              0.6666666666666666,
              "#ed7953"
             ],
             [
              0.7777777777777778,
              "#fb9f3a"
             ],
             [
              0.8888888888888888,
              "#fdca26"
             ],
             [
              1,
              "#f0f921"
             ]
            ],
            "type": "histogram2d"
           }
          ],
          "histogram2dcontour": [
           {
            "colorbar": {
             "outlinewidth": 0,
             "ticks": ""
            },
            "colorscale": [
             [
              0,
              "#0d0887"
             ],
             [
              0.1111111111111111,
              "#46039f"
             ],
             [
              0.2222222222222222,
              "#7201a8"
             ],
             [
              0.3333333333333333,
              "#9c179e"
             ],
             [
              0.4444444444444444,
              "#bd3786"
             ],
             [
              0.5555555555555556,
              "#d8576b"
             ],
             [
              0.6666666666666666,
              "#ed7953"
             ],
             [
              0.7777777777777778,
              "#fb9f3a"
             ],
             [
              0.8888888888888888,
              "#fdca26"
             ],
             [
              1,
              "#f0f921"
             ]
            ],
            "type": "histogram2dcontour"
           }
          ],
          "mesh3d": [
           {
            "colorbar": {
             "outlinewidth": 0,
             "ticks": ""
            },
            "type": "mesh3d"
           }
          ],
          "parcoords": [
           {
            "line": {
             "colorbar": {
              "outlinewidth": 0,
              "ticks": ""
             }
            },
            "type": "parcoords"
           }
          ],
          "pie": [
           {
            "automargin": true,
            "type": "pie"
           }
          ],
          "scatter": [
           {
            "marker": {
             "colorbar": {
              "outlinewidth": 0,
              "ticks": ""
             }
            },
            "type": "scatter"
           }
          ],
          "scatter3d": [
           {
            "line": {
             "colorbar": {
              "outlinewidth": 0,
              "ticks": ""
             }
            },
            "marker": {
             "colorbar": {
              "outlinewidth": 0,
              "ticks": ""
             }
            },
            "type": "scatter3d"
           }
          ],
          "scattercarpet": [
           {
            "marker": {
             "colorbar": {
              "outlinewidth": 0,
              "ticks": ""
             }
            },
            "type": "scattercarpet"
           }
          ],
          "scattergeo": [
           {
            "marker": {
             "colorbar": {
              "outlinewidth": 0,
              "ticks": ""
             }
            },
            "type": "scattergeo"
           }
          ],
          "scattergl": [
           {
            "marker": {
             "colorbar": {
              "outlinewidth": 0,
              "ticks": ""
             }
            },
            "type": "scattergl"
           }
          ],
          "scattermapbox": [
           {
            "marker": {
             "colorbar": {
              "outlinewidth": 0,
              "ticks": ""
             }
            },
            "type": "scattermapbox"
           }
          ],
          "scatterpolar": [
           {
            "marker": {
             "colorbar": {
              "outlinewidth": 0,
              "ticks": ""
             }
            },
            "type": "scatterpolar"
           }
          ],
          "scatterpolargl": [
           {
            "marker": {
             "colorbar": {
              "outlinewidth": 0,
              "ticks": ""
             }
            },
            "type": "scatterpolargl"
           }
          ],
          "scatterternary": [
           {
            "marker": {
             "colorbar": {
              "outlinewidth": 0,
              "ticks": ""
             }
            },
            "type": "scatterternary"
           }
          ],
          "surface": [
           {
            "colorbar": {
             "outlinewidth": 0,
             "ticks": ""
            },
            "colorscale": [
             [
              0,
              "#0d0887"
             ],
             [
              0.1111111111111111,
              "#46039f"
             ],
             [
              0.2222222222222222,
              "#7201a8"
             ],
             [
              0.3333333333333333,
              "#9c179e"
             ],
             [
              0.4444444444444444,
              "#bd3786"
             ],
             [
              0.5555555555555556,
              "#d8576b"
             ],
             [
              0.6666666666666666,
              "#ed7953"
             ],
             [
              0.7777777777777778,
              "#fb9f3a"
             ],
             [
              0.8888888888888888,
              "#fdca26"
             ],
             [
              1,
              "#f0f921"
             ]
            ],
            "type": "surface"
           }
          ],
          "table": [
           {
            "cells": {
             "fill": {
              "color": "#EBF0F8"
             },
             "line": {
              "color": "white"
             }
            },
            "header": {
             "fill": {
              "color": "#C8D4E3"
             },
             "line": {
              "color": "white"
             }
            },
            "type": "table"
           }
          ]
         },
         "layout": {
          "annotationdefaults": {
           "arrowcolor": "#2a3f5f",
           "arrowhead": 0,
           "arrowwidth": 1
          },
          "autotypenumbers": "strict",
          "coloraxis": {
           "colorbar": {
            "outlinewidth": 0,
            "ticks": ""
           }
          },
          "colorscale": {
           "diverging": [
            [
             0,
             "#8e0152"
            ],
            [
             0.1,
             "#c51b7d"
            ],
            [
             0.2,
             "#de77ae"
            ],
            [
             0.3,
             "#f1b6da"
            ],
            [
             0.4,
             "#fde0ef"
            ],
            [
             0.5,
             "#f7f7f7"
            ],
            [
             0.6,
             "#e6f5d0"
            ],
            [
             0.7,
             "#b8e186"
            ],
            [
             0.8,
             "#7fbc41"
            ],
            [
             0.9,
             "#4d9221"
            ],
            [
             1,
             "#276419"
            ]
           ],
           "sequential": [
            [
             0,
             "#0d0887"
            ],
            [
             0.1111111111111111,
             "#46039f"
            ],
            [
             0.2222222222222222,
             "#7201a8"
            ],
            [
             0.3333333333333333,
             "#9c179e"
            ],
            [
             0.4444444444444444,
             "#bd3786"
            ],
            [
             0.5555555555555556,
             "#d8576b"
            ],
            [
             0.6666666666666666,
             "#ed7953"
            ],
            [
             0.7777777777777778,
             "#fb9f3a"
            ],
            [
             0.8888888888888888,
             "#fdca26"
            ],
            [
             1,
             "#f0f921"
            ]
           ],
           "sequentialminus": [
            [
             0,
             "#0d0887"
            ],
            [
             0.1111111111111111,
             "#46039f"
            ],
            [
             0.2222222222222222,
             "#7201a8"
            ],
            [
             0.3333333333333333,
             "#9c179e"
            ],
            [
             0.4444444444444444,
             "#bd3786"
            ],
            [
             0.5555555555555556,
             "#d8576b"
            ],
            [
             0.6666666666666666,
             "#ed7953"
            ],
            [
             0.7777777777777778,
             "#fb9f3a"
            ],
            [
             0.8888888888888888,
             "#fdca26"
            ],
            [
             1,
             "#f0f921"
            ]
           ]
          },
          "colorway": [
           "#636efa",
           "#EF553B",
           "#00cc96",
           "#ab63fa",
           "#FFA15A",
           "#19d3f3",
           "#FF6692",
           "#B6E880",
           "#FF97FF",
           "#FECB52"
          ],
          "font": {
           "color": "#2a3f5f"
          },
          "geo": {
           "bgcolor": "white",
           "lakecolor": "white",
           "landcolor": "#E5ECF6",
           "showlakes": true,
           "showland": true,
           "subunitcolor": "white"
          },
          "hoverlabel": {
           "align": "left"
          },
          "hovermode": "closest",
          "mapbox": {
           "style": "light"
          },
          "paper_bgcolor": "white",
          "plot_bgcolor": "#E5ECF6",
          "polar": {
           "angularaxis": {
            "gridcolor": "white",
            "linecolor": "white",
            "ticks": ""
           },
           "bgcolor": "#E5ECF6",
           "radialaxis": {
            "gridcolor": "white",
            "linecolor": "white",
            "ticks": ""
           }
          },
          "scene": {
           "xaxis": {
            "backgroundcolor": "#E5ECF6",
            "gridcolor": "white",
            "gridwidth": 2,
            "linecolor": "white",
            "showbackground": true,
            "ticks": "",
            "zerolinecolor": "white"
           },
           "yaxis": {
            "backgroundcolor": "#E5ECF6",
            "gridcolor": "white",
            "gridwidth": 2,
            "linecolor": "white",
            "showbackground": true,
            "ticks": "",
            "zerolinecolor": "white"
           },
           "zaxis": {
            "backgroundcolor": "#E5ECF6",
            "gridcolor": "white",
            "gridwidth": 2,
            "linecolor": "white",
            "showbackground": true,
            "ticks": "",
            "zerolinecolor": "white"
           }
          },
          "shapedefaults": {
           "line": {
            "color": "#2a3f5f"
           }
          },
          "ternary": {
           "aaxis": {
            "gridcolor": "white",
            "linecolor": "white",
            "ticks": ""
           },
           "baxis": {
            "gridcolor": "white",
            "linecolor": "white",
            "ticks": ""
           },
           "bgcolor": "#E5ECF6",
           "caxis": {
            "gridcolor": "white",
            "linecolor": "white",
            "ticks": ""
           }
          },
          "title": {
           "x": 0.05
          },
          "xaxis": {
           "automargin": true,
           "gridcolor": "white",
           "linecolor": "white",
           "ticks": "",
           "title": {
            "standoff": 15
           },
           "zerolinecolor": "white",
           "zerolinewidth": 2
          },
          "yaxis": {
           "automargin": true,
           "gridcolor": "white",
           "linecolor": "white",
           "ticks": "",
           "title": {
            "standoff": 15
           },
           "zerolinecolor": "white",
           "zerolinewidth": 2
          }
         }
        },
        "title": {
         "text": "Distplot"
        },
        "xaxis": {
         "anchor": "y2",
         "domain": [
          0,
          1
         ],
         "zeroline": false
        },
        "yaxis": {
         "anchor": "free",
         "domain": [
          0.35,
          1
         ],
         "position": 0
        },
        "yaxis2": {
         "anchor": "x",
         "domain": [
          0,
          0.25
         ],
         "dtick": 1,
         "showticklabels": false
        }
       }
      },
      "text/html": [
       "<div>                            <div id=\"5f1d689a-8a51-4638-8afb-eeb5dacb0390\" class=\"plotly-graph-div\" style=\"height:525px; width:100%;\"></div>            <script type=\"text/javascript\">                require([\"plotly\"], function(Plotly) {                    window.PLOTLYENV=window.PLOTLYENV || {};                                    if (document.getElementById(\"5f1d689a-8a51-4638-8afb-eeb5dacb0390\")) {                    Plotly.newPlot(                        \"5f1d689a-8a51-4638-8afb-eeb5dacb0390\",                        [{\"autobinx\":false,\"histnorm\":\"probability density\",\"legendgroup\":\"freq\",\"marker\":{\"color\":\"#221f1f\"},\"name\":\"freq\",\"opacity\":0.7,\"type\":\"histogram\",\"x\":[93.0,78.0,80.0,123.0,95.0,119.0,118.0,143.0,103.0,89.0,91.0,149.0,144.0,124.0,87.0,110.0,128.0,117.0,100.0,84.0,99.0,95.0,90.0,102.0,104.0,99.0,105.0,56.0,125.0,119.0,81.0,97.0,106.0,99.0,107.0,93.0,89.0,105.0,87.0,97.0,109.0,93.0,109.0,44.0,75.0,101.0,89.0,90.0,90.0,93.0,101.0,113.0,89.0,84.0,102.0,102.0,114.0,130.0,90.0,94.0,97.0,143.0,91.0,107.0,95.0,119.0,93.0,101.0,93.0,140.0,135.0,82.0,70.0,104.0,117.0,121.0,92.0,124.0,164.0,53.0,93.0,91.0,83.0,93.0,114.0,116.0,93.0,81.0,84.0,105.0,86.0,120.0,106.0,92.0,96.0,97.0,99.0,100.0,126.0,96.0,75.0,94.0,129.0,80.0,103.0,96.0,77.0,137.0,148.0,123.0,121.0,95.0,28.0,99.0,104.0,122.0,104.0,94.0,176.0,107.0,90.0,94.0,101.0,87.0,92.0,85.0,93.0,22.0,95.0,86.0,137.0,101.0,68.0,121.0,111.0,110.0,29.0,142.0,168.0,102.0,92.0,86.0,22.0,22.0,21.0,59.0,93.0,86.0,80.0,109.0,92.0,92.0,89.0,96.0,95.0,87.0,93.0,113.0,20.0,117.0,97.0,98.0,108.0,125.0,91.0,76.0,90.0,82.0,111.0,92.0,110.0,94.0,100.0,91.0,94.0,44.0,108.0,130.0,83.0,123.0,106.0,87.0,130.0,100.0,96.0,89.0,95.0,26.0,156.0,98.0,30.0,108.0,92.0,28.0,99.0,85.0,122.0,84.0,57.0,107.0,102.0,103.0,91.0,104.0,91.0,110.0,111.0,77.0,99.0,122.0,150.0,117.0,126.0,148.0,122.0,95.0,133.0,164.0,115.0,154.0,133.0,110.0,127.0,146.0,136.0,100.0,90.0,88.0,131.0,44.0,101.0,123.0,90.0,89.0,87.0,24.0,88.0,133.0,110.0,112.0,129.0,87.0,87.0,120.0,59.0,74.0,96.0,91.0,59.0,105.0,63.0,111.0,96.0,99.0,92.0,86.0,90.0,63.0,106.0,38.0,93.0,87.0,25.0,105.0,94.0,107.0,89.0,92.0,22.0,174.0,60.0,97.0,122.0,91.0,84.0,97.0,127.0,153.0,158.0,151.0,150.0,105.0,109.0,81.0,162.0,104.0,54.0,94.0,83.0,85.0,106.0,60.0,102.0,88.0,51.0,100.0,131.0,109.0,69.0,106.0,115.0,60.0,64.0,110.0,54.0,147.0,112.0,87.0,63.0,88.0,42.0,90.0,89.0,79.0,101.0,102.0,122.0,85.0,83.0,92.0,40.0,84.0,104.0,91.0,109.0,100.0,90.0,90.0,94.0,99.0,90.0,95.0,92.0,103.0,103.0,103.0,45.0,45.0,90.0,106.0,75.0,98.0,112.0,92.0,103.0,104.0,92.0,172.0,125.0,96.0,44.0,81.0,112.0,122.0,101.0,53.0,53.0,110.0,10.0,99.0,95.0,119.0,163.0,55.0,84.0,96.0,102.0,90.0,106.0,72.0,127.0,116.0,128.0,61.0,57.0,80.0,80.0,75.0,75.0,79.0,93.0,129.0,108.0,87.0,71.0,97.0,91.0,83.0,85.0,116.0,130.0,111.0,113.0,97.0,102.0,106.0,160.0,137.0,171.0,171.0,104.0,95.0,90.0,128.0,103.0,121.0,30.0,48.0,139.0,105.0,104.0,162.0,157.0,15.0,106.0,130.0,88.0,146.0,64.0,104.0,127.0,92.0,100.0,72.0,118.0,110.0,65.0,64.0,59.0,122.0,90.0,60.0,134.0,89.0,161.0,86.0,87.0,130.0,107.0,80.0,79.0,62.0,93.0,81.0,87.0,54.0,98.0,113.0,91.0,89.0,63.0,110.0,98.0,125.0,106.0,93.0,139.0,90.0,123.0,168.0,83.0,101.0,94.0,100.0,117.0,133.0,81.0,91.0,104.0,106.0,112.0,122.0,102.0,88.0,99.0,186.0,49.0,94.0,90.0,95.0,97.0,110.0,97.0,73.0,88.0,150.0,97.0,91.0,92.0,111.0,101.0,112.0,73.0,89.0,129.0,58.0,80.0,65.0,99.0,126.0,135.0,127.0,165.0,166.0,166.0,138.0,159.0,160.0,159.0,136.0,112.0,101.0,143.0,127.0,98.0,61.0,95.0,86.0,84.0,111.0,92.0,102.0,97.0,90.0,119.0,147.0,99.0,130.0,87.0,83.0,83.0,105.0,91.0,117.0,117.0,78.0,75.0,78.0,149.0,103.0,108.0,84.0,94.0,95.0,141.0,122.0,134.0,107.0,126.0,122.0,95.0,88.0,101.0,74.0,64.0,74.0,74.0,83.0,72.0,79.0,72.0,80.0,75.0,75.0,72.0,109.0,132.0,110.0,99.0,144.0,91.0,105.0,166.0,103.0,128.0,118.0,87.0,77.0,98.0,94.0,125.0,29.0,102.0,121.0,116.0,110.0,88.0,52.0,89.0,52.0,137.0,51.0,110.0,92.0,119.0,81.0,73.0,75.0,99.0,89.0,121.0,100.0,92.0,100.0,98.0,97.0,97.0,86.0,105.0,100.0,96.0,115.0,99.0,76.0,113.0,88.0,106.0,127.0,90.0,74.0,91.0,85.0,90.0,102.0,90.0,87.0,100.0,25.0,94.0,105.0,99.0,116.0,82.0,120.0,77.0,92.0,107.0,62.0,57.0,70.0,98.0,77.0,44.0,97.0,100.0,104.0,56.0,108.0,83.0,91.0,149.0,112.0,102.0,98.0,107.0,59.0,120.0,151.0,116.0,112.0,117.0,130.0,74.0,150.0,63.0,138.0,148.0,114.0,123.0,97.0,105.0,107.0,106.0,87.0,93.0,88.0,126.0,107.0,103.0,90.0,68.0,100.0,95.0,108.0,86.0,81.0,65.0,67.0,78.0,69.0,28.0,34.0,61.0,56.0,81.0,97.0,132.0,110.0,66.0,127.0,131.0,107.0,124.0,38.0,115.0,88.0,97.0,116.0,132.0,117.0,137.0,100.0,79.0,162.0,144.0,79.0,312.0,135.0,83.0,114.0,88.0,116.0,91.0,83.0,80.0,90.0,106.0,129.0,94.0,94.0,120.0,83.0,91.0,130.0,91.0,102.0,85.0,88.0,110.0,113.0,123.0,180.0,98.0,81.0,90.0,90.0,94.0,112.0,129.0,85.0,108.0,60.0,60.0,97.0,47.0,99.0,83.0,168.0,116.0,99.0,106.0,130.0,161.0,111.0,26.0,92.0,102.0,99.0,89.0,108.0,123.0,86.0,89.0,88.0,126.0,117.0,111.0,79.0,96.0,70.0,87.0,89.0,86.0,74.0,139.0,112.0,84.0,100.0,80.0,86.0,105.0,90.0,63.0,96.0,89.0,90.0,102.0,51.0,92.0,94.0,96.0,108.0,105.0,81.0,105.0,116.0,77.0,61.0,110.0,110.0,94.0,51.0,118.0,100.0,95.0,133.0,97.0,110.0,90.0,120.0,155.0,91.0,90.0,90.0,129.0,103.0,103.0,14.0,95.0,103.0,73.0,94.0,95.0,94.0,97.0,98.0,98.0,119.0,76.0,104.0,148.0,78.0,102.0,94.0,98.0,108.0,128.0,110.0,122.0,177.0,104.0,135.0,127.0,114.0,98.0,87.0,151.0,78.0,73.0,125.0,126.0,101.0,11.0,11.0,22.0,93.0,95.0,105.0,104.0,104.0,117.0,101.0,120.0,114.0,93.0,104.0,99.0,9.0,103.0,126.0,81.0,46.0,104.0,92.0,142.0,131.0,113.0,83.0,67.0,63.0,82.0,119.0,98.0,98.0,85.0,84.0,82.0,111.0,145.0,125.0,108.0,81.0,108.0,141.0,117.0,74.0,96.0,82.0,75.0,77.0,60.0,107.0,156.0,110.0,116.0,148.0,126.0,135.0,110.0,129.0,132.0,118.0,166.0,112.0,164.0,102.0,121.0,87.0,95.0,86.0,106.0,121.0,115.0,98.0,106.0,94.0,85.0,121.0,121.0,113.0,89.0,129.0,99.0,105.0,116.0,115.0,71.0,75.0,135.0,88.0,87.0,63.0,62.0,62.0,112.0,113.0,82.0,25.0,98.0,87.0,63.0,112.0,127.0,111.0,63.0,92.0,105.0,146.0,96.0,90.0,114.0,101.0,80.0,84.0,66.0,55.0,98.0,65.0,92.0,99.0,59.0,119.0,87.0,106.0,87.0,112.0,88.0,105.0,101.0,86.0,86.0,91.0,99.0,104.0,86.0,104.0,47.0,56.0,61.0,34.0,158.0,118.0,127.0,130.0,115.0,86.0,87.0,109.0,151.0,106.0,130.0,69.0,77.0,110.0,102.0,88.0,106.0,91.0,98.0,103.0,89.0,108.0,104.0,124.0,95.0,112.0,96.0,172.0,124.0,90.0,95.0,85.0,51.0,137.0,57.0,98.0,91.0,88.0,69.0,120.0,98.0,98.0,73.0,66.0,62.0,56.0,118.0,110.0,114.0,112.0,105.0,92.0,117.0,137.0,84.0,52.0,96.0,112.0,90.0,106.0,106.0,116.0,97.0,100.0,127.0,96.0,88.0,45.0,8.0,101.0,12.0,69.0,88.0,91.0,103.0,88.0,75.0,90.0,90.0,97.0,67.0,112.0,102.0,114.0,107.0,110.0,14.0,78.0,80.0,108.0,67.0,40.0,81.0,120.0,101.0,114.0,95.0,90.0,45.0,99.0,93.0,82.0,96.0,96.0,59.0,58.0,102.0,107.0,156.0,82.0,118.0,133.0,153.0,135.0,117.0,103.0,93.0,82.0,115.0,151.0,103.0,117.0,64.0,100.0,81.0,70.0,52.0,161.0,97.0,55.0,78.0,103.0,108.0,75.0,113.0,98.0,100.0,91.0,93.0,81.0,90.0,113.0,97.0,104.0,116.0,121.0,112.0,66.0,85.0,84.0,77.0,97.0,73.0,107.0,91.0,76.0,81.0,110.0,90.0,94.0,78.0,97.0,86.0,86.0,94.0,83.0,43.0,100.0,92.0,149.0,93.0,91.0,88.0,100.0,94.0,111.0,71.0,53.0,101.0,146.0,93.0,107.0,156.0,82.0,137.0,79.0,92.0,128.0,101.0,102.0,102.0,96.0,62.0,56.0,99.0,83.0,140.0,62.0,70.0,66.0,74.0,50.0,69.0,94.0,88.0,76.0,107.0,90.0,79.0,136.0,99.0,97.0,88.0,137.0,87.0,108.0,94.0,123.0,128.0,157.0,114.0,127.0,127.0,102.0,124.0,132.0,113.0,93.0,113.0,96.0,90.0,133.0,90.0,69.0,23.0,23.0,165.0,185.0,174.0,176.0,166.0,145.0,109.0,118.0,154.0,115.0,90.0,108.0,134.0,107.0,111.0,87.0,112.0,107.0,95.0,165.0,91.0,106.0,121.0,200.0,93.0,118.0,120.0,90.0,99.0,90.0,107.0,89.0,169.0,148.0,83.0,96.0,99.0,95.0,88.0,94.0,115.0,113.0,93.0,93.0,92.0,98.0,65.0,127.0,105.0,97.0,114.0,134.0,142.0,105.0,105.0,110.0,94.0,104.0,126.0,94.0,69.0,82.0,86.0,86.0,103.0,94.0,103.0,97.0,84.0,98.0,97.0,68.0,27.0,46.0,46.0,46.0,42.0,92.0,109.0,46.0,89.0,92.0,162.0,119.0,99.0,97.0,100.0,102.0,94.0,92.0,97.0,93.0,162.0,85.0,110.0,170.0,165.0,141.0,88.0,52.0,90.0,81.0,91.0,107.0,106.0,92.0,140.0,127.0,82.0,98.0,69.0,90.0,92.0,103.0,80.0,65.0,133.0,153.0,100.0,109.0,102.0,124.0,105.0,120.0,134.0,151.0,141.0,120.0,106.0,109.0,105.0,89.0,123.0,119.0,85.0,82.0,52.0,106.0,48.0,73.0,122.0,74.0,95.0,73.0,79.0,94.0,143.0,81.0,196.0,84.0,28.0,27.0,98.0,119.0,90.0,109.0,93.0,92.0,49.0,90.0,102.0,82.0,128.0,90.0,74.0,94.0,87.0,108.0,151.0,40.0,109.0,91.0,163.0,66.0,93.0,124.0,85.0,59.0,103.0,105.0,102.0,107.0,52.0,81.0,99.0,69.0,88.0,120.0,95.0,100.0,91.0,110.0,124.0,96.0,69.0,91.0,96.0,103.0,102.0,96.0,98.0,133.0,124.0,127.0,102.0,134.0,108.0,133.0,103.0,58.0,79.0,101.0,78.0,96.0,103.0,81.0,95.0,117.0,110.0,25.0,108.0,99.0,106.0,103.0,92.0,90.0,60.0,89.0,54.0,106.0,61.0,150.0,80.0,124.0,98.0,82.0,99.0,92.0,29.0,109.0,91.0,33.0,102.0,114.0,146.0,94.0,75.0,158.0,61.0,90.0,72.0,95.0,100.0,97.0,118.0,92.0,70.0,110.0,58.0,91.0,60.0,86.0,91.0,63.0,133.0,103.0,117.0,181.0,118.0,101.0,204.0,29.0,92.0,94.0,118.0,98.0,90.0,93.0,125.0,106.0,114.0,40.0,83.0,117.0,99.0,60.0,60.0,91.0,96.0,102.0,90.0,123.0,103.0,137.0,90.0,112.0,49.0,61.0,78.0,124.0,60.0,104.0,83.0,163.0,119.0,74.0,102.0,83.0,88.0,86.0,66.0,90.0,134.0,92.0,145.0,105.0,95.0,93.0,93.0,84.0,112.0,93.0,81.0,98.0,123.0,132.0,74.0,87.0,105.0,109.0,96.0,61.0,88.0,125.0,118.0,113.0,100.0,79.0,86.0,61.0,54.0,66.0,87.0,70.0,32.0,85.0,91.0,105.0,93.0,65.0,115.0,91.0,58.0,51.0,139.0,112.0,135.0,99.0,103.0,116.0,72.0,86.0,104.0,97.0,92.0,161.0,104.0,93.0,35.0,93.0,99.0,106.0,47.0,52.0,97.0,85.0,135.0,75.0,110.0,88.0,91.0,134.0,82.0,87.0,106.0,109.0,97.0,88.0,98.0,110.0,88.0,123.0,104.0,128.0,91.0,132.0,88.0,58.0,57.0,126.0,101.0,108.0,111.0,135.0,96.0,98.0,98.0,98.0,102.0,86.0,148.0,167.0,96.0,109.0,70.0,78.0,79.0,78.0,62.0,96.0,95.0,126.0,97.0,107.0,118.0,130.0,154.0,90.0,107.0,95.0,96.0,52.0,87.0,103.0,109.0,98.0,101.0,103.0,110.0,104.0,85.0,101.0,129.0,163.0,100.0,78.0,58.0,47.0,110.0,145.0,58.0,56.0,22.0,95.0,161.0,141.0,115.0,101.0,96.0,68.0,58.0,90.0,126.0,106.0,92.0,103.0,82.0,71.0,121.0,77.0,91.0,77.0,86.0,103.0,42.0,60.0,111.0,103.0,129.0,113.0,106.0,105.0,101.0,91.0,88.0,137.0,22.0,130.0,89.0,110.0,112.0,135.0,148.0,100.0,101.0,96.0,115.0,96.0,90.0,103.0,75.0,99.0,99.0,93.0,90.0,90.0,101.0,145.0,95.0,92.0,102.0,90.0,144.0,137.0,98.0,109.0,150.0,117.0,93.0,96.0,133.0,71.0,80.0,57.0,98.0,110.0,131.0,95.0,102.0,66.0,65.0,114.0,96.0,97.0,106.0,82.0,78.0,67.0,84.0,95.0,120.0,149.0,126.0,90.0,143.0,113.0,106.0,155.0,57.0,121.0,91.0,100.0,101.0,137.0,138.0,125.0,95.0,154.0,106.0,116.0,116.0,97.0,93.0,129.0,111.0,117.0,65.0,158.0,110.0,108.0,79.0,95.0,81.0,99.0,86.0,73.0,70.0,68.0,86.0,138.0,110.0,78.0,127.0,129.0,91.0,179.0,113.0,79.0,105.0,93.0,98.0,94.0,79.0,96.0,67.0,99.0,62.0,55.0,101.0,88.0,95.0,87.0,83.0,90.0,100.0,73.0,135.0,151.0,109.0,109.0,89.0,99.0,86.0,86.0,85.0,129.0,98.0,93.0,111.0,58.0,95.0,89.0,97.0,89.0,90.0,104.0,119.0,92.0,107.0,124.0,87.0,91.0,94.0,118.0,86.0,102.0,122.0,126.0,117.0,65.0,118.0,126.0,87.0,156.0,97.0,96.0,89.0,97.0,40.0,143.0,81.0,88.0,87.0,96.0,104.0,129.0,124.0,118.0,111.0,125.0,120.0,91.0,137.0,104.0,80.0,127.0,141.0,117.0,140.0,95.0,93.0,97.0,118.0,100.0,118.0,150.0,44.0,54.0,170.0,118.0,126.0,128.0,104.0,105.0,86.0,94.0,106.0,92.0,108.0,89.0,95.0,103.0,92.0,102.0,126.0,87.0,138.0,73.0,84.0,111.0,100.0,119.0,94.0,86.0,142.0,95.0,95.0,80.0,79.0,81.0,120.0,61.0,85.0,104.0,96.0,91.0,134.0,93.0,120.0,83.0,82.0,88.0,102.0,101.0,96.0,97.0,105.0,101.0,86.0,88.0,84.0,89.0,113.0,110.0,105.0,116.0,94.0,110.0,104.0,116.0,47.0,102.0,51.0,143.0,103.0,104.0,127.0,83.0,193.0,176.0,95.0,149.0,131.0,79.0,101.0,97.0,89.0,91.0,140.0,85.0,85.0,150.0,82.0,117.0,84.0,106.0,107.0,90.0,98.0,82.0,87.0,54.0,102.0,114.0,99.0,139.0,94.0,88.0,89.0,93.0,82.0,117.0,91.0,91.0,97.0,89.0,106.0,116.0,128.0,81.0,88.0,80.0,100.0,96.0,80.0,67.0,119.0,75.0,112.0,135.0,110.0,94.0,91.0,121.0,108.0,104.0,124.0,13.0,87.0,128.0,78.0,72.0,72.0,78.0,75.0,140.0,108.0,97.0,103.0,95.0,86.0,104.0,101.0,94.0,98.0,114.0,99.0,94.0,103.0,89.0,99.0,116.0,102.0,129.0,87.0,148.0,103.0,89.0,119.0,106.0,90.0,118.0,95.0,101.0,123.0,127.0,116.0,119.0,99.0,90.0,90.0,153.0,122.0,109.0,125.0,106.0,141.0,106.0,103.0,122.0,87.0,116.0,45.0,102.0,107.0,148.0,116.0,88.0,99.0,100.0,99.0,72.0,134.0,87.0,91.0,88.0,96.0,107.0,108.0,105.0,105.0,127.0,137.0,77.0,108.0,71.0,93.0,96.0,99.0,102.0,129.0,130.0,115.0,113.0,88.0,98.0,140.0,92.0,127.0,127.0,101.0,101.0,112.0,91.0,84.0,105.0,88.0,141.0,68.0,162.0,163.0,147.0,142.0,143.0,93.0,86.0,68.0,65.0,58.0,154.0,44.0,92.0,90.0,124.0,91.0,76.0,155.0,101.0,132.0,92.0,22.0,132.0,94.0,132.0,94.0,77.0,107.0,103.0,142.0,128.0,105.0,97.0,90.0,84.0,69.0,58.0,97.0,80.0,71.0,71.0,85.0,75.0,59.0,119.0,78.0,69.0,67.0,103.0,109.0,62.0,61.0,81.0,69.0,134.0,80.0,53.0,84.0,86.0,44.0,131.0,94.0,72.0,74.0,71.0,77.0,70.0,77.0,87.0,67.0,71.0,62.0,102.0,62.0,58.0,83.0,135.0,124.0,69.0,79.0,181.0,60.0,55.0,63.0,128.0,98.0,69.0,78.0,214.0,90.0,67.0,64.0,64.0,79.0,90.0,133.0,125.0,92.0,90.0,80.0,70.0,65.0,60.0,62.0,17.0,98.0,96.0,97.0,101.0,135.0,75.0,79.0,99.0,101.0,90.0,84.0,70.0,137.0,133.0,145.0,91.0,52.0,123.0,113.0,107.0,128.0,101.0,104.0,94.0,96.0,107.0,92.0,95.0,106.0,90.0,106.0,138.0,110.0,100.0,139.0,130.0,132.0,133.0,126.0,91.0,173.0,105.0,148.0,192.0,151.0,209.0,171.0,120.0,122.0,85.0,120.0,113.0,187.0,154.0,99.0,80.0,105.0,41.0,107.0,128.0,104.0,93.0,110.0,160.0,138.0,112.0,101.0,110.0,107.0,65.0,135.0,118.0,137.0,117.0,65.0,118.0,86.0,140.0,66.0,64.0,71.0,89.0,60.0,61.0,85.0,45.0,132.0,53.0,116.0,133.0,116.0,82.0,62.0,68.0,62.0,60.0,89.0,75.0,67.0,96.0,70.0,63.0,62.0,42.0,90.0,170.0,151.0,121.0,132.0,124.0,120.0,157.0,124.0,110.0,90.0,97.0,108.0,95.0,90.0,102.0,111.0,137.0,100.0,53.0,100.0,87.0,106.0,112.0,107.0,87.0,86.0,100.0,80.0,97.0,103.0,109.0,81.0,182.0,88.0,98.0,110.0,114.0,87.0,132.0,101.0,145.0,93.0,116.0,85.0,84.0,92.0,98.0,88.0,99.0,63.0,121.0,104.0,104.0,105.0,135.0,56.0,107.0,95.0,96.0,115.0,117.0,58.0,62.0,65.0,61.0,65.0,65.0,58.0,60.0,81.0,126.0,124.0,85.0,114.0,93.0,136.0,185.0,126.0,99.0,79.0,26.0,23.0,107.0,106.0,133.0,147.0,95.0,100.0,149.0,165.0,124.0,52.0,150.0,165.0,84.0,104.0,114.0,109.0,88.0,50.0,87.0,92.0,143.0,116.0,112.0,40.0,94.0,101.0,104.0,110.0,111.0,83.0,101.0,224.0,118.0,111.0,185.0,153.0,145.0,82.0,140.0,87.0,68.0,86.0,86.0,76.0,115.0,93.0,98.0,83.0,81.0,116.0,105.0,99.0,121.0,54.0,78.0,100.0,89.0,37.0,33.0,35.0,32.0,147.0,132.0,110.0,132.0,97.0,108.0,101.0,68.0,100.0,22.0,48.0,25.0,22.0,22.0,22.0,44.0,22.0,111.0,109.0,78.0,103.0,158.0,66.0,24.0,144.0,93.0,58.0,116.0,113.0,90.0,68.0,104.0,86.0,118.0,99.0,89.0,126.0,83.0,109.0,80.0,40.0,109.0,84.0,104.0,105.0,99.0,104.0,105.0,116.0,94.0,85.0,59.0,150.0,109.0,94.0,111.0,95.0,59.0,103.0,116.0,58.0,89.0,92.0,95.0,23.0,25.0,85.0,20.0,102.0,90.0,68.0,67.0,66.0,70.0,66.0,68.0,69.0,91.0,102.0,149.0,87.0,98.0,94.0,90.0,233.0,108.0,85.0,105.0,95.0,103.0,89.0,118.0,114.0,153.0,106.0,96.0,68.0,40.0,96.0,117.0,88.0,116.0,155.0,28.0,71.0,88.0,64.0,92.0,93.0,95.0,86.0,92.0,140.0,110.0,106.0,98.0,101.0,96.0,103.0,105.0,93.0,111.0,94.0,109.0,87.0,163.0,103.0,120.0,93.0,133.0,77.0,97.0,101.0,111.0,115.0,91.0,103.0,95.0,92.0,84.0,82.0,124.0,77.0,91.0,79.0,112.0,113.0,50.0,81.0,81.0,87.0,71.0,98.0,66.0,102.0,156.0,113.0,144.0,131.0,150.0,125.0,100.0,110.0,100.0,121.0,129.0,51.0,117.0,94.0,32.0,107.0,76.0,118.0,108.0,101.0,93.0,99.0,84.0,102.0,134.0,91.0,78.0,128.0,141.0,128.0,95.0,73.0,110.0,143.0,189.0,75.0,119.0,56.0,134.0,92.0,109.0,171.0,129.0,137.0,192.0,33.0,21.0,106.0,132.0,133.0,131.0,51.0,89.0,70.0,71.0,91.0,131.0,101.0,105.0,88.0,155.0,103.0,97.0,92.0,98.0,109.0,110.0,136.0,133.0,152.0,173.0,89.0,129.0,162.0,112.0,85.0,114.0,75.0,89.0,177.0,93.0,112.0,99.0,107.0,71.0,95.0,70.0,73.0,29.0,90.0,64.0,50.0,38.0,69.0,29.0,67.0,94.0,135.0,137.0,90.0,104.0,55.0,62.0,83.0,77.0,74.0,75.0,72.0,103.0,120.0,131.0,100.0,95.0,112.0,138.0,143.0,108.0,91.0,80.0,94.0,132.0,57.0,136.0,63.0,84.0,111.0,99.0,93.0,114.0,122.0,120.0,100.0,67.0,132.0,83.0,54.0,105.0,98.0,112.0,94.0,90.0,75.0,48.0,150.0,126.0,110.0,84.0,118.0,97.0,86.0,98.0,88.0,101.0,82.0,81.0,112.0,88.0,99.0,79.0,88.0,88.0,103.0,115.0,115.0,106.0,162.0,103.0,93.0,116.0,100.0,95.0,102.0,105.0,148.0,105.0,86.0,54.0,61.0,19.0,63.0,59.0,60.0,113.0,92.0,87.0,112.0,26.0,97.0,76.0,71.0,86.0,56.0,60.0,63.0,124.0,94.0,100.0,115.0,102.0,128.0,99.0,88.0,106.0,83.0,78.0,128.0,136.0,132.0,129.0,98.0,62.0,106.0,129.0,120.0,81.0,82.0,85.0,90.0,136.0,89.0,130.0,85.0,90.0,94.0,86.0,102.0,94.0,100.0,119.0,107.0,93.0,109.0,93.0,57.0,64.0,54.0,109.0,96.0,92.0,168.0,93.0,100.0,141.0,139.0,92.0,119.0,84.0,57.0,96.0,122.0,83.0,117.0,93.0,73.0,72.0,72.0,46.0,74.0,46.0,46.0,74.0,71.0,72.0,76.0,23.0,60.0,46.0,91.0,81.0,101.0,119.0,92.0,55.0,137.0,56.0,58.0,80.0,94.0,94.0,97.0,111.0,96.0,135.0,91.0,84.0,121.0,61.0,83.0,103.0,127.0,132.0,117.0,109.0,74.0,94.0,105.0,131.0,105.0,97.0,102.0,93.0,97.0,96.0,97.0,91.0,86.0,88.0,107.0,90.0,153.0,96.0,104.0,96.0,136.0,131.0,135.0,150.0,98.0,158.0,163.0,98.0,77.0,107.0,116.0,135.0,104.0,139.0,85.0,110.0,172.0,128.0,134.0,98.0,79.0,97.0,102.0,106.0,86.0,127.0,94.0,185.0,136.0,105.0,80.0,84.0,97.0,92.0,116.0,95.0,99.0,77.0,121.0,91.0,100.0,91.0,102.0,119.0,100.0,68.0,44.0,72.0,73.0,73.0,44.0,44.0,115.0,61.0,86.0,104.0,82.0,92.0,90.0,99.0,109.0,93.0,100.0,107.0,95.0,111.0,86.0,111.0,108.0,101.0,99.0,100.0,99.0,104.0,138.0,88.0,122.0,141.0,147.0,92.0,73.0,85.0,97.0,91.0,171.0,130.0,80.0,101.0,91.0,99.0,93.0,96.0,102.0,95.0,85.0,97.0,95.0,83.0,115.0,72.0,69.0,76.0,60.0,51.0,61.0,114.0,92.0,82.0,42.0,131.0,165.0,91.0,101.0,53.0,121.0,59.0,110.0,66.0,137.0,103.0,132.0,108.0,108.0,89.0,107.0,91.0,117.0,84.0,96.0,117.0,106.0,124.0,104.0,87.0,113.0,93.0,59.0,118.0,97.0,64.0,94.0,115.0,99.0,107.0,102.0,125.0,208.0,161.0,116.0,106.0,237.0,131.0,102.0,103.0,104.0,109.0,92.0,103.0,96.0,117.0,61.0,89.0,92.0,90.0,91.0,50.0,84.0,87.0,94.0,133.0,97.0,53.0,113.0,53.0,54.0,53.0,54.0,113.0,53.0,53.0,53.0,54.0,54.0,52.0,54.0,54.0,53.0,53.0,53.0,113.0,53.0,86.0,102.0,114.0,99.0,55.0,91.0,117.0,124.0,102.0,122.0,84.0,84.0,120.0,127.0,122.0,125.0,72.0,47.0,23.0,23.0,121.0,107.0,140.0,91.0,89.0,154.0,103.0,103.0,106.0,129.0,102.0,109.0,157.0,146.0,146.0,110.0,121.0,96.0,102.0,96.0,82.0,119.0,169.0,101.0,97.0,116.0,100.0,89.0,92.0,107.0,95.0,101.0,78.0,79.0,86.0,70.0,66.0,73.0,83.0,72.0,111.0,133.0,142.0,166.0,160.0,135.0,135.0,128.0,120.0,92.0,87.0,70.0,31.0,92.0,89.0,102.0,93.0,95.0,86.0,90.0,97.0,90.0,88.0,76.0,86.0,84.0,99.0,96.0,111.0,124.0,93.0,139.0,91.0,86.0,61.0,95.0,107.0,87.0,104.0,122.0,97.0,101.0,96.0,103.0,88.0,93.0,90.0,90.0,92.0,63.0,103.0,103.0,94.0,35.0,85.0,122.0,102.0,110.0,116.0,100.0,105.0,100.0,118.0,105.0,117.0,126.0,129.0,89.0,82.0,44.0,71.0,74.0,130.0,89.0,106.0,107.0,134.0,82.0,82.0,98.0,96.0,108.0,106.0,91.0,163.0,119.0,125.0,137.0,112.0,171.0,69.0,87.0,137.0,89.0,94.0,111.0,74.0,86.0,93.0,93.0,106.0,187.0,109.0,116.0,77.0,84.0,63.0,124.0,72.0,33.0,115.0,84.0,140.0,68.0,90.0,94.0,117.0,105.0,66.0,66.0,91.0,104.0,110.0,114.0,73.0,85.0,112.0,90.0,48.0,109.0,98.0,134.0,95.0,125.0,89.0,89.0,92.0,108.0,102.0,76.0,104.0,72.0,109.0,26.0,105.0,50.0,92.0,95.0,93.0,170.0,170.0,82.0,108.0,129.0,85.0,126.0,159.0,150.0,118.0,125.0,112.0,138.0,96.0,81.0,108.0,128.0,81.0,81.0,90.0,92.0,112.0,130.0,65.0,124.0,127.0,102.0,81.0,146.0,133.0,91.0,81.0,108.0,120.0,162.0,106.0,149.0,92.0,65.0,28.0,19.0,25.0,22.0,40.0,22.0,24.0,87.0,97.0,98.0,98.0,119.0,88.0,122.0,88.0,96.0,114.0,77.0,98.0,102.0,138.0,90.0,128.0,104.0,86.0,124.0,24.0,46.0,24.0,55.0,24.0,23.0,24.0,24.0,106.0,117.0,52.0,164.0,127.0,86.0,84.0,95.0,131.0,152.0,93.0,29.0,97.0,100.0,124.0,163.0,84.0,103.0,92.0,113.0,88.0,83.0,100.0,143.0,102.0,82.0,165.0,119.0,154.0,158.0,92.0,93.0,87.0,91.0,120.0,89.0,24.0,92.0,149.0,136.0,120.0,153.0,96.0,120.0,161.0,137.0,57.0,106.0,98.0,138.0,128.0,125.0,93.0,120.0,124.0,132.0,98.0,162.0,150.0,85.0,155.0,139.0,99.0,113.0,71.0,90.0,83.0,103.0,143.0,64.0,63.0,129.0,93.0,113.0,117.0,93.0,124.0,134.0,119.0,92.0,97.0,88.0,177.0,131.0,119.0,104.0,116.0,113.0,69.0,83.0,32.0,142.0,178.0,133.0,90.0,154.0,100.0,122.0,115.0,159.0,110.0,153.0,126.0,76.0,88.0,86.0,104.0,59.0,230.0,99.0,144.0,98.0,46.0,46.0,127.0,123.0,111.0,101.0,73.0,90.0,81.0,114.0,112.0,80.0,100.0,24.0,100.0,62.0,116.0,96.0,49.0,65.0,84.0,71.0,74.0,59.0,59.0,57.0,88.0,95.0,112.0,112.0,152.0,97.0,97.0,90.0,94.0,105.0,28.0,102.0,124.0,97.0,118.0,95.0,92.0,102.0,100.0,87.0,120.0,84.0,66.0,92.0,31.0,59.0,59.0,105.0,79.0,79.0,99.0,81.0,91.0,101.0,99.0,103.0,88.0,87.0,132.0,83.0,101.0,95.0,107.0,107.0,105.0,118.0,87.0,94.0,73.0,136.0,96.0,97.0,44.0,45.0,92.0,103.0,110.0,139.0,46.0,120.0,119.0,119.0,100.0,92.0,104.0,66.0,53.0,93.0,116.0,103.0,104.0,98.0,80.0,90.0,79.0,142.0,135.0,124.0,110.0,105.0,141.0,122.0,75.0,63.0,93.0,63.0,118.0,89.0,26.0,42.0,62.0,90.0,66.0,119.0,137.0,121.0,137.0,100.0,143.0,79.0,103.0,92.0,89.0,97.0,134.0,116.0,110.0,88.0,115.0,107.0,63.0,69.0,93.0,73.0,72.0,108.0,141.0,57.0,82.0,95.0,117.0,107.0,131.0,172.0,118.0,118.0,128.0,114.0,91.0,83.0,105.0,94.0,137.0,61.0,86.0,86.0,118.0,139.0,173.0,90.0,152.0,134.0,194.0,76.0,99.0,64.0,50.0,49.0,71.0,29.0,110.0,116.0,119.0,107.0,83.0,109.0,65.0,32.0,122.0,113.0,88.0,131.0,228.0,159.0,111.0,86.0,91.0,44.0,72.0,107.0,87.0,117.0,50.0,71.0,102.0,98.0,140.0,145.0,126.0,162.0,131.0,131.0,133.0,127.0,141.0,78.0,150.0,92.0,153.0,83.0,146.0,52.0,95.0,93.0,53.0,73.0,126.0,95.0,119.0,99.0,173.0,93.0,93.0,121.0,88.0,88.0,195.0,120.0,112.0,94.0,77.0,102.0,112.0,121.0,117.0,105.0,96.0,90.0,93.0,110.0,86.0,95.0,49.0,65.0,76.0,63.0,101.0,111.0,98.0,150.0,108.0,54.0,54.0,54.0,55.0,54.0,55.0,55.0,114.0,55.0,55.0,55.0,92.0,87.0,96.0,126.0,117.0,87.0,102.0,106.0,109.0,110.0,69.0,119.0,115.0,108.0,106.0,96.0,85.0,61.0,70.0,103.0,123.0,111.0,116.0,107.0,94.0,123.0,128.0,100.0,102.0,146.0,145.0,103.0,109.0,111.0,100.0,125.0,111.0,146.0,116.0,115.0,126.0,168.0,109.0,107.0,148.0,92.0,91.0,86.0,28.0,135.0,83.0,87.0,71.0,105.0,113.0,105.0,111.0,119.0,112.0,106.0,128.0,163.0,121.0,87.0,103.0,97.0,168.0,131.0,116.0,45.0,75.0,71.0,106.0,122.0,97.0,101.0,89.0,121.0,98.0,130.0,127.0,115.0,96.0,86.0,95.0,93.0,89.0,119.0,105.0,106.0,141.0,88.0,3.0,94.0,77.0,133.0,122.0,52.0,105.0,72.0,101.0,136.0,158.0,143.0,142.0,127.0,92.0,97.0,87.0,83.0,88.0,95.0,105.0,16.0,76.0,96.0,78.0,107.0,80.0,100.0,93.0,49.0,94.0,99.0,101.0,89.0,135.0,107.0,115.0,84.0,95.0,110.0,92.0,95.0,66.0,123.0,83.0,86.0,89.0,134.0,126.0,108.0,137.0,87.0,142.0,80.0,62.0,160.0,5.0,155.0,91.0,94.0,135.0,135.0,104.0,97.0,92.0,87.0,128.0,101.0,77.0,93.0,109.0,110.0,97.0,73.0,131.0,116.0,88.0,106.0,94.0,85.0,130.0,107.0,98.0,94.0,137.0,101.0,108.0,96.0,75.0,83.0,111.0,75.0,139.0,117.0,79.0,46.0,95.0,92.0,29.0,45.0,47.0,129.0,94.0,153.0,112.0,88.0,100.0,83.0,88.0,93.0,140.0,103.0,88.0,86.0,88.0,152.0,33.0,128.0,106.0,69.0,101.0,128.0,94.0,52.0,23.0,140.0,98.0,89.0,108.0,86.0,91.0,122.0,74.0,106.0,100.0,61.0,91.0,113.0,100.0,132.0,96.0,96.0,96.0,91.0,113.0,76.0,127.0,96.0,104.0,95.0,85.0,106.0,117.0,108.0,123.0,105.0,85.0,78.0,97.0,99.0,95.0,42.0,95.0,135.0,130.0,115.0,107.0,44.0,114.0,107.0,93.0,94.0,94.0,113.0,74.0,85.0,63.0,104.0,176.0,28.0,24.0,59.0,24.0,25.0,25.0,24.0,25.0,24.0,127.0,113.0,91.0,108.0,154.0,82.0,140.0,137.0,98.0,86.0,121.0,119.0,85.0,103.0,86.0,92.0,126.0,123.0,185.0,123.0,75.0,112.0,116.0,93.0,83.0,94.0,97.0,108.0,101.0,99.0,104.0,120.0,177.0,162.0,95.0,84.0,97.0,80.0,109.0,88.0,107.0,140.0,120.0,110.0,103.0,112.0,111.0,133.0,102.0,124.0,114.0,148.0,110.0,91.0,81.0,116.0,89.0,72.0,112.0,101.0,98.0,81.0,114.0,125.0,61.0,48.0,128.0,81.0,91.0,121.0,103.0,155.0,119.0,137.0,89.0,87.0,88.0,94.0,125.0,86.0,67.0,78.0,108.0,102.0,127.0,93.0,109.0,115.0,98.0,84.0,133.0,121.0,156.0,135.0,135.0,148.0,131.0,91.0,108.0,130.0,100.0,93.0,108.0,117.0,117.0,95.0,104.0,78.0,87.0,88.0,93.0,107.0,99.0,94.0,90.0,140.0,105.0,91.0,98.0,113.0,89.0,114.0,97.0,97.0,108.0,80.0,79.0,64.0,101.0,115.0,90.0,117.0,101.0,95.0,86.0,94.0,76.0,85.0,102.0,100.0,119.0,87.0,101.0,133.0,112.0,102.0,83.0,89.0,80.0,18.0,112.0,100.0,110.0,96.0,92.0,63.0,72.0,93.0,91.0,73.0,98.0,118.0,121.0,95.0,95.0,116.0,98.0,101.0,86.0,99.0,91.0,130.0,90.0,101.0,106.0,59.0,118.0,120.0,115.0,98.0,111.0,116.0,97.0,95.0,86.0,114.0,122.0,28.0,103.0,122.0,95.0,93.0,107.0,82.0,118.0,119.0,88.0,102.0,119.0,97.0,96.0,103.0,81.0,118.0,96.0,106.0,93.0,109.0,112.0,112.0,96.0,89.0,60.0,113.0,126.0,109.0,93.0,101.0,111.0,107.0,100.0,104.0,115.0,92.0,103.0,90.0,17.0,105.0,102.0,103.0,118.0,105.0,103.0,95.0,101.0,123.0,112.0,114.0,101.0,53.0,81.0,100.0,99.0,102.0,66.0,112.0,83.0,101.0,149.0,99.0,105.0,120.0,93.0,121.0,75.0,92.0,95.0,100.0,93.0,124.0,106.0,154.0,107.0,96.0,97.0,83.0,67.0,151.0,78.0,85.0,139.0,69.0,84.0,88.0,110.0,86.0,108.0,104.0,102.0,113.0,109.0,106.0,117.0,121.0,99.0,139.0,110.0,104.0,95.0,122.0,105.0,96.0,130.0,97.0,87.0,106.0,112.0,148.0,85.0,107.0,76.0,103.0,112.0,95.0,88.0,116.0,121.0,82.0,107.0,87.0,46.0,103.0,97.0,91.0,91.0,111.0,101.0,104.0,92.0,113.0,93.0,151.0,89.0,124.0,115.0,84.0,106.0,97.0,92.0,86.0,46.0,124.0,83.0,100.0,107.0,115.0,104.0,101.0,158.0,95.0,97.0,97.0,89.0,161.0,205.0,123.0,190.0,108.0,136.0,161.0,114.0,128.0,133.0,119.0,101.0,86.0,124.0,105.0,91.0,94.0,168.0,136.0,94.0,85.0,108.0,101.0,116.0,71.0,147.0,88.0,99.0,96.0,132.0,85.0,95.0,97.0,92.0,135.0,36.0,79.0,120.0,53.0,94.0,111.0,123.0,103.0,111.0,123.0,114.0,100.0,84.0,75.0,118.0,96.0,102.0,108.0,99.0,103.0,93.0,101.0,112.0,99.0,129.0,106.0,100.0,209.0,24.0,105.0,93.0,112.0,52.0,106.0,123.0,90.0,140.0,95.0,100.0,121.0,97.0,141.0,118.0,105.0,133.0,76.0,93.0,98.0,86.0,130.0,113.0,98.0,84.0,91.0,104.0,133.0,105.0,149.0,93.0,88.0,131.0,44.0,119.0,99.0,96.0,70.0,107.0,83.0,110.0,116.0,88.0,95.0,96.0,101.0,83.0,121.0,87.0,156.0,87.0,118.0,30.0,95.0,107.0,96.0,110.0,118.0,89.0,85.0,107.0,86.0,83.0,108.0,138.0,119.0,93.0,30.0,91.0,87.0,121.0,95.0,103.0,201.0,179.0,113.0,110.0,94.0,127.0,87.0,87.0,98.0,98.0,82.0,85.0,90.0,46.0,46.0,46.0,103.0,137.0,68.0,107.0,100.0,195.0,98.0,138.0,40.0,137.0,97.0,136.0,138.0,129.0,90.0,116.0,130.0,60.0,88.0,40.0,94.0,113.0,98.0,119.0,91.0,95.0,54.0,86.0,132.0,44.0,104.0,91.0,70.0,102.0,93.0,92.0,114.0,104.0,115.0,85.0,85.0,138.0,40.0,59.0,82.0,107.0,104.0,90.0,121.0,90.0,85.0,99.0,104.0,126.0,97.0,91.0,106.0,95.0,111.0,106.0,108.0,84.0,122.0,111.0,94.0,123.0,86.0,95.0,108.0,94.0,94.0,87.0,124.0,141.0,91.0,93.0,143.0,148.0,91.0,103.0,141.0,110.0,155.0,93.0,78.0,118.0,88.0,89.0,140.0,94.0,124.0,110.0,89.0,100.0,94.0,96.0,116.0,92.0,91.0,111.0,98.0,102.0,97.0,125.0,125.0,132.0,133.0,76.0,117.0,90.0,66.0,105.0,119.0,136.0,52.0,81.0,77.0,108.0,130.0,120.0,102.0,116.0,67.0,90.0,100.0,123.0,90.0,120.0,92.0,93.0,116.0,107.0,95.0,87.0,111.0,14.0,101.0,91.0,105.0,103.0,103.0,90.0,81.0,120.0,107.0,90.0,47.0,111.0,94.0,92.0,92.0,99.0,253.0,124.0,111.0,32.0,98.0,86.0,105.0,100.0,104.0,123.0,100.0,105.0,85.0,108.0,97.0,97.0,91.0,96.0,93.0,122.0,90.0,163.0,110.0,143.0,104.0,103.0,105.0,94.0,121.0,93.0,120.0,95.0,41.0,97.0,84.0,46.0,94.0,94.0,105.0,81.0,103.0,122.0,98.0,90.0,111.0,97.0,91.0,89.0,115.0,98.0,92.0,106.0,139.0,81.0,83.0,123.0,96.0,118.0,110.0,94.0,58.0,96.0,107.0,97.0,103.0,24.0,91.0,136.0,130.0,91.0,104.0,94.0,108.0,91.0,58.0,99.0,106.0,126.0,96.0,93.0,106.0,103.0,130.0,91.0,115.0,91.0,92.0,103.0,72.0,138.0,98.0,125.0,93.0,111.0,112.0,90.0,101.0,101.0,98.0,111.0,117.0,41.0,92.0,117.0,92.0,88.0,126.0,157.0,116.0,47.0,100.0,114.0,128.0,101.0,108.0,53.0,99.0,89.0,90.0,111.0,83.0,85.0,135.0,94.0,104.0,132.0,89.0,97.0,67.0,86.0,158.0,72.0,110.0,98.0,99.0,82.0,180.0,107.0,77.0,123.0,23.0,23.0,23.0,122.0,131.0,77.0,125.0,125.0,139.0,88.0,107.0,96.0,87.0,104.0,133.0,93.0,42.0,56.0,66.0,92.0,58.0,130.0,91.0,108.0,151.0,30.0,30.0,146.0,127.0,98.0,125.0,96.0,135.0,88.0,99.0,78.0,97.0,100.0,102.0,81.0,84.0,88.0,95.0,108.0,108.0,96.0,61.0,63.0,46.0,78.0,86.0,176.0,145.0,89.0,98.0,60.0,57.0,60.0,70.0,74.0,71.0,74.0,63.0,119.0,99.0,117.0,106.0,94.0,108.0,87.0,133.0,106.0,104.0,94.0,114.0,107.0,94.0,59.0,130.0,89.0,81.0,102.0,74.0,47.0,95.0,46.0,88.0,118.0,94.0,114.0,83.0,119.0,79.0,114.0,94.0,111.0,85.0,88.0,82.0,82.0,96.0,100.0,104.0,101.0,99.0,98.0,102.0,100.0,67.0,64.0,96.0,134.0,173.0,113.0,115.0,126.0,96.0,93.0,91.0,27.0,110.0,90.0,128.0,128.0,98.0,108.0,24.0,24.0,24.0,24.0,24.0,46.0,24.0,124.0,88.0,125.0,89.0,162.0,128.0,72.0,90.0,123.0,76.0,96.0,107.0,102.0,53.0,110.0,102.0,86.0,89.0,117.0,80.0,95.0,78.0,90.0,121.0,99.0,137.0,146.0,125.0,115.0,143.0,109.0,137.0,96.0,114.0,94.0,90.0,104.0,190.0,100.0,109.0,116.0,92.0,95.0,104.0,98.0,135.0,113.0,40.0,94.0,87.0,102.0,84.0,108.0,85.0,94.0,61.0,85.0,121.0,94.0,83.0,114.0,92.0,105.0,113.0,97.0,97.0,83.0,95.0,93.0,86.0,110.0,99.0,106.0,112.0,116.0,121.0,62.0,119.0,95.0,130.0,119.0,132.0,86.0,145.0,90.0,144.0,106.0,117.0,130.0,78.0,113.0,82.0,81.0,105.0,126.0,127.0,109.0,156.0,106.0,93.0,110.0,91.0,113.0,97.0,115.0,101.0,91.0,66.0,76.0,68.0,50.0,127.0,100.0,29.0,125.0,116.0,166.0,106.0,106.0,113.0,93.0,96.0,99.0,66.0,119.0,115.0,130.0,120.0,93.0,94.0,111.0,94.0,132.0,109.0,81.0,94.0,100.0,96.0,90.0,66.0,95.0,103.0,61.0,109.0,147.0,123.0,98.0,73.0,92.0,128.0,93.0,78.0,68.0,98.0,74.0,119.0,109.0,86.0,123.0,96.0,83.0,101.0,95.0,91.0,90.0,93.0,38.0,106.0,94.0,89.0,91.0,94.0,72.0,94.0,95.0,149.0,124.0,99.0,73.0,108.0,131.0,80.0,84.0,135.0,106.0,81.0,93.0,96.0,105.0,102.0,92.0,98.0,17.0,124.0,102.0,103.0,99.0,130.0,52.0,91.0,87.0,96.0,92.0,140.0,96.0,93.0,32.0,118.0,110.0,95.0,203.0,82.0,107.0,96.0,75.0,109.0,103.0,97.0,89.0,86.0,97.0,69.0,98.0,98.0,93.0,89.0,120.0,88.0,90.0,91.0,59.0,48.0,78.0,94.0,90.0,102.0,50.0,84.0,126.0,82.0,98.0,86.0,106.0,105.0,93.0,105.0,72.0,100.0,89.0,100.0,104.0,85.0,86.0,99.0,100.0,108.0,106.0,108.0,93.0,102.0,74.0,80.0,92.0,93.0,109.0,132.0,69.0,101.0,97.0,91.0,94.0,147.0,129.0,49.0,93.0,133.0,140.0,45.0,68.0,191.0,135.0,105.0,92.0,91.0,81.0,124.0,101.0,106.0,137.0,15.0,171.0,148.0,132.0,147.0,151.0,97.0,117.0,95.0,90.0,104.0,111.0,112.0,107.0,78.0,96.0,88.0,78.0,54.0,63.0,93.0,87.0,85.0,157.0,116.0,113.0,89.0,107.0,117.0,112.0,94.0,81.0,120.0,115.0,103.0,72.0,88.0,98.0,115.0,130.0,160.0,61.0,101.0,109.0,92.0,131.0,120.0,159.0,89.0,126.0,154.0,96.0,12.0,105.0,89.0,158.0,104.0,88.0,94.0,88.0,99.0,111.0,44.0,90.0],\"xaxis\":\"x\",\"xbins\":{\"end\":312.0,\"size\":0.7,\"start\":3.0},\"yaxis\":\"y\"},{\"legendgroup\":\"freq\",\"marker\":{\"color\":\"#221f1f\"},\"mode\":\"lines\",\"name\":\"freq\",\"showlegend\":false,\"type\":\"scatter\",\"x\":[3.0,3.618,4.236,4.854,5.4719999999999995,6.09,6.708,7.326,7.944,8.562000000000001,9.18,9.798,10.416,11.034,11.652,12.27,12.888,13.506,14.124,14.742,15.36,15.978,16.596,17.214,17.832,18.45,19.068,19.686,20.304,20.922,21.54,22.158,22.776,23.394,24.012,24.63,25.248,25.866,26.484,27.102,27.72,28.338,28.956,29.574,30.192,30.81,31.428,32.046,32.664,33.282,33.9,34.518,35.136,35.754,36.372,36.99,37.608,38.226,38.844,39.462,40.08,40.698,41.316,41.934,42.552,43.17,43.788,44.406,45.024,45.642,46.26,46.878,47.496,48.114,48.732,49.35,49.968,50.586,51.204,51.822,52.44,53.058,53.676,54.294,54.912,55.53,56.148,56.766,57.384,58.002,58.62,59.238,59.856,60.474,61.092,61.71,62.328,62.946,63.564,64.182,64.8,65.418,66.036,66.654,67.272,67.89,68.508,69.126,69.744,70.362,70.98,71.598,72.216,72.834,73.452,74.07,74.688,75.306,75.924,76.542,77.16,77.778,78.396,79.014,79.632,80.25,80.868,81.486,82.104,82.722,83.34,83.958,84.576,85.194,85.812,86.43,87.048,87.666,88.284,88.902,89.52,90.138,90.756,91.374,91.992,92.61,93.228,93.846,94.464,95.082,95.7,96.318,96.936,97.554,98.172,98.79,99.408,100.026,100.644,101.262,101.88,102.498,103.116,103.734,104.352,104.97,105.588,106.206,106.824,107.442,108.06,108.678,109.296,109.914,110.532,111.15,111.768,112.386,113.004,113.622,114.24,114.858,115.476,116.094,116.712,117.33,117.948,118.566,119.184,119.802,120.42,121.038,121.656,122.274,122.892,123.51,124.128,124.746,125.364,125.982,126.6,127.218,127.836,128.454,129.072,129.69,130.308,130.926,131.544,132.162,132.78,133.398,134.016,134.634,135.252,135.87,136.488,137.106,137.724,138.342,138.96,139.578,140.196,140.814,141.432,142.05,142.668,143.286,143.904,144.522,145.14,145.758,146.376,146.994,147.612,148.23,148.848,149.466,150.084,150.702,151.32,151.938,152.556,153.174,153.792,154.41,155.028,155.646,156.264,156.882,157.5,158.118,158.736,159.354,159.972,160.59,161.208,161.826,162.444,163.062,163.68,164.298,164.916,165.534,166.152,166.77,167.388,168.006,168.624,169.242,169.86,170.478,171.096,171.714,172.332,172.95,173.568,174.186,174.804,175.422,176.04,176.658,177.276,177.894,178.512,179.13,179.748,180.366,180.984,181.602,182.22,182.838,183.456,184.074,184.692,185.31,185.928,186.546,187.164,187.782,188.4,189.018,189.636,190.254,190.872,191.49,192.108,192.726,193.344,193.962,194.58,195.198,195.816,196.434,197.052,197.67,198.288,198.906,199.524,200.142,200.76,201.378,201.996,202.614,203.232,203.85,204.468,205.086,205.704,206.322,206.94,207.558,208.176,208.794,209.412,210.03,210.648,211.266,211.884,212.502,213.12,213.738,214.356,214.974,215.592,216.21,216.828,217.446,218.064,218.682,219.3,219.918,220.536,221.154,221.772,222.39,223.008,223.626,224.244,224.862,225.48,226.098,226.716,227.334,227.952,228.57,229.188,229.806,230.424,231.042,231.66,232.278,232.896,233.514,234.132,234.75,235.368,235.986,236.604,237.222,237.84,238.458,239.076,239.694,240.312,240.93,241.548,242.166,242.784,243.402,244.02,244.638,245.256,245.874,246.492,247.11,247.728,248.346,248.964,249.582,250.2,250.818,251.436,252.054,252.672,253.29,253.908,254.526,255.144,255.762,256.38,256.998,257.616,258.23400000000004,258.852,259.47,260.088,260.706,261.324,261.942,262.56,263.178,263.796,264.414,265.032,265.65,266.268,266.886,267.504,268.122,268.74,269.358,269.976,270.594,271.212,271.83,272.448,273.066,273.684,274.302,274.92,275.538,276.156,276.774,277.392,278.01,278.628,279.246,279.864,280.482,281.1,281.718,282.336,282.954,283.572,284.19,284.808,285.426,286.044,286.662,287.28,287.898,288.516,289.134,289.752,290.37,290.988,291.606,292.224,292.842,293.46,294.078,294.696,295.314,295.932,296.55,297.168,297.786,298.404,299.022,299.64,300.258,300.876,301.494,302.112,302.73,303.348,303.966,304.584,305.202,305.82,306.438,307.056,307.674,308.292,308.91,309.528,310.146,310.764,311.382],\"xaxis\":\"x\",\"y\":[4.66322213307052e-05,5.0161070073089546e-05,5.393163450834664e-05,5.795841147039067e-05,6.225660959497048e-05,6.684217285298847e-05,7.173180404577725e-05,7.694298819094002e-05,8.249401572245554e-05,8.840400542378268e-05,9.469292700768869e-05,0.00010138162325147414,0.0001084918315912281,0.00011604620507369856,0.00012406833255936334,0.0001325827580653477,0.00014161499913197329,0.00015119156409197786,0.00016133996811685297,0.00017208874791030423,0.0001834674749146157,0.00019550676689171465,0.00020823829773699307,0.0002216948053805287,0.0002359100976272677,0.00025091905578500417,0.0002667576359267011,0.00028346286763183053,0.00030107285005004104,0.0003196267451296043,0.0003391647678527803,0.00035972817332055026,0.00038135924053006885,0.00040410125268978384,0.000427998473919427,0.00045309612218511603,0.000479440338323549,0.0005070781510138283,0.0005360574375608516,0.0005664268803603712,0.000598235918922936,0.0006315346973418676,0.0006663740070992783,0.0007028052251138932,0.0007408802469451511,0.000780651415079616,0.0008221714422383242,0.0008654933296570787,0.000910670280306137,0.0009577556070309499,0.0010068026356118026,0.0010578646027571757,0.0011109945490635417,0.0011662452069928695,0.0012236688839385825,0.0012833173404707655,0.001345241663872199,0.0014094921370981736,0.0014761181033148968,0.0015451678261937927,0.0016166883461616204,0.0016907253328295752,0.0017673229338477819,0.0018465236204550917,0.001928368030017631,0.002012894805873002,0.0021001404348203897,0.002190139082619854,0.0022829224278868134,0.002378519494789911,0.0024769564849820586,0.002578256609215352,0.002682439919110532,0.0027895231395708418,0.002899519502347995,0.003012438581284828,0.0031282861297746486,0.0032470639209912196,0.0033687695914558545,0.0034933964885187282,0.003620933522340535,0.003751365022967661,0.0038846706030990145,0.004020825027145709,0.00415979808718546,0.004301554486412046,0.004446053730676385,0.004593250028709399,0.004743092201608181,0.004895523602155616,0.005050482044529879,0.00520789974494378,0.005367703273734888,0.005529813519405881,0.005694145665090287,0.005860609177892051,0.006029107811518163,0.006199539622591691,0.006371797000998544,0.006545766714584613,0.006721329968481269,0.00689836247929628,0.007076734564364065,0.007256311246204653,0.007436952372293651,0.007618512750197623,0.007800842298079364,0.007983786210526594,0.00816718513960545,0.008350875390987368,0.008534689134943959,0.008718454631950534,0.008901996472584535,0.009085135831350467,0.009267690734008883,0.00944947633793308,0.009630305224963956,0.009809987706181378,0.009988332137959223,0.0101651452486216,0.010340232474969818,0.010513398307903337,0.01068444664631396,0.010853181158390866,0.011019405649434676,0.011182924435242506,0.01134354272009241,0.011501066978325269,0.01165530533849516,0.011806067969035827,0.011953167464370841,0.012096419230379046,0.01223564186811474,0.012370657554673599,0.012501292420091523,0.012627376919163463,0.012748746197073491,0.012865240447736011,0.012976705263760496,0.013082991976969284,0.013183957988419004,0.013279467086901435,0.01336938975492916,0.01345360346124451,0.01353199293892771,0.013604450448221042,0.01367087602323047,0.013731177701714153,0.013785271737218625,0.01383308279287777,0.013874544116246803,0.013909597694603386,0.01393819439021016,0.013960294055097175,0.013975865624988962,0.013984887192068631,0.013987346056340404,0.013983238755422064,0.01397257107266943,0.013955358023606245,0.013931623820703959,0.013901401816627159,0.013864734426130735,0.013821673026864918,0.013772277839412813,0.013716617786952604,0.013654770335002115,0.013586821311767354,0.013512864709678206,0.013433002468753534,0.0133473442424946,0.013256007147059172,0.013159115494519239,0.01305680051105244,0.012949200040961005,0.01283645823745204,0.012718725241149378,0.012596156847339392,0.012468914162981707,0.012337163254539952,0.01220107478770763,0.012060823660120363,0.011916588628157128,0.011768551928940621,0.011616898898650157,0.011461817588259319,0.011303498377805527,0.011142133590289545,0.01097791710628955,0.010811043980357558,0.01064171006024505,0.010470111609980256,0.010296444937791752,0.010120906029841878,0.009943690190699092,0.009764991691441512,0.009585003426243802,0.009403916578257258,0.009221920295548495,0.00903920137781524,0.008855943974549413,0.008672329295267615,0.008488535332377712,0.008304736597197694,0.008121103869589806,0.007937803961618743,0.007754999495588665,0.007572848696759074,0.007391505200985375,0.007211117877475813,0.0070318306668029195,0.006853782434254965,0.006677106838560884,0.006501932215971549,0.0063283814796309115,0.006156572034122627,0.005986615705031445,0.005818618683314527,0.005652681484235025,0.005488898920570142,0.005327360089767553,0.005168148374688046,0.005011341457538906,0.00485701134657116,0.004705224415085358,0.00455604145226428,0.004409517725327664,0.004265703052482783,0.004124641886126689,0.00398637340573997,0.003850931619898724,0.0037183454768209005,0.0035886389828549605,0.0034618313283131153,0.0033379370200482513,0.0032169660201725866,0.003098923890317439,0.0029838119408370535,0.002871627384364808,0.0027623634931379015,0.002656009759515792,0.002552552059128978,0.00245197281610751,0.0023542511698529858,0.0022593631428335205,0.002167281808898422,0.0020779774616273843,0.001991417782248481,0.0019075680066794212,0.0018263910912676724,0.0017478478768266968,0.0016718972505880634,0.00159849630571183,0.0015276004980208043,0.0014591637996476988,0.0013931388493075667,0.0013294770989315877,0.0012681289564216098,0.0012090439243081642,0.0011521707341177008,0.0010974574762774984,0.0010448517254088951,0.000994300660881379,0.0009457511825211751,0.0008991500213886813,0.0008544438455589344,0.0008115793608585804,0.0007705034065311926,0.0007311630458204718,0.0006935056514776175,0.0006574789862151115,0.0006230312781441975,0.0005901112912474528,0.0005586683909511229,0.0005286526048741433,0.0005000146788421599,0.0004727061282653228,0.00044667928498815987,0.000421887339728433,0.0003982843802296638,0.0003758254252588269,0.0003544664545867222,0.0003341644350937043,0.00031487734314780295,0.0002965641834058195,0.0002791850041908401,0.00026270090960167354,0.00024707406851115385,0.0002322677206109976,0.00021824617966103863,0.0002049748341002421,0.0001924201451758809,0.00018054964274577407,0.0001693319189065145,0.0001587366195981932,0.000148734434333323,0.00013929708419449605,0.00013039730824179963,0.00012200884846722148,0.00011410643342922229,0.00010666576069637546,9.966347822448261e-05,9.307716478695493e-05,8.688530957345746e-05,8.106729106694072e-05,7.560335530422364e-05,7.047459362027334e-05,6.566291997129144e-05,6.115104792665617e-05,5.692246741473826e-05,5.296142130260423e-05,4.925288188466621e-05,4.5782527350453876e-05,4.253671829688704e-05,3.950247434571893e-05,3.666745092222929e-05,3.401991624677395e-05,3.154872858645241e-05,2.924331380995135e-05,2.7093643284565945e-05,2.509021215049133e-05,2.322401800372844e-05,2.148654001535948e-05,1.9869718511523298e-05,1.8365935035158226e-05,1.6967992907489682e-05,1.566909830430964e-05,1.446284185933424e-05,1.3343180804329808e-05,1.2304421653261375e-05,1.1341203435446157e-05,1.0448481480574588e-05,9.621511756499748e-06,8.855835758881519e-06,8.14726595010267e-06,7.4918717433459874e-06,6.88596602632987e-06,6.326092217936929e-06,5.809011849834148e-06,5.331692664166606e-06,4.891297217504005e-06,4.485171980425545e-06,4.1108369214385895e-06,3.765975563332577e-06,3.448425499568676e-06,3.156169357890073e-06,2.887326198003526e-06,2.640143329923331e-06,2.4129885393797597e-06,2.204342706569723e-06,2.0127928044626644e-06,1.8370252628657838e-06,1.6758196844929356e-06,1.5280428993687506e-06,1.3926433440275503e-06,1.2686457521322445e-06,1.1551461433374026e-06,1.0513070974495945e-06,9.563533011927436e-07,8.695673551641109e-07,7.90285828863755e-07,7.178955519943858e-07,6.518301305563795e-07,5.915666766020779e-07,5.366227408616974e-07,4.865534378079984e-07,4.4094875308662216e-07,3.994310236012937e-07,3.6165258090661065e-07,3.2729354892414134e-07,2.960597873586533e-07,2.6768097254921733e-07,2.419088078435682e-07,2.1851535593236433e-07,1.9729148592213063e-07,1.7804542826067984e-07,1.6060143095627867e-07,1.447985108509682e-07,1.3048929401889382e-07,1.1753893966181749e-07,1.0582414216586261e-07,9.523220626574325e-08,8.566019053503179e-08,7.70141146834024e-08,6.920822639407719e-08,6.216432367697526e-08,5.581112894532492e-08,5.008371124582109e-08,4.492295328490895e-08,4.027506009661731e-08,3.6091106390691574e-08,3.232661980381225e-08,2.8941197451640503e-08,2.5898153345540643e-08,2.3164194395352576e-08,2.0709122868778086e-08,1.8505563319086185e-08,1.652871212621179e-08,1.4756107922202995e-08,1.3167421290653488e-08,1.1744262241535253e-08,1.0470004068001756e-08,9.329622290560448e-09,8.309547486796966e-09,7.397530891855147e-09,6.582521736410038e-09,5.854555365193592e-09,5.2046512505004226e-09,4.624720081778711e-09,4.10747917464538e-09,3.6463755006983888e-09,3.2355156935657598e-09,2.869602436958229e-09,2.5438766872945615e-09,2.254065226956374e-09,1.996333084600576e-09,1.7672403964058377e-09,1.5637033168319402e-09,1.382958619609018e-09,1.222531659404423e-09,1.0802073921017184e-09,9.540041770146562e-10,8.42150107790788e-10,7.430616403686453e-10,6.553243062639587e-10,5.776753177939474e-10,5.089878887158223e-10,4.482571092613705e-10,3.9458722879294144e-10,3.471802123800233e-10,3.053254495868004e-10,2.6839050475086356e-10,2.3581280809787646e-10,2.0709219624742842e-10,1.8178421908768177e-10,1.5949413769279596e-10,1.398715449845971e-10,1.226055472523114e-10,1.0742045049089428e-10,9.407190084565578e-11,8.234343330120084e-11,7.204338716584734e-11,6.300215091499407e-11,5.506970260251223e-11,4.8113415359112956e-11,4.201610049975769e-11,3.6674263485045696e-11,3.1996550448566687e-11,2.7902365235995773e-11,2.4320638922886892e-11,2.1188735605688353e-11,1.8451479911901455e-11,1.6060293166519534e-11,1.3972426497525521e-11,1.2150280376737885e-11,1.0560801185893225e-11,9.174946382754665e-12,7.967210728454333e-12,6.915206834545067e-12,5.999294004842024e-12,5.202249990831096e-12,4.5089808572464985e-12,3.906264672780507e-12,3.382525205606353e-12,2.927632219758495e-12,2.5327253412072797e-12,2.1900587960457263e-12,1.892864621501161e-12,1.6352322170626317e-12,1.412002341097311e-12,1.2186738708276534e-12,1.0513218330868845e-12,9.065253822374502e-13,7.813045521651477e-13,6.730647432798765e-13,5.795480247006217e-13,4.987904378375084e-13,4.290845818161449e-13,3.6894684487916485e-13,3.1708872018217385e-13,2.723917102929314e-13,2.338853831160033e-13,2.007281937172919e-13,1.721907323459768e-13,1.47641099500068e-13,1.2653214474134678e-13,1.0839033765951841e-13,9.280606738051423e-14,7.942519172735491e-14,6.794167894526582e-14,5.809120412710149e-14,4.964557941555646e-14,4.2407911977628015e-14,3.6208396877719046e-14,3.09006635261721e-14,2.635860453412147e-14,2.2473624726889203e-14,1.915225590179995e-14,1.6314089790846832e-14,1.3889987717948741e-14],\"yaxis\":\"y\"},{\"legendgroup\":\"freq\",\"marker\":{\"color\":\"#221f1f\",\"symbol\":\"line-ns-open\"},\"mode\":\"markers\",\"name\":\"freq\",\"showlegend\":false,\"type\":\"scatter\",\"x\":[93.0,78.0,80.0,123.0,95.0,119.0,118.0,143.0,103.0,89.0,91.0,149.0,144.0,124.0,87.0,110.0,128.0,117.0,100.0,84.0,99.0,95.0,90.0,102.0,104.0,99.0,105.0,56.0,125.0,119.0,81.0,97.0,106.0,99.0,107.0,93.0,89.0,105.0,87.0,97.0,109.0,93.0,109.0,44.0,75.0,101.0,89.0,90.0,90.0,93.0,101.0,113.0,89.0,84.0,102.0,102.0,114.0,130.0,90.0,94.0,97.0,143.0,91.0,107.0,95.0,119.0,93.0,101.0,93.0,140.0,135.0,82.0,70.0,104.0,117.0,121.0,92.0,124.0,164.0,53.0,93.0,91.0,83.0,93.0,114.0,116.0,93.0,81.0,84.0,105.0,86.0,120.0,106.0,92.0,96.0,97.0,99.0,100.0,126.0,96.0,75.0,94.0,129.0,80.0,103.0,96.0,77.0,137.0,148.0,123.0,121.0,95.0,28.0,99.0,104.0,122.0,104.0,94.0,176.0,107.0,90.0,94.0,101.0,87.0,92.0,85.0,93.0,22.0,95.0,86.0,137.0,101.0,68.0,121.0,111.0,110.0,29.0,142.0,168.0,102.0,92.0,86.0,22.0,22.0,21.0,59.0,93.0,86.0,80.0,109.0,92.0,92.0,89.0,96.0,95.0,87.0,93.0,113.0,20.0,117.0,97.0,98.0,108.0,125.0,91.0,76.0,90.0,82.0,111.0,92.0,110.0,94.0,100.0,91.0,94.0,44.0,108.0,130.0,83.0,123.0,106.0,87.0,130.0,100.0,96.0,89.0,95.0,26.0,156.0,98.0,30.0,108.0,92.0,28.0,99.0,85.0,122.0,84.0,57.0,107.0,102.0,103.0,91.0,104.0,91.0,110.0,111.0,77.0,99.0,122.0,150.0,117.0,126.0,148.0,122.0,95.0,133.0,164.0,115.0,154.0,133.0,110.0,127.0,146.0,136.0,100.0,90.0,88.0,131.0,44.0,101.0,123.0,90.0,89.0,87.0,24.0,88.0,133.0,110.0,112.0,129.0,87.0,87.0,120.0,59.0,74.0,96.0,91.0,59.0,105.0,63.0,111.0,96.0,99.0,92.0,86.0,90.0,63.0,106.0,38.0,93.0,87.0,25.0,105.0,94.0,107.0,89.0,92.0,22.0,174.0,60.0,97.0,122.0,91.0,84.0,97.0,127.0,153.0,158.0,151.0,150.0,105.0,109.0,81.0,162.0,104.0,54.0,94.0,83.0,85.0,106.0,60.0,102.0,88.0,51.0,100.0,131.0,109.0,69.0,106.0,115.0,60.0,64.0,110.0,54.0,147.0,112.0,87.0,63.0,88.0,42.0,90.0,89.0,79.0,101.0,102.0,122.0,85.0,83.0,92.0,40.0,84.0,104.0,91.0,109.0,100.0,90.0,90.0,94.0,99.0,90.0,95.0,92.0,103.0,103.0,103.0,45.0,45.0,90.0,106.0,75.0,98.0,112.0,92.0,103.0,104.0,92.0,172.0,125.0,96.0,44.0,81.0,112.0,122.0,101.0,53.0,53.0,110.0,10.0,99.0,95.0,119.0,163.0,55.0,84.0,96.0,102.0,90.0,106.0,72.0,127.0,116.0,128.0,61.0,57.0,80.0,80.0,75.0,75.0,79.0,93.0,129.0,108.0,87.0,71.0,97.0,91.0,83.0,85.0,116.0,130.0,111.0,113.0,97.0,102.0,106.0,160.0,137.0,171.0,171.0,104.0,95.0,90.0,128.0,103.0,121.0,30.0,48.0,139.0,105.0,104.0,162.0,157.0,15.0,106.0,130.0,88.0,146.0,64.0,104.0,127.0,92.0,100.0,72.0,118.0,110.0,65.0,64.0,59.0,122.0,90.0,60.0,134.0,89.0,161.0,86.0,87.0,130.0,107.0,80.0,79.0,62.0,93.0,81.0,87.0,54.0,98.0,113.0,91.0,89.0,63.0,110.0,98.0,125.0,106.0,93.0,139.0,90.0,123.0,168.0,83.0,101.0,94.0,100.0,117.0,133.0,81.0,91.0,104.0,106.0,112.0,122.0,102.0,88.0,99.0,186.0,49.0,94.0,90.0,95.0,97.0,110.0,97.0,73.0,88.0,150.0,97.0,91.0,92.0,111.0,101.0,112.0,73.0,89.0,129.0,58.0,80.0,65.0,99.0,126.0,135.0,127.0,165.0,166.0,166.0,138.0,159.0,160.0,159.0,136.0,112.0,101.0,143.0,127.0,98.0,61.0,95.0,86.0,84.0,111.0,92.0,102.0,97.0,90.0,119.0,147.0,99.0,130.0,87.0,83.0,83.0,105.0,91.0,117.0,117.0,78.0,75.0,78.0,149.0,103.0,108.0,84.0,94.0,95.0,141.0,122.0,134.0,107.0,126.0,122.0,95.0,88.0,101.0,74.0,64.0,74.0,74.0,83.0,72.0,79.0,72.0,80.0,75.0,75.0,72.0,109.0,132.0,110.0,99.0,144.0,91.0,105.0,166.0,103.0,128.0,118.0,87.0,77.0,98.0,94.0,125.0,29.0,102.0,121.0,116.0,110.0,88.0,52.0,89.0,52.0,137.0,51.0,110.0,92.0,119.0,81.0,73.0,75.0,99.0,89.0,121.0,100.0,92.0,100.0,98.0,97.0,97.0,86.0,105.0,100.0,96.0,115.0,99.0,76.0,113.0,88.0,106.0,127.0,90.0,74.0,91.0,85.0,90.0,102.0,90.0,87.0,100.0,25.0,94.0,105.0,99.0,116.0,82.0,120.0,77.0,92.0,107.0,62.0,57.0,70.0,98.0,77.0,44.0,97.0,100.0,104.0,56.0,108.0,83.0,91.0,149.0,112.0,102.0,98.0,107.0,59.0,120.0,151.0,116.0,112.0,117.0,130.0,74.0,150.0,63.0,138.0,148.0,114.0,123.0,97.0,105.0,107.0,106.0,87.0,93.0,88.0,126.0,107.0,103.0,90.0,68.0,100.0,95.0,108.0,86.0,81.0,65.0,67.0,78.0,69.0,28.0,34.0,61.0,56.0,81.0,97.0,132.0,110.0,66.0,127.0,131.0,107.0,124.0,38.0,115.0,88.0,97.0,116.0,132.0,117.0,137.0,100.0,79.0,162.0,144.0,79.0,312.0,135.0,83.0,114.0,88.0,116.0,91.0,83.0,80.0,90.0,106.0,129.0,94.0,94.0,120.0,83.0,91.0,130.0,91.0,102.0,85.0,88.0,110.0,113.0,123.0,180.0,98.0,81.0,90.0,90.0,94.0,112.0,129.0,85.0,108.0,60.0,60.0,97.0,47.0,99.0,83.0,168.0,116.0,99.0,106.0,130.0,161.0,111.0,26.0,92.0,102.0,99.0,89.0,108.0,123.0,86.0,89.0,88.0,126.0,117.0,111.0,79.0,96.0,70.0,87.0,89.0,86.0,74.0,139.0,112.0,84.0,100.0,80.0,86.0,105.0,90.0,63.0,96.0,89.0,90.0,102.0,51.0,92.0,94.0,96.0,108.0,105.0,81.0,105.0,116.0,77.0,61.0,110.0,110.0,94.0,51.0,118.0,100.0,95.0,133.0,97.0,110.0,90.0,120.0,155.0,91.0,90.0,90.0,129.0,103.0,103.0,14.0,95.0,103.0,73.0,94.0,95.0,94.0,97.0,98.0,98.0,119.0,76.0,104.0,148.0,78.0,102.0,94.0,98.0,108.0,128.0,110.0,122.0,177.0,104.0,135.0,127.0,114.0,98.0,87.0,151.0,78.0,73.0,125.0,126.0,101.0,11.0,11.0,22.0,93.0,95.0,105.0,104.0,104.0,117.0,101.0,120.0,114.0,93.0,104.0,99.0,9.0,103.0,126.0,81.0,46.0,104.0,92.0,142.0,131.0,113.0,83.0,67.0,63.0,82.0,119.0,98.0,98.0,85.0,84.0,82.0,111.0,145.0,125.0,108.0,81.0,108.0,141.0,117.0,74.0,96.0,82.0,75.0,77.0,60.0,107.0,156.0,110.0,116.0,148.0,126.0,135.0,110.0,129.0,132.0,118.0,166.0,112.0,164.0,102.0,121.0,87.0,95.0,86.0,106.0,121.0,115.0,98.0,106.0,94.0,85.0,121.0,121.0,113.0,89.0,129.0,99.0,105.0,116.0,115.0,71.0,75.0,135.0,88.0,87.0,63.0,62.0,62.0,112.0,113.0,82.0,25.0,98.0,87.0,63.0,112.0,127.0,111.0,63.0,92.0,105.0,146.0,96.0,90.0,114.0,101.0,80.0,84.0,66.0,55.0,98.0,65.0,92.0,99.0,59.0,119.0,87.0,106.0,87.0,112.0,88.0,105.0,101.0,86.0,86.0,91.0,99.0,104.0,86.0,104.0,47.0,56.0,61.0,34.0,158.0,118.0,127.0,130.0,115.0,86.0,87.0,109.0,151.0,106.0,130.0,69.0,77.0,110.0,102.0,88.0,106.0,91.0,98.0,103.0,89.0,108.0,104.0,124.0,95.0,112.0,96.0,172.0,124.0,90.0,95.0,85.0,51.0,137.0,57.0,98.0,91.0,88.0,69.0,120.0,98.0,98.0,73.0,66.0,62.0,56.0,118.0,110.0,114.0,112.0,105.0,92.0,117.0,137.0,84.0,52.0,96.0,112.0,90.0,106.0,106.0,116.0,97.0,100.0,127.0,96.0,88.0,45.0,8.0,101.0,12.0,69.0,88.0,91.0,103.0,88.0,75.0,90.0,90.0,97.0,67.0,112.0,102.0,114.0,107.0,110.0,14.0,78.0,80.0,108.0,67.0,40.0,81.0,120.0,101.0,114.0,95.0,90.0,45.0,99.0,93.0,82.0,96.0,96.0,59.0,58.0,102.0,107.0,156.0,82.0,118.0,133.0,153.0,135.0,117.0,103.0,93.0,82.0,115.0,151.0,103.0,117.0,64.0,100.0,81.0,70.0,52.0,161.0,97.0,55.0,78.0,103.0,108.0,75.0,113.0,98.0,100.0,91.0,93.0,81.0,90.0,113.0,97.0,104.0,116.0,121.0,112.0,66.0,85.0,84.0,77.0,97.0,73.0,107.0,91.0,76.0,81.0,110.0,90.0,94.0,78.0,97.0,86.0,86.0,94.0,83.0,43.0,100.0,92.0,149.0,93.0,91.0,88.0,100.0,94.0,111.0,71.0,53.0,101.0,146.0,93.0,107.0,156.0,82.0,137.0,79.0,92.0,128.0,101.0,102.0,102.0,96.0,62.0,56.0,99.0,83.0,140.0,62.0,70.0,66.0,74.0,50.0,69.0,94.0,88.0,76.0,107.0,90.0,79.0,136.0,99.0,97.0,88.0,137.0,87.0,108.0,94.0,123.0,128.0,157.0,114.0,127.0,127.0,102.0,124.0,132.0,113.0,93.0,113.0,96.0,90.0,133.0,90.0,69.0,23.0,23.0,165.0,185.0,174.0,176.0,166.0,145.0,109.0,118.0,154.0,115.0,90.0,108.0,134.0,107.0,111.0,87.0,112.0,107.0,95.0,165.0,91.0,106.0,121.0,200.0,93.0,118.0,120.0,90.0,99.0,90.0,107.0,89.0,169.0,148.0,83.0,96.0,99.0,95.0,88.0,94.0,115.0,113.0,93.0,93.0,92.0,98.0,65.0,127.0,105.0,97.0,114.0,134.0,142.0,105.0,105.0,110.0,94.0,104.0,126.0,94.0,69.0,82.0,86.0,86.0,103.0,94.0,103.0,97.0,84.0,98.0,97.0,68.0,27.0,46.0,46.0,46.0,42.0,92.0,109.0,46.0,89.0,92.0,162.0,119.0,99.0,97.0,100.0,102.0,94.0,92.0,97.0,93.0,162.0,85.0,110.0,170.0,165.0,141.0,88.0,52.0,90.0,81.0,91.0,107.0,106.0,92.0,140.0,127.0,82.0,98.0,69.0,90.0,92.0,103.0,80.0,65.0,133.0,153.0,100.0,109.0,102.0,124.0,105.0,120.0,134.0,151.0,141.0,120.0,106.0,109.0,105.0,89.0,123.0,119.0,85.0,82.0,52.0,106.0,48.0,73.0,122.0,74.0,95.0,73.0,79.0,94.0,143.0,81.0,196.0,84.0,28.0,27.0,98.0,119.0,90.0,109.0,93.0,92.0,49.0,90.0,102.0,82.0,128.0,90.0,74.0,94.0,87.0,108.0,151.0,40.0,109.0,91.0,163.0,66.0,93.0,124.0,85.0,59.0,103.0,105.0,102.0,107.0,52.0,81.0,99.0,69.0,88.0,120.0,95.0,100.0,91.0,110.0,124.0,96.0,69.0,91.0,96.0,103.0,102.0,96.0,98.0,133.0,124.0,127.0,102.0,134.0,108.0,133.0,103.0,58.0,79.0,101.0,78.0,96.0,103.0,81.0,95.0,117.0,110.0,25.0,108.0,99.0,106.0,103.0,92.0,90.0,60.0,89.0,54.0,106.0,61.0,150.0,80.0,124.0,98.0,82.0,99.0,92.0,29.0,109.0,91.0,33.0,102.0,114.0,146.0,94.0,75.0,158.0,61.0,90.0,72.0,95.0,100.0,97.0,118.0,92.0,70.0,110.0,58.0,91.0,60.0,86.0,91.0,63.0,133.0,103.0,117.0,181.0,118.0,101.0,204.0,29.0,92.0,94.0,118.0,98.0,90.0,93.0,125.0,106.0,114.0,40.0,83.0,117.0,99.0,60.0,60.0,91.0,96.0,102.0,90.0,123.0,103.0,137.0,90.0,112.0,49.0,61.0,78.0,124.0,60.0,104.0,83.0,163.0,119.0,74.0,102.0,83.0,88.0,86.0,66.0,90.0,134.0,92.0,145.0,105.0,95.0,93.0,93.0,84.0,112.0,93.0,81.0,98.0,123.0,132.0,74.0,87.0,105.0,109.0,96.0,61.0,88.0,125.0,118.0,113.0,100.0,79.0,86.0,61.0,54.0,66.0,87.0,70.0,32.0,85.0,91.0,105.0,93.0,65.0,115.0,91.0,58.0,51.0,139.0,112.0,135.0,99.0,103.0,116.0,72.0,86.0,104.0,97.0,92.0,161.0,104.0,93.0,35.0,93.0,99.0,106.0,47.0,52.0,97.0,85.0,135.0,75.0,110.0,88.0,91.0,134.0,82.0,87.0,106.0,109.0,97.0,88.0,98.0,110.0,88.0,123.0,104.0,128.0,91.0,132.0,88.0,58.0,57.0,126.0,101.0,108.0,111.0,135.0,96.0,98.0,98.0,98.0,102.0,86.0,148.0,167.0,96.0,109.0,70.0,78.0,79.0,78.0,62.0,96.0,95.0,126.0,97.0,107.0,118.0,130.0,154.0,90.0,107.0,95.0,96.0,52.0,87.0,103.0,109.0,98.0,101.0,103.0,110.0,104.0,85.0,101.0,129.0,163.0,100.0,78.0,58.0,47.0,110.0,145.0,58.0,56.0,22.0,95.0,161.0,141.0,115.0,101.0,96.0,68.0,58.0,90.0,126.0,106.0,92.0,103.0,82.0,71.0,121.0,77.0,91.0,77.0,86.0,103.0,42.0,60.0,111.0,103.0,129.0,113.0,106.0,105.0,101.0,91.0,88.0,137.0,22.0,130.0,89.0,110.0,112.0,135.0,148.0,100.0,101.0,96.0,115.0,96.0,90.0,103.0,75.0,99.0,99.0,93.0,90.0,90.0,101.0,145.0,95.0,92.0,102.0,90.0,144.0,137.0,98.0,109.0,150.0,117.0,93.0,96.0,133.0,71.0,80.0,57.0,98.0,110.0,131.0,95.0,102.0,66.0,65.0,114.0,96.0,97.0,106.0,82.0,78.0,67.0,84.0,95.0,120.0,149.0,126.0,90.0,143.0,113.0,106.0,155.0,57.0,121.0,91.0,100.0,101.0,137.0,138.0,125.0,95.0,154.0,106.0,116.0,116.0,97.0,93.0,129.0,111.0,117.0,65.0,158.0,110.0,108.0,79.0,95.0,81.0,99.0,86.0,73.0,70.0,68.0,86.0,138.0,110.0,78.0,127.0,129.0,91.0,179.0,113.0,79.0,105.0,93.0,98.0,94.0,79.0,96.0,67.0,99.0,62.0,55.0,101.0,88.0,95.0,87.0,83.0,90.0,100.0,73.0,135.0,151.0,109.0,109.0,89.0,99.0,86.0,86.0,85.0,129.0,98.0,93.0,111.0,58.0,95.0,89.0,97.0,89.0,90.0,104.0,119.0,92.0,107.0,124.0,87.0,91.0,94.0,118.0,86.0,102.0,122.0,126.0,117.0,65.0,118.0,126.0,87.0,156.0,97.0,96.0,89.0,97.0,40.0,143.0,81.0,88.0,87.0,96.0,104.0,129.0,124.0,118.0,111.0,125.0,120.0,91.0,137.0,104.0,80.0,127.0,141.0,117.0,140.0,95.0,93.0,97.0,118.0,100.0,118.0,150.0,44.0,54.0,170.0,118.0,126.0,128.0,104.0,105.0,86.0,94.0,106.0,92.0,108.0,89.0,95.0,103.0,92.0,102.0,126.0,87.0,138.0,73.0,84.0,111.0,100.0,119.0,94.0,86.0,142.0,95.0,95.0,80.0,79.0,81.0,120.0,61.0,85.0,104.0,96.0,91.0,134.0,93.0,120.0,83.0,82.0,88.0,102.0,101.0,96.0,97.0,105.0,101.0,86.0,88.0,84.0,89.0,113.0,110.0,105.0,116.0,94.0,110.0,104.0,116.0,47.0,102.0,51.0,143.0,103.0,104.0,127.0,83.0,193.0,176.0,95.0,149.0,131.0,79.0,101.0,97.0,89.0,91.0,140.0,85.0,85.0,150.0,82.0,117.0,84.0,106.0,107.0,90.0,98.0,82.0,87.0,54.0,102.0,114.0,99.0,139.0,94.0,88.0,89.0,93.0,82.0,117.0,91.0,91.0,97.0,89.0,106.0,116.0,128.0,81.0,88.0,80.0,100.0,96.0,80.0,67.0,119.0,75.0,112.0,135.0,110.0,94.0,91.0,121.0,108.0,104.0,124.0,13.0,87.0,128.0,78.0,72.0,72.0,78.0,75.0,140.0,108.0,97.0,103.0,95.0,86.0,104.0,101.0,94.0,98.0,114.0,99.0,94.0,103.0,89.0,99.0,116.0,102.0,129.0,87.0,148.0,103.0,89.0,119.0,106.0,90.0,118.0,95.0,101.0,123.0,127.0,116.0,119.0,99.0,90.0,90.0,153.0,122.0,109.0,125.0,106.0,141.0,106.0,103.0,122.0,87.0,116.0,45.0,102.0,107.0,148.0,116.0,88.0,99.0,100.0,99.0,72.0,134.0,87.0,91.0,88.0,96.0,107.0,108.0,105.0,105.0,127.0,137.0,77.0,108.0,71.0,93.0,96.0,99.0,102.0,129.0,130.0,115.0,113.0,88.0,98.0,140.0,92.0,127.0,127.0,101.0,101.0,112.0,91.0,84.0,105.0,88.0,141.0,68.0,162.0,163.0,147.0,142.0,143.0,93.0,86.0,68.0,65.0,58.0,154.0,44.0,92.0,90.0,124.0,91.0,76.0,155.0,101.0,132.0,92.0,22.0,132.0,94.0,132.0,94.0,77.0,107.0,103.0,142.0,128.0,105.0,97.0,90.0,84.0,69.0,58.0,97.0,80.0,71.0,71.0,85.0,75.0,59.0,119.0,78.0,69.0,67.0,103.0,109.0,62.0,61.0,81.0,69.0,134.0,80.0,53.0,84.0,86.0,44.0,131.0,94.0,72.0,74.0,71.0,77.0,70.0,77.0,87.0,67.0,71.0,62.0,102.0,62.0,58.0,83.0,135.0,124.0,69.0,79.0,181.0,60.0,55.0,63.0,128.0,98.0,69.0,78.0,214.0,90.0,67.0,64.0,64.0,79.0,90.0,133.0,125.0,92.0,90.0,80.0,70.0,65.0,60.0,62.0,17.0,98.0,96.0,97.0,101.0,135.0,75.0,79.0,99.0,101.0,90.0,84.0,70.0,137.0,133.0,145.0,91.0,52.0,123.0,113.0,107.0,128.0,101.0,104.0,94.0,96.0,107.0,92.0,95.0,106.0,90.0,106.0,138.0,110.0,100.0,139.0,130.0,132.0,133.0,126.0,91.0,173.0,105.0,148.0,192.0,151.0,209.0,171.0,120.0,122.0,85.0,120.0,113.0,187.0,154.0,99.0,80.0,105.0,41.0,107.0,128.0,104.0,93.0,110.0,160.0,138.0,112.0,101.0,110.0,107.0,65.0,135.0,118.0,137.0,117.0,65.0,118.0,86.0,140.0,66.0,64.0,71.0,89.0,60.0,61.0,85.0,45.0,132.0,53.0,116.0,133.0,116.0,82.0,62.0,68.0,62.0,60.0,89.0,75.0,67.0,96.0,70.0,63.0,62.0,42.0,90.0,170.0,151.0,121.0,132.0,124.0,120.0,157.0,124.0,110.0,90.0,97.0,108.0,95.0,90.0,102.0,111.0,137.0,100.0,53.0,100.0,87.0,106.0,112.0,107.0,87.0,86.0,100.0,80.0,97.0,103.0,109.0,81.0,182.0,88.0,98.0,110.0,114.0,87.0,132.0,101.0,145.0,93.0,116.0,85.0,84.0,92.0,98.0,88.0,99.0,63.0,121.0,104.0,104.0,105.0,135.0,56.0,107.0,95.0,96.0,115.0,117.0,58.0,62.0,65.0,61.0,65.0,65.0,58.0,60.0,81.0,126.0,124.0,85.0,114.0,93.0,136.0,185.0,126.0,99.0,79.0,26.0,23.0,107.0,106.0,133.0,147.0,95.0,100.0,149.0,165.0,124.0,52.0,150.0,165.0,84.0,104.0,114.0,109.0,88.0,50.0,87.0,92.0,143.0,116.0,112.0,40.0,94.0,101.0,104.0,110.0,111.0,83.0,101.0,224.0,118.0,111.0,185.0,153.0,145.0,82.0,140.0,87.0,68.0,86.0,86.0,76.0,115.0,93.0,98.0,83.0,81.0,116.0,105.0,99.0,121.0,54.0,78.0,100.0,89.0,37.0,33.0,35.0,32.0,147.0,132.0,110.0,132.0,97.0,108.0,101.0,68.0,100.0,22.0,48.0,25.0,22.0,22.0,22.0,44.0,22.0,111.0,109.0,78.0,103.0,158.0,66.0,24.0,144.0,93.0,58.0,116.0,113.0,90.0,68.0,104.0,86.0,118.0,99.0,89.0,126.0,83.0,109.0,80.0,40.0,109.0,84.0,104.0,105.0,99.0,104.0,105.0,116.0,94.0,85.0,59.0,150.0,109.0,94.0,111.0,95.0,59.0,103.0,116.0,58.0,89.0,92.0,95.0,23.0,25.0,85.0,20.0,102.0,90.0,68.0,67.0,66.0,70.0,66.0,68.0,69.0,91.0,102.0,149.0,87.0,98.0,94.0,90.0,233.0,108.0,85.0,105.0,95.0,103.0,89.0,118.0,114.0,153.0,106.0,96.0,68.0,40.0,96.0,117.0,88.0,116.0,155.0,28.0,71.0,88.0,64.0,92.0,93.0,95.0,86.0,92.0,140.0,110.0,106.0,98.0,101.0,96.0,103.0,105.0,93.0,111.0,94.0,109.0,87.0,163.0,103.0,120.0,93.0,133.0,77.0,97.0,101.0,111.0,115.0,91.0,103.0,95.0,92.0,84.0,82.0,124.0,77.0,91.0,79.0,112.0,113.0,50.0,81.0,81.0,87.0,71.0,98.0,66.0,102.0,156.0,113.0,144.0,131.0,150.0,125.0,100.0,110.0,100.0,121.0,129.0,51.0,117.0,94.0,32.0,107.0,76.0,118.0,108.0,101.0,93.0,99.0,84.0,102.0,134.0,91.0,78.0,128.0,141.0,128.0,95.0,73.0,110.0,143.0,189.0,75.0,119.0,56.0,134.0,92.0,109.0,171.0,129.0,137.0,192.0,33.0,21.0,106.0,132.0,133.0,131.0,51.0,89.0,70.0,71.0,91.0,131.0,101.0,105.0,88.0,155.0,103.0,97.0,92.0,98.0,109.0,110.0,136.0,133.0,152.0,173.0,89.0,129.0,162.0,112.0,85.0,114.0,75.0,89.0,177.0,93.0,112.0,99.0,107.0,71.0,95.0,70.0,73.0,29.0,90.0,64.0,50.0,38.0,69.0,29.0,67.0,94.0,135.0,137.0,90.0,104.0,55.0,62.0,83.0,77.0,74.0,75.0,72.0,103.0,120.0,131.0,100.0,95.0,112.0,138.0,143.0,108.0,91.0,80.0,94.0,132.0,57.0,136.0,63.0,84.0,111.0,99.0,93.0,114.0,122.0,120.0,100.0,67.0,132.0,83.0,54.0,105.0,98.0,112.0,94.0,90.0,75.0,48.0,150.0,126.0,110.0,84.0,118.0,97.0,86.0,98.0,88.0,101.0,82.0,81.0,112.0,88.0,99.0,79.0,88.0,88.0,103.0,115.0,115.0,106.0,162.0,103.0,93.0,116.0,100.0,95.0,102.0,105.0,148.0,105.0,86.0,54.0,61.0,19.0,63.0,59.0,60.0,113.0,92.0,87.0,112.0,26.0,97.0,76.0,71.0,86.0,56.0,60.0,63.0,124.0,94.0,100.0,115.0,102.0,128.0,99.0,88.0,106.0,83.0,78.0,128.0,136.0,132.0,129.0,98.0,62.0,106.0,129.0,120.0,81.0,82.0,85.0,90.0,136.0,89.0,130.0,85.0,90.0,94.0,86.0,102.0,94.0,100.0,119.0,107.0,93.0,109.0,93.0,57.0,64.0,54.0,109.0,96.0,92.0,168.0,93.0,100.0,141.0,139.0,92.0,119.0,84.0,57.0,96.0,122.0,83.0,117.0,93.0,73.0,72.0,72.0,46.0,74.0,46.0,46.0,74.0,71.0,72.0,76.0,23.0,60.0,46.0,91.0,81.0,101.0,119.0,92.0,55.0,137.0,56.0,58.0,80.0,94.0,94.0,97.0,111.0,96.0,135.0,91.0,84.0,121.0,61.0,83.0,103.0,127.0,132.0,117.0,109.0,74.0,94.0,105.0,131.0,105.0,97.0,102.0,93.0,97.0,96.0,97.0,91.0,86.0,88.0,107.0,90.0,153.0,96.0,104.0,96.0,136.0,131.0,135.0,150.0,98.0,158.0,163.0,98.0,77.0,107.0,116.0,135.0,104.0,139.0,85.0,110.0,172.0,128.0,134.0,98.0,79.0,97.0,102.0,106.0,86.0,127.0,94.0,185.0,136.0,105.0,80.0,84.0,97.0,92.0,116.0,95.0,99.0,77.0,121.0,91.0,100.0,91.0,102.0,119.0,100.0,68.0,44.0,72.0,73.0,73.0,44.0,44.0,115.0,61.0,86.0,104.0,82.0,92.0,90.0,99.0,109.0,93.0,100.0,107.0,95.0,111.0,86.0,111.0,108.0,101.0,99.0,100.0,99.0,104.0,138.0,88.0,122.0,141.0,147.0,92.0,73.0,85.0,97.0,91.0,171.0,130.0,80.0,101.0,91.0,99.0,93.0,96.0,102.0,95.0,85.0,97.0,95.0,83.0,115.0,72.0,69.0,76.0,60.0,51.0,61.0,114.0,92.0,82.0,42.0,131.0,165.0,91.0,101.0,53.0,121.0,59.0,110.0,66.0,137.0,103.0,132.0,108.0,108.0,89.0,107.0,91.0,117.0,84.0,96.0,117.0,106.0,124.0,104.0,87.0,113.0,93.0,59.0,118.0,97.0,64.0,94.0,115.0,99.0,107.0,102.0,125.0,208.0,161.0,116.0,106.0,237.0,131.0,102.0,103.0,104.0,109.0,92.0,103.0,96.0,117.0,61.0,89.0,92.0,90.0,91.0,50.0,84.0,87.0,94.0,133.0,97.0,53.0,113.0,53.0,54.0,53.0,54.0,113.0,53.0,53.0,53.0,54.0,54.0,52.0,54.0,54.0,53.0,53.0,53.0,113.0,53.0,86.0,102.0,114.0,99.0,55.0,91.0,117.0,124.0,102.0,122.0,84.0,84.0,120.0,127.0,122.0,125.0,72.0,47.0,23.0,23.0,121.0,107.0,140.0,91.0,89.0,154.0,103.0,103.0,106.0,129.0,102.0,109.0,157.0,146.0,146.0,110.0,121.0,96.0,102.0,96.0,82.0,119.0,169.0,101.0,97.0,116.0,100.0,89.0,92.0,107.0,95.0,101.0,78.0,79.0,86.0,70.0,66.0,73.0,83.0,72.0,111.0,133.0,142.0,166.0,160.0,135.0,135.0,128.0,120.0,92.0,87.0,70.0,31.0,92.0,89.0,102.0,93.0,95.0,86.0,90.0,97.0,90.0,88.0,76.0,86.0,84.0,99.0,96.0,111.0,124.0,93.0,139.0,91.0,86.0,61.0,95.0,107.0,87.0,104.0,122.0,97.0,101.0,96.0,103.0,88.0,93.0,90.0,90.0,92.0,63.0,103.0,103.0,94.0,35.0,85.0,122.0,102.0,110.0,116.0,100.0,105.0,100.0,118.0,105.0,117.0,126.0,129.0,89.0,82.0,44.0,71.0,74.0,130.0,89.0,106.0,107.0,134.0,82.0,82.0,98.0,96.0,108.0,106.0,91.0,163.0,119.0,125.0,137.0,112.0,171.0,69.0,87.0,137.0,89.0,94.0,111.0,74.0,86.0,93.0,93.0,106.0,187.0,109.0,116.0,77.0,84.0,63.0,124.0,72.0,33.0,115.0,84.0,140.0,68.0,90.0,94.0,117.0,105.0,66.0,66.0,91.0,104.0,110.0,114.0,73.0,85.0,112.0,90.0,48.0,109.0,98.0,134.0,95.0,125.0,89.0,89.0,92.0,108.0,102.0,76.0,104.0,72.0,109.0,26.0,105.0,50.0,92.0,95.0,93.0,170.0,170.0,82.0,108.0,129.0,85.0,126.0,159.0,150.0,118.0,125.0,112.0,138.0,96.0,81.0,108.0,128.0,81.0,81.0,90.0,92.0,112.0,130.0,65.0,124.0,127.0,102.0,81.0,146.0,133.0,91.0,81.0,108.0,120.0,162.0,106.0,149.0,92.0,65.0,28.0,19.0,25.0,22.0,40.0,22.0,24.0,87.0,97.0,98.0,98.0,119.0,88.0,122.0,88.0,96.0,114.0,77.0,98.0,102.0,138.0,90.0,128.0,104.0,86.0,124.0,24.0,46.0,24.0,55.0,24.0,23.0,24.0,24.0,106.0,117.0,52.0,164.0,127.0,86.0,84.0,95.0,131.0,152.0,93.0,29.0,97.0,100.0,124.0,163.0,84.0,103.0,92.0,113.0,88.0,83.0,100.0,143.0,102.0,82.0,165.0,119.0,154.0,158.0,92.0,93.0,87.0,91.0,120.0,89.0,24.0,92.0,149.0,136.0,120.0,153.0,96.0,120.0,161.0,137.0,57.0,106.0,98.0,138.0,128.0,125.0,93.0,120.0,124.0,132.0,98.0,162.0,150.0,85.0,155.0,139.0,99.0,113.0,71.0,90.0,83.0,103.0,143.0,64.0,63.0,129.0,93.0,113.0,117.0,93.0,124.0,134.0,119.0,92.0,97.0,88.0,177.0,131.0,119.0,104.0,116.0,113.0,69.0,83.0,32.0,142.0,178.0,133.0,90.0,154.0,100.0,122.0,115.0,159.0,110.0,153.0,126.0,76.0,88.0,86.0,104.0,59.0,230.0,99.0,144.0,98.0,46.0,46.0,127.0,123.0,111.0,101.0,73.0,90.0,81.0,114.0,112.0,80.0,100.0,24.0,100.0,62.0,116.0,96.0,49.0,65.0,84.0,71.0,74.0,59.0,59.0,57.0,88.0,95.0,112.0,112.0,152.0,97.0,97.0,90.0,94.0,105.0,28.0,102.0,124.0,97.0,118.0,95.0,92.0,102.0,100.0,87.0,120.0,84.0,66.0,92.0,31.0,59.0,59.0,105.0,79.0,79.0,99.0,81.0,91.0,101.0,99.0,103.0,88.0,87.0,132.0,83.0,101.0,95.0,107.0,107.0,105.0,118.0,87.0,94.0,73.0,136.0,96.0,97.0,44.0,45.0,92.0,103.0,110.0,139.0,46.0,120.0,119.0,119.0,100.0,92.0,104.0,66.0,53.0,93.0,116.0,103.0,104.0,98.0,80.0,90.0,79.0,142.0,135.0,124.0,110.0,105.0,141.0,122.0,75.0,63.0,93.0,63.0,118.0,89.0,26.0,42.0,62.0,90.0,66.0,119.0,137.0,121.0,137.0,100.0,143.0,79.0,103.0,92.0,89.0,97.0,134.0,116.0,110.0,88.0,115.0,107.0,63.0,69.0,93.0,73.0,72.0,108.0,141.0,57.0,82.0,95.0,117.0,107.0,131.0,172.0,118.0,118.0,128.0,114.0,91.0,83.0,105.0,94.0,137.0,61.0,86.0,86.0,118.0,139.0,173.0,90.0,152.0,134.0,194.0,76.0,99.0,64.0,50.0,49.0,71.0,29.0,110.0,116.0,119.0,107.0,83.0,109.0,65.0,32.0,122.0,113.0,88.0,131.0,228.0,159.0,111.0,86.0,91.0,44.0,72.0,107.0,87.0,117.0,50.0,71.0,102.0,98.0,140.0,145.0,126.0,162.0,131.0,131.0,133.0,127.0,141.0,78.0,150.0,92.0,153.0,83.0,146.0,52.0,95.0,93.0,53.0,73.0,126.0,95.0,119.0,99.0,173.0,93.0,93.0,121.0,88.0,88.0,195.0,120.0,112.0,94.0,77.0,102.0,112.0,121.0,117.0,105.0,96.0,90.0,93.0,110.0,86.0,95.0,49.0,65.0,76.0,63.0,101.0,111.0,98.0,150.0,108.0,54.0,54.0,54.0,55.0,54.0,55.0,55.0,114.0,55.0,55.0,55.0,92.0,87.0,96.0,126.0,117.0,87.0,102.0,106.0,109.0,110.0,69.0,119.0,115.0,108.0,106.0,96.0,85.0,61.0,70.0,103.0,123.0,111.0,116.0,107.0,94.0,123.0,128.0,100.0,102.0,146.0,145.0,103.0,109.0,111.0,100.0,125.0,111.0,146.0,116.0,115.0,126.0,168.0,109.0,107.0,148.0,92.0,91.0,86.0,28.0,135.0,83.0,87.0,71.0,105.0,113.0,105.0,111.0,119.0,112.0,106.0,128.0,163.0,121.0,87.0,103.0,97.0,168.0,131.0,116.0,45.0,75.0,71.0,106.0,122.0,97.0,101.0,89.0,121.0,98.0,130.0,127.0,115.0,96.0,86.0,95.0,93.0,89.0,119.0,105.0,106.0,141.0,88.0,3.0,94.0,77.0,133.0,122.0,52.0,105.0,72.0,101.0,136.0,158.0,143.0,142.0,127.0,92.0,97.0,87.0,83.0,88.0,95.0,105.0,16.0,76.0,96.0,78.0,107.0,80.0,100.0,93.0,49.0,94.0,99.0,101.0,89.0,135.0,107.0,115.0,84.0,95.0,110.0,92.0,95.0,66.0,123.0,83.0,86.0,89.0,134.0,126.0,108.0,137.0,87.0,142.0,80.0,62.0,160.0,5.0,155.0,91.0,94.0,135.0,135.0,104.0,97.0,92.0,87.0,128.0,101.0,77.0,93.0,109.0,110.0,97.0,73.0,131.0,116.0,88.0,106.0,94.0,85.0,130.0,107.0,98.0,94.0,137.0,101.0,108.0,96.0,75.0,83.0,111.0,75.0,139.0,117.0,79.0,46.0,95.0,92.0,29.0,45.0,47.0,129.0,94.0,153.0,112.0,88.0,100.0,83.0,88.0,93.0,140.0,103.0,88.0,86.0,88.0,152.0,33.0,128.0,106.0,69.0,101.0,128.0,94.0,52.0,23.0,140.0,98.0,89.0,108.0,86.0,91.0,122.0,74.0,106.0,100.0,61.0,91.0,113.0,100.0,132.0,96.0,96.0,96.0,91.0,113.0,76.0,127.0,96.0,104.0,95.0,85.0,106.0,117.0,108.0,123.0,105.0,85.0,78.0,97.0,99.0,95.0,42.0,95.0,135.0,130.0,115.0,107.0,44.0,114.0,107.0,93.0,94.0,94.0,113.0,74.0,85.0,63.0,104.0,176.0,28.0,24.0,59.0,24.0,25.0,25.0,24.0,25.0,24.0,127.0,113.0,91.0,108.0,154.0,82.0,140.0,137.0,98.0,86.0,121.0,119.0,85.0,103.0,86.0,92.0,126.0,123.0,185.0,123.0,75.0,112.0,116.0,93.0,83.0,94.0,97.0,108.0,101.0,99.0,104.0,120.0,177.0,162.0,95.0,84.0,97.0,80.0,109.0,88.0,107.0,140.0,120.0,110.0,103.0,112.0,111.0,133.0,102.0,124.0,114.0,148.0,110.0,91.0,81.0,116.0,89.0,72.0,112.0,101.0,98.0,81.0,114.0,125.0,61.0,48.0,128.0,81.0,91.0,121.0,103.0,155.0,119.0,137.0,89.0,87.0,88.0,94.0,125.0,86.0,67.0,78.0,108.0,102.0,127.0,93.0,109.0,115.0,98.0,84.0,133.0,121.0,156.0,135.0,135.0,148.0,131.0,91.0,108.0,130.0,100.0,93.0,108.0,117.0,117.0,95.0,104.0,78.0,87.0,88.0,93.0,107.0,99.0,94.0,90.0,140.0,105.0,91.0,98.0,113.0,89.0,114.0,97.0,97.0,108.0,80.0,79.0,64.0,101.0,115.0,90.0,117.0,101.0,95.0,86.0,94.0,76.0,85.0,102.0,100.0,119.0,87.0,101.0,133.0,112.0,102.0,83.0,89.0,80.0,18.0,112.0,100.0,110.0,96.0,92.0,63.0,72.0,93.0,91.0,73.0,98.0,118.0,121.0,95.0,95.0,116.0,98.0,101.0,86.0,99.0,91.0,130.0,90.0,101.0,106.0,59.0,118.0,120.0,115.0,98.0,111.0,116.0,97.0,95.0,86.0,114.0,122.0,28.0,103.0,122.0,95.0,93.0,107.0,82.0,118.0,119.0,88.0,102.0,119.0,97.0,96.0,103.0,81.0,118.0,96.0,106.0,93.0,109.0,112.0,112.0,96.0,89.0,60.0,113.0,126.0,109.0,93.0,101.0,111.0,107.0,100.0,104.0,115.0,92.0,103.0,90.0,17.0,105.0,102.0,103.0,118.0,105.0,103.0,95.0,101.0,123.0,112.0,114.0,101.0,53.0,81.0,100.0,99.0,102.0,66.0,112.0,83.0,101.0,149.0,99.0,105.0,120.0,93.0,121.0,75.0,92.0,95.0,100.0,93.0,124.0,106.0,154.0,107.0,96.0,97.0,83.0,67.0,151.0,78.0,85.0,139.0,69.0,84.0,88.0,110.0,86.0,108.0,104.0,102.0,113.0,109.0,106.0,117.0,121.0,99.0,139.0,110.0,104.0,95.0,122.0,105.0,96.0,130.0,97.0,87.0,106.0,112.0,148.0,85.0,107.0,76.0,103.0,112.0,95.0,88.0,116.0,121.0,82.0,107.0,87.0,46.0,103.0,97.0,91.0,91.0,111.0,101.0,104.0,92.0,113.0,93.0,151.0,89.0,124.0,115.0,84.0,106.0,97.0,92.0,86.0,46.0,124.0,83.0,100.0,107.0,115.0,104.0,101.0,158.0,95.0,97.0,97.0,89.0,161.0,205.0,123.0,190.0,108.0,136.0,161.0,114.0,128.0,133.0,119.0,101.0,86.0,124.0,105.0,91.0,94.0,168.0,136.0,94.0,85.0,108.0,101.0,116.0,71.0,147.0,88.0,99.0,96.0,132.0,85.0,95.0,97.0,92.0,135.0,36.0,79.0,120.0,53.0,94.0,111.0,123.0,103.0,111.0,123.0,114.0,100.0,84.0,75.0,118.0,96.0,102.0,108.0,99.0,103.0,93.0,101.0,112.0,99.0,129.0,106.0,100.0,209.0,24.0,105.0,93.0,112.0,52.0,106.0,123.0,90.0,140.0,95.0,100.0,121.0,97.0,141.0,118.0,105.0,133.0,76.0,93.0,98.0,86.0,130.0,113.0,98.0,84.0,91.0,104.0,133.0,105.0,149.0,93.0,88.0,131.0,44.0,119.0,99.0,96.0,70.0,107.0,83.0,110.0,116.0,88.0,95.0,96.0,101.0,83.0,121.0,87.0,156.0,87.0,118.0,30.0,95.0,107.0,96.0,110.0,118.0,89.0,85.0,107.0,86.0,83.0,108.0,138.0,119.0,93.0,30.0,91.0,87.0,121.0,95.0,103.0,201.0,179.0,113.0,110.0,94.0,127.0,87.0,87.0,98.0,98.0,82.0,85.0,90.0,46.0,46.0,46.0,103.0,137.0,68.0,107.0,100.0,195.0,98.0,138.0,40.0,137.0,97.0,136.0,138.0,129.0,90.0,116.0,130.0,60.0,88.0,40.0,94.0,113.0,98.0,119.0,91.0,95.0,54.0,86.0,132.0,44.0,104.0,91.0,70.0,102.0,93.0,92.0,114.0,104.0,115.0,85.0,85.0,138.0,40.0,59.0,82.0,107.0,104.0,90.0,121.0,90.0,85.0,99.0,104.0,126.0,97.0,91.0,106.0,95.0,111.0,106.0,108.0,84.0,122.0,111.0,94.0,123.0,86.0,95.0,108.0,94.0,94.0,87.0,124.0,141.0,91.0,93.0,143.0,148.0,91.0,103.0,141.0,110.0,155.0,93.0,78.0,118.0,88.0,89.0,140.0,94.0,124.0,110.0,89.0,100.0,94.0,96.0,116.0,92.0,91.0,111.0,98.0,102.0,97.0,125.0,125.0,132.0,133.0,76.0,117.0,90.0,66.0,105.0,119.0,136.0,52.0,81.0,77.0,108.0,130.0,120.0,102.0,116.0,67.0,90.0,100.0,123.0,90.0,120.0,92.0,93.0,116.0,107.0,95.0,87.0,111.0,14.0,101.0,91.0,105.0,103.0,103.0,90.0,81.0,120.0,107.0,90.0,47.0,111.0,94.0,92.0,92.0,99.0,253.0,124.0,111.0,32.0,98.0,86.0,105.0,100.0,104.0,123.0,100.0,105.0,85.0,108.0,97.0,97.0,91.0,96.0,93.0,122.0,90.0,163.0,110.0,143.0,104.0,103.0,105.0,94.0,121.0,93.0,120.0,95.0,41.0,97.0,84.0,46.0,94.0,94.0,105.0,81.0,103.0,122.0,98.0,90.0,111.0,97.0,91.0,89.0,115.0,98.0,92.0,106.0,139.0,81.0,83.0,123.0,96.0,118.0,110.0,94.0,58.0,96.0,107.0,97.0,103.0,24.0,91.0,136.0,130.0,91.0,104.0,94.0,108.0,91.0,58.0,99.0,106.0,126.0,96.0,93.0,106.0,103.0,130.0,91.0,115.0,91.0,92.0,103.0,72.0,138.0,98.0,125.0,93.0,111.0,112.0,90.0,101.0,101.0,98.0,111.0,117.0,41.0,92.0,117.0,92.0,88.0,126.0,157.0,116.0,47.0,100.0,114.0,128.0,101.0,108.0,53.0,99.0,89.0,90.0,111.0,83.0,85.0,135.0,94.0,104.0,132.0,89.0,97.0,67.0,86.0,158.0,72.0,110.0,98.0,99.0,82.0,180.0,107.0,77.0,123.0,23.0,23.0,23.0,122.0,131.0,77.0,125.0,125.0,139.0,88.0,107.0,96.0,87.0,104.0,133.0,93.0,42.0,56.0,66.0,92.0,58.0,130.0,91.0,108.0,151.0,30.0,30.0,146.0,127.0,98.0,125.0,96.0,135.0,88.0,99.0,78.0,97.0,100.0,102.0,81.0,84.0,88.0,95.0,108.0,108.0,96.0,61.0,63.0,46.0,78.0,86.0,176.0,145.0,89.0,98.0,60.0,57.0,60.0,70.0,74.0,71.0,74.0,63.0,119.0,99.0,117.0,106.0,94.0,108.0,87.0,133.0,106.0,104.0,94.0,114.0,107.0,94.0,59.0,130.0,89.0,81.0,102.0,74.0,47.0,95.0,46.0,88.0,118.0,94.0,114.0,83.0,119.0,79.0,114.0,94.0,111.0,85.0,88.0,82.0,82.0,96.0,100.0,104.0,101.0,99.0,98.0,102.0,100.0,67.0,64.0,96.0,134.0,173.0,113.0,115.0,126.0,96.0,93.0,91.0,27.0,110.0,90.0,128.0,128.0,98.0,108.0,24.0,24.0,24.0,24.0,24.0,46.0,24.0,124.0,88.0,125.0,89.0,162.0,128.0,72.0,90.0,123.0,76.0,96.0,107.0,102.0,53.0,110.0,102.0,86.0,89.0,117.0,80.0,95.0,78.0,90.0,121.0,99.0,137.0,146.0,125.0,115.0,143.0,109.0,137.0,96.0,114.0,94.0,90.0,104.0,190.0,100.0,109.0,116.0,92.0,95.0,104.0,98.0,135.0,113.0,40.0,94.0,87.0,102.0,84.0,108.0,85.0,94.0,61.0,85.0,121.0,94.0,83.0,114.0,92.0,105.0,113.0,97.0,97.0,83.0,95.0,93.0,86.0,110.0,99.0,106.0,112.0,116.0,121.0,62.0,119.0,95.0,130.0,119.0,132.0,86.0,145.0,90.0,144.0,106.0,117.0,130.0,78.0,113.0,82.0,81.0,105.0,126.0,127.0,109.0,156.0,106.0,93.0,110.0,91.0,113.0,97.0,115.0,101.0,91.0,66.0,76.0,68.0,50.0,127.0,100.0,29.0,125.0,116.0,166.0,106.0,106.0,113.0,93.0,96.0,99.0,66.0,119.0,115.0,130.0,120.0,93.0,94.0,111.0,94.0,132.0,109.0,81.0,94.0,100.0,96.0,90.0,66.0,95.0,103.0,61.0,109.0,147.0,123.0,98.0,73.0,92.0,128.0,93.0,78.0,68.0,98.0,74.0,119.0,109.0,86.0,123.0,96.0,83.0,101.0,95.0,91.0,90.0,93.0,38.0,106.0,94.0,89.0,91.0,94.0,72.0,94.0,95.0,149.0,124.0,99.0,73.0,108.0,131.0,80.0,84.0,135.0,106.0,81.0,93.0,96.0,105.0,102.0,92.0,98.0,17.0,124.0,102.0,103.0,99.0,130.0,52.0,91.0,87.0,96.0,92.0,140.0,96.0,93.0,32.0,118.0,110.0,95.0,203.0,82.0,107.0,96.0,75.0,109.0,103.0,97.0,89.0,86.0,97.0,69.0,98.0,98.0,93.0,89.0,120.0,88.0,90.0,91.0,59.0,48.0,78.0,94.0,90.0,102.0,50.0,84.0,126.0,82.0,98.0,86.0,106.0,105.0,93.0,105.0,72.0,100.0,89.0,100.0,104.0,85.0,86.0,99.0,100.0,108.0,106.0,108.0,93.0,102.0,74.0,80.0,92.0,93.0,109.0,132.0,69.0,101.0,97.0,91.0,94.0,147.0,129.0,49.0,93.0,133.0,140.0,45.0,68.0,191.0,135.0,105.0,92.0,91.0,81.0,124.0,101.0,106.0,137.0,15.0,171.0,148.0,132.0,147.0,151.0,97.0,117.0,95.0,90.0,104.0,111.0,112.0,107.0,78.0,96.0,88.0,78.0,54.0,63.0,93.0,87.0,85.0,157.0,116.0,113.0,89.0,107.0,117.0,112.0,94.0,81.0,120.0,115.0,103.0,72.0,88.0,98.0,115.0,130.0,160.0,61.0,101.0,109.0,92.0,131.0,120.0,159.0,89.0,126.0,154.0,96.0,12.0,105.0,89.0,158.0,104.0,88.0,94.0,88.0,99.0,111.0,44.0,90.0],\"xaxis\":\"x\",\"y\":[\"freq\",\"freq\",\"freq\",\"freq\",\"freq\",\"freq\",\"freq\",\"freq\",\"freq\",\"freq\",\"freq\",\"freq\",\"freq\",\"freq\",\"freq\",\"freq\",\"freq\",\"freq\",\"freq\",\"freq\",\"freq\",\"freq\",\"freq\",\"freq\",\"freq\",\"freq\",\"freq\",\"freq\",\"freq\",\"freq\",\"freq\",\"freq\",\"freq\",\"freq\",\"freq\",\"freq\",\"freq\",\"freq\",\"freq\",\"freq\",\"freq\",\"freq\",\"freq\",\"freq\",\"freq\",\"freq\",\"freq\",\"freq\",\"freq\",\"freq\",\"freq\",\"freq\",\"freq\",\"freq\",\"freq\",\"freq\",\"freq\",\"freq\",\"freq\",\"freq\",\"freq\",\"freq\",\"freq\",\"freq\",\"freq\",\"freq\",\"freq\",\"freq\",\"freq\",\"freq\",\"freq\",\"freq\",\"freq\",\"freq\",\"freq\",\"freq\",\"freq\",\"freq\",\"freq\",\"freq\",\"freq\",\"freq\",\"freq\",\"freq\",\"freq\",\"freq\",\"freq\",\"freq\",\"freq\",\"freq\",\"freq\",\"freq\",\"freq\",\"freq\",\"freq\",\"freq\",\"freq\",\"freq\",\"freq\",\"freq\",\"freq\",\"freq\",\"freq\",\"freq\",\"freq\",\"freq\",\"freq\",\"freq\",\"freq\",\"freq\",\"freq\",\"freq\",\"freq\",\"freq\",\"freq\",\"freq\",\"freq\",\"freq\",\"freq\",\"freq\",\"freq\",\"freq\",\"freq\",\"freq\",\"freq\",\"freq\",\"freq\",\"freq\",\"freq\",\"freq\",\"freq\",\"freq\",\"freq\",\"freq\",\"freq\",\"freq\",\"freq\",\"freq\",\"freq\",\"freq\",\"freq\",\"freq\",\"freq\",\"freq\",\"freq\",\"freq\",\"freq\",\"freq\",\"freq\",\"freq\",\"freq\",\"freq\",\"freq\",\"freq\",\"freq\",\"freq\",\"freq\",\"freq\",\"freq\",\"freq\",\"freq\",\"freq\",\"freq\",\"freq\",\"freq\",\"freq\",\"freq\",\"freq\",\"freq\",\"freq\",\"freq\",\"freq\",\"freq\",\"freq\",\"freq\",\"freq\",\"freq\",\"freq\",\"freq\",\"freq\",\"freq\",\"freq\",\"freq\",\"freq\",\"freq\",\"freq\",\"freq\",\"freq\",\"freq\",\"freq\",\"freq\",\"freq\",\"freq\",\"freq\",\"freq\",\"freq\",\"freq\",\"freq\",\"freq\",\"freq\",\"freq\",\"freq\",\"freq\",\"freq\",\"freq\",\"freq\",\"freq\",\"freq\",\"freq\",\"freq\",\"freq\",\"freq\",\"freq\",\"freq\",\"freq\",\"freq\",\"freq\",\"freq\",\"freq\",\"freq\",\"freq\",\"freq\",\"freq\",\"freq\",\"freq\",\"freq\",\"freq\",\"freq\",\"freq\",\"freq\",\"freq\",\"freq\",\"freq\",\"freq\",\"freq\",\"freq\",\"freq\",\"freq\",\"freq\",\"freq\",\"freq\",\"freq\",\"freq\",\"freq\",\"freq\",\"freq\",\"freq\",\"freq\",\"freq\",\"freq\",\"freq\",\"freq\",\"freq\",\"freq\",\"freq\",\"freq\",\"freq\",\"freq\",\"freq\",\"freq\",\"freq\",\"freq\",\"freq\",\"freq\",\"freq\",\"freq\",\"freq\",\"freq\",\"freq\",\"freq\",\"freq\",\"freq\",\"freq\",\"freq\",\"freq\",\"freq\",\"freq\",\"freq\",\"freq\",\"freq\",\"freq\",\"freq\",\"freq\",\"freq\",\"freq\",\"freq\",\"freq\",\"freq\",\"freq\",\"freq\",\"freq\",\"freq\",\"freq\",\"freq\",\"freq\",\"freq\",\"freq\",\"freq\",\"freq\",\"freq\",\"freq\",\"freq\",\"freq\",\"freq\",\"freq\",\"freq\",\"freq\",\"freq\",\"freq\",\"freq\",\"freq\",\"freq\",\"freq\",\"freq\",\"freq\",\"freq\",\"freq\",\"freq\",\"freq\",\"freq\",\"freq\",\"freq\",\"freq\",\"freq\",\"freq\",\"freq\",\"freq\",\"freq\",\"freq\",\"freq\",\"freq\",\"freq\",\"freq\",\"freq\",\"freq\",\"freq\",\"freq\",\"freq\",\"freq\",\"freq\",\"freq\",\"freq\",\"freq\",\"freq\",\"freq\",\"freq\",\"freq\",\"freq\",\"freq\",\"freq\",\"freq\",\"freq\",\"freq\",\"freq\",\"freq\",\"freq\",\"freq\",\"freq\",\"freq\",\"freq\",\"freq\",\"freq\",\"freq\",\"freq\",\"freq\",\"freq\",\"freq\",\"freq\",\"freq\",\"freq\",\"freq\",\"freq\",\"freq\",\"freq\",\"freq\",\"freq\",\"freq\",\"freq\",\"freq\",\"freq\",\"freq\",\"freq\",\"freq\",\"freq\",\"freq\",\"freq\",\"freq\",\"freq\",\"freq\",\"freq\",\"freq\",\"freq\",\"freq\",\"freq\",\"freq\",\"freq\",\"freq\",\"freq\",\"freq\",\"freq\",\"freq\",\"freq\",\"freq\",\"freq\",\"freq\",\"freq\",\"freq\",\"freq\",\"freq\",\"freq\",\"freq\",\"freq\",\"freq\",\"freq\",\"freq\",\"freq\",\"freq\",\"freq\",\"freq\",\"freq\",\"freq\",\"freq\",\"freq\",\"freq\",\"freq\",\"freq\",\"freq\",\"freq\",\"freq\",\"freq\",\"freq\",\"freq\",\"freq\",\"freq\",\"freq\",\"freq\",\"freq\",\"freq\",\"freq\",\"freq\",\"freq\",\"freq\",\"freq\",\"freq\",\"freq\",\"freq\",\"freq\",\"freq\",\"freq\",\"freq\",\"freq\",\"freq\",\"freq\",\"freq\",\"freq\",\"freq\",\"freq\",\"freq\",\"freq\",\"freq\",\"freq\",\"freq\",\"freq\",\"freq\",\"freq\",\"freq\",\"freq\",\"freq\",\"freq\",\"freq\",\"freq\",\"freq\",\"freq\",\"freq\",\"freq\",\"freq\",\"freq\",\"freq\",\"freq\",\"freq\",\"freq\",\"freq\",\"freq\",\"freq\",\"freq\",\"freq\",\"freq\",\"freq\",\"freq\",\"freq\",\"freq\",\"freq\",\"freq\",\"freq\",\"freq\",\"freq\",\"freq\",\"freq\",\"freq\",\"freq\",\"freq\",\"freq\",\"freq\",\"freq\",\"freq\",\"freq\",\"freq\",\"freq\",\"freq\",\"freq\",\"freq\",\"freq\",\"freq\",\"freq\",\"freq\",\"freq\",\"freq\",\"freq\",\"freq\",\"freq\",\"freq\",\"freq\",\"freq\",\"freq\",\"freq\",\"freq\",\"freq\",\"freq\",\"freq\",\"freq\",\"freq\",\"freq\",\"freq\",\"freq\",\"freq\",\"freq\",\"freq\",\"freq\",\"freq\",\"freq\",\"freq\",\"freq\",\"freq\",\"freq\",\"freq\",\"freq\",\"freq\",\"freq\",\"freq\",\"freq\",\"freq\",\"freq\",\"freq\",\"freq\",\"freq\",\"freq\",\"freq\",\"freq\",\"freq\",\"freq\",\"freq\",\"freq\",\"freq\",\"freq\",\"freq\",\"freq\",\"freq\",\"freq\",\"freq\",\"freq\",\"freq\",\"freq\",\"freq\",\"freq\",\"freq\",\"freq\",\"freq\",\"freq\",\"freq\",\"freq\",\"freq\",\"freq\",\"freq\",\"freq\",\"freq\",\"freq\",\"freq\",\"freq\",\"freq\",\"freq\",\"freq\",\"freq\",\"freq\",\"freq\",\"freq\",\"freq\",\"freq\",\"freq\",\"freq\",\"freq\",\"freq\",\"freq\",\"freq\",\"freq\",\"freq\",\"freq\",\"freq\",\"freq\",\"freq\",\"freq\",\"freq\",\"freq\",\"freq\",\"freq\",\"freq\",\"freq\",\"freq\",\"freq\",\"freq\",\"freq\",\"freq\",\"freq\",\"freq\",\"freq\",\"freq\",\"freq\",\"freq\",\"freq\",\"freq\",\"freq\",\"freq\",\"freq\",\"freq\",\"freq\",\"freq\",\"freq\",\"freq\",\"freq\",\"freq\",\"freq\",\"freq\",\"freq\",\"freq\",\"freq\",\"freq\",\"freq\",\"freq\",\"freq\",\"freq\",\"freq\",\"freq\",\"freq\",\"freq\",\"freq\",\"freq\",\"freq\",\"freq\",\"freq\",\"freq\",\"freq\",\"freq\",\"freq\",\"freq\",\"freq\",\"freq\",\"freq\",\"freq\",\"freq\",\"freq\",\"freq\",\"freq\",\"freq\",\"freq\",\"freq\",\"freq\",\"freq\",\"freq\",\"freq\",\"freq\",\"freq\",\"freq\",\"freq\",\"freq\",\"freq\",\"freq\",\"freq\",\"freq\",\"freq\",\"freq\",\"freq\",\"freq\",\"freq\",\"freq\",\"freq\",\"freq\",\"freq\",\"freq\",\"freq\",\"freq\",\"freq\",\"freq\",\"freq\",\"freq\",\"freq\",\"freq\",\"freq\",\"freq\",\"freq\",\"freq\",\"freq\",\"freq\",\"freq\",\"freq\",\"freq\",\"freq\",\"freq\",\"freq\",\"freq\",\"freq\",\"freq\",\"freq\",\"freq\",\"freq\",\"freq\",\"freq\",\"freq\",\"freq\",\"freq\",\"freq\",\"freq\",\"freq\",\"freq\",\"freq\",\"freq\",\"freq\",\"freq\",\"freq\",\"freq\",\"freq\",\"freq\",\"freq\",\"freq\",\"freq\",\"freq\",\"freq\",\"freq\",\"freq\",\"freq\",\"freq\",\"freq\",\"freq\",\"freq\",\"freq\",\"freq\",\"freq\",\"freq\",\"freq\",\"freq\",\"freq\",\"freq\",\"freq\",\"freq\",\"freq\",\"freq\",\"freq\",\"freq\",\"freq\",\"freq\",\"freq\",\"freq\",\"freq\",\"freq\",\"freq\",\"freq\",\"freq\",\"freq\",\"freq\",\"freq\",\"freq\",\"freq\",\"freq\",\"freq\",\"freq\",\"freq\",\"freq\",\"freq\",\"freq\",\"freq\",\"freq\",\"freq\",\"freq\",\"freq\",\"freq\",\"freq\",\"freq\",\"freq\",\"freq\",\"freq\",\"freq\",\"freq\",\"freq\",\"freq\",\"freq\",\"freq\",\"freq\",\"freq\",\"freq\",\"freq\",\"freq\",\"freq\",\"freq\",\"freq\",\"freq\",\"freq\",\"freq\",\"freq\",\"freq\",\"freq\",\"freq\",\"freq\",\"freq\",\"freq\",\"freq\",\"freq\",\"freq\",\"freq\",\"freq\",\"freq\",\"freq\",\"freq\",\"freq\",\"freq\",\"freq\",\"freq\",\"freq\",\"freq\",\"freq\",\"freq\",\"freq\",\"freq\",\"freq\",\"freq\",\"freq\",\"freq\",\"freq\",\"freq\",\"freq\",\"freq\",\"freq\",\"freq\",\"freq\",\"freq\",\"freq\",\"freq\",\"freq\",\"freq\",\"freq\",\"freq\",\"freq\",\"freq\",\"freq\",\"freq\",\"freq\",\"freq\",\"freq\",\"freq\",\"freq\",\"freq\",\"freq\",\"freq\",\"freq\",\"freq\",\"freq\",\"freq\",\"freq\",\"freq\",\"freq\",\"freq\",\"freq\",\"freq\",\"freq\",\"freq\",\"freq\",\"freq\",\"freq\",\"freq\",\"freq\",\"freq\",\"freq\",\"freq\",\"freq\",\"freq\",\"freq\",\"freq\",\"freq\",\"freq\",\"freq\",\"freq\",\"freq\",\"freq\",\"freq\",\"freq\",\"freq\",\"freq\",\"freq\",\"freq\",\"freq\",\"freq\",\"freq\",\"freq\",\"freq\",\"freq\",\"freq\",\"freq\",\"freq\",\"freq\",\"freq\",\"freq\",\"freq\",\"freq\",\"freq\",\"freq\",\"freq\",\"freq\",\"freq\",\"freq\",\"freq\",\"freq\",\"freq\",\"freq\",\"freq\",\"freq\",\"freq\",\"freq\",\"freq\",\"freq\",\"freq\",\"freq\",\"freq\",\"freq\",\"freq\",\"freq\",\"freq\",\"freq\",\"freq\",\"freq\",\"freq\",\"freq\",\"freq\",\"freq\",\"freq\",\"freq\",\"freq\",\"freq\",\"freq\",\"freq\",\"freq\",\"freq\",\"freq\",\"freq\",\"freq\",\"freq\",\"freq\",\"freq\",\"freq\",\"freq\",\"freq\",\"freq\",\"freq\",\"freq\",\"freq\",\"freq\",\"freq\",\"freq\",\"freq\",\"freq\",\"freq\",\"freq\",\"freq\",\"freq\",\"freq\",\"freq\",\"freq\",\"freq\",\"freq\",\"freq\",\"freq\",\"freq\",\"freq\",\"freq\",\"freq\",\"freq\",\"freq\",\"freq\",\"freq\",\"freq\",\"freq\",\"freq\",\"freq\",\"freq\",\"freq\",\"freq\",\"freq\",\"freq\",\"freq\",\"freq\",\"freq\",\"freq\",\"freq\",\"freq\",\"freq\",\"freq\",\"freq\",\"freq\",\"freq\",\"freq\",\"freq\",\"freq\",\"freq\",\"freq\",\"freq\",\"freq\",\"freq\",\"freq\",\"freq\",\"freq\",\"freq\",\"freq\",\"freq\",\"freq\",\"freq\",\"freq\",\"freq\",\"freq\",\"freq\",\"freq\",\"freq\",\"freq\",\"freq\",\"freq\",\"freq\",\"freq\",\"freq\",\"freq\",\"freq\",\"freq\",\"freq\",\"freq\",\"freq\",\"freq\",\"freq\",\"freq\",\"freq\",\"freq\",\"freq\",\"freq\",\"freq\",\"freq\",\"freq\",\"freq\",\"freq\",\"freq\",\"freq\",\"freq\",\"freq\",\"freq\",\"freq\",\"freq\",\"freq\",\"freq\",\"freq\",\"freq\",\"freq\",\"freq\",\"freq\",\"freq\",\"freq\",\"freq\",\"freq\",\"freq\",\"freq\",\"freq\",\"freq\",\"freq\",\"freq\",\"freq\",\"freq\",\"freq\",\"freq\",\"freq\",\"freq\",\"freq\",\"freq\",\"freq\",\"freq\",\"freq\",\"freq\",\"freq\",\"freq\",\"freq\",\"freq\",\"freq\",\"freq\",\"freq\",\"freq\",\"freq\",\"freq\",\"freq\",\"freq\",\"freq\",\"freq\",\"freq\",\"freq\",\"freq\",\"freq\",\"freq\",\"freq\",\"freq\",\"freq\",\"freq\",\"freq\",\"freq\",\"freq\",\"freq\",\"freq\",\"freq\",\"freq\",\"freq\",\"freq\",\"freq\",\"freq\",\"freq\",\"freq\",\"freq\",\"freq\",\"freq\",\"freq\",\"freq\",\"freq\",\"freq\",\"freq\",\"freq\",\"freq\",\"freq\",\"freq\",\"freq\",\"freq\",\"freq\",\"freq\",\"freq\",\"freq\",\"freq\",\"freq\",\"freq\",\"freq\",\"freq\",\"freq\",\"freq\",\"freq\",\"freq\",\"freq\",\"freq\",\"freq\",\"freq\",\"freq\",\"freq\",\"freq\",\"freq\",\"freq\",\"freq\",\"freq\",\"freq\",\"freq\",\"freq\",\"freq\",\"freq\",\"freq\",\"freq\",\"freq\",\"freq\",\"freq\",\"freq\",\"freq\",\"freq\",\"freq\",\"freq\",\"freq\",\"freq\",\"freq\",\"freq\",\"freq\",\"freq\",\"freq\",\"freq\",\"freq\",\"freq\",\"freq\",\"freq\",\"freq\",\"freq\",\"freq\",\"freq\",\"freq\",\"freq\",\"freq\",\"freq\",\"freq\",\"freq\",\"freq\",\"freq\",\"freq\",\"freq\",\"freq\",\"freq\",\"freq\",\"freq\",\"freq\",\"freq\",\"freq\",\"freq\",\"freq\",\"freq\",\"freq\",\"freq\",\"freq\",\"freq\",\"freq\",\"freq\",\"freq\",\"freq\",\"freq\",\"freq\",\"freq\",\"freq\",\"freq\",\"freq\",\"freq\",\"freq\",\"freq\",\"freq\",\"freq\",\"freq\",\"freq\",\"freq\",\"freq\",\"freq\",\"freq\",\"freq\",\"freq\",\"freq\",\"freq\",\"freq\",\"freq\",\"freq\",\"freq\",\"freq\",\"freq\",\"freq\",\"freq\",\"freq\",\"freq\",\"freq\",\"freq\",\"freq\",\"freq\",\"freq\",\"freq\",\"freq\",\"freq\",\"freq\",\"freq\",\"freq\",\"freq\",\"freq\",\"freq\",\"freq\",\"freq\",\"freq\",\"freq\",\"freq\",\"freq\",\"freq\",\"freq\",\"freq\",\"freq\",\"freq\",\"freq\",\"freq\",\"freq\",\"freq\",\"freq\",\"freq\",\"freq\",\"freq\",\"freq\",\"freq\",\"freq\",\"freq\",\"freq\",\"freq\",\"freq\",\"freq\",\"freq\",\"freq\",\"freq\",\"freq\",\"freq\",\"freq\",\"freq\",\"freq\",\"freq\",\"freq\",\"freq\",\"freq\",\"freq\",\"freq\",\"freq\",\"freq\",\"freq\",\"freq\",\"freq\",\"freq\",\"freq\",\"freq\",\"freq\",\"freq\",\"freq\",\"freq\",\"freq\",\"freq\",\"freq\",\"freq\",\"freq\",\"freq\",\"freq\",\"freq\",\"freq\",\"freq\",\"freq\",\"freq\",\"freq\",\"freq\",\"freq\",\"freq\",\"freq\",\"freq\",\"freq\",\"freq\",\"freq\",\"freq\",\"freq\",\"freq\",\"freq\",\"freq\",\"freq\",\"freq\",\"freq\",\"freq\",\"freq\",\"freq\",\"freq\",\"freq\",\"freq\",\"freq\",\"freq\",\"freq\",\"freq\",\"freq\",\"freq\",\"freq\",\"freq\",\"freq\",\"freq\",\"freq\",\"freq\",\"freq\",\"freq\",\"freq\",\"freq\",\"freq\",\"freq\",\"freq\",\"freq\",\"freq\",\"freq\",\"freq\",\"freq\",\"freq\",\"freq\",\"freq\",\"freq\",\"freq\",\"freq\",\"freq\",\"freq\",\"freq\",\"freq\",\"freq\",\"freq\",\"freq\",\"freq\",\"freq\",\"freq\",\"freq\",\"freq\",\"freq\",\"freq\",\"freq\",\"freq\",\"freq\",\"freq\",\"freq\",\"freq\",\"freq\",\"freq\",\"freq\",\"freq\",\"freq\",\"freq\",\"freq\",\"freq\",\"freq\",\"freq\",\"freq\",\"freq\",\"freq\",\"freq\",\"freq\",\"freq\",\"freq\",\"freq\",\"freq\",\"freq\",\"freq\",\"freq\",\"freq\",\"freq\",\"freq\",\"freq\",\"freq\",\"freq\",\"freq\",\"freq\",\"freq\",\"freq\",\"freq\",\"freq\",\"freq\",\"freq\",\"freq\",\"freq\",\"freq\",\"freq\",\"freq\",\"freq\",\"freq\",\"freq\",\"freq\",\"freq\",\"freq\",\"freq\",\"freq\",\"freq\",\"freq\",\"freq\",\"freq\",\"freq\",\"freq\",\"freq\",\"freq\",\"freq\",\"freq\",\"freq\",\"freq\",\"freq\",\"freq\",\"freq\",\"freq\",\"freq\",\"freq\",\"freq\",\"freq\",\"freq\",\"freq\",\"freq\",\"freq\",\"freq\",\"freq\",\"freq\",\"freq\",\"freq\",\"freq\",\"freq\",\"freq\",\"freq\",\"freq\",\"freq\",\"freq\",\"freq\",\"freq\",\"freq\",\"freq\",\"freq\",\"freq\",\"freq\",\"freq\",\"freq\",\"freq\",\"freq\",\"freq\",\"freq\",\"freq\",\"freq\",\"freq\",\"freq\",\"freq\",\"freq\",\"freq\",\"freq\",\"freq\",\"freq\",\"freq\",\"freq\",\"freq\",\"freq\",\"freq\",\"freq\",\"freq\",\"freq\",\"freq\",\"freq\",\"freq\",\"freq\",\"freq\",\"freq\",\"freq\",\"freq\",\"freq\",\"freq\",\"freq\",\"freq\",\"freq\",\"freq\",\"freq\",\"freq\",\"freq\",\"freq\",\"freq\",\"freq\",\"freq\",\"freq\",\"freq\",\"freq\",\"freq\",\"freq\",\"freq\",\"freq\",\"freq\",\"freq\",\"freq\",\"freq\",\"freq\",\"freq\",\"freq\",\"freq\",\"freq\",\"freq\",\"freq\",\"freq\",\"freq\",\"freq\",\"freq\",\"freq\",\"freq\",\"freq\",\"freq\",\"freq\",\"freq\",\"freq\",\"freq\",\"freq\",\"freq\",\"freq\",\"freq\",\"freq\",\"freq\",\"freq\",\"freq\",\"freq\",\"freq\",\"freq\",\"freq\",\"freq\",\"freq\",\"freq\",\"freq\",\"freq\",\"freq\",\"freq\",\"freq\",\"freq\",\"freq\",\"freq\",\"freq\",\"freq\",\"freq\",\"freq\",\"freq\",\"freq\",\"freq\",\"freq\",\"freq\",\"freq\",\"freq\",\"freq\",\"freq\",\"freq\",\"freq\",\"freq\",\"freq\",\"freq\",\"freq\",\"freq\",\"freq\",\"freq\",\"freq\",\"freq\",\"freq\",\"freq\",\"freq\",\"freq\",\"freq\",\"freq\",\"freq\",\"freq\",\"freq\",\"freq\",\"freq\",\"freq\",\"freq\",\"freq\",\"freq\",\"freq\",\"freq\",\"freq\",\"freq\",\"freq\",\"freq\",\"freq\",\"freq\",\"freq\",\"freq\",\"freq\",\"freq\",\"freq\",\"freq\",\"freq\",\"freq\",\"freq\",\"freq\",\"freq\",\"freq\",\"freq\",\"freq\",\"freq\",\"freq\",\"freq\",\"freq\",\"freq\",\"freq\",\"freq\",\"freq\",\"freq\",\"freq\",\"freq\",\"freq\",\"freq\",\"freq\",\"freq\",\"freq\",\"freq\",\"freq\",\"freq\",\"freq\",\"freq\",\"freq\",\"freq\",\"freq\",\"freq\",\"freq\",\"freq\",\"freq\",\"freq\",\"freq\",\"freq\",\"freq\",\"freq\",\"freq\",\"freq\",\"freq\",\"freq\",\"freq\",\"freq\",\"freq\",\"freq\",\"freq\",\"freq\",\"freq\",\"freq\",\"freq\",\"freq\",\"freq\",\"freq\",\"freq\",\"freq\",\"freq\",\"freq\",\"freq\",\"freq\",\"freq\",\"freq\",\"freq\",\"freq\",\"freq\",\"freq\",\"freq\",\"freq\",\"freq\",\"freq\",\"freq\",\"freq\",\"freq\",\"freq\",\"freq\",\"freq\",\"freq\",\"freq\",\"freq\",\"freq\",\"freq\",\"freq\",\"freq\",\"freq\",\"freq\",\"freq\",\"freq\",\"freq\",\"freq\",\"freq\",\"freq\",\"freq\",\"freq\",\"freq\",\"freq\",\"freq\",\"freq\",\"freq\",\"freq\",\"freq\",\"freq\",\"freq\",\"freq\",\"freq\",\"freq\",\"freq\",\"freq\",\"freq\",\"freq\",\"freq\",\"freq\",\"freq\",\"freq\",\"freq\",\"freq\",\"freq\",\"freq\",\"freq\",\"freq\",\"freq\",\"freq\",\"freq\",\"freq\",\"freq\",\"freq\",\"freq\",\"freq\",\"freq\",\"freq\",\"freq\",\"freq\",\"freq\",\"freq\",\"freq\",\"freq\",\"freq\",\"freq\",\"freq\",\"freq\",\"freq\",\"freq\",\"freq\",\"freq\",\"freq\",\"freq\",\"freq\",\"freq\",\"freq\",\"freq\",\"freq\",\"freq\",\"freq\",\"freq\",\"freq\",\"freq\",\"freq\",\"freq\",\"freq\",\"freq\",\"freq\",\"freq\",\"freq\",\"freq\",\"freq\",\"freq\",\"freq\",\"freq\",\"freq\",\"freq\",\"freq\",\"freq\",\"freq\",\"freq\",\"freq\",\"freq\",\"freq\",\"freq\",\"freq\",\"freq\",\"freq\",\"freq\",\"freq\",\"freq\",\"freq\",\"freq\",\"freq\",\"freq\",\"freq\",\"freq\",\"freq\",\"freq\",\"freq\",\"freq\",\"freq\",\"freq\",\"freq\",\"freq\",\"freq\",\"freq\",\"freq\",\"freq\",\"freq\",\"freq\",\"freq\",\"freq\",\"freq\",\"freq\",\"freq\",\"freq\",\"freq\",\"freq\",\"freq\",\"freq\",\"freq\",\"freq\",\"freq\",\"freq\",\"freq\",\"freq\",\"freq\",\"freq\",\"freq\",\"freq\",\"freq\",\"freq\",\"freq\",\"freq\",\"freq\",\"freq\",\"freq\",\"freq\",\"freq\",\"freq\",\"freq\",\"freq\",\"freq\",\"freq\",\"freq\",\"freq\",\"freq\",\"freq\",\"freq\",\"freq\",\"freq\",\"freq\",\"freq\",\"freq\",\"freq\",\"freq\",\"freq\",\"freq\",\"freq\",\"freq\",\"freq\",\"freq\",\"freq\",\"freq\",\"freq\",\"freq\",\"freq\",\"freq\",\"freq\",\"freq\",\"freq\",\"freq\",\"freq\",\"freq\",\"freq\",\"freq\",\"freq\",\"freq\",\"freq\",\"freq\",\"freq\",\"freq\",\"freq\",\"freq\",\"freq\",\"freq\",\"freq\",\"freq\",\"freq\",\"freq\",\"freq\",\"freq\",\"freq\",\"freq\",\"freq\",\"freq\",\"freq\",\"freq\",\"freq\",\"freq\",\"freq\",\"freq\",\"freq\",\"freq\",\"freq\",\"freq\",\"freq\",\"freq\",\"freq\",\"freq\",\"freq\",\"freq\",\"freq\",\"freq\",\"freq\",\"freq\",\"freq\",\"freq\",\"freq\",\"freq\",\"freq\",\"freq\",\"freq\",\"freq\",\"freq\",\"freq\",\"freq\",\"freq\",\"freq\",\"freq\",\"freq\",\"freq\",\"freq\",\"freq\",\"freq\",\"freq\",\"freq\",\"freq\",\"freq\",\"freq\",\"freq\",\"freq\",\"freq\",\"freq\",\"freq\",\"freq\",\"freq\",\"freq\",\"freq\",\"freq\",\"freq\",\"freq\",\"freq\",\"freq\",\"freq\",\"freq\",\"freq\",\"freq\",\"freq\",\"freq\",\"freq\",\"freq\",\"freq\",\"freq\",\"freq\",\"freq\",\"freq\",\"freq\",\"freq\",\"freq\",\"freq\",\"freq\",\"freq\",\"freq\",\"freq\",\"freq\",\"freq\",\"freq\",\"freq\",\"freq\",\"freq\",\"freq\",\"freq\",\"freq\",\"freq\",\"freq\",\"freq\",\"freq\",\"freq\",\"freq\",\"freq\",\"freq\",\"freq\",\"freq\",\"freq\",\"freq\",\"freq\",\"freq\",\"freq\",\"freq\",\"freq\",\"freq\",\"freq\",\"freq\",\"freq\",\"freq\",\"freq\",\"freq\",\"freq\",\"freq\",\"freq\",\"freq\",\"freq\",\"freq\",\"freq\",\"freq\",\"freq\",\"freq\",\"freq\",\"freq\",\"freq\",\"freq\",\"freq\",\"freq\",\"freq\",\"freq\",\"freq\",\"freq\",\"freq\",\"freq\",\"freq\",\"freq\",\"freq\",\"freq\",\"freq\",\"freq\",\"freq\",\"freq\",\"freq\",\"freq\",\"freq\",\"freq\",\"freq\",\"freq\",\"freq\",\"freq\",\"freq\",\"freq\",\"freq\",\"freq\",\"freq\",\"freq\",\"freq\",\"freq\",\"freq\",\"freq\",\"freq\",\"freq\",\"freq\",\"freq\",\"freq\",\"freq\",\"freq\",\"freq\",\"freq\",\"freq\",\"freq\",\"freq\",\"freq\",\"freq\",\"freq\",\"freq\",\"freq\",\"freq\",\"freq\",\"freq\",\"freq\",\"freq\",\"freq\",\"freq\",\"freq\",\"freq\",\"freq\",\"freq\",\"freq\",\"freq\",\"freq\",\"freq\",\"freq\",\"freq\",\"freq\",\"freq\",\"freq\",\"freq\",\"freq\",\"freq\",\"freq\",\"freq\",\"freq\",\"freq\",\"freq\",\"freq\",\"freq\",\"freq\",\"freq\",\"freq\",\"freq\",\"freq\",\"freq\",\"freq\",\"freq\",\"freq\",\"freq\",\"freq\",\"freq\",\"freq\",\"freq\",\"freq\",\"freq\",\"freq\",\"freq\",\"freq\",\"freq\",\"freq\",\"freq\",\"freq\",\"freq\",\"freq\",\"freq\",\"freq\",\"freq\",\"freq\",\"freq\",\"freq\",\"freq\",\"freq\",\"freq\",\"freq\",\"freq\",\"freq\",\"freq\",\"freq\",\"freq\",\"freq\",\"freq\",\"freq\",\"freq\",\"freq\",\"freq\",\"freq\",\"freq\",\"freq\",\"freq\",\"freq\",\"freq\",\"freq\",\"freq\",\"freq\",\"freq\",\"freq\",\"freq\",\"freq\",\"freq\",\"freq\",\"freq\",\"freq\",\"freq\",\"freq\",\"freq\",\"freq\",\"freq\",\"freq\",\"freq\",\"freq\",\"freq\",\"freq\",\"freq\",\"freq\",\"freq\",\"freq\",\"freq\",\"freq\",\"freq\",\"freq\",\"freq\",\"freq\",\"freq\",\"freq\",\"freq\",\"freq\",\"freq\",\"freq\",\"freq\",\"freq\",\"freq\",\"freq\",\"freq\",\"freq\",\"freq\",\"freq\",\"freq\",\"freq\",\"freq\",\"freq\",\"freq\",\"freq\",\"freq\",\"freq\",\"freq\",\"freq\",\"freq\",\"freq\",\"freq\",\"freq\",\"freq\",\"freq\",\"freq\",\"freq\",\"freq\",\"freq\",\"freq\",\"freq\",\"freq\",\"freq\",\"freq\",\"freq\",\"freq\",\"freq\",\"freq\",\"freq\",\"freq\",\"freq\",\"freq\",\"freq\",\"freq\",\"freq\",\"freq\",\"freq\",\"freq\",\"freq\",\"freq\",\"freq\",\"freq\",\"freq\",\"freq\",\"freq\",\"freq\",\"freq\",\"freq\",\"freq\",\"freq\",\"freq\",\"freq\",\"freq\",\"freq\",\"freq\",\"freq\",\"freq\",\"freq\",\"freq\",\"freq\",\"freq\",\"freq\",\"freq\",\"freq\",\"freq\",\"freq\",\"freq\",\"freq\",\"freq\",\"freq\",\"freq\",\"freq\",\"freq\",\"freq\",\"freq\",\"freq\",\"freq\",\"freq\",\"freq\",\"freq\",\"freq\",\"freq\",\"freq\",\"freq\",\"freq\",\"freq\",\"freq\",\"freq\",\"freq\",\"freq\",\"freq\",\"freq\",\"freq\",\"freq\",\"freq\",\"freq\",\"freq\",\"freq\",\"freq\",\"freq\",\"freq\",\"freq\",\"freq\",\"freq\",\"freq\",\"freq\",\"freq\",\"freq\",\"freq\",\"freq\",\"freq\",\"freq\",\"freq\",\"freq\",\"freq\",\"freq\",\"freq\",\"freq\",\"freq\",\"freq\",\"freq\",\"freq\",\"freq\",\"freq\",\"freq\",\"freq\",\"freq\",\"freq\",\"freq\",\"freq\",\"freq\",\"freq\",\"freq\",\"freq\",\"freq\",\"freq\",\"freq\",\"freq\",\"freq\",\"freq\",\"freq\",\"freq\",\"freq\",\"freq\",\"freq\",\"freq\",\"freq\",\"freq\",\"freq\",\"freq\",\"freq\",\"freq\",\"freq\",\"freq\",\"freq\",\"freq\",\"freq\",\"freq\",\"freq\",\"freq\",\"freq\",\"freq\",\"freq\",\"freq\",\"freq\",\"freq\",\"freq\",\"freq\",\"freq\",\"freq\",\"freq\",\"freq\",\"freq\",\"freq\",\"freq\",\"freq\",\"freq\",\"freq\",\"freq\",\"freq\",\"freq\",\"freq\",\"freq\",\"freq\",\"freq\",\"freq\",\"freq\",\"freq\",\"freq\",\"freq\",\"freq\",\"freq\",\"freq\",\"freq\",\"freq\",\"freq\",\"freq\",\"freq\",\"freq\",\"freq\",\"freq\",\"freq\",\"freq\",\"freq\",\"freq\",\"freq\",\"freq\",\"freq\",\"freq\",\"freq\",\"freq\",\"freq\",\"freq\",\"freq\",\"freq\",\"freq\",\"freq\",\"freq\",\"freq\",\"freq\",\"freq\",\"freq\",\"freq\",\"freq\",\"freq\",\"freq\",\"freq\",\"freq\",\"freq\",\"freq\",\"freq\",\"freq\",\"freq\",\"freq\",\"freq\",\"freq\",\"freq\",\"freq\",\"freq\",\"freq\",\"freq\",\"freq\",\"freq\",\"freq\",\"freq\",\"freq\",\"freq\",\"freq\",\"freq\",\"freq\",\"freq\",\"freq\",\"freq\",\"freq\",\"freq\",\"freq\",\"freq\",\"freq\",\"freq\",\"freq\",\"freq\",\"freq\",\"freq\",\"freq\",\"freq\",\"freq\",\"freq\",\"freq\",\"freq\",\"freq\",\"freq\",\"freq\",\"freq\",\"freq\",\"freq\",\"freq\",\"freq\",\"freq\",\"freq\",\"freq\",\"freq\",\"freq\",\"freq\",\"freq\",\"freq\",\"freq\",\"freq\",\"freq\",\"freq\",\"freq\",\"freq\",\"freq\",\"freq\",\"freq\",\"freq\",\"freq\",\"freq\",\"freq\",\"freq\",\"freq\",\"freq\",\"freq\",\"freq\",\"freq\",\"freq\",\"freq\",\"freq\",\"freq\",\"freq\",\"freq\",\"freq\",\"freq\",\"freq\",\"freq\",\"freq\",\"freq\",\"freq\",\"freq\",\"freq\",\"freq\",\"freq\",\"freq\",\"freq\",\"freq\",\"freq\",\"freq\",\"freq\",\"freq\",\"freq\",\"freq\",\"freq\",\"freq\",\"freq\",\"freq\",\"freq\",\"freq\",\"freq\",\"freq\",\"freq\",\"freq\",\"freq\",\"freq\",\"freq\",\"freq\",\"freq\",\"freq\",\"freq\",\"freq\",\"freq\",\"freq\",\"freq\",\"freq\",\"freq\",\"freq\",\"freq\",\"freq\",\"freq\",\"freq\",\"freq\",\"freq\",\"freq\",\"freq\",\"freq\",\"freq\",\"freq\",\"freq\",\"freq\",\"freq\",\"freq\",\"freq\",\"freq\",\"freq\",\"freq\",\"freq\",\"freq\",\"freq\",\"freq\",\"freq\",\"freq\",\"freq\",\"freq\",\"freq\",\"freq\",\"freq\",\"freq\",\"freq\",\"freq\",\"freq\",\"freq\",\"freq\",\"freq\",\"freq\",\"freq\",\"freq\",\"freq\",\"freq\",\"freq\",\"freq\",\"freq\",\"freq\",\"freq\",\"freq\",\"freq\",\"freq\",\"freq\",\"freq\",\"freq\",\"freq\",\"freq\",\"freq\",\"freq\",\"freq\",\"freq\",\"freq\",\"freq\",\"freq\",\"freq\",\"freq\",\"freq\",\"freq\",\"freq\",\"freq\",\"freq\",\"freq\",\"freq\",\"freq\",\"freq\",\"freq\",\"freq\",\"freq\",\"freq\",\"freq\",\"freq\",\"freq\",\"freq\",\"freq\",\"freq\",\"freq\",\"freq\",\"freq\",\"freq\",\"freq\",\"freq\",\"freq\",\"freq\",\"freq\",\"freq\",\"freq\",\"freq\",\"freq\",\"freq\",\"freq\",\"freq\",\"freq\",\"freq\",\"freq\",\"freq\",\"freq\",\"freq\",\"freq\",\"freq\",\"freq\",\"freq\",\"freq\",\"freq\",\"freq\",\"freq\",\"freq\",\"freq\",\"freq\",\"freq\",\"freq\",\"freq\",\"freq\",\"freq\",\"freq\",\"freq\",\"freq\",\"freq\",\"freq\",\"freq\",\"freq\",\"freq\",\"freq\",\"freq\",\"freq\",\"freq\",\"freq\",\"freq\",\"freq\",\"freq\",\"freq\",\"freq\",\"freq\",\"freq\",\"freq\",\"freq\",\"freq\",\"freq\",\"freq\",\"freq\",\"freq\",\"freq\",\"freq\",\"freq\",\"freq\",\"freq\",\"freq\",\"freq\",\"freq\",\"freq\",\"freq\",\"freq\",\"freq\",\"freq\",\"freq\",\"freq\",\"freq\",\"freq\",\"freq\",\"freq\",\"freq\",\"freq\",\"freq\",\"freq\",\"freq\",\"freq\",\"freq\",\"freq\",\"freq\",\"freq\",\"freq\",\"freq\",\"freq\",\"freq\",\"freq\",\"freq\",\"freq\",\"freq\",\"freq\",\"freq\",\"freq\",\"freq\",\"freq\",\"freq\",\"freq\",\"freq\",\"freq\",\"freq\",\"freq\",\"freq\",\"freq\",\"freq\",\"freq\",\"freq\",\"freq\",\"freq\",\"freq\",\"freq\",\"freq\",\"freq\",\"freq\",\"freq\",\"freq\",\"freq\",\"freq\",\"freq\",\"freq\",\"freq\",\"freq\",\"freq\",\"freq\",\"freq\",\"freq\",\"freq\",\"freq\",\"freq\",\"freq\",\"freq\",\"freq\",\"freq\",\"freq\",\"freq\",\"freq\",\"freq\",\"freq\",\"freq\",\"freq\",\"freq\",\"freq\",\"freq\",\"freq\",\"freq\",\"freq\",\"freq\",\"freq\",\"freq\",\"freq\",\"freq\",\"freq\",\"freq\",\"freq\",\"freq\",\"freq\",\"freq\",\"freq\",\"freq\",\"freq\",\"freq\",\"freq\",\"freq\",\"freq\",\"freq\",\"freq\",\"freq\",\"freq\",\"freq\",\"freq\",\"freq\",\"freq\",\"freq\",\"freq\",\"freq\",\"freq\",\"freq\",\"freq\",\"freq\",\"freq\",\"freq\",\"freq\",\"freq\",\"freq\",\"freq\",\"freq\",\"freq\",\"freq\",\"freq\",\"freq\",\"freq\",\"freq\",\"freq\",\"freq\",\"freq\",\"freq\",\"freq\",\"freq\",\"freq\",\"freq\",\"freq\",\"freq\",\"freq\",\"freq\",\"freq\",\"freq\",\"freq\",\"freq\",\"freq\",\"freq\",\"freq\",\"freq\",\"freq\",\"freq\",\"freq\",\"freq\",\"freq\",\"freq\",\"freq\",\"freq\",\"freq\",\"freq\",\"freq\",\"freq\",\"freq\",\"freq\",\"freq\",\"freq\",\"freq\",\"freq\",\"freq\",\"freq\",\"freq\",\"freq\",\"freq\",\"freq\",\"freq\",\"freq\",\"freq\",\"freq\",\"freq\",\"freq\",\"freq\",\"freq\",\"freq\",\"freq\",\"freq\",\"freq\",\"freq\",\"freq\",\"freq\",\"freq\",\"freq\",\"freq\",\"freq\",\"freq\",\"freq\",\"freq\",\"freq\",\"freq\",\"freq\",\"freq\",\"freq\",\"freq\",\"freq\",\"freq\",\"freq\",\"freq\",\"freq\",\"freq\",\"freq\",\"freq\",\"freq\",\"freq\",\"freq\",\"freq\",\"freq\",\"freq\",\"freq\",\"freq\",\"freq\",\"freq\",\"freq\",\"freq\",\"freq\",\"freq\",\"freq\",\"freq\",\"freq\",\"freq\",\"freq\",\"freq\",\"freq\",\"freq\",\"freq\",\"freq\",\"freq\",\"freq\",\"freq\",\"freq\",\"freq\",\"freq\",\"freq\",\"freq\",\"freq\",\"freq\",\"freq\",\"freq\",\"freq\",\"freq\",\"freq\",\"freq\",\"freq\",\"freq\",\"freq\",\"freq\",\"freq\",\"freq\",\"freq\",\"freq\",\"freq\",\"freq\",\"freq\",\"freq\",\"freq\",\"freq\",\"freq\",\"freq\",\"freq\",\"freq\",\"freq\",\"freq\",\"freq\",\"freq\",\"freq\",\"freq\",\"freq\",\"freq\",\"freq\",\"freq\",\"freq\",\"freq\",\"freq\",\"freq\",\"freq\",\"freq\",\"freq\",\"freq\",\"freq\",\"freq\",\"freq\",\"freq\",\"freq\",\"freq\",\"freq\",\"freq\",\"freq\",\"freq\",\"freq\",\"freq\",\"freq\",\"freq\",\"freq\",\"freq\",\"freq\",\"freq\",\"freq\",\"freq\",\"freq\",\"freq\",\"freq\",\"freq\",\"freq\",\"freq\",\"freq\",\"freq\",\"freq\",\"freq\",\"freq\",\"freq\",\"freq\",\"freq\",\"freq\",\"freq\",\"freq\",\"freq\",\"freq\",\"freq\",\"freq\",\"freq\",\"freq\",\"freq\",\"freq\",\"freq\",\"freq\",\"freq\",\"freq\",\"freq\",\"freq\",\"freq\",\"freq\",\"freq\",\"freq\",\"freq\",\"freq\",\"freq\",\"freq\",\"freq\",\"freq\",\"freq\",\"freq\",\"freq\",\"freq\",\"freq\",\"freq\",\"freq\",\"freq\",\"freq\",\"freq\",\"freq\",\"freq\",\"freq\",\"freq\",\"freq\",\"freq\",\"freq\",\"freq\",\"freq\",\"freq\",\"freq\",\"freq\",\"freq\",\"freq\",\"freq\",\"freq\",\"freq\",\"freq\",\"freq\",\"freq\",\"freq\",\"freq\",\"freq\",\"freq\",\"freq\",\"freq\",\"freq\",\"freq\",\"freq\",\"freq\",\"freq\",\"freq\",\"freq\",\"freq\",\"freq\",\"freq\",\"freq\",\"freq\",\"freq\",\"freq\",\"freq\",\"freq\",\"freq\",\"freq\",\"freq\",\"freq\",\"freq\",\"freq\",\"freq\",\"freq\",\"freq\",\"freq\",\"freq\",\"freq\",\"freq\",\"freq\",\"freq\",\"freq\",\"freq\",\"freq\",\"freq\",\"freq\",\"freq\",\"freq\",\"freq\",\"freq\",\"freq\",\"freq\",\"freq\",\"freq\",\"freq\",\"freq\",\"freq\",\"freq\",\"freq\",\"freq\",\"freq\",\"freq\",\"freq\",\"freq\",\"freq\",\"freq\",\"freq\",\"freq\",\"freq\",\"freq\",\"freq\",\"freq\",\"freq\",\"freq\",\"freq\",\"freq\",\"freq\",\"freq\",\"freq\",\"freq\",\"freq\",\"freq\",\"freq\",\"freq\",\"freq\",\"freq\",\"freq\",\"freq\",\"freq\",\"freq\",\"freq\",\"freq\",\"freq\",\"freq\",\"freq\",\"freq\",\"freq\",\"freq\",\"freq\",\"freq\",\"freq\",\"freq\",\"freq\",\"freq\",\"freq\",\"freq\",\"freq\",\"freq\",\"freq\",\"freq\",\"freq\",\"freq\",\"freq\",\"freq\",\"freq\",\"freq\",\"freq\",\"freq\",\"freq\",\"freq\",\"freq\",\"freq\",\"freq\",\"freq\",\"freq\",\"freq\",\"freq\",\"freq\",\"freq\",\"freq\",\"freq\",\"freq\",\"freq\",\"freq\",\"freq\",\"freq\",\"freq\",\"freq\",\"freq\",\"freq\",\"freq\",\"freq\",\"freq\",\"freq\",\"freq\",\"freq\",\"freq\",\"freq\",\"freq\",\"freq\",\"freq\",\"freq\",\"freq\",\"freq\",\"freq\",\"freq\",\"freq\",\"freq\",\"freq\",\"freq\",\"freq\",\"freq\",\"freq\",\"freq\",\"freq\",\"freq\",\"freq\",\"freq\",\"freq\",\"freq\",\"freq\",\"freq\",\"freq\",\"freq\",\"freq\",\"freq\",\"freq\",\"freq\",\"freq\",\"freq\",\"freq\",\"freq\",\"freq\",\"freq\",\"freq\",\"freq\",\"freq\",\"freq\",\"freq\",\"freq\",\"freq\",\"freq\",\"freq\",\"freq\",\"freq\",\"freq\",\"freq\",\"freq\",\"freq\",\"freq\",\"freq\",\"freq\",\"freq\",\"freq\",\"freq\",\"freq\",\"freq\",\"freq\",\"freq\",\"freq\",\"freq\",\"freq\",\"freq\",\"freq\",\"freq\",\"freq\",\"freq\",\"freq\",\"freq\",\"freq\",\"freq\",\"freq\",\"freq\",\"freq\",\"freq\",\"freq\",\"freq\",\"freq\",\"freq\",\"freq\",\"freq\",\"freq\",\"freq\",\"freq\",\"freq\",\"freq\",\"freq\",\"freq\",\"freq\",\"freq\",\"freq\",\"freq\",\"freq\",\"freq\",\"freq\",\"freq\",\"freq\",\"freq\",\"freq\",\"freq\",\"freq\",\"freq\",\"freq\",\"freq\",\"freq\",\"freq\",\"freq\",\"freq\",\"freq\",\"freq\",\"freq\",\"freq\",\"freq\",\"freq\",\"freq\",\"freq\",\"freq\",\"freq\",\"freq\",\"freq\",\"freq\",\"freq\",\"freq\",\"freq\",\"freq\",\"freq\",\"freq\",\"freq\",\"freq\",\"freq\",\"freq\",\"freq\",\"freq\",\"freq\",\"freq\",\"freq\",\"freq\",\"freq\",\"freq\",\"freq\",\"freq\",\"freq\",\"freq\",\"freq\",\"freq\",\"freq\",\"freq\",\"freq\",\"freq\",\"freq\",\"freq\",\"freq\",\"freq\",\"freq\",\"freq\",\"freq\",\"freq\",\"freq\",\"freq\",\"freq\",\"freq\",\"freq\",\"freq\",\"freq\",\"freq\",\"freq\",\"freq\",\"freq\",\"freq\",\"freq\",\"freq\",\"freq\",\"freq\",\"freq\",\"freq\",\"freq\",\"freq\",\"freq\",\"freq\",\"freq\",\"freq\",\"freq\",\"freq\",\"freq\",\"freq\",\"freq\",\"freq\",\"freq\",\"freq\",\"freq\",\"freq\",\"freq\",\"freq\",\"freq\",\"freq\",\"freq\",\"freq\",\"freq\",\"freq\",\"freq\",\"freq\",\"freq\",\"freq\",\"freq\",\"freq\",\"freq\",\"freq\",\"freq\",\"freq\",\"freq\",\"freq\",\"freq\",\"freq\",\"freq\",\"freq\",\"freq\",\"freq\",\"freq\",\"freq\",\"freq\",\"freq\",\"freq\",\"freq\",\"freq\",\"freq\",\"freq\",\"freq\",\"freq\",\"freq\",\"freq\",\"freq\",\"freq\",\"freq\",\"freq\",\"freq\",\"freq\",\"freq\",\"freq\",\"freq\",\"freq\",\"freq\",\"freq\",\"freq\",\"freq\",\"freq\",\"freq\",\"freq\",\"freq\",\"freq\",\"freq\",\"freq\",\"freq\",\"freq\",\"freq\",\"freq\",\"freq\",\"freq\",\"freq\",\"freq\",\"freq\",\"freq\",\"freq\",\"freq\",\"freq\",\"freq\",\"freq\",\"freq\",\"freq\",\"freq\",\"freq\",\"freq\",\"freq\",\"freq\",\"freq\",\"freq\",\"freq\",\"freq\",\"freq\",\"freq\",\"freq\",\"freq\",\"freq\",\"freq\",\"freq\",\"freq\",\"freq\",\"freq\",\"freq\",\"freq\",\"freq\",\"freq\",\"freq\",\"freq\",\"freq\",\"freq\",\"freq\",\"freq\",\"freq\",\"freq\",\"freq\",\"freq\",\"freq\",\"freq\",\"freq\",\"freq\",\"freq\",\"freq\",\"freq\",\"freq\",\"freq\",\"freq\",\"freq\",\"freq\",\"freq\",\"freq\",\"freq\",\"freq\",\"freq\",\"freq\",\"freq\",\"freq\",\"freq\",\"freq\",\"freq\",\"freq\",\"freq\",\"freq\",\"freq\",\"freq\",\"freq\",\"freq\",\"freq\",\"freq\",\"freq\",\"freq\",\"freq\",\"freq\",\"freq\",\"freq\",\"freq\",\"freq\",\"freq\",\"freq\",\"freq\",\"freq\",\"freq\",\"freq\",\"freq\",\"freq\",\"freq\",\"freq\",\"freq\",\"freq\",\"freq\",\"freq\",\"freq\",\"freq\",\"freq\",\"freq\",\"freq\",\"freq\",\"freq\",\"freq\",\"freq\",\"freq\",\"freq\",\"freq\",\"freq\",\"freq\",\"freq\",\"freq\",\"freq\",\"freq\",\"freq\",\"freq\",\"freq\",\"freq\",\"freq\",\"freq\",\"freq\",\"freq\",\"freq\",\"freq\",\"freq\",\"freq\",\"freq\",\"freq\",\"freq\",\"freq\",\"freq\",\"freq\",\"freq\",\"freq\",\"freq\",\"freq\",\"freq\",\"freq\",\"freq\",\"freq\",\"freq\",\"freq\",\"freq\",\"freq\",\"freq\",\"freq\",\"freq\",\"freq\",\"freq\",\"freq\",\"freq\",\"freq\",\"freq\",\"freq\",\"freq\",\"freq\",\"freq\",\"freq\",\"freq\",\"freq\",\"freq\",\"freq\",\"freq\",\"freq\",\"freq\",\"freq\",\"freq\",\"freq\",\"freq\",\"freq\",\"freq\",\"freq\",\"freq\",\"freq\",\"freq\",\"freq\",\"freq\",\"freq\",\"freq\",\"freq\",\"freq\",\"freq\",\"freq\",\"freq\",\"freq\",\"freq\",\"freq\",\"freq\",\"freq\",\"freq\",\"freq\",\"freq\",\"freq\",\"freq\",\"freq\",\"freq\",\"freq\",\"freq\",\"freq\",\"freq\",\"freq\",\"freq\",\"freq\",\"freq\",\"freq\",\"freq\",\"freq\",\"freq\",\"freq\",\"freq\",\"freq\",\"freq\",\"freq\",\"freq\",\"freq\",\"freq\",\"freq\",\"freq\",\"freq\",\"freq\",\"freq\",\"freq\",\"freq\",\"freq\",\"freq\",\"freq\",\"freq\",\"freq\",\"freq\",\"freq\",\"freq\",\"freq\",\"freq\",\"freq\",\"freq\",\"freq\",\"freq\",\"freq\",\"freq\",\"freq\",\"freq\",\"freq\",\"freq\",\"freq\",\"freq\",\"freq\",\"freq\",\"freq\",\"freq\",\"freq\",\"freq\",\"freq\",\"freq\",\"freq\",\"freq\",\"freq\",\"freq\",\"freq\",\"freq\",\"freq\",\"freq\",\"freq\",\"freq\",\"freq\",\"freq\",\"freq\",\"freq\",\"freq\",\"freq\",\"freq\",\"freq\",\"freq\",\"freq\",\"freq\",\"freq\",\"freq\",\"freq\",\"freq\",\"freq\",\"freq\",\"freq\",\"freq\",\"freq\",\"freq\",\"freq\",\"freq\",\"freq\",\"freq\",\"freq\",\"freq\",\"freq\",\"freq\",\"freq\",\"freq\",\"freq\",\"freq\",\"freq\",\"freq\",\"freq\",\"freq\",\"freq\",\"freq\",\"freq\",\"freq\",\"freq\",\"freq\",\"freq\",\"freq\",\"freq\",\"freq\",\"freq\",\"freq\",\"freq\",\"freq\",\"freq\",\"freq\",\"freq\",\"freq\",\"freq\",\"freq\",\"freq\",\"freq\",\"freq\",\"freq\",\"freq\",\"freq\",\"freq\",\"freq\",\"freq\",\"freq\",\"freq\",\"freq\",\"freq\",\"freq\",\"freq\",\"freq\",\"freq\",\"freq\",\"freq\",\"freq\",\"freq\",\"freq\",\"freq\",\"freq\",\"freq\",\"freq\",\"freq\",\"freq\",\"freq\",\"freq\",\"freq\",\"freq\",\"freq\",\"freq\",\"freq\",\"freq\",\"freq\",\"freq\",\"freq\",\"freq\",\"freq\",\"freq\",\"freq\",\"freq\",\"freq\",\"freq\",\"freq\",\"freq\",\"freq\",\"freq\",\"freq\",\"freq\",\"freq\",\"freq\",\"freq\",\"freq\",\"freq\",\"freq\",\"freq\",\"freq\",\"freq\",\"freq\",\"freq\",\"freq\",\"freq\",\"freq\",\"freq\",\"freq\",\"freq\",\"freq\",\"freq\",\"freq\",\"freq\",\"freq\",\"freq\",\"freq\",\"freq\",\"freq\",\"freq\",\"freq\",\"freq\",\"freq\",\"freq\",\"freq\",\"freq\",\"freq\",\"freq\",\"freq\",\"freq\",\"freq\",\"freq\",\"freq\",\"freq\",\"freq\",\"freq\",\"freq\",\"freq\",\"freq\",\"freq\",\"freq\",\"freq\",\"freq\",\"freq\",\"freq\",\"freq\",\"freq\",\"freq\",\"freq\",\"freq\",\"freq\",\"freq\",\"freq\",\"freq\",\"freq\",\"freq\",\"freq\",\"freq\",\"freq\",\"freq\",\"freq\",\"freq\",\"freq\",\"freq\",\"freq\",\"freq\",\"freq\",\"freq\",\"freq\",\"freq\",\"freq\",\"freq\",\"freq\",\"freq\",\"freq\",\"freq\",\"freq\",\"freq\",\"freq\",\"freq\",\"freq\",\"freq\",\"freq\",\"freq\",\"freq\",\"freq\",\"freq\",\"freq\",\"freq\",\"freq\",\"freq\",\"freq\",\"freq\",\"freq\",\"freq\",\"freq\",\"freq\",\"freq\",\"freq\",\"freq\",\"freq\",\"freq\",\"freq\",\"freq\",\"freq\",\"freq\",\"freq\",\"freq\",\"freq\",\"freq\",\"freq\",\"freq\",\"freq\",\"freq\",\"freq\",\"freq\",\"freq\",\"freq\",\"freq\",\"freq\",\"freq\",\"freq\",\"freq\",\"freq\",\"freq\",\"freq\",\"freq\",\"freq\",\"freq\",\"freq\",\"freq\",\"freq\",\"freq\",\"freq\",\"freq\",\"freq\",\"freq\",\"freq\",\"freq\",\"freq\",\"freq\",\"freq\",\"freq\",\"freq\",\"freq\",\"freq\",\"freq\",\"freq\",\"freq\",\"freq\",\"freq\",\"freq\",\"freq\",\"freq\",\"freq\",\"freq\",\"freq\",\"freq\",\"freq\",\"freq\",\"freq\",\"freq\",\"freq\",\"freq\",\"freq\",\"freq\",\"freq\",\"freq\",\"freq\",\"freq\",\"freq\",\"freq\",\"freq\",\"freq\",\"freq\",\"freq\",\"freq\",\"freq\",\"freq\",\"freq\",\"freq\",\"freq\",\"freq\",\"freq\",\"freq\",\"freq\",\"freq\",\"freq\",\"freq\",\"freq\",\"freq\",\"freq\",\"freq\",\"freq\",\"freq\",\"freq\",\"freq\",\"freq\",\"freq\",\"freq\",\"freq\",\"freq\",\"freq\",\"freq\",\"freq\",\"freq\",\"freq\",\"freq\",\"freq\",\"freq\",\"freq\",\"freq\",\"freq\",\"freq\",\"freq\",\"freq\",\"freq\",\"freq\",\"freq\",\"freq\",\"freq\",\"freq\",\"freq\",\"freq\",\"freq\",\"freq\",\"freq\",\"freq\",\"freq\",\"freq\",\"freq\",\"freq\",\"freq\",\"freq\",\"freq\",\"freq\",\"freq\",\"freq\",\"freq\",\"freq\",\"freq\",\"freq\",\"freq\",\"freq\",\"freq\",\"freq\",\"freq\",\"freq\",\"freq\",\"freq\",\"freq\",\"freq\",\"freq\",\"freq\",\"freq\",\"freq\",\"freq\",\"freq\",\"freq\",\"freq\",\"freq\",\"freq\",\"freq\",\"freq\",\"freq\",\"freq\",\"freq\",\"freq\",\"freq\",\"freq\",\"freq\",\"freq\",\"freq\",\"freq\",\"freq\",\"freq\",\"freq\",\"freq\",\"freq\",\"freq\",\"freq\",\"freq\",\"freq\",\"freq\",\"freq\",\"freq\",\"freq\",\"freq\",\"freq\",\"freq\",\"freq\",\"freq\",\"freq\",\"freq\",\"freq\",\"freq\",\"freq\",\"freq\",\"freq\",\"freq\",\"freq\",\"freq\",\"freq\",\"freq\",\"freq\",\"freq\",\"freq\",\"freq\",\"freq\",\"freq\",\"freq\",\"freq\",\"freq\",\"freq\",\"freq\",\"freq\",\"freq\",\"freq\",\"freq\",\"freq\",\"freq\",\"freq\",\"freq\",\"freq\",\"freq\",\"freq\",\"freq\",\"freq\",\"freq\",\"freq\",\"freq\",\"freq\",\"freq\",\"freq\",\"freq\",\"freq\",\"freq\",\"freq\",\"freq\",\"freq\",\"freq\",\"freq\",\"freq\",\"freq\",\"freq\",\"freq\",\"freq\",\"freq\",\"freq\",\"freq\",\"freq\",\"freq\",\"freq\",\"freq\",\"freq\",\"freq\",\"freq\",\"freq\",\"freq\",\"freq\",\"freq\",\"freq\",\"freq\",\"freq\",\"freq\",\"freq\",\"freq\",\"freq\",\"freq\",\"freq\",\"freq\",\"freq\",\"freq\",\"freq\",\"freq\",\"freq\",\"freq\",\"freq\",\"freq\",\"freq\",\"freq\",\"freq\",\"freq\",\"freq\",\"freq\",\"freq\",\"freq\",\"freq\",\"freq\",\"freq\",\"freq\",\"freq\",\"freq\",\"freq\",\"freq\",\"freq\",\"freq\",\"freq\",\"freq\",\"freq\",\"freq\",\"freq\",\"freq\",\"freq\",\"freq\",\"freq\",\"freq\",\"freq\",\"freq\",\"freq\",\"freq\",\"freq\",\"freq\",\"freq\",\"freq\",\"freq\",\"freq\",\"freq\",\"freq\",\"freq\",\"freq\",\"freq\",\"freq\",\"freq\",\"freq\",\"freq\",\"freq\",\"freq\",\"freq\",\"freq\",\"freq\",\"freq\",\"freq\",\"freq\",\"freq\",\"freq\",\"freq\",\"freq\",\"freq\",\"freq\",\"freq\",\"freq\",\"freq\",\"freq\",\"freq\",\"freq\",\"freq\",\"freq\",\"freq\",\"freq\",\"freq\",\"freq\",\"freq\",\"freq\",\"freq\",\"freq\",\"freq\",\"freq\",\"freq\",\"freq\",\"freq\",\"freq\",\"freq\",\"freq\",\"freq\",\"freq\",\"freq\",\"freq\",\"freq\",\"freq\",\"freq\",\"freq\",\"freq\",\"freq\",\"freq\",\"freq\",\"freq\",\"freq\",\"freq\",\"freq\",\"freq\",\"freq\",\"freq\",\"freq\",\"freq\",\"freq\",\"freq\",\"freq\",\"freq\",\"freq\",\"freq\",\"freq\",\"freq\",\"freq\",\"freq\",\"freq\",\"freq\",\"freq\",\"freq\",\"freq\",\"freq\",\"freq\",\"freq\",\"freq\",\"freq\",\"freq\",\"freq\",\"freq\",\"freq\",\"freq\",\"freq\",\"freq\",\"freq\",\"freq\",\"freq\",\"freq\",\"freq\",\"freq\",\"freq\",\"freq\",\"freq\",\"freq\",\"freq\",\"freq\",\"freq\",\"freq\",\"freq\",\"freq\",\"freq\",\"freq\",\"freq\",\"freq\",\"freq\",\"freq\",\"freq\",\"freq\",\"freq\",\"freq\",\"freq\",\"freq\",\"freq\",\"freq\",\"freq\",\"freq\",\"freq\",\"freq\",\"freq\",\"freq\",\"freq\",\"freq\",\"freq\",\"freq\",\"freq\",\"freq\",\"freq\",\"freq\",\"freq\",\"freq\",\"freq\",\"freq\",\"freq\",\"freq\",\"freq\",\"freq\",\"freq\",\"freq\",\"freq\",\"freq\",\"freq\",\"freq\",\"freq\",\"freq\",\"freq\",\"freq\",\"freq\",\"freq\",\"freq\",\"freq\",\"freq\",\"freq\",\"freq\",\"freq\",\"freq\",\"freq\",\"freq\",\"freq\",\"freq\",\"freq\",\"freq\",\"freq\",\"freq\",\"freq\",\"freq\",\"freq\",\"freq\",\"freq\",\"freq\",\"freq\",\"freq\",\"freq\",\"freq\",\"freq\",\"freq\",\"freq\",\"freq\",\"freq\",\"freq\",\"freq\",\"freq\",\"freq\",\"freq\",\"freq\",\"freq\",\"freq\",\"freq\",\"freq\",\"freq\",\"freq\",\"freq\",\"freq\",\"freq\",\"freq\",\"freq\",\"freq\",\"freq\",\"freq\",\"freq\",\"freq\",\"freq\",\"freq\",\"freq\",\"freq\",\"freq\",\"freq\",\"freq\",\"freq\",\"freq\",\"freq\",\"freq\",\"freq\",\"freq\",\"freq\",\"freq\",\"freq\",\"freq\",\"freq\",\"freq\",\"freq\",\"freq\",\"freq\",\"freq\",\"freq\",\"freq\",\"freq\",\"freq\",\"freq\",\"freq\",\"freq\",\"freq\",\"freq\",\"freq\",\"freq\",\"freq\",\"freq\",\"freq\",\"freq\",\"freq\",\"freq\",\"freq\",\"freq\",\"freq\",\"freq\",\"freq\",\"freq\",\"freq\",\"freq\",\"freq\",\"freq\",\"freq\",\"freq\",\"freq\",\"freq\",\"freq\",\"freq\",\"freq\",\"freq\",\"freq\",\"freq\",\"freq\",\"freq\",\"freq\",\"freq\",\"freq\",\"freq\",\"freq\",\"freq\",\"freq\",\"freq\",\"freq\",\"freq\",\"freq\",\"freq\",\"freq\",\"freq\",\"freq\",\"freq\",\"freq\",\"freq\",\"freq\",\"freq\",\"freq\",\"freq\",\"freq\",\"freq\",\"freq\",\"freq\",\"freq\",\"freq\",\"freq\",\"freq\",\"freq\",\"freq\",\"freq\",\"freq\",\"freq\",\"freq\",\"freq\",\"freq\",\"freq\",\"freq\",\"freq\",\"freq\",\"freq\",\"freq\",\"freq\",\"freq\",\"freq\",\"freq\",\"freq\",\"freq\",\"freq\",\"freq\",\"freq\",\"freq\",\"freq\",\"freq\",\"freq\",\"freq\",\"freq\",\"freq\",\"freq\",\"freq\",\"freq\",\"freq\",\"freq\",\"freq\",\"freq\",\"freq\",\"freq\",\"freq\",\"freq\",\"freq\",\"freq\",\"freq\",\"freq\",\"freq\",\"freq\",\"freq\",\"freq\",\"freq\",\"freq\",\"freq\",\"freq\",\"freq\",\"freq\",\"freq\",\"freq\",\"freq\",\"freq\",\"freq\",\"freq\",\"freq\",\"freq\",\"freq\",\"freq\",\"freq\",\"freq\",\"freq\",\"freq\",\"freq\",\"freq\",\"freq\",\"freq\",\"freq\",\"freq\",\"freq\",\"freq\",\"freq\",\"freq\",\"freq\",\"freq\",\"freq\",\"freq\",\"freq\",\"freq\",\"freq\",\"freq\",\"freq\",\"freq\",\"freq\",\"freq\",\"freq\",\"freq\",\"freq\",\"freq\",\"freq\",\"freq\",\"freq\",\"freq\",\"freq\",\"freq\",\"freq\",\"freq\",\"freq\",\"freq\",\"freq\",\"freq\",\"freq\",\"freq\",\"freq\",\"freq\",\"freq\",\"freq\",\"freq\",\"freq\",\"freq\",\"freq\",\"freq\",\"freq\",\"freq\",\"freq\",\"freq\",\"freq\",\"freq\",\"freq\",\"freq\",\"freq\",\"freq\",\"freq\",\"freq\",\"freq\",\"freq\",\"freq\",\"freq\",\"freq\",\"freq\",\"freq\",\"freq\",\"freq\",\"freq\",\"freq\",\"freq\",\"freq\",\"freq\",\"freq\",\"freq\",\"freq\",\"freq\",\"freq\",\"freq\",\"freq\",\"freq\",\"freq\",\"freq\",\"freq\",\"freq\",\"freq\",\"freq\",\"freq\",\"freq\",\"freq\",\"freq\",\"freq\",\"freq\",\"freq\",\"freq\",\"freq\",\"freq\",\"freq\",\"freq\",\"freq\",\"freq\",\"freq\",\"freq\",\"freq\",\"freq\",\"freq\",\"freq\",\"freq\",\"freq\",\"freq\",\"freq\",\"freq\",\"freq\",\"freq\",\"freq\",\"freq\",\"freq\",\"freq\",\"freq\",\"freq\",\"freq\",\"freq\",\"freq\",\"freq\",\"freq\",\"freq\",\"freq\",\"freq\",\"freq\",\"freq\",\"freq\",\"freq\",\"freq\",\"freq\",\"freq\",\"freq\",\"freq\",\"freq\",\"freq\",\"freq\",\"freq\",\"freq\",\"freq\",\"freq\",\"freq\",\"freq\",\"freq\",\"freq\",\"freq\",\"freq\",\"freq\",\"freq\",\"freq\",\"freq\",\"freq\",\"freq\",\"freq\",\"freq\",\"freq\",\"freq\",\"freq\",\"freq\",\"freq\",\"freq\",\"freq\",\"freq\",\"freq\",\"freq\",\"freq\",\"freq\",\"freq\",\"freq\",\"freq\",\"freq\",\"freq\",\"freq\",\"freq\",\"freq\",\"freq\",\"freq\",\"freq\",\"freq\",\"freq\",\"freq\",\"freq\",\"freq\",\"freq\",\"freq\",\"freq\",\"freq\",\"freq\",\"freq\",\"freq\",\"freq\",\"freq\",\"freq\",\"freq\",\"freq\",\"freq\",\"freq\",\"freq\",\"freq\",\"freq\",\"freq\",\"freq\",\"freq\",\"freq\",\"freq\",\"freq\",\"freq\",\"freq\",\"freq\",\"freq\",\"freq\",\"freq\",\"freq\",\"freq\",\"freq\",\"freq\",\"freq\",\"freq\",\"freq\",\"freq\",\"freq\",\"freq\",\"freq\",\"freq\",\"freq\",\"freq\",\"freq\",\"freq\",\"freq\",\"freq\",\"freq\",\"freq\",\"freq\",\"freq\",\"freq\",\"freq\",\"freq\",\"freq\",\"freq\",\"freq\",\"freq\",\"freq\",\"freq\",\"freq\",\"freq\",\"freq\",\"freq\",\"freq\",\"freq\",\"freq\",\"freq\",\"freq\",\"freq\",\"freq\",\"freq\",\"freq\",\"freq\",\"freq\",\"freq\",\"freq\",\"freq\",\"freq\",\"freq\",\"freq\",\"freq\",\"freq\",\"freq\",\"freq\",\"freq\",\"freq\",\"freq\",\"freq\",\"freq\",\"freq\",\"freq\",\"freq\",\"freq\",\"freq\",\"freq\",\"freq\",\"freq\",\"freq\",\"freq\",\"freq\",\"freq\",\"freq\",\"freq\",\"freq\",\"freq\",\"freq\",\"freq\",\"freq\",\"freq\",\"freq\",\"freq\",\"freq\",\"freq\",\"freq\",\"freq\",\"freq\",\"freq\",\"freq\",\"freq\",\"freq\",\"freq\",\"freq\",\"freq\",\"freq\",\"freq\",\"freq\",\"freq\",\"freq\",\"freq\",\"freq\",\"freq\",\"freq\",\"freq\",\"freq\",\"freq\",\"freq\",\"freq\",\"freq\",\"freq\",\"freq\",\"freq\",\"freq\",\"freq\",\"freq\",\"freq\",\"freq\",\"freq\",\"freq\",\"freq\",\"freq\",\"freq\",\"freq\",\"freq\",\"freq\",\"freq\",\"freq\",\"freq\",\"freq\",\"freq\",\"freq\",\"freq\",\"freq\",\"freq\",\"freq\",\"freq\",\"freq\",\"freq\",\"freq\",\"freq\",\"freq\",\"freq\",\"freq\",\"freq\",\"freq\",\"freq\",\"freq\",\"freq\",\"freq\",\"freq\",\"freq\",\"freq\",\"freq\",\"freq\",\"freq\",\"freq\",\"freq\",\"freq\",\"freq\",\"freq\",\"freq\",\"freq\",\"freq\",\"freq\",\"freq\",\"freq\",\"freq\",\"freq\",\"freq\",\"freq\",\"freq\",\"freq\",\"freq\",\"freq\",\"freq\",\"freq\",\"freq\",\"freq\",\"freq\",\"freq\",\"freq\",\"freq\",\"freq\",\"freq\",\"freq\",\"freq\",\"freq\",\"freq\",\"freq\",\"freq\",\"freq\",\"freq\",\"freq\",\"freq\",\"freq\",\"freq\",\"freq\",\"freq\",\"freq\",\"freq\",\"freq\",\"freq\",\"freq\",\"freq\",\"freq\",\"freq\",\"freq\",\"freq\",\"freq\",\"freq\",\"freq\",\"freq\",\"freq\",\"freq\",\"freq\",\"freq\",\"freq\",\"freq\",\"freq\",\"freq\",\"freq\",\"freq\",\"freq\",\"freq\",\"freq\",\"freq\",\"freq\",\"freq\",\"freq\",\"freq\",\"freq\",\"freq\",\"freq\",\"freq\",\"freq\",\"freq\",\"freq\",\"freq\",\"freq\",\"freq\",\"freq\",\"freq\",\"freq\",\"freq\",\"freq\",\"freq\",\"freq\",\"freq\",\"freq\",\"freq\",\"freq\",\"freq\",\"freq\",\"freq\",\"freq\",\"freq\",\"freq\",\"freq\",\"freq\",\"freq\",\"freq\",\"freq\",\"freq\",\"freq\",\"freq\",\"freq\",\"freq\",\"freq\",\"freq\",\"freq\",\"freq\",\"freq\",\"freq\",\"freq\",\"freq\",\"freq\",\"freq\",\"freq\",\"freq\",\"freq\",\"freq\",\"freq\",\"freq\",\"freq\",\"freq\",\"freq\",\"freq\",\"freq\",\"freq\",\"freq\",\"freq\",\"freq\",\"freq\",\"freq\",\"freq\",\"freq\",\"freq\",\"freq\",\"freq\",\"freq\",\"freq\",\"freq\",\"freq\",\"freq\",\"freq\",\"freq\",\"freq\",\"freq\",\"freq\",\"freq\",\"freq\",\"freq\",\"freq\",\"freq\",\"freq\",\"freq\",\"freq\",\"freq\",\"freq\",\"freq\",\"freq\",\"freq\",\"freq\",\"freq\",\"freq\",\"freq\",\"freq\",\"freq\",\"freq\",\"freq\",\"freq\",\"freq\",\"freq\",\"freq\",\"freq\",\"freq\",\"freq\",\"freq\",\"freq\",\"freq\",\"freq\",\"freq\",\"freq\",\"freq\",\"freq\",\"freq\",\"freq\",\"freq\",\"freq\",\"freq\",\"freq\",\"freq\",\"freq\",\"freq\",\"freq\",\"freq\",\"freq\",\"freq\",\"freq\",\"freq\",\"freq\",\"freq\",\"freq\",\"freq\",\"freq\",\"freq\",\"freq\",\"freq\",\"freq\",\"freq\",\"freq\",\"freq\",\"freq\",\"freq\",\"freq\",\"freq\",\"freq\",\"freq\",\"freq\",\"freq\",\"freq\",\"freq\",\"freq\",\"freq\",\"freq\",\"freq\",\"freq\",\"freq\",\"freq\",\"freq\",\"freq\",\"freq\",\"freq\",\"freq\",\"freq\",\"freq\",\"freq\",\"freq\",\"freq\",\"freq\",\"freq\",\"freq\",\"freq\",\"freq\",\"freq\",\"freq\",\"freq\",\"freq\",\"freq\",\"freq\",\"freq\",\"freq\",\"freq\",\"freq\",\"freq\",\"freq\",\"freq\",\"freq\",\"freq\",\"freq\",\"freq\",\"freq\",\"freq\",\"freq\",\"freq\",\"freq\",\"freq\",\"freq\",\"freq\",\"freq\",\"freq\",\"freq\",\"freq\",\"freq\",\"freq\",\"freq\",\"freq\",\"freq\",\"freq\",\"freq\",\"freq\"],\"yaxis\":\"y2\"}],                        {\"barmode\":\"overlay\",\"hovermode\":\"closest\",\"legend\":{\"traceorder\":\"reversed\"},\"template\":{\"data\":{\"bar\":[{\"error_x\":{\"color\":\"#2a3f5f\"},\"error_y\":{\"color\":\"#2a3f5f\"},\"marker\":{\"line\":{\"color\":\"#E5ECF6\",\"width\":0.5},\"pattern\":{\"fillmode\":\"overlay\",\"size\":10,\"solidity\":0.2}},\"type\":\"bar\"}],\"barpolar\":[{\"marker\":{\"line\":{\"color\":\"#E5ECF6\",\"width\":0.5},\"pattern\":{\"fillmode\":\"overlay\",\"size\":10,\"solidity\":0.2}},\"type\":\"barpolar\"}],\"carpet\":[{\"aaxis\":{\"endlinecolor\":\"#2a3f5f\",\"gridcolor\":\"white\",\"linecolor\":\"white\",\"minorgridcolor\":\"white\",\"startlinecolor\":\"#2a3f5f\"},\"baxis\":{\"endlinecolor\":\"#2a3f5f\",\"gridcolor\":\"white\",\"linecolor\":\"white\",\"minorgridcolor\":\"white\",\"startlinecolor\":\"#2a3f5f\"},\"type\":\"carpet\"}],\"choropleth\":[{\"colorbar\":{\"outlinewidth\":0,\"ticks\":\"\"},\"type\":\"choropleth\"}],\"contour\":[{\"colorbar\":{\"outlinewidth\":0,\"ticks\":\"\"},\"colorscale\":[[0.0,\"#0d0887\"],[0.1111111111111111,\"#46039f\"],[0.2222222222222222,\"#7201a8\"],[0.3333333333333333,\"#9c179e\"],[0.4444444444444444,\"#bd3786\"],[0.5555555555555556,\"#d8576b\"],[0.6666666666666666,\"#ed7953\"],[0.7777777777777778,\"#fb9f3a\"],[0.8888888888888888,\"#fdca26\"],[1.0,\"#f0f921\"]],\"type\":\"contour\"}],\"contourcarpet\":[{\"colorbar\":{\"outlinewidth\":0,\"ticks\":\"\"},\"type\":\"contourcarpet\"}],\"heatmap\":[{\"colorbar\":{\"outlinewidth\":0,\"ticks\":\"\"},\"colorscale\":[[0.0,\"#0d0887\"],[0.1111111111111111,\"#46039f\"],[0.2222222222222222,\"#7201a8\"],[0.3333333333333333,\"#9c179e\"],[0.4444444444444444,\"#bd3786\"],[0.5555555555555556,\"#d8576b\"],[0.6666666666666666,\"#ed7953\"],[0.7777777777777778,\"#fb9f3a\"],[0.8888888888888888,\"#fdca26\"],[1.0,\"#f0f921\"]],\"type\":\"heatmap\"}],\"heatmapgl\":[{\"colorbar\":{\"outlinewidth\":0,\"ticks\":\"\"},\"colorscale\":[[0.0,\"#0d0887\"],[0.1111111111111111,\"#46039f\"],[0.2222222222222222,\"#7201a8\"],[0.3333333333333333,\"#9c179e\"],[0.4444444444444444,\"#bd3786\"],[0.5555555555555556,\"#d8576b\"],[0.6666666666666666,\"#ed7953\"],[0.7777777777777778,\"#fb9f3a\"],[0.8888888888888888,\"#fdca26\"],[1.0,\"#f0f921\"]],\"type\":\"heatmapgl\"}],\"histogram\":[{\"marker\":{\"pattern\":{\"fillmode\":\"overlay\",\"size\":10,\"solidity\":0.2}},\"type\":\"histogram\"}],\"histogram2d\":[{\"colorbar\":{\"outlinewidth\":0,\"ticks\":\"\"},\"colorscale\":[[0.0,\"#0d0887\"],[0.1111111111111111,\"#46039f\"],[0.2222222222222222,\"#7201a8\"],[0.3333333333333333,\"#9c179e\"],[0.4444444444444444,\"#bd3786\"],[0.5555555555555556,\"#d8576b\"],[0.6666666666666666,\"#ed7953\"],[0.7777777777777778,\"#fb9f3a\"],[0.8888888888888888,\"#fdca26\"],[1.0,\"#f0f921\"]],\"type\":\"histogram2d\"}],\"histogram2dcontour\":[{\"colorbar\":{\"outlinewidth\":0,\"ticks\":\"\"},\"colorscale\":[[0.0,\"#0d0887\"],[0.1111111111111111,\"#46039f\"],[0.2222222222222222,\"#7201a8\"],[0.3333333333333333,\"#9c179e\"],[0.4444444444444444,\"#bd3786\"],[0.5555555555555556,\"#d8576b\"],[0.6666666666666666,\"#ed7953\"],[0.7777777777777778,\"#fb9f3a\"],[0.8888888888888888,\"#fdca26\"],[1.0,\"#f0f921\"]],\"type\":\"histogram2dcontour\"}],\"mesh3d\":[{\"colorbar\":{\"outlinewidth\":0,\"ticks\":\"\"},\"type\":\"mesh3d\"}],\"parcoords\":[{\"line\":{\"colorbar\":{\"outlinewidth\":0,\"ticks\":\"\"}},\"type\":\"parcoords\"}],\"pie\":[{\"automargin\":true,\"type\":\"pie\"}],\"scatter\":[{\"marker\":{\"colorbar\":{\"outlinewidth\":0,\"ticks\":\"\"}},\"type\":\"scatter\"}],\"scatter3d\":[{\"line\":{\"colorbar\":{\"outlinewidth\":0,\"ticks\":\"\"}},\"marker\":{\"colorbar\":{\"outlinewidth\":0,\"ticks\":\"\"}},\"type\":\"scatter3d\"}],\"scattercarpet\":[{\"marker\":{\"colorbar\":{\"outlinewidth\":0,\"ticks\":\"\"}},\"type\":\"scattercarpet\"}],\"scattergeo\":[{\"marker\":{\"colorbar\":{\"outlinewidth\":0,\"ticks\":\"\"}},\"type\":\"scattergeo\"}],\"scattergl\":[{\"marker\":{\"colorbar\":{\"outlinewidth\":0,\"ticks\":\"\"}},\"type\":\"scattergl\"}],\"scattermapbox\":[{\"marker\":{\"colorbar\":{\"outlinewidth\":0,\"ticks\":\"\"}},\"type\":\"scattermapbox\"}],\"scatterpolar\":[{\"marker\":{\"colorbar\":{\"outlinewidth\":0,\"ticks\":\"\"}},\"type\":\"scatterpolar\"}],\"scatterpolargl\":[{\"marker\":{\"colorbar\":{\"outlinewidth\":0,\"ticks\":\"\"}},\"type\":\"scatterpolargl\"}],\"scatterternary\":[{\"marker\":{\"colorbar\":{\"outlinewidth\":0,\"ticks\":\"\"}},\"type\":\"scatterternary\"}],\"surface\":[{\"colorbar\":{\"outlinewidth\":0,\"ticks\":\"\"},\"colorscale\":[[0.0,\"#0d0887\"],[0.1111111111111111,\"#46039f\"],[0.2222222222222222,\"#7201a8\"],[0.3333333333333333,\"#9c179e\"],[0.4444444444444444,\"#bd3786\"],[0.5555555555555556,\"#d8576b\"],[0.6666666666666666,\"#ed7953\"],[0.7777777777777778,\"#fb9f3a\"],[0.8888888888888888,\"#fdca26\"],[1.0,\"#f0f921\"]],\"type\":\"surface\"}],\"table\":[{\"cells\":{\"fill\":{\"color\":\"#EBF0F8\"},\"line\":{\"color\":\"white\"}},\"header\":{\"fill\":{\"color\":\"#C8D4E3\"},\"line\":{\"color\":\"white\"}},\"type\":\"table\"}]},\"layout\":{\"annotationdefaults\":{\"arrowcolor\":\"#2a3f5f\",\"arrowhead\":0,\"arrowwidth\":1},\"autotypenumbers\":\"strict\",\"coloraxis\":{\"colorbar\":{\"outlinewidth\":0,\"ticks\":\"\"}},\"colorscale\":{\"diverging\":[[0,\"#8e0152\"],[0.1,\"#c51b7d\"],[0.2,\"#de77ae\"],[0.3,\"#f1b6da\"],[0.4,\"#fde0ef\"],[0.5,\"#f7f7f7\"],[0.6,\"#e6f5d0\"],[0.7,\"#b8e186\"],[0.8,\"#7fbc41\"],[0.9,\"#4d9221\"],[1,\"#276419\"]],\"sequential\":[[0.0,\"#0d0887\"],[0.1111111111111111,\"#46039f\"],[0.2222222222222222,\"#7201a8\"],[0.3333333333333333,\"#9c179e\"],[0.4444444444444444,\"#bd3786\"],[0.5555555555555556,\"#d8576b\"],[0.6666666666666666,\"#ed7953\"],[0.7777777777777778,\"#fb9f3a\"],[0.8888888888888888,\"#fdca26\"],[1.0,\"#f0f921\"]],\"sequentialminus\":[[0.0,\"#0d0887\"],[0.1111111111111111,\"#46039f\"],[0.2222222222222222,\"#7201a8\"],[0.3333333333333333,\"#9c179e\"],[0.4444444444444444,\"#bd3786\"],[0.5555555555555556,\"#d8576b\"],[0.6666666666666666,\"#ed7953\"],[0.7777777777777778,\"#fb9f3a\"],[0.8888888888888888,\"#fdca26\"],[1.0,\"#f0f921\"]]},\"colorway\":[\"#636efa\",\"#EF553B\",\"#00cc96\",\"#ab63fa\",\"#FFA15A\",\"#19d3f3\",\"#FF6692\",\"#B6E880\",\"#FF97FF\",\"#FECB52\"],\"font\":{\"color\":\"#2a3f5f\"},\"geo\":{\"bgcolor\":\"white\",\"lakecolor\":\"white\",\"landcolor\":\"#E5ECF6\",\"showlakes\":true,\"showland\":true,\"subunitcolor\":\"white\"},\"hoverlabel\":{\"align\":\"left\"},\"hovermode\":\"closest\",\"mapbox\":{\"style\":\"light\"},\"paper_bgcolor\":\"white\",\"plot_bgcolor\":\"#E5ECF6\",\"polar\":{\"angularaxis\":{\"gridcolor\":\"white\",\"linecolor\":\"white\",\"ticks\":\"\"},\"bgcolor\":\"#E5ECF6\",\"radialaxis\":{\"gridcolor\":\"white\",\"linecolor\":\"white\",\"ticks\":\"\"}},\"scene\":{\"xaxis\":{\"backgroundcolor\":\"#E5ECF6\",\"gridcolor\":\"white\",\"gridwidth\":2,\"linecolor\":\"white\",\"showbackground\":true,\"ticks\":\"\",\"zerolinecolor\":\"white\"},\"yaxis\":{\"backgroundcolor\":\"#E5ECF6\",\"gridcolor\":\"white\",\"gridwidth\":2,\"linecolor\":\"white\",\"showbackground\":true,\"ticks\":\"\",\"zerolinecolor\":\"white\"},\"zaxis\":{\"backgroundcolor\":\"#E5ECF6\",\"gridcolor\":\"white\",\"gridwidth\":2,\"linecolor\":\"white\",\"showbackground\":true,\"ticks\":\"\",\"zerolinecolor\":\"white\"}},\"shapedefaults\":{\"line\":{\"color\":\"#2a3f5f\"}},\"ternary\":{\"aaxis\":{\"gridcolor\":\"white\",\"linecolor\":\"white\",\"ticks\":\"\"},\"baxis\":{\"gridcolor\":\"white\",\"linecolor\":\"white\",\"ticks\":\"\"},\"bgcolor\":\"#E5ECF6\",\"caxis\":{\"gridcolor\":\"white\",\"linecolor\":\"white\",\"ticks\":\"\"}},\"title\":{\"x\":0.05},\"xaxis\":{\"automargin\":true,\"gridcolor\":\"white\",\"linecolor\":\"white\",\"ticks\":\"\",\"title\":{\"standoff\":15},\"zerolinecolor\":\"white\",\"zerolinewidth\":2},\"yaxis\":{\"automargin\":true,\"gridcolor\":\"white\",\"linecolor\":\"white\",\"ticks\":\"\",\"title\":{\"standoff\":15},\"zerolinecolor\":\"white\",\"zerolinewidth\":2}}},\"title\":{\"text\":\"Distplot\"},\"xaxis\":{\"anchor\":\"y2\",\"domain\":[0.0,1.0],\"zeroline\":false},\"yaxis\":{\"anchor\":\"free\",\"domain\":[0.35,1],\"position\":0.0},\"yaxis2\":{\"anchor\":\"x\",\"domain\":[0,0.25],\"dtick\":1,\"showticklabels\":false}},                        {\"responsive\": true}                    ).then(function(){\n",
       "                            \n",
       "var gd = document.getElementById('5f1d689a-8a51-4638-8afb-eeb5dacb0390');\n",
       "var x = new MutationObserver(function (mutations, observer) {{\n",
       "        var display = window.getComputedStyle(gd).display;\n",
       "        if (!display || display === 'none') {{\n",
       "            console.log([gd, 'removed!']);\n",
       "            Plotly.purge(gd);\n",
       "            observer.disconnect();\n",
       "        }}\n",
       "}});\n",
       "\n",
       "// Listen for the removal of the full notebook cells\n",
       "var notebookContainer = gd.closest('#notebook-container');\n",
       "if (notebookContainer) {{\n",
       "    x.observe(notebookContainer, {childList: true});\n",
       "}}\n",
       "\n",
       "// Listen for the clearing of the current output cell\n",
       "var outputEl = gd.closest('.output');\n",
       "if (outputEl) {{\n",
       "    x.observe(outputEl, {childList: true});\n",
       "}}\n",
       "\n",
       "                        })                };                });            </script>        </div>"
      ]
     },
     "metadata": {}
    }
   ],
   "metadata": {}
  },
  {
   "cell_type": "code",
   "execution_count": 27,
   "source": [
    "col = 'season_count'\r\n",
    "vc1 = d1[col].value_counts().reset_index()\r\n",
    "vc1 = vc1.rename(columns = {col : \"count\", \"index\" : col})\r\n",
    "vc1['percent'] = vc1['count'].apply(lambda x : 100*x/sum(vc1['count']))\r\n",
    "\r\n",
    "\r\n",
    "trace1 = go.Bar(x=vc1[col], y=vc1[\"count\"], name=\"TV Shows\", marker=dict(color=\"#b20710\"))\r\n",
    "data = [trace1]\r\n",
    "layout = go.Layout(title=\"Seasons\", legend=dict(x=0.1, y=1.1, orientation=\"h\"))\r\n",
    "fig = go.Figure(data, layout=layout)\r\n",
    "fig.show()\r\n"
   ],
   "outputs": [
    {
     "output_type": "display_data",
     "data": {
      "application/vnd.plotly.v1+json": {
       "config": {
        "plotlyServerURL": "https://plot.ly"
       },
       "data": [
        {
         "marker": {
          "color": "#b20710"
         },
         "name": "TV Shows",
         "type": "bar",
         "x": [
          "1",
          "2",
          "3",
          "4",
          "5",
          "6",
          "7",
          "8",
          "9",
          "10",
          "12",
          "15",
          "11",
          "16",
          "13"
         ],
         "y": [
          1606,
          378,
          183,
          86,
          57,
          30,
          19,
          18,
          8,
          5,
          2,
          2,
          2,
          1,
          1
         ]
        }
       ],
       "layout": {
        "legend": {
         "orientation": "h",
         "x": 0.1,
         "y": 1.1
        },
        "template": {
         "data": {
          "bar": [
           {
            "error_x": {
             "color": "#2a3f5f"
            },
            "error_y": {
             "color": "#2a3f5f"
            },
            "marker": {
             "line": {
              "color": "#E5ECF6",
              "width": 0.5
             },
             "pattern": {
              "fillmode": "overlay",
              "size": 10,
              "solidity": 0.2
             }
            },
            "type": "bar"
           }
          ],
          "barpolar": [
           {
            "marker": {
             "line": {
              "color": "#E5ECF6",
              "width": 0.5
             },
             "pattern": {
              "fillmode": "overlay",
              "size": 10,
              "solidity": 0.2
             }
            },
            "type": "barpolar"
           }
          ],
          "carpet": [
           {
            "aaxis": {
             "endlinecolor": "#2a3f5f",
             "gridcolor": "white",
             "linecolor": "white",
             "minorgridcolor": "white",
             "startlinecolor": "#2a3f5f"
            },
            "baxis": {
             "endlinecolor": "#2a3f5f",
             "gridcolor": "white",
             "linecolor": "white",
             "minorgridcolor": "white",
             "startlinecolor": "#2a3f5f"
            },
            "type": "carpet"
           }
          ],
          "choropleth": [
           {
            "colorbar": {
             "outlinewidth": 0,
             "ticks": ""
            },
            "type": "choropleth"
           }
          ],
          "contour": [
           {
            "colorbar": {
             "outlinewidth": 0,
             "ticks": ""
            },
            "colorscale": [
             [
              0,
              "#0d0887"
             ],
             [
              0.1111111111111111,
              "#46039f"
             ],
             [
              0.2222222222222222,
              "#7201a8"
             ],
             [
              0.3333333333333333,
              "#9c179e"
             ],
             [
              0.4444444444444444,
              "#bd3786"
             ],
             [
              0.5555555555555556,
              "#d8576b"
             ],
             [
              0.6666666666666666,
              "#ed7953"
             ],
             [
              0.7777777777777778,
              "#fb9f3a"
             ],
             [
              0.8888888888888888,
              "#fdca26"
             ],
             [
              1,
              "#f0f921"
             ]
            ],
            "type": "contour"
           }
          ],
          "contourcarpet": [
           {
            "colorbar": {
             "outlinewidth": 0,
             "ticks": ""
            },
            "type": "contourcarpet"
           }
          ],
          "heatmap": [
           {
            "colorbar": {
             "outlinewidth": 0,
             "ticks": ""
            },
            "colorscale": [
             [
              0,
              "#0d0887"
             ],
             [
              0.1111111111111111,
              "#46039f"
             ],
             [
              0.2222222222222222,
              "#7201a8"
             ],
             [
              0.3333333333333333,
              "#9c179e"
             ],
             [
              0.4444444444444444,
              "#bd3786"
             ],
             [
              0.5555555555555556,
              "#d8576b"
             ],
             [
              0.6666666666666666,
              "#ed7953"
             ],
             [
              0.7777777777777778,
              "#fb9f3a"
             ],
             [
              0.8888888888888888,
              "#fdca26"
             ],
             [
              1,
              "#f0f921"
             ]
            ],
            "type": "heatmap"
           }
          ],
          "heatmapgl": [
           {
            "colorbar": {
             "outlinewidth": 0,
             "ticks": ""
            },
            "colorscale": [
             [
              0,
              "#0d0887"
             ],
             [
              0.1111111111111111,
              "#46039f"
             ],
             [
              0.2222222222222222,
              "#7201a8"
             ],
             [
              0.3333333333333333,
              "#9c179e"
             ],
             [
              0.4444444444444444,
              "#bd3786"
             ],
             [
              0.5555555555555556,
              "#d8576b"
             ],
             [
              0.6666666666666666,
              "#ed7953"
             ],
             [
              0.7777777777777778,
              "#fb9f3a"
             ],
             [
              0.8888888888888888,
              "#fdca26"
             ],
             [
              1,
              "#f0f921"
             ]
            ],
            "type": "heatmapgl"
           }
          ],
          "histogram": [
           {
            "marker": {
             "pattern": {
              "fillmode": "overlay",
              "size": 10,
              "solidity": 0.2
             }
            },
            "type": "histogram"
           }
          ],
          "histogram2d": [
           {
            "colorbar": {
             "outlinewidth": 0,
             "ticks": ""
            },
            "colorscale": [
             [
              0,
              "#0d0887"
             ],
             [
              0.1111111111111111,
              "#46039f"
             ],
             [
              0.2222222222222222,
              "#7201a8"
             ],
             [
              0.3333333333333333,
              "#9c179e"
             ],
             [
              0.4444444444444444,
              "#bd3786"
             ],
             [
              0.5555555555555556,
              "#d8576b"
             ],
             [
              0.6666666666666666,
              "#ed7953"
             ],
             [
              0.7777777777777778,
              "#fb9f3a"
             ],
             [
              0.8888888888888888,
              "#fdca26"
             ],
             [
              1,
              "#f0f921"
             ]
            ],
            "type": "histogram2d"
           }
          ],
          "histogram2dcontour": [
           {
            "colorbar": {
             "outlinewidth": 0,
             "ticks": ""
            },
            "colorscale": [
             [
              0,
              "#0d0887"
             ],
             [
              0.1111111111111111,
              "#46039f"
             ],
             [
              0.2222222222222222,
              "#7201a8"
             ],
             [
              0.3333333333333333,
              "#9c179e"
             ],
             [
              0.4444444444444444,
              "#bd3786"
             ],
             [
              0.5555555555555556,
              "#d8576b"
             ],
             [
              0.6666666666666666,
              "#ed7953"
             ],
             [
              0.7777777777777778,
              "#fb9f3a"
             ],
             [
              0.8888888888888888,
              "#fdca26"
             ],
             [
              1,
              "#f0f921"
             ]
            ],
            "type": "histogram2dcontour"
           }
          ],
          "mesh3d": [
           {
            "colorbar": {
             "outlinewidth": 0,
             "ticks": ""
            },
            "type": "mesh3d"
           }
          ],
          "parcoords": [
           {
            "line": {
             "colorbar": {
              "outlinewidth": 0,
              "ticks": ""
             }
            },
            "type": "parcoords"
           }
          ],
          "pie": [
           {
            "automargin": true,
            "type": "pie"
           }
          ],
          "scatter": [
           {
            "marker": {
             "colorbar": {
              "outlinewidth": 0,
              "ticks": ""
             }
            },
            "type": "scatter"
           }
          ],
          "scatter3d": [
           {
            "line": {
             "colorbar": {
              "outlinewidth": 0,
              "ticks": ""
             }
            },
            "marker": {
             "colorbar": {
              "outlinewidth": 0,
              "ticks": ""
             }
            },
            "type": "scatter3d"
           }
          ],
          "scattercarpet": [
           {
            "marker": {
             "colorbar": {
              "outlinewidth": 0,
              "ticks": ""
             }
            },
            "type": "scattercarpet"
           }
          ],
          "scattergeo": [
           {
            "marker": {
             "colorbar": {
              "outlinewidth": 0,
              "ticks": ""
             }
            },
            "type": "scattergeo"
           }
          ],
          "scattergl": [
           {
            "marker": {
             "colorbar": {
              "outlinewidth": 0,
              "ticks": ""
             }
            },
            "type": "scattergl"
           }
          ],
          "scattermapbox": [
           {
            "marker": {
             "colorbar": {
              "outlinewidth": 0,
              "ticks": ""
             }
            },
            "type": "scattermapbox"
           }
          ],
          "scatterpolar": [
           {
            "marker": {
             "colorbar": {
              "outlinewidth": 0,
              "ticks": ""
             }
            },
            "type": "scatterpolar"
           }
          ],
          "scatterpolargl": [
           {
            "marker": {
             "colorbar": {
              "outlinewidth": 0,
              "ticks": ""
             }
            },
            "type": "scatterpolargl"
           }
          ],
          "scatterternary": [
           {
            "marker": {
             "colorbar": {
              "outlinewidth": 0,
              "ticks": ""
             }
            },
            "type": "scatterternary"
           }
          ],
          "surface": [
           {
            "colorbar": {
             "outlinewidth": 0,
             "ticks": ""
            },
            "colorscale": [
             [
              0,
              "#0d0887"
             ],
             [
              0.1111111111111111,
              "#46039f"
             ],
             [
              0.2222222222222222,
              "#7201a8"
             ],
             [
              0.3333333333333333,
              "#9c179e"
             ],
             [
              0.4444444444444444,
              "#bd3786"
             ],
             [
              0.5555555555555556,
              "#d8576b"
             ],
             [
              0.6666666666666666,
              "#ed7953"
             ],
             [
              0.7777777777777778,
              "#fb9f3a"
             ],
             [
              0.8888888888888888,
              "#fdca26"
             ],
             [
              1,
              "#f0f921"
             ]
            ],
            "type": "surface"
           }
          ],
          "table": [
           {
            "cells": {
             "fill": {
              "color": "#EBF0F8"
             },
             "line": {
              "color": "white"
             }
            },
            "header": {
             "fill": {
              "color": "#C8D4E3"
             },
             "line": {
              "color": "white"
             }
            },
            "type": "table"
           }
          ]
         },
         "layout": {
          "annotationdefaults": {
           "arrowcolor": "#2a3f5f",
           "arrowhead": 0,
           "arrowwidth": 1
          },
          "autotypenumbers": "strict",
          "coloraxis": {
           "colorbar": {
            "outlinewidth": 0,
            "ticks": ""
           }
          },
          "colorscale": {
           "diverging": [
            [
             0,
             "#8e0152"
            ],
            [
             0.1,
             "#c51b7d"
            ],
            [
             0.2,
             "#de77ae"
            ],
            [
             0.3,
             "#f1b6da"
            ],
            [
             0.4,
             "#fde0ef"
            ],
            [
             0.5,
             "#f7f7f7"
            ],
            [
             0.6,
             "#e6f5d0"
            ],
            [
             0.7,
             "#b8e186"
            ],
            [
             0.8,
             "#7fbc41"
            ],
            [
             0.9,
             "#4d9221"
            ],
            [
             1,
             "#276419"
            ]
           ],
           "sequential": [
            [
             0,
             "#0d0887"
            ],
            [
             0.1111111111111111,
             "#46039f"
            ],
            [
             0.2222222222222222,
             "#7201a8"
            ],
            [
             0.3333333333333333,
             "#9c179e"
            ],
            [
             0.4444444444444444,
             "#bd3786"
            ],
            [
             0.5555555555555556,
             "#d8576b"
            ],
            [
             0.6666666666666666,
             "#ed7953"
            ],
            [
             0.7777777777777778,
             "#fb9f3a"
            ],
            [
             0.8888888888888888,
             "#fdca26"
            ],
            [
             1,
             "#f0f921"
            ]
           ],
           "sequentialminus": [
            [
             0,
             "#0d0887"
            ],
            [
             0.1111111111111111,
             "#46039f"
            ],
            [
             0.2222222222222222,
             "#7201a8"
            ],
            [
             0.3333333333333333,
             "#9c179e"
            ],
            [
             0.4444444444444444,
             "#bd3786"
            ],
            [
             0.5555555555555556,
             "#d8576b"
            ],
            [
             0.6666666666666666,
             "#ed7953"
            ],
            [
             0.7777777777777778,
             "#fb9f3a"
            ],
            [
             0.8888888888888888,
             "#fdca26"
            ],
            [
             1,
             "#f0f921"
            ]
           ]
          },
          "colorway": [
           "#636efa",
           "#EF553B",
           "#00cc96",
           "#ab63fa",
           "#FFA15A",
           "#19d3f3",
           "#FF6692",
           "#B6E880",
           "#FF97FF",
           "#FECB52"
          ],
          "font": {
           "color": "#2a3f5f"
          },
          "geo": {
           "bgcolor": "white",
           "lakecolor": "white",
           "landcolor": "#E5ECF6",
           "showlakes": true,
           "showland": true,
           "subunitcolor": "white"
          },
          "hoverlabel": {
           "align": "left"
          },
          "hovermode": "closest",
          "mapbox": {
           "style": "light"
          },
          "paper_bgcolor": "white",
          "plot_bgcolor": "#E5ECF6",
          "polar": {
           "angularaxis": {
            "gridcolor": "white",
            "linecolor": "white",
            "ticks": ""
           },
           "bgcolor": "#E5ECF6",
           "radialaxis": {
            "gridcolor": "white",
            "linecolor": "white",
            "ticks": ""
           }
          },
          "scene": {
           "xaxis": {
            "backgroundcolor": "#E5ECF6",
            "gridcolor": "white",
            "gridwidth": 2,
            "linecolor": "white",
            "showbackground": true,
            "ticks": "",
            "zerolinecolor": "white"
           },
           "yaxis": {
            "backgroundcolor": "#E5ECF6",
            "gridcolor": "white",
            "gridwidth": 2,
            "linecolor": "white",
            "showbackground": true,
            "ticks": "",
            "zerolinecolor": "white"
           },
           "zaxis": {
            "backgroundcolor": "#E5ECF6",
            "gridcolor": "white",
            "gridwidth": 2,
            "linecolor": "white",
            "showbackground": true,
            "ticks": "",
            "zerolinecolor": "white"
           }
          },
          "shapedefaults": {
           "line": {
            "color": "#2a3f5f"
           }
          },
          "ternary": {
           "aaxis": {
            "gridcolor": "white",
            "linecolor": "white",
            "ticks": ""
           },
           "baxis": {
            "gridcolor": "white",
            "linecolor": "white",
            "ticks": ""
           },
           "bgcolor": "#E5ECF6",
           "caxis": {
            "gridcolor": "white",
            "linecolor": "white",
            "ticks": ""
           }
          },
          "title": {
           "x": 0.05
          },
          "xaxis": {
           "automargin": true,
           "gridcolor": "white",
           "linecolor": "white",
           "ticks": "",
           "title": {
            "standoff": 15
           },
           "zerolinecolor": "white",
           "zerolinewidth": 2
          },
          "yaxis": {
           "automargin": true,
           "gridcolor": "white",
           "linecolor": "white",
           "ticks": "",
           "title": {
            "standoff": 15
           },
           "zerolinecolor": "white",
           "zerolinewidth": 2
          }
         }
        },
        "title": {
         "text": "Seasons"
        }
       }
      },
      "text/html": [
       "<div>                            <div id=\"40aa4b31-289c-4807-817d-58a54604c31f\" class=\"plotly-graph-div\" style=\"height:525px; width:100%;\"></div>            <script type=\"text/javascript\">                require([\"plotly\"], function(Plotly) {                    window.PLOTLYENV=window.PLOTLYENV || {};                                    if (document.getElementById(\"40aa4b31-289c-4807-817d-58a54604c31f\")) {                    Plotly.newPlot(                        \"40aa4b31-289c-4807-817d-58a54604c31f\",                        [{\"marker\":{\"color\":\"#b20710\"},\"name\":\"TV Shows\",\"type\":\"bar\",\"x\":[\"1\",\"2\",\"3\",\"4\",\"5\",\"6\",\"7\",\"8\",\"9\",\"10\",\"12\",\"15\",\"11\",\"16\",\"13\"],\"y\":[1606,378,183,86,57,30,19,18,8,5,2,2,2,1,1]}],                        {\"legend\":{\"orientation\":\"h\",\"x\":0.1,\"y\":1.1},\"template\":{\"data\":{\"bar\":[{\"error_x\":{\"color\":\"#2a3f5f\"},\"error_y\":{\"color\":\"#2a3f5f\"},\"marker\":{\"line\":{\"color\":\"#E5ECF6\",\"width\":0.5},\"pattern\":{\"fillmode\":\"overlay\",\"size\":10,\"solidity\":0.2}},\"type\":\"bar\"}],\"barpolar\":[{\"marker\":{\"line\":{\"color\":\"#E5ECF6\",\"width\":0.5},\"pattern\":{\"fillmode\":\"overlay\",\"size\":10,\"solidity\":0.2}},\"type\":\"barpolar\"}],\"carpet\":[{\"aaxis\":{\"endlinecolor\":\"#2a3f5f\",\"gridcolor\":\"white\",\"linecolor\":\"white\",\"minorgridcolor\":\"white\",\"startlinecolor\":\"#2a3f5f\"},\"baxis\":{\"endlinecolor\":\"#2a3f5f\",\"gridcolor\":\"white\",\"linecolor\":\"white\",\"minorgridcolor\":\"white\",\"startlinecolor\":\"#2a3f5f\"},\"type\":\"carpet\"}],\"choropleth\":[{\"colorbar\":{\"outlinewidth\":0,\"ticks\":\"\"},\"type\":\"choropleth\"}],\"contour\":[{\"colorbar\":{\"outlinewidth\":0,\"ticks\":\"\"},\"colorscale\":[[0.0,\"#0d0887\"],[0.1111111111111111,\"#46039f\"],[0.2222222222222222,\"#7201a8\"],[0.3333333333333333,\"#9c179e\"],[0.4444444444444444,\"#bd3786\"],[0.5555555555555556,\"#d8576b\"],[0.6666666666666666,\"#ed7953\"],[0.7777777777777778,\"#fb9f3a\"],[0.8888888888888888,\"#fdca26\"],[1.0,\"#f0f921\"]],\"type\":\"contour\"}],\"contourcarpet\":[{\"colorbar\":{\"outlinewidth\":0,\"ticks\":\"\"},\"type\":\"contourcarpet\"}],\"heatmap\":[{\"colorbar\":{\"outlinewidth\":0,\"ticks\":\"\"},\"colorscale\":[[0.0,\"#0d0887\"],[0.1111111111111111,\"#46039f\"],[0.2222222222222222,\"#7201a8\"],[0.3333333333333333,\"#9c179e\"],[0.4444444444444444,\"#bd3786\"],[0.5555555555555556,\"#d8576b\"],[0.6666666666666666,\"#ed7953\"],[0.7777777777777778,\"#fb9f3a\"],[0.8888888888888888,\"#fdca26\"],[1.0,\"#f0f921\"]],\"type\":\"heatmap\"}],\"heatmapgl\":[{\"colorbar\":{\"outlinewidth\":0,\"ticks\":\"\"},\"colorscale\":[[0.0,\"#0d0887\"],[0.1111111111111111,\"#46039f\"],[0.2222222222222222,\"#7201a8\"],[0.3333333333333333,\"#9c179e\"],[0.4444444444444444,\"#bd3786\"],[0.5555555555555556,\"#d8576b\"],[0.6666666666666666,\"#ed7953\"],[0.7777777777777778,\"#fb9f3a\"],[0.8888888888888888,\"#fdca26\"],[1.0,\"#f0f921\"]],\"type\":\"heatmapgl\"}],\"histogram\":[{\"marker\":{\"pattern\":{\"fillmode\":\"overlay\",\"size\":10,\"solidity\":0.2}},\"type\":\"histogram\"}],\"histogram2d\":[{\"colorbar\":{\"outlinewidth\":0,\"ticks\":\"\"},\"colorscale\":[[0.0,\"#0d0887\"],[0.1111111111111111,\"#46039f\"],[0.2222222222222222,\"#7201a8\"],[0.3333333333333333,\"#9c179e\"],[0.4444444444444444,\"#bd3786\"],[0.5555555555555556,\"#d8576b\"],[0.6666666666666666,\"#ed7953\"],[0.7777777777777778,\"#fb9f3a\"],[0.8888888888888888,\"#fdca26\"],[1.0,\"#f0f921\"]],\"type\":\"histogram2d\"}],\"histogram2dcontour\":[{\"colorbar\":{\"outlinewidth\":0,\"ticks\":\"\"},\"colorscale\":[[0.0,\"#0d0887\"],[0.1111111111111111,\"#46039f\"],[0.2222222222222222,\"#7201a8\"],[0.3333333333333333,\"#9c179e\"],[0.4444444444444444,\"#bd3786\"],[0.5555555555555556,\"#d8576b\"],[0.6666666666666666,\"#ed7953\"],[0.7777777777777778,\"#fb9f3a\"],[0.8888888888888888,\"#fdca26\"],[1.0,\"#f0f921\"]],\"type\":\"histogram2dcontour\"}],\"mesh3d\":[{\"colorbar\":{\"outlinewidth\":0,\"ticks\":\"\"},\"type\":\"mesh3d\"}],\"parcoords\":[{\"line\":{\"colorbar\":{\"outlinewidth\":0,\"ticks\":\"\"}},\"type\":\"parcoords\"}],\"pie\":[{\"automargin\":true,\"type\":\"pie\"}],\"scatter\":[{\"marker\":{\"colorbar\":{\"outlinewidth\":0,\"ticks\":\"\"}},\"type\":\"scatter\"}],\"scatter3d\":[{\"line\":{\"colorbar\":{\"outlinewidth\":0,\"ticks\":\"\"}},\"marker\":{\"colorbar\":{\"outlinewidth\":0,\"ticks\":\"\"}},\"type\":\"scatter3d\"}],\"scattercarpet\":[{\"marker\":{\"colorbar\":{\"outlinewidth\":0,\"ticks\":\"\"}},\"type\":\"scattercarpet\"}],\"scattergeo\":[{\"marker\":{\"colorbar\":{\"outlinewidth\":0,\"ticks\":\"\"}},\"type\":\"scattergeo\"}],\"scattergl\":[{\"marker\":{\"colorbar\":{\"outlinewidth\":0,\"ticks\":\"\"}},\"type\":\"scattergl\"}],\"scattermapbox\":[{\"marker\":{\"colorbar\":{\"outlinewidth\":0,\"ticks\":\"\"}},\"type\":\"scattermapbox\"}],\"scatterpolar\":[{\"marker\":{\"colorbar\":{\"outlinewidth\":0,\"ticks\":\"\"}},\"type\":\"scatterpolar\"}],\"scatterpolargl\":[{\"marker\":{\"colorbar\":{\"outlinewidth\":0,\"ticks\":\"\"}},\"type\":\"scatterpolargl\"}],\"scatterternary\":[{\"marker\":{\"colorbar\":{\"outlinewidth\":0,\"ticks\":\"\"}},\"type\":\"scatterternary\"}],\"surface\":[{\"colorbar\":{\"outlinewidth\":0,\"ticks\":\"\"},\"colorscale\":[[0.0,\"#0d0887\"],[0.1111111111111111,\"#46039f\"],[0.2222222222222222,\"#7201a8\"],[0.3333333333333333,\"#9c179e\"],[0.4444444444444444,\"#bd3786\"],[0.5555555555555556,\"#d8576b\"],[0.6666666666666666,\"#ed7953\"],[0.7777777777777778,\"#fb9f3a\"],[0.8888888888888888,\"#fdca26\"],[1.0,\"#f0f921\"]],\"type\":\"surface\"}],\"table\":[{\"cells\":{\"fill\":{\"color\":\"#EBF0F8\"},\"line\":{\"color\":\"white\"}},\"header\":{\"fill\":{\"color\":\"#C8D4E3\"},\"line\":{\"color\":\"white\"}},\"type\":\"table\"}]},\"layout\":{\"annotationdefaults\":{\"arrowcolor\":\"#2a3f5f\",\"arrowhead\":0,\"arrowwidth\":1},\"autotypenumbers\":\"strict\",\"coloraxis\":{\"colorbar\":{\"outlinewidth\":0,\"ticks\":\"\"}},\"colorscale\":{\"diverging\":[[0,\"#8e0152\"],[0.1,\"#c51b7d\"],[0.2,\"#de77ae\"],[0.3,\"#f1b6da\"],[0.4,\"#fde0ef\"],[0.5,\"#f7f7f7\"],[0.6,\"#e6f5d0\"],[0.7,\"#b8e186\"],[0.8,\"#7fbc41\"],[0.9,\"#4d9221\"],[1,\"#276419\"]],\"sequential\":[[0.0,\"#0d0887\"],[0.1111111111111111,\"#46039f\"],[0.2222222222222222,\"#7201a8\"],[0.3333333333333333,\"#9c179e\"],[0.4444444444444444,\"#bd3786\"],[0.5555555555555556,\"#d8576b\"],[0.6666666666666666,\"#ed7953\"],[0.7777777777777778,\"#fb9f3a\"],[0.8888888888888888,\"#fdca26\"],[1.0,\"#f0f921\"]],\"sequentialminus\":[[0.0,\"#0d0887\"],[0.1111111111111111,\"#46039f\"],[0.2222222222222222,\"#7201a8\"],[0.3333333333333333,\"#9c179e\"],[0.4444444444444444,\"#bd3786\"],[0.5555555555555556,\"#d8576b\"],[0.6666666666666666,\"#ed7953\"],[0.7777777777777778,\"#fb9f3a\"],[0.8888888888888888,\"#fdca26\"],[1.0,\"#f0f921\"]]},\"colorway\":[\"#636efa\",\"#EF553B\",\"#00cc96\",\"#ab63fa\",\"#FFA15A\",\"#19d3f3\",\"#FF6692\",\"#B6E880\",\"#FF97FF\",\"#FECB52\"],\"font\":{\"color\":\"#2a3f5f\"},\"geo\":{\"bgcolor\":\"white\",\"lakecolor\":\"white\",\"landcolor\":\"#E5ECF6\",\"showlakes\":true,\"showland\":true,\"subunitcolor\":\"white\"},\"hoverlabel\":{\"align\":\"left\"},\"hovermode\":\"closest\",\"mapbox\":{\"style\":\"light\"},\"paper_bgcolor\":\"white\",\"plot_bgcolor\":\"#E5ECF6\",\"polar\":{\"angularaxis\":{\"gridcolor\":\"white\",\"linecolor\":\"white\",\"ticks\":\"\"},\"bgcolor\":\"#E5ECF6\",\"radialaxis\":{\"gridcolor\":\"white\",\"linecolor\":\"white\",\"ticks\":\"\"}},\"scene\":{\"xaxis\":{\"backgroundcolor\":\"#E5ECF6\",\"gridcolor\":\"white\",\"gridwidth\":2,\"linecolor\":\"white\",\"showbackground\":true,\"ticks\":\"\",\"zerolinecolor\":\"white\"},\"yaxis\":{\"backgroundcolor\":\"#E5ECF6\",\"gridcolor\":\"white\",\"gridwidth\":2,\"linecolor\":\"white\",\"showbackground\":true,\"ticks\":\"\",\"zerolinecolor\":\"white\"},\"zaxis\":{\"backgroundcolor\":\"#E5ECF6\",\"gridcolor\":\"white\",\"gridwidth\":2,\"linecolor\":\"white\",\"showbackground\":true,\"ticks\":\"\",\"zerolinecolor\":\"white\"}},\"shapedefaults\":{\"line\":{\"color\":\"#2a3f5f\"}},\"ternary\":{\"aaxis\":{\"gridcolor\":\"white\",\"linecolor\":\"white\",\"ticks\":\"\"},\"baxis\":{\"gridcolor\":\"white\",\"linecolor\":\"white\",\"ticks\":\"\"},\"bgcolor\":\"#E5ECF6\",\"caxis\":{\"gridcolor\":\"white\",\"linecolor\":\"white\",\"ticks\":\"\"}},\"title\":{\"x\":0.05},\"xaxis\":{\"automargin\":true,\"gridcolor\":\"white\",\"linecolor\":\"white\",\"ticks\":\"\",\"title\":{\"standoff\":15},\"zerolinecolor\":\"white\",\"zerolinewidth\":2},\"yaxis\":{\"automargin\":true,\"gridcolor\":\"white\",\"linecolor\":\"white\",\"ticks\":\"\",\"title\":{\"standoff\":15},\"zerolinecolor\":\"white\",\"zerolinewidth\":2}}},\"title\":{\"text\":\"Seasons\"}},                        {\"responsive\": true}                    ).then(function(){\n",
       "                            \n",
       "var gd = document.getElementById('40aa4b31-289c-4807-817d-58a54604c31f');\n",
       "var x = new MutationObserver(function (mutations, observer) {{\n",
       "        var display = window.getComputedStyle(gd).display;\n",
       "        if (!display || display === 'none') {{\n",
       "            console.log([gd, 'removed!']);\n",
       "            Plotly.purge(gd);\n",
       "            observer.disconnect();\n",
       "        }}\n",
       "}});\n",
       "\n",
       "// Listen for the removal of the full notebook cells\n",
       "var notebookContainer = gd.closest('#notebook-container');\n",
       "if (notebookContainer) {{\n",
       "    x.observe(notebookContainer, {childList: true});\n",
       "}}\n",
       "\n",
       "// Listen for the clearing of the current output cell\n",
       "var outputEl = gd.closest('.output');\n",
       "if (outputEl) {{\n",
       "    x.observe(outputEl, {childList: true});\n",
       "}}\n",
       "\n",
       "                        })                };                });            </script>        </div>"
      ]
     },
     "metadata": {}
    }
   ],
   "metadata": {}
  },
  {
   "cell_type": "code",
   "execution_count": 28,
   "source": [
    "col = \"rating\"\r\n",
    "\r\n",
    "vc1 = d1[col].value_counts().reset_index()\r\n",
    "vc1 = vc1.rename(columns = {col : \"count\", \"index\" : col})\r\n",
    "vc1['percent'] = vc1['count'].apply(lambda x : 100*x/sum(vc1['count']))\r\n",
    "#vc1 = vc1.sort_values(col)\r\n",
    "\r\n",
    "vc2 = d2[col].value_counts().reset_index()\r\n",
    "vc2 = vc2.rename(columns = {col : \"count\", \"index\" : col})\r\n",
    "vc2['percent'] = vc2['count'].apply(lambda x : 100*x/sum(vc2['count']))\r\n",
    "#vc2 = vc2.sort_values(col)\r\n",
    "\r\n",
    "trace1 = go.Bar(x=vc1[col], y=vc1[\"count\"], name=\"TV Shows\", marker=dict(color=\"#221f1f\"))\r\n",
    "trace2 = go.Bar(x=vc2[col], y=vc2[\"count\"], name=\"Movies\", marker=dict(color=\"#e50914\"))\r\n",
    "data = [trace1, trace2]\r\n",
    "layout = go.Layout(title=\"Content added over the years\", legend=dict(x=0.1, y=1.1, orientation=\"h\"))\r\n",
    "fig = go.Figure(data, layout=layout)\r\n",
    "fig.show()"
   ],
   "outputs": [
    {
     "output_type": "display_data",
     "data": {
      "application/vnd.plotly.v1+json": {
       "config": {
        "plotlyServerURL": "https://plot.ly"
       },
       "data": [
        {
         "marker": {
          "color": "#221f1f"
         },
         "name": "TV Shows",
         "type": "bar",
         "x": [
          "TV-MA",
          "TV-14",
          "TV-PG",
          "TV-Y7",
          "TV-Y",
          "TV-G",
          "NR",
          "R",
          "TV-Y7-FV"
         ],
         "y": [
          1016,
          656,
          299,
          175,
          162,
          83,
          4,
          2,
          1
         ]
        },
        {
         "marker": {
          "color": "#e50914"
         },
         "name": "Movies",
         "type": "bar",
         "x": [
          "TV-MA",
          "TV-14",
          "R",
          "TV-PG",
          "PG-13",
          "PG",
          "TV-Y",
          "TV-G",
          "TV-Y7",
          "NR",
          "G",
          "UR",
          "TV-Y7-FV",
          "NC-17"
         ],
         "y": [
          1845,
          1272,
          663,
          505,
          386,
          247,
          117,
          111,
          95,
          79,
          39,
          5,
          5,
          3
         ]
        }
       ],
       "layout": {
        "legend": {
         "orientation": "h",
         "x": 0.1,
         "y": 1.1
        },
        "template": {
         "data": {
          "bar": [
           {
            "error_x": {
             "color": "#2a3f5f"
            },
            "error_y": {
             "color": "#2a3f5f"
            },
            "marker": {
             "line": {
              "color": "#E5ECF6",
              "width": 0.5
             },
             "pattern": {
              "fillmode": "overlay",
              "size": 10,
              "solidity": 0.2
             }
            },
            "type": "bar"
           }
          ],
          "barpolar": [
           {
            "marker": {
             "line": {
              "color": "#E5ECF6",
              "width": 0.5
             },
             "pattern": {
              "fillmode": "overlay",
              "size": 10,
              "solidity": 0.2
             }
            },
            "type": "barpolar"
           }
          ],
          "carpet": [
           {
            "aaxis": {
             "endlinecolor": "#2a3f5f",
             "gridcolor": "white",
             "linecolor": "white",
             "minorgridcolor": "white",
             "startlinecolor": "#2a3f5f"
            },
            "baxis": {
             "endlinecolor": "#2a3f5f",
             "gridcolor": "white",
             "linecolor": "white",
             "minorgridcolor": "white",
             "startlinecolor": "#2a3f5f"
            },
            "type": "carpet"
           }
          ],
          "choropleth": [
           {
            "colorbar": {
             "outlinewidth": 0,
             "ticks": ""
            },
            "type": "choropleth"
           }
          ],
          "contour": [
           {
            "colorbar": {
             "outlinewidth": 0,
             "ticks": ""
            },
            "colorscale": [
             [
              0,
              "#0d0887"
             ],
             [
              0.1111111111111111,
              "#46039f"
             ],
             [
              0.2222222222222222,
              "#7201a8"
             ],
             [
              0.3333333333333333,
              "#9c179e"
             ],
             [
              0.4444444444444444,
              "#bd3786"
             ],
             [
              0.5555555555555556,
              "#d8576b"
             ],
             [
              0.6666666666666666,
              "#ed7953"
             ],
             [
              0.7777777777777778,
              "#fb9f3a"
             ],
             [
              0.8888888888888888,
              "#fdca26"
             ],
             [
              1,
              "#f0f921"
             ]
            ],
            "type": "contour"
           }
          ],
          "contourcarpet": [
           {
            "colorbar": {
             "outlinewidth": 0,
             "ticks": ""
            },
            "type": "contourcarpet"
           }
          ],
          "heatmap": [
           {
            "colorbar": {
             "outlinewidth": 0,
             "ticks": ""
            },
            "colorscale": [
             [
              0,
              "#0d0887"
             ],
             [
              0.1111111111111111,
              "#46039f"
             ],
             [
              0.2222222222222222,
              "#7201a8"
             ],
             [
              0.3333333333333333,
              "#9c179e"
             ],
             [
              0.4444444444444444,
              "#bd3786"
             ],
             [
              0.5555555555555556,
              "#d8576b"
             ],
             [
              0.6666666666666666,
              "#ed7953"
             ],
             [
              0.7777777777777778,
              "#fb9f3a"
             ],
             [
              0.8888888888888888,
              "#fdca26"
             ],
             [
              1,
              "#f0f921"
             ]
            ],
            "type": "heatmap"
           }
          ],
          "heatmapgl": [
           {
            "colorbar": {
             "outlinewidth": 0,
             "ticks": ""
            },
            "colorscale": [
             [
              0,
              "#0d0887"
             ],
             [
              0.1111111111111111,
              "#46039f"
             ],
             [
              0.2222222222222222,
              "#7201a8"
             ],
             [
              0.3333333333333333,
              "#9c179e"
             ],
             [
              0.4444444444444444,
              "#bd3786"
             ],
             [
              0.5555555555555556,
              "#d8576b"
             ],
             [
              0.6666666666666666,
              "#ed7953"
             ],
             [
              0.7777777777777778,
              "#fb9f3a"
             ],
             [
              0.8888888888888888,
              "#fdca26"
             ],
             [
              1,
              "#f0f921"
             ]
            ],
            "type": "heatmapgl"
           }
          ],
          "histogram": [
           {
            "marker": {
             "pattern": {
              "fillmode": "overlay",
              "size": 10,
              "solidity": 0.2
             }
            },
            "type": "histogram"
           }
          ],
          "histogram2d": [
           {
            "colorbar": {
             "outlinewidth": 0,
             "ticks": ""
            },
            "colorscale": [
             [
              0,
              "#0d0887"
             ],
             [
              0.1111111111111111,
              "#46039f"
             ],
             [
              0.2222222222222222,
              "#7201a8"
             ],
             [
              0.3333333333333333,
              "#9c179e"
             ],
             [
              0.4444444444444444,
              "#bd3786"
             ],
             [
              0.5555555555555556,
              "#d8576b"
             ],
             [
              0.6666666666666666,
              "#ed7953"
             ],
             [
              0.7777777777777778,
              "#fb9f3a"
             ],
             [
              0.8888888888888888,
              "#fdca26"
             ],
             [
              1,
              "#f0f921"
             ]
            ],
            "type": "histogram2d"
           }
          ],
          "histogram2dcontour": [
           {
            "colorbar": {
             "outlinewidth": 0,
             "ticks": ""
            },
            "colorscale": [
             [
              0,
              "#0d0887"
             ],
             [
              0.1111111111111111,
              "#46039f"
             ],
             [
              0.2222222222222222,
              "#7201a8"
             ],
             [
              0.3333333333333333,
              "#9c179e"
             ],
             [
              0.4444444444444444,
              "#bd3786"
             ],
             [
              0.5555555555555556,
              "#d8576b"
             ],
             [
              0.6666666666666666,
              "#ed7953"
             ],
             [
              0.7777777777777778,
              "#fb9f3a"
             ],
             [
              0.8888888888888888,
              "#fdca26"
             ],
             [
              1,
              "#f0f921"
             ]
            ],
            "type": "histogram2dcontour"
           }
          ],
          "mesh3d": [
           {
            "colorbar": {
             "outlinewidth": 0,
             "ticks": ""
            },
            "type": "mesh3d"
           }
          ],
          "parcoords": [
           {
            "line": {
             "colorbar": {
              "outlinewidth": 0,
              "ticks": ""
             }
            },
            "type": "parcoords"
           }
          ],
          "pie": [
           {
            "automargin": true,
            "type": "pie"
           }
          ],
          "scatter": [
           {
            "marker": {
             "colorbar": {
              "outlinewidth": 0,
              "ticks": ""
             }
            },
            "type": "scatter"
           }
          ],
          "scatter3d": [
           {
            "line": {
             "colorbar": {
              "outlinewidth": 0,
              "ticks": ""
             }
            },
            "marker": {
             "colorbar": {
              "outlinewidth": 0,
              "ticks": ""
             }
            },
            "type": "scatter3d"
           }
          ],
          "scattercarpet": [
           {
            "marker": {
             "colorbar": {
              "outlinewidth": 0,
              "ticks": ""
             }
            },
            "type": "scattercarpet"
           }
          ],
          "scattergeo": [
           {
            "marker": {
             "colorbar": {
              "outlinewidth": 0,
              "ticks": ""
             }
            },
            "type": "scattergeo"
           }
          ],
          "scattergl": [
           {
            "marker": {
             "colorbar": {
              "outlinewidth": 0,
              "ticks": ""
             }
            },
            "type": "scattergl"
           }
          ],
          "scattermapbox": [
           {
            "marker": {
             "colorbar": {
              "outlinewidth": 0,
              "ticks": ""
             }
            },
            "type": "scattermapbox"
           }
          ],
          "scatterpolar": [
           {
            "marker": {
             "colorbar": {
              "outlinewidth": 0,
              "ticks": ""
             }
            },
            "type": "scatterpolar"
           }
          ],
          "scatterpolargl": [
           {
            "marker": {
             "colorbar": {
              "outlinewidth": 0,
              "ticks": ""
             }
            },
            "type": "scatterpolargl"
           }
          ],
          "scatterternary": [
           {
            "marker": {
             "colorbar": {
              "outlinewidth": 0,
              "ticks": ""
             }
            },
            "type": "scatterternary"
           }
          ],
          "surface": [
           {
            "colorbar": {
             "outlinewidth": 0,
             "ticks": ""
            },
            "colorscale": [
             [
              0,
              "#0d0887"
             ],
             [
              0.1111111111111111,
              "#46039f"
             ],
             [
              0.2222222222222222,
              "#7201a8"
             ],
             [
              0.3333333333333333,
              "#9c179e"
             ],
             [
              0.4444444444444444,
              "#bd3786"
             ],
             [
              0.5555555555555556,
              "#d8576b"
             ],
             [
              0.6666666666666666,
              "#ed7953"
             ],
             [
              0.7777777777777778,
              "#fb9f3a"
             ],
             [
              0.8888888888888888,
              "#fdca26"
             ],
             [
              1,
              "#f0f921"
             ]
            ],
            "type": "surface"
           }
          ],
          "table": [
           {
            "cells": {
             "fill": {
              "color": "#EBF0F8"
             },
             "line": {
              "color": "white"
             }
            },
            "header": {
             "fill": {
              "color": "#C8D4E3"
             },
             "line": {
              "color": "white"
             }
            },
            "type": "table"
           }
          ]
         },
         "layout": {
          "annotationdefaults": {
           "arrowcolor": "#2a3f5f",
           "arrowhead": 0,
           "arrowwidth": 1
          },
          "autotypenumbers": "strict",
          "coloraxis": {
           "colorbar": {
            "outlinewidth": 0,
            "ticks": ""
           }
          },
          "colorscale": {
           "diverging": [
            [
             0,
             "#8e0152"
            ],
            [
             0.1,
             "#c51b7d"
            ],
            [
             0.2,
             "#de77ae"
            ],
            [
             0.3,
             "#f1b6da"
            ],
            [
             0.4,
             "#fde0ef"
            ],
            [
             0.5,
             "#f7f7f7"
            ],
            [
             0.6,
             "#e6f5d0"
            ],
            [
             0.7,
             "#b8e186"
            ],
            [
             0.8,
             "#7fbc41"
            ],
            [
             0.9,
             "#4d9221"
            ],
            [
             1,
             "#276419"
            ]
           ],
           "sequential": [
            [
             0,
             "#0d0887"
            ],
            [
             0.1111111111111111,
             "#46039f"
            ],
            [
             0.2222222222222222,
             "#7201a8"
            ],
            [
             0.3333333333333333,
             "#9c179e"
            ],
            [
             0.4444444444444444,
             "#bd3786"
            ],
            [
             0.5555555555555556,
             "#d8576b"
            ],
            [
             0.6666666666666666,
             "#ed7953"
            ],
            [
             0.7777777777777778,
             "#fb9f3a"
            ],
            [
             0.8888888888888888,
             "#fdca26"
            ],
            [
             1,
             "#f0f921"
            ]
           ],
           "sequentialminus": [
            [
             0,
             "#0d0887"
            ],
            [
             0.1111111111111111,
             "#46039f"
            ],
            [
             0.2222222222222222,
             "#7201a8"
            ],
            [
             0.3333333333333333,
             "#9c179e"
            ],
            [
             0.4444444444444444,
             "#bd3786"
            ],
            [
             0.5555555555555556,
             "#d8576b"
            ],
            [
             0.6666666666666666,
             "#ed7953"
            ],
            [
             0.7777777777777778,
             "#fb9f3a"
            ],
            [
             0.8888888888888888,
             "#fdca26"
            ],
            [
             1,
             "#f0f921"
            ]
           ]
          },
          "colorway": [
           "#636efa",
           "#EF553B",
           "#00cc96",
           "#ab63fa",
           "#FFA15A",
           "#19d3f3",
           "#FF6692",
           "#B6E880",
           "#FF97FF",
           "#FECB52"
          ],
          "font": {
           "color": "#2a3f5f"
          },
          "geo": {
           "bgcolor": "white",
           "lakecolor": "white",
           "landcolor": "#E5ECF6",
           "showlakes": true,
           "showland": true,
           "subunitcolor": "white"
          },
          "hoverlabel": {
           "align": "left"
          },
          "hovermode": "closest",
          "mapbox": {
           "style": "light"
          },
          "paper_bgcolor": "white",
          "plot_bgcolor": "#E5ECF6",
          "polar": {
           "angularaxis": {
            "gridcolor": "white",
            "linecolor": "white",
            "ticks": ""
           },
           "bgcolor": "#E5ECF6",
           "radialaxis": {
            "gridcolor": "white",
            "linecolor": "white",
            "ticks": ""
           }
          },
          "scene": {
           "xaxis": {
            "backgroundcolor": "#E5ECF6",
            "gridcolor": "white",
            "gridwidth": 2,
            "linecolor": "white",
            "showbackground": true,
            "ticks": "",
            "zerolinecolor": "white"
           },
           "yaxis": {
            "backgroundcolor": "#E5ECF6",
            "gridcolor": "white",
            "gridwidth": 2,
            "linecolor": "white",
            "showbackground": true,
            "ticks": "",
            "zerolinecolor": "white"
           },
           "zaxis": {
            "backgroundcolor": "#E5ECF6",
            "gridcolor": "white",
            "gridwidth": 2,
            "linecolor": "white",
            "showbackground": true,
            "ticks": "",
            "zerolinecolor": "white"
           }
          },
          "shapedefaults": {
           "line": {
            "color": "#2a3f5f"
           }
          },
          "ternary": {
           "aaxis": {
            "gridcolor": "white",
            "linecolor": "white",
            "ticks": ""
           },
           "baxis": {
            "gridcolor": "white",
            "linecolor": "white",
            "ticks": ""
           },
           "bgcolor": "#E5ECF6",
           "caxis": {
            "gridcolor": "white",
            "linecolor": "white",
            "ticks": ""
           }
          },
          "title": {
           "x": 0.05
          },
          "xaxis": {
           "automargin": true,
           "gridcolor": "white",
           "linecolor": "white",
           "ticks": "",
           "title": {
            "standoff": 15
           },
           "zerolinecolor": "white",
           "zerolinewidth": 2
          },
          "yaxis": {
           "automargin": true,
           "gridcolor": "white",
           "linecolor": "white",
           "ticks": "",
           "title": {
            "standoff": 15
           },
           "zerolinecolor": "white",
           "zerolinewidth": 2
          }
         }
        },
        "title": {
         "text": "Content added over the years"
        }
       }
      },
      "text/html": [
       "<div>                            <div id=\"ae0de14b-bf34-4dd5-811c-21834793672f\" class=\"plotly-graph-div\" style=\"height:525px; width:100%;\"></div>            <script type=\"text/javascript\">                require([\"plotly\"], function(Plotly) {                    window.PLOTLYENV=window.PLOTLYENV || {};                                    if (document.getElementById(\"ae0de14b-bf34-4dd5-811c-21834793672f\")) {                    Plotly.newPlot(                        \"ae0de14b-bf34-4dd5-811c-21834793672f\",                        [{\"marker\":{\"color\":\"#221f1f\"},\"name\":\"TV Shows\",\"type\":\"bar\",\"x\":[\"TV-MA\",\"TV-14\",\"TV-PG\",\"TV-Y7\",\"TV-Y\",\"TV-G\",\"NR\",\"R\",\"TV-Y7-FV\"],\"y\":[1016,656,299,175,162,83,4,2,1]},{\"marker\":{\"color\":\"#e50914\"},\"name\":\"Movies\",\"type\":\"bar\",\"x\":[\"TV-MA\",\"TV-14\",\"R\",\"TV-PG\",\"PG-13\",\"PG\",\"TV-Y\",\"TV-G\",\"TV-Y7\",\"NR\",\"G\",\"UR\",\"TV-Y7-FV\",\"NC-17\"],\"y\":[1845,1272,663,505,386,247,117,111,95,79,39,5,5,3]}],                        {\"legend\":{\"orientation\":\"h\",\"x\":0.1,\"y\":1.1},\"template\":{\"data\":{\"bar\":[{\"error_x\":{\"color\":\"#2a3f5f\"},\"error_y\":{\"color\":\"#2a3f5f\"},\"marker\":{\"line\":{\"color\":\"#E5ECF6\",\"width\":0.5},\"pattern\":{\"fillmode\":\"overlay\",\"size\":10,\"solidity\":0.2}},\"type\":\"bar\"}],\"barpolar\":[{\"marker\":{\"line\":{\"color\":\"#E5ECF6\",\"width\":0.5},\"pattern\":{\"fillmode\":\"overlay\",\"size\":10,\"solidity\":0.2}},\"type\":\"barpolar\"}],\"carpet\":[{\"aaxis\":{\"endlinecolor\":\"#2a3f5f\",\"gridcolor\":\"white\",\"linecolor\":\"white\",\"minorgridcolor\":\"white\",\"startlinecolor\":\"#2a3f5f\"},\"baxis\":{\"endlinecolor\":\"#2a3f5f\",\"gridcolor\":\"white\",\"linecolor\":\"white\",\"minorgridcolor\":\"white\",\"startlinecolor\":\"#2a3f5f\"},\"type\":\"carpet\"}],\"choropleth\":[{\"colorbar\":{\"outlinewidth\":0,\"ticks\":\"\"},\"type\":\"choropleth\"}],\"contour\":[{\"colorbar\":{\"outlinewidth\":0,\"ticks\":\"\"},\"colorscale\":[[0.0,\"#0d0887\"],[0.1111111111111111,\"#46039f\"],[0.2222222222222222,\"#7201a8\"],[0.3333333333333333,\"#9c179e\"],[0.4444444444444444,\"#bd3786\"],[0.5555555555555556,\"#d8576b\"],[0.6666666666666666,\"#ed7953\"],[0.7777777777777778,\"#fb9f3a\"],[0.8888888888888888,\"#fdca26\"],[1.0,\"#f0f921\"]],\"type\":\"contour\"}],\"contourcarpet\":[{\"colorbar\":{\"outlinewidth\":0,\"ticks\":\"\"},\"type\":\"contourcarpet\"}],\"heatmap\":[{\"colorbar\":{\"outlinewidth\":0,\"ticks\":\"\"},\"colorscale\":[[0.0,\"#0d0887\"],[0.1111111111111111,\"#46039f\"],[0.2222222222222222,\"#7201a8\"],[0.3333333333333333,\"#9c179e\"],[0.4444444444444444,\"#bd3786\"],[0.5555555555555556,\"#d8576b\"],[0.6666666666666666,\"#ed7953\"],[0.7777777777777778,\"#fb9f3a\"],[0.8888888888888888,\"#fdca26\"],[1.0,\"#f0f921\"]],\"type\":\"heatmap\"}],\"heatmapgl\":[{\"colorbar\":{\"outlinewidth\":0,\"ticks\":\"\"},\"colorscale\":[[0.0,\"#0d0887\"],[0.1111111111111111,\"#46039f\"],[0.2222222222222222,\"#7201a8\"],[0.3333333333333333,\"#9c179e\"],[0.4444444444444444,\"#bd3786\"],[0.5555555555555556,\"#d8576b\"],[0.6666666666666666,\"#ed7953\"],[0.7777777777777778,\"#fb9f3a\"],[0.8888888888888888,\"#fdca26\"],[1.0,\"#f0f921\"]],\"type\":\"heatmapgl\"}],\"histogram\":[{\"marker\":{\"pattern\":{\"fillmode\":\"overlay\",\"size\":10,\"solidity\":0.2}},\"type\":\"histogram\"}],\"histogram2d\":[{\"colorbar\":{\"outlinewidth\":0,\"ticks\":\"\"},\"colorscale\":[[0.0,\"#0d0887\"],[0.1111111111111111,\"#46039f\"],[0.2222222222222222,\"#7201a8\"],[0.3333333333333333,\"#9c179e\"],[0.4444444444444444,\"#bd3786\"],[0.5555555555555556,\"#d8576b\"],[0.6666666666666666,\"#ed7953\"],[0.7777777777777778,\"#fb9f3a\"],[0.8888888888888888,\"#fdca26\"],[1.0,\"#f0f921\"]],\"type\":\"histogram2d\"}],\"histogram2dcontour\":[{\"colorbar\":{\"outlinewidth\":0,\"ticks\":\"\"},\"colorscale\":[[0.0,\"#0d0887\"],[0.1111111111111111,\"#46039f\"],[0.2222222222222222,\"#7201a8\"],[0.3333333333333333,\"#9c179e\"],[0.4444444444444444,\"#bd3786\"],[0.5555555555555556,\"#d8576b\"],[0.6666666666666666,\"#ed7953\"],[0.7777777777777778,\"#fb9f3a\"],[0.8888888888888888,\"#fdca26\"],[1.0,\"#f0f921\"]],\"type\":\"histogram2dcontour\"}],\"mesh3d\":[{\"colorbar\":{\"outlinewidth\":0,\"ticks\":\"\"},\"type\":\"mesh3d\"}],\"parcoords\":[{\"line\":{\"colorbar\":{\"outlinewidth\":0,\"ticks\":\"\"}},\"type\":\"parcoords\"}],\"pie\":[{\"automargin\":true,\"type\":\"pie\"}],\"scatter\":[{\"marker\":{\"colorbar\":{\"outlinewidth\":0,\"ticks\":\"\"}},\"type\":\"scatter\"}],\"scatter3d\":[{\"line\":{\"colorbar\":{\"outlinewidth\":0,\"ticks\":\"\"}},\"marker\":{\"colorbar\":{\"outlinewidth\":0,\"ticks\":\"\"}},\"type\":\"scatter3d\"}],\"scattercarpet\":[{\"marker\":{\"colorbar\":{\"outlinewidth\":0,\"ticks\":\"\"}},\"type\":\"scattercarpet\"}],\"scattergeo\":[{\"marker\":{\"colorbar\":{\"outlinewidth\":0,\"ticks\":\"\"}},\"type\":\"scattergeo\"}],\"scattergl\":[{\"marker\":{\"colorbar\":{\"outlinewidth\":0,\"ticks\":\"\"}},\"type\":\"scattergl\"}],\"scattermapbox\":[{\"marker\":{\"colorbar\":{\"outlinewidth\":0,\"ticks\":\"\"}},\"type\":\"scattermapbox\"}],\"scatterpolar\":[{\"marker\":{\"colorbar\":{\"outlinewidth\":0,\"ticks\":\"\"}},\"type\":\"scatterpolar\"}],\"scatterpolargl\":[{\"marker\":{\"colorbar\":{\"outlinewidth\":0,\"ticks\":\"\"}},\"type\":\"scatterpolargl\"}],\"scatterternary\":[{\"marker\":{\"colorbar\":{\"outlinewidth\":0,\"ticks\":\"\"}},\"type\":\"scatterternary\"}],\"surface\":[{\"colorbar\":{\"outlinewidth\":0,\"ticks\":\"\"},\"colorscale\":[[0.0,\"#0d0887\"],[0.1111111111111111,\"#46039f\"],[0.2222222222222222,\"#7201a8\"],[0.3333333333333333,\"#9c179e\"],[0.4444444444444444,\"#bd3786\"],[0.5555555555555556,\"#d8576b\"],[0.6666666666666666,\"#ed7953\"],[0.7777777777777778,\"#fb9f3a\"],[0.8888888888888888,\"#fdca26\"],[1.0,\"#f0f921\"]],\"type\":\"surface\"}],\"table\":[{\"cells\":{\"fill\":{\"color\":\"#EBF0F8\"},\"line\":{\"color\":\"white\"}},\"header\":{\"fill\":{\"color\":\"#C8D4E3\"},\"line\":{\"color\":\"white\"}},\"type\":\"table\"}]},\"layout\":{\"annotationdefaults\":{\"arrowcolor\":\"#2a3f5f\",\"arrowhead\":0,\"arrowwidth\":1},\"autotypenumbers\":\"strict\",\"coloraxis\":{\"colorbar\":{\"outlinewidth\":0,\"ticks\":\"\"}},\"colorscale\":{\"diverging\":[[0,\"#8e0152\"],[0.1,\"#c51b7d\"],[0.2,\"#de77ae\"],[0.3,\"#f1b6da\"],[0.4,\"#fde0ef\"],[0.5,\"#f7f7f7\"],[0.6,\"#e6f5d0\"],[0.7,\"#b8e186\"],[0.8,\"#7fbc41\"],[0.9,\"#4d9221\"],[1,\"#276419\"]],\"sequential\":[[0.0,\"#0d0887\"],[0.1111111111111111,\"#46039f\"],[0.2222222222222222,\"#7201a8\"],[0.3333333333333333,\"#9c179e\"],[0.4444444444444444,\"#bd3786\"],[0.5555555555555556,\"#d8576b\"],[0.6666666666666666,\"#ed7953\"],[0.7777777777777778,\"#fb9f3a\"],[0.8888888888888888,\"#fdca26\"],[1.0,\"#f0f921\"]],\"sequentialminus\":[[0.0,\"#0d0887\"],[0.1111111111111111,\"#46039f\"],[0.2222222222222222,\"#7201a8\"],[0.3333333333333333,\"#9c179e\"],[0.4444444444444444,\"#bd3786\"],[0.5555555555555556,\"#d8576b\"],[0.6666666666666666,\"#ed7953\"],[0.7777777777777778,\"#fb9f3a\"],[0.8888888888888888,\"#fdca26\"],[1.0,\"#f0f921\"]]},\"colorway\":[\"#636efa\",\"#EF553B\",\"#00cc96\",\"#ab63fa\",\"#FFA15A\",\"#19d3f3\",\"#FF6692\",\"#B6E880\",\"#FF97FF\",\"#FECB52\"],\"font\":{\"color\":\"#2a3f5f\"},\"geo\":{\"bgcolor\":\"white\",\"lakecolor\":\"white\",\"landcolor\":\"#E5ECF6\",\"showlakes\":true,\"showland\":true,\"subunitcolor\":\"white\"},\"hoverlabel\":{\"align\":\"left\"},\"hovermode\":\"closest\",\"mapbox\":{\"style\":\"light\"},\"paper_bgcolor\":\"white\",\"plot_bgcolor\":\"#E5ECF6\",\"polar\":{\"angularaxis\":{\"gridcolor\":\"white\",\"linecolor\":\"white\",\"ticks\":\"\"},\"bgcolor\":\"#E5ECF6\",\"radialaxis\":{\"gridcolor\":\"white\",\"linecolor\":\"white\",\"ticks\":\"\"}},\"scene\":{\"xaxis\":{\"backgroundcolor\":\"#E5ECF6\",\"gridcolor\":\"white\",\"gridwidth\":2,\"linecolor\":\"white\",\"showbackground\":true,\"ticks\":\"\",\"zerolinecolor\":\"white\"},\"yaxis\":{\"backgroundcolor\":\"#E5ECF6\",\"gridcolor\":\"white\",\"gridwidth\":2,\"linecolor\":\"white\",\"showbackground\":true,\"ticks\":\"\",\"zerolinecolor\":\"white\"},\"zaxis\":{\"backgroundcolor\":\"#E5ECF6\",\"gridcolor\":\"white\",\"gridwidth\":2,\"linecolor\":\"white\",\"showbackground\":true,\"ticks\":\"\",\"zerolinecolor\":\"white\"}},\"shapedefaults\":{\"line\":{\"color\":\"#2a3f5f\"}},\"ternary\":{\"aaxis\":{\"gridcolor\":\"white\",\"linecolor\":\"white\",\"ticks\":\"\"},\"baxis\":{\"gridcolor\":\"white\",\"linecolor\":\"white\",\"ticks\":\"\"},\"bgcolor\":\"#E5ECF6\",\"caxis\":{\"gridcolor\":\"white\",\"linecolor\":\"white\",\"ticks\":\"\"}},\"title\":{\"x\":0.05},\"xaxis\":{\"automargin\":true,\"gridcolor\":\"white\",\"linecolor\":\"white\",\"ticks\":\"\",\"title\":{\"standoff\":15},\"zerolinecolor\":\"white\",\"zerolinewidth\":2},\"yaxis\":{\"automargin\":true,\"gridcolor\":\"white\",\"linecolor\":\"white\",\"ticks\":\"\",\"title\":{\"standoff\":15},\"zerolinecolor\":\"white\",\"zerolinewidth\":2}}},\"title\":{\"text\":\"Content added over the years\"}},                        {\"responsive\": true}                    ).then(function(){\n",
       "                            \n",
       "var gd = document.getElementById('ae0de14b-bf34-4dd5-811c-21834793672f');\n",
       "var x = new MutationObserver(function (mutations, observer) {{\n",
       "        var display = window.getComputedStyle(gd).display;\n",
       "        if (!display || display === 'none') {{\n",
       "            console.log([gd, 'removed!']);\n",
       "            Plotly.purge(gd);\n",
       "            observer.disconnect();\n",
       "        }}\n",
       "}});\n",
       "\n",
       "// Listen for the removal of the full notebook cells\n",
       "var notebookContainer = gd.closest('#notebook-container');\n",
       "if (notebookContainer) {{\n",
       "    x.observe(notebookContainer, {childList: true});\n",
       "}}\n",
       "\n",
       "// Listen for the clearing of the current output cell\n",
       "var outputEl = gd.closest('.output');\n",
       "if (outputEl) {{\n",
       "    x.observe(outputEl, {childList: true});\n",
       "}}\n",
       "\n",
       "                        })                };                });            </script>        </div>"
      ]
     },
     "metadata": {}
    }
   ],
   "metadata": {}
  },
  {
   "cell_type": "code",
   "execution_count": 29,
   "source": [
    "import collections\r\n",
    "col = \"listed_in\"\r\n",
    "categories = \", \".join(d2['listed_in']).split(\", \")\r\n",
    "counter_list = collections.Counter(categories).most_common(50)\r\n",
    "labels = [_[0] for _ in counter_list][::-1]\r\n",
    "values = [_[1] for _ in counter_list][::-1]\r\n",
    "trace1 = go.Bar(y=labels, x=values, orientation=\"h\", name=\"TV Shows\", marker=dict(color=\"#221f1f\"))\r\n",
    "\r\n",
    "data = [trace1]\r\n",
    "layout = go.Layout(title=\"Content added over the years\", legend=dict(x=0.1, y=1.1, orientation=\"h\"))\r\n",
    "fig = go.Figure(data, layout=layout)\r\n",
    "fig.show()"
   ],
   "outputs": [
    {
     "output_type": "display_data",
     "data": {
      "application/vnd.plotly.v1+json": {
       "config": {
        "plotlyServerURL": "https://plot.ly"
       },
       "data": [
        {
         "marker": {
          "color": "#221f1f"
         },
         "name": "TV Shows",
         "orientation": "h",
         "type": "bar",
         "x": [
          52,
          57,
          57,
          59,
          90,
          103,
          196,
          218,
          312,
          321,
          329,
          491,
          531,
          532,
          673,
          721,
          786,
          1471,
          2105,
          2437
         ],
         "y": [
          "Movies",
          "Anime Features",
          "Faith & Spirituality",
          "Cult Movies",
          "LGBTQ Movies",
          "Classic Movies",
          "Sports Movies",
          "Sci-Fi & Fantasy",
          "Horror Movies",
          "Music & Musicals",
          "Stand-Up Comedy",
          "Thrillers",
          "Romantic Movies",
          "Children & Family Movies",
          "Independent Movies",
          "Action & Adventure",
          "Documentaries",
          "Comedies",
          "Dramas",
          "International Movies"
         ]
        }
       ],
       "layout": {
        "legend": {
         "orientation": "h",
         "x": 0.1,
         "y": 1.1
        },
        "template": {
         "data": {
          "bar": [
           {
            "error_x": {
             "color": "#2a3f5f"
            },
            "error_y": {
             "color": "#2a3f5f"
            },
            "marker": {
             "line": {
              "color": "#E5ECF6",
              "width": 0.5
             },
             "pattern": {
              "fillmode": "overlay",
              "size": 10,
              "solidity": 0.2
             }
            },
            "type": "bar"
           }
          ],
          "barpolar": [
           {
            "marker": {
             "line": {
              "color": "#E5ECF6",
              "width": 0.5
             },
             "pattern": {
              "fillmode": "overlay",
              "size": 10,
              "solidity": 0.2
             }
            },
            "type": "barpolar"
           }
          ],
          "carpet": [
           {
            "aaxis": {
             "endlinecolor": "#2a3f5f",
             "gridcolor": "white",
             "linecolor": "white",
             "minorgridcolor": "white",
             "startlinecolor": "#2a3f5f"
            },
            "baxis": {
             "endlinecolor": "#2a3f5f",
             "gridcolor": "white",
             "linecolor": "white",
             "minorgridcolor": "white",
             "startlinecolor": "#2a3f5f"
            },
            "type": "carpet"
           }
          ],
          "choropleth": [
           {
            "colorbar": {
             "outlinewidth": 0,
             "ticks": ""
            },
            "type": "choropleth"
           }
          ],
          "contour": [
           {
            "colorbar": {
             "outlinewidth": 0,
             "ticks": ""
            },
            "colorscale": [
             [
              0,
              "#0d0887"
             ],
             [
              0.1111111111111111,
              "#46039f"
             ],
             [
              0.2222222222222222,
              "#7201a8"
             ],
             [
              0.3333333333333333,
              "#9c179e"
             ],
             [
              0.4444444444444444,
              "#bd3786"
             ],
             [
              0.5555555555555556,
              "#d8576b"
             ],
             [
              0.6666666666666666,
              "#ed7953"
             ],
             [
              0.7777777777777778,
              "#fb9f3a"
             ],
             [
              0.8888888888888888,
              "#fdca26"
             ],
             [
              1,
              "#f0f921"
             ]
            ],
            "type": "contour"
           }
          ],
          "contourcarpet": [
           {
            "colorbar": {
             "outlinewidth": 0,
             "ticks": ""
            },
            "type": "contourcarpet"
           }
          ],
          "heatmap": [
           {
            "colorbar": {
             "outlinewidth": 0,
             "ticks": ""
            },
            "colorscale": [
             [
              0,
              "#0d0887"
             ],
             [
              0.1111111111111111,
              "#46039f"
             ],
             [
              0.2222222222222222,
              "#7201a8"
             ],
             [
              0.3333333333333333,
              "#9c179e"
             ],
             [
              0.4444444444444444,
              "#bd3786"
             ],
             [
              0.5555555555555556,
              "#d8576b"
             ],
             [
              0.6666666666666666,
              "#ed7953"
             ],
             [
              0.7777777777777778,
              "#fb9f3a"
             ],
             [
              0.8888888888888888,
              "#fdca26"
             ],
             [
              1,
              "#f0f921"
             ]
            ],
            "type": "heatmap"
           }
          ],
          "heatmapgl": [
           {
            "colorbar": {
             "outlinewidth": 0,
             "ticks": ""
            },
            "colorscale": [
             [
              0,
              "#0d0887"
             ],
             [
              0.1111111111111111,
              "#46039f"
             ],
             [
              0.2222222222222222,
              "#7201a8"
             ],
             [
              0.3333333333333333,
              "#9c179e"
             ],
             [
              0.4444444444444444,
              "#bd3786"
             ],
             [
              0.5555555555555556,
              "#d8576b"
             ],
             [
              0.6666666666666666,
              "#ed7953"
             ],
             [
              0.7777777777777778,
              "#fb9f3a"
             ],
             [
              0.8888888888888888,
              "#fdca26"
             ],
             [
              1,
              "#f0f921"
             ]
            ],
            "type": "heatmapgl"
           }
          ],
          "histogram": [
           {
            "marker": {
             "pattern": {
              "fillmode": "overlay",
              "size": 10,
              "solidity": 0.2
             }
            },
            "type": "histogram"
           }
          ],
          "histogram2d": [
           {
            "colorbar": {
             "outlinewidth": 0,
             "ticks": ""
            },
            "colorscale": [
             [
              0,
              "#0d0887"
             ],
             [
              0.1111111111111111,
              "#46039f"
             ],
             [
              0.2222222222222222,
              "#7201a8"
             ],
             [
              0.3333333333333333,
              "#9c179e"
             ],
             [
              0.4444444444444444,
              "#bd3786"
             ],
             [
              0.5555555555555556,
              "#d8576b"
             ],
             [
              0.6666666666666666,
              "#ed7953"
             ],
             [
              0.7777777777777778,
              "#fb9f3a"
             ],
             [
              0.8888888888888888,
              "#fdca26"
             ],
             [
              1,
              "#f0f921"
             ]
            ],
            "type": "histogram2d"
           }
          ],
          "histogram2dcontour": [
           {
            "colorbar": {
             "outlinewidth": 0,
             "ticks": ""
            },
            "colorscale": [
             [
              0,
              "#0d0887"
             ],
             [
              0.1111111111111111,
              "#46039f"
             ],
             [
              0.2222222222222222,
              "#7201a8"
             ],
             [
              0.3333333333333333,
              "#9c179e"
             ],
             [
              0.4444444444444444,
              "#bd3786"
             ],
             [
              0.5555555555555556,
              "#d8576b"
             ],
             [
              0.6666666666666666,
              "#ed7953"
             ],
             [
              0.7777777777777778,
              "#fb9f3a"
             ],
             [
              0.8888888888888888,
              "#fdca26"
             ],
             [
              1,
              "#f0f921"
             ]
            ],
            "type": "histogram2dcontour"
           }
          ],
          "mesh3d": [
           {
            "colorbar": {
             "outlinewidth": 0,
             "ticks": ""
            },
            "type": "mesh3d"
           }
          ],
          "parcoords": [
           {
            "line": {
             "colorbar": {
              "outlinewidth": 0,
              "ticks": ""
             }
            },
            "type": "parcoords"
           }
          ],
          "pie": [
           {
            "automargin": true,
            "type": "pie"
           }
          ],
          "scatter": [
           {
            "marker": {
             "colorbar": {
              "outlinewidth": 0,
              "ticks": ""
             }
            },
            "type": "scatter"
           }
          ],
          "scatter3d": [
           {
            "line": {
             "colorbar": {
              "outlinewidth": 0,
              "ticks": ""
             }
            },
            "marker": {
             "colorbar": {
              "outlinewidth": 0,
              "ticks": ""
             }
            },
            "type": "scatter3d"
           }
          ],
          "scattercarpet": [
           {
            "marker": {
             "colorbar": {
              "outlinewidth": 0,
              "ticks": ""
             }
            },
            "type": "scattercarpet"
           }
          ],
          "scattergeo": [
           {
            "marker": {
             "colorbar": {
              "outlinewidth": 0,
              "ticks": ""
             }
            },
            "type": "scattergeo"
           }
          ],
          "scattergl": [
           {
            "marker": {
             "colorbar": {
              "outlinewidth": 0,
              "ticks": ""
             }
            },
            "type": "scattergl"
           }
          ],
          "scattermapbox": [
           {
            "marker": {
             "colorbar": {
              "outlinewidth": 0,
              "ticks": ""
             }
            },
            "type": "scattermapbox"
           }
          ],
          "scatterpolar": [
           {
            "marker": {
             "colorbar": {
              "outlinewidth": 0,
              "ticks": ""
             }
            },
            "type": "scatterpolar"
           }
          ],
          "scatterpolargl": [
           {
            "marker": {
             "colorbar": {
              "outlinewidth": 0,
              "ticks": ""
             }
            },
            "type": "scatterpolargl"
           }
          ],
          "scatterternary": [
           {
            "marker": {
             "colorbar": {
              "outlinewidth": 0,
              "ticks": ""
             }
            },
            "type": "scatterternary"
           }
          ],
          "surface": [
           {
            "colorbar": {
             "outlinewidth": 0,
             "ticks": ""
            },
            "colorscale": [
             [
              0,
              "#0d0887"
             ],
             [
              0.1111111111111111,
              "#46039f"
             ],
             [
              0.2222222222222222,
              "#7201a8"
             ],
             [
              0.3333333333333333,
              "#9c179e"
             ],
             [
              0.4444444444444444,
              "#bd3786"
             ],
             [
              0.5555555555555556,
              "#d8576b"
             ],
             [
              0.6666666666666666,
              "#ed7953"
             ],
             [
              0.7777777777777778,
              "#fb9f3a"
             ],
             [
              0.8888888888888888,
              "#fdca26"
             ],
             [
              1,
              "#f0f921"
             ]
            ],
            "type": "surface"
           }
          ],
          "table": [
           {
            "cells": {
             "fill": {
              "color": "#EBF0F8"
             },
             "line": {
              "color": "white"
             }
            },
            "header": {
             "fill": {
              "color": "#C8D4E3"
             },
             "line": {
              "color": "white"
             }
            },
            "type": "table"
           }
          ]
         },
         "layout": {
          "annotationdefaults": {
           "arrowcolor": "#2a3f5f",
           "arrowhead": 0,
           "arrowwidth": 1
          },
          "autotypenumbers": "strict",
          "coloraxis": {
           "colorbar": {
            "outlinewidth": 0,
            "ticks": ""
           }
          },
          "colorscale": {
           "diverging": [
            [
             0,
             "#8e0152"
            ],
            [
             0.1,
             "#c51b7d"
            ],
            [
             0.2,
             "#de77ae"
            ],
            [
             0.3,
             "#f1b6da"
            ],
            [
             0.4,
             "#fde0ef"
            ],
            [
             0.5,
             "#f7f7f7"
            ],
            [
             0.6,
             "#e6f5d0"
            ],
            [
             0.7,
             "#b8e186"
            ],
            [
             0.8,
             "#7fbc41"
            ],
            [
             0.9,
             "#4d9221"
            ],
            [
             1,
             "#276419"
            ]
           ],
           "sequential": [
            [
             0,
             "#0d0887"
            ],
            [
             0.1111111111111111,
             "#46039f"
            ],
            [
             0.2222222222222222,
             "#7201a8"
            ],
            [
             0.3333333333333333,
             "#9c179e"
            ],
            [
             0.4444444444444444,
             "#bd3786"
            ],
            [
             0.5555555555555556,
             "#d8576b"
            ],
            [
             0.6666666666666666,
             "#ed7953"
            ],
            [
             0.7777777777777778,
             "#fb9f3a"
            ],
            [
             0.8888888888888888,
             "#fdca26"
            ],
            [
             1,
             "#f0f921"
            ]
           ],
           "sequentialminus": [
            [
             0,
             "#0d0887"
            ],
            [
             0.1111111111111111,
             "#46039f"
            ],
            [
             0.2222222222222222,
             "#7201a8"
            ],
            [
             0.3333333333333333,
             "#9c179e"
            ],
            [
             0.4444444444444444,
             "#bd3786"
            ],
            [
             0.5555555555555556,
             "#d8576b"
            ],
            [
             0.6666666666666666,
             "#ed7953"
            ],
            [
             0.7777777777777778,
             "#fb9f3a"
            ],
            [
             0.8888888888888888,
             "#fdca26"
            ],
            [
             1,
             "#f0f921"
            ]
           ]
          },
          "colorway": [
           "#636efa",
           "#EF553B",
           "#00cc96",
           "#ab63fa",
           "#FFA15A",
           "#19d3f3",
           "#FF6692",
           "#B6E880",
           "#FF97FF",
           "#FECB52"
          ],
          "font": {
           "color": "#2a3f5f"
          },
          "geo": {
           "bgcolor": "white",
           "lakecolor": "white",
           "landcolor": "#E5ECF6",
           "showlakes": true,
           "showland": true,
           "subunitcolor": "white"
          },
          "hoverlabel": {
           "align": "left"
          },
          "hovermode": "closest",
          "mapbox": {
           "style": "light"
          },
          "paper_bgcolor": "white",
          "plot_bgcolor": "#E5ECF6",
          "polar": {
           "angularaxis": {
            "gridcolor": "white",
            "linecolor": "white",
            "ticks": ""
           },
           "bgcolor": "#E5ECF6",
           "radialaxis": {
            "gridcolor": "white",
            "linecolor": "white",
            "ticks": ""
           }
          },
          "scene": {
           "xaxis": {
            "backgroundcolor": "#E5ECF6",
            "gridcolor": "white",
            "gridwidth": 2,
            "linecolor": "white",
            "showbackground": true,
            "ticks": "",
            "zerolinecolor": "white"
           },
           "yaxis": {
            "backgroundcolor": "#E5ECF6",
            "gridcolor": "white",
            "gridwidth": 2,
            "linecolor": "white",
            "showbackground": true,
            "ticks": "",
            "zerolinecolor": "white"
           },
           "zaxis": {
            "backgroundcolor": "#E5ECF6",
            "gridcolor": "white",
            "gridwidth": 2,
            "linecolor": "white",
            "showbackground": true,
            "ticks": "",
            "zerolinecolor": "white"
           }
          },
          "shapedefaults": {
           "line": {
            "color": "#2a3f5f"
           }
          },
          "ternary": {
           "aaxis": {
            "gridcolor": "white",
            "linecolor": "white",
            "ticks": ""
           },
           "baxis": {
            "gridcolor": "white",
            "linecolor": "white",
            "ticks": ""
           },
           "bgcolor": "#E5ECF6",
           "caxis": {
            "gridcolor": "white",
            "linecolor": "white",
            "ticks": ""
           }
          },
          "title": {
           "x": 0.05
          },
          "xaxis": {
           "automargin": true,
           "gridcolor": "white",
           "linecolor": "white",
           "ticks": "",
           "title": {
            "standoff": 15
           },
           "zerolinecolor": "white",
           "zerolinewidth": 2
          },
          "yaxis": {
           "automargin": true,
           "gridcolor": "white",
           "linecolor": "white",
           "ticks": "",
           "title": {
            "standoff": 15
           },
           "zerolinecolor": "white",
           "zerolinewidth": 2
          }
         }
        },
        "title": {
         "text": "Content added over the years"
        }
       }
      },
      "text/html": [
       "<div>                            <div id=\"293b5843-226e-470f-9f40-d465904e07b9\" class=\"plotly-graph-div\" style=\"height:525px; width:100%;\"></div>            <script type=\"text/javascript\">                require([\"plotly\"], function(Plotly) {                    window.PLOTLYENV=window.PLOTLYENV || {};                                    if (document.getElementById(\"293b5843-226e-470f-9f40-d465904e07b9\")) {                    Plotly.newPlot(                        \"293b5843-226e-470f-9f40-d465904e07b9\",                        [{\"marker\":{\"color\":\"#221f1f\"},\"name\":\"TV Shows\",\"orientation\":\"h\",\"type\":\"bar\",\"x\":[52,57,57,59,90,103,196,218,312,321,329,491,531,532,673,721,786,1471,2105,2437],\"y\":[\"Movies\",\"Anime Features\",\"Faith & Spirituality\",\"Cult Movies\",\"LGBTQ Movies\",\"Classic Movies\",\"Sports Movies\",\"Sci-Fi & Fantasy\",\"Horror Movies\",\"Music & Musicals\",\"Stand-Up Comedy\",\"Thrillers\",\"Romantic Movies\",\"Children & Family Movies\",\"Independent Movies\",\"Action & Adventure\",\"Documentaries\",\"Comedies\",\"Dramas\",\"International Movies\"]}],                        {\"legend\":{\"orientation\":\"h\",\"x\":0.1,\"y\":1.1},\"template\":{\"data\":{\"bar\":[{\"error_x\":{\"color\":\"#2a3f5f\"},\"error_y\":{\"color\":\"#2a3f5f\"},\"marker\":{\"line\":{\"color\":\"#E5ECF6\",\"width\":0.5},\"pattern\":{\"fillmode\":\"overlay\",\"size\":10,\"solidity\":0.2}},\"type\":\"bar\"}],\"barpolar\":[{\"marker\":{\"line\":{\"color\":\"#E5ECF6\",\"width\":0.5},\"pattern\":{\"fillmode\":\"overlay\",\"size\":10,\"solidity\":0.2}},\"type\":\"barpolar\"}],\"carpet\":[{\"aaxis\":{\"endlinecolor\":\"#2a3f5f\",\"gridcolor\":\"white\",\"linecolor\":\"white\",\"minorgridcolor\":\"white\",\"startlinecolor\":\"#2a3f5f\"},\"baxis\":{\"endlinecolor\":\"#2a3f5f\",\"gridcolor\":\"white\",\"linecolor\":\"white\",\"minorgridcolor\":\"white\",\"startlinecolor\":\"#2a3f5f\"},\"type\":\"carpet\"}],\"choropleth\":[{\"colorbar\":{\"outlinewidth\":0,\"ticks\":\"\"},\"type\":\"choropleth\"}],\"contour\":[{\"colorbar\":{\"outlinewidth\":0,\"ticks\":\"\"},\"colorscale\":[[0.0,\"#0d0887\"],[0.1111111111111111,\"#46039f\"],[0.2222222222222222,\"#7201a8\"],[0.3333333333333333,\"#9c179e\"],[0.4444444444444444,\"#bd3786\"],[0.5555555555555556,\"#d8576b\"],[0.6666666666666666,\"#ed7953\"],[0.7777777777777778,\"#fb9f3a\"],[0.8888888888888888,\"#fdca26\"],[1.0,\"#f0f921\"]],\"type\":\"contour\"}],\"contourcarpet\":[{\"colorbar\":{\"outlinewidth\":0,\"ticks\":\"\"},\"type\":\"contourcarpet\"}],\"heatmap\":[{\"colorbar\":{\"outlinewidth\":0,\"ticks\":\"\"},\"colorscale\":[[0.0,\"#0d0887\"],[0.1111111111111111,\"#46039f\"],[0.2222222222222222,\"#7201a8\"],[0.3333333333333333,\"#9c179e\"],[0.4444444444444444,\"#bd3786\"],[0.5555555555555556,\"#d8576b\"],[0.6666666666666666,\"#ed7953\"],[0.7777777777777778,\"#fb9f3a\"],[0.8888888888888888,\"#fdca26\"],[1.0,\"#f0f921\"]],\"type\":\"heatmap\"}],\"heatmapgl\":[{\"colorbar\":{\"outlinewidth\":0,\"ticks\":\"\"},\"colorscale\":[[0.0,\"#0d0887\"],[0.1111111111111111,\"#46039f\"],[0.2222222222222222,\"#7201a8\"],[0.3333333333333333,\"#9c179e\"],[0.4444444444444444,\"#bd3786\"],[0.5555555555555556,\"#d8576b\"],[0.6666666666666666,\"#ed7953\"],[0.7777777777777778,\"#fb9f3a\"],[0.8888888888888888,\"#fdca26\"],[1.0,\"#f0f921\"]],\"type\":\"heatmapgl\"}],\"histogram\":[{\"marker\":{\"pattern\":{\"fillmode\":\"overlay\",\"size\":10,\"solidity\":0.2}},\"type\":\"histogram\"}],\"histogram2d\":[{\"colorbar\":{\"outlinewidth\":0,\"ticks\":\"\"},\"colorscale\":[[0.0,\"#0d0887\"],[0.1111111111111111,\"#46039f\"],[0.2222222222222222,\"#7201a8\"],[0.3333333333333333,\"#9c179e\"],[0.4444444444444444,\"#bd3786\"],[0.5555555555555556,\"#d8576b\"],[0.6666666666666666,\"#ed7953\"],[0.7777777777777778,\"#fb9f3a\"],[0.8888888888888888,\"#fdca26\"],[1.0,\"#f0f921\"]],\"type\":\"histogram2d\"}],\"histogram2dcontour\":[{\"colorbar\":{\"outlinewidth\":0,\"ticks\":\"\"},\"colorscale\":[[0.0,\"#0d0887\"],[0.1111111111111111,\"#46039f\"],[0.2222222222222222,\"#7201a8\"],[0.3333333333333333,\"#9c179e\"],[0.4444444444444444,\"#bd3786\"],[0.5555555555555556,\"#d8576b\"],[0.6666666666666666,\"#ed7953\"],[0.7777777777777778,\"#fb9f3a\"],[0.8888888888888888,\"#fdca26\"],[1.0,\"#f0f921\"]],\"type\":\"histogram2dcontour\"}],\"mesh3d\":[{\"colorbar\":{\"outlinewidth\":0,\"ticks\":\"\"},\"type\":\"mesh3d\"}],\"parcoords\":[{\"line\":{\"colorbar\":{\"outlinewidth\":0,\"ticks\":\"\"}},\"type\":\"parcoords\"}],\"pie\":[{\"automargin\":true,\"type\":\"pie\"}],\"scatter\":[{\"marker\":{\"colorbar\":{\"outlinewidth\":0,\"ticks\":\"\"}},\"type\":\"scatter\"}],\"scatter3d\":[{\"line\":{\"colorbar\":{\"outlinewidth\":0,\"ticks\":\"\"}},\"marker\":{\"colorbar\":{\"outlinewidth\":0,\"ticks\":\"\"}},\"type\":\"scatter3d\"}],\"scattercarpet\":[{\"marker\":{\"colorbar\":{\"outlinewidth\":0,\"ticks\":\"\"}},\"type\":\"scattercarpet\"}],\"scattergeo\":[{\"marker\":{\"colorbar\":{\"outlinewidth\":0,\"ticks\":\"\"}},\"type\":\"scattergeo\"}],\"scattergl\":[{\"marker\":{\"colorbar\":{\"outlinewidth\":0,\"ticks\":\"\"}},\"type\":\"scattergl\"}],\"scattermapbox\":[{\"marker\":{\"colorbar\":{\"outlinewidth\":0,\"ticks\":\"\"}},\"type\":\"scattermapbox\"}],\"scatterpolar\":[{\"marker\":{\"colorbar\":{\"outlinewidth\":0,\"ticks\":\"\"}},\"type\":\"scatterpolar\"}],\"scatterpolargl\":[{\"marker\":{\"colorbar\":{\"outlinewidth\":0,\"ticks\":\"\"}},\"type\":\"scatterpolargl\"}],\"scatterternary\":[{\"marker\":{\"colorbar\":{\"outlinewidth\":0,\"ticks\":\"\"}},\"type\":\"scatterternary\"}],\"surface\":[{\"colorbar\":{\"outlinewidth\":0,\"ticks\":\"\"},\"colorscale\":[[0.0,\"#0d0887\"],[0.1111111111111111,\"#46039f\"],[0.2222222222222222,\"#7201a8\"],[0.3333333333333333,\"#9c179e\"],[0.4444444444444444,\"#bd3786\"],[0.5555555555555556,\"#d8576b\"],[0.6666666666666666,\"#ed7953\"],[0.7777777777777778,\"#fb9f3a\"],[0.8888888888888888,\"#fdca26\"],[1.0,\"#f0f921\"]],\"type\":\"surface\"}],\"table\":[{\"cells\":{\"fill\":{\"color\":\"#EBF0F8\"},\"line\":{\"color\":\"white\"}},\"header\":{\"fill\":{\"color\":\"#C8D4E3\"},\"line\":{\"color\":\"white\"}},\"type\":\"table\"}]},\"layout\":{\"annotationdefaults\":{\"arrowcolor\":\"#2a3f5f\",\"arrowhead\":0,\"arrowwidth\":1},\"autotypenumbers\":\"strict\",\"coloraxis\":{\"colorbar\":{\"outlinewidth\":0,\"ticks\":\"\"}},\"colorscale\":{\"diverging\":[[0,\"#8e0152\"],[0.1,\"#c51b7d\"],[0.2,\"#de77ae\"],[0.3,\"#f1b6da\"],[0.4,\"#fde0ef\"],[0.5,\"#f7f7f7\"],[0.6,\"#e6f5d0\"],[0.7,\"#b8e186\"],[0.8,\"#7fbc41\"],[0.9,\"#4d9221\"],[1,\"#276419\"]],\"sequential\":[[0.0,\"#0d0887\"],[0.1111111111111111,\"#46039f\"],[0.2222222222222222,\"#7201a8\"],[0.3333333333333333,\"#9c179e\"],[0.4444444444444444,\"#bd3786\"],[0.5555555555555556,\"#d8576b\"],[0.6666666666666666,\"#ed7953\"],[0.7777777777777778,\"#fb9f3a\"],[0.8888888888888888,\"#fdca26\"],[1.0,\"#f0f921\"]],\"sequentialminus\":[[0.0,\"#0d0887\"],[0.1111111111111111,\"#46039f\"],[0.2222222222222222,\"#7201a8\"],[0.3333333333333333,\"#9c179e\"],[0.4444444444444444,\"#bd3786\"],[0.5555555555555556,\"#d8576b\"],[0.6666666666666666,\"#ed7953\"],[0.7777777777777778,\"#fb9f3a\"],[0.8888888888888888,\"#fdca26\"],[1.0,\"#f0f921\"]]},\"colorway\":[\"#636efa\",\"#EF553B\",\"#00cc96\",\"#ab63fa\",\"#FFA15A\",\"#19d3f3\",\"#FF6692\",\"#B6E880\",\"#FF97FF\",\"#FECB52\"],\"font\":{\"color\":\"#2a3f5f\"},\"geo\":{\"bgcolor\":\"white\",\"lakecolor\":\"white\",\"landcolor\":\"#E5ECF6\",\"showlakes\":true,\"showland\":true,\"subunitcolor\":\"white\"},\"hoverlabel\":{\"align\":\"left\"},\"hovermode\":\"closest\",\"mapbox\":{\"style\":\"light\"},\"paper_bgcolor\":\"white\",\"plot_bgcolor\":\"#E5ECF6\",\"polar\":{\"angularaxis\":{\"gridcolor\":\"white\",\"linecolor\":\"white\",\"ticks\":\"\"},\"bgcolor\":\"#E5ECF6\",\"radialaxis\":{\"gridcolor\":\"white\",\"linecolor\":\"white\",\"ticks\":\"\"}},\"scene\":{\"xaxis\":{\"backgroundcolor\":\"#E5ECF6\",\"gridcolor\":\"white\",\"gridwidth\":2,\"linecolor\":\"white\",\"showbackground\":true,\"ticks\":\"\",\"zerolinecolor\":\"white\"},\"yaxis\":{\"backgroundcolor\":\"#E5ECF6\",\"gridcolor\":\"white\",\"gridwidth\":2,\"linecolor\":\"white\",\"showbackground\":true,\"ticks\":\"\",\"zerolinecolor\":\"white\"},\"zaxis\":{\"backgroundcolor\":\"#E5ECF6\",\"gridcolor\":\"white\",\"gridwidth\":2,\"linecolor\":\"white\",\"showbackground\":true,\"ticks\":\"\",\"zerolinecolor\":\"white\"}},\"shapedefaults\":{\"line\":{\"color\":\"#2a3f5f\"}},\"ternary\":{\"aaxis\":{\"gridcolor\":\"white\",\"linecolor\":\"white\",\"ticks\":\"\"},\"baxis\":{\"gridcolor\":\"white\",\"linecolor\":\"white\",\"ticks\":\"\"},\"bgcolor\":\"#E5ECF6\",\"caxis\":{\"gridcolor\":\"white\",\"linecolor\":\"white\",\"ticks\":\"\"}},\"title\":{\"x\":0.05},\"xaxis\":{\"automargin\":true,\"gridcolor\":\"white\",\"linecolor\":\"white\",\"ticks\":\"\",\"title\":{\"standoff\":15},\"zerolinecolor\":\"white\",\"zerolinewidth\":2},\"yaxis\":{\"automargin\":true,\"gridcolor\":\"white\",\"linecolor\":\"white\",\"ticks\":\"\",\"title\":{\"standoff\":15},\"zerolinecolor\":\"white\",\"zerolinewidth\":2}}},\"title\":{\"text\":\"Content added over the years\"}},                        {\"responsive\": true}                    ).then(function(){\n",
       "                            \n",
       "var gd = document.getElementById('293b5843-226e-470f-9f40-d465904e07b9');\n",
       "var x = new MutationObserver(function (mutations, observer) {{\n",
       "        var display = window.getComputedStyle(gd).display;\n",
       "        if (!display || display === 'none') {{\n",
       "            console.log([gd, 'removed!']);\n",
       "            Plotly.purge(gd);\n",
       "            observer.disconnect();\n",
       "        }}\n",
       "}});\n",
       "\n",
       "// Listen for the removal of the full notebook cells\n",
       "var notebookContainer = gd.closest('#notebook-container');\n",
       "if (notebookContainer) {{\n",
       "    x.observe(notebookContainer, {childList: true});\n",
       "}}\n",
       "\n",
       "// Listen for the clearing of the current output cell\n",
       "var outputEl = gd.closest('.output');\n",
       "if (outputEl) {{\n",
       "    x.observe(outputEl, {childList: true});\n",
       "}}\n",
       "\n",
       "                        })                };                });            </script>        </div>"
      ]
     },
     "metadata": {}
    }
   ],
   "metadata": {}
  },
  {
   "cell_type": "code",
   "execution_count": 30,
   "source": [
    "def country_trace(country, flag = \"movie\"):\r\n",
    "    df1[\"from_us\"] = df1['country'].fillna(\"\").apply(lambda x : 1 if country.lower() in x.lower() else 0)\r\n",
    "    small = df1[df1[\"from_us\"] == 1]\r\n",
    "    if flag == \"movie\":\r\n",
    "        small = small[small[\"duration\"] != \"\"]\r\n",
    "    else:\r\n",
    "        small = small[small[\"season_count\"] != \"\"]\r\n",
    "    cast = \", \".join(small['cast'].fillna(\"\")).split(\", \")\r\n",
    "    tags = collections.Counter(cast).most_common(25)\r\n",
    "    tags = [_ for _ in tags if \"\" != _[0]]\r\n",
    "\r\n",
    "    labels, values = [_[0]+\"  \" for _ in tags], [_[1] for _ in tags]\r\n",
    "    trace = go.Bar(y=labels[::-1], x=values[::-1], orientation=\"h\", name=\"\" ,  marker=dict(color= \"#221f1f\"))\r\n",
    "    return trace"
   ],
   "outputs": [],
   "metadata": {}
  },
  {
   "cell_type": "code",
   "execution_count": 31,
   "source": [
    "from plotly.subplots import make_subplots\r\n",
    "traces = []\r\n",
    "titles = [\"United States\", \"\",\"India\",\"\", \"United Kingdom\", \"Canada\",\"\", \"Spain\",\"\", \"Japan\"]\r\n",
    "for title in titles:\r\n",
    "    if title != \"\":\r\n",
    "        traces.append(country_trace(title))\r\n",
    "\r\n",
    "fig = make_subplots(rows=2, cols=5, subplot_titles=titles)\r\n",
    "fig.add_trace(traces[0], 1,1)\r\n",
    "fig.add_trace(traces[1], 1,3)\r\n",
    "fig.add_trace(traces[2], 1,5)\r\n",
    "fig.add_trace(traces[3], 2,1)\r\n",
    "fig.add_trace(traces[4], 2,3)\r\n",
    "fig.add_trace(traces[5], 2,5)\r\n",
    "\r\n",
    "fig.update_layout(height=1200, showlegend=False)\r\n",
    "fig.show()"
   ],
   "outputs": [
    {
     "output_type": "display_data",
     "data": {
      "application/vnd.plotly.v1+json": {
       "config": {
        "plotlyServerURL": "https://plot.ly"
       },
       "data": [
        {
         "marker": {
          "color": "#221f1f"
         },
         "name": "",
         "orientation": "h",
         "type": "bar",
         "x": [
          13,
          13,
          13,
          13,
          13,
          14,
          14,
          14,
          14,
          14,
          15,
          15,
          15,
          15,
          15,
          15,
          15,
          15,
          18,
          18,
          18,
          19,
          19,
          20
         ],
         "xaxis": "x",
         "y": [
          "Andrea Libman  ",
          "Keith David  ",
          "Tabitha St. Germain  ",
          "Ray Liotta  ",
          "Gerard Butler  ",
          "Johnny Depp  ",
          "Danny Trejo  ",
          "Ashleigh Ball  ",
          "Debi Derryberry  ",
          "Alfred Molina  ",
          "Kate Higgins  ",
          "Fred Armisen  ",
          "Antonio Banderas  ",
          "Erin Fitzgerald  ",
          "Molly Shannon  ",
          "Seth Rogen  ",
          "Sean Astin  ",
          "Morgan Freeman  ",
          "Nicolas Cage  ",
          "James Franco  ",
          "Samuel L. Jackson  ",
          "Adam Sandler  ",
          "Fred Tatasciore  ",
          "Tara Strong  "
         ],
         "yaxis": "y"
        },
        {
         "marker": {
          "color": "#221f1f"
         },
         "name": "",
         "orientation": "h",
         "type": "bar",
         "x": [
          15,
          15,
          16,
          16,
          16,
          16,
          17,
          17,
          17,
          17,
          18,
          19,
          19,
          20,
          21,
          25,
          27,
          27,
          27,
          28,
          29,
          29,
          34,
          39
         ],
         "xaxis": "x3",
         "y": [
          "Priyanka Chopra  ",
          "Adil Hussain  ",
          "Manoj Joshi  ",
          "Rajesh Sharma  ",
          "Rajpal Yadav  ",
          "Aamir Khan  ",
          "Asrani  ",
          "Yashpal Sharma  ",
          "Saif Ali Khan  ",
          "Gulshan Grover  ",
          "Anil Kapoor  ",
          "Nawazuddin Siddiqui  ",
          "Kay Kay Menon  ",
          "Salman Khan  ",
          "Ajay Devgn  ",
          "Kareena Kapoor  ",
          "Paresh Rawal  ",
          "Amitabh Bachchan  ",
          "Boman Irani  ",
          "Akshay Kumar  ",
          "Om Puri  ",
          "Naseeruddin Shah  ",
          "Shah Rukh Khan  ",
          "Anupam Kher  "
         ],
         "yaxis": "y3"
        },
        {
         "marker": {
          "color": "#221f1f"
         },
         "name": "",
         "orientation": "h",
         "type": "bar",
         "x": [
          6,
          6,
          6,
          6,
          6,
          6,
          7,
          7,
          7,
          7,
          7,
          7,
          8,
          8,
          8,
          9,
          9,
          11,
          11,
          12,
          12,
          14,
          16,
          16
         ],
         "xaxis": "x5",
         "y": [
          "James Cosmo  ",
          "Alicia Vikander  ",
          "Stephen Fry  ",
          "James Fox  ",
          "Harriet Walter  ",
          "Jack Whitehall  ",
          "Natalie Dormer  ",
          "Johnny Depp  ",
          "Judi Dench  ",
          "Olivia Colman  ",
          "Jason Flemyng  ",
          "Rory Kinnear  ",
          "Eddie Marsan  ",
          "Jim Broadbent  ",
          "Ricky Gervais  ",
          "Samuel West  ",
          "Helena Bonham Carter  ",
          "Terry Gilliam  ",
          "Graham Chapman  ",
          "Terry Jones  ",
          "Eric Idle  ",
          "Michael Palin  ",
          "John Cleese  ",
          "David Attenborough  "
         ],
         "yaxis": "y5"
        },
        {
         "marker": {
          "color": "#221f1f"
         },
         "name": "",
         "orientation": "h",
         "type": "bar",
         "x": [
          6,
          6,
          6,
          6,
          6,
          7,
          7,
          7,
          7,
          8,
          8,
          8,
          8,
          9,
          9,
          10,
          10,
          11,
          11,
          11,
          12,
          14,
          14,
          14
         ],
         "xaxis": "x6",
         "y": [
          "Patrick Roach  ",
          "Derek McGrath  ",
          "Sam Vincent  ",
          "Brian Drummond  ",
          "Shannon Chan-Kent  ",
          "Nicolas Aqui  ",
          "Anna Claire Bartlam  ",
          "Rebecca Shoichet  ",
          "Colm Feore  ",
          "Eric Peterson  ",
          "Jamie Watson  ",
          "Julie Lemieux  ",
          "Cathy Weseluck  ",
          "Cory Doran  ",
          "Tabitha St. Germain  ",
          "Mike Smith  ",
          "Tara Strong  ",
          "John Dunsworth  ",
          "Vincent Tong  ",
          "Michela Luci  ",
          "Andrea Libman  ",
          "John Paul Tremblay  ",
          "Robb Wells  ",
          "Ashleigh Ball  "
         ],
         "yaxis": "y6"
        },
        {
         "marker": {
          "color": "#221f1f"
         },
         "name": "",
         "orientation": "h",
         "type": "bar",
         "x": [
          5,
          5,
          5,
          5,
          5,
          5,
          5,
          6,
          6,
          6,
          6,
          6,
          6,
          6,
          6,
          6,
          6,
          6,
          7,
          7,
          8,
          9,
          9,
          10
         ],
         "xaxis": "x8",
         "y": [
          "María Pedraza  ",
          "Nora Navas  ",
          "Carlos Cuevas  ",
          "Javier Gutiérrez  ",
          "Alexandra Jiménez  ",
          "Dani Rovira  ",
          "Secun de la Rosa  ",
          "Marta Etura  ",
          "Francesc Orella  ",
          "Emilio Gutiérrez Caba  ",
          "Hugo Silva  ",
          "Imanol Arias  ",
          "Ernesto Alterio  ",
          "Blanca Suárez  ",
          "Leonardo Sbaraglia  ",
          "Ángela Molina  ",
          "Álvaro Cervantes  ",
          "Karra Elejalde  ",
          "Belén Cuesta  ",
          "Alain Hernández  ",
          "Pedro Casablanc  ",
          "Carmen Machi  ",
          "Luis Tosar  ",
          "Mario Casas  "
         ],
         "yaxis": "y8"
        },
        {
         "marker": {
          "color": "#221f1f"
         },
         "name": "",
         "orientation": "h",
         "type": "bar",
         "x": [
          10,
          10,
          10,
          10,
          10,
          11,
          11,
          12,
          12,
          12,
          13,
          13,
          13,
          13,
          15,
          15,
          15,
          16,
          16,
          18,
          18,
          18,
          20,
          27,
          28
         ],
         "xaxis": "x10",
         "y": [
          "Nobunaga Shimazaki  ",
          "Yukari Tamura  ",
          "Takehito Koyasu  ",
          "Sayaka Ohara  ",
          "Minako Kotobuki  ",
          "Rikiya Koyama  ",
          "Satoshi Hino  ",
          "Maaya Sakamoto  ",
          "Kazuya Nakai  ",
          "Natsuki Hanae  ",
          "Miyuki Sawashiro  ",
          "Jun Fukuyama  ",
          "Saori Hayami  ",
          "Fumiko Orikasa  ",
          "Yuichi Nakamura  ",
          "Hiroshi Kamiya  ",
          "Yoshimasa Hosoya  ",
          "Tomokazu Sugita  ",
          "Mamoru Miyano  ",
          "Junichi Suwabe  ",
          "Kana Hanazawa  ",
          "Ai Kayano  ",
          "Daisuke Ono  ",
          "Yuki Kaji  ",
          "Takahiro Sakurai  "
         ],
         "yaxis": "y10"
        }
       ],
       "layout": {
        "annotations": [
         {
          "font": {
           "size": 16
          },
          "showarrow": false,
          "text": "United States",
          "x": 0.08399999999999999,
          "xanchor": "center",
          "xref": "paper",
          "y": 1,
          "yanchor": "bottom",
          "yref": "paper"
         },
         {
          "font": {
           "size": 16
          },
          "showarrow": false,
          "text": "India",
          "x": 0.5,
          "xanchor": "center",
          "xref": "paper",
          "y": 1,
          "yanchor": "bottom",
          "yref": "paper"
         },
         {
          "font": {
           "size": 16
          },
          "showarrow": false,
          "text": "United Kingdom",
          "x": 0.9159999999999999,
          "xanchor": "center",
          "xref": "paper",
          "y": 1,
          "yanchor": "bottom",
          "yref": "paper"
         },
         {
          "font": {
           "size": 16
          },
          "showarrow": false,
          "text": "Canada",
          "x": 0.08399999999999999,
          "xanchor": "center",
          "xref": "paper",
          "y": 0.375,
          "yanchor": "bottom",
          "yref": "paper"
         },
         {
          "font": {
           "size": 16
          },
          "showarrow": false,
          "text": "Spain",
          "x": 0.5,
          "xanchor": "center",
          "xref": "paper",
          "y": 0.375,
          "yanchor": "bottom",
          "yref": "paper"
         },
         {
          "font": {
           "size": 16
          },
          "showarrow": false,
          "text": "Japan",
          "x": 0.9159999999999999,
          "xanchor": "center",
          "xref": "paper",
          "y": 0.375,
          "yanchor": "bottom",
          "yref": "paper"
         }
        ],
        "height": 1200,
        "showlegend": false,
        "template": {
         "data": {
          "bar": [
           {
            "error_x": {
             "color": "#2a3f5f"
            },
            "error_y": {
             "color": "#2a3f5f"
            },
            "marker": {
             "line": {
              "color": "#E5ECF6",
              "width": 0.5
             },
             "pattern": {
              "fillmode": "overlay",
              "size": 10,
              "solidity": 0.2
             }
            },
            "type": "bar"
           }
          ],
          "barpolar": [
           {
            "marker": {
             "line": {
              "color": "#E5ECF6",
              "width": 0.5
             },
             "pattern": {
              "fillmode": "overlay",
              "size": 10,
              "solidity": 0.2
             }
            },
            "type": "barpolar"
           }
          ],
          "carpet": [
           {
            "aaxis": {
             "endlinecolor": "#2a3f5f",
             "gridcolor": "white",
             "linecolor": "white",
             "minorgridcolor": "white",
             "startlinecolor": "#2a3f5f"
            },
            "baxis": {
             "endlinecolor": "#2a3f5f",
             "gridcolor": "white",
             "linecolor": "white",
             "minorgridcolor": "white",
             "startlinecolor": "#2a3f5f"
            },
            "type": "carpet"
           }
          ],
          "choropleth": [
           {
            "colorbar": {
             "outlinewidth": 0,
             "ticks": ""
            },
            "type": "choropleth"
           }
          ],
          "contour": [
           {
            "colorbar": {
             "outlinewidth": 0,
             "ticks": ""
            },
            "colorscale": [
             [
              0,
              "#0d0887"
             ],
             [
              0.1111111111111111,
              "#46039f"
             ],
             [
              0.2222222222222222,
              "#7201a8"
             ],
             [
              0.3333333333333333,
              "#9c179e"
             ],
             [
              0.4444444444444444,
              "#bd3786"
             ],
             [
              0.5555555555555556,
              "#d8576b"
             ],
             [
              0.6666666666666666,
              "#ed7953"
             ],
             [
              0.7777777777777778,
              "#fb9f3a"
             ],
             [
              0.8888888888888888,
              "#fdca26"
             ],
             [
              1,
              "#f0f921"
             ]
            ],
            "type": "contour"
           }
          ],
          "contourcarpet": [
           {
            "colorbar": {
             "outlinewidth": 0,
             "ticks": ""
            },
            "type": "contourcarpet"
           }
          ],
          "heatmap": [
           {
            "colorbar": {
             "outlinewidth": 0,
             "ticks": ""
            },
            "colorscale": [
             [
              0,
              "#0d0887"
             ],
             [
              0.1111111111111111,
              "#46039f"
             ],
             [
              0.2222222222222222,
              "#7201a8"
             ],
             [
              0.3333333333333333,
              "#9c179e"
             ],
             [
              0.4444444444444444,
              "#bd3786"
             ],
             [
              0.5555555555555556,
              "#d8576b"
             ],
             [
              0.6666666666666666,
              "#ed7953"
             ],
             [
              0.7777777777777778,
              "#fb9f3a"
             ],
             [
              0.8888888888888888,
              "#fdca26"
             ],
             [
              1,
              "#f0f921"
             ]
            ],
            "type": "heatmap"
           }
          ],
          "heatmapgl": [
           {
            "colorbar": {
             "outlinewidth": 0,
             "ticks": ""
            },
            "colorscale": [
             [
              0,
              "#0d0887"
             ],
             [
              0.1111111111111111,
              "#46039f"
             ],
             [
              0.2222222222222222,
              "#7201a8"
             ],
             [
              0.3333333333333333,
              "#9c179e"
             ],
             [
              0.4444444444444444,
              "#bd3786"
             ],
             [
              0.5555555555555556,
              "#d8576b"
             ],
             [
              0.6666666666666666,
              "#ed7953"
             ],
             [
              0.7777777777777778,
              "#fb9f3a"
             ],
             [
              0.8888888888888888,
              "#fdca26"
             ],
             [
              1,
              "#f0f921"
             ]
            ],
            "type": "heatmapgl"
           }
          ],
          "histogram": [
           {
            "marker": {
             "pattern": {
              "fillmode": "overlay",
              "size": 10,
              "solidity": 0.2
             }
            },
            "type": "histogram"
           }
          ],
          "histogram2d": [
           {
            "colorbar": {
             "outlinewidth": 0,
             "ticks": ""
            },
            "colorscale": [
             [
              0,
              "#0d0887"
             ],
             [
              0.1111111111111111,
              "#46039f"
             ],
             [
              0.2222222222222222,
              "#7201a8"
             ],
             [
              0.3333333333333333,
              "#9c179e"
             ],
             [
              0.4444444444444444,
              "#bd3786"
             ],
             [
              0.5555555555555556,
              "#d8576b"
             ],
             [
              0.6666666666666666,
              "#ed7953"
             ],
             [
              0.7777777777777778,
              "#fb9f3a"
             ],
             [
              0.8888888888888888,
              "#fdca26"
             ],
             [
              1,
              "#f0f921"
             ]
            ],
            "type": "histogram2d"
           }
          ],
          "histogram2dcontour": [
           {
            "colorbar": {
             "outlinewidth": 0,
             "ticks": ""
            },
            "colorscale": [
             [
              0,
              "#0d0887"
             ],
             [
              0.1111111111111111,
              "#46039f"
             ],
             [
              0.2222222222222222,
              "#7201a8"
             ],
             [
              0.3333333333333333,
              "#9c179e"
             ],
             [
              0.4444444444444444,
              "#bd3786"
             ],
             [
              0.5555555555555556,
              "#d8576b"
             ],
             [
              0.6666666666666666,
              "#ed7953"
             ],
             [
              0.7777777777777778,
              "#fb9f3a"
             ],
             [
              0.8888888888888888,
              "#fdca26"
             ],
             [
              1,
              "#f0f921"
             ]
            ],
            "type": "histogram2dcontour"
           }
          ],
          "mesh3d": [
           {
            "colorbar": {
             "outlinewidth": 0,
             "ticks": ""
            },
            "type": "mesh3d"
           }
          ],
          "parcoords": [
           {
            "line": {
             "colorbar": {
              "outlinewidth": 0,
              "ticks": ""
             }
            },
            "type": "parcoords"
           }
          ],
          "pie": [
           {
            "automargin": true,
            "type": "pie"
           }
          ],
          "scatter": [
           {
            "marker": {
             "colorbar": {
              "outlinewidth": 0,
              "ticks": ""
             }
            },
            "type": "scatter"
           }
          ],
          "scatter3d": [
           {
            "line": {
             "colorbar": {
              "outlinewidth": 0,
              "ticks": ""
             }
            },
            "marker": {
             "colorbar": {
              "outlinewidth": 0,
              "ticks": ""
             }
            },
            "type": "scatter3d"
           }
          ],
          "scattercarpet": [
           {
            "marker": {
             "colorbar": {
              "outlinewidth": 0,
              "ticks": ""
             }
            },
            "type": "scattercarpet"
           }
          ],
          "scattergeo": [
           {
            "marker": {
             "colorbar": {
              "outlinewidth": 0,
              "ticks": ""
             }
            },
            "type": "scattergeo"
           }
          ],
          "scattergl": [
           {
            "marker": {
             "colorbar": {
              "outlinewidth": 0,
              "ticks": ""
             }
            },
            "type": "scattergl"
           }
          ],
          "scattermapbox": [
           {
            "marker": {
             "colorbar": {
              "outlinewidth": 0,
              "ticks": ""
             }
            },
            "type": "scattermapbox"
           }
          ],
          "scatterpolar": [
           {
            "marker": {
             "colorbar": {
              "outlinewidth": 0,
              "ticks": ""
             }
            },
            "type": "scatterpolar"
           }
          ],
          "scatterpolargl": [
           {
            "marker": {
             "colorbar": {
              "outlinewidth": 0,
              "ticks": ""
             }
            },
            "type": "scatterpolargl"
           }
          ],
          "scatterternary": [
           {
            "marker": {
             "colorbar": {
              "outlinewidth": 0,
              "ticks": ""
             }
            },
            "type": "scatterternary"
           }
          ],
          "surface": [
           {
            "colorbar": {
             "outlinewidth": 0,
             "ticks": ""
            },
            "colorscale": [
             [
              0,
              "#0d0887"
             ],
             [
              0.1111111111111111,
              "#46039f"
             ],
             [
              0.2222222222222222,
              "#7201a8"
             ],
             [
              0.3333333333333333,
              "#9c179e"
             ],
             [
              0.4444444444444444,
              "#bd3786"
             ],
             [
              0.5555555555555556,
              "#d8576b"
             ],
             [
              0.6666666666666666,
              "#ed7953"
             ],
             [
              0.7777777777777778,
              "#fb9f3a"
             ],
             [
              0.8888888888888888,
              "#fdca26"
             ],
             [
              1,
              "#f0f921"
             ]
            ],
            "type": "surface"
           }
          ],
          "table": [
           {
            "cells": {
             "fill": {
              "color": "#EBF0F8"
             },
             "line": {
              "color": "white"
             }
            },
            "header": {
             "fill": {
              "color": "#C8D4E3"
             },
             "line": {
              "color": "white"
             }
            },
            "type": "table"
           }
          ]
         },
         "layout": {
          "annotationdefaults": {
           "arrowcolor": "#2a3f5f",
           "arrowhead": 0,
           "arrowwidth": 1
          },
          "autotypenumbers": "strict",
          "coloraxis": {
           "colorbar": {
            "outlinewidth": 0,
            "ticks": ""
           }
          },
          "colorscale": {
           "diverging": [
            [
             0,
             "#8e0152"
            ],
            [
             0.1,
             "#c51b7d"
            ],
            [
             0.2,
             "#de77ae"
            ],
            [
             0.3,
             "#f1b6da"
            ],
            [
             0.4,
             "#fde0ef"
            ],
            [
             0.5,
             "#f7f7f7"
            ],
            [
             0.6,
             "#e6f5d0"
            ],
            [
             0.7,
             "#b8e186"
            ],
            [
             0.8,
             "#7fbc41"
            ],
            [
             0.9,
             "#4d9221"
            ],
            [
             1,
             "#276419"
            ]
           ],
           "sequential": [
            [
             0,
             "#0d0887"
            ],
            [
             0.1111111111111111,
             "#46039f"
            ],
            [
             0.2222222222222222,
             "#7201a8"
            ],
            [
             0.3333333333333333,
             "#9c179e"
            ],
            [
             0.4444444444444444,
             "#bd3786"
            ],
            [
             0.5555555555555556,
             "#d8576b"
            ],
            [
             0.6666666666666666,
             "#ed7953"
            ],
            [
             0.7777777777777778,
             "#fb9f3a"
            ],
            [
             0.8888888888888888,
             "#fdca26"
            ],
            [
             1,
             "#f0f921"
            ]
           ],
           "sequentialminus": [
            [
             0,
             "#0d0887"
            ],
            [
             0.1111111111111111,
             "#46039f"
            ],
            [
             0.2222222222222222,
             "#7201a8"
            ],
            [
             0.3333333333333333,
             "#9c179e"
            ],
            [
             0.4444444444444444,
             "#bd3786"
            ],
            [
             0.5555555555555556,
             "#d8576b"
            ],
            [
             0.6666666666666666,
             "#ed7953"
            ],
            [
             0.7777777777777778,
             "#fb9f3a"
            ],
            [
             0.8888888888888888,
             "#fdca26"
            ],
            [
             1,
             "#f0f921"
            ]
           ]
          },
          "colorway": [
           "#636efa",
           "#EF553B",
           "#00cc96",
           "#ab63fa",
           "#FFA15A",
           "#19d3f3",
           "#FF6692",
           "#B6E880",
           "#FF97FF",
           "#FECB52"
          ],
          "font": {
           "color": "#2a3f5f"
          },
          "geo": {
           "bgcolor": "white",
           "lakecolor": "white",
           "landcolor": "#E5ECF6",
           "showlakes": true,
           "showland": true,
           "subunitcolor": "white"
          },
          "hoverlabel": {
           "align": "left"
          },
          "hovermode": "closest",
          "mapbox": {
           "style": "light"
          },
          "paper_bgcolor": "white",
          "plot_bgcolor": "#E5ECF6",
          "polar": {
           "angularaxis": {
            "gridcolor": "white",
            "linecolor": "white",
            "ticks": ""
           },
           "bgcolor": "#E5ECF6",
           "radialaxis": {
            "gridcolor": "white",
            "linecolor": "white",
            "ticks": ""
           }
          },
          "scene": {
           "xaxis": {
            "backgroundcolor": "#E5ECF6",
            "gridcolor": "white",
            "gridwidth": 2,
            "linecolor": "white",
            "showbackground": true,
            "ticks": "",
            "zerolinecolor": "white"
           },
           "yaxis": {
            "backgroundcolor": "#E5ECF6",
            "gridcolor": "white",
            "gridwidth": 2,
            "linecolor": "white",
            "showbackground": true,
            "ticks": "",
            "zerolinecolor": "white"
           },
           "zaxis": {
            "backgroundcolor": "#E5ECF6",
            "gridcolor": "white",
            "gridwidth": 2,
            "linecolor": "white",
            "showbackground": true,
            "ticks": "",
            "zerolinecolor": "white"
           }
          },
          "shapedefaults": {
           "line": {
            "color": "#2a3f5f"
           }
          },
          "ternary": {
           "aaxis": {
            "gridcolor": "white",
            "linecolor": "white",
            "ticks": ""
           },
           "baxis": {
            "gridcolor": "white",
            "linecolor": "white",
            "ticks": ""
           },
           "bgcolor": "#E5ECF6",
           "caxis": {
            "gridcolor": "white",
            "linecolor": "white",
            "ticks": ""
           }
          },
          "title": {
           "x": 0.05
          },
          "xaxis": {
           "automargin": true,
           "gridcolor": "white",
           "linecolor": "white",
           "ticks": "",
           "title": {
            "standoff": 15
           },
           "zerolinecolor": "white",
           "zerolinewidth": 2
          },
          "yaxis": {
           "automargin": true,
           "gridcolor": "white",
           "linecolor": "white",
           "ticks": "",
           "title": {
            "standoff": 15
           },
           "zerolinecolor": "white",
           "zerolinewidth": 2
          }
         }
        },
        "xaxis": {
         "anchor": "y",
         "domain": [
          0,
          0.16799999999999998
         ]
        },
        "xaxis10": {
         "anchor": "y10",
         "domain": [
          0.832,
          1
         ]
        },
        "xaxis2": {
         "anchor": "y2",
         "domain": [
          0.208,
          0.376
         ]
        },
        "xaxis3": {
         "anchor": "y3",
         "domain": [
          0.416,
          0.584
         ]
        },
        "xaxis4": {
         "anchor": "y4",
         "domain": [
          0.624,
          0.792
         ]
        },
        "xaxis5": {
         "anchor": "y5",
         "domain": [
          0.832,
          1
         ]
        },
        "xaxis6": {
         "anchor": "y6",
         "domain": [
          0,
          0.16799999999999998
         ]
        },
        "xaxis7": {
         "anchor": "y7",
         "domain": [
          0.208,
          0.376
         ]
        },
        "xaxis8": {
         "anchor": "y8",
         "domain": [
          0.416,
          0.584
         ]
        },
        "xaxis9": {
         "anchor": "y9",
         "domain": [
          0.624,
          0.792
         ]
        },
        "yaxis": {
         "anchor": "x",
         "domain": [
          0.625,
          1
         ]
        },
        "yaxis10": {
         "anchor": "x10",
         "domain": [
          0,
          0.375
         ]
        },
        "yaxis2": {
         "anchor": "x2",
         "domain": [
          0.625,
          1
         ]
        },
        "yaxis3": {
         "anchor": "x3",
         "domain": [
          0.625,
          1
         ]
        },
        "yaxis4": {
         "anchor": "x4",
         "domain": [
          0.625,
          1
         ]
        },
        "yaxis5": {
         "anchor": "x5",
         "domain": [
          0.625,
          1
         ]
        },
        "yaxis6": {
         "anchor": "x6",
         "domain": [
          0,
          0.375
         ]
        },
        "yaxis7": {
         "anchor": "x7",
         "domain": [
          0,
          0.375
         ]
        },
        "yaxis8": {
         "anchor": "x8",
         "domain": [
          0,
          0.375
         ]
        },
        "yaxis9": {
         "anchor": "x9",
         "domain": [
          0,
          0.375
         ]
        }
       }
      },
      "text/html": [
       "<div>                            <div id=\"1e95db4d-8bfa-49a9-93e5-b414105c4bde\" class=\"plotly-graph-div\" style=\"height:1200px; width:100%;\"></div>            <script type=\"text/javascript\">                require([\"plotly\"], function(Plotly) {                    window.PLOTLYENV=window.PLOTLYENV || {};                                    if (document.getElementById(\"1e95db4d-8bfa-49a9-93e5-b414105c4bde\")) {                    Plotly.newPlot(                        \"1e95db4d-8bfa-49a9-93e5-b414105c4bde\",                        [{\"marker\":{\"color\":\"#221f1f\"},\"name\":\"\",\"orientation\":\"h\",\"type\":\"bar\",\"x\":[13,13,13,13,13,14,14,14,14,14,15,15,15,15,15,15,15,15,18,18,18,19,19,20],\"xaxis\":\"x\",\"y\":[\"Andrea Libman  \",\"Keith David  \",\"Tabitha St. Germain  \",\"Ray Liotta  \",\"Gerard Butler  \",\"Johnny Depp  \",\"Danny Trejo  \",\"Ashleigh Ball  \",\"Debi Derryberry  \",\"Alfred Molina  \",\"Kate Higgins  \",\"Fred Armisen  \",\"Antonio Banderas  \",\"Erin Fitzgerald  \",\"Molly Shannon  \",\"Seth Rogen  \",\"Sean Astin  \",\"Morgan Freeman  \",\"Nicolas Cage  \",\"James Franco  \",\"Samuel L. Jackson  \",\"Adam Sandler  \",\"Fred Tatasciore  \",\"Tara Strong  \"],\"yaxis\":\"y\"},{\"marker\":{\"color\":\"#221f1f\"},\"name\":\"\",\"orientation\":\"h\",\"type\":\"bar\",\"x\":[15,15,16,16,16,16,17,17,17,17,18,19,19,20,21,25,27,27,27,28,29,29,34,39],\"xaxis\":\"x3\",\"y\":[\"Priyanka Chopra  \",\"Adil Hussain  \",\"Manoj Joshi  \",\"Rajesh Sharma  \",\"Rajpal Yadav  \",\"Aamir Khan  \",\"Asrani  \",\"Yashpal Sharma  \",\"Saif Ali Khan  \",\"Gulshan Grover  \",\"Anil Kapoor  \",\"Nawazuddin Siddiqui  \",\"Kay Kay Menon  \",\"Salman Khan  \",\"Ajay Devgn  \",\"Kareena Kapoor  \",\"Paresh Rawal  \",\"Amitabh Bachchan  \",\"Boman Irani  \",\"Akshay Kumar  \",\"Om Puri  \",\"Naseeruddin Shah  \",\"Shah Rukh Khan  \",\"Anupam Kher  \"],\"yaxis\":\"y3\"},{\"marker\":{\"color\":\"#221f1f\"},\"name\":\"\",\"orientation\":\"h\",\"type\":\"bar\",\"x\":[6,6,6,6,6,6,7,7,7,7,7,7,8,8,8,9,9,11,11,12,12,14,16,16],\"xaxis\":\"x5\",\"y\":[\"James Cosmo  \",\"Alicia Vikander  \",\"Stephen Fry  \",\"James Fox  \",\"Harriet Walter  \",\"Jack Whitehall  \",\"Natalie Dormer  \",\"Johnny Depp  \",\"Judi Dench  \",\"Olivia Colman  \",\"Jason Flemyng  \",\"Rory Kinnear  \",\"Eddie Marsan  \",\"Jim Broadbent  \",\"Ricky Gervais  \",\"Samuel West  \",\"Helena Bonham Carter  \",\"Terry Gilliam  \",\"Graham Chapman  \",\"Terry Jones  \",\"Eric Idle  \",\"Michael Palin  \",\"John Cleese  \",\"David Attenborough  \"],\"yaxis\":\"y5\"},{\"marker\":{\"color\":\"#221f1f\"},\"name\":\"\",\"orientation\":\"h\",\"type\":\"bar\",\"x\":[6,6,6,6,6,7,7,7,7,8,8,8,8,9,9,10,10,11,11,11,12,14,14,14],\"xaxis\":\"x6\",\"y\":[\"Patrick Roach  \",\"Derek McGrath  \",\"Sam Vincent  \",\"Brian Drummond  \",\"Shannon Chan-Kent  \",\"Nicolas Aqui  \",\"Anna Claire Bartlam  \",\"Rebecca Shoichet  \",\"Colm Feore  \",\"Eric Peterson  \",\"Jamie Watson  \",\"Julie Lemieux  \",\"Cathy Weseluck  \",\"Cory Doran  \",\"Tabitha St. Germain  \",\"Mike Smith  \",\"Tara Strong  \",\"John Dunsworth  \",\"Vincent Tong  \",\"Michela Luci  \",\"Andrea Libman  \",\"John Paul Tremblay  \",\"Robb Wells  \",\"Ashleigh Ball  \"],\"yaxis\":\"y6\"},{\"marker\":{\"color\":\"#221f1f\"},\"name\":\"\",\"orientation\":\"h\",\"type\":\"bar\",\"x\":[5,5,5,5,5,5,5,6,6,6,6,6,6,6,6,6,6,6,7,7,8,9,9,10],\"xaxis\":\"x8\",\"y\":[\"Mar\\u00eda Pedraza  \",\"Nora Navas  \",\"Carlos Cuevas  \",\"Javier Guti\\u00e9rrez  \",\"Alexandra Jim\\u00e9nez  \",\"Dani Rovira  \",\"Secun de la Rosa  \",\"Marta Etura  \",\"Francesc Orella  \",\"Emilio Guti\\u00e9rrez Caba  \",\"Hugo Silva  \",\"Imanol Arias  \",\"Ernesto Alterio  \",\"Blanca Su\\u00e1rez  \",\"Leonardo Sbaraglia  \",\"\\u00c1ngela Molina  \",\"\\u00c1lvaro Cervantes  \",\"Karra Elejalde  \",\"Bel\\u00e9n Cuesta  \",\"Alain Hern\\u00e1ndez  \",\"Pedro Casablanc  \",\"Carmen Machi  \",\"Luis Tosar  \",\"Mario Casas  \"],\"yaxis\":\"y8\"},{\"marker\":{\"color\":\"#221f1f\"},\"name\":\"\",\"orientation\":\"h\",\"type\":\"bar\",\"x\":[10,10,10,10,10,11,11,12,12,12,13,13,13,13,15,15,15,16,16,18,18,18,20,27,28],\"xaxis\":\"x10\",\"y\":[\"Nobunaga Shimazaki  \",\"Yukari Tamura  \",\"Takehito Koyasu  \",\"Sayaka Ohara  \",\"Minako Kotobuki  \",\"Rikiya Koyama  \",\"Satoshi Hino  \",\"Maaya Sakamoto  \",\"Kazuya Nakai  \",\"Natsuki Hanae  \",\"Miyuki Sawashiro  \",\"Jun Fukuyama  \",\"Saori Hayami  \",\"Fumiko Orikasa  \",\"Yuichi Nakamura  \",\"Hiroshi Kamiya  \",\"Yoshimasa Hosoya  \",\"Tomokazu Sugita  \",\"Mamoru Miyano  \",\"Junichi Suwabe  \",\"Kana Hanazawa  \",\"Ai Kayano  \",\"Daisuke Ono  \",\"Yuki Kaji  \",\"Takahiro Sakurai  \"],\"yaxis\":\"y10\"}],                        {\"annotations\":[{\"font\":{\"size\":16},\"showarrow\":false,\"text\":\"United States\",\"x\":0.08399999999999999,\"xanchor\":\"center\",\"xref\":\"paper\",\"y\":1.0,\"yanchor\":\"bottom\",\"yref\":\"paper\"},{\"font\":{\"size\":16},\"showarrow\":false,\"text\":\"India\",\"x\":0.5,\"xanchor\":\"center\",\"xref\":\"paper\",\"y\":1.0,\"yanchor\":\"bottom\",\"yref\":\"paper\"},{\"font\":{\"size\":16},\"showarrow\":false,\"text\":\"United Kingdom\",\"x\":0.9159999999999999,\"xanchor\":\"center\",\"xref\":\"paper\",\"y\":1.0,\"yanchor\":\"bottom\",\"yref\":\"paper\"},{\"font\":{\"size\":16},\"showarrow\":false,\"text\":\"Canada\",\"x\":0.08399999999999999,\"xanchor\":\"center\",\"xref\":\"paper\",\"y\":0.375,\"yanchor\":\"bottom\",\"yref\":\"paper\"},{\"font\":{\"size\":16},\"showarrow\":false,\"text\":\"Spain\",\"x\":0.5,\"xanchor\":\"center\",\"xref\":\"paper\",\"y\":0.375,\"yanchor\":\"bottom\",\"yref\":\"paper\"},{\"font\":{\"size\":16},\"showarrow\":false,\"text\":\"Japan\",\"x\":0.9159999999999999,\"xanchor\":\"center\",\"xref\":\"paper\",\"y\":0.375,\"yanchor\":\"bottom\",\"yref\":\"paper\"}],\"height\":1200,\"showlegend\":false,\"template\":{\"data\":{\"bar\":[{\"error_x\":{\"color\":\"#2a3f5f\"},\"error_y\":{\"color\":\"#2a3f5f\"},\"marker\":{\"line\":{\"color\":\"#E5ECF6\",\"width\":0.5},\"pattern\":{\"fillmode\":\"overlay\",\"size\":10,\"solidity\":0.2}},\"type\":\"bar\"}],\"barpolar\":[{\"marker\":{\"line\":{\"color\":\"#E5ECF6\",\"width\":0.5},\"pattern\":{\"fillmode\":\"overlay\",\"size\":10,\"solidity\":0.2}},\"type\":\"barpolar\"}],\"carpet\":[{\"aaxis\":{\"endlinecolor\":\"#2a3f5f\",\"gridcolor\":\"white\",\"linecolor\":\"white\",\"minorgridcolor\":\"white\",\"startlinecolor\":\"#2a3f5f\"},\"baxis\":{\"endlinecolor\":\"#2a3f5f\",\"gridcolor\":\"white\",\"linecolor\":\"white\",\"minorgridcolor\":\"white\",\"startlinecolor\":\"#2a3f5f\"},\"type\":\"carpet\"}],\"choropleth\":[{\"colorbar\":{\"outlinewidth\":0,\"ticks\":\"\"},\"type\":\"choropleth\"}],\"contour\":[{\"colorbar\":{\"outlinewidth\":0,\"ticks\":\"\"},\"colorscale\":[[0.0,\"#0d0887\"],[0.1111111111111111,\"#46039f\"],[0.2222222222222222,\"#7201a8\"],[0.3333333333333333,\"#9c179e\"],[0.4444444444444444,\"#bd3786\"],[0.5555555555555556,\"#d8576b\"],[0.6666666666666666,\"#ed7953\"],[0.7777777777777778,\"#fb9f3a\"],[0.8888888888888888,\"#fdca26\"],[1.0,\"#f0f921\"]],\"type\":\"contour\"}],\"contourcarpet\":[{\"colorbar\":{\"outlinewidth\":0,\"ticks\":\"\"},\"type\":\"contourcarpet\"}],\"heatmap\":[{\"colorbar\":{\"outlinewidth\":0,\"ticks\":\"\"},\"colorscale\":[[0.0,\"#0d0887\"],[0.1111111111111111,\"#46039f\"],[0.2222222222222222,\"#7201a8\"],[0.3333333333333333,\"#9c179e\"],[0.4444444444444444,\"#bd3786\"],[0.5555555555555556,\"#d8576b\"],[0.6666666666666666,\"#ed7953\"],[0.7777777777777778,\"#fb9f3a\"],[0.8888888888888888,\"#fdca26\"],[1.0,\"#f0f921\"]],\"type\":\"heatmap\"}],\"heatmapgl\":[{\"colorbar\":{\"outlinewidth\":0,\"ticks\":\"\"},\"colorscale\":[[0.0,\"#0d0887\"],[0.1111111111111111,\"#46039f\"],[0.2222222222222222,\"#7201a8\"],[0.3333333333333333,\"#9c179e\"],[0.4444444444444444,\"#bd3786\"],[0.5555555555555556,\"#d8576b\"],[0.6666666666666666,\"#ed7953\"],[0.7777777777777778,\"#fb9f3a\"],[0.8888888888888888,\"#fdca26\"],[1.0,\"#f0f921\"]],\"type\":\"heatmapgl\"}],\"histogram\":[{\"marker\":{\"pattern\":{\"fillmode\":\"overlay\",\"size\":10,\"solidity\":0.2}},\"type\":\"histogram\"}],\"histogram2d\":[{\"colorbar\":{\"outlinewidth\":0,\"ticks\":\"\"},\"colorscale\":[[0.0,\"#0d0887\"],[0.1111111111111111,\"#46039f\"],[0.2222222222222222,\"#7201a8\"],[0.3333333333333333,\"#9c179e\"],[0.4444444444444444,\"#bd3786\"],[0.5555555555555556,\"#d8576b\"],[0.6666666666666666,\"#ed7953\"],[0.7777777777777778,\"#fb9f3a\"],[0.8888888888888888,\"#fdca26\"],[1.0,\"#f0f921\"]],\"type\":\"histogram2d\"}],\"histogram2dcontour\":[{\"colorbar\":{\"outlinewidth\":0,\"ticks\":\"\"},\"colorscale\":[[0.0,\"#0d0887\"],[0.1111111111111111,\"#46039f\"],[0.2222222222222222,\"#7201a8\"],[0.3333333333333333,\"#9c179e\"],[0.4444444444444444,\"#bd3786\"],[0.5555555555555556,\"#d8576b\"],[0.6666666666666666,\"#ed7953\"],[0.7777777777777778,\"#fb9f3a\"],[0.8888888888888888,\"#fdca26\"],[1.0,\"#f0f921\"]],\"type\":\"histogram2dcontour\"}],\"mesh3d\":[{\"colorbar\":{\"outlinewidth\":0,\"ticks\":\"\"},\"type\":\"mesh3d\"}],\"parcoords\":[{\"line\":{\"colorbar\":{\"outlinewidth\":0,\"ticks\":\"\"}},\"type\":\"parcoords\"}],\"pie\":[{\"automargin\":true,\"type\":\"pie\"}],\"scatter\":[{\"marker\":{\"colorbar\":{\"outlinewidth\":0,\"ticks\":\"\"}},\"type\":\"scatter\"}],\"scatter3d\":[{\"line\":{\"colorbar\":{\"outlinewidth\":0,\"ticks\":\"\"}},\"marker\":{\"colorbar\":{\"outlinewidth\":0,\"ticks\":\"\"}},\"type\":\"scatter3d\"}],\"scattercarpet\":[{\"marker\":{\"colorbar\":{\"outlinewidth\":0,\"ticks\":\"\"}},\"type\":\"scattercarpet\"}],\"scattergeo\":[{\"marker\":{\"colorbar\":{\"outlinewidth\":0,\"ticks\":\"\"}},\"type\":\"scattergeo\"}],\"scattergl\":[{\"marker\":{\"colorbar\":{\"outlinewidth\":0,\"ticks\":\"\"}},\"type\":\"scattergl\"}],\"scattermapbox\":[{\"marker\":{\"colorbar\":{\"outlinewidth\":0,\"ticks\":\"\"}},\"type\":\"scattermapbox\"}],\"scatterpolar\":[{\"marker\":{\"colorbar\":{\"outlinewidth\":0,\"ticks\":\"\"}},\"type\":\"scatterpolar\"}],\"scatterpolargl\":[{\"marker\":{\"colorbar\":{\"outlinewidth\":0,\"ticks\":\"\"}},\"type\":\"scatterpolargl\"}],\"scatterternary\":[{\"marker\":{\"colorbar\":{\"outlinewidth\":0,\"ticks\":\"\"}},\"type\":\"scatterternary\"}],\"surface\":[{\"colorbar\":{\"outlinewidth\":0,\"ticks\":\"\"},\"colorscale\":[[0.0,\"#0d0887\"],[0.1111111111111111,\"#46039f\"],[0.2222222222222222,\"#7201a8\"],[0.3333333333333333,\"#9c179e\"],[0.4444444444444444,\"#bd3786\"],[0.5555555555555556,\"#d8576b\"],[0.6666666666666666,\"#ed7953\"],[0.7777777777777778,\"#fb9f3a\"],[0.8888888888888888,\"#fdca26\"],[1.0,\"#f0f921\"]],\"type\":\"surface\"}],\"table\":[{\"cells\":{\"fill\":{\"color\":\"#EBF0F8\"},\"line\":{\"color\":\"white\"}},\"header\":{\"fill\":{\"color\":\"#C8D4E3\"},\"line\":{\"color\":\"white\"}},\"type\":\"table\"}]},\"layout\":{\"annotationdefaults\":{\"arrowcolor\":\"#2a3f5f\",\"arrowhead\":0,\"arrowwidth\":1},\"autotypenumbers\":\"strict\",\"coloraxis\":{\"colorbar\":{\"outlinewidth\":0,\"ticks\":\"\"}},\"colorscale\":{\"diverging\":[[0,\"#8e0152\"],[0.1,\"#c51b7d\"],[0.2,\"#de77ae\"],[0.3,\"#f1b6da\"],[0.4,\"#fde0ef\"],[0.5,\"#f7f7f7\"],[0.6,\"#e6f5d0\"],[0.7,\"#b8e186\"],[0.8,\"#7fbc41\"],[0.9,\"#4d9221\"],[1,\"#276419\"]],\"sequential\":[[0.0,\"#0d0887\"],[0.1111111111111111,\"#46039f\"],[0.2222222222222222,\"#7201a8\"],[0.3333333333333333,\"#9c179e\"],[0.4444444444444444,\"#bd3786\"],[0.5555555555555556,\"#d8576b\"],[0.6666666666666666,\"#ed7953\"],[0.7777777777777778,\"#fb9f3a\"],[0.8888888888888888,\"#fdca26\"],[1.0,\"#f0f921\"]],\"sequentialminus\":[[0.0,\"#0d0887\"],[0.1111111111111111,\"#46039f\"],[0.2222222222222222,\"#7201a8\"],[0.3333333333333333,\"#9c179e\"],[0.4444444444444444,\"#bd3786\"],[0.5555555555555556,\"#d8576b\"],[0.6666666666666666,\"#ed7953\"],[0.7777777777777778,\"#fb9f3a\"],[0.8888888888888888,\"#fdca26\"],[1.0,\"#f0f921\"]]},\"colorway\":[\"#636efa\",\"#EF553B\",\"#00cc96\",\"#ab63fa\",\"#FFA15A\",\"#19d3f3\",\"#FF6692\",\"#B6E880\",\"#FF97FF\",\"#FECB52\"],\"font\":{\"color\":\"#2a3f5f\"},\"geo\":{\"bgcolor\":\"white\",\"lakecolor\":\"white\",\"landcolor\":\"#E5ECF6\",\"showlakes\":true,\"showland\":true,\"subunitcolor\":\"white\"},\"hoverlabel\":{\"align\":\"left\"},\"hovermode\":\"closest\",\"mapbox\":{\"style\":\"light\"},\"paper_bgcolor\":\"white\",\"plot_bgcolor\":\"#E5ECF6\",\"polar\":{\"angularaxis\":{\"gridcolor\":\"white\",\"linecolor\":\"white\",\"ticks\":\"\"},\"bgcolor\":\"#E5ECF6\",\"radialaxis\":{\"gridcolor\":\"white\",\"linecolor\":\"white\",\"ticks\":\"\"}},\"scene\":{\"xaxis\":{\"backgroundcolor\":\"#E5ECF6\",\"gridcolor\":\"white\",\"gridwidth\":2,\"linecolor\":\"white\",\"showbackground\":true,\"ticks\":\"\",\"zerolinecolor\":\"white\"},\"yaxis\":{\"backgroundcolor\":\"#E5ECF6\",\"gridcolor\":\"white\",\"gridwidth\":2,\"linecolor\":\"white\",\"showbackground\":true,\"ticks\":\"\",\"zerolinecolor\":\"white\"},\"zaxis\":{\"backgroundcolor\":\"#E5ECF6\",\"gridcolor\":\"white\",\"gridwidth\":2,\"linecolor\":\"white\",\"showbackground\":true,\"ticks\":\"\",\"zerolinecolor\":\"white\"}},\"shapedefaults\":{\"line\":{\"color\":\"#2a3f5f\"}},\"ternary\":{\"aaxis\":{\"gridcolor\":\"white\",\"linecolor\":\"white\",\"ticks\":\"\"},\"baxis\":{\"gridcolor\":\"white\",\"linecolor\":\"white\",\"ticks\":\"\"},\"bgcolor\":\"#E5ECF6\",\"caxis\":{\"gridcolor\":\"white\",\"linecolor\":\"white\",\"ticks\":\"\"}},\"title\":{\"x\":0.05},\"xaxis\":{\"automargin\":true,\"gridcolor\":\"white\",\"linecolor\":\"white\",\"ticks\":\"\",\"title\":{\"standoff\":15},\"zerolinecolor\":\"white\",\"zerolinewidth\":2},\"yaxis\":{\"automargin\":true,\"gridcolor\":\"white\",\"linecolor\":\"white\",\"ticks\":\"\",\"title\":{\"standoff\":15},\"zerolinecolor\":\"white\",\"zerolinewidth\":2}}},\"xaxis\":{\"anchor\":\"y\",\"domain\":[0.0,0.16799999999999998]},\"xaxis10\":{\"anchor\":\"y10\",\"domain\":[0.832,1.0]},\"xaxis2\":{\"anchor\":\"y2\",\"domain\":[0.208,0.376]},\"xaxis3\":{\"anchor\":\"y3\",\"domain\":[0.416,0.584]},\"xaxis4\":{\"anchor\":\"y4\",\"domain\":[0.624,0.792]},\"xaxis5\":{\"anchor\":\"y5\",\"domain\":[0.832,1.0]},\"xaxis6\":{\"anchor\":\"y6\",\"domain\":[0.0,0.16799999999999998]},\"xaxis7\":{\"anchor\":\"y7\",\"domain\":[0.208,0.376]},\"xaxis8\":{\"anchor\":\"y8\",\"domain\":[0.416,0.584]},\"xaxis9\":{\"anchor\":\"y9\",\"domain\":[0.624,0.792]},\"yaxis\":{\"anchor\":\"x\",\"domain\":[0.625,1.0]},\"yaxis10\":{\"anchor\":\"x10\",\"domain\":[0.0,0.375]},\"yaxis2\":{\"anchor\":\"x2\",\"domain\":[0.625,1.0]},\"yaxis3\":{\"anchor\":\"x3\",\"domain\":[0.625,1.0]},\"yaxis4\":{\"anchor\":\"x4\",\"domain\":[0.625,1.0]},\"yaxis5\":{\"anchor\":\"x5\",\"domain\":[0.625,1.0]},\"yaxis6\":{\"anchor\":\"x6\",\"domain\":[0.0,0.375]},\"yaxis7\":{\"anchor\":\"x7\",\"domain\":[0.0,0.375]},\"yaxis8\":{\"anchor\":\"x8\",\"domain\":[0.0,0.375]},\"yaxis9\":{\"anchor\":\"x9\",\"domain\":[0.0,0.375]}},                        {\"responsive\": true}                    ).then(function(){\n",
       "                            \n",
       "var gd = document.getElementById('1e95db4d-8bfa-49a9-93e5-b414105c4bde');\n",
       "var x = new MutationObserver(function (mutations, observer) {{\n",
       "        var display = window.getComputedStyle(gd).display;\n",
       "        if (!display || display === 'none') {{\n",
       "            console.log([gd, 'removed!']);\n",
       "            Plotly.purge(gd);\n",
       "            observer.disconnect();\n",
       "        }}\n",
       "}});\n",
       "\n",
       "// Listen for the removal of the full notebook cells\n",
       "var notebookContainer = gd.closest('#notebook-container');\n",
       "if (notebookContainer) {{\n",
       "    x.observe(notebookContainer, {childList: true});\n",
       "}}\n",
       "\n",
       "// Listen for the clearing of the current output cell\n",
       "var outputEl = gd.closest('.output');\n",
       "if (outputEl) {{\n",
       "    x.observe(outputEl, {childList: true});\n",
       "}}\n",
       "\n",
       "                        })                };                });            </script>        </div>"
      ]
     },
     "metadata": {}
    }
   ],
   "metadata": {}
  },
  {
   "cell_type": "code",
   "execution_count": 32,
   "source": [
    "def country_trace(country, flag=\"tv_shows\"):\r\n",
    "    df[\"from_us\"] = df['country'].fillna(\"\").apply(lambda x : 1 if country.lower() in x.lower() else 0)\r\n",
    "    small = df[df[\"from_us\"] == 1]\r\n",
    "    if flag == \"movie\":\r\n",
    "        small = small[small[\"duration\"] != \"\"]\r\n",
    "    else:\r\n",
    "        small = small[small[\"season_count\"] != \"\"]\r\n",
    "    cast = \", \".join(small['cast'].fillna(\"\")).split(\", \")\r\n",
    "   \r\n",
    "    tags = collections.Counter(cast).most_common(25)\r\n",
    "    tags = [_ for _ in tags if \"\" != _[0]]\r\n",
    "\r\n",
    "    labels, values = [_[0]+\"  \" for _ in tags], [_[1] for _ in tags]\r\n",
    "    trace = go.Bar(y=labels[::-1], x=values[::-1], orientation=\"h\", name=\"\" ,  marker=dict(color= \"#221f1f\"))\r\n",
    "    return trace"
   ],
   "outputs": [],
   "metadata": {}
  },
  {
   "cell_type": "code",
   "execution_count": 33,
   "source": [
    "traces = []\r\n",
    "titles = [\"United States\", \"\",\"India\",\"\", \"United Kingdom\", \"Canada\",\"\", \"Spain\",\"\", \"Japan\"]\r\n",
    "for title in titles:\r\n",
    "    if title != \"\":\r\n",
    "        traces.append(country_trace(title))\r\n",
    "\r\n",
    "fig = make_subplots(rows=2, cols=5, subplot_titles=titles)\r\n",
    "fig.add_trace(traces[0], 1,1)\r\n",
    "fig.add_trace(traces[1], 1,3)\r\n",
    "fig.add_trace(traces[2], 1,5)\r\n",
    "fig.add_trace(traces[3], 2,1)\r\n",
    "fig.add_trace(traces[4], 2,3)\r\n",
    "fig.add_trace(traces[5], 2,5)\r\n",
    "\r\n",
    "fig.update_layout(height=1200, showlegend=False)\r\n",
    "fig.show()"
   ],
   "outputs": [
    {
     "output_type": "display_data",
     "data": {
      "application/vnd.plotly.v1+json": {
       "config": {
        "plotlyServerURL": "https://plot.ly"
       },
       "data": [
        {
         "marker": {
          "color": "#221f1f"
         },
         "name": "",
         "orientation": "h",
         "type": "bar",
         "x": [
          5,
          5,
          5,
          5,
          5,
          5,
          5,
          6,
          6,
          6,
          6,
          6,
          6,
          7,
          7,
          7,
          7,
          7,
          7,
          7,
          7,
          8,
          8,
          10,
          188
         ],
         "xaxis": "x",
         "y": [
          "Hong Bum-ki  ",
          "Um Sang-hyun  ",
          "Dee Bradley Baker  ",
          "Fred Tatasciore  ",
          "Frank Welker  ",
          "Tom Kenny  ",
          "Kate Walsh  ",
          "Paul Schrier  ",
          "David Attenborough  ",
          "Brian Drummond  ",
          "Sean Astin  ",
          "Kari Wahlgren  ",
          "Frederick Lee  ",
          "Mike Colter  ",
          "Andrea Libman  ",
          "Kathleen Barr  ",
          "Grey Griffin  ",
          "Johnny Yong Bosch  ",
          "Tara Strong  ",
          "Michela Luci  ",
          "Steven Yeun  ",
          "Ashleigh Ball  ",
          "Kevin Michael Richardson  ",
          "Vincent Tong  ",
          "No data  "
         ],
         "yaxis": "y"
        },
        {
         "marker": {
          "color": "#221f1f"
         },
         "name": "",
         "orientation": "h",
         "type": "bar",
         "x": [
          2,
          2,
          2,
          2,
          2,
          2,
          2,
          2,
          2,
          2,
          2,
          2,
          2,
          2,
          2,
          2,
          2,
          2,
          2,
          2,
          2,
          2,
          3,
          3,
          15
         ],
         "xaxis": "x3",
         "y": [
          "Neeraj Kabi  ",
          "Sabina Malik  ",
          "Aranya Kaur  ",
          "Shanoor Mirza  ",
          "Siddhant Karnick  ",
          "Sonal Kaushal  ",
          "Ulka Gupta  ",
          "Radhika Apte  ",
          "Rasika Dugal  ",
          "Rajesh Tailang  ",
          "Gagan Arora  ",
          "Shreya Mehta  ",
          "Jigna Bhardwaj  ",
          "Rupa Bhimani  ",
          "Julie Tejwani  ",
          "Chandan Anand  ",
          "Jitendra Joshi  ",
          "Viineet Kumar  ",
          "Mona Ambegaonkar  ",
          "Reena Aggarwal  ",
          "Mahesh Manjrekar  ",
          "Aahana Kumra  ",
          "Nishka Raheja  ",
          "Rajesh Kava  ",
          "No data  "
         ],
         "yaxis": "y3"
        },
        {
         "marker": {
          "color": "#221f1f"
         },
         "name": "",
         "orientation": "h",
         "type": "bar",
         "x": [
          3,
          3,
          3,
          3,
          3,
          3,
          3,
          3,
          3,
          3,
          3,
          3,
          3,
          4,
          4,
          4,
          4,
          4,
          5,
          5,
          5,
          5,
          5,
          12,
          39
         ],
         "xaxis": "x5",
         "y": [
          "Bertie Carvel  ",
          "Ruth Bratt  ",
          "Andy Nyman  ",
          "Lee Ingleby  ",
          "Jonathan Bailey  ",
          "David Tennant  ",
          "Daniel Rigby  ",
          "Hannah John-Kamen  ",
          "Danny Sapani  ",
          "John Sparkes  ",
          "David Holt  ",
          "Teresa Gallagher  ",
          "Ricky Gervais  ",
          "Terry Gilliam  ",
          "Greg Davies  ",
          "Olivia Colman  ",
          "Rory Kinnear  ",
          "Harriet Walter  ",
          "Michael Palin  ",
          "Terry Jones  ",
          "Eric Idle  ",
          "John Cleese  ",
          "Graham Chapman  ",
          "David Attenborough  ",
          "No data  "
         ],
         "yaxis": "y5"
        },
        {
         "marker": {
          "color": "#221f1f"
         },
         "name": "",
         "orientation": "h",
         "type": "bar",
         "x": [
          3,
          3,
          3,
          3,
          3,
          3,
          3,
          3,
          3,
          3,
          3,
          3,
          3,
          3,
          3,
          4,
          4,
          4,
          4,
          4,
          5,
          5,
          6,
          7,
          8
         ],
         "xaxis": "x6",
         "y": [
          "Cory Doran  ",
          "Jordan Clark  ",
          "Kirby Morrow  ",
          "Paul Dobson  ",
          "Shannon Chan-Kent  ",
          "Ian James Corlett  ",
          "Adrian Petriw  ",
          "Scott McCord  ",
          "John Dunsworth  ",
          "Tabitha St. Germain  ",
          "Tara Strong  ",
          "Julie Lemieux  ",
          "Erin Mathews  ",
          "Katie Crown  ",
          "Colm Feore  ",
          "Robb Wells  ",
          "John Paul Tremblay  ",
          "Robert Tinkler  ",
          "Sam Vincent  ",
          "Michela Luci  ",
          "Brian Drummond  ",
          "Andrea Libman  ",
          "Vincent Tong  ",
          "No data  ",
          "Ashleigh Ball  "
         ],
         "yaxis": "y6"
        },
        {
         "marker": {
          "color": "#221f1f"
         },
         "name": "",
         "orientation": "h",
         "type": "bar",
         "x": [
          2,
          2,
          2,
          2,
          2,
          2,
          2,
          2,
          2,
          2,
          2,
          2,
          2,
          2,
          2,
          3,
          3,
          3,
          3,
          3,
          3,
          3,
          3,
          4,
          6
         ],
         "xaxis": "x8",
         "y": [
          "Daniel Grao  ",
          "Concha Velasco  ",
          "Sergio Mur  ",
          "Nico Romero  ",
          "Yon González  ",
          "Maggie Civantos  ",
          "Ana Fernández  ",
          "Blanca Suárez  ",
          "Nerea Barros  ",
          "Denis Gómez  ",
          "Claudia Traisac  ",
          "Verónica Echegui  ",
          "Pere Ponce  ",
          "Vito Sanz  ",
          "Diana Gómez  ",
          "Ángela Molina  ",
          "Pedro Casablanc  ",
          "José Sacristán  ",
          "Llorenç González  ",
          "María Pedraza  ",
          "Javier Rey  ",
          "Ernesto Alterio  ",
          "Eloy Azorín  ",
          "Carlos Cuevas  ",
          "No data  "
         ],
         "yaxis": "y8"
        },
        {
         "marker": {
          "color": "#221f1f"
         },
         "name": "",
         "orientation": "h",
         "type": "bar",
         "x": [
          8,
          8,
          8,
          8,
          8,
          8,
          8,
          8,
          9,
          9,
          9,
          10,
          11,
          11,
          11,
          12,
          13,
          13,
          13,
          14,
          15,
          15,
          16,
          17,
          21
         ],
         "xaxis": "x10",
         "y": [
          "Satoshi Hino  ",
          "Eri Kitamura  ",
          "Yoshitsugu Matsuoka  ",
          "Yukari Tamura  ",
          "Takehito Koyasu  ",
          "M・A・O  ",
          "Katsuyuki Konishi  ",
          "Fumiko Orikasa  ",
          "Saori Hayami  ",
          "Miyuki Sawashiro  ",
          "Ryohei Kimura  ",
          "Nobuhiko Okamoto  ",
          "Tomokazu Sugita  ",
          "Natsuki Hanae  ",
          "Mamoru Miyano  ",
          "Jun Fukuyama  ",
          "Yuichi Nakamura  ",
          "Kana Hanazawa  ",
          "Hiroshi Kamiya  ",
          "Yoshimasa Hosoya  ",
          "Junichi Suwabe  ",
          "Ai Kayano  ",
          "Daisuke Ono  ",
          "Yuki Kaji  ",
          "Takahiro Sakurai  "
         ],
         "yaxis": "y10"
        }
       ],
       "layout": {
        "annotations": [
         {
          "font": {
           "size": 16
          },
          "showarrow": false,
          "text": "United States",
          "x": 0.08399999999999999,
          "xanchor": "center",
          "xref": "paper",
          "y": 1,
          "yanchor": "bottom",
          "yref": "paper"
         },
         {
          "font": {
           "size": 16
          },
          "showarrow": false,
          "text": "India",
          "x": 0.5,
          "xanchor": "center",
          "xref": "paper",
          "y": 1,
          "yanchor": "bottom",
          "yref": "paper"
         },
         {
          "font": {
           "size": 16
          },
          "showarrow": false,
          "text": "United Kingdom",
          "x": 0.9159999999999999,
          "xanchor": "center",
          "xref": "paper",
          "y": 1,
          "yanchor": "bottom",
          "yref": "paper"
         },
         {
          "font": {
           "size": 16
          },
          "showarrow": false,
          "text": "Canada",
          "x": 0.08399999999999999,
          "xanchor": "center",
          "xref": "paper",
          "y": 0.375,
          "yanchor": "bottom",
          "yref": "paper"
         },
         {
          "font": {
           "size": 16
          },
          "showarrow": false,
          "text": "Spain",
          "x": 0.5,
          "xanchor": "center",
          "xref": "paper",
          "y": 0.375,
          "yanchor": "bottom",
          "yref": "paper"
         },
         {
          "font": {
           "size": 16
          },
          "showarrow": false,
          "text": "Japan",
          "x": 0.9159999999999999,
          "xanchor": "center",
          "xref": "paper",
          "y": 0.375,
          "yanchor": "bottom",
          "yref": "paper"
         }
        ],
        "height": 1200,
        "showlegend": false,
        "template": {
         "data": {
          "bar": [
           {
            "error_x": {
             "color": "#2a3f5f"
            },
            "error_y": {
             "color": "#2a3f5f"
            },
            "marker": {
             "line": {
              "color": "#E5ECF6",
              "width": 0.5
             },
             "pattern": {
              "fillmode": "overlay",
              "size": 10,
              "solidity": 0.2
             }
            },
            "type": "bar"
           }
          ],
          "barpolar": [
           {
            "marker": {
             "line": {
              "color": "#E5ECF6",
              "width": 0.5
             },
             "pattern": {
              "fillmode": "overlay",
              "size": 10,
              "solidity": 0.2
             }
            },
            "type": "barpolar"
           }
          ],
          "carpet": [
           {
            "aaxis": {
             "endlinecolor": "#2a3f5f",
             "gridcolor": "white",
             "linecolor": "white",
             "minorgridcolor": "white",
             "startlinecolor": "#2a3f5f"
            },
            "baxis": {
             "endlinecolor": "#2a3f5f",
             "gridcolor": "white",
             "linecolor": "white",
             "minorgridcolor": "white",
             "startlinecolor": "#2a3f5f"
            },
            "type": "carpet"
           }
          ],
          "choropleth": [
           {
            "colorbar": {
             "outlinewidth": 0,
             "ticks": ""
            },
            "type": "choropleth"
           }
          ],
          "contour": [
           {
            "colorbar": {
             "outlinewidth": 0,
             "ticks": ""
            },
            "colorscale": [
             [
              0,
              "#0d0887"
             ],
             [
              0.1111111111111111,
              "#46039f"
             ],
             [
              0.2222222222222222,
              "#7201a8"
             ],
             [
              0.3333333333333333,
              "#9c179e"
             ],
             [
              0.4444444444444444,
              "#bd3786"
             ],
             [
              0.5555555555555556,
              "#d8576b"
             ],
             [
              0.6666666666666666,
              "#ed7953"
             ],
             [
              0.7777777777777778,
              "#fb9f3a"
             ],
             [
              0.8888888888888888,
              "#fdca26"
             ],
             [
              1,
              "#f0f921"
             ]
            ],
            "type": "contour"
           }
          ],
          "contourcarpet": [
           {
            "colorbar": {
             "outlinewidth": 0,
             "ticks": ""
            },
            "type": "contourcarpet"
           }
          ],
          "heatmap": [
           {
            "colorbar": {
             "outlinewidth": 0,
             "ticks": ""
            },
            "colorscale": [
             [
              0,
              "#0d0887"
             ],
             [
              0.1111111111111111,
              "#46039f"
             ],
             [
              0.2222222222222222,
              "#7201a8"
             ],
             [
              0.3333333333333333,
              "#9c179e"
             ],
             [
              0.4444444444444444,
              "#bd3786"
             ],
             [
              0.5555555555555556,
              "#d8576b"
             ],
             [
              0.6666666666666666,
              "#ed7953"
             ],
             [
              0.7777777777777778,
              "#fb9f3a"
             ],
             [
              0.8888888888888888,
              "#fdca26"
             ],
             [
              1,
              "#f0f921"
             ]
            ],
            "type": "heatmap"
           }
          ],
          "heatmapgl": [
           {
            "colorbar": {
             "outlinewidth": 0,
             "ticks": ""
            },
            "colorscale": [
             [
              0,
              "#0d0887"
             ],
             [
              0.1111111111111111,
              "#46039f"
             ],
             [
              0.2222222222222222,
              "#7201a8"
             ],
             [
              0.3333333333333333,
              "#9c179e"
             ],
             [
              0.4444444444444444,
              "#bd3786"
             ],
             [
              0.5555555555555556,
              "#d8576b"
             ],
             [
              0.6666666666666666,
              "#ed7953"
             ],
             [
              0.7777777777777778,
              "#fb9f3a"
             ],
             [
              0.8888888888888888,
              "#fdca26"
             ],
             [
              1,
              "#f0f921"
             ]
            ],
            "type": "heatmapgl"
           }
          ],
          "histogram": [
           {
            "marker": {
             "pattern": {
              "fillmode": "overlay",
              "size": 10,
              "solidity": 0.2
             }
            },
            "type": "histogram"
           }
          ],
          "histogram2d": [
           {
            "colorbar": {
             "outlinewidth": 0,
             "ticks": ""
            },
            "colorscale": [
             [
              0,
              "#0d0887"
             ],
             [
              0.1111111111111111,
              "#46039f"
             ],
             [
              0.2222222222222222,
              "#7201a8"
             ],
             [
              0.3333333333333333,
              "#9c179e"
             ],
             [
              0.4444444444444444,
              "#bd3786"
             ],
             [
              0.5555555555555556,
              "#d8576b"
             ],
             [
              0.6666666666666666,
              "#ed7953"
             ],
             [
              0.7777777777777778,
              "#fb9f3a"
             ],
             [
              0.8888888888888888,
              "#fdca26"
             ],
             [
              1,
              "#f0f921"
             ]
            ],
            "type": "histogram2d"
           }
          ],
          "histogram2dcontour": [
           {
            "colorbar": {
             "outlinewidth": 0,
             "ticks": ""
            },
            "colorscale": [
             [
              0,
              "#0d0887"
             ],
             [
              0.1111111111111111,
              "#46039f"
             ],
             [
              0.2222222222222222,
              "#7201a8"
             ],
             [
              0.3333333333333333,
              "#9c179e"
             ],
             [
              0.4444444444444444,
              "#bd3786"
             ],
             [
              0.5555555555555556,
              "#d8576b"
             ],
             [
              0.6666666666666666,
              "#ed7953"
             ],
             [
              0.7777777777777778,
              "#fb9f3a"
             ],
             [
              0.8888888888888888,
              "#fdca26"
             ],
             [
              1,
              "#f0f921"
             ]
            ],
            "type": "histogram2dcontour"
           }
          ],
          "mesh3d": [
           {
            "colorbar": {
             "outlinewidth": 0,
             "ticks": ""
            },
            "type": "mesh3d"
           }
          ],
          "parcoords": [
           {
            "line": {
             "colorbar": {
              "outlinewidth": 0,
              "ticks": ""
             }
            },
            "type": "parcoords"
           }
          ],
          "pie": [
           {
            "automargin": true,
            "type": "pie"
           }
          ],
          "scatter": [
           {
            "marker": {
             "colorbar": {
              "outlinewidth": 0,
              "ticks": ""
             }
            },
            "type": "scatter"
           }
          ],
          "scatter3d": [
           {
            "line": {
             "colorbar": {
              "outlinewidth": 0,
              "ticks": ""
             }
            },
            "marker": {
             "colorbar": {
              "outlinewidth": 0,
              "ticks": ""
             }
            },
            "type": "scatter3d"
           }
          ],
          "scattercarpet": [
           {
            "marker": {
             "colorbar": {
              "outlinewidth": 0,
              "ticks": ""
             }
            },
            "type": "scattercarpet"
           }
          ],
          "scattergeo": [
           {
            "marker": {
             "colorbar": {
              "outlinewidth": 0,
              "ticks": ""
             }
            },
            "type": "scattergeo"
           }
          ],
          "scattergl": [
           {
            "marker": {
             "colorbar": {
              "outlinewidth": 0,
              "ticks": ""
             }
            },
            "type": "scattergl"
           }
          ],
          "scattermapbox": [
           {
            "marker": {
             "colorbar": {
              "outlinewidth": 0,
              "ticks": ""
             }
            },
            "type": "scattermapbox"
           }
          ],
          "scatterpolar": [
           {
            "marker": {
             "colorbar": {
              "outlinewidth": 0,
              "ticks": ""
             }
            },
            "type": "scatterpolar"
           }
          ],
          "scatterpolargl": [
           {
            "marker": {
             "colorbar": {
              "outlinewidth": 0,
              "ticks": ""
             }
            },
            "type": "scatterpolargl"
           }
          ],
          "scatterternary": [
           {
            "marker": {
             "colorbar": {
              "outlinewidth": 0,
              "ticks": ""
             }
            },
            "type": "scatterternary"
           }
          ],
          "surface": [
           {
            "colorbar": {
             "outlinewidth": 0,
             "ticks": ""
            },
            "colorscale": [
             [
              0,
              "#0d0887"
             ],
             [
              0.1111111111111111,
              "#46039f"
             ],
             [
              0.2222222222222222,
              "#7201a8"
             ],
             [
              0.3333333333333333,
              "#9c179e"
             ],
             [
              0.4444444444444444,
              "#bd3786"
             ],
             [
              0.5555555555555556,
              "#d8576b"
             ],
             [
              0.6666666666666666,
              "#ed7953"
             ],
             [
              0.7777777777777778,
              "#fb9f3a"
             ],
             [
              0.8888888888888888,
              "#fdca26"
             ],
             [
              1,
              "#f0f921"
             ]
            ],
            "type": "surface"
           }
          ],
          "table": [
           {
            "cells": {
             "fill": {
              "color": "#EBF0F8"
             },
             "line": {
              "color": "white"
             }
            },
            "header": {
             "fill": {
              "color": "#C8D4E3"
             },
             "line": {
              "color": "white"
             }
            },
            "type": "table"
           }
          ]
         },
         "layout": {
          "annotationdefaults": {
           "arrowcolor": "#2a3f5f",
           "arrowhead": 0,
           "arrowwidth": 1
          },
          "autotypenumbers": "strict",
          "coloraxis": {
           "colorbar": {
            "outlinewidth": 0,
            "ticks": ""
           }
          },
          "colorscale": {
           "diverging": [
            [
             0,
             "#8e0152"
            ],
            [
             0.1,
             "#c51b7d"
            ],
            [
             0.2,
             "#de77ae"
            ],
            [
             0.3,
             "#f1b6da"
            ],
            [
             0.4,
             "#fde0ef"
            ],
            [
             0.5,
             "#f7f7f7"
            ],
            [
             0.6,
             "#e6f5d0"
            ],
            [
             0.7,
             "#b8e186"
            ],
            [
             0.8,
             "#7fbc41"
            ],
            [
             0.9,
             "#4d9221"
            ],
            [
             1,
             "#276419"
            ]
           ],
           "sequential": [
            [
             0,
             "#0d0887"
            ],
            [
             0.1111111111111111,
             "#46039f"
            ],
            [
             0.2222222222222222,
             "#7201a8"
            ],
            [
             0.3333333333333333,
             "#9c179e"
            ],
            [
             0.4444444444444444,
             "#bd3786"
            ],
            [
             0.5555555555555556,
             "#d8576b"
            ],
            [
             0.6666666666666666,
             "#ed7953"
            ],
            [
             0.7777777777777778,
             "#fb9f3a"
            ],
            [
             0.8888888888888888,
             "#fdca26"
            ],
            [
             1,
             "#f0f921"
            ]
           ],
           "sequentialminus": [
            [
             0,
             "#0d0887"
            ],
            [
             0.1111111111111111,
             "#46039f"
            ],
            [
             0.2222222222222222,
             "#7201a8"
            ],
            [
             0.3333333333333333,
             "#9c179e"
            ],
            [
             0.4444444444444444,
             "#bd3786"
            ],
            [
             0.5555555555555556,
             "#d8576b"
            ],
            [
             0.6666666666666666,
             "#ed7953"
            ],
            [
             0.7777777777777778,
             "#fb9f3a"
            ],
            [
             0.8888888888888888,
             "#fdca26"
            ],
            [
             1,
             "#f0f921"
            ]
           ]
          },
          "colorway": [
           "#636efa",
           "#EF553B",
           "#00cc96",
           "#ab63fa",
           "#FFA15A",
           "#19d3f3",
           "#FF6692",
           "#B6E880",
           "#FF97FF",
           "#FECB52"
          ],
          "font": {
           "color": "#2a3f5f"
          },
          "geo": {
           "bgcolor": "white",
           "lakecolor": "white",
           "landcolor": "#E5ECF6",
           "showlakes": true,
           "showland": true,
           "subunitcolor": "white"
          },
          "hoverlabel": {
           "align": "left"
          },
          "hovermode": "closest",
          "mapbox": {
           "style": "light"
          },
          "paper_bgcolor": "white",
          "plot_bgcolor": "#E5ECF6",
          "polar": {
           "angularaxis": {
            "gridcolor": "white",
            "linecolor": "white",
            "ticks": ""
           },
           "bgcolor": "#E5ECF6",
           "radialaxis": {
            "gridcolor": "white",
            "linecolor": "white",
            "ticks": ""
           }
          },
          "scene": {
           "xaxis": {
            "backgroundcolor": "#E5ECF6",
            "gridcolor": "white",
            "gridwidth": 2,
            "linecolor": "white",
            "showbackground": true,
            "ticks": "",
            "zerolinecolor": "white"
           },
           "yaxis": {
            "backgroundcolor": "#E5ECF6",
            "gridcolor": "white",
            "gridwidth": 2,
            "linecolor": "white",
            "showbackground": true,
            "ticks": "",
            "zerolinecolor": "white"
           },
           "zaxis": {
            "backgroundcolor": "#E5ECF6",
            "gridcolor": "white",
            "gridwidth": 2,
            "linecolor": "white",
            "showbackground": true,
            "ticks": "",
            "zerolinecolor": "white"
           }
          },
          "shapedefaults": {
           "line": {
            "color": "#2a3f5f"
           }
          },
          "ternary": {
           "aaxis": {
            "gridcolor": "white",
            "linecolor": "white",
            "ticks": ""
           },
           "baxis": {
            "gridcolor": "white",
            "linecolor": "white",
            "ticks": ""
           },
           "bgcolor": "#E5ECF6",
           "caxis": {
            "gridcolor": "white",
            "linecolor": "white",
            "ticks": ""
           }
          },
          "title": {
           "x": 0.05
          },
          "xaxis": {
           "automargin": true,
           "gridcolor": "white",
           "linecolor": "white",
           "ticks": "",
           "title": {
            "standoff": 15
           },
           "zerolinecolor": "white",
           "zerolinewidth": 2
          },
          "yaxis": {
           "automargin": true,
           "gridcolor": "white",
           "linecolor": "white",
           "ticks": "",
           "title": {
            "standoff": 15
           },
           "zerolinecolor": "white",
           "zerolinewidth": 2
          }
         }
        },
        "xaxis": {
         "anchor": "y",
         "domain": [
          0,
          0.16799999999999998
         ]
        },
        "xaxis10": {
         "anchor": "y10",
         "domain": [
          0.832,
          1
         ]
        },
        "xaxis2": {
         "anchor": "y2",
         "domain": [
          0.208,
          0.376
         ]
        },
        "xaxis3": {
         "anchor": "y3",
         "domain": [
          0.416,
          0.584
         ]
        },
        "xaxis4": {
         "anchor": "y4",
         "domain": [
          0.624,
          0.792
         ]
        },
        "xaxis5": {
         "anchor": "y5",
         "domain": [
          0.832,
          1
         ]
        },
        "xaxis6": {
         "anchor": "y6",
         "domain": [
          0,
          0.16799999999999998
         ]
        },
        "xaxis7": {
         "anchor": "y7",
         "domain": [
          0.208,
          0.376
         ]
        },
        "xaxis8": {
         "anchor": "y8",
         "domain": [
          0.416,
          0.584
         ]
        },
        "xaxis9": {
         "anchor": "y9",
         "domain": [
          0.624,
          0.792
         ]
        },
        "yaxis": {
         "anchor": "x",
         "domain": [
          0.625,
          1
         ]
        },
        "yaxis10": {
         "anchor": "x10",
         "domain": [
          0,
          0.375
         ]
        },
        "yaxis2": {
         "anchor": "x2",
         "domain": [
          0.625,
          1
         ]
        },
        "yaxis3": {
         "anchor": "x3",
         "domain": [
          0.625,
          1
         ]
        },
        "yaxis4": {
         "anchor": "x4",
         "domain": [
          0.625,
          1
         ]
        },
        "yaxis5": {
         "anchor": "x5",
         "domain": [
          0.625,
          1
         ]
        },
        "yaxis6": {
         "anchor": "x6",
         "domain": [
          0,
          0.375
         ]
        },
        "yaxis7": {
         "anchor": "x7",
         "domain": [
          0,
          0.375
         ]
        },
        "yaxis8": {
         "anchor": "x8",
         "domain": [
          0,
          0.375
         ]
        },
        "yaxis9": {
         "anchor": "x9",
         "domain": [
          0,
          0.375
         ]
        }
       }
      },
      "text/html": [
       "<div>                            <div id=\"725b4dc4-15bc-4c81-bec9-472bd82e784b\" class=\"plotly-graph-div\" style=\"height:1200px; width:100%;\"></div>            <script type=\"text/javascript\">                require([\"plotly\"], function(Plotly) {                    window.PLOTLYENV=window.PLOTLYENV || {};                                    if (document.getElementById(\"725b4dc4-15bc-4c81-bec9-472bd82e784b\")) {                    Plotly.newPlot(                        \"725b4dc4-15bc-4c81-bec9-472bd82e784b\",                        [{\"marker\":{\"color\":\"#221f1f\"},\"name\":\"\",\"orientation\":\"h\",\"type\":\"bar\",\"x\":[5,5,5,5,5,5,5,6,6,6,6,6,6,7,7,7,7,7,7,7,7,8,8,10,188],\"xaxis\":\"x\",\"y\":[\"Hong Bum-ki  \",\"Um Sang-hyun  \",\"Dee Bradley Baker  \",\"Fred Tatasciore  \",\"Frank Welker  \",\"Tom Kenny  \",\"Kate Walsh  \",\"Paul Schrier  \",\"David Attenborough  \",\"Brian Drummond  \",\"Sean Astin  \",\"Kari Wahlgren  \",\"Frederick Lee  \",\"Mike Colter  \",\"Andrea Libman  \",\"Kathleen Barr  \",\"Grey Griffin  \",\"Johnny Yong Bosch  \",\"Tara Strong  \",\"Michela Luci  \",\"Steven Yeun  \",\"Ashleigh Ball  \",\"Kevin Michael Richardson  \",\"Vincent Tong  \",\"No data  \"],\"yaxis\":\"y\"},{\"marker\":{\"color\":\"#221f1f\"},\"name\":\"\",\"orientation\":\"h\",\"type\":\"bar\",\"x\":[2,2,2,2,2,2,2,2,2,2,2,2,2,2,2,2,2,2,2,2,2,2,3,3,15],\"xaxis\":\"x3\",\"y\":[\"Neeraj Kabi  \",\"Sabina Malik  \",\"Aranya Kaur  \",\"Shanoor Mirza  \",\"Siddhant Karnick  \",\"Sonal Kaushal  \",\"Ulka Gupta  \",\"Radhika Apte  \",\"Rasika Dugal  \",\"Rajesh Tailang  \",\"Gagan Arora  \",\"Shreya Mehta  \",\"Jigna Bhardwaj  \",\"Rupa Bhimani  \",\"Julie Tejwani  \",\"Chandan Anand  \",\"Jitendra Joshi  \",\"Viineet Kumar  \",\"Mona Ambegaonkar  \",\"Reena Aggarwal  \",\"Mahesh Manjrekar  \",\"Aahana Kumra  \",\"Nishka Raheja  \",\"Rajesh Kava  \",\"No data  \"],\"yaxis\":\"y3\"},{\"marker\":{\"color\":\"#221f1f\"},\"name\":\"\",\"orientation\":\"h\",\"type\":\"bar\",\"x\":[3,3,3,3,3,3,3,3,3,3,3,3,3,4,4,4,4,4,5,5,5,5,5,12,39],\"xaxis\":\"x5\",\"y\":[\"Bertie Carvel  \",\"Ruth Bratt  \",\"Andy Nyman  \",\"Lee Ingleby  \",\"Jonathan Bailey  \",\"David Tennant  \",\"Daniel Rigby  \",\"Hannah John-Kamen  \",\"Danny Sapani  \",\"John Sparkes  \",\"David Holt  \",\"Teresa Gallagher  \",\"Ricky Gervais  \",\"Terry Gilliam  \",\"Greg Davies  \",\"Olivia Colman  \",\"Rory Kinnear  \",\"Harriet Walter  \",\"Michael Palin  \",\"Terry Jones  \",\"Eric Idle  \",\"John Cleese  \",\"Graham Chapman  \",\"David Attenborough  \",\"No data  \"],\"yaxis\":\"y5\"},{\"marker\":{\"color\":\"#221f1f\"},\"name\":\"\",\"orientation\":\"h\",\"type\":\"bar\",\"x\":[3,3,3,3,3,3,3,3,3,3,3,3,3,3,3,4,4,4,4,4,5,5,6,7,8],\"xaxis\":\"x6\",\"y\":[\"Cory Doran  \",\"Jordan Clark  \",\"Kirby Morrow  \",\"Paul Dobson  \",\"Shannon Chan-Kent  \",\"Ian James Corlett  \",\"Adrian Petriw  \",\"Scott McCord  \",\"John Dunsworth  \",\"Tabitha St. Germain  \",\"Tara Strong  \",\"Julie Lemieux  \",\"Erin Mathews  \",\"Katie Crown  \",\"Colm Feore  \",\"Robb Wells  \",\"John Paul Tremblay  \",\"Robert Tinkler  \",\"Sam Vincent  \",\"Michela Luci  \",\"Brian Drummond  \",\"Andrea Libman  \",\"Vincent Tong  \",\"No data  \",\"Ashleigh Ball  \"],\"yaxis\":\"y6\"},{\"marker\":{\"color\":\"#221f1f\"},\"name\":\"\",\"orientation\":\"h\",\"type\":\"bar\",\"x\":[2,2,2,2,2,2,2,2,2,2,2,2,2,2,2,3,3,3,3,3,3,3,3,4,6],\"xaxis\":\"x8\",\"y\":[\"Daniel Grao  \",\"Concha Velasco  \",\"Sergio Mur  \",\"Nico Romero  \",\"Yon Gonz\\u00e1lez  \",\"Maggie Civantos  \",\"Ana Fern\\u00e1ndez  \",\"Blanca Su\\u00e1rez  \",\"Nerea Barros  \",\"Denis G\\u00f3mez  \",\"Claudia Traisac  \",\"Ver\\u00f3nica Echegui  \",\"Pere Ponce  \",\"Vito Sanz  \",\"Diana G\\u00f3mez  \",\"\\u00c1ngela Molina  \",\"Pedro Casablanc  \",\"Jos\\u00e9 Sacrist\\u00e1n  \",\"Lloren\\u00e7 Gonz\\u00e1lez  \",\"Mar\\u00eda Pedraza  \",\"Javier Rey  \",\"Ernesto Alterio  \",\"Eloy Azor\\u00edn  \",\"Carlos Cuevas  \",\"No data  \"],\"yaxis\":\"y8\"},{\"marker\":{\"color\":\"#221f1f\"},\"name\":\"\",\"orientation\":\"h\",\"type\":\"bar\",\"x\":[8,8,8,8,8,8,8,8,9,9,9,10,11,11,11,12,13,13,13,14,15,15,16,17,21],\"xaxis\":\"x10\",\"y\":[\"Satoshi Hino  \",\"Eri Kitamura  \",\"Yoshitsugu Matsuoka  \",\"Yukari Tamura  \",\"Takehito Koyasu  \",\"M\\u30fbA\\u30fbO  \",\"Katsuyuki Konishi  \",\"Fumiko Orikasa  \",\"Saori Hayami  \",\"Miyuki Sawashiro  \",\"Ryohei Kimura  \",\"Nobuhiko Okamoto  \",\"Tomokazu Sugita  \",\"Natsuki Hanae  \",\"Mamoru Miyano  \",\"Jun Fukuyama  \",\"Yuichi Nakamura  \",\"Kana Hanazawa  \",\"Hiroshi Kamiya  \",\"Yoshimasa Hosoya  \",\"Junichi Suwabe  \",\"Ai Kayano  \",\"Daisuke Ono  \",\"Yuki Kaji  \",\"Takahiro Sakurai  \"],\"yaxis\":\"y10\"}],                        {\"annotations\":[{\"font\":{\"size\":16},\"showarrow\":false,\"text\":\"United States\",\"x\":0.08399999999999999,\"xanchor\":\"center\",\"xref\":\"paper\",\"y\":1.0,\"yanchor\":\"bottom\",\"yref\":\"paper\"},{\"font\":{\"size\":16},\"showarrow\":false,\"text\":\"India\",\"x\":0.5,\"xanchor\":\"center\",\"xref\":\"paper\",\"y\":1.0,\"yanchor\":\"bottom\",\"yref\":\"paper\"},{\"font\":{\"size\":16},\"showarrow\":false,\"text\":\"United Kingdom\",\"x\":0.9159999999999999,\"xanchor\":\"center\",\"xref\":\"paper\",\"y\":1.0,\"yanchor\":\"bottom\",\"yref\":\"paper\"},{\"font\":{\"size\":16},\"showarrow\":false,\"text\":\"Canada\",\"x\":0.08399999999999999,\"xanchor\":\"center\",\"xref\":\"paper\",\"y\":0.375,\"yanchor\":\"bottom\",\"yref\":\"paper\"},{\"font\":{\"size\":16},\"showarrow\":false,\"text\":\"Spain\",\"x\":0.5,\"xanchor\":\"center\",\"xref\":\"paper\",\"y\":0.375,\"yanchor\":\"bottom\",\"yref\":\"paper\"},{\"font\":{\"size\":16},\"showarrow\":false,\"text\":\"Japan\",\"x\":0.9159999999999999,\"xanchor\":\"center\",\"xref\":\"paper\",\"y\":0.375,\"yanchor\":\"bottom\",\"yref\":\"paper\"}],\"height\":1200,\"showlegend\":false,\"template\":{\"data\":{\"bar\":[{\"error_x\":{\"color\":\"#2a3f5f\"},\"error_y\":{\"color\":\"#2a3f5f\"},\"marker\":{\"line\":{\"color\":\"#E5ECF6\",\"width\":0.5},\"pattern\":{\"fillmode\":\"overlay\",\"size\":10,\"solidity\":0.2}},\"type\":\"bar\"}],\"barpolar\":[{\"marker\":{\"line\":{\"color\":\"#E5ECF6\",\"width\":0.5},\"pattern\":{\"fillmode\":\"overlay\",\"size\":10,\"solidity\":0.2}},\"type\":\"barpolar\"}],\"carpet\":[{\"aaxis\":{\"endlinecolor\":\"#2a3f5f\",\"gridcolor\":\"white\",\"linecolor\":\"white\",\"minorgridcolor\":\"white\",\"startlinecolor\":\"#2a3f5f\"},\"baxis\":{\"endlinecolor\":\"#2a3f5f\",\"gridcolor\":\"white\",\"linecolor\":\"white\",\"minorgridcolor\":\"white\",\"startlinecolor\":\"#2a3f5f\"},\"type\":\"carpet\"}],\"choropleth\":[{\"colorbar\":{\"outlinewidth\":0,\"ticks\":\"\"},\"type\":\"choropleth\"}],\"contour\":[{\"colorbar\":{\"outlinewidth\":0,\"ticks\":\"\"},\"colorscale\":[[0.0,\"#0d0887\"],[0.1111111111111111,\"#46039f\"],[0.2222222222222222,\"#7201a8\"],[0.3333333333333333,\"#9c179e\"],[0.4444444444444444,\"#bd3786\"],[0.5555555555555556,\"#d8576b\"],[0.6666666666666666,\"#ed7953\"],[0.7777777777777778,\"#fb9f3a\"],[0.8888888888888888,\"#fdca26\"],[1.0,\"#f0f921\"]],\"type\":\"contour\"}],\"contourcarpet\":[{\"colorbar\":{\"outlinewidth\":0,\"ticks\":\"\"},\"type\":\"contourcarpet\"}],\"heatmap\":[{\"colorbar\":{\"outlinewidth\":0,\"ticks\":\"\"},\"colorscale\":[[0.0,\"#0d0887\"],[0.1111111111111111,\"#46039f\"],[0.2222222222222222,\"#7201a8\"],[0.3333333333333333,\"#9c179e\"],[0.4444444444444444,\"#bd3786\"],[0.5555555555555556,\"#d8576b\"],[0.6666666666666666,\"#ed7953\"],[0.7777777777777778,\"#fb9f3a\"],[0.8888888888888888,\"#fdca26\"],[1.0,\"#f0f921\"]],\"type\":\"heatmap\"}],\"heatmapgl\":[{\"colorbar\":{\"outlinewidth\":0,\"ticks\":\"\"},\"colorscale\":[[0.0,\"#0d0887\"],[0.1111111111111111,\"#46039f\"],[0.2222222222222222,\"#7201a8\"],[0.3333333333333333,\"#9c179e\"],[0.4444444444444444,\"#bd3786\"],[0.5555555555555556,\"#d8576b\"],[0.6666666666666666,\"#ed7953\"],[0.7777777777777778,\"#fb9f3a\"],[0.8888888888888888,\"#fdca26\"],[1.0,\"#f0f921\"]],\"type\":\"heatmapgl\"}],\"histogram\":[{\"marker\":{\"pattern\":{\"fillmode\":\"overlay\",\"size\":10,\"solidity\":0.2}},\"type\":\"histogram\"}],\"histogram2d\":[{\"colorbar\":{\"outlinewidth\":0,\"ticks\":\"\"},\"colorscale\":[[0.0,\"#0d0887\"],[0.1111111111111111,\"#46039f\"],[0.2222222222222222,\"#7201a8\"],[0.3333333333333333,\"#9c179e\"],[0.4444444444444444,\"#bd3786\"],[0.5555555555555556,\"#d8576b\"],[0.6666666666666666,\"#ed7953\"],[0.7777777777777778,\"#fb9f3a\"],[0.8888888888888888,\"#fdca26\"],[1.0,\"#f0f921\"]],\"type\":\"histogram2d\"}],\"histogram2dcontour\":[{\"colorbar\":{\"outlinewidth\":0,\"ticks\":\"\"},\"colorscale\":[[0.0,\"#0d0887\"],[0.1111111111111111,\"#46039f\"],[0.2222222222222222,\"#7201a8\"],[0.3333333333333333,\"#9c179e\"],[0.4444444444444444,\"#bd3786\"],[0.5555555555555556,\"#d8576b\"],[0.6666666666666666,\"#ed7953\"],[0.7777777777777778,\"#fb9f3a\"],[0.8888888888888888,\"#fdca26\"],[1.0,\"#f0f921\"]],\"type\":\"histogram2dcontour\"}],\"mesh3d\":[{\"colorbar\":{\"outlinewidth\":0,\"ticks\":\"\"},\"type\":\"mesh3d\"}],\"parcoords\":[{\"line\":{\"colorbar\":{\"outlinewidth\":0,\"ticks\":\"\"}},\"type\":\"parcoords\"}],\"pie\":[{\"automargin\":true,\"type\":\"pie\"}],\"scatter\":[{\"marker\":{\"colorbar\":{\"outlinewidth\":0,\"ticks\":\"\"}},\"type\":\"scatter\"}],\"scatter3d\":[{\"line\":{\"colorbar\":{\"outlinewidth\":0,\"ticks\":\"\"}},\"marker\":{\"colorbar\":{\"outlinewidth\":0,\"ticks\":\"\"}},\"type\":\"scatter3d\"}],\"scattercarpet\":[{\"marker\":{\"colorbar\":{\"outlinewidth\":0,\"ticks\":\"\"}},\"type\":\"scattercarpet\"}],\"scattergeo\":[{\"marker\":{\"colorbar\":{\"outlinewidth\":0,\"ticks\":\"\"}},\"type\":\"scattergeo\"}],\"scattergl\":[{\"marker\":{\"colorbar\":{\"outlinewidth\":0,\"ticks\":\"\"}},\"type\":\"scattergl\"}],\"scattermapbox\":[{\"marker\":{\"colorbar\":{\"outlinewidth\":0,\"ticks\":\"\"}},\"type\":\"scattermapbox\"}],\"scatterpolar\":[{\"marker\":{\"colorbar\":{\"outlinewidth\":0,\"ticks\":\"\"}},\"type\":\"scatterpolar\"}],\"scatterpolargl\":[{\"marker\":{\"colorbar\":{\"outlinewidth\":0,\"ticks\":\"\"}},\"type\":\"scatterpolargl\"}],\"scatterternary\":[{\"marker\":{\"colorbar\":{\"outlinewidth\":0,\"ticks\":\"\"}},\"type\":\"scatterternary\"}],\"surface\":[{\"colorbar\":{\"outlinewidth\":0,\"ticks\":\"\"},\"colorscale\":[[0.0,\"#0d0887\"],[0.1111111111111111,\"#46039f\"],[0.2222222222222222,\"#7201a8\"],[0.3333333333333333,\"#9c179e\"],[0.4444444444444444,\"#bd3786\"],[0.5555555555555556,\"#d8576b\"],[0.6666666666666666,\"#ed7953\"],[0.7777777777777778,\"#fb9f3a\"],[0.8888888888888888,\"#fdca26\"],[1.0,\"#f0f921\"]],\"type\":\"surface\"}],\"table\":[{\"cells\":{\"fill\":{\"color\":\"#EBF0F8\"},\"line\":{\"color\":\"white\"}},\"header\":{\"fill\":{\"color\":\"#C8D4E3\"},\"line\":{\"color\":\"white\"}},\"type\":\"table\"}]},\"layout\":{\"annotationdefaults\":{\"arrowcolor\":\"#2a3f5f\",\"arrowhead\":0,\"arrowwidth\":1},\"autotypenumbers\":\"strict\",\"coloraxis\":{\"colorbar\":{\"outlinewidth\":0,\"ticks\":\"\"}},\"colorscale\":{\"diverging\":[[0,\"#8e0152\"],[0.1,\"#c51b7d\"],[0.2,\"#de77ae\"],[0.3,\"#f1b6da\"],[0.4,\"#fde0ef\"],[0.5,\"#f7f7f7\"],[0.6,\"#e6f5d0\"],[0.7,\"#b8e186\"],[0.8,\"#7fbc41\"],[0.9,\"#4d9221\"],[1,\"#276419\"]],\"sequential\":[[0.0,\"#0d0887\"],[0.1111111111111111,\"#46039f\"],[0.2222222222222222,\"#7201a8\"],[0.3333333333333333,\"#9c179e\"],[0.4444444444444444,\"#bd3786\"],[0.5555555555555556,\"#d8576b\"],[0.6666666666666666,\"#ed7953\"],[0.7777777777777778,\"#fb9f3a\"],[0.8888888888888888,\"#fdca26\"],[1.0,\"#f0f921\"]],\"sequentialminus\":[[0.0,\"#0d0887\"],[0.1111111111111111,\"#46039f\"],[0.2222222222222222,\"#7201a8\"],[0.3333333333333333,\"#9c179e\"],[0.4444444444444444,\"#bd3786\"],[0.5555555555555556,\"#d8576b\"],[0.6666666666666666,\"#ed7953\"],[0.7777777777777778,\"#fb9f3a\"],[0.8888888888888888,\"#fdca26\"],[1.0,\"#f0f921\"]]},\"colorway\":[\"#636efa\",\"#EF553B\",\"#00cc96\",\"#ab63fa\",\"#FFA15A\",\"#19d3f3\",\"#FF6692\",\"#B6E880\",\"#FF97FF\",\"#FECB52\"],\"font\":{\"color\":\"#2a3f5f\"},\"geo\":{\"bgcolor\":\"white\",\"lakecolor\":\"white\",\"landcolor\":\"#E5ECF6\",\"showlakes\":true,\"showland\":true,\"subunitcolor\":\"white\"},\"hoverlabel\":{\"align\":\"left\"},\"hovermode\":\"closest\",\"mapbox\":{\"style\":\"light\"},\"paper_bgcolor\":\"white\",\"plot_bgcolor\":\"#E5ECF6\",\"polar\":{\"angularaxis\":{\"gridcolor\":\"white\",\"linecolor\":\"white\",\"ticks\":\"\"},\"bgcolor\":\"#E5ECF6\",\"radialaxis\":{\"gridcolor\":\"white\",\"linecolor\":\"white\",\"ticks\":\"\"}},\"scene\":{\"xaxis\":{\"backgroundcolor\":\"#E5ECF6\",\"gridcolor\":\"white\",\"gridwidth\":2,\"linecolor\":\"white\",\"showbackground\":true,\"ticks\":\"\",\"zerolinecolor\":\"white\"},\"yaxis\":{\"backgroundcolor\":\"#E5ECF6\",\"gridcolor\":\"white\",\"gridwidth\":2,\"linecolor\":\"white\",\"showbackground\":true,\"ticks\":\"\",\"zerolinecolor\":\"white\"},\"zaxis\":{\"backgroundcolor\":\"#E5ECF6\",\"gridcolor\":\"white\",\"gridwidth\":2,\"linecolor\":\"white\",\"showbackground\":true,\"ticks\":\"\",\"zerolinecolor\":\"white\"}},\"shapedefaults\":{\"line\":{\"color\":\"#2a3f5f\"}},\"ternary\":{\"aaxis\":{\"gridcolor\":\"white\",\"linecolor\":\"white\",\"ticks\":\"\"},\"baxis\":{\"gridcolor\":\"white\",\"linecolor\":\"white\",\"ticks\":\"\"},\"bgcolor\":\"#E5ECF6\",\"caxis\":{\"gridcolor\":\"white\",\"linecolor\":\"white\",\"ticks\":\"\"}},\"title\":{\"x\":0.05},\"xaxis\":{\"automargin\":true,\"gridcolor\":\"white\",\"linecolor\":\"white\",\"ticks\":\"\",\"title\":{\"standoff\":15},\"zerolinecolor\":\"white\",\"zerolinewidth\":2},\"yaxis\":{\"automargin\":true,\"gridcolor\":\"white\",\"linecolor\":\"white\",\"ticks\":\"\",\"title\":{\"standoff\":15},\"zerolinecolor\":\"white\",\"zerolinewidth\":2}}},\"xaxis\":{\"anchor\":\"y\",\"domain\":[0.0,0.16799999999999998]},\"xaxis10\":{\"anchor\":\"y10\",\"domain\":[0.832,1.0]},\"xaxis2\":{\"anchor\":\"y2\",\"domain\":[0.208,0.376]},\"xaxis3\":{\"anchor\":\"y3\",\"domain\":[0.416,0.584]},\"xaxis4\":{\"anchor\":\"y4\",\"domain\":[0.624,0.792]},\"xaxis5\":{\"anchor\":\"y5\",\"domain\":[0.832,1.0]},\"xaxis6\":{\"anchor\":\"y6\",\"domain\":[0.0,0.16799999999999998]},\"xaxis7\":{\"anchor\":\"y7\",\"domain\":[0.208,0.376]},\"xaxis8\":{\"anchor\":\"y8\",\"domain\":[0.416,0.584]},\"xaxis9\":{\"anchor\":\"y9\",\"domain\":[0.624,0.792]},\"yaxis\":{\"anchor\":\"x\",\"domain\":[0.625,1.0]},\"yaxis10\":{\"anchor\":\"x10\",\"domain\":[0.0,0.375]},\"yaxis2\":{\"anchor\":\"x2\",\"domain\":[0.625,1.0]},\"yaxis3\":{\"anchor\":\"x3\",\"domain\":[0.625,1.0]},\"yaxis4\":{\"anchor\":\"x4\",\"domain\":[0.625,1.0]},\"yaxis5\":{\"anchor\":\"x5\",\"domain\":[0.625,1.0]},\"yaxis6\":{\"anchor\":\"x6\",\"domain\":[0.0,0.375]},\"yaxis7\":{\"anchor\":\"x7\",\"domain\":[0.0,0.375]},\"yaxis8\":{\"anchor\":\"x8\",\"domain\":[0.0,0.375]},\"yaxis9\":{\"anchor\":\"x9\",\"domain\":[0.0,0.375]}},                        {\"responsive\": true}                    ).then(function(){\n",
       "                            \n",
       "var gd = document.getElementById('725b4dc4-15bc-4c81-bec9-472bd82e784b');\n",
       "var x = new MutationObserver(function (mutations, observer) {{\n",
       "        var display = window.getComputedStyle(gd).display;\n",
       "        if (!display || display === 'none') {{\n",
       "            console.log([gd, 'removed!']);\n",
       "            Plotly.purge(gd);\n",
       "            observer.disconnect();\n",
       "        }}\n",
       "}});\n",
       "\n",
       "// Listen for the removal of the full notebook cells\n",
       "var notebookContainer = gd.closest('#notebook-container');\n",
       "if (notebookContainer) {{\n",
       "    x.observe(notebookContainer, {childList: true});\n",
       "}}\n",
       "\n",
       "// Listen for the clearing of the current output cell\n",
       "var outputEl = gd.closest('.output');\n",
       "if (outputEl) {{\n",
       "    x.observe(outputEl, {childList: true});\n",
       "}}\n",
       "\n",
       "                        })                };                });            </script>        </div>"
      ]
     },
     "metadata": {}
    }
   ],
   "metadata": {}
  },
  {
   "cell_type": "code",
   "execution_count": 34,
   "source": [
    "small = df1[df1[\"type\"] == \"Movie\"]\r\n",
    "small = small[small[\"country\"] == \"India\"]\r\n",
    "col = \"director\"\r\n",
    "categories = \", \".join(small[col].fillna(\"\")).split(\", \")\r\n",
    "counter_list = collections.Counter(categories).most_common(12)\r\n",
    "counter_list = [_ for _ in counter_list if _[0] != \"\"]\r\n",
    "labels = [_[0] for _ in counter_list][::-1]\r\n",
    "values = [_[1] for _ in counter_list][::-1]\r\n",
    "trace1 = go.Bar(y=labels, x=values, orientation=\"h\", name=\"TV Shows\", marker=dict(color=\"#e50914\"))\r\n",
    "\r\n",
    "data = [trace1]\r\n",
    "layout = go.Layout(title=\"Movie Directors from India with most content\", legend=dict(x=0.1, y=1.1, orientation=\"h\"))\r\n",
    "fig = go.Figure(data, layout=layout)\r\n",
    "fig.show()"
   ],
   "outputs": [
    {
     "output_type": "display_data",
     "data": {
      "application/vnd.plotly.v1+json": {
       "config": {
        "plotlyServerURL": "https://plot.ly"
       },
       "data": [
        {
         "marker": {
          "color": "#e50914"
         },
         "name": "TV Shows",
         "orientation": "h",
         "type": "bar",
         "x": [
          6,
          6,
          6,
          6,
          6,
          6,
          6,
          6,
          7,
          8,
          9
         ],
         "y": [
          "Ashutosh Gowariker",
          "Sooraj R. Barjatya",
          "Imtiaz Ali",
          "Anees Bazmee",
          "Zoya Akhtar",
          "Karan Johar",
          "Rajkumar Santoshi",
          "Ram Gopal Varma",
          "Dibakar Banerjee",
          "Anurag Kashyap",
          "David Dhawan"
         ]
        }
       ],
       "layout": {
        "legend": {
         "orientation": "h",
         "x": 0.1,
         "y": 1.1
        },
        "template": {
         "data": {
          "bar": [
           {
            "error_x": {
             "color": "#2a3f5f"
            },
            "error_y": {
             "color": "#2a3f5f"
            },
            "marker": {
             "line": {
              "color": "#E5ECF6",
              "width": 0.5
             },
             "pattern": {
              "fillmode": "overlay",
              "size": 10,
              "solidity": 0.2
             }
            },
            "type": "bar"
           }
          ],
          "barpolar": [
           {
            "marker": {
             "line": {
              "color": "#E5ECF6",
              "width": 0.5
             },
             "pattern": {
              "fillmode": "overlay",
              "size": 10,
              "solidity": 0.2
             }
            },
            "type": "barpolar"
           }
          ],
          "carpet": [
           {
            "aaxis": {
             "endlinecolor": "#2a3f5f",
             "gridcolor": "white",
             "linecolor": "white",
             "minorgridcolor": "white",
             "startlinecolor": "#2a3f5f"
            },
            "baxis": {
             "endlinecolor": "#2a3f5f",
             "gridcolor": "white",
             "linecolor": "white",
             "minorgridcolor": "white",
             "startlinecolor": "#2a3f5f"
            },
            "type": "carpet"
           }
          ],
          "choropleth": [
           {
            "colorbar": {
             "outlinewidth": 0,
             "ticks": ""
            },
            "type": "choropleth"
           }
          ],
          "contour": [
           {
            "colorbar": {
             "outlinewidth": 0,
             "ticks": ""
            },
            "colorscale": [
             [
              0,
              "#0d0887"
             ],
             [
              0.1111111111111111,
              "#46039f"
             ],
             [
              0.2222222222222222,
              "#7201a8"
             ],
             [
              0.3333333333333333,
              "#9c179e"
             ],
             [
              0.4444444444444444,
              "#bd3786"
             ],
             [
              0.5555555555555556,
              "#d8576b"
             ],
             [
              0.6666666666666666,
              "#ed7953"
             ],
             [
              0.7777777777777778,
              "#fb9f3a"
             ],
             [
              0.8888888888888888,
              "#fdca26"
             ],
             [
              1,
              "#f0f921"
             ]
            ],
            "type": "contour"
           }
          ],
          "contourcarpet": [
           {
            "colorbar": {
             "outlinewidth": 0,
             "ticks": ""
            },
            "type": "contourcarpet"
           }
          ],
          "heatmap": [
           {
            "colorbar": {
             "outlinewidth": 0,
             "ticks": ""
            },
            "colorscale": [
             [
              0,
              "#0d0887"
             ],
             [
              0.1111111111111111,
              "#46039f"
             ],
             [
              0.2222222222222222,
              "#7201a8"
             ],
             [
              0.3333333333333333,
              "#9c179e"
             ],
             [
              0.4444444444444444,
              "#bd3786"
             ],
             [
              0.5555555555555556,
              "#d8576b"
             ],
             [
              0.6666666666666666,
              "#ed7953"
             ],
             [
              0.7777777777777778,
              "#fb9f3a"
             ],
             [
              0.8888888888888888,
              "#fdca26"
             ],
             [
              1,
              "#f0f921"
             ]
            ],
            "type": "heatmap"
           }
          ],
          "heatmapgl": [
           {
            "colorbar": {
             "outlinewidth": 0,
             "ticks": ""
            },
            "colorscale": [
             [
              0,
              "#0d0887"
             ],
             [
              0.1111111111111111,
              "#46039f"
             ],
             [
              0.2222222222222222,
              "#7201a8"
             ],
             [
              0.3333333333333333,
              "#9c179e"
             ],
             [
              0.4444444444444444,
              "#bd3786"
             ],
             [
              0.5555555555555556,
              "#d8576b"
             ],
             [
              0.6666666666666666,
              "#ed7953"
             ],
             [
              0.7777777777777778,
              "#fb9f3a"
             ],
             [
              0.8888888888888888,
              "#fdca26"
             ],
             [
              1,
              "#f0f921"
             ]
            ],
            "type": "heatmapgl"
           }
          ],
          "histogram": [
           {
            "marker": {
             "pattern": {
              "fillmode": "overlay",
              "size": 10,
              "solidity": 0.2
             }
            },
            "type": "histogram"
           }
          ],
          "histogram2d": [
           {
            "colorbar": {
             "outlinewidth": 0,
             "ticks": ""
            },
            "colorscale": [
             [
              0,
              "#0d0887"
             ],
             [
              0.1111111111111111,
              "#46039f"
             ],
             [
              0.2222222222222222,
              "#7201a8"
             ],
             [
              0.3333333333333333,
              "#9c179e"
             ],
             [
              0.4444444444444444,
              "#bd3786"
             ],
             [
              0.5555555555555556,
              "#d8576b"
             ],
             [
              0.6666666666666666,
              "#ed7953"
             ],
             [
              0.7777777777777778,
              "#fb9f3a"
             ],
             [
              0.8888888888888888,
              "#fdca26"
             ],
             [
              1,
              "#f0f921"
             ]
            ],
            "type": "histogram2d"
           }
          ],
          "histogram2dcontour": [
           {
            "colorbar": {
             "outlinewidth": 0,
             "ticks": ""
            },
            "colorscale": [
             [
              0,
              "#0d0887"
             ],
             [
              0.1111111111111111,
              "#46039f"
             ],
             [
              0.2222222222222222,
              "#7201a8"
             ],
             [
              0.3333333333333333,
              "#9c179e"
             ],
             [
              0.4444444444444444,
              "#bd3786"
             ],
             [
              0.5555555555555556,
              "#d8576b"
             ],
             [
              0.6666666666666666,
              "#ed7953"
             ],
             [
              0.7777777777777778,
              "#fb9f3a"
             ],
             [
              0.8888888888888888,
              "#fdca26"
             ],
             [
              1,
              "#f0f921"
             ]
            ],
            "type": "histogram2dcontour"
           }
          ],
          "mesh3d": [
           {
            "colorbar": {
             "outlinewidth": 0,
             "ticks": ""
            },
            "type": "mesh3d"
           }
          ],
          "parcoords": [
           {
            "line": {
             "colorbar": {
              "outlinewidth": 0,
              "ticks": ""
             }
            },
            "type": "parcoords"
           }
          ],
          "pie": [
           {
            "automargin": true,
            "type": "pie"
           }
          ],
          "scatter": [
           {
            "marker": {
             "colorbar": {
              "outlinewidth": 0,
              "ticks": ""
             }
            },
            "type": "scatter"
           }
          ],
          "scatter3d": [
           {
            "line": {
             "colorbar": {
              "outlinewidth": 0,
              "ticks": ""
             }
            },
            "marker": {
             "colorbar": {
              "outlinewidth": 0,
              "ticks": ""
             }
            },
            "type": "scatter3d"
           }
          ],
          "scattercarpet": [
           {
            "marker": {
             "colorbar": {
              "outlinewidth": 0,
              "ticks": ""
             }
            },
            "type": "scattercarpet"
           }
          ],
          "scattergeo": [
           {
            "marker": {
             "colorbar": {
              "outlinewidth": 0,
              "ticks": ""
             }
            },
            "type": "scattergeo"
           }
          ],
          "scattergl": [
           {
            "marker": {
             "colorbar": {
              "outlinewidth": 0,
              "ticks": ""
             }
            },
            "type": "scattergl"
           }
          ],
          "scattermapbox": [
           {
            "marker": {
             "colorbar": {
              "outlinewidth": 0,
              "ticks": ""
             }
            },
            "type": "scattermapbox"
           }
          ],
          "scatterpolar": [
           {
            "marker": {
             "colorbar": {
              "outlinewidth": 0,
              "ticks": ""
             }
            },
            "type": "scatterpolar"
           }
          ],
          "scatterpolargl": [
           {
            "marker": {
             "colorbar": {
              "outlinewidth": 0,
              "ticks": ""
             }
            },
            "type": "scatterpolargl"
           }
          ],
          "scatterternary": [
           {
            "marker": {
             "colorbar": {
              "outlinewidth": 0,
              "ticks": ""
             }
            },
            "type": "scatterternary"
           }
          ],
          "surface": [
           {
            "colorbar": {
             "outlinewidth": 0,
             "ticks": ""
            },
            "colorscale": [
             [
              0,
              "#0d0887"
             ],
             [
              0.1111111111111111,
              "#46039f"
             ],
             [
              0.2222222222222222,
              "#7201a8"
             ],
             [
              0.3333333333333333,
              "#9c179e"
             ],
             [
              0.4444444444444444,
              "#bd3786"
             ],
             [
              0.5555555555555556,
              "#d8576b"
             ],
             [
              0.6666666666666666,
              "#ed7953"
             ],
             [
              0.7777777777777778,
              "#fb9f3a"
             ],
             [
              0.8888888888888888,
              "#fdca26"
             ],
             [
              1,
              "#f0f921"
             ]
            ],
            "type": "surface"
           }
          ],
          "table": [
           {
            "cells": {
             "fill": {
              "color": "#EBF0F8"
             },
             "line": {
              "color": "white"
             }
            },
            "header": {
             "fill": {
              "color": "#C8D4E3"
             },
             "line": {
              "color": "white"
             }
            },
            "type": "table"
           }
          ]
         },
         "layout": {
          "annotationdefaults": {
           "arrowcolor": "#2a3f5f",
           "arrowhead": 0,
           "arrowwidth": 1
          },
          "autotypenumbers": "strict",
          "coloraxis": {
           "colorbar": {
            "outlinewidth": 0,
            "ticks": ""
           }
          },
          "colorscale": {
           "diverging": [
            [
             0,
             "#8e0152"
            ],
            [
             0.1,
             "#c51b7d"
            ],
            [
             0.2,
             "#de77ae"
            ],
            [
             0.3,
             "#f1b6da"
            ],
            [
             0.4,
             "#fde0ef"
            ],
            [
             0.5,
             "#f7f7f7"
            ],
            [
             0.6,
             "#e6f5d0"
            ],
            [
             0.7,
             "#b8e186"
            ],
            [
             0.8,
             "#7fbc41"
            ],
            [
             0.9,
             "#4d9221"
            ],
            [
             1,
             "#276419"
            ]
           ],
           "sequential": [
            [
             0,
             "#0d0887"
            ],
            [
             0.1111111111111111,
             "#46039f"
            ],
            [
             0.2222222222222222,
             "#7201a8"
            ],
            [
             0.3333333333333333,
             "#9c179e"
            ],
            [
             0.4444444444444444,
             "#bd3786"
            ],
            [
             0.5555555555555556,
             "#d8576b"
            ],
            [
             0.6666666666666666,
             "#ed7953"
            ],
            [
             0.7777777777777778,
             "#fb9f3a"
            ],
            [
             0.8888888888888888,
             "#fdca26"
            ],
            [
             1,
             "#f0f921"
            ]
           ],
           "sequentialminus": [
            [
             0,
             "#0d0887"
            ],
            [
             0.1111111111111111,
             "#46039f"
            ],
            [
             0.2222222222222222,
             "#7201a8"
            ],
            [
             0.3333333333333333,
             "#9c179e"
            ],
            [
             0.4444444444444444,
             "#bd3786"
            ],
            [
             0.5555555555555556,
             "#d8576b"
            ],
            [
             0.6666666666666666,
             "#ed7953"
            ],
            [
             0.7777777777777778,
             "#fb9f3a"
            ],
            [
             0.8888888888888888,
             "#fdca26"
            ],
            [
             1,
             "#f0f921"
            ]
           ]
          },
          "colorway": [
           "#636efa",
           "#EF553B",
           "#00cc96",
           "#ab63fa",
           "#FFA15A",
           "#19d3f3",
           "#FF6692",
           "#B6E880",
           "#FF97FF",
           "#FECB52"
          ],
          "font": {
           "color": "#2a3f5f"
          },
          "geo": {
           "bgcolor": "white",
           "lakecolor": "white",
           "landcolor": "#E5ECF6",
           "showlakes": true,
           "showland": true,
           "subunitcolor": "white"
          },
          "hoverlabel": {
           "align": "left"
          },
          "hovermode": "closest",
          "mapbox": {
           "style": "light"
          },
          "paper_bgcolor": "white",
          "plot_bgcolor": "#E5ECF6",
          "polar": {
           "angularaxis": {
            "gridcolor": "white",
            "linecolor": "white",
            "ticks": ""
           },
           "bgcolor": "#E5ECF6",
           "radialaxis": {
            "gridcolor": "white",
            "linecolor": "white",
            "ticks": ""
           }
          },
          "scene": {
           "xaxis": {
            "backgroundcolor": "#E5ECF6",
            "gridcolor": "white",
            "gridwidth": 2,
            "linecolor": "white",
            "showbackground": true,
            "ticks": "",
            "zerolinecolor": "white"
           },
           "yaxis": {
            "backgroundcolor": "#E5ECF6",
            "gridcolor": "white",
            "gridwidth": 2,
            "linecolor": "white",
            "showbackground": true,
            "ticks": "",
            "zerolinecolor": "white"
           },
           "zaxis": {
            "backgroundcolor": "#E5ECF6",
            "gridcolor": "white",
            "gridwidth": 2,
            "linecolor": "white",
            "showbackground": true,
            "ticks": "",
            "zerolinecolor": "white"
           }
          },
          "shapedefaults": {
           "line": {
            "color": "#2a3f5f"
           }
          },
          "ternary": {
           "aaxis": {
            "gridcolor": "white",
            "linecolor": "white",
            "ticks": ""
           },
           "baxis": {
            "gridcolor": "white",
            "linecolor": "white",
            "ticks": ""
           },
           "bgcolor": "#E5ECF6",
           "caxis": {
            "gridcolor": "white",
            "linecolor": "white",
            "ticks": ""
           }
          },
          "title": {
           "x": 0.05
          },
          "xaxis": {
           "automargin": true,
           "gridcolor": "white",
           "linecolor": "white",
           "ticks": "",
           "title": {
            "standoff": 15
           },
           "zerolinecolor": "white",
           "zerolinewidth": 2
          },
          "yaxis": {
           "automargin": true,
           "gridcolor": "white",
           "linecolor": "white",
           "ticks": "",
           "title": {
            "standoff": 15
           },
           "zerolinecolor": "white",
           "zerolinewidth": 2
          }
         }
        },
        "title": {
         "text": "Movie Directors from India with most content"
        }
       }
      },
      "text/html": [
       "<div>                            <div id=\"afff49d2-ec0d-4ea5-a7aa-de4083023baf\" class=\"plotly-graph-div\" style=\"height:525px; width:100%;\"></div>            <script type=\"text/javascript\">                require([\"plotly\"], function(Plotly) {                    window.PLOTLYENV=window.PLOTLYENV || {};                                    if (document.getElementById(\"afff49d2-ec0d-4ea5-a7aa-de4083023baf\")) {                    Plotly.newPlot(                        \"afff49d2-ec0d-4ea5-a7aa-de4083023baf\",                        [{\"marker\":{\"color\":\"#e50914\"},\"name\":\"TV Shows\",\"orientation\":\"h\",\"type\":\"bar\",\"x\":[6,6,6,6,6,6,6,6,7,8,9],\"y\":[\"Ashutosh Gowariker\",\"Sooraj R. Barjatya\",\"Imtiaz Ali\",\"Anees Bazmee\",\"Zoya Akhtar\",\"Karan Johar\",\"Rajkumar Santoshi\",\"Ram Gopal Varma\",\"Dibakar Banerjee\",\"Anurag Kashyap\",\"David Dhawan\"]}],                        {\"legend\":{\"orientation\":\"h\",\"x\":0.1,\"y\":1.1},\"template\":{\"data\":{\"bar\":[{\"error_x\":{\"color\":\"#2a3f5f\"},\"error_y\":{\"color\":\"#2a3f5f\"},\"marker\":{\"line\":{\"color\":\"#E5ECF6\",\"width\":0.5},\"pattern\":{\"fillmode\":\"overlay\",\"size\":10,\"solidity\":0.2}},\"type\":\"bar\"}],\"barpolar\":[{\"marker\":{\"line\":{\"color\":\"#E5ECF6\",\"width\":0.5},\"pattern\":{\"fillmode\":\"overlay\",\"size\":10,\"solidity\":0.2}},\"type\":\"barpolar\"}],\"carpet\":[{\"aaxis\":{\"endlinecolor\":\"#2a3f5f\",\"gridcolor\":\"white\",\"linecolor\":\"white\",\"minorgridcolor\":\"white\",\"startlinecolor\":\"#2a3f5f\"},\"baxis\":{\"endlinecolor\":\"#2a3f5f\",\"gridcolor\":\"white\",\"linecolor\":\"white\",\"minorgridcolor\":\"white\",\"startlinecolor\":\"#2a3f5f\"},\"type\":\"carpet\"}],\"choropleth\":[{\"colorbar\":{\"outlinewidth\":0,\"ticks\":\"\"},\"type\":\"choropleth\"}],\"contour\":[{\"colorbar\":{\"outlinewidth\":0,\"ticks\":\"\"},\"colorscale\":[[0.0,\"#0d0887\"],[0.1111111111111111,\"#46039f\"],[0.2222222222222222,\"#7201a8\"],[0.3333333333333333,\"#9c179e\"],[0.4444444444444444,\"#bd3786\"],[0.5555555555555556,\"#d8576b\"],[0.6666666666666666,\"#ed7953\"],[0.7777777777777778,\"#fb9f3a\"],[0.8888888888888888,\"#fdca26\"],[1.0,\"#f0f921\"]],\"type\":\"contour\"}],\"contourcarpet\":[{\"colorbar\":{\"outlinewidth\":0,\"ticks\":\"\"},\"type\":\"contourcarpet\"}],\"heatmap\":[{\"colorbar\":{\"outlinewidth\":0,\"ticks\":\"\"},\"colorscale\":[[0.0,\"#0d0887\"],[0.1111111111111111,\"#46039f\"],[0.2222222222222222,\"#7201a8\"],[0.3333333333333333,\"#9c179e\"],[0.4444444444444444,\"#bd3786\"],[0.5555555555555556,\"#d8576b\"],[0.6666666666666666,\"#ed7953\"],[0.7777777777777778,\"#fb9f3a\"],[0.8888888888888888,\"#fdca26\"],[1.0,\"#f0f921\"]],\"type\":\"heatmap\"}],\"heatmapgl\":[{\"colorbar\":{\"outlinewidth\":0,\"ticks\":\"\"},\"colorscale\":[[0.0,\"#0d0887\"],[0.1111111111111111,\"#46039f\"],[0.2222222222222222,\"#7201a8\"],[0.3333333333333333,\"#9c179e\"],[0.4444444444444444,\"#bd3786\"],[0.5555555555555556,\"#d8576b\"],[0.6666666666666666,\"#ed7953\"],[0.7777777777777778,\"#fb9f3a\"],[0.8888888888888888,\"#fdca26\"],[1.0,\"#f0f921\"]],\"type\":\"heatmapgl\"}],\"histogram\":[{\"marker\":{\"pattern\":{\"fillmode\":\"overlay\",\"size\":10,\"solidity\":0.2}},\"type\":\"histogram\"}],\"histogram2d\":[{\"colorbar\":{\"outlinewidth\":0,\"ticks\":\"\"},\"colorscale\":[[0.0,\"#0d0887\"],[0.1111111111111111,\"#46039f\"],[0.2222222222222222,\"#7201a8\"],[0.3333333333333333,\"#9c179e\"],[0.4444444444444444,\"#bd3786\"],[0.5555555555555556,\"#d8576b\"],[0.6666666666666666,\"#ed7953\"],[0.7777777777777778,\"#fb9f3a\"],[0.8888888888888888,\"#fdca26\"],[1.0,\"#f0f921\"]],\"type\":\"histogram2d\"}],\"histogram2dcontour\":[{\"colorbar\":{\"outlinewidth\":0,\"ticks\":\"\"},\"colorscale\":[[0.0,\"#0d0887\"],[0.1111111111111111,\"#46039f\"],[0.2222222222222222,\"#7201a8\"],[0.3333333333333333,\"#9c179e\"],[0.4444444444444444,\"#bd3786\"],[0.5555555555555556,\"#d8576b\"],[0.6666666666666666,\"#ed7953\"],[0.7777777777777778,\"#fb9f3a\"],[0.8888888888888888,\"#fdca26\"],[1.0,\"#f0f921\"]],\"type\":\"histogram2dcontour\"}],\"mesh3d\":[{\"colorbar\":{\"outlinewidth\":0,\"ticks\":\"\"},\"type\":\"mesh3d\"}],\"parcoords\":[{\"line\":{\"colorbar\":{\"outlinewidth\":0,\"ticks\":\"\"}},\"type\":\"parcoords\"}],\"pie\":[{\"automargin\":true,\"type\":\"pie\"}],\"scatter\":[{\"marker\":{\"colorbar\":{\"outlinewidth\":0,\"ticks\":\"\"}},\"type\":\"scatter\"}],\"scatter3d\":[{\"line\":{\"colorbar\":{\"outlinewidth\":0,\"ticks\":\"\"}},\"marker\":{\"colorbar\":{\"outlinewidth\":0,\"ticks\":\"\"}},\"type\":\"scatter3d\"}],\"scattercarpet\":[{\"marker\":{\"colorbar\":{\"outlinewidth\":0,\"ticks\":\"\"}},\"type\":\"scattercarpet\"}],\"scattergeo\":[{\"marker\":{\"colorbar\":{\"outlinewidth\":0,\"ticks\":\"\"}},\"type\":\"scattergeo\"}],\"scattergl\":[{\"marker\":{\"colorbar\":{\"outlinewidth\":0,\"ticks\":\"\"}},\"type\":\"scattergl\"}],\"scattermapbox\":[{\"marker\":{\"colorbar\":{\"outlinewidth\":0,\"ticks\":\"\"}},\"type\":\"scattermapbox\"}],\"scatterpolar\":[{\"marker\":{\"colorbar\":{\"outlinewidth\":0,\"ticks\":\"\"}},\"type\":\"scatterpolar\"}],\"scatterpolargl\":[{\"marker\":{\"colorbar\":{\"outlinewidth\":0,\"ticks\":\"\"}},\"type\":\"scatterpolargl\"}],\"scatterternary\":[{\"marker\":{\"colorbar\":{\"outlinewidth\":0,\"ticks\":\"\"}},\"type\":\"scatterternary\"}],\"surface\":[{\"colorbar\":{\"outlinewidth\":0,\"ticks\":\"\"},\"colorscale\":[[0.0,\"#0d0887\"],[0.1111111111111111,\"#46039f\"],[0.2222222222222222,\"#7201a8\"],[0.3333333333333333,\"#9c179e\"],[0.4444444444444444,\"#bd3786\"],[0.5555555555555556,\"#d8576b\"],[0.6666666666666666,\"#ed7953\"],[0.7777777777777778,\"#fb9f3a\"],[0.8888888888888888,\"#fdca26\"],[1.0,\"#f0f921\"]],\"type\":\"surface\"}],\"table\":[{\"cells\":{\"fill\":{\"color\":\"#EBF0F8\"},\"line\":{\"color\":\"white\"}},\"header\":{\"fill\":{\"color\":\"#C8D4E3\"},\"line\":{\"color\":\"white\"}},\"type\":\"table\"}]},\"layout\":{\"annotationdefaults\":{\"arrowcolor\":\"#2a3f5f\",\"arrowhead\":0,\"arrowwidth\":1},\"autotypenumbers\":\"strict\",\"coloraxis\":{\"colorbar\":{\"outlinewidth\":0,\"ticks\":\"\"}},\"colorscale\":{\"diverging\":[[0,\"#8e0152\"],[0.1,\"#c51b7d\"],[0.2,\"#de77ae\"],[0.3,\"#f1b6da\"],[0.4,\"#fde0ef\"],[0.5,\"#f7f7f7\"],[0.6,\"#e6f5d0\"],[0.7,\"#b8e186\"],[0.8,\"#7fbc41\"],[0.9,\"#4d9221\"],[1,\"#276419\"]],\"sequential\":[[0.0,\"#0d0887\"],[0.1111111111111111,\"#46039f\"],[0.2222222222222222,\"#7201a8\"],[0.3333333333333333,\"#9c179e\"],[0.4444444444444444,\"#bd3786\"],[0.5555555555555556,\"#d8576b\"],[0.6666666666666666,\"#ed7953\"],[0.7777777777777778,\"#fb9f3a\"],[0.8888888888888888,\"#fdca26\"],[1.0,\"#f0f921\"]],\"sequentialminus\":[[0.0,\"#0d0887\"],[0.1111111111111111,\"#46039f\"],[0.2222222222222222,\"#7201a8\"],[0.3333333333333333,\"#9c179e\"],[0.4444444444444444,\"#bd3786\"],[0.5555555555555556,\"#d8576b\"],[0.6666666666666666,\"#ed7953\"],[0.7777777777777778,\"#fb9f3a\"],[0.8888888888888888,\"#fdca26\"],[1.0,\"#f0f921\"]]},\"colorway\":[\"#636efa\",\"#EF553B\",\"#00cc96\",\"#ab63fa\",\"#FFA15A\",\"#19d3f3\",\"#FF6692\",\"#B6E880\",\"#FF97FF\",\"#FECB52\"],\"font\":{\"color\":\"#2a3f5f\"},\"geo\":{\"bgcolor\":\"white\",\"lakecolor\":\"white\",\"landcolor\":\"#E5ECF6\",\"showlakes\":true,\"showland\":true,\"subunitcolor\":\"white\"},\"hoverlabel\":{\"align\":\"left\"},\"hovermode\":\"closest\",\"mapbox\":{\"style\":\"light\"},\"paper_bgcolor\":\"white\",\"plot_bgcolor\":\"#E5ECF6\",\"polar\":{\"angularaxis\":{\"gridcolor\":\"white\",\"linecolor\":\"white\",\"ticks\":\"\"},\"bgcolor\":\"#E5ECF6\",\"radialaxis\":{\"gridcolor\":\"white\",\"linecolor\":\"white\",\"ticks\":\"\"}},\"scene\":{\"xaxis\":{\"backgroundcolor\":\"#E5ECF6\",\"gridcolor\":\"white\",\"gridwidth\":2,\"linecolor\":\"white\",\"showbackground\":true,\"ticks\":\"\",\"zerolinecolor\":\"white\"},\"yaxis\":{\"backgroundcolor\":\"#E5ECF6\",\"gridcolor\":\"white\",\"gridwidth\":2,\"linecolor\":\"white\",\"showbackground\":true,\"ticks\":\"\",\"zerolinecolor\":\"white\"},\"zaxis\":{\"backgroundcolor\":\"#E5ECF6\",\"gridcolor\":\"white\",\"gridwidth\":2,\"linecolor\":\"white\",\"showbackground\":true,\"ticks\":\"\",\"zerolinecolor\":\"white\"}},\"shapedefaults\":{\"line\":{\"color\":\"#2a3f5f\"}},\"ternary\":{\"aaxis\":{\"gridcolor\":\"white\",\"linecolor\":\"white\",\"ticks\":\"\"},\"baxis\":{\"gridcolor\":\"white\",\"linecolor\":\"white\",\"ticks\":\"\"},\"bgcolor\":\"#E5ECF6\",\"caxis\":{\"gridcolor\":\"white\",\"linecolor\":\"white\",\"ticks\":\"\"}},\"title\":{\"x\":0.05},\"xaxis\":{\"automargin\":true,\"gridcolor\":\"white\",\"linecolor\":\"white\",\"ticks\":\"\",\"title\":{\"standoff\":15},\"zerolinecolor\":\"white\",\"zerolinewidth\":2},\"yaxis\":{\"automargin\":true,\"gridcolor\":\"white\",\"linecolor\":\"white\",\"ticks\":\"\",\"title\":{\"standoff\":15},\"zerolinecolor\":\"white\",\"zerolinewidth\":2}}},\"title\":{\"text\":\"Movie Directors from India with most content\"}},                        {\"responsive\": true}                    ).then(function(){\n",
       "                            \n",
       "var gd = document.getElementById('afff49d2-ec0d-4ea5-a7aa-de4083023baf');\n",
       "var x = new MutationObserver(function (mutations, observer) {{\n",
       "        var display = window.getComputedStyle(gd).display;\n",
       "        if (!display || display === 'none') {{\n",
       "            console.log([gd, 'removed!']);\n",
       "            Plotly.purge(gd);\n",
       "            observer.disconnect();\n",
       "        }}\n",
       "}});\n",
       "\n",
       "// Listen for the removal of the full notebook cells\n",
       "var notebookContainer = gd.closest('#notebook-container');\n",
       "if (notebookContainer) {{\n",
       "    x.observe(notebookContainer, {childList: true});\n",
       "}}\n",
       "\n",
       "// Listen for the clearing of the current output cell\n",
       "var outputEl = gd.closest('.output');\n",
       "if (outputEl) {{\n",
       "    x.observe(outputEl, {childList: true});\n",
       "}}\n",
       "\n",
       "                        })                };                });            </script>        </div>"
      ]
     },
     "metadata": {}
    }
   ],
   "metadata": {}
  },
  {
   "cell_type": "code",
   "execution_count": 35,
   "source": [
    "small = df1[df1[\"type\"] == \"Movie\"]\r\n",
    "small = small[small[\"country\"] == \"United States\"]\r\n",
    "\r\n",
    "col = \"director\"\r\n",
    "categories = \", \".join(small[col].fillna(\"\")).split(\", \")\r\n",
    "counter_list = collections.Counter(categories).most_common(12)\r\n",
    "counter_list = [_ for _ in counter_list if _[0] != \"\"]\r\n",
    "labels = [_[0] for _ in counter_list][::-1]\r\n",
    "values = [_[1] for _ in counter_list][::-1]\r\n",
    "trace1 = go.Bar(y=labels, x=values, orientation=\"h\", name=\"TV Shows\", marker=dict(color=\"#b20710\"))\r\n",
    "\r\n",
    "data = [trace1]\r\n",
    "layout = go.Layout(title=\"Movie Directors from US with most content\", legend=dict(x=0.1, y=1.1, orientation=\"h\"))\r\n",
    "fig = go.Figure(data, layout=layout)\r\n",
    "fig.show()"
   ],
   "outputs": [
    {
     "output_type": "display_data",
     "data": {
      "application/vnd.plotly.v1+json": {
       "config": {
        "plotlyServerURL": "https://plot.ly"
       },
       "data": [
        {
         "marker": {
          "color": "#b20710"
         },
         "name": "TV Shows",
         "orientation": "h",
         "type": "bar",
         "x": [
          6,
          6,
          6,
          7,
          7,
          7,
          8,
          9,
          12,
          14,
          15
         ],
         "y": [
          "Vlad Yudin",
          "Troy Miller",
          "William Lau",
          "Leslie Small",
          "Lance Bangs",
          "Ryan Polito",
          "Martin Scorsese",
          "Shannon Hartman",
          "Jay Chapman",
          "Marcus Raboy",
          "Jay Karas"
         ]
        }
       ],
       "layout": {
        "legend": {
         "orientation": "h",
         "x": 0.1,
         "y": 1.1
        },
        "template": {
         "data": {
          "bar": [
           {
            "error_x": {
             "color": "#2a3f5f"
            },
            "error_y": {
             "color": "#2a3f5f"
            },
            "marker": {
             "line": {
              "color": "#E5ECF6",
              "width": 0.5
             },
             "pattern": {
              "fillmode": "overlay",
              "size": 10,
              "solidity": 0.2
             }
            },
            "type": "bar"
           }
          ],
          "barpolar": [
           {
            "marker": {
             "line": {
              "color": "#E5ECF6",
              "width": 0.5
             },
             "pattern": {
              "fillmode": "overlay",
              "size": 10,
              "solidity": 0.2
             }
            },
            "type": "barpolar"
           }
          ],
          "carpet": [
           {
            "aaxis": {
             "endlinecolor": "#2a3f5f",
             "gridcolor": "white",
             "linecolor": "white",
             "minorgridcolor": "white",
             "startlinecolor": "#2a3f5f"
            },
            "baxis": {
             "endlinecolor": "#2a3f5f",
             "gridcolor": "white",
             "linecolor": "white",
             "minorgridcolor": "white",
             "startlinecolor": "#2a3f5f"
            },
            "type": "carpet"
           }
          ],
          "choropleth": [
           {
            "colorbar": {
             "outlinewidth": 0,
             "ticks": ""
            },
            "type": "choropleth"
           }
          ],
          "contour": [
           {
            "colorbar": {
             "outlinewidth": 0,
             "ticks": ""
            },
            "colorscale": [
             [
              0,
              "#0d0887"
             ],
             [
              0.1111111111111111,
              "#46039f"
             ],
             [
              0.2222222222222222,
              "#7201a8"
             ],
             [
              0.3333333333333333,
              "#9c179e"
             ],
             [
              0.4444444444444444,
              "#bd3786"
             ],
             [
              0.5555555555555556,
              "#d8576b"
             ],
             [
              0.6666666666666666,
              "#ed7953"
             ],
             [
              0.7777777777777778,
              "#fb9f3a"
             ],
             [
              0.8888888888888888,
              "#fdca26"
             ],
             [
              1,
              "#f0f921"
             ]
            ],
            "type": "contour"
           }
          ],
          "contourcarpet": [
           {
            "colorbar": {
             "outlinewidth": 0,
             "ticks": ""
            },
            "type": "contourcarpet"
           }
          ],
          "heatmap": [
           {
            "colorbar": {
             "outlinewidth": 0,
             "ticks": ""
            },
            "colorscale": [
             [
              0,
              "#0d0887"
             ],
             [
              0.1111111111111111,
              "#46039f"
             ],
             [
              0.2222222222222222,
              "#7201a8"
             ],
             [
              0.3333333333333333,
              "#9c179e"
             ],
             [
              0.4444444444444444,
              "#bd3786"
             ],
             [
              0.5555555555555556,
              "#d8576b"
             ],
             [
              0.6666666666666666,
              "#ed7953"
             ],
             [
              0.7777777777777778,
              "#fb9f3a"
             ],
             [
              0.8888888888888888,
              "#fdca26"
             ],
             [
              1,
              "#f0f921"
             ]
            ],
            "type": "heatmap"
           }
          ],
          "heatmapgl": [
           {
            "colorbar": {
             "outlinewidth": 0,
             "ticks": ""
            },
            "colorscale": [
             [
              0,
              "#0d0887"
             ],
             [
              0.1111111111111111,
              "#46039f"
             ],
             [
              0.2222222222222222,
              "#7201a8"
             ],
             [
              0.3333333333333333,
              "#9c179e"
             ],
             [
              0.4444444444444444,
              "#bd3786"
             ],
             [
              0.5555555555555556,
              "#d8576b"
             ],
             [
              0.6666666666666666,
              "#ed7953"
             ],
             [
              0.7777777777777778,
              "#fb9f3a"
             ],
             [
              0.8888888888888888,
              "#fdca26"
             ],
             [
              1,
              "#f0f921"
             ]
            ],
            "type": "heatmapgl"
           }
          ],
          "histogram": [
           {
            "marker": {
             "pattern": {
              "fillmode": "overlay",
              "size": 10,
              "solidity": 0.2
             }
            },
            "type": "histogram"
           }
          ],
          "histogram2d": [
           {
            "colorbar": {
             "outlinewidth": 0,
             "ticks": ""
            },
            "colorscale": [
             [
              0,
              "#0d0887"
             ],
             [
              0.1111111111111111,
              "#46039f"
             ],
             [
              0.2222222222222222,
              "#7201a8"
             ],
             [
              0.3333333333333333,
              "#9c179e"
             ],
             [
              0.4444444444444444,
              "#bd3786"
             ],
             [
              0.5555555555555556,
              "#d8576b"
             ],
             [
              0.6666666666666666,
              "#ed7953"
             ],
             [
              0.7777777777777778,
              "#fb9f3a"
             ],
             [
              0.8888888888888888,
              "#fdca26"
             ],
             [
              1,
              "#f0f921"
             ]
            ],
            "type": "histogram2d"
           }
          ],
          "histogram2dcontour": [
           {
            "colorbar": {
             "outlinewidth": 0,
             "ticks": ""
            },
            "colorscale": [
             [
              0,
              "#0d0887"
             ],
             [
              0.1111111111111111,
              "#46039f"
             ],
             [
              0.2222222222222222,
              "#7201a8"
             ],
             [
              0.3333333333333333,
              "#9c179e"
             ],
             [
              0.4444444444444444,
              "#bd3786"
             ],
             [
              0.5555555555555556,
              "#d8576b"
             ],
             [
              0.6666666666666666,
              "#ed7953"
             ],
             [
              0.7777777777777778,
              "#fb9f3a"
             ],
             [
              0.8888888888888888,
              "#fdca26"
             ],
             [
              1,
              "#f0f921"
             ]
            ],
            "type": "histogram2dcontour"
           }
          ],
          "mesh3d": [
           {
            "colorbar": {
             "outlinewidth": 0,
             "ticks": ""
            },
            "type": "mesh3d"
           }
          ],
          "parcoords": [
           {
            "line": {
             "colorbar": {
              "outlinewidth": 0,
              "ticks": ""
             }
            },
            "type": "parcoords"
           }
          ],
          "pie": [
           {
            "automargin": true,
            "type": "pie"
           }
          ],
          "scatter": [
           {
            "marker": {
             "colorbar": {
              "outlinewidth": 0,
              "ticks": ""
             }
            },
            "type": "scatter"
           }
          ],
          "scatter3d": [
           {
            "line": {
             "colorbar": {
              "outlinewidth": 0,
              "ticks": ""
             }
            },
            "marker": {
             "colorbar": {
              "outlinewidth": 0,
              "ticks": ""
             }
            },
            "type": "scatter3d"
           }
          ],
          "scattercarpet": [
           {
            "marker": {
             "colorbar": {
              "outlinewidth": 0,
              "ticks": ""
             }
            },
            "type": "scattercarpet"
           }
          ],
          "scattergeo": [
           {
            "marker": {
             "colorbar": {
              "outlinewidth": 0,
              "ticks": ""
             }
            },
            "type": "scattergeo"
           }
          ],
          "scattergl": [
           {
            "marker": {
             "colorbar": {
              "outlinewidth": 0,
              "ticks": ""
             }
            },
            "type": "scattergl"
           }
          ],
          "scattermapbox": [
           {
            "marker": {
             "colorbar": {
              "outlinewidth": 0,
              "ticks": ""
             }
            },
            "type": "scattermapbox"
           }
          ],
          "scatterpolar": [
           {
            "marker": {
             "colorbar": {
              "outlinewidth": 0,
              "ticks": ""
             }
            },
            "type": "scatterpolar"
           }
          ],
          "scatterpolargl": [
           {
            "marker": {
             "colorbar": {
              "outlinewidth": 0,
              "ticks": ""
             }
            },
            "type": "scatterpolargl"
           }
          ],
          "scatterternary": [
           {
            "marker": {
             "colorbar": {
              "outlinewidth": 0,
              "ticks": ""
             }
            },
            "type": "scatterternary"
           }
          ],
          "surface": [
           {
            "colorbar": {
             "outlinewidth": 0,
             "ticks": ""
            },
            "colorscale": [
             [
              0,
              "#0d0887"
             ],
             [
              0.1111111111111111,
              "#46039f"
             ],
             [
              0.2222222222222222,
              "#7201a8"
             ],
             [
              0.3333333333333333,
              "#9c179e"
             ],
             [
              0.4444444444444444,
              "#bd3786"
             ],
             [
              0.5555555555555556,
              "#d8576b"
             ],
             [
              0.6666666666666666,
              "#ed7953"
             ],
             [
              0.7777777777777778,
              "#fb9f3a"
             ],
             [
              0.8888888888888888,
              "#fdca26"
             ],
             [
              1,
              "#f0f921"
             ]
            ],
            "type": "surface"
           }
          ],
          "table": [
           {
            "cells": {
             "fill": {
              "color": "#EBF0F8"
             },
             "line": {
              "color": "white"
             }
            },
            "header": {
             "fill": {
              "color": "#C8D4E3"
             },
             "line": {
              "color": "white"
             }
            },
            "type": "table"
           }
          ]
         },
         "layout": {
          "annotationdefaults": {
           "arrowcolor": "#2a3f5f",
           "arrowhead": 0,
           "arrowwidth": 1
          },
          "autotypenumbers": "strict",
          "coloraxis": {
           "colorbar": {
            "outlinewidth": 0,
            "ticks": ""
           }
          },
          "colorscale": {
           "diverging": [
            [
             0,
             "#8e0152"
            ],
            [
             0.1,
             "#c51b7d"
            ],
            [
             0.2,
             "#de77ae"
            ],
            [
             0.3,
             "#f1b6da"
            ],
            [
             0.4,
             "#fde0ef"
            ],
            [
             0.5,
             "#f7f7f7"
            ],
            [
             0.6,
             "#e6f5d0"
            ],
            [
             0.7,
             "#b8e186"
            ],
            [
             0.8,
             "#7fbc41"
            ],
            [
             0.9,
             "#4d9221"
            ],
            [
             1,
             "#276419"
            ]
           ],
           "sequential": [
            [
             0,
             "#0d0887"
            ],
            [
             0.1111111111111111,
             "#46039f"
            ],
            [
             0.2222222222222222,
             "#7201a8"
            ],
            [
             0.3333333333333333,
             "#9c179e"
            ],
            [
             0.4444444444444444,
             "#bd3786"
            ],
            [
             0.5555555555555556,
             "#d8576b"
            ],
            [
             0.6666666666666666,
             "#ed7953"
            ],
            [
             0.7777777777777778,
             "#fb9f3a"
            ],
            [
             0.8888888888888888,
             "#fdca26"
            ],
            [
             1,
             "#f0f921"
            ]
           ],
           "sequentialminus": [
            [
             0,
             "#0d0887"
            ],
            [
             0.1111111111111111,
             "#46039f"
            ],
            [
             0.2222222222222222,
             "#7201a8"
            ],
            [
             0.3333333333333333,
             "#9c179e"
            ],
            [
             0.4444444444444444,
             "#bd3786"
            ],
            [
             0.5555555555555556,
             "#d8576b"
            ],
            [
             0.6666666666666666,
             "#ed7953"
            ],
            [
             0.7777777777777778,
             "#fb9f3a"
            ],
            [
             0.8888888888888888,
             "#fdca26"
            ],
            [
             1,
             "#f0f921"
            ]
           ]
          },
          "colorway": [
           "#636efa",
           "#EF553B",
           "#00cc96",
           "#ab63fa",
           "#FFA15A",
           "#19d3f3",
           "#FF6692",
           "#B6E880",
           "#FF97FF",
           "#FECB52"
          ],
          "font": {
           "color": "#2a3f5f"
          },
          "geo": {
           "bgcolor": "white",
           "lakecolor": "white",
           "landcolor": "#E5ECF6",
           "showlakes": true,
           "showland": true,
           "subunitcolor": "white"
          },
          "hoverlabel": {
           "align": "left"
          },
          "hovermode": "closest",
          "mapbox": {
           "style": "light"
          },
          "paper_bgcolor": "white",
          "plot_bgcolor": "#E5ECF6",
          "polar": {
           "angularaxis": {
            "gridcolor": "white",
            "linecolor": "white",
            "ticks": ""
           },
           "bgcolor": "#E5ECF6",
           "radialaxis": {
            "gridcolor": "white",
            "linecolor": "white",
            "ticks": ""
           }
          },
          "scene": {
           "xaxis": {
            "backgroundcolor": "#E5ECF6",
            "gridcolor": "white",
            "gridwidth": 2,
            "linecolor": "white",
            "showbackground": true,
            "ticks": "",
            "zerolinecolor": "white"
           },
           "yaxis": {
            "backgroundcolor": "#E5ECF6",
            "gridcolor": "white",
            "gridwidth": 2,
            "linecolor": "white",
            "showbackground": true,
            "ticks": "",
            "zerolinecolor": "white"
           },
           "zaxis": {
            "backgroundcolor": "#E5ECF6",
            "gridcolor": "white",
            "gridwidth": 2,
            "linecolor": "white",
            "showbackground": true,
            "ticks": "",
            "zerolinecolor": "white"
           }
          },
          "shapedefaults": {
           "line": {
            "color": "#2a3f5f"
           }
          },
          "ternary": {
           "aaxis": {
            "gridcolor": "white",
            "linecolor": "white",
            "ticks": ""
           },
           "baxis": {
            "gridcolor": "white",
            "linecolor": "white",
            "ticks": ""
           },
           "bgcolor": "#E5ECF6",
           "caxis": {
            "gridcolor": "white",
            "linecolor": "white",
            "ticks": ""
           }
          },
          "title": {
           "x": 0.05
          },
          "xaxis": {
           "automargin": true,
           "gridcolor": "white",
           "linecolor": "white",
           "ticks": "",
           "title": {
            "standoff": 15
           },
           "zerolinecolor": "white",
           "zerolinewidth": 2
          },
          "yaxis": {
           "automargin": true,
           "gridcolor": "white",
           "linecolor": "white",
           "ticks": "",
           "title": {
            "standoff": 15
           },
           "zerolinecolor": "white",
           "zerolinewidth": 2
          }
         }
        },
        "title": {
         "text": "Movie Directors from US with most content"
        }
       }
      },
      "text/html": [
       "<div>                            <div id=\"d92240d7-e070-4591-adfd-2679a0c761fd\" class=\"plotly-graph-div\" style=\"height:525px; width:100%;\"></div>            <script type=\"text/javascript\">                require([\"plotly\"], function(Plotly) {                    window.PLOTLYENV=window.PLOTLYENV || {};                                    if (document.getElementById(\"d92240d7-e070-4591-adfd-2679a0c761fd\")) {                    Plotly.newPlot(                        \"d92240d7-e070-4591-adfd-2679a0c761fd\",                        [{\"marker\":{\"color\":\"#b20710\"},\"name\":\"TV Shows\",\"orientation\":\"h\",\"type\":\"bar\",\"x\":[6,6,6,7,7,7,8,9,12,14,15],\"y\":[\"Vlad Yudin\",\"Troy Miller\",\"William Lau\",\"Leslie Small\",\"Lance Bangs\",\"Ryan Polito\",\"Martin Scorsese\",\"Shannon Hartman\",\"Jay Chapman\",\"Marcus Raboy\",\"Jay Karas\"]}],                        {\"legend\":{\"orientation\":\"h\",\"x\":0.1,\"y\":1.1},\"template\":{\"data\":{\"bar\":[{\"error_x\":{\"color\":\"#2a3f5f\"},\"error_y\":{\"color\":\"#2a3f5f\"},\"marker\":{\"line\":{\"color\":\"#E5ECF6\",\"width\":0.5},\"pattern\":{\"fillmode\":\"overlay\",\"size\":10,\"solidity\":0.2}},\"type\":\"bar\"}],\"barpolar\":[{\"marker\":{\"line\":{\"color\":\"#E5ECF6\",\"width\":0.5},\"pattern\":{\"fillmode\":\"overlay\",\"size\":10,\"solidity\":0.2}},\"type\":\"barpolar\"}],\"carpet\":[{\"aaxis\":{\"endlinecolor\":\"#2a3f5f\",\"gridcolor\":\"white\",\"linecolor\":\"white\",\"minorgridcolor\":\"white\",\"startlinecolor\":\"#2a3f5f\"},\"baxis\":{\"endlinecolor\":\"#2a3f5f\",\"gridcolor\":\"white\",\"linecolor\":\"white\",\"minorgridcolor\":\"white\",\"startlinecolor\":\"#2a3f5f\"},\"type\":\"carpet\"}],\"choropleth\":[{\"colorbar\":{\"outlinewidth\":0,\"ticks\":\"\"},\"type\":\"choropleth\"}],\"contour\":[{\"colorbar\":{\"outlinewidth\":0,\"ticks\":\"\"},\"colorscale\":[[0.0,\"#0d0887\"],[0.1111111111111111,\"#46039f\"],[0.2222222222222222,\"#7201a8\"],[0.3333333333333333,\"#9c179e\"],[0.4444444444444444,\"#bd3786\"],[0.5555555555555556,\"#d8576b\"],[0.6666666666666666,\"#ed7953\"],[0.7777777777777778,\"#fb9f3a\"],[0.8888888888888888,\"#fdca26\"],[1.0,\"#f0f921\"]],\"type\":\"contour\"}],\"contourcarpet\":[{\"colorbar\":{\"outlinewidth\":0,\"ticks\":\"\"},\"type\":\"contourcarpet\"}],\"heatmap\":[{\"colorbar\":{\"outlinewidth\":0,\"ticks\":\"\"},\"colorscale\":[[0.0,\"#0d0887\"],[0.1111111111111111,\"#46039f\"],[0.2222222222222222,\"#7201a8\"],[0.3333333333333333,\"#9c179e\"],[0.4444444444444444,\"#bd3786\"],[0.5555555555555556,\"#d8576b\"],[0.6666666666666666,\"#ed7953\"],[0.7777777777777778,\"#fb9f3a\"],[0.8888888888888888,\"#fdca26\"],[1.0,\"#f0f921\"]],\"type\":\"heatmap\"}],\"heatmapgl\":[{\"colorbar\":{\"outlinewidth\":0,\"ticks\":\"\"},\"colorscale\":[[0.0,\"#0d0887\"],[0.1111111111111111,\"#46039f\"],[0.2222222222222222,\"#7201a8\"],[0.3333333333333333,\"#9c179e\"],[0.4444444444444444,\"#bd3786\"],[0.5555555555555556,\"#d8576b\"],[0.6666666666666666,\"#ed7953\"],[0.7777777777777778,\"#fb9f3a\"],[0.8888888888888888,\"#fdca26\"],[1.0,\"#f0f921\"]],\"type\":\"heatmapgl\"}],\"histogram\":[{\"marker\":{\"pattern\":{\"fillmode\":\"overlay\",\"size\":10,\"solidity\":0.2}},\"type\":\"histogram\"}],\"histogram2d\":[{\"colorbar\":{\"outlinewidth\":0,\"ticks\":\"\"},\"colorscale\":[[0.0,\"#0d0887\"],[0.1111111111111111,\"#46039f\"],[0.2222222222222222,\"#7201a8\"],[0.3333333333333333,\"#9c179e\"],[0.4444444444444444,\"#bd3786\"],[0.5555555555555556,\"#d8576b\"],[0.6666666666666666,\"#ed7953\"],[0.7777777777777778,\"#fb9f3a\"],[0.8888888888888888,\"#fdca26\"],[1.0,\"#f0f921\"]],\"type\":\"histogram2d\"}],\"histogram2dcontour\":[{\"colorbar\":{\"outlinewidth\":0,\"ticks\":\"\"},\"colorscale\":[[0.0,\"#0d0887\"],[0.1111111111111111,\"#46039f\"],[0.2222222222222222,\"#7201a8\"],[0.3333333333333333,\"#9c179e\"],[0.4444444444444444,\"#bd3786\"],[0.5555555555555556,\"#d8576b\"],[0.6666666666666666,\"#ed7953\"],[0.7777777777777778,\"#fb9f3a\"],[0.8888888888888888,\"#fdca26\"],[1.0,\"#f0f921\"]],\"type\":\"histogram2dcontour\"}],\"mesh3d\":[{\"colorbar\":{\"outlinewidth\":0,\"ticks\":\"\"},\"type\":\"mesh3d\"}],\"parcoords\":[{\"line\":{\"colorbar\":{\"outlinewidth\":0,\"ticks\":\"\"}},\"type\":\"parcoords\"}],\"pie\":[{\"automargin\":true,\"type\":\"pie\"}],\"scatter\":[{\"marker\":{\"colorbar\":{\"outlinewidth\":0,\"ticks\":\"\"}},\"type\":\"scatter\"}],\"scatter3d\":[{\"line\":{\"colorbar\":{\"outlinewidth\":0,\"ticks\":\"\"}},\"marker\":{\"colorbar\":{\"outlinewidth\":0,\"ticks\":\"\"}},\"type\":\"scatter3d\"}],\"scattercarpet\":[{\"marker\":{\"colorbar\":{\"outlinewidth\":0,\"ticks\":\"\"}},\"type\":\"scattercarpet\"}],\"scattergeo\":[{\"marker\":{\"colorbar\":{\"outlinewidth\":0,\"ticks\":\"\"}},\"type\":\"scattergeo\"}],\"scattergl\":[{\"marker\":{\"colorbar\":{\"outlinewidth\":0,\"ticks\":\"\"}},\"type\":\"scattergl\"}],\"scattermapbox\":[{\"marker\":{\"colorbar\":{\"outlinewidth\":0,\"ticks\":\"\"}},\"type\":\"scattermapbox\"}],\"scatterpolar\":[{\"marker\":{\"colorbar\":{\"outlinewidth\":0,\"ticks\":\"\"}},\"type\":\"scatterpolar\"}],\"scatterpolargl\":[{\"marker\":{\"colorbar\":{\"outlinewidth\":0,\"ticks\":\"\"}},\"type\":\"scatterpolargl\"}],\"scatterternary\":[{\"marker\":{\"colorbar\":{\"outlinewidth\":0,\"ticks\":\"\"}},\"type\":\"scatterternary\"}],\"surface\":[{\"colorbar\":{\"outlinewidth\":0,\"ticks\":\"\"},\"colorscale\":[[0.0,\"#0d0887\"],[0.1111111111111111,\"#46039f\"],[0.2222222222222222,\"#7201a8\"],[0.3333333333333333,\"#9c179e\"],[0.4444444444444444,\"#bd3786\"],[0.5555555555555556,\"#d8576b\"],[0.6666666666666666,\"#ed7953\"],[0.7777777777777778,\"#fb9f3a\"],[0.8888888888888888,\"#fdca26\"],[1.0,\"#f0f921\"]],\"type\":\"surface\"}],\"table\":[{\"cells\":{\"fill\":{\"color\":\"#EBF0F8\"},\"line\":{\"color\":\"white\"}},\"header\":{\"fill\":{\"color\":\"#C8D4E3\"},\"line\":{\"color\":\"white\"}},\"type\":\"table\"}]},\"layout\":{\"annotationdefaults\":{\"arrowcolor\":\"#2a3f5f\",\"arrowhead\":0,\"arrowwidth\":1},\"autotypenumbers\":\"strict\",\"coloraxis\":{\"colorbar\":{\"outlinewidth\":0,\"ticks\":\"\"}},\"colorscale\":{\"diverging\":[[0,\"#8e0152\"],[0.1,\"#c51b7d\"],[0.2,\"#de77ae\"],[0.3,\"#f1b6da\"],[0.4,\"#fde0ef\"],[0.5,\"#f7f7f7\"],[0.6,\"#e6f5d0\"],[0.7,\"#b8e186\"],[0.8,\"#7fbc41\"],[0.9,\"#4d9221\"],[1,\"#276419\"]],\"sequential\":[[0.0,\"#0d0887\"],[0.1111111111111111,\"#46039f\"],[0.2222222222222222,\"#7201a8\"],[0.3333333333333333,\"#9c179e\"],[0.4444444444444444,\"#bd3786\"],[0.5555555555555556,\"#d8576b\"],[0.6666666666666666,\"#ed7953\"],[0.7777777777777778,\"#fb9f3a\"],[0.8888888888888888,\"#fdca26\"],[1.0,\"#f0f921\"]],\"sequentialminus\":[[0.0,\"#0d0887\"],[0.1111111111111111,\"#46039f\"],[0.2222222222222222,\"#7201a8\"],[0.3333333333333333,\"#9c179e\"],[0.4444444444444444,\"#bd3786\"],[0.5555555555555556,\"#d8576b\"],[0.6666666666666666,\"#ed7953\"],[0.7777777777777778,\"#fb9f3a\"],[0.8888888888888888,\"#fdca26\"],[1.0,\"#f0f921\"]]},\"colorway\":[\"#636efa\",\"#EF553B\",\"#00cc96\",\"#ab63fa\",\"#FFA15A\",\"#19d3f3\",\"#FF6692\",\"#B6E880\",\"#FF97FF\",\"#FECB52\"],\"font\":{\"color\":\"#2a3f5f\"},\"geo\":{\"bgcolor\":\"white\",\"lakecolor\":\"white\",\"landcolor\":\"#E5ECF6\",\"showlakes\":true,\"showland\":true,\"subunitcolor\":\"white\"},\"hoverlabel\":{\"align\":\"left\"},\"hovermode\":\"closest\",\"mapbox\":{\"style\":\"light\"},\"paper_bgcolor\":\"white\",\"plot_bgcolor\":\"#E5ECF6\",\"polar\":{\"angularaxis\":{\"gridcolor\":\"white\",\"linecolor\":\"white\",\"ticks\":\"\"},\"bgcolor\":\"#E5ECF6\",\"radialaxis\":{\"gridcolor\":\"white\",\"linecolor\":\"white\",\"ticks\":\"\"}},\"scene\":{\"xaxis\":{\"backgroundcolor\":\"#E5ECF6\",\"gridcolor\":\"white\",\"gridwidth\":2,\"linecolor\":\"white\",\"showbackground\":true,\"ticks\":\"\",\"zerolinecolor\":\"white\"},\"yaxis\":{\"backgroundcolor\":\"#E5ECF6\",\"gridcolor\":\"white\",\"gridwidth\":2,\"linecolor\":\"white\",\"showbackground\":true,\"ticks\":\"\",\"zerolinecolor\":\"white\"},\"zaxis\":{\"backgroundcolor\":\"#E5ECF6\",\"gridcolor\":\"white\",\"gridwidth\":2,\"linecolor\":\"white\",\"showbackground\":true,\"ticks\":\"\",\"zerolinecolor\":\"white\"}},\"shapedefaults\":{\"line\":{\"color\":\"#2a3f5f\"}},\"ternary\":{\"aaxis\":{\"gridcolor\":\"white\",\"linecolor\":\"white\",\"ticks\":\"\"},\"baxis\":{\"gridcolor\":\"white\",\"linecolor\":\"white\",\"ticks\":\"\"},\"bgcolor\":\"#E5ECF6\",\"caxis\":{\"gridcolor\":\"white\",\"linecolor\":\"white\",\"ticks\":\"\"}},\"title\":{\"x\":0.05},\"xaxis\":{\"automargin\":true,\"gridcolor\":\"white\",\"linecolor\":\"white\",\"ticks\":\"\",\"title\":{\"standoff\":15},\"zerolinecolor\":\"white\",\"zerolinewidth\":2},\"yaxis\":{\"automargin\":true,\"gridcolor\":\"white\",\"linecolor\":\"white\",\"ticks\":\"\",\"title\":{\"standoff\":15},\"zerolinecolor\":\"white\",\"zerolinewidth\":2}}},\"title\":{\"text\":\"Movie Directors from US with most content\"}},                        {\"responsive\": true}                    ).then(function(){\n",
       "                            \n",
       "var gd = document.getElementById('d92240d7-e070-4591-adfd-2679a0c761fd');\n",
       "var x = new MutationObserver(function (mutations, observer) {{\n",
       "        var display = window.getComputedStyle(gd).display;\n",
       "        if (!display || display === 'none') {{\n",
       "            console.log([gd, 'removed!']);\n",
       "            Plotly.purge(gd);\n",
       "            observer.disconnect();\n",
       "        }}\n",
       "}});\n",
       "\n",
       "// Listen for the removal of the full notebook cells\n",
       "var notebookContainer = gd.closest('#notebook-container');\n",
       "if (notebookContainer) {{\n",
       "    x.observe(notebookContainer, {childList: true});\n",
       "}}\n",
       "\n",
       "// Listen for the clearing of the current output cell\n",
       "var outputEl = gd.closest('.output');\n",
       "if (outputEl) {{\n",
       "    x.observe(outputEl, {childList: true});\n",
       "}}\n",
       "\n",
       "                        })                };                });            </script>        </div>"
      ]
     },
     "metadata": {}
    }
   ],
   "metadata": {}
  },
  {
   "cell_type": "code",
   "execution_count": 36,
   "source": [
    "def stand_up(country):\r\n",
    "    tag = \"Stand-Up Comedy\"\r\n",
    "    df[\"relevant\"] = df['listed_in'].fillna(\"\").apply(lambda x : 1 if tag.lower() in x.lower() else 0)\r\n",
    "    small = df[df[\"relevant\"] == 1]\r\n",
    "    name=small[small[\"country\"] == country][[\"title\", \"country\",\"release_year\"]].head(10)\r\n",
    "    return name"
   ],
   "outputs": [],
   "metadata": {}
  },
  {
   "cell_type": "code",
   "execution_count": 37,
   "source": [
    "stand_up(\"United States\")"
   ],
   "outputs": [
    {
     "output_type": "execute_result",
     "data": {
      "text/html": [
       "<div>\n",
       "<style scoped>\n",
       "    .dataframe tbody tr th:only-of-type {\n",
       "        vertical-align: middle;\n",
       "    }\n",
       "\n",
       "    .dataframe tbody tr th {\n",
       "        vertical-align: top;\n",
       "    }\n",
       "\n",
       "    .dataframe thead th {\n",
       "        text-align: right;\n",
       "    }\n",
       "</style>\n",
       "<table border=\"1\" class=\"dataframe\">\n",
       "  <thead>\n",
       "    <tr style=\"text-align: right;\">\n",
       "      <th></th>\n",
       "      <th>title</th>\n",
       "      <th>country</th>\n",
       "      <th>release_year</th>\n",
       "    </tr>\n",
       "  </thead>\n",
       "  <tbody>\n",
       "    <tr>\n",
       "      <th>197</th>\n",
       "      <td>A Little Help with Carol Burnett</td>\n",
       "      <td>United States</td>\n",
       "      <td>2018</td>\n",
       "    </tr>\n",
       "    <tr>\n",
       "      <th>305</th>\n",
       "      <td>Adam Devine: Best Time of Our Lives</td>\n",
       "      <td>United States</td>\n",
       "      <td>2019</td>\n",
       "    </tr>\n",
       "    <tr>\n",
       "      <th>307</th>\n",
       "      <td>ADAM SANDLER 100% FRESH</td>\n",
       "      <td>United States</td>\n",
       "      <td>2018</td>\n",
       "    </tr>\n",
       "    <tr>\n",
       "      <th>310</th>\n",
       "      <td>Adel Karam: Live from Beirut</td>\n",
       "      <td>United States</td>\n",
       "      <td>2018</td>\n",
       "    </tr>\n",
       "    <tr>\n",
       "      <th>386</th>\n",
       "      <td>Ali Wong: Baby Cobra</td>\n",
       "      <td>United States</td>\n",
       "      <td>2016</td>\n",
       "    </tr>\n",
       "    <tr>\n",
       "      <th>387</th>\n",
       "      <td>Ali Wong: Hard Knock Wife</td>\n",
       "      <td>United States</td>\n",
       "      <td>2018</td>\n",
       "    </tr>\n",
       "    <tr>\n",
       "      <th>482</th>\n",
       "      <td>Amy Schumer Growing</td>\n",
       "      <td>United States</td>\n",
       "      <td>2019</td>\n",
       "    </tr>\n",
       "    <tr>\n",
       "      <th>483</th>\n",
       "      <td>Amy Schumer: The Leather Special</td>\n",
       "      <td>United States</td>\n",
       "      <td>2017</td>\n",
       "    </tr>\n",
       "    <tr>\n",
       "      <th>535</th>\n",
       "      <td>Anjelah Johnson: Not Fancy</td>\n",
       "      <td>United States</td>\n",
       "      <td>2015</td>\n",
       "    </tr>\n",
       "    <tr>\n",
       "      <th>550</th>\n",
       "      <td>Anthony Jeselnik: Fire in the Maternity Ward</td>\n",
       "      <td>United States</td>\n",
       "      <td>2019</td>\n",
       "    </tr>\n",
       "  </tbody>\n",
       "</table>\n",
       "</div>"
      ],
      "text/plain": [
       "                                            title        country  release_year\n",
       "197              A Little Help with Carol Burnett  United States          2018\n",
       "305           Adam Devine: Best Time of Our Lives  United States          2019\n",
       "307                       ADAM SANDLER 100% FRESH  United States          2018\n",
       "310                  Adel Karam: Live from Beirut  United States          2018\n",
       "386                          Ali Wong: Baby Cobra  United States          2016\n",
       "387                     Ali Wong: Hard Knock Wife  United States          2018\n",
       "482                           Amy Schumer Growing  United States          2019\n",
       "483              Amy Schumer: The Leather Special  United States          2017\n",
       "535                    Anjelah Johnson: Not Fancy  United States          2015\n",
       "550  Anthony Jeselnik: Fire in the Maternity Ward  United States          2019"
      ]
     },
     "metadata": {},
     "execution_count": 37
    }
   ],
   "metadata": {}
  },
  {
   "cell_type": "code",
   "execution_count": 38,
   "source": [
    "stand_up(\"India\")"
   ],
   "outputs": [
    {
     "output_type": "execute_result",
     "data": {
      "text/html": [
       "<div>\n",
       "<style scoped>\n",
       "    .dataframe tbody tr th:only-of-type {\n",
       "        vertical-align: middle;\n",
       "    }\n",
       "\n",
       "    .dataframe tbody tr th {\n",
       "        vertical-align: top;\n",
       "    }\n",
       "\n",
       "    .dataframe thead th {\n",
       "        text-align: right;\n",
       "    }\n",
       "</style>\n",
       "<table border=\"1\" class=\"dataframe\">\n",
       "  <thead>\n",
       "    <tr style=\"text-align: right;\">\n",
       "      <th></th>\n",
       "      <th>title</th>\n",
       "      <th>country</th>\n",
       "      <th>release_year</th>\n",
       "    </tr>\n",
       "  </thead>\n",
       "  <tbody>\n",
       "    <tr>\n",
       "      <th>312</th>\n",
       "      <td>Aditi Mittal: Things They Wouldn't Let Me Say</td>\n",
       "      <td>India</td>\n",
       "      <td>2017</td>\n",
       "    </tr>\n",
       "    <tr>\n",
       "      <th>477</th>\n",
       "      <td>Amit Tandon: Family Tandoncies</td>\n",
       "      <td>India</td>\n",
       "      <td>2019</td>\n",
       "    </tr>\n",
       "    <tr>\n",
       "      <th>2350</th>\n",
       "      <td>Gangs of Hassepur</td>\n",
       "      <td>India</td>\n",
       "      <td>2014</td>\n",
       "    </tr>\n",
       "    <tr>\n",
       "      <th>3339</th>\n",
       "      <td>Kenny Sebastian: The Most Interesting Person i...</td>\n",
       "      <td>India</td>\n",
       "      <td>2020</td>\n",
       "    </tr>\n",
       "    <tr>\n",
       "      <th>3511</th>\n",
       "      <td>Ladies Up</td>\n",
       "      <td>India</td>\n",
       "      <td>2019</td>\n",
       "    </tr>\n",
       "    <tr>\n",
       "      <th>4079</th>\n",
       "      <td>Midnight Misadventures With Mallika Dua</td>\n",
       "      <td>India</td>\n",
       "      <td>2018</td>\n",
       "    </tr>\n",
       "    <tr>\n",
       "      <th>7427</th>\n",
       "      <td>Vir Das: For India</td>\n",
       "      <td>India</td>\n",
       "      <td>2020</td>\n",
       "    </tr>\n",
       "    <tr>\n",
       "      <th>7429</th>\n",
       "      <td>Vir Das: Outside In - The Lockdown Special</td>\n",
       "      <td>India</td>\n",
       "      <td>2020</td>\n",
       "    </tr>\n",
       "    <tr>\n",
       "      <th>7744</th>\n",
       "      <td>Yours Sincerely, Kanan Gill</td>\n",
       "      <td>India</td>\n",
       "      <td>2020</td>\n",
       "    </tr>\n",
       "  </tbody>\n",
       "</table>\n",
       "</div>"
      ],
      "text/plain": [
       "                                                  title country  release_year\n",
       "312       Aditi Mittal: Things They Wouldn't Let Me Say   India          2017\n",
       "477                      Amit Tandon: Family Tandoncies   India          2019\n",
       "2350                                  Gangs of Hassepur   India          2014\n",
       "3339  Kenny Sebastian: The Most Interesting Person i...   India          2020\n",
       "3511                                          Ladies Up   India          2019\n",
       "4079            Midnight Misadventures With Mallika Dua   India          2018\n",
       "7427                                 Vir Das: For India   India          2020\n",
       "7429         Vir Das: Outside In - The Lockdown Special   India          2020\n",
       "7744                        Yours Sincerely, Kanan Gill   India          2020"
      ]
     },
     "metadata": {},
     "execution_count": 38
    }
   ],
   "metadata": {}
  },
  {
   "cell_type": "code",
   "execution_count": 39,
   "source": [
    "stand_up(\"United Kingdom\")"
   ],
   "outputs": [
    {
     "output_type": "execute_result",
     "data": {
      "text/html": [
       "<div>\n",
       "<style scoped>\n",
       "    .dataframe tbody tr th:only-of-type {\n",
       "        vertical-align: middle;\n",
       "    }\n",
       "\n",
       "    .dataframe tbody tr th {\n",
       "        vertical-align: top;\n",
       "    }\n",
       "\n",
       "    .dataframe thead th {\n",
       "        text-align: right;\n",
       "    }\n",
       "</style>\n",
       "<table border=\"1\" class=\"dataframe\">\n",
       "  <thead>\n",
       "    <tr style=\"text-align: right;\">\n",
       "      <th></th>\n",
       "      <th>title</th>\n",
       "      <th>country</th>\n",
       "      <th>release_year</th>\n",
       "    </tr>\n",
       "  </thead>\n",
       "  <tbody>\n",
       "    <tr>\n",
       "      <th>919</th>\n",
       "      <td>Bill Hicks: One Night Stand</td>\n",
       "      <td>United Kingdom</td>\n",
       "      <td>1991</td>\n",
       "    </tr>\n",
       "    <tr>\n",
       "      <th>921</th>\n",
       "      <td>Bill Hicks: Relentless</td>\n",
       "      <td>United Kingdom</td>\n",
       "      <td>1992</td>\n",
       "    </tr>\n",
       "    <tr>\n",
       "      <th>922</th>\n",
       "      <td>Bill Hicks: Revelations</td>\n",
       "      <td>United Kingdom</td>\n",
       "      <td>1993</td>\n",
       "    </tr>\n",
       "    <tr>\n",
       "      <th>1101</th>\n",
       "      <td>Bridget Christie: Stand Up for Her</td>\n",
       "      <td>United Kingdom</td>\n",
       "      <td>2016</td>\n",
       "    </tr>\n",
       "    <tr>\n",
       "      <th>2416</th>\n",
       "      <td>Gina Yashere: Skinny B*tch</td>\n",
       "      <td>United Kingdom</td>\n",
       "      <td>2008</td>\n",
       "    </tr>\n",
       "    <tr>\n",
       "      <th>2536</th>\n",
       "      <td>Greg Davies: You Magnificent Beast</td>\n",
       "      <td>United Kingdom</td>\n",
       "      <td>2018</td>\n",
       "    </tr>\n",
       "    <tr>\n",
       "      <th>3099</th>\n",
       "      <td>Jack Whitehall: At Large</td>\n",
       "      <td>United Kingdom</td>\n",
       "      <td>2017</td>\n",
       "    </tr>\n",
       "    <tr>\n",
       "      <th>3100</th>\n",
       "      <td>Jack Whitehall: Christmas with My Father</td>\n",
       "      <td>United Kingdom</td>\n",
       "      <td>2019</td>\n",
       "    </tr>\n",
       "    <tr>\n",
       "      <th>3101</th>\n",
       "      <td>Jack Whitehall: I'm Only Joking</td>\n",
       "      <td>United Kingdom</td>\n",
       "      <td>2020</td>\n",
       "    </tr>\n",
       "    <tr>\n",
       "      <th>3118</th>\n",
       "      <td>James Acaster: Repertoire</td>\n",
       "      <td>United Kingdom</td>\n",
       "      <td>2018</td>\n",
       "    </tr>\n",
       "  </tbody>\n",
       "</table>\n",
       "</div>"
      ],
      "text/plain": [
       "                                         title         country  release_year\n",
       "919                Bill Hicks: One Night Stand  United Kingdom          1991\n",
       "921                     Bill Hicks: Relentless  United Kingdom          1992\n",
       "922                    Bill Hicks: Revelations  United Kingdom          1993\n",
       "1101        Bridget Christie: Stand Up for Her  United Kingdom          2016\n",
       "2416                Gina Yashere: Skinny B*tch  United Kingdom          2008\n",
       "2536        Greg Davies: You Magnificent Beast  United Kingdom          2018\n",
       "3099                  Jack Whitehall: At Large  United Kingdom          2017\n",
       "3100  Jack Whitehall: Christmas with My Father  United Kingdom          2019\n",
       "3101           Jack Whitehall: I'm Only Joking  United Kingdom          2020\n",
       "3118                 James Acaster: Repertoire  United Kingdom          2018"
      ]
     },
     "metadata": {},
     "execution_count": 39
    }
   ],
   "metadata": {}
  },
  {
   "cell_type": "code",
   "execution_count": 40,
   "source": [
    "from sklearn.preprocessing import MultiLabelBinarizer \r\n",
    "import matplotlib.colors"
   ],
   "outputs": [],
   "metadata": {}
  },
  {
   "cell_type": "code",
   "execution_count": 41,
   "source": [
    "cmap = matplotlib.colors.LinearSegmentedColormap.from_list(\"\", ['#221f1f', '#b20710','#f5f5f1'])\r\n"
   ],
   "outputs": [],
   "metadata": {}
  },
  {
   "cell_type": "code",
   "execution_count": 42,
   "source": [
    "def genre_heatmap(df, title):\r\n",
    "    df['genre'] = df['listed_in'].apply(lambda x :  x.replace(' ,',',').replace(', ',',').split(',')) \r\n",
    "    Types = []\r\n",
    "    for i in df['genre']: Types += i\r\n",
    "    Types = set(Types)\r\n",
    "    print(\"There are {} types in the Netflix {} Dataset\".format(len(Types),title))    \r\n",
    "    test = df['genre']\r\n",
    "    mlb = MultiLabelBinarizer()\r\n",
    "    res = pd.DataFrame(mlb.fit_transform(test), columns=mlb.classes_, index=test.index)\r\n",
    "    corr = res.corr()\r\n",
    "    mask = np.zeros_like(corr, dtype=np.bool)\r\n",
    "    mask[np.triu_indices_from(mask)] = True\r\n",
    "    fig, ax = plt.subplots(figsize=(10, 7))\r\n",
    "    fig.text(.54,.88,'Genre correlation', fontfamily='serif',fontweight='bold',fontsize=15)\r\n",
    "\r\n",
    "    pl = sns.heatmap(corr, mask=mask, cmap=cmap, vmax=.3, vmin=-.3, center=0, square=True, linewidths=2.5)\r\n",
    "    \r\n",
    "    plt.show()"
   ],
   "outputs": [],
   "metadata": {}
  },
  {
   "cell_type": "code",
   "execution_count": 43,
   "source": [
    "df_tv = df[df['type'] == 'TV Show']\r\n",
    "df_movies = df[df['type'] == 'Movie']"
   ],
   "outputs": [],
   "metadata": {}
  },
  {
   "cell_type": "code",
   "execution_count": 44,
   "source": [
    "genre_heatmap(df_movies, 'Movie')"
   ],
   "outputs": [
    {
     "output_type": "stream",
     "name": "stdout",
     "text": [
      "There are 20 types in the Netflix Movie Dataset\n"
     ]
    },
    {
     "output_type": "stream",
     "name": "stderr",
     "text": [
      "<ipython-input-42-0851aac555cd>:11: DeprecationWarning:\n",
      "\n",
      "`np.bool` is a deprecated alias for the builtin `bool`. To silence this warning, use `bool` by itself. Doing this will not modify any behavior and is safe. If you specifically wanted the numpy scalar type, use `np.bool_` here.\n",
      "Deprecated in NumPy 1.20; for more details and guidance: https://numpy.org/devdocs/release/1.20.0-notes.html#deprecations\n",
      "\n"
     ]
    },
    {
     "output_type": "display_data",
     "data": {
      "image/png": "[encoded data removed]",
      "text/plain": [
       "<Figure size 720x504 with 2 Axes>"
      ]
     },
     "metadata": {
      "needs_background": "light"
     }
    }
   ],
   "metadata": {}
  },
  {
   "cell_type": "code",
   "execution_count": 45,
   "source": [
    "us_ind = df[(df['first_country'] == 'USA') | (df['first_country'] == 'India' )]\r\n",
    "\r\n",
    "data_sub = df.groupby('first_country')['year_added'].value_counts().unstack().fillna(0).loc[['USA','India']].cumsum(axis=0).T\r\n",
    "fig, ax = plt.subplots(1, 1, figsize=(12, 6))\r\n",
    "color = ['#221f1f', '#b20710','#f5f5f1']\r\n",
    "\r\n",
    "for i, hs in enumerate(us_ind['first_country'].value_counts().index):\r\n",
    "    hs_built = us_ind[us_ind['first_country']==hs]['year_added'].value_counts().sort_index()\r\n",
    "    ax.plot(hs_built.index, hs_built, color=color[i], label=hs)\r\n",
    "    #ax.fill_between(hs_built.index, 0, hs_built, color=color[i], alpha=0.4)\r\n",
    "    ax.fill_between(hs_built.index, 0, hs_built, color=color[i], label=hs)\r\n",
    "    \r\n",
    "\r\n",
    "ax.set_ylim(0, 1000)\r\n",
    "#ax.legend(loc='upper left')\r\n",
    "for s in ['top', 'right']:\r\n",
    "    ax.spines[s].set_visible(False)\r\n",
    "\r\n",
    "ax.yaxis.tick_right()\r\n",
    "    \r\n",
    "ax.axhline(y = 0, color = 'black', linewidth = 1.3, alpha = .4)\r\n",
    "\r\n",
    "#ax.set_ylim(0, 50)\r\n",
    "#ax.legend(loc='upper left')\r\n",
    "for s in ['top', 'right','bottom','left']:\r\n",
    "    ax.spines[s].set_visible(False)\r\n",
    "\r\n",
    "ax.grid(False)\r\n",
    "ax.set_xticklabels(data_sub.index, fontfamily='serif', rotation=0)\r\n",
    "ax.margins(x=0) # remove white spaces next to margins\r\n",
    "\r\n",
    "ax.set_xlim(2008,2020)\r\n",
    "plt.xticks(np.arange(2008, 2021, 1))\r\n",
    "\r\n",
    "fig.text(0.13, 0.85, 'USA vs. India:', fontsize=15, fontweight='bold', fontfamily='serif')\r\n",
    "\r\n",
    "\r\n",
    "\r\n",
    "fig.text(0.13,0.15,\"India\", fontweight=\"bold\", fontfamily='serif', fontsize=15, color='#b20710')\r\n",
    "fig.text(0.188,0.15,\"|\", fontweight=\"bold\", fontfamily='serif', fontsize=15, color='black')\r\n",
    "fig.text(0.198,0.15,\"USA\", fontweight=\"bold\", fontfamily='serif', fontsize=15, color='#221f1f')\r\n",
    "\r\n",
    "\r\n",
    "ax.tick_params(axis=u'both', which=u'both',length=0)\r\n",
    "\r\n",
    "\r\n",
    "plt.show()"
   ],
   "outputs": [
    {
     "output_type": "stream",
     "name": "stderr",
     "text": [
      "<ipython-input-45-f3a8840b64a0>:29: UserWarning:\n",
      "\n",
      "FixedFormatter should only be used together with FixedLocator\n",
      "\n"
     ]
    },
    {
     "output_type": "display_data",
     "data": {
      "image/png": "[encoded data removed]",
      "text/plain": [
       "<Figure size 864x432 with 1 Axes>"
      ]
     },
     "metadata": {
      "needs_background": "light"
     }
    }
   ],
   "metadata": {}
  },
  {
   "cell_type": "code",
   "execution_count": null,
   "source": [],
   "outputs": [],
   "metadata": {}
  }
 ],
 "metadata": {
  "orig_nbformat": 4,
  "language_info": {
   "name": "python",
   "version": "3.8.8",
   "mimetype": "text/x-python",
   "codemirror_mode": {
    "name": "ipython",
    "version": 3
   },
   "pygments_lexer": "ipython3",
   "nbconvert_exporter": "python",
   "file_extension": ".py"
  },
  "kernelspec": {
   "name": "python3",
   "display_name": "Python 3.8.8 64-bit ('base': conda)"
  },
  "interpreter": {
   "hash": "745580af149099085c602309336f96fdb3d04063157b41704fe01950326166b1"
  }
 },
 "nbformat": 4,
 "nbformat_minor": 2
}
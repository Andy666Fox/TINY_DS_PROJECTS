{
 "cells": [
  {
   "cell_type": "code",
   "execution_count": 22,
   "source": [
    "import numpy as np"
   ],
   "outputs": [],
   "metadata": {}
  },
  {
   "cell_type": "code",
   "execution_count": 28,
   "source": [
    "symb = ['-', '.', 'err', '0', '1', '/', '$', '#']\r\n",
    "\r\n",
    "with open('data.txt', 'w') as f:\r\n",
    "    for i in range(1, 101):\r\n",
    "        stroke = ''.join([np.random.choice(symb) for x in range(1, np.random.randint(2, 100))])\r\n",
    "        f.write(f'{i}) ' + ''.join(stroke) + '\\n')\r\n",
    "\r\n",
    "f.close()"
   ],
   "outputs": [],
   "metadata": {}
  },
  {
   "cell_type": "code",
   "execution_count": 29,
   "source": [
    "import pandas as pd\r\n",
    "import matplotlib.pyplot as plt"
   ],
   "outputs": [],
   "metadata": {}
  },
  {
   "cell_type": "code",
   "execution_count": 39,
   "source": [
    "with open('./data.txt','r') as f:\r\n",
    "    elements = f.readlines()\r\n",
    "    lenghts = [len(elem[3:-2]) for elem in elements]"
   ],
   "outputs": [],
   "metadata": {}
  },
  {
   "cell_type": "code",
   "execution_count": null,
   "source": [],
   "outputs": [],
   "metadata": {}
  }
 ],
 "metadata": {
  "orig_nbformat": 4,
  "language_info": {
   "name": "python",
   "version": "3.8.8",
   "mimetype": "text/x-python",
   "codemirror_mode": {
    "name": "ipython",
    "version": 3
   },
   "pygments_lexer": "ipython3",
   "nbconvert_exporter": "python",
   "file_extension": ".py"
  },
  "kernelspec": {
   "name": "python3",
   "display_name": "Python 3.8.8 64-bit ('base': conda)"
  },
  "interpreter": {
   "hash": "745580af149099085c602309336f96fdb3d04063157b41704fe01950326166b1"
  }
 },
 "nbformat": 4,
 "nbformat_minor": 2
}
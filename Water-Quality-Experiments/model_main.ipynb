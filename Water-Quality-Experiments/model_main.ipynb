{
 "cells": [
  {
   "cell_type": "code",
   "execution_count": 325,
   "source": [
    "# Import Libraries\r\n",
    "import pandas as pd\r\n",
    "import numpy as np\r\n",
    "import seaborn as sns\r\n",
    "import matplotlib.pyplot as plt\r\n",
    "\r\n",
    "import dabl\r\n",
    "import sweetviz as sw\r\n",
    "from imblearn.over_sampling import ADASYN\r\n",
    "\r\n",
    "from sklearn.metrics import accuracy_score, plot_confusion_matrix, plot_roc_curve, plot_precision_recall_curve\r\n",
    "\r\n",
    "%matplotlib inline"
   ],
   "outputs": [],
   "metadata": {}
  },
  {
   "cell_type": "code",
   "execution_count": 326,
   "source": [
    "data = pd.read_csv('./water_p.csv')"
   ],
   "outputs": [],
   "metadata": {}
  },
  {
   "cell_type": "code",
   "execution_count": 327,
   "source": [
    "data.head(20)"
   ],
   "outputs": [
    {
     "output_type": "execute_result",
     "data": {
      "text/plain": [
       "           ph    Hardness      Solids  Chloramines     Sulfate  Potability\n",
       "0    7.080795  204.890455  207.913190     7.300212  368.516441           0\n",
       "1    3.716080  129.422921  186.300579     6.635246  333.775777           0\n",
       "2    8.099124  224.236259  199.095417     9.275884  333.775777           0\n",
       "3    8.316766  214.373394  220.184174     8.059332  356.886136           0\n",
       "4    9.092223  181.101509  179.789863     6.546600  310.135738           0\n",
       "5    5.584087  188.313324  287.486877     7.544869  326.678363           0\n",
       "6   10.223862  248.071735  287.497165     7.513408  393.663396           0\n",
       "7    8.635849  203.361523  136.720918     4.563009  303.309771           0\n",
       "8    7.080795  118.988579  142.855839     7.804174  268.646941           0\n",
       "9   11.180284  227.231469  254.845085     9.077200  404.041635           0\n",
       "10   7.360640  165.520797  324.526144     7.550701  326.624353           0\n",
       "11   7.974522  218.693300  187.676567     8.110385  333.775777           0\n",
       "12   7.119824  156.704993  187.308137     3.606036  282.344050           0\n",
       "13   7.080795  150.174923  273.313620     6.838223  299.415781           0\n",
       "14   7.496232  205.344982  283.880049     5.072558  333.775777           0\n",
       "15   6.347272  186.732881  410.652348     9.629596  364.487687           0\n",
       "16   7.051786  211.049406  309.806008    10.094796  333.775777           0\n",
       "17   9.181560  273.813807  240.413263     6.904990  398.350517           0\n",
       "18   8.975464  279.357167  194.603981     6.204321  333.775777           0\n",
       "19   7.371050  214.496610  256.303200     4.432669  335.754439           0"
      ],
      "text/html": [
       "<div>\n",
       "<style scoped>\n",
       "    .dataframe tbody tr th:only-of-type {\n",
       "        vertical-align: middle;\n",
       "    }\n",
       "\n",
       "    .dataframe tbody tr th {\n",
       "        vertical-align: top;\n",
       "    }\n",
       "\n",
       "    .dataframe thead th {\n",
       "        text-align: right;\n",
       "    }\n",
       "</style>\n",
       "<table border=\"1\" class=\"dataframe\">\n",
       "  <thead>\n",
       "    <tr style=\"text-align: right;\">\n",
       "      <th></th>\n",
       "      <th>ph</th>\n",
       "      <th>Hardness</th>\n",
       "      <th>Solids</th>\n",
       "      <th>Chloramines</th>\n",
       "      <th>Sulfate</th>\n",
       "      <th>Potability</th>\n",
       "    </tr>\n",
       "  </thead>\n",
       "  <tbody>\n",
       "    <tr>\n",
       "      <th>0</th>\n",
       "      <td>7.080795</td>\n",
       "      <td>204.890455</td>\n",
       "      <td>207.913190</td>\n",
       "      <td>7.300212</td>\n",
       "      <td>368.516441</td>\n",
       "      <td>0</td>\n",
       "    </tr>\n",
       "    <tr>\n",
       "      <th>1</th>\n",
       "      <td>3.716080</td>\n",
       "      <td>129.422921</td>\n",
       "      <td>186.300579</td>\n",
       "      <td>6.635246</td>\n",
       "      <td>333.775777</td>\n",
       "      <td>0</td>\n",
       "    </tr>\n",
       "    <tr>\n",
       "      <th>2</th>\n",
       "      <td>8.099124</td>\n",
       "      <td>224.236259</td>\n",
       "      <td>199.095417</td>\n",
       "      <td>9.275884</td>\n",
       "      <td>333.775777</td>\n",
       "      <td>0</td>\n",
       "    </tr>\n",
       "    <tr>\n",
       "      <th>3</th>\n",
       "      <td>8.316766</td>\n",
       "      <td>214.373394</td>\n",
       "      <td>220.184174</td>\n",
       "      <td>8.059332</td>\n",
       "      <td>356.886136</td>\n",
       "      <td>0</td>\n",
       "    </tr>\n",
       "    <tr>\n",
       "      <th>4</th>\n",
       "      <td>9.092223</td>\n",
       "      <td>181.101509</td>\n",
       "      <td>179.789863</td>\n",
       "      <td>6.546600</td>\n",
       "      <td>310.135738</td>\n",
       "      <td>0</td>\n",
       "    </tr>\n",
       "    <tr>\n",
       "      <th>5</th>\n",
       "      <td>5.584087</td>\n",
       "      <td>188.313324</td>\n",
       "      <td>287.486877</td>\n",
       "      <td>7.544869</td>\n",
       "      <td>326.678363</td>\n",
       "      <td>0</td>\n",
       "    </tr>\n",
       "    <tr>\n",
       "      <th>6</th>\n",
       "      <td>10.223862</td>\n",
       "      <td>248.071735</td>\n",
       "      <td>287.497165</td>\n",
       "      <td>7.513408</td>\n",
       "      <td>393.663396</td>\n",
       "      <td>0</td>\n",
       "    </tr>\n",
       "    <tr>\n",
       "      <th>7</th>\n",
       "      <td>8.635849</td>\n",
       "      <td>203.361523</td>\n",
       "      <td>136.720918</td>\n",
       "      <td>4.563009</td>\n",
       "      <td>303.309771</td>\n",
       "      <td>0</td>\n",
       "    </tr>\n",
       "    <tr>\n",
       "      <th>8</th>\n",
       "      <td>7.080795</td>\n",
       "      <td>118.988579</td>\n",
       "      <td>142.855839</td>\n",
       "      <td>7.804174</td>\n",
       "      <td>268.646941</td>\n",
       "      <td>0</td>\n",
       "    </tr>\n",
       "    <tr>\n",
       "      <th>9</th>\n",
       "      <td>11.180284</td>\n",
       "      <td>227.231469</td>\n",
       "      <td>254.845085</td>\n",
       "      <td>9.077200</td>\n",
       "      <td>404.041635</td>\n",
       "      <td>0</td>\n",
       "    </tr>\n",
       "    <tr>\n",
       "      <th>10</th>\n",
       "      <td>7.360640</td>\n",
       "      <td>165.520797</td>\n",
       "      <td>324.526144</td>\n",
       "      <td>7.550701</td>\n",
       "      <td>326.624353</td>\n",
       "      <td>0</td>\n",
       "    </tr>\n",
       "    <tr>\n",
       "      <th>11</th>\n",
       "      <td>7.974522</td>\n",
       "      <td>218.693300</td>\n",
       "      <td>187.676567</td>\n",
       "      <td>8.110385</td>\n",
       "      <td>333.775777</td>\n",
       "      <td>0</td>\n",
       "    </tr>\n",
       "    <tr>\n",
       "      <th>12</th>\n",
       "      <td>7.119824</td>\n",
       "      <td>156.704993</td>\n",
       "      <td>187.308137</td>\n",
       "      <td>3.606036</td>\n",
       "      <td>282.344050</td>\n",
       "      <td>0</td>\n",
       "    </tr>\n",
       "    <tr>\n",
       "      <th>13</th>\n",
       "      <td>7.080795</td>\n",
       "      <td>150.174923</td>\n",
       "      <td>273.313620</td>\n",
       "      <td>6.838223</td>\n",
       "      <td>299.415781</td>\n",
       "      <td>0</td>\n",
       "    </tr>\n",
       "    <tr>\n",
       "      <th>14</th>\n",
       "      <td>7.496232</td>\n",
       "      <td>205.344982</td>\n",
       "      <td>283.880049</td>\n",
       "      <td>5.072558</td>\n",
       "      <td>333.775777</td>\n",
       "      <td>0</td>\n",
       "    </tr>\n",
       "    <tr>\n",
       "      <th>15</th>\n",
       "      <td>6.347272</td>\n",
       "      <td>186.732881</td>\n",
       "      <td>410.652348</td>\n",
       "      <td>9.629596</td>\n",
       "      <td>364.487687</td>\n",
       "      <td>0</td>\n",
       "    </tr>\n",
       "    <tr>\n",
       "      <th>16</th>\n",
       "      <td>7.051786</td>\n",
       "      <td>211.049406</td>\n",
       "      <td>309.806008</td>\n",
       "      <td>10.094796</td>\n",
       "      <td>333.775777</td>\n",
       "      <td>0</td>\n",
       "    </tr>\n",
       "    <tr>\n",
       "      <th>17</th>\n",
       "      <td>9.181560</td>\n",
       "      <td>273.813807</td>\n",
       "      <td>240.413263</td>\n",
       "      <td>6.904990</td>\n",
       "      <td>398.350517</td>\n",
       "      <td>0</td>\n",
       "    </tr>\n",
       "    <tr>\n",
       "      <th>18</th>\n",
       "      <td>8.975464</td>\n",
       "      <td>279.357167</td>\n",
       "      <td>194.603981</td>\n",
       "      <td>6.204321</td>\n",
       "      <td>333.775777</td>\n",
       "      <td>0</td>\n",
       "    </tr>\n",
       "    <tr>\n",
       "      <th>19</th>\n",
       "      <td>7.371050</td>\n",
       "      <td>214.496610</td>\n",
       "      <td>256.303200</td>\n",
       "      <td>4.432669</td>\n",
       "      <td>335.754439</td>\n",
       "      <td>0</td>\n",
       "    </tr>\n",
       "  </tbody>\n",
       "</table>\n",
       "</div>"
      ]
     },
     "metadata": {},
     "execution_count": 327
    }
   ],
   "metadata": {}
  },
  {
   "cell_type": "code",
   "execution_count": 328,
   "source": [
    "# Checking the distribution of classes\r\n",
    "print('0: ', data.Potability.value_counts()[0] / len(data) * 100, '%')\r\n",
    "print('1: ', data.Potability.value_counts()[1] / len(data) * 100, '%')\r\n"
   ],
   "outputs": [
    {
     "output_type": "stream",
     "name": "stdout",
     "text": [
      "0:  50.0 %\n",
      "1:  50.0 %\n"
     ]
    }
   ],
   "metadata": {}
  },
  {
   "cell_type": "code",
   "execution_count": 329,
   "source": [
    "X, y = data.drop('Potability', axis=1), data.Potability"
   ],
   "outputs": [],
   "metadata": {}
  },
  {
   "cell_type": "code",
   "execution_count": 330,
   "source": [
    "# Filling empty values\r\n",
    "oversample = ADASYN()\r\n",
    "X, y = oversample.fit_resample(X, y)"
   ],
   "outputs": [],
   "metadata": {}
  },
  {
   "cell_type": "code",
   "execution_count": 380,
   "source": [
    "# Model preparation\r\n",
    "from sklearn.model_selection import train_test_split\r\n",
    "from sklearn.ensemble import StackingClassifier, RandomForestClassifier, AdaBoostClassifier\r\n",
    "from sklearn.linear_model import LogisticRegression\r\n",
    "from sklearn.pipeline import Pipeline"
   ],
   "outputs": [],
   "metadata": {}
  },
  {
   "cell_type": "code",
   "execution_count": 413,
   "source": [
    "dabl.AnyClassifier().get_params()"
   ],
   "outputs": [
    {
     "output_type": "execute_result",
     "data": {
      "text/plain": [
       "{'min_resources': 'exhaust',\n",
       " 'n_jobs': None,\n",
       " 'portfolio': 'baseline',\n",
       " 'type_hints': None,\n",
       " 'verbose': 0}"
      ]
     },
     "metadata": {},
     "execution_count": 413
    }
   ],
   "metadata": {}
  },
  {
   "cell_type": "code",
   "execution_count": 414,
   "source": [
    "estimators = [(f'any{x+1}', dabl.AnyClassifier()) for x in range(3)] + [('rfc', RandomForestClassifier()), ('abc', AdaBoostClassifier()), ('lr', LogisticRegression(C=1.00, penalty='l2'))]\r\n",
    "estimators"
   ],
   "outputs": [
    {
     "output_type": "execute_result",
     "data": {
      "text/plain": [
       "[('any1', AnyClassifier()),\n",
       " ('any2', AnyClassifier()),\n",
       " ('any3', AnyClassifier()),\n",
       " ('rfc', RandomForestClassifier()),\n",
       " ('abc', AdaBoostClassifier()),\n",
       " ('lr', LogisticRegression())]"
      ]
     },
     "metadata": {},
     "execution_count": 414
    }
   ],
   "metadata": {}
  },
  {
   "cell_type": "code",
   "execution_count": 415,
   "source": [
    "clf = StackingClassifier(estimators=estimators, final_estimator=LogisticRegression(C=1.00, penalty='l2'))"
   ],
   "outputs": [],
   "metadata": {}
  },
  {
   "cell_type": "code",
   "execution_count": 416,
   "source": [
    "X_train, X_test, y_train, y_test = train_test_split(X, y, test_size=0.33, random_state=0)"
   ],
   "outputs": [],
   "metadata": {}
  },
  {
   "cell_type": "code",
   "execution_count": 417,
   "source": [
    "clf"
   ],
   "outputs": [
    {
     "output_type": "execute_result",
     "data": {
      "text/plain": [
       "StackingClassifier(estimators=[('any1', AnyClassifier()),\n",
       "                               ('any2', AnyClassifier()),\n",
       "                               ('any3', AnyClassifier()),\n",
       "                               ('rfc', RandomForestClassifier()),\n",
       "                               ('abc', AdaBoostClassifier()),\n",
       "                               ('lr', LogisticRegression())],\n",
       "                   final_estimator=LogisticRegression())"
      ]
     },
     "metadata": {},
     "execution_count": 417
    }
   ],
   "metadata": {}
  },
  {
   "cell_type": "code",
   "execution_count": 418,
   "source": [
    "clf.fit(X_train, y_train)"
   ],
   "outputs": [
    {
     "output_type": "stream",
     "name": "stdout",
     "text": [
      "best classifier:  RandomForestClassifier(max_features='sqrt')\n",
      "best score: 0.691\n",
      "best classifier:  RandomForestClassifier(max_features='sqrt')\n",
      "best score: 0.695\n",
      "best classifier:  RandomForestClassifier(max_features='log2')\n",
      "best score: 0.695\n",
      "best classifier:  RandomForestClassifier(max_features=None)\n",
      "best score: 0.674\n",
      "best classifier:  RandomForestClassifier(max_features='sqrt')\n",
      "best score: 0.688\n",
      "best classifier:  RandomForestClassifier(max_features='sqrt')\n",
      "best score: 0.669\n",
      "best classifier:  RandomForestClassifier(max_features=None)\n",
      "best score: 0.677\n",
      "best classifier:  SVC(C=1)\n",
      "best score: 0.658\n",
      "best classifier:  RandomForestClassifier(max_features='sqrt')\n",
      "best score: 0.691\n",
      "best classifier:  RandomForestClassifier(max_features=None)\n",
      "best score: 0.682\n",
      "best classifier:  RandomForestClassifier(max_features=None)\n",
      "best score: 0.667\n",
      "best classifier:  RandomForestClassifier(max_features=None)\n",
      "best score: 0.688\n",
      "best classifier:  RandomForestClassifier(max_features='log2')\n",
      "best score: 0.690\n",
      "best classifier:  RandomForestClassifier(max_features='sqrt')\n",
      "best score: 0.680\n",
      "best classifier:  SVC(C=1)\n",
      "best score: 0.650\n",
      "best classifier:  RandomForestClassifier(max_features='log2')\n",
      "best score: 0.676\n",
      "best classifier:  SVC(C=1)\n",
      "best score: 0.648\n",
      "best classifier:  RandomForestClassifier(max_features='sqrt')\n",
      "best score: 0.685\n"
     ]
    },
    {
     "output_type": "execute_result",
     "data": {
      "text/plain": [
       "StackingClassifier(estimators=[('any1', AnyClassifier()),\n",
       "                               ('any2', AnyClassifier()),\n",
       "                               ('any3', AnyClassifier()),\n",
       "                               ('rfc', RandomForestClassifier()),\n",
       "                               ('abc', AdaBoostClassifier()),\n",
       "                               ('lr', LogisticRegression())],\n",
       "                   final_estimator=LogisticRegression())"
      ]
     },
     "metadata": {},
     "execution_count": 418
    }
   ],
   "metadata": {}
  },
  {
   "cell_type": "code",
   "execution_count": 419,
   "source": [
    "# Checking results\r\n",
    "clf.score(X_test, y_test)"
   ],
   "outputs": [
    {
     "output_type": "execute_result",
     "data": {
      "text/plain": [
       "0.7081122062168309"
      ]
     },
     "metadata": {},
     "execution_count": 419
    }
   ],
   "metadata": {}
  },
  {
   "cell_type": "code",
   "execution_count": 420,
   "source": [
    "y_pred = clf.predict(X_test)"
   ],
   "outputs": [],
   "metadata": {}
  },
  {
   "cell_type": "code",
   "execution_count": 421,
   "source": [
    "plot_confusion_matrix(clf, X_test, y_test)"
   ],
   "outputs": [
    {
     "output_type": "execute_result",
     "data": {
      "text/plain": [
       "<sklearn.metrics._plot.confusion_matrix.ConfusionMatrixDisplay at 0x1f5b9c664f0>"
      ]
     },
     "metadata": {},
     "execution_count": 421
    },
    {
     "output_type": "display_data",
     "data": {
      "text/plain": [
       "<Figure size 432x288 with 2 Axes>"
      ],
      "image/png": "[encoded data removed]"
     },
     "metadata": {
      "needs_background": "light"
     }
    }
   ],
   "metadata": {}
  },
  {
   "cell_type": "code",
   "execution_count": 422,
   "source": [
    "plot_roc_curve(clf, X_test, y_test)"
   ],
   "outputs": [
    {
     "output_type": "execute_result",
     "data": {
      "text/plain": [
       "<sklearn.metrics._plot.roc_curve.RocCurveDisplay at 0x1f5b929f6a0>"
      ]
     },
     "metadata": {},
     "execution_count": 422
    },
    {
     "output_type": "display_data",
     "data": {
      "text/plain": [
       "<Figure size 432x288 with 1 Axes>"
      ],
      "image/png": "[encoded data removed]"
     },
     "metadata": {
      "needs_background": "light"
     }
    }
   ],
   "metadata": {}
  },
  {
   "cell_type": "code",
   "execution_count": 423,
   "source": [
    "plot_precision_recall_curve(clf, X_test, y_test)"
   ],
   "outputs": [
    {
     "output_type": "execute_result",
     "data": {
      "text/plain": [
       "<sklearn.metrics._plot.precision_recall_curve.PrecisionRecallDisplay at 0x1f5b9c7ccd0>"
      ]
     },
     "metadata": {},
     "execution_count": 423
    },
    {
     "output_type": "display_data",
     "data": {
      "text/plain": [
       "<Figure size 432x288 with 1 Axes>"
      ],
      "image/png": "[encoded data removed]"
     },
     "metadata": {
      "needs_background": "light"
     }
    }
   ],
   "metadata": {}
  },
  {
   "cell_type": "code",
   "execution_count": null,
   "source": [],
   "outputs": [],
   "metadata": {}
  }
 ],
 "metadata": {
  "orig_nbformat": 4,
  "language_info": {
   "name": "python",
   "version": "3.8.8",
   "mimetype": "text/x-python",
   "codemirror_mode": {
    "name": "ipython",
    "version": 3
   },
   "pygments_lexer": "ipython3",
   "nbconvert_exporter": "python",
   "file_extension": ".py"
  },
  "kernelspec": {
   "name": "python3",
   "display_name": "Python 3.8.8 64-bit ('base': conda)"
  },
  "interpreter": {
   "hash": "745580af149099085c602309336f96fdb3d04063157b41704fe01950326166b1"
  }
 },
 "nbformat": 4,
 "nbformat_minor": 2
}
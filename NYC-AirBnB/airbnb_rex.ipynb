{
 "cells": [
  {
   "cell_type": "code",
   "execution_count": 1,
   "metadata": {},
   "outputs": [],
   "source": [
    "import pandas as pd \n",
    "import numpy as np\n",
    "import matplotlib.pyplot as plt \n",
    "import plotly_express as px \n",
    "import os \n",
    "import gc\n",
    "import seaborn as sns"
   ]
  },
  {
   "cell_type": "code",
   "execution_count": 2,
   "metadata": {},
   "outputs": [],
   "source": [
    "pd.set_option('display.max_columns', None)\n",
    "%matplotlib inline"
   ]
  },
  {
   "cell_type": "code",
   "execution_count": 3,
   "metadata": {},
   "outputs": [
    {
     "data": {
      "text/html": [
       "<style type=\"\"text/css\"\">\n",
       "table.dataframe td, table.dataframe th {\n",
       "    border: 1px black solid !important;\n",
       "    color: black !important\n",
       "}\n",
       "</style>\n"
      ],
      "text/plain": [
       "<IPython.core.display.HTML object>"
      ]
     },
     "metadata": {},
     "output_type": "display_data"
    }
   ],
   "source": [
    "%%HTML\n",
    "<style type=\"\"text/css\"\">\n",
    "table.dataframe td, table.dataframe th {\n",
    "    border: 1px black solid !important;\n",
    "    color: black !important\n",
    "}\n",
    "</style>"
   ]
  },
  {
   "cell_type": "code",
   "execution_count": 5,
   "metadata": {},
   "outputs": [
    {
     "data": {
      "text/html": [
       "<div>\n",
       "<style scoped>\n",
       "    .dataframe tbody tr th:only-of-type {\n",
       "        vertical-align: middle;\n",
       "    }\n",
       "\n",
       "    .dataframe tbody tr th {\n",
       "        vertical-align: top;\n",
       "    }\n",
       "\n",
       "    .dataframe thead th {\n",
       "        text-align: right;\n",
       "    }\n",
       "</style>\n",
       "<table border=\"1\" class=\"dataframe\">\n",
       "  <thead>\n",
       "    <tr style=\"text-align: right;\">\n",
       "      <th></th>\n",
       "      <th>id</th>\n",
       "      <th>name</th>\n",
       "      <th>host_id</th>\n",
       "      <th>host_identity_verified</th>\n",
       "      <th>host_name</th>\n",
       "      <th>neighbourhood_group</th>\n",
       "      <th>neighbourhood</th>\n",
       "      <th>lat</th>\n",
       "      <th>long</th>\n",
       "      <th>instant_bookable</th>\n",
       "      <th>cancellation_policy</th>\n",
       "      <th>room_type</th>\n",
       "      <th>construction_year</th>\n",
       "      <th>price</th>\n",
       "      <th>service_fee</th>\n",
       "      <th>minimum_nights</th>\n",
       "      <th>number_of_reviews</th>\n",
       "      <th>last_review</th>\n",
       "      <th>reviews_per_month</th>\n",
       "      <th>review_rate_number</th>\n",
       "      <th>calculated_host_listings_count</th>\n",
       "      <th>availability_365</th>\n",
       "      <th>house_rules</th>\n",
       "    </tr>\n",
       "  </thead>\n",
       "  <tbody>\n",
       "    <tr>\n",
       "      <th>0</th>\n",
       "      <td>1001254</td>\n",
       "      <td>Clean &amp; quiet apt home by the park</td>\n",
       "      <td>80014485718</td>\n",
       "      <td>unconfirmed</td>\n",
       "      <td>Madaline</td>\n",
       "      <td>Brooklyn</td>\n",
       "      <td>Kensington</td>\n",
       "      <td>40.64749</td>\n",
       "      <td>-73.97237</td>\n",
       "      <td>False</td>\n",
       "      <td>strict</td>\n",
       "      <td>Private room</td>\n",
       "      <td>2020.0</td>\n",
       "      <td>966.0</td>\n",
       "      <td>193.0</td>\n",
       "      <td>10.0</td>\n",
       "      <td>9.0</td>\n",
       "      <td>2021-10-19</td>\n",
       "      <td>0.21</td>\n",
       "      <td>4.0</td>\n",
       "      <td>6.0</td>\n",
       "      <td>286.0</td>\n",
       "      <td>Clean up and treat the home the way you'd like...</td>\n",
       "    </tr>\n",
       "    <tr>\n",
       "      <th>1</th>\n",
       "      <td>1002102</td>\n",
       "      <td>Skylit Midtown Castle</td>\n",
       "      <td>52335172823</td>\n",
       "      <td>verified</td>\n",
       "      <td>Jenna</td>\n",
       "      <td>Manhattan</td>\n",
       "      <td>Midtown</td>\n",
       "      <td>40.75362</td>\n",
       "      <td>-73.98377</td>\n",
       "      <td>False</td>\n",
       "      <td>moderate</td>\n",
       "      <td>Entire home/apt</td>\n",
       "      <td>2007.0</td>\n",
       "      <td>142.0</td>\n",
       "      <td>28.0</td>\n",
       "      <td>13.0</td>\n",
       "      <td>45.0</td>\n",
       "      <td>2022-05-21</td>\n",
       "      <td>0.38</td>\n",
       "      <td>4.0</td>\n",
       "      <td>2.0</td>\n",
       "      <td>228.0</td>\n",
       "      <td>Pet friendly but please confirm with me if the...</td>\n",
       "    </tr>\n",
       "    <tr>\n",
       "      <th>2</th>\n",
       "      <td>1002403</td>\n",
       "      <td>THE VILLAGE OF HARLEM....NEW YORK !</td>\n",
       "      <td>78829239556</td>\n",
       "      <td>unconfirmed</td>\n",
       "      <td>Elise</td>\n",
       "      <td>Manhattan</td>\n",
       "      <td>Harlem</td>\n",
       "      <td>40.80902</td>\n",
       "      <td>-73.94190</td>\n",
       "      <td>True</td>\n",
       "      <td>flexible</td>\n",
       "      <td>Private room</td>\n",
       "      <td>2005.0</td>\n",
       "      <td>620.0</td>\n",
       "      <td>124.0</td>\n",
       "      <td>3.0</td>\n",
       "      <td>0.0</td>\n",
       "      <td>2019-06-14</td>\n",
       "      <td>0.79</td>\n",
       "      <td>5.0</td>\n",
       "      <td>1.0</td>\n",
       "      <td>352.0</td>\n",
       "      <td>I encourage you to use my kitchen, cooking and...</td>\n",
       "    </tr>\n",
       "    <tr>\n",
       "      <th>3</th>\n",
       "      <td>1002755</td>\n",
       "      <td>blank</td>\n",
       "      <td>85098326012</td>\n",
       "      <td>unconfirmed</td>\n",
       "      <td>Garry</td>\n",
       "      <td>Brooklyn</td>\n",
       "      <td>Clinton Hill</td>\n",
       "      <td>40.68514</td>\n",
       "      <td>-73.95976</td>\n",
       "      <td>True</td>\n",
       "      <td>moderate</td>\n",
       "      <td>Entire home/apt</td>\n",
       "      <td>2005.0</td>\n",
       "      <td>368.0</td>\n",
       "      <td>74.0</td>\n",
       "      <td>13.0</td>\n",
       "      <td>270.0</td>\n",
       "      <td>2019-07-05</td>\n",
       "      <td>4.64</td>\n",
       "      <td>4.0</td>\n",
       "      <td>1.0</td>\n",
       "      <td>322.0</td>\n",
       "      <td>blank</td>\n",
       "    </tr>\n",
       "    <tr>\n",
       "      <th>4</th>\n",
       "      <td>1003689</td>\n",
       "      <td>Entire Apt: Spacious Studio/Loft by central park</td>\n",
       "      <td>92037596077</td>\n",
       "      <td>verified</td>\n",
       "      <td>Lyndon</td>\n",
       "      <td>Manhattan</td>\n",
       "      <td>East Harlem</td>\n",
       "      <td>40.79851</td>\n",
       "      <td>-73.94399</td>\n",
       "      <td>False</td>\n",
       "      <td>moderate</td>\n",
       "      <td>Entire home/apt</td>\n",
       "      <td>2009.0</td>\n",
       "      <td>204.0</td>\n",
       "      <td>41.0</td>\n",
       "      <td>10.0</td>\n",
       "      <td>9.0</td>\n",
       "      <td>2018-11-19</td>\n",
       "      <td>0.10</td>\n",
       "      <td>3.0</td>\n",
       "      <td>1.0</td>\n",
       "      <td>289.0</td>\n",
       "      <td>Please no smoking in the house, porch or on th...</td>\n",
       "    </tr>\n",
       "  </tbody>\n",
       "</table>\n",
       "</div>"
      ],
      "text/plain": [
       "        id                                              name      host_id  \\\n",
       "0  1001254                Clean & quiet apt home by the park  80014485718   \n",
       "1  1002102                             Skylit Midtown Castle  52335172823   \n",
       "2  1002403               THE VILLAGE OF HARLEM....NEW YORK !  78829239556   \n",
       "3  1002755                                             blank  85098326012   \n",
       "4  1003689  Entire Apt: Spacious Studio/Loft by central park  92037596077   \n",
       "\n",
       "  host_identity_verified host_name neighbourhood_group neighbourhood  \\\n",
       "0            unconfirmed  Madaline            Brooklyn    Kensington   \n",
       "1               verified     Jenna           Manhattan       Midtown   \n",
       "2            unconfirmed     Elise           Manhattan        Harlem   \n",
       "3            unconfirmed     Garry            Brooklyn  Clinton Hill   \n",
       "4               verified    Lyndon           Manhattan   East Harlem   \n",
       "\n",
       "        lat      long  instant_bookable cancellation_policy        room_type  \\\n",
       "0  40.64749 -73.97237             False              strict     Private room   \n",
       "1  40.75362 -73.98377             False            moderate  Entire home/apt   \n",
       "2  40.80902 -73.94190              True            flexible     Private room   \n",
       "3  40.68514 -73.95976              True            moderate  Entire home/apt   \n",
       "4  40.79851 -73.94399             False            moderate  Entire home/apt   \n",
       "\n",
       "   construction_year  price  service_fee  minimum_nights  number_of_reviews  \\\n",
       "0             2020.0  966.0        193.0            10.0                9.0   \n",
       "1             2007.0  142.0         28.0            13.0               45.0   \n",
       "2             2005.0  620.0        124.0             3.0                0.0   \n",
       "3             2005.0  368.0         74.0            13.0              270.0   \n",
       "4             2009.0  204.0         41.0            10.0                9.0   \n",
       "\n",
       "  last_review  reviews_per_month  review_rate_number  \\\n",
       "0  2021-10-19               0.21                 4.0   \n",
       "1  2022-05-21               0.38                 4.0   \n",
       "2  2019-06-14               0.79                 5.0   \n",
       "3  2019-07-05               4.64                 4.0   \n",
       "4  2018-11-19               0.10                 3.0   \n",
       "\n",
       "   calculated_host_listings_count  availability_365  \\\n",
       "0                             6.0             286.0   \n",
       "1                             2.0             228.0   \n",
       "2                             1.0             352.0   \n",
       "3                             1.0             322.0   \n",
       "4                             1.0             289.0   \n",
       "\n",
       "                                         house_rules  \n",
       "0  Clean up and treat the home the way you'd like...  \n",
       "1  Pet friendly but please confirm with me if the...  \n",
       "2  I encourage you to use my kitchen, cooking and...  \n",
       "3                                              blank  \n",
       "4  Please no smoking in the house, porch or on th...  "
      ]
     },
     "execution_count": 5,
     "metadata": {},
     "output_type": "execute_result"
    }
   ],
   "source": [
    "df = pd.read_csv('./input/airbnb_nyc_clean.csv', parse_dates=['last_review'])\n",
    "df.head()"
   ]
  },
  {
   "cell_type": "code",
   "execution_count": 6,
   "metadata": {},
   "outputs": [
    {
     "name": "stdout",
     "output_type": "stream",
     "text": [
      "<class 'pandas.core.frame.DataFrame'>\n",
      "RangeIndex: 69305 entries, 0 to 69304\n",
      "Data columns (total 23 columns):\n",
      " #   Column                          Non-Null Count  Dtype         \n",
      "---  ------                          --------------  -----         \n",
      " 0   id                              69305 non-null  int64         \n",
      " 1   name                            69305 non-null  object        \n",
      " 2   host_id                         69305 non-null  int64         \n",
      " 3   host_identity_verified          69305 non-null  object        \n",
      " 4   host_name                       69305 non-null  object        \n",
      " 5   neighbourhood_group             69305 non-null  object        \n",
      " 6   neighbourhood                   69305 non-null  object        \n",
      " 7   lat                             69305 non-null  float64       \n",
      " 8   long                            69305 non-null  float64       \n",
      " 9   instant_bookable                69305 non-null  bool          \n",
      " 10  cancellation_policy             69305 non-null  object        \n",
      " 11  room_type                       69305 non-null  object        \n",
      " 12  construction_year               69305 non-null  float64       \n",
      " 13  price                           69305 non-null  float64       \n",
      " 14  service_fee                     69305 non-null  float64       \n",
      " 15  minimum_nights                  69305 non-null  float64       \n",
      " 16  number_of_reviews               69305 non-null  float64       \n",
      " 17  last_review                     69305 non-null  datetime64[ns]\n",
      " 18  reviews_per_month               69305 non-null  float64       \n",
      " 19  review_rate_number              69305 non-null  float64       \n",
      " 20  calculated_host_listings_count  69305 non-null  float64       \n",
      " 21  availability_365                69305 non-null  float64       \n",
      " 22  house_rules                     69305 non-null  object        \n",
      "dtypes: bool(1), datetime64[ns](1), float64(11), int64(2), object(8)\n",
      "memory usage: 11.7+ MB\n"
     ]
    }
   ],
   "source": [
    "df.info()"
   ]
  },
  {
   "cell_type": "code",
   "execution_count": 7,
   "metadata": {},
   "outputs": [
    {
     "name": "stdout",
     "output_type": "stream",
     "text": [
      "Column id \t has 69305 unique values, which is 100.0 %\n",
      "Column name \t has 61234 unique values, which is 88.4 %\n",
      "Column host_id \t has 69304 unique values, which is 100.0 %\n",
      "Column host_identity_verified \t has 2 unique values, which is 0.0 %\n",
      "Column host_name \t has 13191 unique values, which is 19.0 %\n",
      "Column neighbourhood_group \t has 5 unique values, which is 0.0 %\n",
      "Column neighbourhood \t has 239 unique values, which is 0.3 %\n",
      "Column lat \t has 21998 unique values, which is 31.7 %\n",
      "Column long \t has 17780 unique values, which is 25.7 %\n",
      "Column instant_bookable \t has 2 unique values, which is 0.0 %\n",
      "Column cancellation_policy \t has 3 unique values, which is 0.0 %\n",
      "Column room_type \t has 4 unique values, which is 0.0 %\n",
      "Column construction_year \t has 20 unique values, which is 0.0 %\n",
      "Column price \t has 1152 unique values, which is 1.7 %\n",
      "Column service_fee \t has 232 unique values, which is 0.3 %\n",
      "Column minimum_nights \t has 14 unique values, which is 0.0 %\n",
      "Column number_of_reviews \t has 476 unique values, which is 0.7 %\n",
      "Column last_review \t has 2472 unique values, which is 3.6 %\n",
      "Column reviews_per_month \t has 1016 unique values, which is 1.5 %\n",
      "Column review_rate_number \t has 5 unique values, which is 0.0 %\n",
      "Column calculated_host_listings_count \t has 78 unique values, which is 0.1 %\n",
      "Column availability_365 \t has 437 unique values, which is 0.6 %\n",
      "Column house_rules \t has 1977 unique values, which is 2.9 %\n"
     ]
    }
   ],
   "source": [
    "for col in df.columns:\n",
    "    print(f'Column {col} \\t has {df[col].nunique()} unique values, which is {df[col].nunique() / len(df) * 100:.1f} %')"
   ]
  },
  {
   "cell_type": "code",
   "execution_count": 8,
   "metadata": {},
   "outputs": [
    {
     "data": {
      "application/vnd.plotly.v1+json": {
       "config": {
        "plotlyServerURL": "https://plot.ly"
       },
       "data": [
        {
         "branchvalues": "total",
         "domain": {
          "x": [
           0,
           1
          ],
          "y": [
           0,
           1
          ]
         },
         "hovertemplate": "labels=%{label}<br>count=%{value}<br>parent=%{parent}<br>id=%{id}<extra></extra>",
         "ids": [
          "Brooklyn/21st Street",
          "Brooklyn/5th Avenue",
          "Bronx/Allerton",
          "Staten Island/Arden Heights",
          "Staten Island/Arrochar",
          "Queens/Arverne",
          "Queens/Astoria",
          "Manhattan/Avenue A",
          "Brooklyn/Bath Beach",
          "Manhattan/Battery Park City",
          "Brooklyn/Bay Ridge",
          "Queens/Bay Terrace",
          "Staten Island/Bay Terrace, Staten Island",
          "Bronx/Baychester",
          "Queens/Bayside",
          "Queens/Bayswater",
          "Brooklyn/Bedford-Stuyvesant",
          "Queens/Belle Harbor",
          "Queens/Bellerose",
          "Bronx/Belmont",
          "Brooklyn/Bensonhurst",
          "Brooklyn/Bergen Beach",
          "Brooklyn/Boerum Hill",
          "Brooklyn/Borough Park",
          "Queens/Breezy Point",
          "Queens/Briarwood",
          "Brooklyn/Brighton Beach",
          "Manhattan/Broadway",
          "Bronx/Bronxdale",
          "Brooklyn/Brooklyn Heights",
          "Brooklyn/Brownsville",
          "Staten Island/Bull's Head",
          "Brooklyn/Bushwick",
          "Queens/Cambria Heights",
          "Brooklyn/Canarsie",
          "Brooklyn/Carroll Gardens",
          "Bronx/Castle Hill",
          "Staten Island/Castleton Corners",
          "Manhattan/Chelsea",
          "Staten Island/Chelsea, Staten Island",
          "Manhattan/Chinatown",
          "Bronx/City Island",
          "Manhattan/Civic Center",
          "Bronx/Claremont Village",
          "Bronx/Clason Point",
          "Brooklyn/Clay Street",
          "Staten Island/Clifton",
          "Brooklyn/Clinton Hill",
          "Bronx/Co-op City",
          "Brooklyn/Cobble Hill",
          "Queens/College Point",
          "Brooklyn/Columbia St",
          "Staten Island/Concord",
          "Bronx/Concourse",
          "Bronx/Concourse Village",
          "Brooklyn/Coney Island",
          "Queens/Corona",
          "Brooklyn/Crown Heights",
          "Brooklyn/Cypress Hills",
          "Brooklyn/DUMBO",
          "Queens/Ditmars Steinway",
          "Staten Island/Dongan Hills",
          "Queens/Douglaston",
          "Brooklyn/Downtown Brooklyn",
          "Brooklyn/Driggs Avenue",
          "Brooklyn/Dyker Heights",
          "Manhattan/East 14th Street",
          "Manhattan/East 47th Street",
          "Queens/East Elmhurst",
          "Brooklyn/East Flatbush",
          "Manhattan/East Harlem",
          "Bronx/East Morrisania",
          "Brooklyn/East New York",
          "Manhattan/East Village",
          "Bronx/Eastchester",
          "Bronx/Edenwald",
          "Queens/Edgemere",
          "Queens/Elmhurst",
          "Staten Island/Eltingville",
          "Staten Island/Emerson Hill",
          "Queens/Far Rockaway",
          "Bronx/Fieldston",
          "Manhattan/Financial District",
          "Brooklyn/Flatbush",
          "Manhattan/Flatiron District",
          "Brooklyn/Flatlands",
          "Queens/Flushing",
          "Bronx/Fordham",
          "Queens/Forest Hills",
          "Brooklyn/Fort Greene",
          "Brooklyn/Fort Hamilton",
          "Staten Island/Fort Wadsworth",
          "Brooklyn/Franklin Street",
          "Queens/Fresh Meadows",
          "Brooklyn/Fulton Street",
          "Brooklyn/Gerritsen Beach",
          "Queens/Glen Oaks",
          "Queens/Glendale",
          "Brooklyn/Gowanus",
          "Manhattan/Gramercy",
          "Manhattan/Grand Street",
          "Staten Island/Graniteville",
          "Staten Island/Grant City",
          "Brooklyn/Gravesend",
          "Staten Island/Great Kills",
          "Brooklyn/Greenpoint",
          "Manhattan/Greenwich Village",
          "Staten Island/Grymes Hill",
          "Manhattan/Harlem",
          "Manhattan/Hell's Kitchen",
          "Manhattan/Henry Street",
          "Bronx/Highbridge",
          "Queens/Hollis",
          "Queens/Holliswood",
          "Queens/Howard Beach",
          "Staten Island/Howland Hook",
          "Staten Island/Huguenot",
          "Bronx/Hunts Point",
          "Manhattan/Inwood",
          "Queens/Jackson Heights",
          "Queens/Jamaica",
          "Queens/Jamaica Estates",
          "Queens/Jamaica Hills",
          "Brooklyn/Kensington",
          "Queens/Kew Gardens",
          "Queens/Kew Gardens Hills",
          "Bronx/Kingsbridge",
          "Manhattan/Kips Bay",
          "Queens/Laurelton",
          "Staten Island/Lighthouse Hill",
          "Manhattan/Little Italy",
          "Queens/Little Neck",
          "Queens/Long Island City",
          "Bronx/Longwood",
          "Manhattan/Lower East Side",
          "Manhattan/Manhattan Avenue",
          "Brooklyn/Manhattan Beach",
          "Manhattan/Marble Hill",
          "Staten Island/Mariners Harbor",
          "Queens/Maspeth",
          "Brooklyn/McGuinness Boulevard",
          "Bronx/Melrose",
          "Queens/Middle Village",
          "Staten Island/Midland Beach",
          "Manhattan/Midtown",
          "Brooklyn/Midwood",
          "Brooklyn/Mill Basin",
          "Manhattan/Morningside Heights",
          "Bronx/Morris Heights",
          "Bronx/Morris Park",
          "Bronx/Morrisania",
          "Bronx/Mott Haven",
          "Bronx/Mount Eden",
          "Bronx/Mount Hope",
          "Manhattan/Murray Hill",
          "Brooklyn/Navy Yard",
          "Queens/Neponsit",
          "Staten Island/New Brighton",
          "Staten Island/New Dorp",
          "Staten Island/New Dorp Beach",
          "Staten Island/New Springville",
          "Manhattan/NoHo",
          "Manhattan/Nolita",
          "Bronx/North Riverdale",
          "Bronx/Norwood",
          "Staten Island/Oakwood",
          "Bronx/Olinville",
          "Queens/Ozone Park",
          "Brooklyn/Park Slope",
          "Bronx/Parkchester",
          "Bronx/Pelham Bay",
          "Bronx/Pelham Gardens",
          "Bronx/Port Morris",
          "Staten Island/Port Richmond",
          "Staten Island/Prince's Bay",
          "Brooklyn/Prospect Heights",
          "Brooklyn/Prospect-Lefferts Gardens",
          "Queens/Queens Village",
          "Staten Island/Randall Manor",
          "Brooklyn/Red Hook",
          "Queens/Rego Park",
          "Queens/Richmond Hill",
          "Staten Island/Richmondtown",
          "Queens/Ridgewood",
          "Bronx/Riverdale",
          "Queens/Rockaway Beach",
          "Manhattan/Roosevelt Island",
          "Staten Island/Rosebank",
          "Queens/Rosedale",
          "Staten Island/Rossville",
          "Bronx/Schuylerville",
          "Brooklyn/Sea Gate",
          "Brooklyn/Sheepshead Bay",
          "Staten Island/Shore Acres",
          "Staten Island/Silver Lake",
          "Manhattan/SoHo",
          "Bronx/Soundview",
          "Staten Island/South Beach",
          "Queens/South Ozone Park",
          "Brooklyn/South Slope",
          "Queens/Springfield Gardens",
          "Bronx/Spuyten Duyvil",
          "Queens/St. Albans",
          "Staten Island/St. George",
          "Staten Island/Stapleton",
          "Manhattan/Stuyvesant Town",
          "Queens/Sunnyside",
          "Brooklyn/Sunset Park",
          "Manhattan/Theater District",
          "Bronx/Throgs Neck",
          "Staten Island/Todt Hill",
          "Staten Island/Tompkinsville",
          "Staten Island/Tottenville",
          "Bronx/Tremont",
          "Manhattan/Tribeca",
          "Manhattan/Two Bridges",
          "Bronx/Unionport",
          "Bronx/University Heights",
          "Manhattan/Upper East Side",
          "Manhattan/Upper West Side",
          "Bronx/Van Nest",
          "Brooklyn/Vinegar Hill",
          "Bronx/Wakefield",
          "Manhattan/Washington Heights",
          "Manhattan/West 81st Street",
          "Staten Island/West Brighton",
          "Bronx/West Farms",
          "Manhattan/West Village",
          "Bronx/Westchester Square",
          "Staten Island/Westerleigh",
          "Queens/Whitestone",
          "Bronx/Williamsbridge",
          "Brooklyn/Williamsburg",
          "Staten Island/Willowbrook",
          "Brooklyn/Windsor Terrace",
          "Queens/Woodhaven",
          "Bronx/Woodlawn",
          "Staten Island/Woodrow",
          "Queens/Woodside",
          "Bronx",
          "Brooklyn",
          "Manhattan",
          "Queens",
          "Staten Island"
         ],
         "labels": [
          "21st Street",
          "5th Avenue",
          "Allerton",
          "Arden Heights",
          "Arrochar",
          "Arverne",
          "Astoria",
          "Avenue A",
          "Bath Beach",
          "Battery Park City",
          "Bay Ridge",
          "Bay Terrace",
          "Bay Terrace, Staten Island",
          "Baychester",
          "Bayside",
          "Bayswater",
          "Bedford-Stuyvesant",
          "Belle Harbor",
          "Bellerose",
          "Belmont",
          "Bensonhurst",
          "Bergen Beach",
          "Boerum Hill",
          "Borough Park",
          "Breezy Point",
          "Briarwood",
          "Brighton Beach",
          "Broadway",
          "Bronxdale",
          "Brooklyn Heights",
          "Brownsville",
          "Bull's Head",
          "Bushwick",
          "Cambria Heights",
          "Canarsie",
          "Carroll Gardens",
          "Castle Hill",
          "Castleton Corners",
          "Chelsea",
          "Chelsea, Staten Island",
          "Chinatown",
          "City Island",
          "Civic Center",
          "Claremont Village",
          "Clason Point",
          "Clay Street",
          "Clifton",
          "Clinton Hill",
          "Co-op City",
          "Cobble Hill",
          "College Point",
          "Columbia St",
          "Concord",
          "Concourse",
          "Concourse Village",
          "Coney Island",
          "Corona",
          "Crown Heights",
          "Cypress Hills",
          "DUMBO",
          "Ditmars Steinway",
          "Dongan Hills",
          "Douglaston",
          "Downtown Brooklyn",
          "Driggs Avenue",
          "Dyker Heights",
          "East 14th Street",
          "East 47th Street",
          "East Elmhurst",
          "East Flatbush",
          "East Harlem",
          "East Morrisania",
          "East New York",
          "East Village",
          "Eastchester",
          "Edenwald",
          "Edgemere",
          "Elmhurst",
          "Eltingville",
          "Emerson Hill",
          "Far Rockaway",
          "Fieldston",
          "Financial District",
          "Flatbush",
          "Flatiron District",
          "Flatlands",
          "Flushing",
          "Fordham",
          "Forest Hills",
          "Fort Greene",
          "Fort Hamilton",
          "Fort Wadsworth",
          "Franklin Street",
          "Fresh Meadows",
          "Fulton Street",
          "Gerritsen Beach",
          "Glen Oaks",
          "Glendale",
          "Gowanus",
          "Gramercy",
          "Grand Street",
          "Graniteville",
          "Grant City",
          "Gravesend",
          "Great Kills",
          "Greenpoint",
          "Greenwich Village",
          "Grymes Hill",
          "Harlem",
          "Hell's Kitchen",
          "Henry Street",
          "Highbridge",
          "Hollis",
          "Holliswood",
          "Howard Beach",
          "Howland Hook",
          "Huguenot",
          "Hunts Point",
          "Inwood",
          "Jackson Heights",
          "Jamaica",
          "Jamaica Estates",
          "Jamaica Hills",
          "Kensington",
          "Kew Gardens",
          "Kew Gardens Hills",
          "Kingsbridge",
          "Kips Bay",
          "Laurelton",
          "Lighthouse Hill",
          "Little Italy",
          "Little Neck",
          "Long Island City",
          "Longwood",
          "Lower East Side",
          "Manhattan Avenue",
          "Manhattan Beach",
          "Marble Hill",
          "Mariners Harbor",
          "Maspeth",
          "McGuinness Boulevard",
          "Melrose",
          "Middle Village",
          "Midland Beach",
          "Midtown",
          "Midwood",
          "Mill Basin",
          "Morningside Heights",
          "Morris Heights",
          "Morris Park",
          "Morrisania",
          "Mott Haven",
          "Mount Eden",
          "Mount Hope",
          "Murray Hill",
          "Navy Yard",
          "Neponsit",
          "New Brighton",
          "New Dorp",
          "New Dorp Beach",
          "New Springville",
          "NoHo",
          "Nolita",
          "North Riverdale",
          "Norwood",
          "Oakwood",
          "Olinville",
          "Ozone Park",
          "Park Slope",
          "Parkchester",
          "Pelham Bay",
          "Pelham Gardens",
          "Port Morris",
          "Port Richmond",
          "Prince's Bay",
          "Prospect Heights",
          "Prospect-Lefferts Gardens",
          "Queens Village",
          "Randall Manor",
          "Red Hook",
          "Rego Park",
          "Richmond Hill",
          "Richmondtown",
          "Ridgewood",
          "Riverdale",
          "Rockaway Beach",
          "Roosevelt Island",
          "Rosebank",
          "Rosedale",
          "Rossville",
          "Schuylerville",
          "Sea Gate",
          "Sheepshead Bay",
          "Shore Acres",
          "Silver Lake",
          "SoHo",
          "Soundview",
          "South Beach",
          "South Ozone Park",
          "South Slope",
          "Springfield Gardens",
          "Spuyten Duyvil",
          "St. Albans",
          "St. George",
          "Stapleton",
          "Stuyvesant Town",
          "Sunnyside",
          "Sunset Park",
          "Theater District",
          "Throgs Neck",
          "Todt Hill",
          "Tompkinsville",
          "Tottenville",
          "Tremont",
          "Tribeca",
          "Two Bridges",
          "Unionport",
          "University Heights",
          "Upper East Side",
          "Upper West Side",
          "Van Nest",
          "Vinegar Hill",
          "Wakefield",
          "Washington Heights",
          "West 81st Street",
          "West Brighton",
          "West Farms",
          "West Village",
          "Westchester Square",
          "Westerleigh",
          "Whitestone",
          "Williamsbridge",
          "Williamsburg",
          "Willowbrook",
          "Windsor Terrace",
          "Woodhaven",
          "Woodlawn",
          "Woodrow",
          "Woodside",
          "Bronx",
          "Brooklyn",
          "Manhattan",
          "Queens",
          "Staten Island"
         ],
         "name": "",
         "parents": [
          "Brooklyn",
          "Brooklyn",
          "Bronx",
          "Staten Island",
          "Staten Island",
          "Queens",
          "Queens",
          "Manhattan",
          "Brooklyn",
          "Manhattan",
          "Brooklyn",
          "Queens",
          "Staten Island",
          "Bronx",
          "Queens",
          "Queens",
          "Brooklyn",
          "Queens",
          "Queens",
          "Bronx",
          "Brooklyn",
          "Brooklyn",
          "Brooklyn",
          "Brooklyn",
          "Queens",
          "Queens",
          "Brooklyn",
          "Manhattan",
          "Bronx",
          "Brooklyn",
          "Brooklyn",
          "Staten Island",
          "Brooklyn",
          "Queens",
          "Brooklyn",
          "Brooklyn",
          "Bronx",
          "Staten Island",
          "Manhattan",
          "Staten Island",
          "Manhattan",
          "Bronx",
          "Manhattan",
          "Bronx",
          "Bronx",
          "Brooklyn",
          "Staten Island",
          "Brooklyn",
          "Bronx",
          "Brooklyn",
          "Queens",
          "Brooklyn",
          "Staten Island",
          "Bronx",
          "Bronx",
          "Brooklyn",
          "Queens",
          "Brooklyn",
          "Brooklyn",
          "Brooklyn",
          "Queens",
          "Staten Island",
          "Queens",
          "Brooklyn",
          "Brooklyn",
          "Brooklyn",
          "Manhattan",
          "Manhattan",
          "Queens",
          "Brooklyn",
          "Manhattan",
          "Bronx",
          "Brooklyn",
          "Manhattan",
          "Bronx",
          "Bronx",
          "Queens",
          "Queens",
          "Staten Island",
          "Staten Island",
          "Queens",
          "Bronx",
          "Manhattan",
          "Brooklyn",
          "Manhattan",
          "Brooklyn",
          "Queens",
          "Bronx",
          "Queens",
          "Brooklyn",
          "Brooklyn",
          "Staten Island",
          "Brooklyn",
          "Queens",
          "Brooklyn",
          "Brooklyn",
          "Queens",
          "Queens",
          "Brooklyn",
          "Manhattan",
          "Manhattan",
          "Staten Island",
          "Staten Island",
          "Brooklyn",
          "Staten Island",
          "Brooklyn",
          "Manhattan",
          "Staten Island",
          "Manhattan",
          "Manhattan",
          "Manhattan",
          "Bronx",
          "Queens",
          "Queens",
          "Queens",
          "Staten Island",
          "Staten Island",
          "Bronx",
          "Manhattan",
          "Queens",
          "Queens",
          "Queens",
          "Queens",
          "Brooklyn",
          "Queens",
          "Queens",
          "Bronx",
          "Manhattan",
          "Queens",
          "Staten Island",
          "Manhattan",
          "Queens",
          "Queens",
          "Bronx",
          "Manhattan",
          "Manhattan",
          "Brooklyn",
          "Manhattan",
          "Staten Island",
          "Queens",
          "Brooklyn",
          "Bronx",
          "Queens",
          "Staten Island",
          "Manhattan",
          "Brooklyn",
          "Brooklyn",
          "Manhattan",
          "Bronx",
          "Bronx",
          "Bronx",
          "Bronx",
          "Bronx",
          "Bronx",
          "Manhattan",
          "Brooklyn",
          "Queens",
          "Staten Island",
          "Staten Island",
          "Staten Island",
          "Staten Island",
          "Manhattan",
          "Manhattan",
          "Bronx",
          "Bronx",
          "Staten Island",
          "Bronx",
          "Queens",
          "Brooklyn",
          "Bronx",
          "Bronx",
          "Bronx",
          "Bronx",
          "Staten Island",
          "Staten Island",
          "Brooklyn",
          "Brooklyn",
          "Queens",
          "Staten Island",
          "Brooklyn",
          "Queens",
          "Queens",
          "Staten Island",
          "Queens",
          "Bronx",
          "Queens",
          "Manhattan",
          "Staten Island",
          "Queens",
          "Staten Island",
          "Bronx",
          "Brooklyn",
          "Brooklyn",
          "Staten Island",
          "Staten Island",
          "Manhattan",
          "Bronx",
          "Staten Island",
          "Queens",
          "Brooklyn",
          "Queens",
          "Bronx",
          "Queens",
          "Staten Island",
          "Staten Island",
          "Manhattan",
          "Queens",
          "Brooklyn",
          "Manhattan",
          "Bronx",
          "Staten Island",
          "Staten Island",
          "Staten Island",
          "Bronx",
          "Manhattan",
          "Manhattan",
          "Bronx",
          "Bronx",
          "Manhattan",
          "Manhattan",
          "Bronx",
          "Brooklyn",
          "Bronx",
          "Manhattan",
          "Manhattan",
          "Staten Island",
          "Bronx",
          "Manhattan",
          "Bronx",
          "Staten Island",
          "Queens",
          "Bronx",
          "Brooklyn",
          "Staten Island",
          "Brooklyn",
          "Queens",
          "Bronx",
          "Staten Island",
          "Queens",
          "",
          "",
          "",
          "",
          ""
         ],
         "type": "sunburst",
         "values": [
          1,
          1,
          73,
          6,
          31,
          154,
          1272,
          1,
          33,
          84,
          214,
          8,
          2,
          21,
          84,
          32,
          5331,
          26,
          19,
          35,
          111,
          22,
          243,
          194,
          7,
          79,
          112,
          1,
          29,
          188,
          117,
          9,
          3270,
          57,
          289,
          312,
          18,
          9,
          1558,
          1,
          503,
          31,
          62,
          47,
          40,
          2,
          28,
          757,
          4,
          128,
          35,
          66,
          33,
          82,
          55,
          28,
          117,
          2173,
          236,
          47,
          460,
          11,
          14,
          103,
          1,
          20,
          1,
          1,
          345,
          833,
          1550,
          15,
          449,
          2285,
          23,
          25,
          22,
          365,
          4,
          7,
          58,
          15,
          1024,
          852,
          106,
          156,
          693,
          97,
          204,
          648,
          74,
          1,
          1,
          62,
          1,
          3,
          2,
          88,
          335,
          469,
          1,
          5,
          17,
          105,
          14,
          1439,
          479,
          14,
          3659,
          2817,
          1,
          42,
          30,
          7,
          40,
          4,
          6,
          38,
          349,
          326,
          437,
          43,
          16,
          234,
          65,
          44,
          102,
          641,
          55,
          2,
          197,
          6,
          812,
          85,
          1366,
          1,
          13,
          20,
          18,
          172,
          1,
          20,
          47,
          13,
          2317,
          164,
          12,
          402,
          30,
          29,
          32,
          110,
          12,
          43,
          650,
          17,
          4,
          13,
          2,
          9,
          13,
          94,
          363,
          19,
          47,
          11,
          17,
          114,
          665,
          72,
          30,
          50,
          77,
          15,
          6,
          446,
          785,
          106,
          29,
          118,
          156,
          158,
          4,
          593,
          13,
          146,
          101,
          12,
          119,
          2,
          31,
          16,
          257,
          16,
          6,
          477,
          23,
          10,
          85,
          375,
          196,
          6,
          156,
          87,
          44,
          55,
          519,
          556,
          428,
          42,
          5,
          78,
          9,
          22,
          243,
          88,
          17,
          36,
          2460,
          2601,
          21,
          45,
          123,
          1163,
          1,
          36,
          5,
          968,
          15,
          3,
          18,
          76,
          5079,
          2,
          217,
          141,
          17,
          2,
          448,
          1912,
          27895,
          29587,
          9262,
          649
         ]
        }
       ],
       "layout": {
        "legend": {
         "tracegroupgap": 0
        },
        "template": {
         "data": {
          "bar": [
           {
            "error_x": {
             "color": "#2a3f5f"
            },
            "error_y": {
             "color": "#2a3f5f"
            },
            "marker": {
             "line": {
              "color": "#E5ECF6",
              "width": 0.5
             },
             "pattern": {
              "fillmode": "overlay",
              "size": 10,
              "solidity": 0.2
             }
            },
            "type": "bar"
           }
          ],
          "barpolar": [
           {
            "marker": {
             "line": {
              "color": "#E5ECF6",
              "width": 0.5
             },
             "pattern": {
              "fillmode": "overlay",
              "size": 10,
              "solidity": 0.2
             }
            },
            "type": "barpolar"
           }
          ],
          "carpet": [
           {
            "aaxis": {
             "endlinecolor": "#2a3f5f",
             "gridcolor": "white",
             "linecolor": "white",
             "minorgridcolor": "white",
             "startlinecolor": "#2a3f5f"
            },
            "baxis": {
             "endlinecolor": "#2a3f5f",
             "gridcolor": "white",
             "linecolor": "white",
             "minorgridcolor": "white",
             "startlinecolor": "#2a3f5f"
            },
            "type": "carpet"
           }
          ],
          "choropleth": [
           {
            "colorbar": {
             "outlinewidth": 0,
             "ticks": ""
            },
            "type": "choropleth"
           }
          ],
          "contour": [
           {
            "colorbar": {
             "outlinewidth": 0,
             "ticks": ""
            },
            "colorscale": [
             [
              0,
              "#0d0887"
             ],
             [
              0.1111111111111111,
              "#46039f"
             ],
             [
              0.2222222222222222,
              "#7201a8"
             ],
             [
              0.3333333333333333,
              "#9c179e"
             ],
             [
              0.4444444444444444,
              "#bd3786"
             ],
             [
              0.5555555555555556,
              "#d8576b"
             ],
             [
              0.6666666666666666,
              "#ed7953"
             ],
             [
              0.7777777777777778,
              "#fb9f3a"
             ],
             [
              0.8888888888888888,
              "#fdca26"
             ],
             [
              1,
              "#f0f921"
             ]
            ],
            "type": "contour"
           }
          ],
          "contourcarpet": [
           {
            "colorbar": {
             "outlinewidth": 0,
             "ticks": ""
            },
            "type": "contourcarpet"
           }
          ],
          "heatmap": [
           {
            "colorbar": {
             "outlinewidth": 0,
             "ticks": ""
            },
            "colorscale": [
             [
              0,
              "#0d0887"
             ],
             [
              0.1111111111111111,
              "#46039f"
             ],
             [
              0.2222222222222222,
              "#7201a8"
             ],
             [
              0.3333333333333333,
              "#9c179e"
             ],
             [
              0.4444444444444444,
              "#bd3786"
             ],
             [
              0.5555555555555556,
              "#d8576b"
             ],
             [
              0.6666666666666666,
              "#ed7953"
             ],
             [
              0.7777777777777778,
              "#fb9f3a"
             ],
             [
              0.8888888888888888,
              "#fdca26"
             ],
             [
              1,
              "#f0f921"
             ]
            ],
            "type": "heatmap"
           }
          ],
          "heatmapgl": [
           {
            "colorbar": {
             "outlinewidth": 0,
             "ticks": ""
            },
            "colorscale": [
             [
              0,
              "#0d0887"
             ],
             [
              0.1111111111111111,
              "#46039f"
             ],
             [
              0.2222222222222222,
              "#7201a8"
             ],
             [
              0.3333333333333333,
              "#9c179e"
             ],
             [
              0.4444444444444444,
              "#bd3786"
             ],
             [
              0.5555555555555556,
              "#d8576b"
             ],
             [
              0.6666666666666666,
              "#ed7953"
             ],
             [
              0.7777777777777778,
              "#fb9f3a"
             ],
             [
              0.8888888888888888,
              "#fdca26"
             ],
             [
              1,
              "#f0f921"
             ]
            ],
            "type": "heatmapgl"
           }
          ],
          "histogram": [
           {
            "marker": {
             "pattern": {
              "fillmode": "overlay",
              "size": 10,
              "solidity": 0.2
             }
            },
            "type": "histogram"
           }
          ],
          "histogram2d": [
           {
            "colorbar": {
             "outlinewidth": 0,
             "ticks": ""
            },
            "colorscale": [
             [
              0,
              "#0d0887"
             ],
             [
              0.1111111111111111,
              "#46039f"
             ],
             [
              0.2222222222222222,
              "#7201a8"
             ],
             [
              0.3333333333333333,
              "#9c179e"
             ],
             [
              0.4444444444444444,
              "#bd3786"
             ],
             [
              0.5555555555555556,
              "#d8576b"
             ],
             [
              0.6666666666666666,
              "#ed7953"
             ],
             [
              0.7777777777777778,
              "#fb9f3a"
             ],
             [
              0.8888888888888888,
              "#fdca26"
             ],
             [
              1,
              "#f0f921"
             ]
            ],
            "type": "histogram2d"
           }
          ],
          "histogram2dcontour": [
           {
            "colorbar": {
             "outlinewidth": 0,
             "ticks": ""
            },
            "colorscale": [
             [
              0,
              "#0d0887"
             ],
             [
              0.1111111111111111,
              "#46039f"
             ],
             [
              0.2222222222222222,
              "#7201a8"
             ],
             [
              0.3333333333333333,
              "#9c179e"
             ],
             [
              0.4444444444444444,
              "#bd3786"
             ],
             [
              0.5555555555555556,
              "#d8576b"
             ],
             [
              0.6666666666666666,
              "#ed7953"
             ],
             [
              0.7777777777777778,
              "#fb9f3a"
             ],
             [
              0.8888888888888888,
              "#fdca26"
             ],
             [
              1,
              "#f0f921"
             ]
            ],
            "type": "histogram2dcontour"
           }
          ],
          "mesh3d": [
           {
            "colorbar": {
             "outlinewidth": 0,
             "ticks": ""
            },
            "type": "mesh3d"
           }
          ],
          "parcoords": [
           {
            "line": {
             "colorbar": {
              "outlinewidth": 0,
              "ticks": ""
             }
            },
            "type": "parcoords"
           }
          ],
          "pie": [
           {
            "automargin": true,
            "type": "pie"
           }
          ],
          "scatter": [
           {
            "fillpattern": {
             "fillmode": "overlay",
             "size": 10,
             "solidity": 0.2
            },
            "type": "scatter"
           }
          ],
          "scatter3d": [
           {
            "line": {
             "colorbar": {
              "outlinewidth": 0,
              "ticks": ""
             }
            },
            "marker": {
             "colorbar": {
              "outlinewidth": 0,
              "ticks": ""
             }
            },
            "type": "scatter3d"
           }
          ],
          "scattercarpet": [
           {
            "marker": {
             "colorbar": {
              "outlinewidth": 0,
              "ticks": ""
             }
            },
            "type": "scattercarpet"
           }
          ],
          "scattergeo": [
           {
            "marker": {
             "colorbar": {
              "outlinewidth": 0,
              "ticks": ""
             }
            },
            "type": "scattergeo"
           }
          ],
          "scattergl": [
           {
            "marker": {
             "colorbar": {
              "outlinewidth": 0,
              "ticks": ""
             }
            },
            "type": "scattergl"
           }
          ],
          "scattermapbox": [
           {
            "marker": {
             "colorbar": {
              "outlinewidth": 0,
              "ticks": ""
             }
            },
            "type": "scattermapbox"
           }
          ],
          "scatterpolar": [
           {
            "marker": {
             "colorbar": {
              "outlinewidth": 0,
              "ticks": ""
             }
            },
            "type": "scatterpolar"
           }
          ],
          "scatterpolargl": [
           {
            "marker": {
             "colorbar": {
              "outlinewidth": 0,
              "ticks": ""
             }
            },
            "type": "scatterpolargl"
           }
          ],
          "scatterternary": [
           {
            "marker": {
             "colorbar": {
              "outlinewidth": 0,
              "ticks": ""
             }
            },
            "type": "scatterternary"
           }
          ],
          "surface": [
           {
            "colorbar": {
             "outlinewidth": 0,
             "ticks": ""
            },
            "colorscale": [
             [
              0,
              "#0d0887"
             ],
             [
              0.1111111111111111,
              "#46039f"
             ],
             [
              0.2222222222222222,
              "#7201a8"
             ],
             [
              0.3333333333333333,
              "#9c179e"
             ],
             [
              0.4444444444444444,
              "#bd3786"
             ],
             [
              0.5555555555555556,
              "#d8576b"
             ],
             [
              0.6666666666666666,
              "#ed7953"
             ],
             [
              0.7777777777777778,
              "#fb9f3a"
             ],
             [
              0.8888888888888888,
              "#fdca26"
             ],
             [
              1,
              "#f0f921"
             ]
            ],
            "type": "surface"
           }
          ],
          "table": [
           {
            "cells": {
             "fill": {
              "color": "#EBF0F8"
             },
             "line": {
              "color": "white"
             }
            },
            "header": {
             "fill": {
              "color": "#C8D4E3"
             },
             "line": {
              "color": "white"
             }
            },
            "type": "table"
           }
          ]
         },
         "layout": {
          "annotationdefaults": {
           "arrowcolor": "#2a3f5f",
           "arrowhead": 0,
           "arrowwidth": 1
          },
          "autotypenumbers": "strict",
          "coloraxis": {
           "colorbar": {
            "outlinewidth": 0,
            "ticks": ""
           }
          },
          "colorscale": {
           "diverging": [
            [
             0,
             "#8e0152"
            ],
            [
             0.1,
             "#c51b7d"
            ],
            [
             0.2,
             "#de77ae"
            ],
            [
             0.3,
             "#f1b6da"
            ],
            [
             0.4,
             "#fde0ef"
            ],
            [
             0.5,
             "#f7f7f7"
            ],
            [
             0.6,
             "#e6f5d0"
            ],
            [
             0.7,
             "#b8e186"
            ],
            [
             0.8,
             "#7fbc41"
            ],
            [
             0.9,
             "#4d9221"
            ],
            [
             1,
             "#276419"
            ]
           ],
           "sequential": [
            [
             0,
             "#0d0887"
            ],
            [
             0.1111111111111111,
             "#46039f"
            ],
            [
             0.2222222222222222,
             "#7201a8"
            ],
            [
             0.3333333333333333,
             "#9c179e"
            ],
            [
             0.4444444444444444,
             "#bd3786"
            ],
            [
             0.5555555555555556,
             "#d8576b"
            ],
            [
             0.6666666666666666,
             "#ed7953"
            ],
            [
             0.7777777777777778,
             "#fb9f3a"
            ],
            [
             0.8888888888888888,
             "#fdca26"
            ],
            [
             1,
             "#f0f921"
            ]
           ],
           "sequentialminus": [
            [
             0,
             "#0d0887"
            ],
            [
             0.1111111111111111,
             "#46039f"
            ],
            [
             0.2222222222222222,
             "#7201a8"
            ],
            [
             0.3333333333333333,
             "#9c179e"
            ],
            [
             0.4444444444444444,
             "#bd3786"
            ],
            [
             0.5555555555555556,
             "#d8576b"
            ],
            [
             0.6666666666666666,
             "#ed7953"
            ],
            [
             0.7777777777777778,
             "#fb9f3a"
            ],
            [
             0.8888888888888888,
             "#fdca26"
            ],
            [
             1,
             "#f0f921"
            ]
           ]
          },
          "colorway": [
           "#636efa",
           "#EF553B",
           "#00cc96",
           "#ab63fa",
           "#FFA15A",
           "#19d3f3",
           "#FF6692",
           "#B6E880",
           "#FF97FF",
           "#FECB52"
          ],
          "font": {
           "color": "#2a3f5f"
          },
          "geo": {
           "bgcolor": "white",
           "lakecolor": "white",
           "landcolor": "#E5ECF6",
           "showlakes": true,
           "showland": true,
           "subunitcolor": "white"
          },
          "hoverlabel": {
           "align": "left"
          },
          "hovermode": "closest",
          "mapbox": {
           "style": "light"
          },
          "paper_bgcolor": "white",
          "plot_bgcolor": "#E5ECF6",
          "polar": {
           "angularaxis": {
            "gridcolor": "white",
            "linecolor": "white",
            "ticks": ""
           },
           "bgcolor": "#E5ECF6",
           "radialaxis": {
            "gridcolor": "white",
            "linecolor": "white",
            "ticks": ""
           }
          },
          "scene": {
           "xaxis": {
            "backgroundcolor": "#E5ECF6",
            "gridcolor": "white",
            "gridwidth": 2,
            "linecolor": "white",
            "showbackground": true,
            "ticks": "",
            "zerolinecolor": "white"
           },
           "yaxis": {
            "backgroundcolor": "#E5ECF6",
            "gridcolor": "white",
            "gridwidth": 2,
            "linecolor": "white",
            "showbackground": true,
            "ticks": "",
            "zerolinecolor": "white"
           },
           "zaxis": {
            "backgroundcolor": "#E5ECF6",
            "gridcolor": "white",
            "gridwidth": 2,
            "linecolor": "white",
            "showbackground": true,
            "ticks": "",
            "zerolinecolor": "white"
           }
          },
          "shapedefaults": {
           "line": {
            "color": "#2a3f5f"
           }
          },
          "ternary": {
           "aaxis": {
            "gridcolor": "white",
            "linecolor": "white",
            "ticks": ""
           },
           "baxis": {
            "gridcolor": "white",
            "linecolor": "white",
            "ticks": ""
           },
           "bgcolor": "#E5ECF6",
           "caxis": {
            "gridcolor": "white",
            "linecolor": "white",
            "ticks": ""
           }
          },
          "title": {
           "x": 0.05
          },
          "xaxis": {
           "automargin": true,
           "gridcolor": "white",
           "linecolor": "white",
           "ticks": "",
           "title": {
            "standoff": 15
           },
           "zerolinecolor": "white",
           "zerolinewidth": 2
          },
          "yaxis": {
           "automargin": true,
           "gridcolor": "white",
           "linecolor": "white",
           "ticks": "",
           "title": {
            "standoff": 15
           },
           "zerolinecolor": "white",
           "zerolinewidth": 2
          }
         }
        },
        "title": {
         "text": "Distribution of listings by Suburb and Street"
        }
       }
      }
     },
     "metadata": {},
     "output_type": "display_data"
    }
   ],
   "source": [
    "fig = px.sunburst(df, path=['neighbourhood_group', 'neighbourhood'],\n",
    "                  title='Distribution of listings by Suburb and Street')\n",
    "fig.show()"
   ]
  },
  {
   "cell_type": "code",
   "execution_count": 9,
   "metadata": {},
   "outputs": [
    {
     "data": {
      "text/plain": [
       "27"
      ]
     },
     "execution_count": 9,
     "metadata": {},
     "output_type": "execute_result"
    }
   ],
   "source": [
    "gc.collect()"
   ]
  },
  {
   "cell_type": "code",
   "execution_count": null,
   "metadata": {},
   "outputs": [],
   "source": [
    "import geopandas\n",
    "import geoplot\n",
    "import contextily as cx\n",
    "boroughs = geopandas.read_file(geoplot.datasets.get_path('nyc_boroughs'))\n",
    "geo_df=geopandas.GeoDataFrame(df,geometry=geopandas.points_from_xy(df[\"long\"], df[\"lat\"]))\n",
    "fig,ax=plt.subplots(figsize=(15,15))\n",
    "boroughs.plot(ax=ax, alpha=0.5, edgecolor='k')\n",
    "cx.add_basemap(ax, crs=boroughs.crs)\n",
    "geo_df.plot(ax=ax,markersize=1, alpha=0.4,color=\"red\")\n",
    "plt.title('All Airbnb listings on the NYC map')\n",
    "fig.show()\n",
    "\n"
   ]
  },
  {
   "cell_type": "code",
   "execution_count": null,
   "metadata": {},
   "outputs": [],
   "source": [
    "plt.figure(figsize=(12,6))\n",
    "temp = df.sort_values(by=\"reviews_per_month\", axis=0, ascending=False).iloc[:20, :]\n",
    "sns.barplot(data=temp, y='name', x='reviews_per_month')\n",
    "plt.title('Ranking of top NYC listings by Reviews per month')\n",
    "plt.show()"
   ]
  }
 ],
 "metadata": {
  "kernelspec": {
   "display_name": "Python 3.9.7 ('base')",
   "language": "python",
   "name": "python3"
  },
  "language_info": {
   "codemirror_mode": {
    "name": "ipython",
    "version": 3
   },
   "file_extension": ".py",
   "mimetype": "text/x-python",
   "name": "python",
   "nbconvert_exporter": "python",
   "pygments_lexer": "ipython3",
   "version": "3.9.7"
  },
  "orig_nbformat": 4,
  "vscode": {
   "interpreter": {
    "hash": "ffdf9ff849a9e62036c2d093054c47419bae71deb73d34b10ee73bda79d88ef6"
   }
  }
 },
 "nbformat": 4,
 "nbformat_minor": 2
}

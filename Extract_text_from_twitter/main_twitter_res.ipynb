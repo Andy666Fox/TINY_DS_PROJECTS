{
 "cells": [
  {
   "cell_type": "code",
   "execution_count": 2,
   "metadata": {},
   "outputs": [],
   "source": [
    "import pandas as pd \n",
    "import matplotlib.pyplot as plt\n",
    "import seaborn as sns\n",
    "import warnings\n",
    "\n",
    "warnings.filterwarnings('ignore')"
   ]
  },
  {
   "cell_type": "code",
   "execution_count": 3,
   "metadata": {},
   "outputs": [
    {
     "data": {
      "text/html": [
       "<div>\n",
       "<style scoped>\n",
       "    .dataframe tbody tr th:only-of-type {\n",
       "        vertical-align: middle;\n",
       "    }\n",
       "\n",
       "    .dataframe tbody tr th {\n",
       "        vertical-align: top;\n",
       "    }\n",
       "\n",
       "    .dataframe thead th {\n",
       "        text-align: right;\n",
       "    }\n",
       "</style>\n",
       "<table border=\"1\" class=\"dataframe\">\n",
       "  <thead>\n",
       "    <tr style=\"text-align: right;\">\n",
       "      <th></th>\n",
       "      <th>Timestamp</th>\n",
       "      <th>Tweet</th>\n",
       "    </tr>\n",
       "  </thead>\n",
       "  <tbody>\n",
       "    <tr>\n",
       "      <th>0</th>\n",
       "      <td>5/29/2019 15:40</td>\n",
       "      <td>b\"RT @Jonny_her_she: It's been 3 long years #R...</td>\n",
       "    </tr>\n",
       "    <tr>\n",
       "      <th>1</th>\n",
       "      <td>5/29/2019 15:39</td>\n",
       "      <td>b'RT @BasedBeefy: I miss you so fucken much #R...</td>\n",
       "    </tr>\n",
       "    <tr>\n",
       "      <th>2</th>\n",
       "      <td>5/29/2019 15:38</td>\n",
       "      <td>b'RT @SamTulipane: 3 years ago this sweet prin...</td>\n",
       "    </tr>\n",
       "    <tr>\n",
       "      <th>3</th>\n",
       "      <td>5/29/2019 15:34</td>\n",
       "      <td>b\"RT @EvilJoeyVotto: Let's win today for our b...</td>\n",
       "    </tr>\n",
       "    <tr>\n",
       "      <th>4</th>\n",
       "      <td>5/29/2019 15:28</td>\n",
       "      <td>b'RT @Krisp838: That 3 year old we killed #Har...</td>\n",
       "    </tr>\n",
       "  </tbody>\n",
       "</table>\n",
       "</div>"
      ],
      "text/plain": [
       "         Timestamp                                              Tweet\n",
       "0  5/29/2019 15:40  b\"RT @Jonny_her_she: It's been 3 long years #R...\n",
       "1  5/29/2019 15:39  b'RT @BasedBeefy: I miss you so fucken much #R...\n",
       "2  5/29/2019 15:38  b'RT @SamTulipane: 3 years ago this sweet prin...\n",
       "3  5/29/2019 15:34  b\"RT @EvilJoeyVotto: Let's win today for our b...\n",
       "4  5/29/2019 15:28  b'RT @Krisp838: That 3 year old we killed #Har..."
      ]
     },
     "execution_count": 3,
     "metadata": {},
     "output_type": "execute_result"
    }
   ],
   "source": [
    "df = pd.read_csv('./input/RIPHarambe.csv')\n",
    "df.head()"
   ]
  },
  {
   "cell_type": "code",
   "execution_count": 4,
   "metadata": {},
   "outputs": [
    {
     "name": "stdout",
     "output_type": "stream",
     "text": [
      "            Timestamp                                              Tweet\n",
      "1106  5/28/2019 22:13  RT @BasedBeefy: I miss you so fucken much #RIP...\n",
      "303    5/29/2019 3:39  #RIPHarambe @datsik @Excision @diontimmermusic...\n",
      "1826  5/28/2019 19:42  3 years later, and it still doesn\\xe2\\x80\\x99t...\n",
      "8     5/29/2019 15:20  RT @sirwahlie: As of yesterday, we lost a wond...\n",
      "1504  5/28/2019 20:43  Today marks three years since Harambe left us ...\n"
     ]
    }
   ],
   "source": [
    "df['Tweet'].replace(to_replace=r'^b', value='', regex=True, inplace=True)\n",
    "df['Tweet'] = df['Tweet'].str.strip('\"|\\'')\n",
    "df['Tweet'] = df['Tweet'].str.strip() \n",
    "\n",
    "print(df.sample(5))"
   ]
  },
  {
   "cell_type": "code",
   "execution_count": 6,
   "metadata": {},
   "outputs": [],
   "source": [
    "df['Tweet'].replace(to_replace = r'\\\\n', value = ' ', regex = True, inplace = True)\n",
    "df['Tweet'].replace(to_replace = r'\\\\xe2\\\\x80\\\\x99', value = '\\'',  regex = True, inplace = True)\n",
    "df['Tweet'].replace(to_replace = r'\\\\xe2\\\\x80\\\\xa6', value = '...', regex = True, inplace = True)\n",
    "df['Tweet'].replace(to_replace = r'\\\\x[0-9a-fA-F][0-9a-fA-F]', value = '', regex = True, inplace = True)"
   ]
  },
  {
   "cell_type": "code",
   "execution_count": 7,
   "metadata": {},
   "outputs": [],
   "source": [
    "for i in range(0, len(df)):\n",
    "    df['Tweet'][i] = df['Tweet'][i].split('http')[0]\n",
    "    \n",
    "    if df['Tweet'].loc[i].find(':') != -1:\n",
    "        df['Tweet'].loc[i] = df['Tweet'].loc[i].split(':')[1]\n",
    "        \n",
    "    df['Tweet'].loc[i] = ' '.join(x for x in df['Tweet'][i].split() if not x.startswith('#'))\n",
    "    df['Tweet'].loc[i] = ' '.join(x for x in df['Tweet'][i].split() if not x.startswith('@'))"
   ]
  },
  {
   "cell_type": "code",
   "execution_count": 8,
   "metadata": {},
   "outputs": [
    {
     "name": "stdout",
     "output_type": "stream",
     "text": [
      "search:   \"x[0-9a-fA-F][0-9a-fA-F]\"\n",
      "          Timestamp                                              Tweet\n",
      "484  5/29/2019 1:43  I believe God gave us this rainbow today becau...\n",
      "\n",
      "\n",
      "search:   \"#\"\n",
      "            Timestamp                                              Tweet\n",
      "652    5/29/2019 0:35  Harambe has really been gone for 3 years...#RI...\n",
      "994   5/28/2019 22:41  I can't believe it's been 3 years.... miss you...\n",
      "1827  5/28/2019 19:42  It's been 3 hard years since he's passed.#RIPH...\n",
      "2076  5/28/2019 18:59  NEW MUSIC VIDEO OUT NOW ON YOUTUBE type in Jef...\n",
      "\n",
      "\n",
      "search:   \"@\"\n",
      "           Timestamp                                              Tweet\n",
      "474   5/29/2019 1:49  .@elonmusk We would appreciate a generous dona...\n",
      "513   5/29/2019 1:27  .@elonmusk We would appreciate a generous dona...\n",
      "518   5/29/2019 1:26  .@elonmusk We would appreciate a generous dona...\n",
      "986  5/28/2019 22:43  .@prattprattpratt in remembrance of our dear f...\n",
      "\n",
      "\n"
     ]
    }
   ],
   "source": [
    "checkWords = ['x[0-9a-fA-F][0-9a-fA-F]', '#', '@']\n",
    "\n",
    "for i in checkWords:\n",
    "    x = df[df['Tweet'].str.contains(i)]\n",
    "    if len(x) > 0:\n",
    "        print('search:   \\\"{}\\\"\\n{}\\n\\n'.format(i, x))"
   ]
  },
  {
   "cell_type": "code",
   "execution_count": null,
   "metadata": {},
   "outputs": [],
   "source": []
  },
  {
   "cell_type": "code",
   "execution_count": null,
   "metadata": {},
   "outputs": [],
   "source": []
  },
  {
   "cell_type": "code",
   "execution_count": null,
   "metadata": {},
   "outputs": [],
   "source": []
  },
  {
   "cell_type": "code",
   "execution_count": null,
   "metadata": {},
   "outputs": [],
   "source": []
  },
  {
   "cell_type": "code",
   "execution_count": null,
   "metadata": {},
   "outputs": [],
   "source": []
  },
  {
   "cell_type": "code",
   "execution_count": null,
   "metadata": {},
   "outputs": [],
   "source": []
  }
 ],
 "metadata": {
  "interpreter": {
   "hash": "745580af149099085c602309336f96fdb3d04063157b41704fe01950326166b1"
  },
  "kernelspec": {
   "display_name": "Python 3.8.8 64-bit ('base': conda)",
   "language": "python",
   "name": "python3"
  },
  "language_info": {
   "codemirror_mode": {
    "name": "ipython",
    "version": 3
   },
   "file_extension": ".py",
   "mimetype": "text/x-python",
   "name": "python",
   "nbconvert_exporter": "python",
   "pygments_lexer": "ipython3",
   "version": "3.8.8"
  },
  "orig_nbformat": 4
 },
 "nbformat": 4,
 "nbformat_minor": 2
}

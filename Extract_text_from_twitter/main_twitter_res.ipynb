{
 "cells": [
  {
   "cell_type": "code",
   "execution_count": 2,
   "metadata": {},
   "outputs": [],
   "source": [
    "import pandas as pd \n",
    "import matplotlib.pyplot as plt\n",
    "import seaborn as sns\n",
    "import warnings\n",
    "\n",
    "warnings.filterwarnings('ignore')"
   ]
  },
  {
   "cell_type": "code",
   "execution_count": 3,
   "metadata": {},
   "outputs": [
    {
     "data": {
      "text/html": [
       "<div>\n",
       "<style scoped>\n",
       "    .dataframe tbody tr th:only-of-type {\n",
       "        vertical-align: middle;\n",
       "    }\n",
       "\n",
       "    .dataframe tbody tr th {\n",
       "        vertical-align: top;\n",
       "    }\n",
       "\n",
       "    .dataframe thead th {\n",
       "        text-align: right;\n",
       "    }\n",
       "</style>\n",
       "<table border=\"1\" class=\"dataframe\">\n",
       "  <thead>\n",
       "    <tr style=\"text-align: right;\">\n",
       "      <th></th>\n",
       "      <th>Timestamp</th>\n",
       "      <th>Tweet</th>\n",
       "    </tr>\n",
       "  </thead>\n",
       "  <tbody>\n",
       "    <tr>\n",
       "      <th>0</th>\n",
       "      <td>5/29/2019 15:40</td>\n",
       "      <td>b\"RT @Jonny_her_she: It's been 3 long years #R...</td>\n",
       "    </tr>\n",
       "    <tr>\n",
       "      <th>1</th>\n",
       "      <td>5/29/2019 15:39</td>\n",
       "      <td>b'RT @BasedBeefy: I miss you so fucken much #R...</td>\n",
       "    </tr>\n",
       "    <tr>\n",
       "      <th>2</th>\n",
       "      <td>5/29/2019 15:38</td>\n",
       "      <td>b'RT @SamTulipane: 3 years ago this sweet prin...</td>\n",
       "    </tr>\n",
       "    <tr>\n",
       "      <th>3</th>\n",
       "      <td>5/29/2019 15:34</td>\n",
       "      <td>b\"RT @EvilJoeyVotto: Let's win today for our b...</td>\n",
       "    </tr>\n",
       "    <tr>\n",
       "      <th>4</th>\n",
       "      <td>5/29/2019 15:28</td>\n",
       "      <td>b'RT @Krisp838: That 3 year old we killed #Har...</td>\n",
       "    </tr>\n",
       "  </tbody>\n",
       "</table>\n",
       "</div>"
      ],
      "text/plain": [
       "         Timestamp                                              Tweet\n",
       "0  5/29/2019 15:40  b\"RT @Jonny_her_she: It's been 3 long years #R...\n",
       "1  5/29/2019 15:39  b'RT @BasedBeefy: I miss you so fucken much #R...\n",
       "2  5/29/2019 15:38  b'RT @SamTulipane: 3 years ago this sweet prin...\n",
       "3  5/29/2019 15:34  b\"RT @EvilJoeyVotto: Let's win today for our b...\n",
       "4  5/29/2019 15:28  b'RT @Krisp838: That 3 year old we killed #Har..."
      ]
     },
     "execution_count": 3,
     "metadata": {},
     "output_type": "execute_result"
    }
   ],
   "source": [
    "df = pd.read_csv('./input/RIPHarambe.csv')\n",
    "df.head()"
   ]
  },
  {
   "cell_type": "code",
   "execution_count": 4,
   "metadata": {},
   "outputs": [
    {
     "name": "stdout",
     "output_type": "stream",
     "text": [
      "            Timestamp                                              Tweet\n",
      "1106  5/28/2019 22:13  RT @BasedBeefy: I miss you so fucken much #RIP...\n",
      "303    5/29/2019 3:39  #RIPHarambe @datsik @Excision @diontimmermusic...\n",
      "1826  5/28/2019 19:42  3 years later, and it still doesn\\xe2\\x80\\x99t...\n",
      "8     5/29/2019 15:20  RT @sirwahlie: As of yesterday, we lost a wond...\n",
      "1504  5/28/2019 20:43  Today marks three years since Harambe left us ...\n"
     ]
    }
   ],
   "source": [
    "df['Tweet'].replace(to_replace=r'^b', value='', regex=True, inplace=True)\n",
    "df['Tweet'] = df['Tweet'].str.strip('\"|\\'')\n",
    "df['Tweet'] = df['Tweet'].str.strip() \n",
    "\n",
    "print(df.sample(5))"
   ]
  },
  {
   "cell_type": "code",
   "execution_count": 6,
   "metadata": {},
   "outputs": [],
   "source": [
    "df['Tweet'].replace(to_replace = r'\\\\n', value = ' ', regex = True, inplace = True)\n",
    "df['Tweet'].replace(to_replace = r'\\\\xe2\\\\x80\\\\x99', value = '\\'',  regex = True, inplace = True)\n",
    "df['Tweet'].replace(to_replace = r'\\\\xe2\\\\x80\\\\xa6', value = '...', regex = True, inplace = True)\n",
    "df['Tweet'].replace(to_replace = r'\\\\x[0-9a-fA-F][0-9a-fA-F]', value = '', regex = True, inplace = True)"
   ]
  },
  {
   "cell_type": "code",
   "execution_count": 7,
   "metadata": {},
   "outputs": [],
   "source": [
    "for i in range(0, len(df)):\n",
    "    df['Tweet'][i] = df['Tweet'][i].split('http')[0]\n",
    "    \n",
    "    if df['Tweet'].loc[i].find(':') != -1:\n",
    "        df['Tweet'].loc[i] = df['Tweet'].loc[i].split(':')[1]\n",
    "        \n",
    "    df['Tweet'].loc[i] = ' '.join(x for x in df['Tweet'][i].split() if not x.startswith('#'))\n",
    "    df['Tweet'].loc[i] = ' '.join(x for x in df['Tweet'][i].split() if not x.startswith('@'))"
   ]
  },
  {
   "cell_type": "code",
   "execution_count": 8,
   "metadata": {},
   "outputs": [
    {
     "name": "stdout",
     "output_type": "stream",
     "text": [
      "search:   \"x[0-9a-fA-F][0-9a-fA-F]\"\n",
      "          Timestamp                                              Tweet\n",
      "484  5/29/2019 1:43  I believe God gave us this rainbow today becau...\n",
      "\n",
      "\n",
      "search:   \"#\"\n",
      "            Timestamp                                              Tweet\n",
      "652    5/29/2019 0:35  Harambe has really been gone for 3 years...#RI...\n",
      "994   5/28/2019 22:41  I can't believe it's been 3 years.... miss you...\n",
      "1827  5/28/2019 19:42  It's been 3 hard years since he's passed.#RIPH...\n",
      "2076  5/28/2019 18:59  NEW MUSIC VIDEO OUT NOW ON YOUTUBE type in Jef...\n",
      "\n",
      "\n",
      "search:   \"@\"\n",
      "           Timestamp                                              Tweet\n",
      "474   5/29/2019 1:49  .@elonmusk We would appreciate a generous dona...\n",
      "513   5/29/2019 1:27  .@elonmusk We would appreciate a generous dona...\n",
      "518   5/29/2019 1:26  .@elonmusk We would appreciate a generous dona...\n",
      "986  5/28/2019 22:43  .@prattprattpratt in remembrance of our dear f...\n",
      "\n",
      "\n"
     ]
    }
   ],
   "source": [
    "checkWords = ['x[0-9a-fA-F][0-9a-fA-F]', '#', '@']\n",
    "\n",
    "for i in checkWords:\n",
    "    x = df[df['Tweet'].str.contains(i)]\n",
    "    if len(x) > 0:\n",
    "        print('search:   \\\"{}\\\"\\n{}\\n\\n'.format(i, x))"
   ]
  },
  {
   "cell_type": "code",
   "execution_count": 9,
   "metadata": {},
   "outputs": [],
   "source": [
    "df['Tweet'].replace(to_replace=r'#RIPHaramble', value='', regex=True, inplace=True)\n",
    "df['Tweet'].replace(to_replace=r'#SHARE NOW', value='', regex=True, inplace=True)\n",
    "df['Tweet'].replace(to_replace=r'\\.@elonmusk', value='', regex=True, inplace=True)\n",
    "df['Tweet'].replace(to_replace=r'\\.@prattprattpratt', value='', regex=True, inplace=True)"
   ]
  },
  {
   "cell_type": "code",
   "execution_count": 10,
   "metadata": {},
   "outputs": [
    {
     "name": "stdout",
     "output_type": "stream",
     "text": [
      "x[0-9a-fA-F][0-9a-fA-F]\n",
      "#\n"
     ]
    }
   ],
   "source": [
    "for i in checkWords:\n",
    "    x = df[df['Tweet'].str.contains(i)]\n",
    "    if len(x) > 0:\n",
    "        print(i)"
   ]
  },
  {
   "cell_type": "code",
   "execution_count": 11,
   "metadata": {},
   "outputs": [
    {
     "name": "stdout",
     "output_type": "stream",
     "text": [
      "            Timestamp                                              Tweet\n",
      "7     5/29/2019 15:21  3 years ago this sweet prince was murdered. Le...\n",
      "462    5/29/2019 1:53               We all had our dicks out 3 years ago\n",
      "2116  5/28/2019 18:51                                                   \n",
      "1511  5/28/2019 20:42                              paint scheme concept.\n",
      "770   5/28/2019 23:51                                                   \n",
      "800   5/28/2019 23:41  3 years ago this sweet prince was murdered. Le...\n",
      "909   5/28/2019 23:02  I want to go up with Harambe in the sky That's...\n",
      "648    5/29/2019 0:36  It's been 3 years since Harambe was shot and k...\n",
      "1845  5/28/2019 19:39  3 years ago today, we lost the one and only le...\n",
      "453    5/29/2019 1:58  Today marks three years of a lost brave soul. ...\n",
      "725    5/29/2019 0:03   Three years ago today, Cincinnati lost a legend.\n",
      "1493  5/28/2019 20:46                                                   \n",
      "702    5/29/2019 0:09                               3 years as of today.\n",
      "1270  5/28/2019 21:41                                                   \n",
      "880   5/28/2019 23:11                        Another year without a king\n",
      "1550  5/28/2019 20:35  We will always be on it. If doesn't want to ac...\n",
      "750   5/28/2019 23:56              today is the only day you can retweet\n",
      "1285  5/28/2019 21:38            Comebacks are a thing in this game! LoL\n",
      "1579  5/28/2019 20:29  to a True legend in the Gaming Community You n...\n",
      "395    5/29/2019 2:28                          I miss you so fucken much\n"
     ]
    }
   ],
   "source": [
    "print(df.sample(20))"
   ]
  },
  {
   "cell_type": "code",
   "execution_count": 12,
   "metadata": {},
   "outputs": [],
   "source": [
    "df['Tweet'] = df['Tweet'].str.lower()\n",
    "df['Tweet'].replace(to_replace='legends', value='legend', regex=True, inplace=True)"
   ]
  },
  {
   "cell_type": "code",
   "execution_count": 13,
   "metadata": {},
   "outputs": [],
   "source": [
    "remove_words = ['3', 'long', 'years', 'year', 'goes', 'cant',\n",
    "                'today', 'ago', 'later', 'three', 'fucking',\n",
    "                'fucken', 'happen', 'much', 'dietrich', 'shit',\n",
    "                'tweet', 'im', 'follow', 'lifete', 'think', 'well',\n",
    "                'will', 'going', 'twitter', 'ain\\'t', 'right',\n",
    "                'now', 'y\\'all', 'seems', 'inrnet', 'uni', 'joke',\n",
    "                'game', 'name', 'ally', 'anal', 'gat', 'guy', 'yet',\n",
    "                'charity', 'telethon', 'dont', 'said', 'brands', 'make',\n",
    "                'see', 'internet', 'amp', 'en', 'est', 'el', 'hr', 'dm', 'ya']"
   ]
  },
  {
   "cell_type": "code",
   "execution_count": 17,
   "metadata": {},
   "outputs": [
    {
     "name": "stderr",
     "output_type": "stream",
     "text": [
      "[nltk_data] Downloading package stopwords to\n",
      "[nltk_data]     C:\\Users\\GoDoVoReZ\\AppData\\Roaming\\nltk_data...\n",
      "[nltk_data]   Unzipping corpora\\stopwords.zip.\n"
     ]
    },
    {
     "data": {
      "text/plain": [
       "True"
      ]
     },
     "execution_count": 17,
     "metadata": {},
     "output_type": "execute_result"
    }
   ],
   "source": [
    "import nltk\n",
    "nltk.download('stopwords')"
   ]
  },
  {
   "cell_type": "code",
   "execution_count": 18,
   "metadata": {},
   "outputs": [
    {
     "name": "stdout",
     "output_type": "stream",
     "text": [
      "remove_words:\t 232\n"
     ]
    }
   ],
   "source": [
    "from nltk.corpus import stopwords\n",
    "nltk_stopwords = set(stopwords.words('english'))\n",
    "\n",
    "#  append nltk_stopwords to remove_words\n",
    "for i in nltk_stopwords:\n",
    "    remove_words.append(i)  # append\n",
    "\n",
    "#  remove_words: sort and unique\n",
    "remove_words.sort()\n",
    "remove_words = list(set(remove_words))\n",
    "\n",
    "print('remove_words:\\t', len(remove_words))"
   ]
  },
  {
   "cell_type": "code",
   "execution_count": 19,
   "metadata": {},
   "outputs": [
    {
     "name": "stdout",
     "output_type": "stream",
     "text": [
      "232 words removed\n"
     ]
    }
   ],
   "source": [
    "remove_pattern = r'\\b(?:{})\\b'.format('|'.join(remove_words))\n",
    "\n",
    "df['Tweet'] = df['Tweet'].str.replace(remove_pattern, '')\n",
    "\n",
    "print(len(remove_words), 'words removed')"
   ]
  },
  {
   "cell_type": "code",
   "execution_count": null,
   "metadata": {},
   "outputs": [],
   "source": []
  }
 ],
 "metadata": {
  "interpreter": {
   "hash": "745580af149099085c602309336f96fdb3d04063157b41704fe01950326166b1"
  },
  "kernelspec": {
   "display_name": "Python 3.8.8 64-bit ('base': conda)",
   "language": "python",
   "name": "python3"
  },
  "language_info": {
   "codemirror_mode": {
    "name": "ipython",
    "version": 3
   },
   "file_extension": ".py",
   "mimetype": "text/x-python",
   "name": "python",
   "nbconvert_exporter": "python",
   "pygments_lexer": "ipython3",
   "version": "3.8.8"
  },
  "orig_nbformat": 4
 },
 "nbformat": 4,
 "nbformat_minor": 2
}

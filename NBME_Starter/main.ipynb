{
 "cells": [
  {
   "cell_type": "markdown",
   "metadata": {},
   "source": [
    "# Import Libraries"
   ]
  },
  {
   "cell_type": "code",
   "execution_count": 1,
   "metadata": {},
   "outputs": [],
   "source": [
    "import os\n",
    "import pandas as pd\n",
    "import re"
   ]
  },
  {
   "cell_type": "markdown",
   "metadata": {},
   "source": [
    "# Load Data"
   ]
  },
  {
   "cell_type": "code",
   "execution_count": 4,
   "metadata": {},
   "outputs": [
    {
     "data": {
      "text/plain": [
       "['features.csv',\n",
       " 'patient_notes.csv',\n",
       " 'sample_submission.csv',\n",
       " 'test.csv',\n",
       " 'train.csv']"
      ]
     },
     "execution_count": 4,
     "metadata": {},
     "output_type": "execute_result"
    }
   ],
   "source": [
    "path_to_files = './input/'\n",
    "os.listdir(path_to_files)"
   ]
  },
  {
   "cell_type": "code",
   "execution_count": 5,
   "metadata": {},
   "outputs": [],
   "source": [
    "train_data = pd.read_csv(path_to_files + 'train.csv')\n",
    "test_data = pd.read_csv(path_to_files + 'test.csv')\n",
    "sample_submission = pd.read_csv(path_to_files + 'sample_submission.csv')\n",
    "features = pd.read_csv(path_to_files + 'features.csv')\n",
    "notes = pd.read_csv(path_to_files + 'patient_notes.csv')"
   ]
  },
  {
   "cell_type": "markdown",
   "metadata": {},
   "source": [
    "# EDA BLOCK"
   ]
  },
  {
   "cell_type": "code",
   "execution_count": 7,
   "metadata": {},
   "outputs": [
    {
     "name": "stdout",
     "output_type": "stream",
     "text": [
      "Number train samples: 14300\n",
      "Number test samples: 5\n",
      "Number samp_subm samples: 5\n",
      "Number features samples: 143\n",
      "Number notes samples: 42146\n"
     ]
    }
   ],
   "source": [
    "print(f'Number train samples: {len(train_data)}')\n",
    "print(f'Number test samples: {len(test_data)}')\n",
    "print(f'Number samp_subm samples: {len(sample_submission)}')\n",
    "print(f'Number features samples: {len(features)}')\n",
    "print(f'Number notes samples: {len(notes)}')"
   ]
  },
  {
   "cell_type": "code",
   "execution_count": 8,
   "metadata": {},
   "outputs": [
    {
     "data": {
      "text/html": [
       "<div>\n",
       "<style scoped>\n",
       "    .dataframe tbody tr th:only-of-type {\n",
       "        vertical-align: middle;\n",
       "    }\n",
       "\n",
       "    .dataframe tbody tr th {\n",
       "        vertical-align: top;\n",
       "    }\n",
       "\n",
       "    .dataframe thead th {\n",
       "        text-align: right;\n",
       "    }\n",
       "</style>\n",
       "<table border=\"1\" class=\"dataframe\">\n",
       "  <thead>\n",
       "    <tr style=\"text-align: right;\">\n",
       "      <th></th>\n",
       "      <th>id</th>\n",
       "      <th>case_num</th>\n",
       "      <th>pn_num</th>\n",
       "      <th>feature_num</th>\n",
       "      <th>annotation</th>\n",
       "      <th>location</th>\n",
       "    </tr>\n",
       "  </thead>\n",
       "  <tbody>\n",
       "    <tr>\n",
       "      <th>0</th>\n",
       "      <td>00016_000</td>\n",
       "      <td>0</td>\n",
       "      <td>16</td>\n",
       "      <td>0</td>\n",
       "      <td>['dad with recent heart attcak']</td>\n",
       "      <td>['696 724']</td>\n",
       "    </tr>\n",
       "    <tr>\n",
       "      <th>1</th>\n",
       "      <td>00016_001</td>\n",
       "      <td>0</td>\n",
       "      <td>16</td>\n",
       "      <td>1</td>\n",
       "      <td>['mom with \"thyroid disease']</td>\n",
       "      <td>['668 693']</td>\n",
       "    </tr>\n",
       "    <tr>\n",
       "      <th>2</th>\n",
       "      <td>00016_002</td>\n",
       "      <td>0</td>\n",
       "      <td>16</td>\n",
       "      <td>2</td>\n",
       "      <td>['chest pressure']</td>\n",
       "      <td>['203 217']</td>\n",
       "    </tr>\n",
       "    <tr>\n",
       "      <th>3</th>\n",
       "      <td>00016_003</td>\n",
       "      <td>0</td>\n",
       "      <td>16</td>\n",
       "      <td>3</td>\n",
       "      <td>['intermittent episodes', 'episode']</td>\n",
       "      <td>['70 91', '176 183']</td>\n",
       "    </tr>\n",
       "    <tr>\n",
       "      <th>4</th>\n",
       "      <td>00016_004</td>\n",
       "      <td>0</td>\n",
       "      <td>16</td>\n",
       "      <td>4</td>\n",
       "      <td>['felt as if he were going to pass out']</td>\n",
       "      <td>['222 258']</td>\n",
       "    </tr>\n",
       "    <tr>\n",
       "      <th>5</th>\n",
       "      <td>00016_005</td>\n",
       "      <td>0</td>\n",
       "      <td>16</td>\n",
       "      <td>5</td>\n",
       "      <td>[]</td>\n",
       "      <td>[]</td>\n",
       "    </tr>\n",
       "    <tr>\n",
       "      <th>6</th>\n",
       "      <td>00016_006</td>\n",
       "      <td>0</td>\n",
       "      <td>16</td>\n",
       "      <td>6</td>\n",
       "      <td>['adderall', 'adderrall', 'adderrall']</td>\n",
       "      <td>['321 329', '404 413', '652 661']</td>\n",
       "    </tr>\n",
       "    <tr>\n",
       "      <th>7</th>\n",
       "      <td>00016_007</td>\n",
       "      <td>0</td>\n",
       "      <td>16</td>\n",
       "      <td>7</td>\n",
       "      <td>[]</td>\n",
       "      <td>[]</td>\n",
       "    </tr>\n",
       "    <tr>\n",
       "      <th>8</th>\n",
       "      <td>00016_008</td>\n",
       "      <td>0</td>\n",
       "      <td>16</td>\n",
       "      <td>8</td>\n",
       "      <td>[]</td>\n",
       "      <td>[]</td>\n",
       "    </tr>\n",
       "    <tr>\n",
       "      <th>9</th>\n",
       "      <td>00016_009</td>\n",
       "      <td>0</td>\n",
       "      <td>16</td>\n",
       "      <td>9</td>\n",
       "      <td>['palpitations', 'heart beating/pounding']</td>\n",
       "      <td>['26 38', '96 118']</td>\n",
       "    </tr>\n",
       "  </tbody>\n",
       "</table>\n",
       "</div>"
      ],
      "text/plain": [
       "          id  case_num  pn_num  feature_num  \\\n",
       "0  00016_000         0      16            0   \n",
       "1  00016_001         0      16            1   \n",
       "2  00016_002         0      16            2   \n",
       "3  00016_003         0      16            3   \n",
       "4  00016_004         0      16            4   \n",
       "5  00016_005         0      16            5   \n",
       "6  00016_006         0      16            6   \n",
       "7  00016_007         0      16            7   \n",
       "8  00016_008         0      16            8   \n",
       "9  00016_009         0      16            9   \n",
       "\n",
       "                                   annotation  \\\n",
       "0            ['dad with recent heart attcak']   \n",
       "1               ['mom with \"thyroid disease']   \n",
       "2                          ['chest pressure']   \n",
       "3        ['intermittent episodes', 'episode']   \n",
       "4    ['felt as if he were going to pass out']   \n",
       "5                                          []   \n",
       "6      ['adderall', 'adderrall', 'adderrall']   \n",
       "7                                          []   \n",
       "8                                          []   \n",
       "9  ['palpitations', 'heart beating/pounding']   \n",
       "\n",
       "                            location  \n",
       "0                        ['696 724']  \n",
       "1                        ['668 693']  \n",
       "2                        ['203 217']  \n",
       "3               ['70 91', '176 183']  \n",
       "4                        ['222 258']  \n",
       "5                                 []  \n",
       "6  ['321 329', '404 413', '652 661']  \n",
       "7                                 []  \n",
       "8                                 []  \n",
       "9                ['26 38', '96 118']  "
      ]
     },
     "execution_count": 8,
     "metadata": {},
     "output_type": "execute_result"
    }
   ],
   "source": [
    "train_data.head(10)"
   ]
  },
  {
   "cell_type": "code",
   "execution_count": 9,
   "metadata": {},
   "outputs": [
    {
     "data": {
      "text/plain": [
       "['17 yo']           39\n",
       "['17yo']            17\n",
       "['17 year old']     12\n",
       "['17 YO']            8\n",
       "['17 y/o']           7\n",
       "['17-year-old']      4\n",
       "[]                   3\n",
       "['17 y.o']           2\n",
       "['17 Y/O']           1\n",
       "['17 Yo']            1\n",
       "['17 y.o.']          1\n",
       "['17']               1\n",
       "['17 yr old']        1\n",
       "['17y']              1\n",
       "['17 years old']     1\n",
       "['17 yr Old']        1\n",
       "Name: annotation, dtype: int64"
      ]
     },
     "execution_count": 9,
     "metadata": {},
     "output_type": "execute_result"
    }
   ],
   "source": [
    "train_data[(train_data['case_num']==0) & (train_data['feature_num']==11)]['annotation'].value_counts()"
   ]
  },
  {
   "cell_type": "code",
   "execution_count": 10,
   "metadata": {},
   "outputs": [
    {
     "data": {
      "text/plain": [
       "'HPI: 17yo M presents with palpitations. Patient reports 3-4 months of intermittent episodes of \"heart beating/pounding out of my chest.\" 2 days ago during a soccer game had an episode, but this time had chest pressure and felt as if he were going to pass out (did not lose conciousness). Of note patient endorses abusing adderall, primarily to study (1-3 times per week). Before recent soccer game, took adderrall night before and morning of game. Denies shortness of breath, diaphoresis, fevers, chills, headache, fatigue, changes in sleep, changes in vision/hearing, abdominal paun, changes in bowel or urinary habits. \\r\\nPMHx: none\\r\\nRx: uses friends adderrall\\r\\nFHx: mom with \"thyroid disease,\" dad with recent heart attcak\\r\\nAll: none\\r\\nImmunizations: up to date\\r\\nSHx: Freshmen in college. Endorses 3-4 drinks 3 nights / week (on weekends), denies tabacco, endorses trying marijuana. Sexually active with girlfriend x 1 year, uses condoms'"
      ]
     },
     "execution_count": 10,
     "metadata": {},
     "output_type": "execute_result"
    }
   ],
   "source": [
    "pn_num = 16\n",
    "notes[notes['pn_num']==pn_num]['pn_history'][pn_num]"
   ]
  },
  {
   "cell_type": "code",
   "execution_count": 11,
   "metadata": {},
   "outputs": [
    {
     "data": {
      "text/html": [
       "<div>\n",
       "<style scoped>\n",
       "    .dataframe tbody tr th:only-of-type {\n",
       "        vertical-align: middle;\n",
       "    }\n",
       "\n",
       "    .dataframe tbody tr th {\n",
       "        vertical-align: top;\n",
       "    }\n",
       "\n",
       "    .dataframe thead th {\n",
       "        text-align: right;\n",
       "    }\n",
       "</style>\n",
       "<table border=\"1\" class=\"dataframe\">\n",
       "  <thead>\n",
       "    <tr style=\"text-align: right;\">\n",
       "      <th></th>\n",
       "      <th>id</th>\n",
       "      <th>case_num</th>\n",
       "      <th>pn_num</th>\n",
       "      <th>feature_num</th>\n",
       "      <th>annotation</th>\n",
       "      <th>location</th>\n",
       "    </tr>\n",
       "  </thead>\n",
       "  <tbody>\n",
       "    <tr>\n",
       "      <th>0</th>\n",
       "      <td>00016_000</td>\n",
       "      <td>0</td>\n",
       "      <td>16</td>\n",
       "      <td>0</td>\n",
       "      <td>['dad with recent heart attcak']</td>\n",
       "      <td>['696 724']</td>\n",
       "    </tr>\n",
       "    <tr>\n",
       "      <th>1</th>\n",
       "      <td>00016_001</td>\n",
       "      <td>0</td>\n",
       "      <td>16</td>\n",
       "      <td>1</td>\n",
       "      <td>['mom with \"thyroid disease']</td>\n",
       "      <td>['668 693']</td>\n",
       "    </tr>\n",
       "    <tr>\n",
       "      <th>2</th>\n",
       "      <td>00016_002</td>\n",
       "      <td>0</td>\n",
       "      <td>16</td>\n",
       "      <td>2</td>\n",
       "      <td>['chest pressure']</td>\n",
       "      <td>['203 217']</td>\n",
       "    </tr>\n",
       "    <tr>\n",
       "      <th>3</th>\n",
       "      <td>00016_003</td>\n",
       "      <td>0</td>\n",
       "      <td>16</td>\n",
       "      <td>3</td>\n",
       "      <td>['intermittent episodes', 'episode']</td>\n",
       "      <td>['70 91', '176 183']</td>\n",
       "    </tr>\n",
       "    <tr>\n",
       "      <th>4</th>\n",
       "      <td>00016_004</td>\n",
       "      <td>0</td>\n",
       "      <td>16</td>\n",
       "      <td>4</td>\n",
       "      <td>['felt as if he were going to pass out']</td>\n",
       "      <td>['222 258']</td>\n",
       "    </tr>\n",
       "    <tr>\n",
       "      <th>5</th>\n",
       "      <td>00016_005</td>\n",
       "      <td>0</td>\n",
       "      <td>16</td>\n",
       "      <td>5</td>\n",
       "      <td>[]</td>\n",
       "      <td>[]</td>\n",
       "    </tr>\n",
       "    <tr>\n",
       "      <th>6</th>\n",
       "      <td>00016_006</td>\n",
       "      <td>0</td>\n",
       "      <td>16</td>\n",
       "      <td>6</td>\n",
       "      <td>['adderall', 'adderrall', 'adderrall']</td>\n",
       "      <td>['321 329', '404 413', '652 661']</td>\n",
       "    </tr>\n",
       "    <tr>\n",
       "      <th>7</th>\n",
       "      <td>00016_007</td>\n",
       "      <td>0</td>\n",
       "      <td>16</td>\n",
       "      <td>7</td>\n",
       "      <td>[]</td>\n",
       "      <td>[]</td>\n",
       "    </tr>\n",
       "    <tr>\n",
       "      <th>8</th>\n",
       "      <td>00016_008</td>\n",
       "      <td>0</td>\n",
       "      <td>16</td>\n",
       "      <td>8</td>\n",
       "      <td>[]</td>\n",
       "      <td>[]</td>\n",
       "    </tr>\n",
       "    <tr>\n",
       "      <th>9</th>\n",
       "      <td>00016_009</td>\n",
       "      <td>0</td>\n",
       "      <td>16</td>\n",
       "      <td>9</td>\n",
       "      <td>['palpitations', 'heart beating/pounding']</td>\n",
       "      <td>['26 38', '96 118']</td>\n",
       "    </tr>\n",
       "    <tr>\n",
       "      <th>10</th>\n",
       "      <td>00016_010</td>\n",
       "      <td>0</td>\n",
       "      <td>16</td>\n",
       "      <td>10</td>\n",
       "      <td>['3-4 months of']</td>\n",
       "      <td>['56 69']</td>\n",
       "    </tr>\n",
       "    <tr>\n",
       "      <th>11</th>\n",
       "      <td>00016_011</td>\n",
       "      <td>0</td>\n",
       "      <td>16</td>\n",
       "      <td>11</td>\n",
       "      <td>['17yo']</td>\n",
       "      <td>['5 9']</td>\n",
       "    </tr>\n",
       "    <tr>\n",
       "      <th>12</th>\n",
       "      <td>00016_012</td>\n",
       "      <td>0</td>\n",
       "      <td>16</td>\n",
       "      <td>12</td>\n",
       "      <td>['M']</td>\n",
       "      <td>['10 11']</td>\n",
       "    </tr>\n",
       "  </tbody>\n",
       "</table>\n",
       "</div>"
      ],
      "text/plain": [
       "           id  case_num  pn_num  feature_num  \\\n",
       "0   00016_000         0      16            0   \n",
       "1   00016_001         0      16            1   \n",
       "2   00016_002         0      16            2   \n",
       "3   00016_003         0      16            3   \n",
       "4   00016_004         0      16            4   \n",
       "5   00016_005         0      16            5   \n",
       "6   00016_006         0      16            6   \n",
       "7   00016_007         0      16            7   \n",
       "8   00016_008         0      16            8   \n",
       "9   00016_009         0      16            9   \n",
       "10  00016_010         0      16           10   \n",
       "11  00016_011         0      16           11   \n",
       "12  00016_012         0      16           12   \n",
       "\n",
       "                                    annotation  \\\n",
       "0             ['dad with recent heart attcak']   \n",
       "1                ['mom with \"thyroid disease']   \n",
       "2                           ['chest pressure']   \n",
       "3         ['intermittent episodes', 'episode']   \n",
       "4     ['felt as if he were going to pass out']   \n",
       "5                                           []   \n",
       "6       ['adderall', 'adderrall', 'adderrall']   \n",
       "7                                           []   \n",
       "8                                           []   \n",
       "9   ['palpitations', 'heart beating/pounding']   \n",
       "10                           ['3-4 months of']   \n",
       "11                                    ['17yo']   \n",
       "12                                       ['M']   \n",
       "\n",
       "                             location  \n",
       "0                         ['696 724']  \n",
       "1                         ['668 693']  \n",
       "2                         ['203 217']  \n",
       "3                ['70 91', '176 183']  \n",
       "4                         ['222 258']  \n",
       "5                                  []  \n",
       "6   ['321 329', '404 413', '652 661']  \n",
       "7                                  []  \n",
       "8                                  []  \n",
       "9                 ['26 38', '96 118']  \n",
       "10                          ['56 69']  \n",
       "11                            ['5 9']  \n",
       "12                          ['10 11']  "
      ]
     },
     "execution_count": 11,
     "metadata": {},
     "output_type": "execute_result"
    }
   ],
   "source": [
    "train_data[train_data['pn_num']==pn_num]"
   ]
  },
  {
   "cell_type": "code",
   "execution_count": 12,
   "metadata": {},
   "outputs": [
    {
     "data": {
      "text/plain": [
       "'HPI: 17yo M presents with palpitations. Patient reports 3-4 months of intermittent episodes of \"heart beating/pounding out of my chest.\" 2 days ago during a soccer game had an episode, but this time had chest pressure and felt as if he were going to pass out (did not lose conciousness). Of note patient endorses abusing adderall, primarily to study (1-3 times per week). Before recent soccer game, took adderrall night before and morning of game. Denies shortness of breath, diaphoresis, fevers, chills, headache, fatigue, changes in sleep, changes in vision/hearing, abdominal paun, changes in bowel or urinary habits. \\r\\nPMHx: none\\r\\nRx: uses friends adderrall\\r\\nFHx: mom with \"thyroid disease,\" dad with recent heart attcak\\r\\nAll: none\\r\\nImmunizations: up to date\\r\\nSHx: Freshmen in college. Endorses 3-4 drinks 3 nights / week (on weekends), denies tabacco, endorses trying marijuana. Sexually active with girlfriend x 1 year, uses condoms'"
      ]
     },
     "execution_count": 12,
     "metadata": {},
     "output_type": "execute_result"
    }
   ],
   "source": [
    "text = notes[notes['pn_num']==pn_num]['pn_history'].values[0]\n",
    "text"
   ]
  },
  {
   "cell_type": "code",
   "execution_count": 13,
   "metadata": {},
   "outputs": [
    {
     "name": "stdout",
     "output_type": "stream",
     "text": [
      "Start pos:  10\n",
      "End pos:  11\n"
     ]
    }
   ],
   "source": [
    "match = re.search('M', text)\n",
    "print('Start pos: ', match.start())\n",
    "print('End pos: ', match.end())"
   ]
  },
  {
   "cell_type": "code",
   "execution_count": 14,
   "metadata": {},
   "outputs": [
    {
     "name": "stdout",
     "output_type": "stream",
     "text": [
      "Match: 17yo\n",
      "Start position: 5\n",
      "End position: 9\n"
     ]
    }
   ],
   "source": [
    "match = re.search('17\\w+', text)\n",
    "print('Match:', match.group())\n",
    "print('Start position:', match.start())\n",
    "print('End position:', match.end())"
   ]
  },
  {
   "cell_type": "code",
   "execution_count": 15,
   "metadata": {},
   "outputs": [
    {
     "data": {
      "text/html": [
       "<div>\n",
       "<style scoped>\n",
       "    .dataframe tbody tr th:only-of-type {\n",
       "        vertical-align: middle;\n",
       "    }\n",
       "\n",
       "    .dataframe tbody tr th {\n",
       "        vertical-align: top;\n",
       "    }\n",
       "\n",
       "    .dataframe thead th {\n",
       "        text-align: right;\n",
       "    }\n",
       "</style>\n",
       "<table border=\"1\" class=\"dataframe\">\n",
       "  <thead>\n",
       "    <tr style=\"text-align: right;\">\n",
       "      <th></th>\n",
       "      <th>id</th>\n",
       "      <th>case_num</th>\n",
       "      <th>pn_num</th>\n",
       "      <th>feature_num</th>\n",
       "      <th>annotation</th>\n",
       "      <th>location</th>\n",
       "    </tr>\n",
       "  </thead>\n",
       "  <tbody>\n",
       "    <tr>\n",
       "      <th>12</th>\n",
       "      <td>00016_012</td>\n",
       "      <td>0</td>\n",
       "      <td>16</td>\n",
       "      <td>12</td>\n",
       "      <td>['M']</td>\n",
       "      <td>['10 11']</td>\n",
       "    </tr>\n",
       "    <tr>\n",
       "      <th>25</th>\n",
       "      <td>00041_012</td>\n",
       "      <td>0</td>\n",
       "      <td>41</td>\n",
       "      <td>12</td>\n",
       "      <td>['M']</td>\n",
       "      <td>['7 8']</td>\n",
       "    </tr>\n",
       "    <tr>\n",
       "      <th>38</th>\n",
       "      <td>00046_012</td>\n",
       "      <td>0</td>\n",
       "      <td>46</td>\n",
       "      <td>12</td>\n",
       "      <td>['M']</td>\n",
       "      <td>['24 25']</td>\n",
       "    </tr>\n",
       "    <tr>\n",
       "      <th>51</th>\n",
       "      <td>00082_012</td>\n",
       "      <td>0</td>\n",
       "      <td>82</td>\n",
       "      <td>12</td>\n",
       "      <td>['M']</td>\n",
       "      <td>['6 7']</td>\n",
       "    </tr>\n",
       "    <tr>\n",
       "      <th>64</th>\n",
       "      <td>00100_012</td>\n",
       "      <td>0</td>\n",
       "      <td>100</td>\n",
       "      <td>12</td>\n",
       "      <td>['male']</td>\n",
       "      <td>['58 62']</td>\n",
       "    </tr>\n",
       "  </tbody>\n",
       "</table>\n",
       "</div>"
      ],
      "text/plain": [
       "           id  case_num  pn_num  feature_num annotation   location\n",
       "12  00016_012         0      16           12      ['M']  ['10 11']\n",
       "25  00041_012         0      41           12      ['M']    ['7 8']\n",
       "38  00046_012         0      46           12      ['M']  ['24 25']\n",
       "51  00082_012         0      82           12      ['M']    ['6 7']\n",
       "64  00100_012         0     100           12   ['male']  ['58 62']"
      ]
     },
     "execution_count": 15,
     "metadata": {},
     "output_type": "execute_result"
    }
   ],
   "source": [
    "df_temp = train_data[train_data['feature_num']==12]\n",
    "df_temp.head()"
   ]
  },
  {
   "cell_type": "code",
   "execution_count": 16,
   "metadata": {},
   "outputs": [
    {
     "data": {
      "text/plain": [
       "['M']       47\n",
       "['male']    36\n",
       "['m']        9\n",
       "[]           6\n",
       "['Male']     1\n",
       "['boy']      1\n",
       "Name: annotation, dtype: int64"
      ]
     },
     "execution_count": 16,
     "metadata": {},
     "output_type": "execute_result"
    }
   ],
   "source": [
    "df_temp['annotation'].value_counts()"
   ]
  },
  {
   "cell_type": "code",
   "execution_count": 17,
   "metadata": {},
   "outputs": [
    {
     "data": {
      "text/plain": [
       "['M', 'male', 'm', 'Male', 'boy']"
      ]
     },
     "execution_count": 17,
     "metadata": {},
     "output_type": "execute_result"
    }
   ],
   "source": [
    "keys = df_temp['annotation'].value_counts().keys()\n",
    "pattern_list = [key.replace('[', '').replace(']', '').replace(\"'\", '') for key in keys if len(key) > 3]\n",
    "pattern_list"
   ]
  },
  {
   "cell_type": "code",
   "execution_count": 18,
   "metadata": {},
   "outputs": [],
   "source": [
    "data = test_data.copy()"
   ]
  },
  {
   "cell_type": "code",
   "execution_count": 21,
   "metadata": {},
   "outputs": [],
   "source": [
    "for row in data.index:\n",
    "    case_num = data.loc[row, 'case_num']\n",
    "    pn_num = data.loc[row, 'pn_num']\n",
    "    feature_num = data.loc[row, 'feature_num']\n",
    "    \n",
    "    # Create Pattern List For The Feature\n",
    "    df_temp = train_data[train_data['feature_num']==feature_num].copy()\n",
    "    keys = df_temp['annotation'].value_counts().keys()\n",
    "    pattern_list = [key.replace(\"[\", '').replace(\"]\", '').replace(\"'\", '') for key in keys if len(key)>3]\n",
    "    \n",
    "    # Extract Patient Note\n",
    "    text = notes[(notes['pn_num']==pn_num)&(notes['case_num']==case_num)]['pn_history'].values[0]\n",
    "    text = text.replace('.', ' ')\n",
    "    pred = ''\n",
    "    for pattern in pattern_list:\n",
    "        pattern = pattern.replace('+', 'P').replace('(', ' ').replace(')', ' ')\n",
    "        text = text.replace('+', 'P')\n",
    "        if text.find(pattern)>0:\n",
    "            pred += str(text.find(pattern))+' '+str(text.find(pattern)+len(pattern))+';'\n",
    "    pred = pred[:-1]\n",
    "    data.loc[row, 'location'] = pred\n",
    "    sample_submission.loc[row, 'id'] = data.loc[row, 'id']\n",
    "    sample_submission.loc[row, 'location'] = pred"
   ]
  },
  {
   "cell_type": "code",
   "execution_count": 22,
   "metadata": {},
   "outputs": [
    {
     "data": {
      "text/html": [
       "<div>\n",
       "<style scoped>\n",
       "    .dataframe tbody tr th:only-of-type {\n",
       "        vertical-align: middle;\n",
       "    }\n",
       "\n",
       "    .dataframe tbody tr th {\n",
       "        vertical-align: top;\n",
       "    }\n",
       "\n",
       "    .dataframe thead th {\n",
       "        text-align: right;\n",
       "    }\n",
       "</style>\n",
       "<table border=\"1\" class=\"dataframe\">\n",
       "  <thead>\n",
       "    <tr style=\"text-align: right;\">\n",
       "      <th></th>\n",
       "      <th>id</th>\n",
       "      <th>location</th>\n",
       "    </tr>\n",
       "  </thead>\n",
       "  <tbody>\n",
       "    <tr>\n",
       "      <th>0</th>\n",
       "      <td>00016_000</td>\n",
       "      <td>696 724</td>\n",
       "    </tr>\n",
       "    <tr>\n",
       "      <th>1</th>\n",
       "      <td>00016_001</td>\n",
       "      <td>668 693</td>\n",
       "    </tr>\n",
       "    <tr>\n",
       "      <th>2</th>\n",
       "      <td>00016_002</td>\n",
       "      <td>203 217;209 217</td>\n",
       "    </tr>\n",
       "    <tr>\n",
       "      <th>3</th>\n",
       "      <td>00016_003</td>\n",
       "      <td>83 91;70 82;70 91</td>\n",
       "    </tr>\n",
       "    <tr>\n",
       "      <th>4</th>\n",
       "      <td>00016_004</td>\n",
       "      <td>222 258</td>\n",
       "    </tr>\n",
       "  </tbody>\n",
       "</table>\n",
       "</div>"
      ],
      "text/plain": [
       "          id           location\n",
       "0  00016_000            696 724\n",
       "1  00016_001            668 693\n",
       "2  00016_002    203 217;209 217\n",
       "3  00016_003  83 91;70 82;70 91\n",
       "4  00016_004            222 258"
      ]
     },
     "execution_count": 22,
     "metadata": {},
     "output_type": "execute_result"
    }
   ],
   "source": [
    "sample_submission"
   ]
  },
  {
   "cell_type": "code",
   "execution_count": 23,
   "metadata": {},
   "outputs": [],
   "source": [
    "sample_submission.to_csv('subm_samp', index=False)"
   ]
  },
  {
   "cell_type": "code",
   "execution_count": null,
   "metadata": {},
   "outputs": [],
   "source": []
  }
 ],
 "metadata": {
  "interpreter": {
   "hash": "745580af149099085c602309336f96fdb3d04063157b41704fe01950326166b1"
  },
  "kernelspec": {
   "display_name": "Python 3.8.8 ('base')",
   "language": "python",
   "name": "python3"
  },
  "language_info": {
   "codemirror_mode": {
    "name": "ipython",
    "version": 3
   },
   "file_extension": ".py",
   "mimetype": "text/x-python",
   "name": "python",
   "nbconvert_exporter": "python",
   "pygments_lexer": "ipython3",
   "version": "3.8.8"
  },
  "orig_nbformat": 4
 },
 "nbformat": 4,
 "nbformat_minor": 2
}

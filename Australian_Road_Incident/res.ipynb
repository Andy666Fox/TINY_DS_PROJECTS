{
 "cells": [
  {
   "cell_type": "code",
   "execution_count": 1,
   "metadata": {},
   "outputs": [],
   "source": [
    "import pandas as pd \n",
    "import numpy as np \n",
    "import matplotlib.pyplot as plt \n",
    "import seaborn as sns \n",
    "import warnings\n",
    "\n",
    "warnings.filterwarnings('ignore')"
   ]
  },
  {
   "cell_type": "code",
   "execution_count": 2,
   "metadata": {},
   "outputs": [
    {
     "data": {
      "text/html": [
       "<div>\n",
       "<style scoped>\n",
       "    .dataframe tbody tr th:only-of-type {\n",
       "        vertical-align: middle;\n",
       "    }\n",
       "\n",
       "    .dataframe tbody tr th {\n",
       "        vertical-align: top;\n",
       "    }\n",
       "\n",
       "    .dataframe thead th {\n",
       "        text-align: right;\n",
       "    }\n",
       "</style>\n",
       "<table border=\"1\" class=\"dataframe\">\n",
       "  <thead>\n",
       "    <tr style=\"text-align: right;\">\n",
       "      <th></th>\n",
       "      <th>Crash ID</th>\n",
       "      <th>State</th>\n",
       "      <th>Month</th>\n",
       "      <th>Year</th>\n",
       "      <th>Dayweek</th>\n",
       "      <th>Time</th>\n",
       "      <th>Crash Type</th>\n",
       "      <th>Bus Involvement</th>\n",
       "      <th>Heavy Rigid Truck Involvement</th>\n",
       "      <th>Articulated Truck Involvement</th>\n",
       "      <th>...</th>\n",
       "      <th>Age</th>\n",
       "      <th>National Remoteness Areas</th>\n",
       "      <th>SA4 Name 2016</th>\n",
       "      <th>National LGA Name 2017</th>\n",
       "      <th>National Road Type</th>\n",
       "      <th>Christmas Period</th>\n",
       "      <th>Easter Period</th>\n",
       "      <th>Age Group</th>\n",
       "      <th>Day of week</th>\n",
       "      <th>Time of day</th>\n",
       "    </tr>\n",
       "  </thead>\n",
       "  <tbody>\n",
       "    <tr>\n",
       "      <th>0</th>\n",
       "      <td>20212133</td>\n",
       "      <td>Vic</td>\n",
       "      <td>9</td>\n",
       "      <td>2021</td>\n",
       "      <td>Sunday</td>\n",
       "      <td>0:30</td>\n",
       "      <td>Single</td>\n",
       "      <td>NaN</td>\n",
       "      <td>NaN</td>\n",
       "      <td>NaN</td>\n",
       "      <td>...</td>\n",
       "      <td>38</td>\n",
       "      <td>Inner Regional Australia</td>\n",
       "      <td>Melbourne - Outer East</td>\n",
       "      <td>Yarra Ranges (S)</td>\n",
       "      <td>Arterial Road</td>\n",
       "      <td>No</td>\n",
       "      <td>No</td>\n",
       "      <td>26_to_39</td>\n",
       "      <td>Weekend</td>\n",
       "      <td>Night</td>\n",
       "    </tr>\n",
       "    <tr>\n",
       "      <th>1</th>\n",
       "      <td>20214022</td>\n",
       "      <td>SA</td>\n",
       "      <td>9</td>\n",
       "      <td>2021</td>\n",
       "      <td>Saturday</td>\n",
       "      <td>23:31</td>\n",
       "      <td>Multiple</td>\n",
       "      <td>No</td>\n",
       "      <td>No</td>\n",
       "      <td>No</td>\n",
       "      <td>...</td>\n",
       "      <td>28</td>\n",
       "      <td>Major Cities of Australia</td>\n",
       "      <td>Adelaide - North</td>\n",
       "      <td>Playford (C)</td>\n",
       "      <td>NaN</td>\n",
       "      <td>No</td>\n",
       "      <td>No</td>\n",
       "      <td>26_to_39</td>\n",
       "      <td>Weekend</td>\n",
       "      <td>Night</td>\n",
       "    </tr>\n",
       "    <tr>\n",
       "      <th>2</th>\n",
       "      <td>20212096</td>\n",
       "      <td>Vic</td>\n",
       "      <td>9</td>\n",
       "      <td>2021</td>\n",
       "      <td>Saturday</td>\n",
       "      <td>23:00</td>\n",
       "      <td>Single</td>\n",
       "      <td>NaN</td>\n",
       "      <td>NaN</td>\n",
       "      <td>NaN</td>\n",
       "      <td>...</td>\n",
       "      <td>19</td>\n",
       "      <td>Inner Regional Australia</td>\n",
       "      <td>Hume</td>\n",
       "      <td>Wangaratta (RC)</td>\n",
       "      <td>Access road</td>\n",
       "      <td>No</td>\n",
       "      <td>No</td>\n",
       "      <td>17_to_25</td>\n",
       "      <td>Weekend</td>\n",
       "      <td>Night</td>\n",
       "    </tr>\n",
       "    <tr>\n",
       "      <th>3</th>\n",
       "      <td>20212145</td>\n",
       "      <td>Vic</td>\n",
       "      <td>9</td>\n",
       "      <td>2021</td>\n",
       "      <td>Saturday</td>\n",
       "      <td>22:25</td>\n",
       "      <td>Single</td>\n",
       "      <td>NaN</td>\n",
       "      <td>NaN</td>\n",
       "      <td>NaN</td>\n",
       "      <td>...</td>\n",
       "      <td>23</td>\n",
       "      <td>Outer Regional Australia</td>\n",
       "      <td>Hume</td>\n",
       "      <td>Wangaratta (RC)</td>\n",
       "      <td>Arterial Road</td>\n",
       "      <td>No</td>\n",
       "      <td>No</td>\n",
       "      <td>17_to_25</td>\n",
       "      <td>Weekend</td>\n",
       "      <td>Night</td>\n",
       "    </tr>\n",
       "    <tr>\n",
       "      <th>4</th>\n",
       "      <td>20212075</td>\n",
       "      <td>Vic</td>\n",
       "      <td>9</td>\n",
       "      <td>2021</td>\n",
       "      <td>Saturday</td>\n",
       "      <td>5:15</td>\n",
       "      <td>Single</td>\n",
       "      <td>NaN</td>\n",
       "      <td>NaN</td>\n",
       "      <td>NaN</td>\n",
       "      <td>...</td>\n",
       "      <td>46</td>\n",
       "      <td>Major Cities of Australia</td>\n",
       "      <td>Melbourne - South East</td>\n",
       "      <td>Casey (C)</td>\n",
       "      <td>Local Road</td>\n",
       "      <td>No</td>\n",
       "      <td>No</td>\n",
       "      <td>40_to_64</td>\n",
       "      <td>Weekend</td>\n",
       "      <td>Night</td>\n",
       "    </tr>\n",
       "  </tbody>\n",
       "</table>\n",
       "<p>5 rows × 23 columns</p>\n",
       "</div>"
      ],
      "text/plain": [
       "   Crash ID State  Month  Year   Dayweek   Time Crash Type Bus Involvement  \\\n",
       "0  20212133   Vic      9  2021    Sunday   0:30     Single             NaN   \n",
       "1  20214022    SA      9  2021  Saturday  23:31   Multiple              No   \n",
       "2  20212096   Vic      9  2021  Saturday  23:00     Single             NaN   \n",
       "3  20212145   Vic      9  2021  Saturday  22:25     Single             NaN   \n",
       "4  20212075   Vic      9  2021  Saturday   5:15     Single             NaN   \n",
       "\n",
       "  Heavy Rigid Truck Involvement Articulated Truck Involvement  ... Age  \\\n",
       "0                           NaN                           NaN  ...  38   \n",
       "1                            No                            No  ...  28   \n",
       "2                           NaN                           NaN  ...  19   \n",
       "3                           NaN                           NaN  ...  23   \n",
       "4                           NaN                           NaN  ...  46   \n",
       "\n",
       "   National Remoteness Areas           SA4 Name 2016  National LGA Name 2017  \\\n",
       "0   Inner Regional Australia  Melbourne - Outer East        Yarra Ranges (S)   \n",
       "1  Major Cities of Australia        Adelaide - North            Playford (C)   \n",
       "2   Inner Regional Australia                    Hume         Wangaratta (RC)   \n",
       "3   Outer Regional Australia                    Hume         Wangaratta (RC)   \n",
       "4  Major Cities of Australia  Melbourne - South East               Casey (C)   \n",
       "\n",
       "  National Road Type Christmas Period Easter Period Age Group Day of week  \\\n",
       "0      Arterial Road               No            No  26_to_39     Weekend   \n",
       "1                NaN               No            No  26_to_39     Weekend   \n",
       "2        Access road               No            No  17_to_25     Weekend   \n",
       "3      Arterial Road               No            No  17_to_25     Weekend   \n",
       "4         Local Road               No            No  40_to_64     Weekend   \n",
       "\n",
       "  Time of day  \n",
       "0       Night  \n",
       "1       Night  \n",
       "2       Night  \n",
       "3       Night  \n",
       "4       Night  \n",
       "\n",
       "[5 rows x 23 columns]"
      ]
     },
     "execution_count": 2,
     "metadata": {},
     "output_type": "execute_result"
    }
   ],
   "source": [
    "data = pd.read_csv('./input/crash.csv', low_memory=False)\n",
    "data.head()"
   ]
  },
  {
   "cell_type": "code",
   "execution_count": 3,
   "metadata": {},
   "outputs": [
    {
     "data": {
      "text/plain": [
       "Crash ID                             0\n",
       "State                                0\n",
       "Month                                0\n",
       "Year                                 0\n",
       "Dayweek                              0\n",
       "Time                                40\n",
       "Crash Type                           0\n",
       "Bus Involvement                     22\n",
       "Heavy Rigid Truck Involvement    20515\n",
       "Articulated Truck Involvement       22\n",
       "Speed Limit                        702\n",
       "Road User                            0\n",
       "Gender                              27\n",
       "Age                                  0\n",
       "National Remoteness Areas        45965\n",
       "SA4 Name 2016                    45951\n",
       "National LGA Name 2017           45950\n",
       "National Road Type               45966\n",
       "Christmas Period                     0\n",
       "Easter Period                        0\n",
       "Age Group                           90\n",
       "Day of week                          0\n",
       "Time of day                          0\n",
       "dtype: int64"
      ]
     },
     "execution_count": 3,
     "metadata": {},
     "output_type": "execute_result"
    }
   ],
   "source": [
    "data.isnull().sum()"
   ]
  },
  {
   "cell_type": "code",
   "execution_count": 4,
   "metadata": {},
   "outputs": [],
   "source": [
    "data.drop(['Crash ID', 'Heavy Rigid Truck Involvement', 'National Remoteness Areas', 'SA4 Name 2016', 'National LGA Name 2017', 'National Road Type'], axis=1, inplace=True)"
   ]
  },
  {
   "cell_type": "code",
   "execution_count": 5,
   "metadata": {},
   "outputs": [
    {
     "data": {
      "text/plain": [
       "NSW    16293\n",
       "Vic    11562\n",
       "Qld    10495\n",
       "WA      6276\n",
       "SA      4547\n",
       "NT      1642\n",
       "Tas     1550\n",
       "ACT      478\n",
       "Name: State, dtype: int64"
      ]
     },
     "execution_count": 5,
     "metadata": {},
     "output_type": "execute_result"
    }
   ],
   "source": [
    "data['State'].value_counts()"
   ]
  },
  {
   "cell_type": "code",
   "execution_count": 7,
   "metadata": {},
   "outputs": [],
   "source": [
    "data.replace(to_replace={'State':{'Vic':'VIC', 'Qld':'QLD', 'Tas':'TAS', 20:'NT', 40:'ACT', 10:'SA'}}, inplace=True)"
   ]
  },
  {
   "cell_type": "code",
   "execution_count": 8,
   "metadata": {},
   "outputs": [
    {
     "data": {
      "text/plain": [
       "NSW    16293\n",
       "VIC    11562\n",
       "QLD    10495\n",
       "WA      6276\n",
       "SA      4547\n",
       "NT      1642\n",
       "TAS     1550\n",
       "ACT      478\n",
       "Name: State, dtype: int64"
      ]
     },
     "execution_count": 8,
     "metadata": {},
     "output_type": "execute_result"
    }
   ],
   "source": [
    "data['State'].value_counts()"
   ]
  },
  {
   "cell_type": "code",
   "execution_count": 25,
   "metadata": {},
   "outputs": [
    {
     "data": {
      "text/plain": [
       "<AxesSubplot:>"
      ]
     },
     "execution_count": 25,
     "metadata": {},
     "output_type": "execute_result"
    },
    {
     "data": {
      "image/png": "[encoded data removed]",
      "text/plain": [
       "<Figure size 432x288 with 1 Axes>"
      ]
     },
     "metadata": {
      "needs_background": "light"
     },
     "output_type": "display_data"
    }
   ],
   "source": [
    "data['State'].value_counts().plot(kind='bar')"
   ]
  },
  {
   "cell_type": "code",
   "execution_count": 12,
   "metadata": {},
   "outputs": [
    {
     "data": {
      "text/html": [
       "<div>\n",
       "<style scoped>\n",
       "    .dataframe tbody tr th:only-of-type {\n",
       "        vertical-align: middle;\n",
       "    }\n",
       "\n",
       "    .dataframe tbody tr th {\n",
       "        vertical-align: top;\n",
       "    }\n",
       "\n",
       "    .dataframe thead th {\n",
       "        text-align: right;\n",
       "    }\n",
       "</style>\n",
       "<table border=\"1\" class=\"dataframe\">\n",
       "  <thead>\n",
       "    <tr style=\"text-align: right;\">\n",
       "      <th></th>\n",
       "      <th>State</th>\n",
       "      <th>Month</th>\n",
       "      <th>Year</th>\n",
       "      <th>Dayweek</th>\n",
       "      <th>Time</th>\n",
       "      <th>Crash Type</th>\n",
       "      <th>Bus Involvement</th>\n",
       "      <th>Articulated Truck Involvement</th>\n",
       "      <th>Speed Limit</th>\n",
       "      <th>Road User</th>\n",
       "      <th>Gender</th>\n",
       "      <th>Age</th>\n",
       "      <th>Christmas Period</th>\n",
       "      <th>Easter Period</th>\n",
       "      <th>Age Group</th>\n",
       "      <th>Day of week</th>\n",
       "      <th>Time of day</th>\n",
       "    </tr>\n",
       "  </thead>\n",
       "  <tbody>\n",
       "    <tr>\n",
       "      <th>0</th>\n",
       "      <td>VIC</td>\n",
       "      <td>9</td>\n",
       "      <td>2021</td>\n",
       "      <td>Sunday</td>\n",
       "      <td>0:30</td>\n",
       "      <td>Single</td>\n",
       "      <td>NaN</td>\n",
       "      <td>NaN</td>\n",
       "      <td>NaN</td>\n",
       "      <td>Motorcycle rider</td>\n",
       "      <td>Male</td>\n",
       "      <td>38</td>\n",
       "      <td>No</td>\n",
       "      <td>No</td>\n",
       "      <td>26_to_39</td>\n",
       "      <td>Weekend</td>\n",
       "      <td>Night</td>\n",
       "    </tr>\n",
       "    <tr>\n",
       "      <th>1</th>\n",
       "      <td>SA</td>\n",
       "      <td>9</td>\n",
       "      <td>2021</td>\n",
       "      <td>Saturday</td>\n",
       "      <td>23:31</td>\n",
       "      <td>Multiple</td>\n",
       "      <td>No</td>\n",
       "      <td>No</td>\n",
       "      <td>110</td>\n",
       "      <td>Pedestrian</td>\n",
       "      <td>Female</td>\n",
       "      <td>28</td>\n",
       "      <td>No</td>\n",
       "      <td>No</td>\n",
       "      <td>26_to_39</td>\n",
       "      <td>Weekend</td>\n",
       "      <td>Night</td>\n",
       "    </tr>\n",
       "    <tr>\n",
       "      <th>2</th>\n",
       "      <td>VIC</td>\n",
       "      <td>9</td>\n",
       "      <td>2021</td>\n",
       "      <td>Saturday</td>\n",
       "      <td>23:00</td>\n",
       "      <td>Single</td>\n",
       "      <td>NaN</td>\n",
       "      <td>NaN</td>\n",
       "      <td>NaN</td>\n",
       "      <td>Passenger</td>\n",
       "      <td>Male</td>\n",
       "      <td>19</td>\n",
       "      <td>No</td>\n",
       "      <td>No</td>\n",
       "      <td>17_to_25</td>\n",
       "      <td>Weekend</td>\n",
       "      <td>Night</td>\n",
       "    </tr>\n",
       "    <tr>\n",
       "      <th>3</th>\n",
       "      <td>VIC</td>\n",
       "      <td>9</td>\n",
       "      <td>2021</td>\n",
       "      <td>Saturday</td>\n",
       "      <td>22:25</td>\n",
       "      <td>Single</td>\n",
       "      <td>NaN</td>\n",
       "      <td>NaN</td>\n",
       "      <td>NaN</td>\n",
       "      <td>Driver</td>\n",
       "      <td>Male</td>\n",
       "      <td>23</td>\n",
       "      <td>No</td>\n",
       "      <td>No</td>\n",
       "      <td>17_to_25</td>\n",
       "      <td>Weekend</td>\n",
       "      <td>Night</td>\n",
       "    </tr>\n",
       "    <tr>\n",
       "      <th>4</th>\n",
       "      <td>VIC</td>\n",
       "      <td>9</td>\n",
       "      <td>2021</td>\n",
       "      <td>Saturday</td>\n",
       "      <td>5:15</td>\n",
       "      <td>Single</td>\n",
       "      <td>NaN</td>\n",
       "      <td>NaN</td>\n",
       "      <td>NaN</td>\n",
       "      <td>Motorcycle rider</td>\n",
       "      <td>Male</td>\n",
       "      <td>46</td>\n",
       "      <td>No</td>\n",
       "      <td>No</td>\n",
       "      <td>40_to_64</td>\n",
       "      <td>Weekend</td>\n",
       "      <td>Night</td>\n",
       "    </tr>\n",
       "  </tbody>\n",
       "</table>\n",
       "</div>"
      ],
      "text/plain": [
       "  State  Month  Year   Dayweek   Time Crash Type Bus Involvement  \\\n",
       "0   VIC      9  2021    Sunday   0:30     Single             NaN   \n",
       "1    SA      9  2021  Saturday  23:31   Multiple              No   \n",
       "2   VIC      9  2021  Saturday  23:00     Single             NaN   \n",
       "3   VIC      9  2021  Saturday  22:25     Single             NaN   \n",
       "4   VIC      9  2021  Saturday   5:15     Single             NaN   \n",
       "\n",
       "  Articulated Truck Involvement Speed Limit         Road User  Gender  Age  \\\n",
       "0                           NaN         NaN  Motorcycle rider    Male   38   \n",
       "1                            No         110        Pedestrian  Female   28   \n",
       "2                           NaN         NaN         Passenger    Male   19   \n",
       "3                           NaN         NaN            Driver    Male   23   \n",
       "4                           NaN         NaN  Motorcycle rider    Male   46   \n",
       "\n",
       "  Christmas Period Easter Period Age Group Day of week Time of day  \n",
       "0               No            No  26_to_39     Weekend       Night  \n",
       "1               No            No  26_to_39     Weekend       Night  \n",
       "2               No            No  17_to_25     Weekend       Night  \n",
       "3               No            No  17_to_25     Weekend       Night  \n",
       "4               No            No  40_to_64     Weekend       Night  "
      ]
     },
     "execution_count": 12,
     "metadata": {},
     "output_type": "execute_result"
    }
   ],
   "source": [
    "data.head()"
   ]
  },
  {
   "cell_type": "code",
   "execution_count": 16,
   "metadata": {},
   "outputs": [
    {
     "data": {
      "text/plain": [
       "1     4329\n",
       "2     3975\n",
       "3     4673\n",
       "4     4298\n",
       "5     4447\n",
       "6     4333\n",
       "7     4321\n",
       "8     4512\n",
       "9     4337\n",
       "10    4509\n",
       "11    4388\n",
       "12    4721\n",
       "Name: Month, dtype: int64"
      ]
     },
     "execution_count": 16,
     "metadata": {},
     "output_type": "execute_result"
    }
   ],
   "source": [
    "data['Month'].value_counts().sort_index()"
   ]
  },
  {
   "cell_type": "code",
   "execution_count": 17,
   "metadata": {},
   "outputs": [
    {
     "data": {
      "text/plain": [
       "<AxesSubplot:>"
      ]
     },
     "execution_count": 17,
     "metadata": {},
     "output_type": "execute_result"
    },
    {
     "data": {
      "image/png": "[encoded data removed]",
      "text/plain": [
       "<Figure size 432x288 with 1 Axes>"
      ]
     },
     "metadata": {
      "needs_background": "light"
     },
     "output_type": "display_data"
    }
   ],
   "source": [
    "data['Month'].value_counts().sort_index().plot(kind='bar')"
   ]
  },
  {
   "cell_type": "code",
   "execution_count": 23,
   "metadata": {},
   "outputs": [
    {
     "data": {
      "text/plain": [
       "<AxesSubplot:>"
      ]
     },
     "execution_count": 23,
     "metadata": {},
     "output_type": "execute_result"
    },
    {
     "data": {
      "image/png": "[encoded data removed]",
      "text/plain": [
       "<Figure size 432x288 with 1 Axes>"
      ]
     },
     "metadata": {
      "needs_background": "light"
     },
     "output_type": "display_data"
    }
   ],
   "source": [
    "data['Year'].value_counts().sort_index().plot(kind='bar')"
   ]
  },
  {
   "cell_type": "code",
   "execution_count": null,
   "metadata": {},
   "outputs": [],
   "source": []
  },
  {
   "cell_type": "code",
   "execution_count": 90,
   "metadata": {},
   "outputs": [
    {
     "data": {
      "text/plain": [
       "'15:00'"
      ]
     },
     "execution_count": 90,
     "metadata": {},
     "output_type": "execute_result"
    }
   ],
   "source": [
    "data['Time'].mode()[0]"
   ]
  },
  {
   "cell_type": "code",
   "execution_count": 91,
   "metadata": {},
   "outputs": [],
   "source": [
    "data['Time'].fillna(data['Time'].mode()[0], inplace=True)"
   ]
  },
  {
   "cell_type": "code",
   "execution_count": 92,
   "metadata": {},
   "outputs": [
    {
     "data": {
      "text/plain": [
       "0"
      ]
     },
     "execution_count": 92,
     "metadata": {},
     "output_type": "execute_result"
    }
   ],
   "source": [
    "data['Time'].isnull().sum()"
   ]
  },
  {
   "cell_type": "code",
   "execution_count": 93,
   "metadata": {},
   "outputs": [
    {
     "data": {
      "text/plain": [
       "Crash ID                           0\n",
       "State                              0\n",
       "Month                              0\n",
       "Year                               0\n",
       "Dayweek                            0\n",
       "Time                               0\n",
       "Crash Type                         0\n",
       "Bus Involvement                   22\n",
       "Articulated Truck Involvement     22\n",
       "Speed Limit                      702\n",
       "Road User                          0\n",
       "Gender                            27\n",
       "Age                                0\n",
       "Christmas Period                   0\n",
       "Easter Period                      0\n",
       "Age Group                         90\n",
       "Day of week                        0\n",
       "Time of day                        0\n",
       "dtype: int64"
      ]
     },
     "execution_count": 93,
     "metadata": {},
     "output_type": "execute_result"
    }
   ],
   "source": [
    "data.isnull().sum()"
   ]
  },
  {
   "cell_type": "code",
   "execution_count": 94,
   "metadata": {},
   "outputs": [],
   "source": [
    "data['Bus Involvement'].fillna('Yes', inplace=True)"
   ]
  },
  {
   "cell_type": "code",
   "execution_count": 95,
   "metadata": {},
   "outputs": [
    {
     "data": {
      "text/plain": [
       "Crash ID                           0\n",
       "State                              0\n",
       "Month                              0\n",
       "Year                               0\n",
       "Dayweek                            0\n",
       "Time                               0\n",
       "Crash Type                         0\n",
       "Bus Involvement                    0\n",
       "Articulated Truck Involvement     22\n",
       "Speed Limit                      702\n",
       "Road User                          0\n",
       "Gender                            27\n",
       "Age                                0\n",
       "Christmas Period                   0\n",
       "Easter Period                      0\n",
       "Age Group                         90\n",
       "Day of week                        0\n",
       "Time of day                        0\n",
       "dtype: int64"
      ]
     },
     "execution_count": 95,
     "metadata": {},
     "output_type": "execute_result"
    }
   ],
   "source": [
    "data.isnull().sum()"
   ]
  },
  {
   "cell_type": "code",
   "execution_count": 96,
   "metadata": {},
   "outputs": [
    {
     "data": {
      "text/plain": [
       "No     47476\n",
       "Yes     5367\n",
       "Name: Articulated Truck Involvement, dtype: int64"
      ]
     },
     "execution_count": 96,
     "metadata": {},
     "output_type": "execute_result"
    }
   ],
   "source": [
    "data['Articulated Truck Involvement'].fillna('Yes', inplace=True)\n",
    "data['Articulated Truck Involvement'].value_counts()"
   ]
  },
  {
   "cell_type": "code",
   "execution_count": 97,
   "metadata": {},
   "outputs": [
    {
     "data": {
      "text/plain": [
       "Crash ID                           0\n",
       "State                              0\n",
       "Month                              0\n",
       "Year                               0\n",
       "Dayweek                            0\n",
       "Time                               0\n",
       "Crash Type                         0\n",
       "Bus Involvement                    0\n",
       "Articulated Truck Involvement      0\n",
       "Speed Limit                      702\n",
       "Road User                          0\n",
       "Gender                            27\n",
       "Age                                0\n",
       "Christmas Period                   0\n",
       "Easter Period                      0\n",
       "Age Group                         90\n",
       "Day of week                        0\n",
       "Time of day                        0\n",
       "dtype: int64"
      ]
     },
     "execution_count": 97,
     "metadata": {},
     "output_type": "execute_result"
    }
   ],
   "source": [
    "data.isnull().sum()"
   ]
  },
  {
   "cell_type": "code",
   "execution_count": 98,
   "metadata": {},
   "outputs": [
    {
     "data": {
      "text/plain": [
       "100            18248\n",
       "60             13686\n",
       "80              6119\n",
       "110             6038\n",
       "50              2903\n",
       "70              2538\n",
       "90              1137\n",
       "-9               684\n",
       "40               346\n",
       "75               254\n",
       "130              116\n",
       "20                27\n",
       "10                18\n",
       "30                14\n",
       "<40                5\n",
       "5                  3\n",
       "25                 2\n",
       "Unspecified        2\n",
       "15                 1\n",
       "Name: Speed Limit, dtype: int64"
      ]
     },
     "execution_count": 98,
     "metadata": {},
     "output_type": "execute_result"
    }
   ],
   "source": [
    "data['Speed Limit'].value_counts()"
   ]
  },
  {
   "cell_type": "code",
   "execution_count": 99,
   "metadata": {},
   "outputs": [],
   "source": [
    "data[data['Speed Limit'] == '-9'] = 20\n",
    "data[data['Speed Limit'] == '<40'] = 40\n",
    "data[data['Speed Limit'] == 'Unspecified'] = 10"
   ]
  },
  {
   "cell_type": "code",
   "execution_count": 100,
   "metadata": {},
   "outputs": [],
   "source": [
    "data['Speed Limit'].fillna(data['Speed Limit'].mode()[0], inplace=True)"
   ]
  },
  {
   "cell_type": "code",
   "execution_count": 101,
   "metadata": {},
   "outputs": [
    {
     "data": {
      "text/plain": [
       "0"
      ]
     },
     "execution_count": 101,
     "metadata": {},
     "output_type": "execute_result"
    }
   ],
   "source": [
    "data['Speed Limit'].isnull().sum()"
   ]
  },
  {
   "cell_type": "code",
   "execution_count": 102,
   "metadata": {},
   "outputs": [
    {
     "data": {
      "text/plain": [
       "100    18950\n",
       "60     13686\n",
       "80      6119\n",
       "110     6038\n",
       "50      2903\n",
       "70      2538\n",
       "90      1137\n",
       "20       684\n",
       "40       346\n",
       "75       254\n",
       "130      116\n",
       "20        27\n",
       "10        18\n",
       "30        14\n",
       "40         5\n",
       "5          3\n",
       "25         2\n",
       "10         2\n",
       "15         1\n",
       "Name: Speed Limit, dtype: int64"
      ]
     },
     "execution_count": 102,
     "metadata": {},
     "output_type": "execute_result"
    }
   ],
   "source": [
    "data['Speed Limit'].value_counts()"
   ]
  },
  {
   "cell_type": "code",
   "execution_count": 103,
   "metadata": {},
   "outputs": [
    {
     "data": {
      "text/plain": [
       "<AxesSubplot:>"
      ]
     },
     "execution_count": 103,
     "metadata": {},
     "output_type": "execute_result"
    },
    {
     "data": {
      "image/png": "[encoded data removed]",
      "text/plain": [
       "<Figure size 432x288 with 1 Axes>"
      ]
     },
     "metadata": {
      "needs_background": "light"
     },
     "output_type": "display_data"
    }
   ],
   "source": [
    "data['Speed Limit'].value_counts().plot(kind='bar')"
   ]
  }
 ],
 "metadata": {
  "interpreter": {
   "hash": "745580af149099085c602309336f96fdb3d04063157b41704fe01950326166b1"
  },
  "kernelspec": {
   "display_name": "Python 3.8.8 64-bit ('base': conda)",
   "name": "python3"
  },
  "language_info": {
   "codemirror_mode": {
    "name": "ipython",
    "version": 3
   },
   "file_extension": ".py",
   "mimetype": "text/x-python",
   "name": "python",
   "nbconvert_exporter": "python",
   "pygments_lexer": "ipython3",
   "version": "3.8.8"
  },
  "orig_nbformat": 4
 },
 "nbformat": 4,
 "nbformat_minor": 2
}

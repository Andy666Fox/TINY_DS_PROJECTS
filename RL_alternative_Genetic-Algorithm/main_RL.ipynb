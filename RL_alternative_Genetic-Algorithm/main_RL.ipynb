{
 "cells": [
  {
   "cell_type": "code",
   "execution_count": 2,
   "metadata": {},
   "outputs": [],
   "source": [
    "import numpy as np\n",
    "import gym\n",
    "\n",
    "import seaborn as sns\n",
    "from tqdm.notebook import tqdm\n",
    "import matplotlib.pyplot as plt \n",
    "\n",
    "%matplotlib inline\n",
    "\n",
    "from toolz import curry, do \n",
    "from functools import partial\n",
    "from copy import deepcopy \n",
    "\n",
    "from sklearn.neighbors import NearestNeighbors\n",
    "from scipy.spatial import distance"
   ]
  },
  {
   "cell_type": "code",
   "execution_count": 3,
   "metadata": {},
   "outputs": [
    {
     "name": "stdout",
     "output_type": "stream",
     "text": [
      "device is cpu\n"
     ]
    }
   ],
   "source": [
    "import torch\n",
    "import torch.nn as nn\n",
    "\n",
    "GPU = False\n",
    "\n",
    "device = 'cuda:0' if GPU and torch.cuda.is_available() else 'cpu'\n",
    "\n",
    "print(f'device is {device}')"
   ]
  },
  {
   "cell_type": "code",
   "execution_count": 4,
   "metadata": {},
   "outputs": [],
   "source": [
    "class LinearPolicy(nn.Module):\n",
    "    \n",
    "    def __init__(self, input_dim, output_dim):\n",
    "        super(LinearPolicy, self).__init__()\n",
    "        \n",
    "        self.net = torch.nn.Sequential(\n",
    "            torch.nn.Linear(input_dim, 256),\n",
    "            torch.nn.ReLU(),\n",
    "            torch.nn.Linear(256, 512),\n",
    "            torch.nn.ReLU(),\n",
    "            torch.nn.Linear(512, output_dim)).to(device)\n",
    "        \n",
    "    def forward(self, x):\n",
    "        action_values = self.net(x)\n",
    "        \n",
    "        return action_values"
   ]
  },
  {
   "cell_type": "code",
   "execution_count": 5,
   "metadata": {},
   "outputs": [],
   "source": [
    "class Agent():\n",
    "    def __init__(self, policy):\n",
    "        self.policy = policy\n",
    "        \n",
    "    def act(self, observation):\n",
    "        action_values = self.policy.forward(torch.Tensor(observation).to(device))\n",
    "        action = torch.argmax(action_values).item()\n",
    "\n",
    "        return action"
   ]
  },
  {
   "cell_type": "code",
   "execution_count": 6,
   "metadata": {},
   "outputs": [],
   "source": [
    "def episode(env: gym.Env, agent: Agent, visualize=False):\n",
    "    rewards = 0\n",
    "    \n",
    "    observation = env.reset()\n",
    "    done = False\n",
    "    \n",
    "    while not done:\n",
    "        if visualize:\n",
    "            env.render()\n",
    "            \n",
    "        action = agent.act(observation)\n",
    "        observation, reward, done, info = env.step(action)\n",
    "        rewards += reward\n",
    "        \n",
    "    return rewards"
   ]
  },
  {
   "cell_type": "code",
   "execution_count": 7,
   "metadata": {},
   "outputs": [
    {
     "name": "stdout",
     "output_type": "stream",
     "text": [
      "Sum rewards: 9.0\n"
     ]
    }
   ],
   "source": [
    "env = gym.make('CartPole-v0')\n",
    "\n",
    "policy = LinearPolicy(sum(env.observation_space.shape), env.action_space.n)\n",
    "agent = Agent(policy)\n",
    "\n",
    "print(f'Sum rewards: {episode(env, agent, visualize=False)}')"
   ]
  },
  {
   "cell_type": "code",
   "execution_count": 13,
   "metadata": {},
   "outputs": [],
   "source": [
    "class GA:\n",
    "    \n",
    "    def __init__(self, pop_size, survivors_selector, mutator, initializer, fitness):\n",
    "        self.pop_size = pop_size\n",
    "        self.initializer = initializer\n",
    "        self.mutator = mutator\n",
    "        self.fitness = fitness\n",
    "        self.survivors_selector = survivors_selector\n",
    "        \n",
    "        self.population = None\n",
    "        self.population_fitness = None\n",
    "        self.elite = None\n",
    "        self.elite_fitness = None\n",
    "        \n",
    "    def next_generation(self):\n",
    "        if not self.population:\n",
    "            self.population = [self.initializer() for _ in range(self.pop_size)]\n",
    "        else:\n",
    "            survivors = self.survivors_selector(self.population, self.population_fitness)\n",
    "            parents = np.random.choice(survivors, self.pop_size - 1, replace=True) # 1 for the elite\n",
    "            \n",
    "            children = [do(self.mutator, deepcopy(parent)) for parent in parents]\n",
    "            self.population = [self.elite] + children # elitism - elite stays as is without mutations\n",
    "            \n",
    "        self.population_fitness = [self.fitness(specimen) for specimen in tqdm(self.population)]\n",
    "        \n",
    "        elite_idx = np.argmax(self.population_fitness)\n",
    "        self.elite = self.population[elite_idx]\n",
    "        self.elite_fitness = self.population_fitness[elite_idx]"
   ]
  },
  {
   "cell_type": "code",
   "execution_count": 14,
   "metadata": {},
   "outputs": [],
   "source": [
    "@curry\n",
    "def fitness(robustness, env, specimen):\n",
    "    episode_rewards = [episode(env, specimen) for _ in range(robustness)]\n",
    "    \n",
    "    return sum(episode_rewards) / len(episode_rewards)\n",
    "\n",
    "def initializer(env):\n",
    "    policy = LinearPolicy(sum(env.observation_space.shape), env.action_space.n)\n",
    "    agent = Agent(policy)\n",
    "    \n",
    "    return agent\n",
    "\n",
    "@curry\n",
    "def mutator(mutation_strength, agent):\n",
    "    genome = nn.utils.parameters_to_vector(agent.policy.parameters())\n",
    "    noise = torch.randn(genome.shape).to(device) * mutation_strength\n",
    "    \n",
    "    genome += noise\n",
    "    torch.nn.utils.vector_to_parameters(genome, agent.policy.parameters())\n",
    "    \n",
    "@curry\n",
    "def survivors_selection(truncation_len, population, fitnesses):\n",
    "    fitness_pop = sorted(zip(fitnesses, population), reverse=True, key=lambda fit_pop: fit_pop[0])\n",
    "    pop = [specimen for fit, specimen in fitness_pop]\n",
    "    \n",
    "    return pop[:truncation_len]"
   ]
  },
  {
   "cell_type": "code",
   "execution_count": 15,
   "metadata": {},
   "outputs": [],
   "source": [
    "popsize = 50\n",
    "mutation_strength = 0.003\n",
    "truncation_length = 10\n",
    "fit_robustness = 5\n",
    "n_generations = 20\n",
    "\n",
    "env = gym.make('Acrobot-v1')"
   ]
  },
  {
   "cell_type": "code",
   "execution_count": 16,
   "metadata": {},
   "outputs": [
    {
     "data": {
      "application/vnd.jupyter.widget-view+json": {
       "model_id": "8db1d42832bf48dba7d3f8fc0ec89e1d",
       "version_major": 2,
       "version_minor": 0
      },
      "text/plain": [
       "  0%|          | 0/20 [00:00<?, ?it/s]"
      ]
     },
     "metadata": {},
     "output_type": "display_data"
    },
    {
     "data": {
      "application/vnd.jupyter.widget-view+json": {
       "model_id": "83ea62dd170f4ccab03ecc7c119bd9ce",
       "version_major": 2,
       "version_minor": 0
      },
      "text/plain": [
       "  0%|          | 0/50 [00:00<?, ?it/s]"
      ]
     },
     "metadata": {},
     "output_type": "display_data"
    },
    {
     "name": "stdout",
     "output_type": "stream",
     "text": [
      "generation 0 fitness -96.0\n"
     ]
    },
    {
     "data": {
      "application/vnd.jupyter.widget-view+json": {
       "model_id": "f0caae8e00d146c385c2ff7cde40657e",
       "version_major": 2,
       "version_minor": 0
      },
      "text/plain": [
       "  0%|          | 0/50 [00:00<?, ?it/s]"
      ]
     },
     "metadata": {},
     "output_type": "display_data"
    },
    {
     "name": "stdout",
     "output_type": "stream",
     "text": [
      "generation 1 fitness -89.6\n"
     ]
    },
    {
     "data": {
      "application/vnd.jupyter.widget-view+json": {
       "model_id": "b55644bae5314e45b97328112facca1a",
       "version_major": 2,
       "version_minor": 0
      },
      "text/plain": [
       "  0%|          | 0/50 [00:00<?, ?it/s]"
      ]
     },
     "metadata": {},
     "output_type": "display_data"
    },
    {
     "name": "stdout",
     "output_type": "stream",
     "text": [
      "generation 2 fitness -85.2\n"
     ]
    },
    {
     "data": {
      "application/vnd.jupyter.widget-view+json": {
       "model_id": "30c2a4d086e143bf858024e116c3aeaa",
       "version_major": 2,
       "version_minor": 0
      },
      "text/plain": [
       "  0%|          | 0/50 [00:00<?, ?it/s]"
      ]
     },
     "metadata": {},
     "output_type": "display_data"
    },
    {
     "name": "stdout",
     "output_type": "stream",
     "text": [
      "generation 3 fitness -81.6\n"
     ]
    },
    {
     "data": {
      "application/vnd.jupyter.widget-view+json": {
       "model_id": "c7ae0b4b832c45e8ada767afea3b431a",
       "version_major": 2,
       "version_minor": 0
      },
      "text/plain": [
       "  0%|          | 0/50 [00:00<?, ?it/s]"
      ]
     },
     "metadata": {},
     "output_type": "display_data"
    },
    {
     "name": "stdout",
     "output_type": "stream",
     "text": [
      "generation 4 fitness -80.0\n"
     ]
    },
    {
     "data": {
      "application/vnd.jupyter.widget-view+json": {
       "model_id": "b8c5093c1fe24096a3ddc8dd43b47bf7",
       "version_major": 2,
       "version_minor": 0
      },
      "text/plain": [
       "  0%|          | 0/50 [00:00<?, ?it/s]"
      ]
     },
     "metadata": {},
     "output_type": "display_data"
    }
   ],
   "source": [
    "torch.autograd.set_grad_enabled(False)\n",
    "\n",
    "fitness_log = []\n",
    "ga = GA(\n",
    "    pop_size=popsize,\n",
    "    initializer=partial(initializer, env),\n",
    "    fitness=fitness(fit_robustness, env),\n",
    "    survivors_selector = survivors_selection(truncation_length),\n",
    "    mutator=mutator(mutation_strength)\n",
    ")\n",
    "\n",
    "for gen in tqdm(range(n_generations)):\n",
    "    ga.next_generation()\n",
    "    print(f'generation {gen} fitness {ga.elite_fitness}')\n",
    "    fitness_log.append(ga.elite_fitness)"
   ]
  },
  {
   "cell_type": "code",
   "execution_count": null,
   "metadata": {},
   "outputs": [],
   "source": []
  },
  {
   "cell_type": "code",
   "execution_count": null,
   "metadata": {},
   "outputs": [],
   "source": []
  },
  {
   "cell_type": "code",
   "execution_count": null,
   "metadata": {},
   "outputs": [],
   "source": []
  }
 ],
 "metadata": {
  "interpreter": {
   "hash": "745580af149099085c602309336f96fdb3d04063157b41704fe01950326166b1"
  },
  "kernelspec": {
   "display_name": "Python 3.8.8 ('base')",
   "language": "python",
   "name": "python3"
  },
  "language_info": {
   "codemirror_mode": {
    "name": "ipython",
    "version": 3
   },
   "file_extension": ".py",
   "mimetype": "text/x-python",
   "name": "python",
   "nbconvert_exporter": "python",
   "pygments_lexer": "ipython3",
   "version": "3.8.8"
  },
  "orig_nbformat": 4
 },
 "nbformat": 4,
 "nbformat_minor": 2
}
